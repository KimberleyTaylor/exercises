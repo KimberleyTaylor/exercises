{
 "cells": [
  {
   "cell_type": "markdown",
   "id": "white-september",
   "metadata": {},
   "source": [
    "# Feature Selection\n",
    "- Univariate Feature Selection\n",
    "5. **ordinal_log**"
   ]
  },
  {
   "cell_type": "code",
   "execution_count": 1,
   "id": "civic-split",
   "metadata": {
    "ExecuteTime": {
     "end_time": "2021-02-18T11:02:01.434310Z",
     "start_time": "2021-02-18T11:02:01.426647Z"
    }
   },
   "outputs": [],
   "source": [
    "import warnings\n",
    "warnings.filterwarnings(\"ignore\")"
   ]
  },
  {
   "cell_type": "code",
   "execution_count": 2,
   "id": "offensive-trash",
   "metadata": {
    "ExecuteTime": {
     "end_time": "2021-02-18T11:02:10.453509Z",
     "start_time": "2021-02-18T11:02:10.029354Z"
    }
   },
   "outputs": [],
   "source": [
    "import pandas as pd\n",
    "import numpy as np\n",
    "from sklearn.feature_selection import SelectKBest, f_classif"
   ]
  },
  {
   "cell_type": "code",
   "execution_count": 3,
   "id": "exposed-transparency",
   "metadata": {
    "ExecuteTime": {
     "end_time": "2021-02-18T11:02:35.970071Z",
     "start_time": "2021-02-18T11:02:33.430321Z"
    }
   },
   "outputs": [],
   "source": [
    "fulldf_ordinal_log = pd.read_csv(\"../../../../csv_files/train/full_train/full_train_combinations/fulldf_ordinal_log.csv\", index_col=\"Unnamed: 0\")"
   ]
  },
  {
   "cell_type": "code",
   "execution_count": 4,
   "id": "direct-grant",
   "metadata": {
    "ExecuteTime": {
     "end_time": "2021-02-18T11:02:55.852479Z",
     "start_time": "2021-02-18T11:02:53.964721Z"
    }
   },
   "outputs": [],
   "source": [
    "testdf_ordinal_log = pd.read_csv(\"../../../../csv_files/test/full_test/full_test_combinations/testdf_ordinal_log.csv\", index_col=\"Unnamed: 0\")"
   ]
  },
  {
   "cell_type": "code",
   "execution_count": null,
   "id": "minute-prospect",
   "metadata": {},
   "outputs": [],
   "source": [
    "feature_train = fulldf_ordinal_log.columns.drop(['target', 'id'])\n",
    "\n",
    "# Keep 10 features\n",
    "selector = SelectKBest(f_classif, k=10)\n",
    "\n",
    "X_train = selector.fit_transform(fulldf_ordinal_log[feature_train], fulldf_ordinal_log['target'])\n",
    "\n",
    "X_train"
   ]
  },
  {
   "cell_type": "code",
   "execution_count": null,
   "id": "developing-christianity",
   "metadata": {},
   "outputs": [],
   "source": [
    "feature_test = testdf_ordinal_log.columns.drop(\"id\")\n",
    "X_test = selector.transform(testdf_ordinal_log[feature_test])\n",
    "X_test"
   ]
  },
  {
   "cell_type": "code",
   "execution_count": null,
   "id": "after-sense",
   "metadata": {},
   "outputs": [],
   "source": [
    "# Get back the features we've kept, zero out all other features\n",
    "selected_features_train = pd.DataFrame(selector.inverse_transform(X_train), \n",
    "                                 index=fulldf_ordinal_log.index, \n",
    "                                 columns=feature_train)\n",
    "selected_features_train"
   ]
  },
  {
   "cell_type": "code",
   "execution_count": null,
   "id": "grateful-jewelry",
   "metadata": {},
   "outputs": [],
   "source": [
    "# Get back the features we've kept, zero out all other features\n",
    "selected_features_test = pd.DataFrame(selector.inverse_transform(X_test), \n",
    "                                 index=testdf_ordinal_log.index, \n",
    "                                 columns=feature_test)\n",
    "selected_features_test"
   ]
  },
  {
   "cell_type": "code",
   "execution_count": null,
   "id": "czech-hypothesis",
   "metadata": {},
   "outputs": [],
   "source": [
    "# Dropped columns have values of all 0s, so var is 0, drop them\n",
    "selected_columns_train = selected_features_train.columns[selected_features_train.var() != 0]\n",
    "\n",
    "# Get the valid dataset with the selected features.\n",
    "train_ordinal_log = fulldf_ordinal_log[selected_columns_train]\n",
    "train_ordinal_log"
   ]
  },
  {
   "cell_type": "code",
   "execution_count": null,
   "id": "accessible-display",
   "metadata": {},
   "outputs": [],
   "source": [
    "# Dropped columns have values of all 0s, so var is 0, drop them\n",
    "selected_columns_test = selected_features_test.columns[selected_features_test.var() != 0]\n",
    "\n",
    "# Get the valid dataset with the selected features.\n",
    "test_ordinal_log = testdf_ordinal_log[selected_columns_test]\n",
    "test_ordinal_log"
   ]
  },
  {
   "cell_type": "code",
   "execution_count": null,
   "id": "rocky-rates",
   "metadata": {},
   "outputs": [],
   "source": [
    "target = fulldf_ordinal_log[[\"id\", \"target\"]]"
   ]
  },
  {
   "cell_type": "code",
   "execution_count": null,
   "id": "interpreted-drama",
   "metadata": {},
   "outputs": [],
   "source": [
    "i_d = pd.DataFrame(testdf_ordinal_log[\"id\"])"
   ]
  },
  {
   "cell_type": "code",
   "execution_count": null,
   "id": "lightweight-dance",
   "metadata": {},
   "outputs": [],
   "source": [
    "train_ordinal_log = pd.merge(train_ordinal_log, target, left_index=True, right_index=True)\n",
    "train_ordinal_log"
   ]
  },
  {
   "cell_type": "code",
   "execution_count": null,
   "id": "gothic-fifteen",
   "metadata": {},
   "outputs": [],
   "source": [
    "test_ordinal_log = pd.merge(test_ordinal_log, i_d, left_index=True, right_index=True)\n",
    "test_ordinal_log"
   ]
  },
  {
   "cell_type": "code",
   "execution_count": null,
   "id": "indonesian-harris",
   "metadata": {},
   "outputs": [],
   "source": [
    "train_ordinal_log.to_csv(\"train_ordinal_log.csv\")"
   ]
  },
  {
   "cell_type": "code",
   "execution_count": null,
   "id": "qualified-moisture",
   "metadata": {},
   "outputs": [],
   "source": [
    "test_ordinal_log.to_csv(\"test_ordinal_log.csv\")"
   ]
  }
 ],
 "metadata": {
  "kernelspec": {
   "display_name": "Python 3",
   "language": "python",
   "name": "python3"
  },
  "language_info": {
   "codemirror_mode": {
    "name": "ipython",
    "version": 3
   },
   "file_extension": ".py",
   "mimetype": "text/x-python",
   "name": "python",
   "nbconvert_exporter": "python",
   "pygments_lexer": "ipython3",
   "version": "3.8.3"
  }
 },
 "nbformat": 4,
 "nbformat_minor": 5
}
