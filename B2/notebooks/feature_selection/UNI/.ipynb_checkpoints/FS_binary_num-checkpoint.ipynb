{
 "cells": [
  {
   "cell_type": "markdown",
   "metadata": {},
   "source": [
    "# Feature Selection\n",
    "- Univariate Feature Selection\n",
    "2. **binary_num:**"
   ]
  },
  {
   "cell_type": "code",
   "execution_count": 1,
   "metadata": {},
   "outputs": [],
   "source": [
    "import warnings\n",
    "warnings.filterwarnings(\"ignore\")"
   ]
  },
  {
   "cell_type": "code",
   "execution_count": 2,
   "metadata": {},
   "outputs": [],
   "source": [
    "import pandas as pd\n",
    "import numpy as np\n",
    "from sklearn.feature_selection import SelectKBest, f_classif"
   ]
  },
  {
   "cell_type": "code",
   "execution_count": 4,
   "metadata": {},
   "outputs": [],
   "source": [
    "fulldf_binary_num = pd.read_csv(\"../../../../csv_files/train/full_train/full_train_combinations/fulldf_binary_num.csv\", index_col=\"Unnamed: 0\")"
   ]
  },
  {
   "cell_type": "code",
   "execution_count": 5,
   "metadata": {},
   "outputs": [],
   "source": [
    "testdf_binary_num = pd.read_csv(\"../../../../csv_files/test/full_test/full_test_combinations/testdf_binary_num.csv\", index_col=\"Unnamed: 0\")"
   ]
  },
  {
   "cell_type": "code",
   "execution_count": null,
   "metadata": {},
   "outputs": [],
   "source": [
    "feature_train = fulldf_binary_num.columns.drop(['target', 'id'])\n",
    "\n",
    "# Keep 10 features\n",
    "selector = SelectKBest(f_classif, k=10)\n",
    "\n",
    "X_train = selector.fit_transform(fulldf_binary_num[feature_train], fulldf_binary_num['target'])\n",
    "\n",
    "X_train"
   ]
  },
  {
   "cell_type": "code",
   "execution_count": null,
   "metadata": {},
   "outputs": [],
   "source": [
    "feature_test = testdf_binary_num.columns.drop(\"id\")\n",
    "X_test = selector.transform(testdf_binary_num[feature_test])\n",
    "X_test"
   ]
  },
  {
   "cell_type": "code",
   "execution_count": null,
   "metadata": {},
   "outputs": [],
   "source": [
    "# Get back the features we've kept, zero out all other features\n",
    "selected_features_train = pd.DataFrame(selector.inverse_transform(X_train), \n",
    "                                 index=fulldf_binary_num.index, \n",
    "                                 columns=feature_train)\n",
    "selected_features_train"
   ]
  },
  {
   "cell_type": "code",
   "execution_count": null,
   "metadata": {},
   "outputs": [],
   "source": [
    "# Get back the features we've kept, zero out all other features\n",
    "selected_features_test = pd.DataFrame(selector.inverse_transform(X_test), \n",
    "                                 index=testdf_binary_num.index, \n",
    "                                 columns=feature_test)\n",
    "selected_features_test"
   ]
  },
  {
   "cell_type": "code",
   "execution_count": null,
   "metadata": {},
   "outputs": [],
   "source": [
    "# Dropped columns have values of all 0s, so var is 0, drop them\n",
    "selected_columns_train = selected_features_train.columns[selected_features_train.var() != 0]\n",
    "\n",
    "# Get the valid dataset with the selected features.\n",
    "train_binary_num = fulldf_binary_num[selected_columns_train]\n",
    "train_binary_num"
   ]
  },
  {
   "cell_type": "code",
   "execution_count": null,
   "metadata": {},
   "outputs": [],
   "source": [
    "# Dropped columns have values of all 0s, so var is 0, drop them\n",
    "selected_columns_test = selected_features_test.columns[selected_features_test.var() != 0]\n",
    "\n",
    "# Get the valid dataset with the selected features.\n",
    "test_binary_num = testdf_binary_num[selected_columns_test]\n",
    "test_binary_num"
   ]
  },
  {
   "cell_type": "code",
   "execution_count": null,
   "metadata": {},
   "outputs": [],
   "source": [
    "target = fulldf_binary_num[[\"id\", \"target\"]]"
   ]
  },
  {
   "cell_type": "code",
   "execution_count": null,
   "metadata": {},
   "outputs": [],
   "source": [
    "i_d = pd.DataFrame(testdf_binary_num[\"id\"])"
   ]
  },
  {
   "cell_type": "code",
   "execution_count": null,
   "metadata": {},
   "outputs": [],
   "source": [
    "train_binary_num = pd.merge(train_binary_num, target, left_index=True, right_index=True)\n",
    "train_binary_num"
   ]
  },
  {
   "cell_type": "code",
   "execution_count": null,
   "metadata": {},
   "outputs": [],
   "source": [
    "test_binary_num = pd.merge(test_binary_num, i_d, left_index=True, right_index=True)\n",
    "test_binary_num"
   ]
  },
  {
   "cell_type": "code",
   "execution_count": null,
   "metadata": {},
   "outputs": [],
   "source": [
    "train_binary_num.to_csv(\"train_binary_num.csv\")"
   ]
  },
  {
   "cell_type": "code",
   "execution_count": null,
   "metadata": {},
   "outputs": [],
   "source": [
    "test_binary_num.to_csv(\"test_binary_num.csv\")"
   ]
  }
 ],
 "metadata": {
  "kernelspec": {
   "display_name": "Python 3",
   "language": "python",
   "name": "python3"
  },
  "language_info": {
   "codemirror_mode": {
    "name": "ipython",
    "version": 3
   },
   "file_extension": ".py",
   "mimetype": "text/x-python",
   "name": "python",
   "nbconvert_exporter": "python",
   "pygments_lexer": "ipython3",
   "version": "3.8.3"
  }
 },
 "nbformat": 4,
 "nbformat_minor": 4
}
