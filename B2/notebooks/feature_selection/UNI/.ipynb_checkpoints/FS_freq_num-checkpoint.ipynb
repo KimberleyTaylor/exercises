{
 "cells": [
  {
   "cell_type": "markdown",
   "id": "swedish-kingdom",
   "metadata": {},
   "source": [
    "# Feature Selection\n",
    "- Univariate Feature Selection\n",
    "4. **freq_num**"
   ]
  },
  {
   "cell_type": "code",
   "execution_count": 1,
   "id": "objective-sellers",
   "metadata": {
    "ExecuteTime": {
     "end_time": "2021-02-18T11:29:04.867917Z",
     "start_time": "2021-02-18T11:29:04.863227Z"
    }
   },
   "outputs": [],
   "source": [
    "import warnings\n",
    "warnings.filterwarnings(\"ignore\")"
   ]
  },
  {
   "cell_type": "code",
   "execution_count": 2,
   "id": "nutritional-woman",
   "metadata": {
    "ExecuteTime": {
     "end_time": "2021-02-18T11:29:07.159759Z",
     "start_time": "2021-02-18T11:29:05.583028Z"
    }
   },
   "outputs": [],
   "source": [
    "import pandas as pd\n",
    "import numpy as np\n",
    "from sklearn.feature_selection import SelectKBest, f_classif"
   ]
  },
  {
   "cell_type": "code",
   "execution_count": 3,
   "id": "laughing-entry",
   "metadata": {
    "ExecuteTime": {
     "end_time": "2021-02-18T11:29:14.961252Z",
     "start_time": "2021-02-18T11:29:07.678407Z"
    }
   },
   "outputs": [],
   "source": [
    "fulldf_freq_num = pd.read_csv(\"../../../../csv_files/train/full_train/full_train_combinations/fulldf_freq_num.csv\", index_col=\"Unnamed: 0\")"
   ]
  },
  {
   "cell_type": "code",
   "execution_count": 4,
   "id": "animal-eclipse",
   "metadata": {
    "ExecuteTime": {
     "end_time": "2021-02-18T11:29:16.988430Z",
     "start_time": "2021-02-18T11:29:16.006123Z"
    }
   },
   "outputs": [],
   "source": [
    "testdf_freq_num = pd.read_csv(\"../../../../csv_files/test/full_test/full_test_combinations/testdf_freq_num.csv\", index_col=\"Unnamed: 0\")"
   ]
  },
  {
   "cell_type": "code",
   "execution_count": null,
   "id": "tight-validity",
   "metadata": {
    "ExecuteTime": {
     "start_time": "2021-02-18T11:29:17.692Z"
    }
   },
   "outputs": [],
   "source": [
    "feature_train = fulldf_freq_num.columns.drop(['target', 'id'])\n",
    "\n",
    "# Keep 10 features\n",
    "selector = SelectKBest(f_classif, k=10)\n",
    "\n",
    "X_train = selector.fit_transform(fulldf_freq_num[feature_train], fulldf_freq_num['target'])\n",
    "\n",
    "X_train"
   ]
  },
  {
   "cell_type": "code",
   "execution_count": null,
   "id": "biological-return",
   "metadata": {},
   "outputs": [],
   "source": [
    "feature_test = testdf_freq_num.columns.drop(\"id\")\n",
    "X_test = selector.transform(testdf_freq_num[feature_test])\n",
    "X_test"
   ]
  },
  {
   "cell_type": "code",
   "execution_count": null,
   "id": "fifty-hospital",
   "metadata": {},
   "outputs": [],
   "source": [
    "# Get back the features we've kept, zero out all other features\n",
    "selected_features_train = pd.DataFrame(selector.inverse_transform(X_train), \n",
    "                                 index=fulldf_freq_num.index, \n",
    "                                 columns=feature_train)\n",
    "selected_features_train"
   ]
  },
  {
   "cell_type": "code",
   "execution_count": null,
   "id": "roman-amount",
   "metadata": {},
   "outputs": [],
   "source": [
    "# Get back the features we've kept, zero out all other features\n",
    "selected_features_test = pd.DataFrame(selector.inverse_transform(X_test), \n",
    "                                 index=testdf_freq_num.index, \n",
    "                                 columns=feature_test)\n",
    "selected_features_test"
   ]
  },
  {
   "cell_type": "code",
   "execution_count": null,
   "id": "neutral-capital",
   "metadata": {},
   "outputs": [],
   "source": [
    "# Dropped columns have values of all 0s, so var is 0, drop them\n",
    "selected_columns_train = selected_features_train.columns[selected_features_train.var() != 0]\n",
    "\n",
    "# Get the valid dataset with the selected features.\n",
    "train_freq_num = fulldf_freq_num[selected_columns_train]\n",
    "train_freq_num"
   ]
  },
  {
   "cell_type": "code",
   "execution_count": null,
   "id": "living-elevation",
   "metadata": {},
   "outputs": [],
   "source": [
    "# Dropped columns have values of all 0s, so var is 0, drop them\n",
    "selected_columns_test = selected_features_test.columns[selected_features_test.var() != 0]\n",
    "\n",
    "# Get the valid dataset with the selected features.\n",
    "test_freq_num = testdf_freq_num[selected_columns_test]\n",
    "test_freq_num"
   ]
  },
  {
   "cell_type": "code",
   "execution_count": null,
   "id": "northern-business",
   "metadata": {},
   "outputs": [],
   "source": [
    "target = fulldf_freq_num[[\"id\", \"target\"]]"
   ]
  },
  {
   "cell_type": "code",
   "execution_count": null,
   "id": "grateful-junction",
   "metadata": {},
   "outputs": [],
   "source": [
    "i_d = pd.DataFrame(testdf_freq_num[\"id\"])"
   ]
  },
  {
   "cell_type": "code",
   "execution_count": null,
   "id": "after-judges",
   "metadata": {},
   "outputs": [],
   "source": [
    "train_freq_num = pd.merge(train_freq_num, target, left_index=True, right_index=True)\n",
    "train_freq_num"
   ]
  },
  {
   "cell_type": "code",
   "execution_count": null,
   "id": "raised-power",
   "metadata": {},
   "outputs": [],
   "source": [
    "test_freq_num = pd.merge(test_freq_num, i_d, left_index=True, right_index=True)\n",
    "test_freq_num"
   ]
  },
  {
   "cell_type": "code",
   "execution_count": null,
   "id": "sustainable-visitor",
   "metadata": {},
   "outputs": [],
   "source": [
    "train_freq_num.to_csv(\"train_freq_num.csv\")"
   ]
  },
  {
   "cell_type": "code",
   "execution_count": null,
   "id": "worse-astronomy",
   "metadata": {},
   "outputs": [],
   "source": [
    "test_freq_num.to_csv(\"test_freq_num.csv\")"
   ]
  }
 ],
 "metadata": {
  "kernelspec": {
   "display_name": "Python 3",
   "language": "python",
   "name": "python3"
  },
  "language_info": {
   "codemirror_mode": {
    "name": "ipython",
    "version": 3
   },
   "file_extension": ".py",
   "mimetype": "text/x-python",
   "name": "python",
   "nbconvert_exporter": "python",
   "pygments_lexer": "ipython3",
   "version": "3.8.3"
  }
 },
 "nbformat": 4,
 "nbformat_minor": 5
}
