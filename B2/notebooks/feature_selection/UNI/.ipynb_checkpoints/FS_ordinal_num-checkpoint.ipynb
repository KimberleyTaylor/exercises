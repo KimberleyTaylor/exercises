{
 "cells": [
  {
   "cell_type": "markdown",
   "id": "lasting-saying",
   "metadata": {},
   "source": [
    "# Feature Selection\n",
    "- Univariate Feature Selection\n",
    "6. **ordinal_num**"
   ]
  },
  {
   "cell_type": "code",
   "execution_count": 1,
   "id": "latest-ozone",
   "metadata": {
    "ExecuteTime": {
     "end_time": "2021-02-18T11:11:16.881457Z",
     "start_time": "2021-02-18T11:11:16.876072Z"
    }
   },
   "outputs": [],
   "source": [
    "import warnings\n",
    "warnings.filterwarnings(\"ignore\")"
   ]
  },
  {
   "cell_type": "code",
   "execution_count": 2,
   "id": "built-whole",
   "metadata": {
    "ExecuteTime": {
     "end_time": "2021-02-18T11:11:24.904073Z",
     "start_time": "2021-02-18T11:11:24.414654Z"
    }
   },
   "outputs": [],
   "source": [
    "import pandas as pd\n",
    "import numpy as np\n",
    "from sklearn.feature_selection import SelectKBest, f_classif"
   ]
  },
  {
   "cell_type": "code",
   "execution_count": null,
   "id": "congressional-spoke",
   "metadata": {},
   "outputs": [],
   "source": [
    "fulldf_ordinal_num = pd.read_csv(\"../../../../csv_files/train/full_train/full_train_combinations/fulldf_ordinal_num.csv\", index_col=\"Unnamed: 0\")"
   ]
  },
  {
   "cell_type": "code",
   "execution_count": null,
   "id": "conceptual-surrey",
   "metadata": {},
   "outputs": [],
   "source": [
    "testdf_ordinal_num = pd.read_csv(\"../../../../csv_files/test/full_test/full_test_combinations/testdf_ordinal_num.csv\", index_col=\"Unnamed: 0\")"
   ]
  },
  {
   "cell_type": "code",
   "execution_count": null,
   "id": "mathematical-debut",
   "metadata": {},
   "outputs": [],
   "source": [
    "feature_train = fulldf_ordinal_num.columns.drop(['target', 'id'])\n",
    "\n",
    "# Keep 10 features\n",
    "selector = SelectKBest(f_classif, k=10)\n",
    "\n",
    "X_train = selector.fit_transform(fulldf_ordinal_num[feature_train], fulldf_ordinal_num['target'])\n",
    "\n",
    "X_train"
   ]
  },
  {
   "cell_type": "code",
   "execution_count": null,
   "id": "domestic-archives",
   "metadata": {},
   "outputs": [],
   "source": [
    "feature_test = testdf_ordinal_num.columns.drop(\"id\")\n",
    "X_test = selector.transform(testdf_ordinal_num[feature_test])\n",
    "X_test"
   ]
  },
  {
   "cell_type": "code",
   "execution_count": null,
   "id": "promotional-correlation",
   "metadata": {},
   "outputs": [],
   "source": [
    "# Get back the features we've kept, zero out all other features\n",
    "selected_features_train = pd.DataFrame(selector.inverse_transform(X_train), \n",
    "                                 index=fulldf_ordinal_num.index, \n",
    "                                 columns=feature_train)\n",
    "selected_features_train"
   ]
  },
  {
   "cell_type": "code",
   "execution_count": null,
   "id": "individual-simpson",
   "metadata": {},
   "outputs": [],
   "source": [
    "# Get back the features we've kept, zero out all other features\n",
    "selected_features_test = pd.DataFrame(selector.inverse_transform(X_test), \n",
    "                                 index=testdf_ordinal_num.index, \n",
    "                                 columns=feature_test)\n",
    "selected_features_test"
   ]
  },
  {
   "cell_type": "code",
   "execution_count": null,
   "id": "waiting-lafayette",
   "metadata": {},
   "outputs": [],
   "source": [
    "# Dropped columns have values of all 0s, so var is 0, drop them\n",
    "selected_columns_train = selected_features_train.columns[selected_features_train.var() != 0]\n",
    "\n",
    "# Get the valid dataset with the selected features.\n",
    "train_ordinal_num = fulldf_ordinal_num[selected_columns_train]\n",
    "train_ordinal_num"
   ]
  },
  {
   "cell_type": "code",
   "execution_count": null,
   "id": "coastal-interaction",
   "metadata": {},
   "outputs": [],
   "source": [
    "# Dropped columns have values of all 0s, so var is 0, drop them\n",
    "selected_columns_test = selected_features_test.columns[selected_features_test.var() != 0]\n",
    "\n",
    "# Get the valid dataset with the selected features.\n",
    "test_ordinal_num = testdf_ordinal_num[selected_columns_test]\n",
    "test_ordinal_num"
   ]
  },
  {
   "cell_type": "code",
   "execution_count": null,
   "id": "statewide-contrast",
   "metadata": {},
   "outputs": [],
   "source": [
    "target = fulldf_ordinal_num[[\"id\", \"target\"]]"
   ]
  },
  {
   "cell_type": "code",
   "execution_count": null,
   "id": "ordered-latest",
   "metadata": {},
   "outputs": [],
   "source": [
    "i_d = pd.DataFrame(testdf_ordinal_num[\"id\"])"
   ]
  },
  {
   "cell_type": "code",
   "execution_count": null,
   "id": "provincial-kenya",
   "metadata": {},
   "outputs": [],
   "source": [
    "train_ordinal_num = pd.merge(train_ordinal_num, target, left_index=True, right_index=True)\n",
    "train_ordinal_num"
   ]
  },
  {
   "cell_type": "code",
   "execution_count": null,
   "id": "turned-stevens",
   "metadata": {},
   "outputs": [],
   "source": [
    "test_ordinal_num = pd.merge(test_ordinal_num, i_d, left_index=True, right_index=True)\n",
    "test_ordinal_num"
   ]
  },
  {
   "cell_type": "code",
   "execution_count": null,
   "id": "disturbed-poverty",
   "metadata": {},
   "outputs": [],
   "source": [
    "train_ordinal_num.to_csv(\"train_ordinal_num.csv\")"
   ]
  },
  {
   "cell_type": "code",
   "execution_count": null,
   "id": "worldwide-crazy",
   "metadata": {},
   "outputs": [],
   "source": [
    "test_ordinal_num.to_csv(\"test_ordinal_num.csv\")"
   ]
  }
 ],
 "metadata": {
  "kernelspec": {
   "display_name": "Python 3",
   "language": "python",
   "name": "python3"
  },
  "language_info": {
   "codemirror_mode": {
    "name": "ipython",
    "version": 3
   },
   "file_extension": ".py",
   "mimetype": "text/x-python",
   "name": "python",
   "nbconvert_exporter": "python",
   "pygments_lexer": "ipython3",
   "version": "3.8.3"
  }
 },
 "nbformat": 4,
 "nbformat_minor": 5
}
