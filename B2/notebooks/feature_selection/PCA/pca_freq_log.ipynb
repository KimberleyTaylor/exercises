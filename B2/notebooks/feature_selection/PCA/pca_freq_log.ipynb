{
 "cells": [
  {
   "cell_type": "markdown",
   "id": "designed-cleanup",
   "metadata": {},
   "source": [
    "# Feature Selection\n",
    "- Principle Component Analysis (PCA)\n",
    "3. **freq_log**"
   ]
  },
  {
   "cell_type": "code",
   "execution_count": 1,
   "id": "greenhouse-interim",
   "metadata": {
    "ExecuteTime": {
     "end_time": "2021-02-18T13:52:01.138855Z",
     "start_time": "2021-02-18T13:52:00.841150Z"
    }
   },
   "outputs": [],
   "source": [
    "import pandas as pd\n",
    "import numpy as np\n",
    "from sklearn.decomposition import PCA"
   ]
  },
  {
   "cell_type": "code",
   "execution_count": 2,
   "id": "ethical-astrology",
   "metadata": {
    "ExecuteTime": {
     "end_time": "2021-02-18T13:52:06.188627Z",
     "start_time": "2021-02-18T13:52:06.185514Z"
    }
   },
   "outputs": [],
   "source": [
    "path = \"../../../../csv_files/\""
   ]
  },
  {
   "cell_type": "code",
   "execution_count": 3,
   "id": "attractive-terrace",
   "metadata": {
    "ExecuteTime": {
     "end_time": "2021-02-18T13:54:33.750037Z",
     "start_time": "2021-02-18T13:54:31.285808Z"
    }
   },
   "outputs": [],
   "source": [
    "fulldf_freq_log = pd.read_csv(path + \"train/full_train/full_train_combinations/fulldf_freq_log.csv\", index_col=\"Unnamed: 0\")"
   ]
  },
  {
   "cell_type": "code",
   "execution_count": 4,
   "id": "linear-allocation",
   "metadata": {
    "ExecuteTime": {
     "end_time": "2021-02-18T13:54:35.695834Z",
     "start_time": "2021-02-18T13:54:34.437047Z"
    }
   },
   "outputs": [],
   "source": [
    "testdf_freq_log = pd.read_csv(path + \"test/full_test/full_test_combinations/testdf_freq_log.csv\", index_col=\"Unnamed: 0\")"
   ]
  },
  {
   "cell_type": "code",
   "execution_count": 7,
   "id": "electoral-secretary",
   "metadata": {
    "ExecuteTime": {
     "end_time": "2021-02-18T13:54:57.495859Z",
     "start_time": "2021-02-18T13:54:57.474638Z"
    }
   },
   "outputs": [],
   "source": [
    "X_train = fulldf_freq_log.loc[:,\"cat0\":\"cont12_log\"]"
   ]
  },
  {
   "cell_type": "code",
   "execution_count": 8,
   "id": "regulated-chicago",
   "metadata": {
    "ExecuteTime": {
     "end_time": "2021-02-18T13:55:02.324037Z",
     "start_time": "2021-02-18T13:55:02.306986Z"
    }
   },
   "outputs": [],
   "source": [
    "X_test = testdf_freq_log.loc[:,\"cat0\":\"cont12_log\"]"
   ]
  },
  {
   "cell_type": "code",
   "execution_count": 9,
   "id": "featured-thirty",
   "metadata": {
    "ExecuteTime": {
     "end_time": "2021-02-18T13:55:10.275456Z",
     "start_time": "2021-02-18T13:55:08.989390Z"
    }
   },
   "outputs": [
    {
     "data": {
      "text/plain": [
       "PCA(n_components=10)"
      ]
     },
     "execution_count": 9,
     "metadata": {},
     "output_type": "execute_result"
    }
   ],
   "source": [
    "pca = PCA(n_components=10)\n",
    "pca.fit(X_train)"
   ]
  },
  {
   "cell_type": "code",
   "execution_count": 10,
   "id": "fixed-credits",
   "metadata": {
    "ExecuteTime": {
     "end_time": "2021-02-18T13:55:43.995909Z",
     "start_time": "2021-02-18T13:55:43.934235Z"
    }
   },
   "outputs": [
    {
     "data": {
      "text/html": [
       "<div>\n",
       "<style scoped>\n",
       "    .dataframe tbody tr th:only-of-type {\n",
       "        vertical-align: middle;\n",
       "    }\n",
       "\n",
       "    .dataframe tbody tr th {\n",
       "        vertical-align: top;\n",
       "    }\n",
       "\n",
       "    .dataframe thead th {\n",
       "        text-align: right;\n",
       "    }\n",
       "</style>\n",
       "<table border=\"1\" class=\"dataframe\">\n",
       "  <thead>\n",
       "    <tr style=\"text-align: right;\">\n",
       "      <th></th>\n",
       "      <th>0</th>\n",
       "      <th>1</th>\n",
       "      <th>2</th>\n",
       "      <th>3</th>\n",
       "      <th>4</th>\n",
       "      <th>5</th>\n",
       "      <th>6</th>\n",
       "      <th>7</th>\n",
       "      <th>8</th>\n",
       "      <th>9</th>\n",
       "    </tr>\n",
       "  </thead>\n",
       "  <tbody>\n",
       "    <tr>\n",
       "      <th>0</th>\n",
       "      <td>0.408688</td>\n",
       "      <td>-0.331670</td>\n",
       "      <td>-0.025409</td>\n",
       "      <td>-0.098053</td>\n",
       "      <td>0.096320</td>\n",
       "      <td>0.002492</td>\n",
       "      <td>-0.063843</td>\n",
       "      <td>0.003209</td>\n",
       "      <td>-0.291837</td>\n",
       "      <td>-0.127984</td>\n",
       "    </tr>\n",
       "    <tr>\n",
       "      <th>1</th>\n",
       "      <td>0.080621</td>\n",
       "      <td>-0.157574</td>\n",
       "      <td>-0.249293</td>\n",
       "      <td>0.802843</td>\n",
       "      <td>-0.205729</td>\n",
       "      <td>0.312640</td>\n",
       "      <td>-0.037747</td>\n",
       "      <td>0.090893</td>\n",
       "      <td>0.248410</td>\n",
       "      <td>-0.089870</td>\n",
       "    </tr>\n",
       "    <tr>\n",
       "      <th>2</th>\n",
       "      <td>0.736889</td>\n",
       "      <td>0.509185</td>\n",
       "      <td>-0.062086</td>\n",
       "      <td>-0.055052</td>\n",
       "      <td>0.043081</td>\n",
       "      <td>-0.147096</td>\n",
       "      <td>0.200993</td>\n",
       "      <td>-0.171541</td>\n",
       "      <td>0.032880</td>\n",
       "      <td>0.007292</td>\n",
       "    </tr>\n",
       "    <tr>\n",
       "      <th>3</th>\n",
       "      <td>0.370472</td>\n",
       "      <td>-0.261095</td>\n",
       "      <td>-0.045755</td>\n",
       "      <td>-0.079232</td>\n",
       "      <td>-0.143739</td>\n",
       "      <td>-0.162550</td>\n",
       "      <td>0.156053</td>\n",
       "      <td>-0.183582</td>\n",
       "      <td>-0.178130</td>\n",
       "      <td>0.242585</td>\n",
       "    </tr>\n",
       "    <tr>\n",
       "      <th>4</th>\n",
       "      <td>-0.061920</td>\n",
       "      <td>-0.140380</td>\n",
       "      <td>-0.033378</td>\n",
       "      <td>-0.082495</td>\n",
       "      <td>0.293572</td>\n",
       "      <td>0.118062</td>\n",
       "      <td>-0.036993</td>\n",
       "      <td>0.016772</td>\n",
       "      <td>0.130882</td>\n",
       "      <td>-0.088778</td>\n",
       "    </tr>\n",
       "    <tr>\n",
       "      <th>...</th>\n",
       "      <td>...</td>\n",
       "      <td>...</td>\n",
       "      <td>...</td>\n",
       "      <td>...</td>\n",
       "      <td>...</td>\n",
       "      <td>...</td>\n",
       "      <td>...</td>\n",
       "      <td>...</td>\n",
       "      <td>...</td>\n",
       "      <td>...</td>\n",
       "    </tr>\n",
       "    <tr>\n",
       "      <th>299878</th>\n",
       "      <td>-0.388414</td>\n",
       "      <td>0.137113</td>\n",
       "      <td>-0.068024</td>\n",
       "      <td>-0.055769</td>\n",
       "      <td>-0.100249</td>\n",
       "      <td>-0.082481</td>\n",
       "      <td>0.139762</td>\n",
       "      <td>-0.132401</td>\n",
       "      <td>-0.152682</td>\n",
       "      <td>0.059490</td>\n",
       "    </tr>\n",
       "    <tr>\n",
       "      <th>299879</th>\n",
       "      <td>-0.469778</td>\n",
       "      <td>0.194565</td>\n",
       "      <td>-0.082732</td>\n",
       "      <td>-0.041548</td>\n",
       "      <td>-0.223771</td>\n",
       "      <td>-0.040145</td>\n",
       "      <td>-0.185096</td>\n",
       "      <td>0.115248</td>\n",
       "      <td>-0.012954</td>\n",
       "      <td>0.025705</td>\n",
       "    </tr>\n",
       "    <tr>\n",
       "      <th>299880</th>\n",
       "      <td>-0.336381</td>\n",
       "      <td>0.087825</td>\n",
       "      <td>-0.056309</td>\n",
       "      <td>-0.062443</td>\n",
       "      <td>-0.030156</td>\n",
       "      <td>-0.108218</td>\n",
       "      <td>0.068770</td>\n",
       "      <td>-0.065605</td>\n",
       "      <td>0.072194</td>\n",
       "      <td>-0.097213</td>\n",
       "    </tr>\n",
       "    <tr>\n",
       "      <th>299881</th>\n",
       "      <td>0.012406</td>\n",
       "      <td>0.806728</td>\n",
       "      <td>0.742592</td>\n",
       "      <td>0.137555</td>\n",
       "      <td>0.233804</td>\n",
       "      <td>-0.095045</td>\n",
       "      <td>-0.087112</td>\n",
       "      <td>-0.071823</td>\n",
       "      <td>-0.083714</td>\n",
       "      <td>0.126033</td>\n",
       "    </tr>\n",
       "    <tr>\n",
       "      <th>299882</th>\n",
       "      <td>0.105126</td>\n",
       "      <td>-0.120070</td>\n",
       "      <td>0.755365</td>\n",
       "      <td>0.114110</td>\n",
       "      <td>-0.168311</td>\n",
       "      <td>0.165025</td>\n",
       "      <td>-0.330002</td>\n",
       "      <td>0.116891</td>\n",
       "      <td>0.090699</td>\n",
       "      <td>0.236713</td>\n",
       "    </tr>\n",
       "  </tbody>\n",
       "</table>\n",
       "<p>299883 rows × 10 columns</p>\n",
       "</div>"
      ],
      "text/plain": [
       "               0         1         2         3         4         5         6  \\\n",
       "0       0.408688 -0.331670 -0.025409 -0.098053  0.096320  0.002492 -0.063843   \n",
       "1       0.080621 -0.157574 -0.249293  0.802843 -0.205729  0.312640 -0.037747   \n",
       "2       0.736889  0.509185 -0.062086 -0.055052  0.043081 -0.147096  0.200993   \n",
       "3       0.370472 -0.261095 -0.045755 -0.079232 -0.143739 -0.162550  0.156053   \n",
       "4      -0.061920 -0.140380 -0.033378 -0.082495  0.293572  0.118062 -0.036993   \n",
       "...          ...       ...       ...       ...       ...       ...       ...   \n",
       "299878 -0.388414  0.137113 -0.068024 -0.055769 -0.100249 -0.082481  0.139762   \n",
       "299879 -0.469778  0.194565 -0.082732 -0.041548 -0.223771 -0.040145 -0.185096   \n",
       "299880 -0.336381  0.087825 -0.056309 -0.062443 -0.030156 -0.108218  0.068770   \n",
       "299881  0.012406  0.806728  0.742592  0.137555  0.233804 -0.095045 -0.087112   \n",
       "299882  0.105126 -0.120070  0.755365  0.114110 -0.168311  0.165025 -0.330002   \n",
       "\n",
       "               7         8         9  \n",
       "0       0.003209 -0.291837 -0.127984  \n",
       "1       0.090893  0.248410 -0.089870  \n",
       "2      -0.171541  0.032880  0.007292  \n",
       "3      -0.183582 -0.178130  0.242585  \n",
       "4       0.016772  0.130882 -0.088778  \n",
       "...          ...       ...       ...  \n",
       "299878 -0.132401 -0.152682  0.059490  \n",
       "299879  0.115248 -0.012954  0.025705  \n",
       "299880 -0.065605  0.072194 -0.097213  \n",
       "299881 -0.071823 -0.083714  0.126033  \n",
       "299882  0.116891  0.090699  0.236713  \n",
       "\n",
       "[299883 rows x 10 columns]"
      ]
     },
     "execution_count": 10,
     "metadata": {},
     "output_type": "execute_result"
    }
   ],
   "source": [
    "train_pca_freq_log = pca.transform(X_train)\n",
    "train_pca_freq_log = pd.DataFrame(train_pca_freq_log)\n",
    "train_pca_freq_log"
   ]
  },
  {
   "cell_type": "code",
   "execution_count": 11,
   "id": "controlled-yield",
   "metadata": {
    "ExecuteTime": {
     "end_time": "2021-02-18T13:55:46.193287Z",
     "start_time": "2021-02-18T13:55:46.141331Z"
    }
   },
   "outputs": [
    {
     "data": {
      "text/html": [
       "<div>\n",
       "<style scoped>\n",
       "    .dataframe tbody tr th:only-of-type {\n",
       "        vertical-align: middle;\n",
       "    }\n",
       "\n",
       "    .dataframe tbody tr th {\n",
       "        vertical-align: top;\n",
       "    }\n",
       "\n",
       "    .dataframe thead th {\n",
       "        text-align: right;\n",
       "    }\n",
       "</style>\n",
       "<table border=\"1\" class=\"dataframe\">\n",
       "  <thead>\n",
       "    <tr style=\"text-align: right;\">\n",
       "      <th></th>\n",
       "      <th>0</th>\n",
       "      <th>1</th>\n",
       "      <th>2</th>\n",
       "      <th>3</th>\n",
       "      <th>4</th>\n",
       "      <th>5</th>\n",
       "      <th>6</th>\n",
       "      <th>7</th>\n",
       "      <th>8</th>\n",
       "      <th>9</th>\n",
       "    </tr>\n",
       "  </thead>\n",
       "  <tbody>\n",
       "    <tr>\n",
       "      <th>0</th>\n",
       "      <td>-0.345440</td>\n",
       "      <td>0.107125</td>\n",
       "      <td>-0.062212</td>\n",
       "      <td>-0.061202</td>\n",
       "      <td>-0.063757</td>\n",
       "      <td>-0.176255</td>\n",
       "      <td>-0.072503</td>\n",
       "      <td>-0.017133</td>\n",
       "      <td>-0.217211</td>\n",
       "      <td>0.096817</td>\n",
       "    </tr>\n",
       "    <tr>\n",
       "      <th>1</th>\n",
       "      <td>-0.005883</td>\n",
       "      <td>-0.116106</td>\n",
       "      <td>-0.040570</td>\n",
       "      <td>-0.079613</td>\n",
       "      <td>0.091216</td>\n",
       "      <td>-0.198431</td>\n",
       "      <td>-0.092654</td>\n",
       "      <td>0.023300</td>\n",
       "      <td>-0.019532</td>\n",
       "      <td>-0.118075</td>\n",
       "    </tr>\n",
       "    <tr>\n",
       "      <th>2</th>\n",
       "      <td>0.025826</td>\n",
       "      <td>-0.193956</td>\n",
       "      <td>-0.022782</td>\n",
       "      <td>-0.088547</td>\n",
       "      <td>0.317632</td>\n",
       "      <td>-0.186714</td>\n",
       "      <td>-0.148562</td>\n",
       "      <td>0.061894</td>\n",
       "      <td>0.190391</td>\n",
       "      <td>-0.043274</td>\n",
       "    </tr>\n",
       "    <tr>\n",
       "      <th>3</th>\n",
       "      <td>-0.147909</td>\n",
       "      <td>-0.006757</td>\n",
       "      <td>0.770802</td>\n",
       "      <td>0.101855</td>\n",
       "      <td>0.066005</td>\n",
       "      <td>0.134607</td>\n",
       "      <td>-0.139194</td>\n",
       "      <td>-0.004549</td>\n",
       "      <td>-0.165180</td>\n",
       "      <td>0.010531</td>\n",
       "    </tr>\n",
       "    <tr>\n",
       "      <th>4</th>\n",
       "      <td>-0.379663</td>\n",
       "      <td>0.082563</td>\n",
       "      <td>-0.061157</td>\n",
       "      <td>-0.064345</td>\n",
       "      <td>0.124505</td>\n",
       "      <td>0.091977</td>\n",
       "      <td>0.005921</td>\n",
       "      <td>-0.049568</td>\n",
       "      <td>-0.219887</td>\n",
       "      <td>0.037811</td>\n",
       "    </tr>\n",
       "    <tr>\n",
       "      <th>...</th>\n",
       "      <td>...</td>\n",
       "      <td>...</td>\n",
       "      <td>...</td>\n",
       "      <td>...</td>\n",
       "      <td>...</td>\n",
       "      <td>...</td>\n",
       "      <td>...</td>\n",
       "      <td>...</td>\n",
       "      <td>...</td>\n",
       "      <td>...</td>\n",
       "    </tr>\n",
       "    <tr>\n",
       "      <th>199995</th>\n",
       "      <td>0.380911</td>\n",
       "      <td>-0.222791</td>\n",
       "      <td>-0.056303</td>\n",
       "      <td>-0.072171</td>\n",
       "      <td>-0.335812</td>\n",
       "      <td>-0.133517</td>\n",
       "      <td>-0.239369</td>\n",
       "      <td>0.143107</td>\n",
       "      <td>-0.230047</td>\n",
       "      <td>-0.166095</td>\n",
       "    </tr>\n",
       "    <tr>\n",
       "      <th>199996</th>\n",
       "      <td>-0.252301</td>\n",
       "      <td>0.095085</td>\n",
       "      <td>-0.072678</td>\n",
       "      <td>-0.048972</td>\n",
       "      <td>-0.312749</td>\n",
       "      <td>0.051899</td>\n",
       "      <td>-0.142722</td>\n",
       "      <td>0.143804</td>\n",
       "      <td>0.017345</td>\n",
       "      <td>-0.190760</td>\n",
       "    </tr>\n",
       "    <tr>\n",
       "      <th>199997</th>\n",
       "      <td>0.000461</td>\n",
       "      <td>-0.125148</td>\n",
       "      <td>-0.038982</td>\n",
       "      <td>-0.079725</td>\n",
       "      <td>0.100859</td>\n",
       "      <td>-0.191631</td>\n",
       "      <td>0.017282</td>\n",
       "      <td>-0.073631</td>\n",
       "      <td>0.019703</td>\n",
       "      <td>0.103526</td>\n",
       "    </tr>\n",
       "    <tr>\n",
       "      <th>199998</th>\n",
       "      <td>0.390335</td>\n",
       "      <td>-0.308672</td>\n",
       "      <td>-0.028650</td>\n",
       "      <td>-0.087476</td>\n",
       "      <td>-0.045903</td>\n",
       "      <td>0.211086</td>\n",
       "      <td>0.117735</td>\n",
       "      <td>-0.052965</td>\n",
       "      <td>0.025848</td>\n",
       "      <td>-0.118499</td>\n",
       "    </tr>\n",
       "    <tr>\n",
       "      <th>199999</th>\n",
       "      <td>0.274626</td>\n",
       "      <td>-0.194974</td>\n",
       "      <td>-0.059410</td>\n",
       "      <td>-0.066662</td>\n",
       "      <td>-0.288797</td>\n",
       "      <td>-0.107765</td>\n",
       "      <td>0.081198</td>\n",
       "      <td>-0.125174</td>\n",
       "      <td>-0.177840</td>\n",
       "      <td>0.277959</td>\n",
       "    </tr>\n",
       "  </tbody>\n",
       "</table>\n",
       "<p>200000 rows × 10 columns</p>\n",
       "</div>"
      ],
      "text/plain": [
       "               0         1         2         3         4         5         6  \\\n",
       "0      -0.345440  0.107125 -0.062212 -0.061202 -0.063757 -0.176255 -0.072503   \n",
       "1      -0.005883 -0.116106 -0.040570 -0.079613  0.091216 -0.198431 -0.092654   \n",
       "2       0.025826 -0.193956 -0.022782 -0.088547  0.317632 -0.186714 -0.148562   \n",
       "3      -0.147909 -0.006757  0.770802  0.101855  0.066005  0.134607 -0.139194   \n",
       "4      -0.379663  0.082563 -0.061157 -0.064345  0.124505  0.091977  0.005921   \n",
       "...          ...       ...       ...       ...       ...       ...       ...   \n",
       "199995  0.380911 -0.222791 -0.056303 -0.072171 -0.335812 -0.133517 -0.239369   \n",
       "199996 -0.252301  0.095085 -0.072678 -0.048972 -0.312749  0.051899 -0.142722   \n",
       "199997  0.000461 -0.125148 -0.038982 -0.079725  0.100859 -0.191631  0.017282   \n",
       "199998  0.390335 -0.308672 -0.028650 -0.087476 -0.045903  0.211086  0.117735   \n",
       "199999  0.274626 -0.194974 -0.059410 -0.066662 -0.288797 -0.107765  0.081198   \n",
       "\n",
       "               7         8         9  \n",
       "0      -0.017133 -0.217211  0.096817  \n",
       "1       0.023300 -0.019532 -0.118075  \n",
       "2       0.061894  0.190391 -0.043274  \n",
       "3      -0.004549 -0.165180  0.010531  \n",
       "4      -0.049568 -0.219887  0.037811  \n",
       "...          ...       ...       ...  \n",
       "199995  0.143107 -0.230047 -0.166095  \n",
       "199996  0.143804  0.017345 -0.190760  \n",
       "199997 -0.073631  0.019703  0.103526  \n",
       "199998 -0.052965  0.025848 -0.118499  \n",
       "199999 -0.125174 -0.177840  0.277959  \n",
       "\n",
       "[200000 rows x 10 columns]"
      ]
     },
     "execution_count": 11,
     "metadata": {},
     "output_type": "execute_result"
    }
   ],
   "source": [
    "test_pca_freq_log = pca.transform(X_test)\n",
    "test_pca_freq_log = pd.DataFrame(test_pca_freq_log)\n",
    "test_pca_freq_log"
   ]
  },
  {
   "cell_type": "code",
   "execution_count": 12,
   "id": "fresh-inspiration",
   "metadata": {
    "ExecuteTime": {
     "end_time": "2021-02-18T13:55:48.996357Z",
     "start_time": "2021-02-18T13:55:48.987656Z"
    }
   },
   "outputs": [],
   "source": [
    "target = fulldf_freq_log[[\"id\", \"target\"]]\n",
    "i_d = pd.DataFrame(testdf_freq_log[\"id\"])"
   ]
  },
  {
   "cell_type": "code",
   "execution_count": 13,
   "id": "taken-definition",
   "metadata": {
    "ExecuteTime": {
     "end_time": "2021-02-18T13:55:57.325594Z",
     "start_time": "2021-02-18T13:55:57.265579Z"
    }
   },
   "outputs": [],
   "source": [
    "train_pca_freq_log = pd.merge(train_pca_freq_log, target, left_index=True, right_index=True)"
   ]
  },
  {
   "cell_type": "code",
   "execution_count": 14,
   "id": "loving-norman",
   "metadata": {
    "ExecuteTime": {
     "end_time": "2021-02-18T13:56:06.771056Z",
     "start_time": "2021-02-18T13:56:06.738048Z"
    }
   },
   "outputs": [],
   "source": [
    "test_pca_freq_log = pd.merge(test_pca_freq_log, i_d, left_index=True, right_index=True)"
   ]
  },
  {
   "cell_type": "code",
   "execution_count": 15,
   "id": "frank-infrastructure",
   "metadata": {
    "ExecuteTime": {
     "end_time": "2021-02-18T13:56:23.883335Z",
     "start_time": "2021-02-18T13:56:18.382811Z"
    }
   },
   "outputs": [],
   "source": [
    "train_pca_freq_log.to_csv(\"train_pca_freq_log.csv\")"
   ]
  },
  {
   "cell_type": "code",
   "execution_count": 16,
   "id": "analyzed-clearance",
   "metadata": {
    "ExecuteTime": {
     "end_time": "2021-02-18T13:56:29.112163Z",
     "start_time": "2021-02-18T13:56:25.644049Z"
    }
   },
   "outputs": [],
   "source": [
    "test_pca_freq_log.to_csv(\"test_pca_freq_log.csv\")"
   ]
  }
 ],
 "metadata": {
  "kernelspec": {
   "display_name": "Python 3",
   "language": "python",
   "name": "python3"
  },
  "language_info": {
   "codemirror_mode": {
    "name": "ipython",
    "version": 3
   },
   "file_extension": ".py",
   "mimetype": "text/x-python",
   "name": "python",
   "nbconvert_exporter": "python",
   "pygments_lexer": "ipython3",
   "version": "3.8.3"
  }
 },
 "nbformat": 4,
 "nbformat_minor": 5
}
