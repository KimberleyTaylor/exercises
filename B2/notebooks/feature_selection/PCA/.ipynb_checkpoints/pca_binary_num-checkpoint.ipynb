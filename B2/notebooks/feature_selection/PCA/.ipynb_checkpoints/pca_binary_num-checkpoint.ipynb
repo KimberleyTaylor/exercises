{
 "cells": [
  {
   "cell_type": "markdown",
   "id": "oriented-installation",
   "metadata": {},
   "source": [
    "# Feature Selection\n",
    "- Principle Component Analysis (PCA)\n",
    "2. **binary_num**"
   ]
  },
  {
   "cell_type": "code",
   "execution_count": 1,
   "id": "united-congo",
   "metadata": {
    "ExecuteTime": {
     "end_time": "2021-02-18T13:46:09.747023Z",
     "start_time": "2021-02-18T13:46:09.463025Z"
    }
   },
   "outputs": [],
   "source": [
    "import pandas as pd\n",
    "import numpy as np\n",
    "from sklearn.decomposition import PCA"
   ]
  },
  {
   "cell_type": "code",
   "execution_count": 2,
   "id": "sacred-cancellation",
   "metadata": {
    "ExecuteTime": {
     "end_time": "2021-02-18T13:46:14.784385Z",
     "start_time": "2021-02-18T13:46:14.781543Z"
    }
   },
   "outputs": [],
   "source": [
    "path = \"../../../../csv_files/\""
   ]
  },
  {
   "cell_type": "code",
   "execution_count": 3,
   "id": "failing-aviation",
   "metadata": {
    "ExecuteTime": {
     "end_time": "2021-02-18T13:46:32.444355Z",
     "start_time": "2021-02-18T13:46:30.115135Z"
    }
   },
   "outputs": [],
   "source": [
    "fulldf_binary_num = pd.read_csv(path + \"train/full_train/full_train_combinations/fulldf_binary_num.csv\", index_col=\"Unnamed: 0\")"
   ]
  },
  {
   "cell_type": "code",
   "execution_count": 4,
   "id": "proper-repair",
   "metadata": {
    "ExecuteTime": {
     "end_time": "2021-02-18T13:46:45.674070Z",
     "start_time": "2021-02-18T13:46:44.351698Z"
    }
   },
   "outputs": [],
   "source": [
    "testdf_binary_num = pd.read_csv(path + \"test/full_test/full_test_combinations/testdf_binary_num.csv\", index_col=\"Unnamed: 0\")"
   ]
  },
  {
   "cell_type": "code",
   "execution_count": 6,
   "id": "intense-counter",
   "metadata": {
    "ExecuteTime": {
     "end_time": "2021-02-18T13:47:12.768320Z",
     "start_time": "2021-02-18T13:47:12.734386Z"
    }
   },
   "outputs": [],
   "source": [
    "X_train = fulldf_binary_num.loc[:,\"cat0_0\":\"cont12\"]"
   ]
  },
  {
   "cell_type": "code",
   "execution_count": 10,
   "id": "interesting-middle",
   "metadata": {
    "ExecuteTime": {
     "end_time": "2021-02-18T13:47:46.257234Z",
     "start_time": "2021-02-18T13:47:46.233031Z"
    }
   },
   "outputs": [],
   "source": [
    "X_test = testdf_binary_num.loc[:,\"cat0_0\":\"cont12\"]"
   ]
  },
  {
   "cell_type": "code",
   "execution_count": 11,
   "id": "damaged-mattress",
   "metadata": {
    "ExecuteTime": {
     "end_time": "2021-02-18T13:49:34.344481Z",
     "start_time": "2021-02-18T13:49:32.805999Z"
    }
   },
   "outputs": [
    {
     "data": {
      "text/plain": [
       "PCA(n_components=10)"
      ]
     },
     "execution_count": 11,
     "metadata": {},
     "output_type": "execute_result"
    }
   ],
   "source": [
    "pca = PCA(n_components=10)\n",
    "pca.fit(X_train)"
   ]
  },
  {
   "cell_type": "code",
   "execution_count": 12,
   "id": "academic-narrative",
   "metadata": {
    "ExecuteTime": {
     "end_time": "2021-02-18T13:49:43.623605Z",
     "start_time": "2021-02-18T13:49:43.501377Z"
    }
   },
   "outputs": [
    {
     "data": {
      "text/html": [
       "<div>\n",
       "<style scoped>\n",
       "    .dataframe tbody tr th:only-of-type {\n",
       "        vertical-align: middle;\n",
       "    }\n",
       "\n",
       "    .dataframe tbody tr th {\n",
       "        vertical-align: top;\n",
       "    }\n",
       "\n",
       "    .dataframe thead th {\n",
       "        text-align: right;\n",
       "    }\n",
       "</style>\n",
       "<table border=\"1\" class=\"dataframe\">\n",
       "  <thead>\n",
       "    <tr style=\"text-align: right;\">\n",
       "      <th></th>\n",
       "      <th>0</th>\n",
       "      <th>1</th>\n",
       "      <th>2</th>\n",
       "      <th>3</th>\n",
       "      <th>4</th>\n",
       "      <th>5</th>\n",
       "      <th>6</th>\n",
       "      <th>7</th>\n",
       "      <th>8</th>\n",
       "      <th>9</th>\n",
       "    </tr>\n",
       "  </thead>\n",
       "  <tbody>\n",
       "    <tr>\n",
       "      <th>0</th>\n",
       "      <td>1.026475</td>\n",
       "      <td>0.382687</td>\n",
       "      <td>0.625303</td>\n",
       "      <td>-0.181057</td>\n",
       "      <td>1.182068</td>\n",
       "      <td>-0.641891</td>\n",
       "      <td>0.162595</td>\n",
       "      <td>-0.538431</td>\n",
       "      <td>-0.228961</td>\n",
       "      <td>-0.086443</td>\n",
       "    </tr>\n",
       "    <tr>\n",
       "      <th>1</th>\n",
       "      <td>0.218529</td>\n",
       "      <td>-1.007142</td>\n",
       "      <td>0.395669</td>\n",
       "      <td>0.292611</td>\n",
       "      <td>0.048582</td>\n",
       "      <td>1.343983</td>\n",
       "      <td>-0.261087</td>\n",
       "      <td>0.023747</td>\n",
       "      <td>-0.076034</td>\n",
       "      <td>1.248509</td>\n",
       "    </tr>\n",
       "    <tr>\n",
       "      <th>2</th>\n",
       "      <td>1.139462</td>\n",
       "      <td>0.129492</td>\n",
       "      <td>-0.802319</td>\n",
       "      <td>-0.162399</td>\n",
       "      <td>-0.338750</td>\n",
       "      <td>-0.295497</td>\n",
       "      <td>-0.219138</td>\n",
       "      <td>-0.689625</td>\n",
       "      <td>-0.136554</td>\n",
       "      <td>-0.125240</td>\n",
       "    </tr>\n",
       "    <tr>\n",
       "      <th>3</th>\n",
       "      <td>1.119196</td>\n",
       "      <td>0.299593</td>\n",
       "      <td>-0.845272</td>\n",
       "      <td>-0.343094</td>\n",
       "      <td>-0.290155</td>\n",
       "      <td>0.241731</td>\n",
       "      <td>0.891572</td>\n",
       "      <td>0.376676</td>\n",
       "      <td>0.023897</td>\n",
       "      <td>-0.104305</td>\n",
       "    </tr>\n",
       "    <tr>\n",
       "      <th>4</th>\n",
       "      <td>-0.218806</td>\n",
       "      <td>-0.383131</td>\n",
       "      <td>1.439770</td>\n",
       "      <td>-0.477218</td>\n",
       "      <td>0.063057</td>\n",
       "      <td>-0.065436</td>\n",
       "      <td>-0.274450</td>\n",
       "      <td>-0.164061</td>\n",
       "      <td>-0.192735</td>\n",
       "      <td>-0.090522</td>\n",
       "    </tr>\n",
       "    <tr>\n",
       "      <th>...</th>\n",
       "      <td>...</td>\n",
       "      <td>...</td>\n",
       "      <td>...</td>\n",
       "      <td>...</td>\n",
       "      <td>...</td>\n",
       "      <td>...</td>\n",
       "      <td>...</td>\n",
       "      <td>...</td>\n",
       "      <td>...</td>\n",
       "      <td>...</td>\n",
       "    </tr>\n",
       "    <tr>\n",
       "      <th>299878</th>\n",
       "      <td>-1.533771</td>\n",
       "      <td>0.577546</td>\n",
       "      <td>0.267656</td>\n",
       "      <td>0.300581</td>\n",
       "      <td>-0.496450</td>\n",
       "      <td>0.204483</td>\n",
       "      <td>0.370509</td>\n",
       "      <td>-0.034578</td>\n",
       "      <td>-0.208056</td>\n",
       "      <td>-0.062636</td>\n",
       "    </tr>\n",
       "    <tr>\n",
       "      <th>299879</th>\n",
       "      <td>-1.588325</td>\n",
       "      <td>0.570730</td>\n",
       "      <td>0.257620</td>\n",
       "      <td>0.305395</td>\n",
       "      <td>-0.484310</td>\n",
       "      <td>0.176669</td>\n",
       "      <td>0.386227</td>\n",
       "      <td>-0.023212</td>\n",
       "      <td>-0.219157</td>\n",
       "      <td>-0.054027</td>\n",
       "    </tr>\n",
       "    <tr>\n",
       "      <th>299880</th>\n",
       "      <td>-0.962603</td>\n",
       "      <td>0.366200</td>\n",
       "      <td>0.108965</td>\n",
       "      <td>-1.033298</td>\n",
       "      <td>0.195545</td>\n",
       "      <td>-0.375595</td>\n",
       "      <td>0.478347</td>\n",
       "      <td>0.941131</td>\n",
       "      <td>-0.080385</td>\n",
       "      <td>-0.075555</td>\n",
       "    </tr>\n",
       "    <tr>\n",
       "      <th>299881</th>\n",
       "      <td>-1.313426</td>\n",
       "      <td>0.609475</td>\n",
       "      <td>0.317790</td>\n",
       "      <td>0.253423</td>\n",
       "      <td>-0.321369</td>\n",
       "      <td>0.123755</td>\n",
       "      <td>-0.539220</td>\n",
       "      <td>-0.362695</td>\n",
       "      <td>1.196492</td>\n",
       "      <td>0.002838</td>\n",
       "    </tr>\n",
       "    <tr>\n",
       "      <th>299882</th>\n",
       "      <td>1.004628</td>\n",
       "      <td>-0.456832</td>\n",
       "      <td>0.266413</td>\n",
       "      <td>0.246658</td>\n",
       "      <td>0.133001</td>\n",
       "      <td>-0.643486</td>\n",
       "      <td>1.083361</td>\n",
       "      <td>0.228841</td>\n",
       "      <td>1.335267</td>\n",
       "      <td>0.060558</td>\n",
       "    </tr>\n",
       "  </tbody>\n",
       "</table>\n",
       "<p>299883 rows × 10 columns</p>\n",
       "</div>"
      ],
      "text/plain": [
       "               0         1         2         3         4         5         6  \\\n",
       "0       1.026475  0.382687  0.625303 -0.181057  1.182068 -0.641891  0.162595   \n",
       "1       0.218529 -1.007142  0.395669  0.292611  0.048582  1.343983 -0.261087   \n",
       "2       1.139462  0.129492 -0.802319 -0.162399 -0.338750 -0.295497 -0.219138   \n",
       "3       1.119196  0.299593 -0.845272 -0.343094 -0.290155  0.241731  0.891572   \n",
       "4      -0.218806 -0.383131  1.439770 -0.477218  0.063057 -0.065436 -0.274450   \n",
       "...          ...       ...       ...       ...       ...       ...       ...   \n",
       "299878 -1.533771  0.577546  0.267656  0.300581 -0.496450  0.204483  0.370509   \n",
       "299879 -1.588325  0.570730  0.257620  0.305395 -0.484310  0.176669  0.386227   \n",
       "299880 -0.962603  0.366200  0.108965 -1.033298  0.195545 -0.375595  0.478347   \n",
       "299881 -1.313426  0.609475  0.317790  0.253423 -0.321369  0.123755 -0.539220   \n",
       "299882  1.004628 -0.456832  0.266413  0.246658  0.133001 -0.643486  1.083361   \n",
       "\n",
       "               7         8         9  \n",
       "0      -0.538431 -0.228961 -0.086443  \n",
       "1       0.023747 -0.076034  1.248509  \n",
       "2      -0.689625 -0.136554 -0.125240  \n",
       "3       0.376676  0.023897 -0.104305  \n",
       "4      -0.164061 -0.192735 -0.090522  \n",
       "...          ...       ...       ...  \n",
       "299878 -0.034578 -0.208056 -0.062636  \n",
       "299879 -0.023212 -0.219157 -0.054027  \n",
       "299880  0.941131 -0.080385 -0.075555  \n",
       "299881 -0.362695  1.196492  0.002838  \n",
       "299882  0.228841  1.335267  0.060558  \n",
       "\n",
       "[299883 rows x 10 columns]"
      ]
     },
     "execution_count": 12,
     "metadata": {},
     "output_type": "execute_result"
    }
   ],
   "source": [
    "train_pca_binary_num = pca.transform(X_train)\n",
    "train_pca_binary_num = pd.DataFrame(train_pca_binary_num)\n",
    "train_pca_binary_num"
   ]
  },
  {
   "cell_type": "code",
   "execution_count": 13,
   "id": "technological-marathon",
   "metadata": {
    "ExecuteTime": {
     "end_time": "2021-02-18T13:49:46.152315Z",
     "start_time": "2021-02-18T13:49:46.053486Z"
    }
   },
   "outputs": [
    {
     "data": {
      "text/html": [
       "<div>\n",
       "<style scoped>\n",
       "    .dataframe tbody tr th:only-of-type {\n",
       "        vertical-align: middle;\n",
       "    }\n",
       "\n",
       "    .dataframe tbody tr th {\n",
       "        vertical-align: top;\n",
       "    }\n",
       "\n",
       "    .dataframe thead th {\n",
       "        text-align: right;\n",
       "    }\n",
       "</style>\n",
       "<table border=\"1\" class=\"dataframe\">\n",
       "  <thead>\n",
       "    <tr style=\"text-align: right;\">\n",
       "      <th></th>\n",
       "      <th>0</th>\n",
       "      <th>1</th>\n",
       "      <th>2</th>\n",
       "      <th>3</th>\n",
       "      <th>4</th>\n",
       "      <th>5</th>\n",
       "      <th>6</th>\n",
       "      <th>7</th>\n",
       "      <th>8</th>\n",
       "      <th>9</th>\n",
       "    </tr>\n",
       "  </thead>\n",
       "  <tbody>\n",
       "    <tr>\n",
       "      <th>0</th>\n",
       "      <td>0.434726</td>\n",
       "      <td>0.145174</td>\n",
       "      <td>0.652686</td>\n",
       "      <td>-0.099715</td>\n",
       "      <td>1.129426</td>\n",
       "      <td>-0.981383</td>\n",
       "      <td>0.168243</td>\n",
       "      <td>-0.523437</td>\n",
       "      <td>-0.280493</td>\n",
       "      <td>-0.065278</td>\n",
       "    </tr>\n",
       "    <tr>\n",
       "      <th>1</th>\n",
       "      <td>0.734795</td>\n",
       "      <td>0.553051</td>\n",
       "      <td>1.050631</td>\n",
       "      <td>0.521770</td>\n",
       "      <td>0.269423</td>\n",
       "      <td>0.530641</td>\n",
       "      <td>-0.266791</td>\n",
       "      <td>-0.112976</td>\n",
       "      <td>-0.163796</td>\n",
       "      <td>-0.101476</td>\n",
       "    </tr>\n",
       "    <tr>\n",
       "      <th>2</th>\n",
       "      <td>0.787830</td>\n",
       "      <td>0.491848</td>\n",
       "      <td>0.817720</td>\n",
       "      <td>0.343373</td>\n",
       "      <td>0.736093</td>\n",
       "      <td>0.456743</td>\n",
       "      <td>-0.200860</td>\n",
       "      <td>-0.725792</td>\n",
       "      <td>-0.193903</td>\n",
       "      <td>-0.102075</td>\n",
       "    </tr>\n",
       "    <tr>\n",
       "      <th>3</th>\n",
       "      <td>0.596491</td>\n",
       "      <td>-0.035462</td>\n",
       "      <td>-0.633719</td>\n",
       "      <td>-0.162462</td>\n",
       "      <td>-0.431001</td>\n",
       "      <td>-0.809091</td>\n",
       "      <td>-0.224373</td>\n",
       "      <td>-0.822344</td>\n",
       "      <td>1.201272</td>\n",
       "      <td>0.063223</td>\n",
       "    </tr>\n",
       "    <tr>\n",
       "      <th>4</th>\n",
       "      <td>-0.969467</td>\n",
       "      <td>0.292700</td>\n",
       "      <td>0.194685</td>\n",
       "      <td>-0.987393</td>\n",
       "      <td>-0.064350</td>\n",
       "      <td>-0.309333</td>\n",
       "      <td>0.750508</td>\n",
       "      <td>0.210340</td>\n",
       "      <td>-0.145593</td>\n",
       "      <td>-0.080688</td>\n",
       "    </tr>\n",
       "    <tr>\n",
       "      <th>...</th>\n",
       "      <td>...</td>\n",
       "      <td>...</td>\n",
       "      <td>...</td>\n",
       "      <td>...</td>\n",
       "      <td>...</td>\n",
       "      <td>...</td>\n",
       "      <td>...</td>\n",
       "      <td>...</td>\n",
       "      <td>...</td>\n",
       "      <td>...</td>\n",
       "    </tr>\n",
       "    <tr>\n",
       "      <th>199995</th>\n",
       "      <td>0.805187</td>\n",
       "      <td>-0.282984</td>\n",
       "      <td>0.167153</td>\n",
       "      <td>1.525200</td>\n",
       "      <td>-0.063386</td>\n",
       "      <td>0.014897</td>\n",
       "      <td>-0.184541</td>\n",
       "      <td>-0.062523</td>\n",
       "      <td>-0.106715</td>\n",
       "      <td>-0.083874</td>\n",
       "    </tr>\n",
       "    <tr>\n",
       "      <th>199996</th>\n",
       "      <td>0.879725</td>\n",
       "      <td>-0.772709</td>\n",
       "      <td>0.194769</td>\n",
       "      <td>0.339014</td>\n",
       "      <td>0.180176</td>\n",
       "      <td>-0.653746</td>\n",
       "      <td>-0.030938</td>\n",
       "      <td>-0.628247</td>\n",
       "      <td>-0.206620</td>\n",
       "      <td>-0.060916</td>\n",
       "    </tr>\n",
       "    <tr>\n",
       "      <th>199997</th>\n",
       "      <td>1.030989</td>\n",
       "      <td>-0.316462</td>\n",
       "      <td>0.329316</td>\n",
       "      <td>0.830012</td>\n",
       "      <td>-0.280105</td>\n",
       "      <td>0.668018</td>\n",
       "      <td>0.717080</td>\n",
       "      <td>0.171555</td>\n",
       "      <td>-0.000573</td>\n",
       "      <td>-0.101927</td>\n",
       "    </tr>\n",
       "    <tr>\n",
       "      <th>199998</th>\n",
       "      <td>0.675702</td>\n",
       "      <td>1.347609</td>\n",
       "      <td>-0.188916</td>\n",
       "      <td>-0.021381</td>\n",
       "      <td>0.241398</td>\n",
       "      <td>0.603690</td>\n",
       "      <td>-0.369735</td>\n",
       "      <td>-0.744828</td>\n",
       "      <td>-0.203938</td>\n",
       "      <td>-0.096722</td>\n",
       "    </tr>\n",
       "    <tr>\n",
       "      <th>199999</th>\n",
       "      <td>-0.142163</td>\n",
       "      <td>0.381730</td>\n",
       "      <td>0.948737</td>\n",
       "      <td>0.847672</td>\n",
       "      <td>0.557681</td>\n",
       "      <td>0.149106</td>\n",
       "      <td>-0.604119</td>\n",
       "      <td>0.604717</td>\n",
       "      <td>-0.176959</td>\n",
       "      <td>-0.078373</td>\n",
       "    </tr>\n",
       "  </tbody>\n",
       "</table>\n",
       "<p>200000 rows × 10 columns</p>\n",
       "</div>"
      ],
      "text/plain": [
       "               0         1         2         3         4         5         6  \\\n",
       "0       0.434726  0.145174  0.652686 -0.099715  1.129426 -0.981383  0.168243   \n",
       "1       0.734795  0.553051  1.050631  0.521770  0.269423  0.530641 -0.266791   \n",
       "2       0.787830  0.491848  0.817720  0.343373  0.736093  0.456743 -0.200860   \n",
       "3       0.596491 -0.035462 -0.633719 -0.162462 -0.431001 -0.809091 -0.224373   \n",
       "4      -0.969467  0.292700  0.194685 -0.987393 -0.064350 -0.309333  0.750508   \n",
       "...          ...       ...       ...       ...       ...       ...       ...   \n",
       "199995  0.805187 -0.282984  0.167153  1.525200 -0.063386  0.014897 -0.184541   \n",
       "199996  0.879725 -0.772709  0.194769  0.339014  0.180176 -0.653746 -0.030938   \n",
       "199997  1.030989 -0.316462  0.329316  0.830012 -0.280105  0.668018  0.717080   \n",
       "199998  0.675702  1.347609 -0.188916 -0.021381  0.241398  0.603690 -0.369735   \n",
       "199999 -0.142163  0.381730  0.948737  0.847672  0.557681  0.149106 -0.604119   \n",
       "\n",
       "               7         8         9  \n",
       "0      -0.523437 -0.280493 -0.065278  \n",
       "1      -0.112976 -0.163796 -0.101476  \n",
       "2      -0.725792 -0.193903 -0.102075  \n",
       "3      -0.822344  1.201272  0.063223  \n",
       "4       0.210340 -0.145593 -0.080688  \n",
       "...          ...       ...       ...  \n",
       "199995 -0.062523 -0.106715 -0.083874  \n",
       "199996 -0.628247 -0.206620 -0.060916  \n",
       "199997  0.171555 -0.000573 -0.101927  \n",
       "199998 -0.744828 -0.203938 -0.096722  \n",
       "199999  0.604717 -0.176959 -0.078373  \n",
       "\n",
       "[200000 rows x 10 columns]"
      ]
     },
     "execution_count": 13,
     "metadata": {},
     "output_type": "execute_result"
    }
   ],
   "source": [
    "test_pca_binary_num = pca.transform(X_test)\n",
    "test_pca_binary_num = pd.DataFrame(test_pca_binary_num)\n",
    "test_pca_binary_num"
   ]
  },
  {
   "cell_type": "code",
   "execution_count": 14,
   "id": "cooked-cookbook",
   "metadata": {
    "ExecuteTime": {
     "end_time": "2021-02-18T13:49:51.080177Z",
     "start_time": "2021-02-18T13:49:51.072016Z"
    }
   },
   "outputs": [],
   "source": [
    "target = fulldf_binary_num[[\"id\", \"target\"]]"
   ]
  },
  {
   "cell_type": "code",
   "execution_count": 15,
   "id": "current-heather",
   "metadata": {
    "ExecuteTime": {
     "end_time": "2021-02-18T13:49:55.553876Z",
     "start_time": "2021-02-18T13:49:55.550117Z"
    }
   },
   "outputs": [],
   "source": [
    "i_d = pd.DataFrame(testdf_binary_num[\"id\"])"
   ]
  },
  {
   "cell_type": "code",
   "execution_count": 16,
   "id": "suited-adaptation",
   "metadata": {
    "ExecuteTime": {
     "end_time": "2021-02-18T13:50:02.068921Z",
     "start_time": "2021-02-18T13:50:02.023216Z"
    }
   },
   "outputs": [],
   "source": [
    "train_pca_binary_num = pd.merge(train_pca_binary_num, target, left_index=True, right_index=True)"
   ]
  },
  {
   "cell_type": "code",
   "execution_count": 17,
   "id": "greenhouse-suite",
   "metadata": {
    "ExecuteTime": {
     "end_time": "2021-02-18T13:50:09.847473Z",
     "start_time": "2021-02-18T13:50:09.816428Z"
    }
   },
   "outputs": [],
   "source": [
    "test_pca_binary_num = pd.merge(test_pca_binary_num, i_d, left_index=True, right_index=True)"
   ]
  },
  {
   "cell_type": "code",
   "execution_count": 18,
   "id": "olympic-joining",
   "metadata": {
    "ExecuteTime": {
     "end_time": "2021-02-18T13:50:22.594967Z",
     "start_time": "2021-02-18T13:50:17.056892Z"
    }
   },
   "outputs": [],
   "source": [
    "train_pca_binary_num.to_csv(\"train_pca_binary_num.csv\")"
   ]
  },
  {
   "cell_type": "code",
   "execution_count": 19,
   "id": "conservative-redhead",
   "metadata": {
    "ExecuteTime": {
     "end_time": "2021-02-18T13:50:27.290176Z",
     "start_time": "2021-02-18T13:50:24.005498Z"
    }
   },
   "outputs": [],
   "source": [
    "test_pca_binary_num.to_csv(\"test_pca_binary_num.csv\")"
   ]
  }
 ],
 "metadata": {
  "kernelspec": {
   "display_name": "Python 3",
   "language": "python",
   "name": "python3"
  },
  "language_info": {
   "codemirror_mode": {
    "name": "ipython",
    "version": 3
   },
   "file_extension": ".py",
   "mimetype": "text/x-python",
   "name": "python",
   "nbconvert_exporter": "python",
   "pygments_lexer": "ipython3",
   "version": "3.8.3"
  }
 },
 "nbformat": 4,
 "nbformat_minor": 5
}
