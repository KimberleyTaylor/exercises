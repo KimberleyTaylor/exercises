{
 "cells": [
  {
   "cell_type": "markdown",
   "id": "corporate-species",
   "metadata": {
    "cell_id": "00000-bba13105-eb13-437c-97ab-7c28a5c96fb6",
    "deepnote_cell_type": "markdown"
   },
   "source": [
    "# Feature Selection\n",
    "- Principle Component Analysis (PCA)\n",
    "1. **binary_log**"
   ]
  },
  {
   "cell_type": "code",
   "execution_count": 1,
   "id": "bearing-visit",
   "metadata": {
    "ExecuteTime": {
     "end_time": "2021-02-18T13:42:41.866969Z",
     "start_time": "2021-02-18T13:42:40.577636Z"
    },
    "cell_id": "00001-75608d84-9f40-4831-9452-6500364bd2a7",
    "deepnote_cell_type": "code",
    "deepnote_to_be_reexecuted": false,
    "execution_millis": 0,
    "execution_start": 1613652964355,
    "source_hash": "3d031449"
   },
   "outputs": [],
   "source": [
    "import pandas as pd\n",
    "import numpy as np\n",
    "from sklearn.decomposition import PCA"
   ]
  },
  {
   "cell_type": "code",
   "execution_count": 2,
   "id": "fuzzy-consumption",
   "metadata": {
    "ExecuteTime": {
     "end_time": "2021-02-18T13:42:42.681862Z",
     "start_time": "2021-02-18T13:42:42.677186Z"
    },
    "cell_id": "00002-64de490c-37aa-480e-a06a-c6f988784dfc",
    "deepnote_cell_type": "code"
   },
   "outputs": [],
   "source": [
    "path = \"../../../../csv_files/\""
   ]
  },
  {
   "cell_type": "code",
   "execution_count": 3,
   "id": "center-venezuela",
   "metadata": {
    "ExecuteTime": {
     "end_time": "2021-02-18T13:42:45.759850Z",
     "start_time": "2021-02-18T13:42:44.098683Z"
    },
    "cell_id": "00003-18f493cf-9d20-4db1-b2bf-9cdee465d9d6",
    "deepnote_cell_type": "code"
   },
   "outputs": [],
   "source": [
    "fulldf_binary_log = pd.read_csv(path + \"train/full_train/full_train_combinations/fulldf_binary_log.csv\", index_col=\"Unnamed: 0\")"
   ]
  },
  {
   "cell_type": "code",
   "execution_count": 4,
   "id": "right-lewis",
   "metadata": {
    "ExecuteTime": {
     "end_time": "2021-02-18T13:42:48.460956Z",
     "start_time": "2021-02-18T13:42:47.247891Z"
    },
    "cell_id": "00006-400b156e-e1ca-44b3-a203-31fd477b53ab",
    "deepnote_cell_type": "code",
    "tags": []
   },
   "outputs": [],
   "source": [
    "testdf_binary_log = pd.read_csv(path + \"test/full_test/full_test_combinations/testdf_binary_log.csv\", index_col=\"Unnamed: 0\")"
   ]
  },
  {
   "cell_type": "code",
   "execution_count": 5,
   "id": "atmospheric-geometry",
   "metadata": {
    "ExecuteTime": {
     "end_time": "2021-02-18T13:42:49.999525Z",
     "start_time": "2021-02-18T13:42:49.959631Z"
    },
    "cell_id": "00004-407f6556-a08c-4999-beef-cc1501150663",
    "deepnote_cell_type": "code"
   },
   "outputs": [],
   "source": [
    "X_train = fulldf_binary_log.loc[:,\"cat0_0\":\"cont12_log\"]"
   ]
  },
  {
   "cell_type": "code",
   "execution_count": 6,
   "id": "young-indianapolis",
   "metadata": {
    "ExecuteTime": {
     "end_time": "2021-02-18T13:42:51.439092Z",
     "start_time": "2021-02-18T13:42:51.415287Z"
    },
    "cell_id": "00007-d920ff8d-b02f-4fb6-bebc-179a6f366980",
    "deepnote_cell_type": "code",
    "tags": []
   },
   "outputs": [],
   "source": [
    "X_test = testdf_binary_log.loc[:,\"cat0_0\":\"cont12_log\"]"
   ]
  },
  {
   "cell_type": "code",
   "execution_count": 7,
   "id": "insured-timber",
   "metadata": {
    "ExecuteTime": {
     "end_time": "2021-02-18T13:42:54.611412Z",
     "start_time": "2021-02-18T13:42:52.995006Z"
    },
    "cell_id": "00006-2a740997-81fb-47bb-9f2d-ea815b58e2cb",
    "deepnote_cell_type": "code"
   },
   "outputs": [
    {
     "data": {
      "text/plain": [
       "PCA(n_components=10)"
      ]
     },
     "execution_count": 7,
     "metadata": {},
     "output_type": "execute_result"
    }
   ],
   "source": [
    "pca = PCA(n_components=10)\n",
    "pca.fit(X_train)"
   ]
  },
  {
   "cell_type": "code",
   "execution_count": 8,
   "id": "mobile-percentage",
   "metadata": {
    "ExecuteTime": {
     "end_time": "2021-02-18T13:42:56.752177Z",
     "start_time": "2021-02-18T13:42:56.616222Z"
    },
    "cell_id": "00007-5c333a5d-249b-406f-8f6c-4fe15c371939",
    "deepnote_cell_type": "code"
   },
   "outputs": [
    {
     "data": {
      "text/html": [
       "<div>\n",
       "<style scoped>\n",
       "    .dataframe tbody tr th:only-of-type {\n",
       "        vertical-align: middle;\n",
       "    }\n",
       "\n",
       "    .dataframe tbody tr th {\n",
       "        vertical-align: top;\n",
       "    }\n",
       "\n",
       "    .dataframe thead th {\n",
       "        text-align: right;\n",
       "    }\n",
       "</style>\n",
       "<table border=\"1\" class=\"dataframe\">\n",
       "  <thead>\n",
       "    <tr style=\"text-align: right;\">\n",
       "      <th></th>\n",
       "      <th>0</th>\n",
       "      <th>1</th>\n",
       "      <th>2</th>\n",
       "      <th>3</th>\n",
       "      <th>4</th>\n",
       "      <th>5</th>\n",
       "      <th>6</th>\n",
       "      <th>7</th>\n",
       "      <th>8</th>\n",
       "      <th>9</th>\n",
       "    </tr>\n",
       "  </thead>\n",
       "  <tbody>\n",
       "    <tr>\n",
       "      <th>0</th>\n",
       "      <td>0.716716</td>\n",
       "      <td>0.595545</td>\n",
       "      <td>0.608295</td>\n",
       "      <td>-0.209009</td>\n",
       "      <td>1.199111</td>\n",
       "      <td>-0.651410</td>\n",
       "      <td>0.138289</td>\n",
       "      <td>-0.538250</td>\n",
       "      <td>-0.241254</td>\n",
       "      <td>-0.077326</td>\n",
       "    </tr>\n",
       "    <tr>\n",
       "      <th>1</th>\n",
       "      <td>0.513736</td>\n",
       "      <td>-0.932538</td>\n",
       "      <td>0.449043</td>\n",
       "      <td>0.282653</td>\n",
       "      <td>-0.016575</td>\n",
       "      <td>1.299173</td>\n",
       "      <td>-0.208012</td>\n",
       "      <td>0.021708</td>\n",
       "      <td>-0.057877</td>\n",
       "      <td>1.241758</td>\n",
       "    </tr>\n",
       "    <tr>\n",
       "      <th>2</th>\n",
       "      <td>0.931614</td>\n",
       "      <td>0.363893</td>\n",
       "      <td>-0.816418</td>\n",
       "      <td>-0.185502</td>\n",
       "      <td>-0.325307</td>\n",
       "      <td>-0.326984</td>\n",
       "      <td>-0.227883</td>\n",
       "      <td>-0.696679</td>\n",
       "      <td>-0.138679</td>\n",
       "      <td>-0.118172</td>\n",
       "    </tr>\n",
       "    <tr>\n",
       "      <th>3</th>\n",
       "      <td>0.856347</td>\n",
       "      <td>0.528154</td>\n",
       "      <td>-0.870717</td>\n",
       "      <td>-0.344494</td>\n",
       "      <td>-0.285349</td>\n",
       "      <td>0.216780</td>\n",
       "      <td>0.903166</td>\n",
       "      <td>0.378401</td>\n",
       "      <td>0.029115</td>\n",
       "      <td>-0.104628</td>\n",
       "    </tr>\n",
       "    <tr>\n",
       "      <th>4</th>\n",
       "      <td>-0.098356</td>\n",
       "      <td>-0.366675</td>\n",
       "      <td>1.437369</td>\n",
       "      <td>-0.476111</td>\n",
       "      <td>0.051876</td>\n",
       "      <td>-0.094086</td>\n",
       "      <td>-0.277316</td>\n",
       "      <td>-0.160213</td>\n",
       "      <td>-0.205854</td>\n",
       "      <td>-0.086674</td>\n",
       "    </tr>\n",
       "    <tr>\n",
       "      <th>...</th>\n",
       "      <td>...</td>\n",
       "      <td>...</td>\n",
       "      <td>...</td>\n",
       "      <td>...</td>\n",
       "      <td>...</td>\n",
       "      <td>...</td>\n",
       "      <td>...</td>\n",
       "      <td>...</td>\n",
       "      <td>...</td>\n",
       "      <td>...</td>\n",
       "    </tr>\n",
       "    <tr>\n",
       "      <th>299878</th>\n",
       "      <td>-1.562403</td>\n",
       "      <td>0.108958</td>\n",
       "      <td>0.279137</td>\n",
       "      <td>0.320444</td>\n",
       "      <td>-0.506217</td>\n",
       "      <td>0.146402</td>\n",
       "      <td>0.380055</td>\n",
       "      <td>-0.031364</td>\n",
       "      <td>-0.208571</td>\n",
       "      <td>-0.061308</td>\n",
       "    </tr>\n",
       "    <tr>\n",
       "      <th>299879</th>\n",
       "      <td>-1.588254</td>\n",
       "      <td>0.094566</td>\n",
       "      <td>0.275181</td>\n",
       "      <td>0.323660</td>\n",
       "      <td>-0.501325</td>\n",
       "      <td>0.130335</td>\n",
       "      <td>0.385848</td>\n",
       "      <td>-0.026951</td>\n",
       "      <td>-0.212747</td>\n",
       "      <td>-0.057950</td>\n",
       "    </tr>\n",
       "    <tr>\n",
       "      <th>299880</th>\n",
       "      <td>-0.977611</td>\n",
       "      <td>0.096200</td>\n",
       "      <td>0.091207</td>\n",
       "      <td>-1.036704</td>\n",
       "      <td>0.201536</td>\n",
       "      <td>-0.382352</td>\n",
       "      <td>0.462254</td>\n",
       "      <td>0.941814</td>\n",
       "      <td>-0.086649</td>\n",
       "      <td>-0.072190</td>\n",
       "    </tr>\n",
       "    <tr>\n",
       "      <th>299881</th>\n",
       "      <td>-1.385757</td>\n",
       "      <td>0.216912</td>\n",
       "      <td>0.316429</td>\n",
       "      <td>0.294671</td>\n",
       "      <td>-0.319865</td>\n",
       "      <td>0.122049</td>\n",
       "      <td>-0.531571</td>\n",
       "      <td>-0.358070</td>\n",
       "      <td>1.193068</td>\n",
       "      <td>0.003129</td>\n",
       "    </tr>\n",
       "    <tr>\n",
       "      <th>299882</th>\n",
       "      <td>1.102868</td>\n",
       "      <td>-0.099305</td>\n",
       "      <td>0.268918</td>\n",
       "      <td>0.218295</td>\n",
       "      <td>0.141635</td>\n",
       "      <td>-0.683079</td>\n",
       "      <td>1.045299</td>\n",
       "      <td>0.221397</td>\n",
       "      <td>1.341129</td>\n",
       "      <td>0.052319</td>\n",
       "    </tr>\n",
       "  </tbody>\n",
       "</table>\n",
       "<p>299883 rows × 10 columns</p>\n",
       "</div>"
      ],
      "text/plain": [
       "               0         1         2         3         4         5         6  \\\n",
       "0       0.716716  0.595545  0.608295 -0.209009  1.199111 -0.651410  0.138289   \n",
       "1       0.513736 -0.932538  0.449043  0.282653 -0.016575  1.299173 -0.208012   \n",
       "2       0.931614  0.363893 -0.816418 -0.185502 -0.325307 -0.326984 -0.227883   \n",
       "3       0.856347  0.528154 -0.870717 -0.344494 -0.285349  0.216780  0.903166   \n",
       "4      -0.098356 -0.366675  1.437369 -0.476111  0.051876 -0.094086 -0.277316   \n",
       "...          ...       ...       ...       ...       ...       ...       ...   \n",
       "299878 -1.562403  0.108958  0.279137  0.320444 -0.506217  0.146402  0.380055   \n",
       "299879 -1.588254  0.094566  0.275181  0.323660 -0.501325  0.130335  0.385848   \n",
       "299880 -0.977611  0.096200  0.091207 -1.036704  0.201536 -0.382352  0.462254   \n",
       "299881 -1.385757  0.216912  0.316429  0.294671 -0.319865  0.122049 -0.531571   \n",
       "299882  1.102868 -0.099305  0.268918  0.218295  0.141635 -0.683079  1.045299   \n",
       "\n",
       "               7         8         9  \n",
       "0      -0.538250 -0.241254 -0.077326  \n",
       "1       0.021708 -0.057877  1.241758  \n",
       "2      -0.696679 -0.138679 -0.118172  \n",
       "3       0.378401  0.029115 -0.104628  \n",
       "4      -0.160213 -0.205854 -0.086674  \n",
       "...          ...       ...       ...  \n",
       "299878 -0.031364 -0.208571 -0.061308  \n",
       "299879 -0.026951 -0.212747 -0.057950  \n",
       "299880  0.941814 -0.086649 -0.072190  \n",
       "299881 -0.358070  1.193068  0.003129  \n",
       "299882  0.221397  1.341129  0.052319  \n",
       "\n",
       "[299883 rows x 10 columns]"
      ]
     },
     "execution_count": 8,
     "metadata": {},
     "output_type": "execute_result"
    }
   ],
   "source": [
    "train_pca_binary_log = pca.transform(X_train)\n",
    "train_pca_binary_log = pd.DataFrame(train_pca_binary_log)\n",
    "train_pca_binary_log"
   ]
  },
  {
   "cell_type": "code",
   "execution_count": 9,
   "id": "meaning-montreal",
   "metadata": {
    "ExecuteTime": {
     "end_time": "2021-02-18T13:42:59.669940Z",
     "start_time": "2021-02-18T13:42:59.577040Z"
    },
    "cell_id": "00012-7aeaebe0-2844-4311-bfb6-53d35ee46e95",
    "deepnote_cell_type": "code",
    "deepnote_to_be_reexecuted": false,
    "execution_millis": 697,
    "execution_start": 1613652142347,
    "output_cleared": true,
    "source_hash": null,
    "tags": []
   },
   "outputs": [
    {
     "data": {
      "text/html": [
       "<div>\n",
       "<style scoped>\n",
       "    .dataframe tbody tr th:only-of-type {\n",
       "        vertical-align: middle;\n",
       "    }\n",
       "\n",
       "    .dataframe tbody tr th {\n",
       "        vertical-align: top;\n",
       "    }\n",
       "\n",
       "    .dataframe thead th {\n",
       "        text-align: right;\n",
       "    }\n",
       "</style>\n",
       "<table border=\"1\" class=\"dataframe\">\n",
       "  <thead>\n",
       "    <tr style=\"text-align: right;\">\n",
       "      <th></th>\n",
       "      <th>0</th>\n",
       "      <th>1</th>\n",
       "      <th>2</th>\n",
       "      <th>3</th>\n",
       "      <th>4</th>\n",
       "      <th>5</th>\n",
       "      <th>6</th>\n",
       "      <th>7</th>\n",
       "      <th>8</th>\n",
       "      <th>9</th>\n",
       "    </tr>\n",
       "  </thead>\n",
       "  <tbody>\n",
       "    <tr>\n",
       "      <th>0</th>\n",
       "      <td>0.510118</td>\n",
       "      <td>0.421942</td>\n",
       "      <td>0.626516</td>\n",
       "      <td>-0.167114</td>\n",
       "      <td>1.176350</td>\n",
       "      <td>-0.794320</td>\n",
       "      <td>0.132950</td>\n",
       "      <td>-0.534262</td>\n",
       "      <td>-0.258720</td>\n",
       "      <td>-0.071362</td>\n",
       "    </tr>\n",
       "    <tr>\n",
       "      <th>1</th>\n",
       "      <td>0.548365</td>\n",
       "      <td>0.835342</td>\n",
       "      <td>1.019503</td>\n",
       "      <td>0.509426</td>\n",
       "      <td>0.285459</td>\n",
       "      <td>0.664287</td>\n",
       "      <td>-0.235486</td>\n",
       "      <td>-0.102751</td>\n",
       "      <td>-0.156176</td>\n",
       "      <td>-0.103416</td>\n",
       "    </tr>\n",
       "    <tr>\n",
       "      <th>2</th>\n",
       "      <td>0.577384</td>\n",
       "      <td>0.790668</td>\n",
       "      <td>0.773640</td>\n",
       "      <td>0.367115</td>\n",
       "      <td>0.764792</td>\n",
       "      <td>0.617939</td>\n",
       "      <td>-0.167900</td>\n",
       "      <td>-0.708410</td>\n",
       "      <td>-0.196079</td>\n",
       "      <td>-0.105474</td>\n",
       "    </tr>\n",
       "    <tr>\n",
       "      <th>3</th>\n",
       "      <td>0.650529</td>\n",
       "      <td>0.224976</td>\n",
       "      <td>-0.661692</td>\n",
       "      <td>-0.181756</td>\n",
       "      <td>-0.387711</td>\n",
       "      <td>-0.700917</td>\n",
       "      <td>-0.256491</td>\n",
       "      <td>-0.832766</td>\n",
       "      <td>1.219691</td>\n",
       "      <td>0.055642</td>\n",
       "    </tr>\n",
       "    <tr>\n",
       "      <th>4</th>\n",
       "      <td>-0.946428</td>\n",
       "      <td>0.050972</td>\n",
       "      <td>0.174878</td>\n",
       "      <td>-0.983611</td>\n",
       "      <td>-0.055924</td>\n",
       "      <td>-0.311808</td>\n",
       "      <td>0.738920</td>\n",
       "      <td>0.212554</td>\n",
       "      <td>-0.145774</td>\n",
       "      <td>-0.078747</td>\n",
       "    </tr>\n",
       "    <tr>\n",
       "      <th>...</th>\n",
       "      <td>...</td>\n",
       "      <td>...</td>\n",
       "      <td>...</td>\n",
       "      <td>...</td>\n",
       "      <td>...</td>\n",
       "      <td>...</td>\n",
       "      <td>...</td>\n",
       "      <td>...</td>\n",
       "      <td>...</td>\n",
       "      <td>...</td>\n",
       "    </tr>\n",
       "    <tr>\n",
       "      <th>199995</th>\n",
       "      <td>0.759385</td>\n",
       "      <td>-0.153987</td>\n",
       "      <td>0.218206</td>\n",
       "      <td>1.503147</td>\n",
       "      <td>-0.086686</td>\n",
       "      <td>-0.097091</td>\n",
       "      <td>-0.195936</td>\n",
       "      <td>-0.071761</td>\n",
       "      <td>-0.109201</td>\n",
       "      <td>-0.079440</td>\n",
       "    </tr>\n",
       "    <tr>\n",
       "      <th>199996</th>\n",
       "      <td>1.234107</td>\n",
       "      <td>-0.338382</td>\n",
       "      <td>0.203815</td>\n",
       "      <td>0.260633</td>\n",
       "      <td>0.195947</td>\n",
       "      <td>-0.542918</td>\n",
       "      <td>-0.062555</td>\n",
       "      <td>-0.648751</td>\n",
       "      <td>-0.174280</td>\n",
       "      <td>-0.071621</td>\n",
       "    </tr>\n",
       "    <tr>\n",
       "      <th>199997</th>\n",
       "      <td>1.100958</td>\n",
       "      <td>0.079177</td>\n",
       "      <td>0.321608</td>\n",
       "      <td>0.813627</td>\n",
       "      <td>-0.269592</td>\n",
       "      <td>0.742756</td>\n",
       "      <td>0.751775</td>\n",
       "      <td>0.184986</td>\n",
       "      <td>0.005856</td>\n",
       "      <td>-0.106070</td>\n",
       "    </tr>\n",
       "    <tr>\n",
       "      <th>199998</th>\n",
       "      <td>0.076422</td>\n",
       "      <td>1.365356</td>\n",
       "      <td>-0.229600</td>\n",
       "      <td>-0.017435</td>\n",
       "      <td>0.244578</td>\n",
       "      <td>0.661179</td>\n",
       "      <td>-0.334912</td>\n",
       "      <td>-0.739477</td>\n",
       "      <td>-0.200611</td>\n",
       "      <td>-0.098465</td>\n",
       "    </tr>\n",
       "    <tr>\n",
       "      <th>199999</th>\n",
       "      <td>-0.331410</td>\n",
       "      <td>0.228383</td>\n",
       "      <td>0.978215</td>\n",
       "      <td>0.837236</td>\n",
       "      <td>0.530778</td>\n",
       "      <td>0.076185</td>\n",
       "      <td>-0.604015</td>\n",
       "      <td>0.597824</td>\n",
       "      <td>-0.181046</td>\n",
       "      <td>-0.078190</td>\n",
       "    </tr>\n",
       "  </tbody>\n",
       "</table>\n",
       "<p>200000 rows × 10 columns</p>\n",
       "</div>"
      ],
      "text/plain": [
       "               0         1         2         3         4         5         6  \\\n",
       "0       0.510118  0.421942  0.626516 -0.167114  1.176350 -0.794320  0.132950   \n",
       "1       0.548365  0.835342  1.019503  0.509426  0.285459  0.664287 -0.235486   \n",
       "2       0.577384  0.790668  0.773640  0.367115  0.764792  0.617939 -0.167900   \n",
       "3       0.650529  0.224976 -0.661692 -0.181756 -0.387711 -0.700917 -0.256491   \n",
       "4      -0.946428  0.050972  0.174878 -0.983611 -0.055924 -0.311808  0.738920   \n",
       "...          ...       ...       ...       ...       ...       ...       ...   \n",
       "199995  0.759385 -0.153987  0.218206  1.503147 -0.086686 -0.097091 -0.195936   \n",
       "199996  1.234107 -0.338382  0.203815  0.260633  0.195947 -0.542918 -0.062555   \n",
       "199997  1.100958  0.079177  0.321608  0.813627 -0.269592  0.742756  0.751775   \n",
       "199998  0.076422  1.365356 -0.229600 -0.017435  0.244578  0.661179 -0.334912   \n",
       "199999 -0.331410  0.228383  0.978215  0.837236  0.530778  0.076185 -0.604015   \n",
       "\n",
       "               7         8         9  \n",
       "0      -0.534262 -0.258720 -0.071362  \n",
       "1      -0.102751 -0.156176 -0.103416  \n",
       "2      -0.708410 -0.196079 -0.105474  \n",
       "3      -0.832766  1.219691  0.055642  \n",
       "4       0.212554 -0.145774 -0.078747  \n",
       "...          ...       ...       ...  \n",
       "199995 -0.071761 -0.109201 -0.079440  \n",
       "199996 -0.648751 -0.174280 -0.071621  \n",
       "199997  0.184986  0.005856 -0.106070  \n",
       "199998 -0.739477 -0.200611 -0.098465  \n",
       "199999  0.597824 -0.181046 -0.078190  \n",
       "\n",
       "[200000 rows x 10 columns]"
      ]
     },
     "execution_count": 9,
     "metadata": {},
     "output_type": "execute_result"
    }
   ],
   "source": [
    "test_pca_binary_log = pca.transform(X_test)\n",
    "test_pca_binary_log = pd.DataFrame(test_pca_binary_log)\n",
    "test_pca_binary_log"
   ]
  },
  {
   "cell_type": "code",
   "execution_count": 10,
   "id": "macro-johnston",
   "metadata": {
    "ExecuteTime": {
     "end_time": "2021-02-18T13:43:02.683574Z",
     "start_time": "2021-02-18T13:43:02.675453Z"
    },
    "cell_id": "00013-82ade986-0d88-4b87-8325-9b5eae252da2",
    "deepnote_cell_type": "code",
    "tags": []
   },
   "outputs": [],
   "source": [
    "target = fulldf_binary_log[[\"id\", \"target\"]]"
   ]
  },
  {
   "cell_type": "code",
   "execution_count": 11,
   "id": "white-concrete",
   "metadata": {
    "ExecuteTime": {
     "end_time": "2021-02-18T13:43:04.057423Z",
     "start_time": "2021-02-18T13:43:04.053428Z"
    },
    "cell_id": "00014-2c87c2a2-022a-4fde-ab3b-6c8393f244ed",
    "deepnote_cell_type": "code",
    "tags": []
   },
   "outputs": [],
   "source": [
    "i_d = pd.DataFrame(testdf_binary_log[\"id\"])"
   ]
  },
  {
   "cell_type": "code",
   "execution_count": 13,
   "id": "future-exclusive",
   "metadata": {
    "ExecuteTime": {
     "end_time": "2021-02-18T13:43:22.183290Z",
     "start_time": "2021-02-18T13:43:22.128994Z"
    },
    "cell_id": "00015-b05a18c9-4161-4f28-b670-9846b8cf34d3",
    "deepnote_cell_type": "code",
    "tags": []
   },
   "outputs": [],
   "source": [
    "train_pca_binary_log = pd.merge(train_pca_binary_log, target, left_index=True, right_index=True)"
   ]
  },
  {
   "cell_type": "code",
   "execution_count": 15,
   "id": "economic-ministry",
   "metadata": {
    "ExecuteTime": {
     "end_time": "2021-02-18T13:43:59.526736Z",
     "start_time": "2021-02-18T13:43:59.495899Z"
    }
   },
   "outputs": [],
   "source": [
    "test_pca_binary_log = pd.merge(test_pca_binary_log, i_d, left_index=True, right_index=True)"
   ]
  },
  {
   "cell_type": "code",
   "execution_count": 17,
   "id": "rapid-mustang",
   "metadata": {
    "ExecuteTime": {
     "end_time": "2021-02-18T13:44:25.117290Z",
     "start_time": "2021-02-18T13:44:19.845905Z"
    },
    "cell_id": "00008-8e4019d2-86aa-47e7-b072-dad116a56314",
    "deepnote_cell_type": "code"
   },
   "outputs": [],
   "source": [
    "train_pca_binary_log.to_csv(\"train_pca_binary_log.csv\")"
   ]
  },
  {
   "cell_type": "code",
   "execution_count": 18,
   "id": "earned-berry",
   "metadata": {
    "ExecuteTime": {
     "end_time": "2021-02-18T13:44:36.324987Z",
     "start_time": "2021-02-18T13:44:32.773776Z"
    },
    "cell_id": "00014-1bc75e6e-e690-4a47-882f-fa6deaf86cef",
    "deepnote_cell_type": "code",
    "tags": []
   },
   "outputs": [],
   "source": [
    "test_pca_binary_log.to_csv(\"test_pca_binary_log.csv\")"
   ]
  }
 ],
 "metadata": {
  "deepnote": {},
  "deepnote_execution_queue": [],
  "deepnote_notebook_id": "6ece8504-b9d7-49f1-9564-049c84fc8566",
  "kernelspec": {
   "display_name": "Python 3",
   "language": "python",
   "name": "python3"
  },
  "language_info": {
   "codemirror_mode": {
    "name": "ipython",
    "version": 3
   },
   "file_extension": ".py",
   "mimetype": "text/x-python",
   "name": "python",
   "nbconvert_exporter": "python",
   "pygments_lexer": "ipython3",
   "version": "3.8.3"
  }
 },
 "nbformat": 4,
 "nbformat_minor": 5
}
