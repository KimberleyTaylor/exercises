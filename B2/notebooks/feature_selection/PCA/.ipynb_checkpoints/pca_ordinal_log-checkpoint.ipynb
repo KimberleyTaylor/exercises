{
 "cells": [
  {
   "cell_type": "markdown",
   "id": "polar-render",
   "metadata": {},
   "source": [
    "# Feature Selection\n",
    "- Principle Component Analysis (PCA)\n",
    "6. **ordinal_log**"
   ]
  },
  {
   "cell_type": "code",
   "execution_count": 1,
   "id": "direct-timing",
   "metadata": {
    "ExecuteTime": {
     "end_time": "2021-02-18T14:02:03.995442Z",
     "start_time": "2021-02-18T14:02:03.242043Z"
    }
   },
   "outputs": [],
   "source": [
    "import pandas as pd\n",
    "import numpy as np\n",
    "from sklearn.decomposition import PCA"
   ]
  },
  {
   "cell_type": "code",
   "execution_count": 2,
   "id": "restricted-disco",
   "metadata": {
    "ExecuteTime": {
     "end_time": "2021-02-18T14:02:04.002001Z",
     "start_time": "2021-02-18T14:02:03.997979Z"
    }
   },
   "outputs": [],
   "source": [
    "path = \"../../../../csv_files/\""
   ]
  },
  {
   "cell_type": "code",
   "execution_count": 3,
   "id": "particular-courage",
   "metadata": {
    "ExecuteTime": {
     "end_time": "2021-02-18T14:02:18.956621Z",
     "start_time": "2021-02-18T14:02:17.213768Z"
    }
   },
   "outputs": [],
   "source": [
    "fulldf_ordinal_log = pd.read_csv(path + \"train/full_train/full_train_combinations/fulldf_ordinal_log.csv\", index_col=\"Unnamed: 0\")"
   ]
  },
  {
   "cell_type": "code",
   "execution_count": 4,
   "id": "hungry-birth",
   "metadata": {
    "ExecuteTime": {
     "end_time": "2021-02-18T14:02:25.628503Z",
     "start_time": "2021-02-18T14:02:24.506115Z"
    }
   },
   "outputs": [],
   "source": [
    "testdf_ordinal_log = pd.read_csv(path + \"test/full_test/full_test_combinations/testdf_ordinal_log.csv\", index_col=\"Unnamed: 0\")"
   ]
  },
  {
   "cell_type": "code",
   "execution_count": 5,
   "id": "minute-employer",
   "metadata": {
    "ExecuteTime": {
     "end_time": "2021-02-18T14:02:30.716696Z",
     "start_time": "2021-02-18T14:02:30.694060Z"
    }
   },
   "outputs": [],
   "source": [
    "X_train = fulldf_ordinal_log.loc[:,\"cat0\":\"cont12_log\"]"
   ]
  },
  {
   "cell_type": "code",
   "execution_count": 6,
   "id": "numeric-silly",
   "metadata": {
    "ExecuteTime": {
     "end_time": "2021-02-18T14:02:35.888370Z",
     "start_time": "2021-02-18T14:02:35.869428Z"
    }
   },
   "outputs": [],
   "source": [
    "X_test = testdf_ordinal_log.loc[:,\"cat0\":\"cont12_log\"]"
   ]
  },
  {
   "cell_type": "code",
   "execution_count": 7,
   "id": "entertaining-voltage",
   "metadata": {
    "ExecuteTime": {
     "end_time": "2021-02-18T14:02:39.216616Z",
     "start_time": "2021-02-18T14:02:37.809902Z"
    }
   },
   "outputs": [
    {
     "data": {
      "text/plain": [
       "PCA(n_components=10)"
      ]
     },
     "execution_count": 7,
     "metadata": {},
     "output_type": "execute_result"
    }
   ],
   "source": [
    "pca = PCA(n_components=10)\n",
    "pca.fit(X_train)"
   ]
  },
  {
   "cell_type": "code",
   "execution_count": 10,
   "id": "floppy-winning",
   "metadata": {
    "ExecuteTime": {
     "end_time": "2021-02-18T14:03:04.614783Z",
     "start_time": "2021-02-18T14:03:04.539412Z"
    }
   },
   "outputs": [
    {
     "data": {
      "text/html": [
       "<div>\n",
       "<style scoped>\n",
       "    .dataframe tbody tr th:only-of-type {\n",
       "        vertical-align: middle;\n",
       "    }\n",
       "\n",
       "    .dataframe tbody tr th {\n",
       "        vertical-align: top;\n",
       "    }\n",
       "\n",
       "    .dataframe thead th {\n",
       "        text-align: right;\n",
       "    }\n",
       "</style>\n",
       "<table border=\"1\" class=\"dataframe\">\n",
       "  <thead>\n",
       "    <tr style=\"text-align: right;\">\n",
       "      <th></th>\n",
       "      <th>0</th>\n",
       "      <th>1</th>\n",
       "      <th>2</th>\n",
       "      <th>3</th>\n",
       "      <th>4</th>\n",
       "      <th>5</th>\n",
       "      <th>6</th>\n",
       "      <th>7</th>\n",
       "      <th>8</th>\n",
       "      <th>9</th>\n",
       "    </tr>\n",
       "  </thead>\n",
       "  <tbody>\n",
       "    <tr>\n",
       "      <th>0</th>\n",
       "      <td>-3.369601</td>\n",
       "      <td>-1.313471</td>\n",
       "      <td>0.558702</td>\n",
       "      <td>-0.410279</td>\n",
       "      <td>-0.194561</td>\n",
       "      <td>-0.827889</td>\n",
       "      <td>-0.392558</td>\n",
       "      <td>-0.035915</td>\n",
       "      <td>-0.084724</td>\n",
       "      <td>-0.024431</td>\n",
       "    </tr>\n",
       "    <tr>\n",
       "      <th>1</th>\n",
       "      <td>-2.340148</td>\n",
       "      <td>-0.346724</td>\n",
       "      <td>-0.404288</td>\n",
       "      <td>-0.059960</td>\n",
       "      <td>-0.754839</td>\n",
       "      <td>0.104357</td>\n",
       "      <td>-0.275902</td>\n",
       "      <td>-0.051785</td>\n",
       "      <td>0.907563</td>\n",
       "      <td>0.009675</td>\n",
       "    </tr>\n",
       "    <tr>\n",
       "      <th>2</th>\n",
       "      <td>-1.381010</td>\n",
       "      <td>-1.387069</td>\n",
       "      <td>0.858183</td>\n",
       "      <td>0.565500</td>\n",
       "      <td>0.254164</td>\n",
       "      <td>0.496266</td>\n",
       "      <td>-0.184192</td>\n",
       "      <td>0.029185</td>\n",
       "      <td>-0.090876</td>\n",
       "      <td>-0.016364</td>\n",
       "    </tr>\n",
       "    <tr>\n",
       "      <th>3</th>\n",
       "      <td>-0.295248</td>\n",
       "      <td>0.549913</td>\n",
       "      <td>0.604841</td>\n",
       "      <td>-0.382496</td>\n",
       "      <td>0.093649</td>\n",
       "      <td>0.578905</td>\n",
       "      <td>-0.383733</td>\n",
       "      <td>0.105523</td>\n",
       "      <td>-0.105262</td>\n",
       "      <td>-0.015437</td>\n",
       "    </tr>\n",
       "    <tr>\n",
       "      <th>4</th>\n",
       "      <td>-2.359980</td>\n",
       "      <td>-1.310632</td>\n",
       "      <td>-0.460147</td>\n",
       "      <td>-0.076920</td>\n",
       "      <td>-0.281724</td>\n",
       "      <td>-0.841069</td>\n",
       "      <td>-0.038315</td>\n",
       "      <td>-0.137365</td>\n",
       "      <td>-0.060163</td>\n",
       "      <td>-0.021884</td>\n",
       "    </tr>\n",
       "    <tr>\n",
       "      <th>...</th>\n",
       "      <td>...</td>\n",
       "      <td>...</td>\n",
       "      <td>...</td>\n",
       "      <td>...</td>\n",
       "      <td>...</td>\n",
       "      <td>...</td>\n",
       "      <td>...</td>\n",
       "      <td>...</td>\n",
       "      <td>...</td>\n",
       "      <td>...</td>\n",
       "    </tr>\n",
       "    <tr>\n",
       "      <th>299878</th>\n",
       "      <td>1.784914</td>\n",
       "      <td>1.584175</td>\n",
       "      <td>-0.395887</td>\n",
       "      <td>-0.093358</td>\n",
       "      <td>0.322002</td>\n",
       "      <td>-0.301806</td>\n",
       "      <td>0.176972</td>\n",
       "      <td>-0.191742</td>\n",
       "      <td>-0.044400</td>\n",
       "      <td>-0.022142</td>\n",
       "    </tr>\n",
       "    <tr>\n",
       "      <th>299879</th>\n",
       "      <td>1.786736</td>\n",
       "      <td>1.590277</td>\n",
       "      <td>-0.411937</td>\n",
       "      <td>-0.100070</td>\n",
       "      <td>0.328949</td>\n",
       "      <td>-0.301650</td>\n",
       "      <td>0.256041</td>\n",
       "      <td>-0.228417</td>\n",
       "      <td>-0.031229</td>\n",
       "      <td>-0.030897</td>\n",
       "    </tr>\n",
       "    <tr>\n",
       "      <th>299880</th>\n",
       "      <td>7.646932</td>\n",
       "      <td>-1.677314</td>\n",
       "      <td>-0.467382</td>\n",
       "      <td>-0.062983</td>\n",
       "      <td>0.400513</td>\n",
       "      <td>-0.287232</td>\n",
       "      <td>0.206025</td>\n",
       "      <td>-0.193251</td>\n",
       "      <td>-0.043891</td>\n",
       "      <td>-0.014058</td>\n",
       "    </tr>\n",
       "    <tr>\n",
       "      <th>299881</th>\n",
       "      <td>-2.214597</td>\n",
       "      <td>1.746746</td>\n",
       "      <td>0.283944</td>\n",
       "      <td>1.757117</td>\n",
       "      <td>0.422579</td>\n",
       "      <td>-0.495872</td>\n",
       "      <td>0.729668</td>\n",
       "      <td>0.649491</td>\n",
       "      <td>0.073777</td>\n",
       "      <td>-0.184204</td>\n",
       "    </tr>\n",
       "    <tr>\n",
       "      <th>299882</th>\n",
       "      <td>-0.395771</td>\n",
       "      <td>-1.480715</td>\n",
       "      <td>0.520769</td>\n",
       "      <td>-0.428229</td>\n",
       "      <td>-0.615334</td>\n",
       "      <td>0.016537</td>\n",
       "      <td>0.240587</td>\n",
       "      <td>0.890828</td>\n",
       "      <td>0.030154</td>\n",
       "      <td>-0.180460</td>\n",
       "    </tr>\n",
       "  </tbody>\n",
       "</table>\n",
       "<p>299883 rows × 10 columns</p>\n",
       "</div>"
      ],
      "text/plain": [
       "               0         1         2         3         4         5         6  \\\n",
       "0      -3.369601 -1.313471  0.558702 -0.410279 -0.194561 -0.827889 -0.392558   \n",
       "1      -2.340148 -0.346724 -0.404288 -0.059960 -0.754839  0.104357 -0.275902   \n",
       "2      -1.381010 -1.387069  0.858183  0.565500  0.254164  0.496266 -0.184192   \n",
       "3      -0.295248  0.549913  0.604841 -0.382496  0.093649  0.578905 -0.383733   \n",
       "4      -2.359980 -1.310632 -0.460147 -0.076920 -0.281724 -0.841069 -0.038315   \n",
       "...          ...       ...       ...       ...       ...       ...       ...   \n",
       "299878  1.784914  1.584175 -0.395887 -0.093358  0.322002 -0.301806  0.176972   \n",
       "299879  1.786736  1.590277 -0.411937 -0.100070  0.328949 -0.301650  0.256041   \n",
       "299880  7.646932 -1.677314 -0.467382 -0.062983  0.400513 -0.287232  0.206025   \n",
       "299881 -2.214597  1.746746  0.283944  1.757117  0.422579 -0.495872  0.729668   \n",
       "299882 -0.395771 -1.480715  0.520769 -0.428229 -0.615334  0.016537  0.240587   \n",
       "\n",
       "               7         8         9  \n",
       "0      -0.035915 -0.084724 -0.024431  \n",
       "1      -0.051785  0.907563  0.009675  \n",
       "2       0.029185 -0.090876 -0.016364  \n",
       "3       0.105523 -0.105262 -0.015437  \n",
       "4      -0.137365 -0.060163 -0.021884  \n",
       "...          ...       ...       ...  \n",
       "299878 -0.191742 -0.044400 -0.022142  \n",
       "299879 -0.228417 -0.031229 -0.030897  \n",
       "299880 -0.193251 -0.043891 -0.014058  \n",
       "299881  0.649491  0.073777 -0.184204  \n",
       "299882  0.890828  0.030154 -0.180460  \n",
       "\n",
       "[299883 rows x 10 columns]"
      ]
     },
     "execution_count": 10,
     "metadata": {},
     "output_type": "execute_result"
    }
   ],
   "source": [
    "train_pca_ordinal_log = pca.transform(X_train)\n",
    "train_pca_ordinal_log = pd.DataFrame(train_pca_ordinal_log)\n",
    "train_pca_ordinal_log"
   ]
  },
  {
   "cell_type": "code",
   "execution_count": 11,
   "id": "forbidden-survival",
   "metadata": {
    "ExecuteTime": {
     "end_time": "2021-02-18T14:03:16.731990Z",
     "start_time": "2021-02-18T14:03:16.664904Z"
    }
   },
   "outputs": [
    {
     "data": {
      "text/html": [
       "<div>\n",
       "<style scoped>\n",
       "    .dataframe tbody tr th:only-of-type {\n",
       "        vertical-align: middle;\n",
       "    }\n",
       "\n",
       "    .dataframe tbody tr th {\n",
       "        vertical-align: top;\n",
       "    }\n",
       "\n",
       "    .dataframe thead th {\n",
       "        text-align: right;\n",
       "    }\n",
       "</style>\n",
       "<table border=\"1\" class=\"dataframe\">\n",
       "  <thead>\n",
       "    <tr style=\"text-align: right;\">\n",
       "      <th></th>\n",
       "      <th>0</th>\n",
       "      <th>1</th>\n",
       "      <th>2</th>\n",
       "      <th>3</th>\n",
       "      <th>4</th>\n",
       "      <th>5</th>\n",
       "      <th>6</th>\n",
       "      <th>7</th>\n",
       "      <th>8</th>\n",
       "      <th>9</th>\n",
       "    </tr>\n",
       "  </thead>\n",
       "  <tbody>\n",
       "    <tr>\n",
       "      <th>0</th>\n",
       "      <td>-3.363557</td>\n",
       "      <td>-1.268850</td>\n",
       "      <td>0.396647</td>\n",
       "      <td>-0.466205</td>\n",
       "      <td>-0.182537</td>\n",
       "      <td>-0.823103</td>\n",
       "      <td>0.404645</td>\n",
       "      <td>-0.324053</td>\n",
       "      <td>-0.015538</td>\n",
       "      <td>-0.045992</td>\n",
       "    </tr>\n",
       "    <tr>\n",
       "      <th>1</th>\n",
       "      <td>-2.326458</td>\n",
       "      <td>-0.353758</td>\n",
       "      <td>0.517381</td>\n",
       "      <td>-0.449977</td>\n",
       "      <td>-0.291330</td>\n",
       "      <td>-0.778410</td>\n",
       "      <td>-0.001115</td>\n",
       "      <td>-0.164901</td>\n",
       "      <td>-0.050512</td>\n",
       "      <td>-0.027635</td>\n",
       "    </tr>\n",
       "    <tr>\n",
       "      <th>2</th>\n",
       "      <td>-1.329824</td>\n",
       "      <td>-0.419605</td>\n",
       "      <td>0.526361</td>\n",
       "      <td>-0.450966</td>\n",
       "      <td>-0.323582</td>\n",
       "      <td>-0.758412</td>\n",
       "      <td>-0.020408</td>\n",
       "      <td>-0.146380</td>\n",
       "      <td>-0.051493</td>\n",
       "      <td>-0.026153</td>\n",
       "    </tr>\n",
       "    <tr>\n",
       "      <th>3</th>\n",
       "      <td>-1.375259</td>\n",
       "      <td>-1.365896</td>\n",
       "      <td>0.404502</td>\n",
       "      <td>-0.404840</td>\n",
       "      <td>0.313980</td>\n",
       "      <td>0.414048</td>\n",
       "      <td>0.535784</td>\n",
       "      <td>0.803870</td>\n",
       "      <td>0.045663</td>\n",
       "      <td>-0.184524</td>\n",
       "    </tr>\n",
       "    <tr>\n",
       "      <th>4</th>\n",
       "      <td>-0.340740</td>\n",
       "      <td>-1.311550</td>\n",
       "      <td>-0.559212</td>\n",
       "      <td>-0.057311</td>\n",
       "      <td>0.590022</td>\n",
       "      <td>-0.406401</td>\n",
       "      <td>0.281959</td>\n",
       "      <td>-0.245832</td>\n",
       "      <td>-0.034571</td>\n",
       "      <td>-0.031367</td>\n",
       "    </tr>\n",
       "    <tr>\n",
       "      <th>...</th>\n",
       "      <td>...</td>\n",
       "      <td>...</td>\n",
       "      <td>...</td>\n",
       "      <td>...</td>\n",
       "      <td>...</td>\n",
       "      <td>...</td>\n",
       "      <td>...</td>\n",
       "      <td>...</td>\n",
       "      <td>...</td>\n",
       "      <td>...</td>\n",
       "    </tr>\n",
       "    <tr>\n",
       "      <th>199995</th>\n",
       "      <td>-2.266120</td>\n",
       "      <td>1.585928</td>\n",
       "      <td>0.696802</td>\n",
       "      <td>-0.436940</td>\n",
       "      <td>-0.831114</td>\n",
       "      <td>0.162543</td>\n",
       "      <td>-0.408919</td>\n",
       "      <td>0.093275</td>\n",
       "      <td>-0.105012</td>\n",
       "      <td>-0.022156</td>\n",
       "    </tr>\n",
       "    <tr>\n",
       "      <th>199996</th>\n",
       "      <td>-1.390676</td>\n",
       "      <td>-1.401128</td>\n",
       "      <td>0.426979</td>\n",
       "      <td>-0.447727</td>\n",
       "      <td>-0.621213</td>\n",
       "      <td>0.103458</td>\n",
       "      <td>0.323828</td>\n",
       "      <td>-0.184294</td>\n",
       "      <td>-0.037302</td>\n",
       "      <td>-0.038710</td>\n",
       "    </tr>\n",
       "    <tr>\n",
       "      <th>199997</th>\n",
       "      <td>1.641343</td>\n",
       "      <td>-0.588994</td>\n",
       "      <td>0.555481</td>\n",
       "      <td>-0.445292</td>\n",
       "      <td>-0.791165</td>\n",
       "      <td>0.187233</td>\n",
       "      <td>0.030771</td>\n",
       "      <td>-0.037774</td>\n",
       "      <td>-0.074182</td>\n",
       "      <td>-0.016122</td>\n",
       "    </tr>\n",
       "    <tr>\n",
       "      <th>199998</th>\n",
       "      <td>-1.310581</td>\n",
       "      <td>-0.345403</td>\n",
       "      <td>0.567787</td>\n",
       "      <td>-0.382009</td>\n",
       "      <td>0.594802</td>\n",
       "      <td>-0.370017</td>\n",
       "      <td>-0.433574</td>\n",
       "      <td>-0.008809</td>\n",
       "      <td>-0.082288</td>\n",
       "      <td>-0.021680</td>\n",
       "    </tr>\n",
       "    <tr>\n",
       "      <th>199999</th>\n",
       "      <td>5.775956</td>\n",
       "      <td>1.393961</td>\n",
       "      <td>-1.995734</td>\n",
       "      <td>0.634699</td>\n",
       "      <td>-0.809368</td>\n",
       "      <td>-0.731091</td>\n",
       "      <td>-0.733251</td>\n",
       "      <td>0.162478</td>\n",
       "      <td>-0.136278</td>\n",
       "      <td>0.010006</td>\n",
       "    </tr>\n",
       "  </tbody>\n",
       "</table>\n",
       "<p>200000 rows × 10 columns</p>\n",
       "</div>"
      ],
      "text/plain": [
       "               0         1         2         3         4         5         6  \\\n",
       "0      -3.363557 -1.268850  0.396647 -0.466205 -0.182537 -0.823103  0.404645   \n",
       "1      -2.326458 -0.353758  0.517381 -0.449977 -0.291330 -0.778410 -0.001115   \n",
       "2      -1.329824 -0.419605  0.526361 -0.450966 -0.323582 -0.758412 -0.020408   \n",
       "3      -1.375259 -1.365896  0.404502 -0.404840  0.313980  0.414048  0.535784   \n",
       "4      -0.340740 -1.311550 -0.559212 -0.057311  0.590022 -0.406401  0.281959   \n",
       "...          ...       ...       ...       ...       ...       ...       ...   \n",
       "199995 -2.266120  1.585928  0.696802 -0.436940 -0.831114  0.162543 -0.408919   \n",
       "199996 -1.390676 -1.401128  0.426979 -0.447727 -0.621213  0.103458  0.323828   \n",
       "199997  1.641343 -0.588994  0.555481 -0.445292 -0.791165  0.187233  0.030771   \n",
       "199998 -1.310581 -0.345403  0.567787 -0.382009  0.594802 -0.370017 -0.433574   \n",
       "199999  5.775956  1.393961 -1.995734  0.634699 -0.809368 -0.731091 -0.733251   \n",
       "\n",
       "               7         8         9  \n",
       "0      -0.324053 -0.015538 -0.045992  \n",
       "1      -0.164901 -0.050512 -0.027635  \n",
       "2      -0.146380 -0.051493 -0.026153  \n",
       "3       0.803870  0.045663 -0.184524  \n",
       "4      -0.245832 -0.034571 -0.031367  \n",
       "...          ...       ...       ...  \n",
       "199995  0.093275 -0.105012 -0.022156  \n",
       "199996 -0.184294 -0.037302 -0.038710  \n",
       "199997 -0.037774 -0.074182 -0.016122  \n",
       "199998 -0.008809 -0.082288 -0.021680  \n",
       "199999  0.162478 -0.136278  0.010006  \n",
       "\n",
       "[200000 rows x 10 columns]"
      ]
     },
     "execution_count": 11,
     "metadata": {},
     "output_type": "execute_result"
    }
   ],
   "source": [
    "test_pca_ordinal_log = pca.transform(X_test)\n",
    "test_pca_ordinal_log = pd.DataFrame(test_pca_ordinal_log)\n",
    "test_pca_ordinal_log"
   ]
  },
  {
   "cell_type": "code",
   "execution_count": 12,
   "id": "neural-champion",
   "metadata": {
    "ExecuteTime": {
     "end_time": "2021-02-18T14:03:25.268149Z",
     "start_time": "2021-02-18T14:03:25.260363Z"
    }
   },
   "outputs": [],
   "source": [
    "target = fulldf_ordinal_log[[\"id\", \"target\"]]\n",
    "i_d = pd.DataFrame(testdf_ordinal_log[\"id\"])"
   ]
  },
  {
   "cell_type": "code",
   "execution_count": 13,
   "id": "detailed-strip",
   "metadata": {
    "ExecuteTime": {
     "end_time": "2021-02-18T14:03:32.704315Z",
     "start_time": "2021-02-18T14:03:32.658440Z"
    }
   },
   "outputs": [],
   "source": [
    "train_pca_ordinal_log = pd.merge(train_pca_ordinal_log, target, left_index=True, right_index=True)"
   ]
  },
  {
   "cell_type": "code",
   "execution_count": 14,
   "id": "activated-rider",
   "metadata": {
    "ExecuteTime": {
     "end_time": "2021-02-18T14:03:40.244030Z",
     "start_time": "2021-02-18T14:03:40.210832Z"
    }
   },
   "outputs": [],
   "source": [
    "test_pca_ordinal_log = pd.merge(test_pca_ordinal_log, i_d, left_index=True, right_index=True)"
   ]
  },
  {
   "cell_type": "code",
   "execution_count": 15,
   "id": "extraordinary-queen",
   "metadata": {
    "ExecuteTime": {
     "end_time": "2021-02-18T14:03:52.069622Z",
     "start_time": "2021-02-18T14:03:46.415893Z"
    }
   },
   "outputs": [],
   "source": [
    "train_pca_ordinal_log.to_csv(\"train_pca_ordinal_log.csv\")"
   ]
  },
  {
   "cell_type": "code",
   "execution_count": 16,
   "id": "improved-industry",
   "metadata": {
    "ExecuteTime": {
     "end_time": "2021-02-18T14:03:57.473716Z",
     "start_time": "2021-02-18T14:03:53.893298Z"
    }
   },
   "outputs": [],
   "source": [
    "test_pca_ordinal_log.to_csv(\"test_pca_ordinal_log.csv\")"
   ]
  }
 ],
 "metadata": {
  "kernelspec": {
   "display_name": "Python 3",
   "language": "python",
   "name": "python3"
  },
  "language_info": {
   "codemirror_mode": {
    "name": "ipython",
    "version": 3
   },
   "file_extension": ".py",
   "mimetype": "text/x-python",
   "name": "python",
   "nbconvert_exporter": "python",
   "pygments_lexer": "ipython3",
   "version": "3.8.3"
  }
 },
 "nbformat": 4,
 "nbformat_minor": 5
}
