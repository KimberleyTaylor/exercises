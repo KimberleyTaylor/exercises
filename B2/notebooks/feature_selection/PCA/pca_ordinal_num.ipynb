{
 "cells": [
  {
   "cell_type": "markdown",
   "id": "empty-colombia",
   "metadata": {},
   "source": [
    "# Feature Selection\n",
    "- Principle Component Analysis (PCA)\n",
    "6. **ordinal_num**"
   ]
  },
  {
   "cell_type": "code",
   "execution_count": 1,
   "id": "identified-respect",
   "metadata": {
    "ExecuteTime": {
     "end_time": "2021-02-18T14:05:08.387812Z",
     "start_time": "2021-02-18T14:05:07.622698Z"
    }
   },
   "outputs": [],
   "source": [
    "import pandas as pd\n",
    "import numpy as np\n",
    "from sklearn.decomposition import PCA"
   ]
  },
  {
   "cell_type": "code",
   "execution_count": 2,
   "id": "burning-nutrition",
   "metadata": {
    "ExecuteTime": {
     "end_time": "2021-02-18T14:05:08.393935Z",
     "start_time": "2021-02-18T14:05:08.390191Z"
    }
   },
   "outputs": [],
   "source": [
    "path = \"../../../../csv_files/\""
   ]
  },
  {
   "cell_type": "code",
   "execution_count": 3,
   "id": "stunning-level",
   "metadata": {
    "ExecuteTime": {
     "end_time": "2021-02-18T14:05:10.396294Z",
     "start_time": "2021-02-18T14:05:08.658083Z"
    }
   },
   "outputs": [],
   "source": [
    "fulldf_ordinal_num = pd.read_csv(path + \"train/full_train/full_train_combinations/fulldf_ordinal_num.csv\", index_col=\"Unnamed: 0\")"
   ]
  },
  {
   "cell_type": "code",
   "execution_count": 4,
   "id": "military-legend",
   "metadata": {
    "ExecuteTime": {
     "end_time": "2021-02-18T14:05:12.302236Z",
     "start_time": "2021-02-18T14:05:11.121597Z"
    }
   },
   "outputs": [],
   "source": [
    "testdf_ordinal_num = pd.read_csv(path + \"test/full_test/full_test_combinations/testdf_ordinal_num.csv\", index_col=\"Unnamed: 0\")"
   ]
  },
  {
   "cell_type": "code",
   "execution_count": 6,
   "id": "thirty-trial",
   "metadata": {
    "ExecuteTime": {
     "end_time": "2021-02-18T14:05:28.174451Z",
     "start_time": "2021-02-18T14:05:28.148531Z"
    }
   },
   "outputs": [],
   "source": [
    "X_train = fulldf_ordinal_num.loc[:,\"cat0\":\"cont12\"]"
   ]
  },
  {
   "cell_type": "code",
   "execution_count": 7,
   "id": "caroline-recorder",
   "metadata": {
    "ExecuteTime": {
     "end_time": "2021-02-18T14:05:35.125219Z",
     "start_time": "2021-02-18T14:05:35.091876Z"
    }
   },
   "outputs": [],
   "source": [
    "X_test = testdf_ordinal_num.loc[:,\"cat0\":\"cont12\"]"
   ]
  },
  {
   "cell_type": "code",
   "execution_count": 8,
   "id": "absent-clarity",
   "metadata": {
    "ExecuteTime": {
     "end_time": "2021-02-18T14:05:37.852114Z",
     "start_time": "2021-02-18T14:05:36.109143Z"
    }
   },
   "outputs": [
    {
     "data": {
      "text/plain": [
       "PCA(n_components=10)"
      ]
     },
     "execution_count": 8,
     "metadata": {},
     "output_type": "execute_result"
    }
   ],
   "source": [
    "pca = PCA(n_components=10)\n",
    "pca.fit(X_train)"
   ]
  },
  {
   "cell_type": "code",
   "execution_count": 9,
   "id": "difficult-absence",
   "metadata": {
    "ExecuteTime": {
     "end_time": "2021-02-18T14:05:47.916228Z",
     "start_time": "2021-02-18T14:05:47.843364Z"
    }
   },
   "outputs": [
    {
     "data": {
      "text/html": [
       "<div>\n",
       "<style scoped>\n",
       "    .dataframe tbody tr th:only-of-type {\n",
       "        vertical-align: middle;\n",
       "    }\n",
       "\n",
       "    .dataframe tbody tr th {\n",
       "        vertical-align: top;\n",
       "    }\n",
       "\n",
       "    .dataframe thead th {\n",
       "        text-align: right;\n",
       "    }\n",
       "</style>\n",
       "<table border=\"1\" class=\"dataframe\">\n",
       "  <thead>\n",
       "    <tr style=\"text-align: right;\">\n",
       "      <th></th>\n",
       "      <th>0</th>\n",
       "      <th>1</th>\n",
       "      <th>2</th>\n",
       "      <th>3</th>\n",
       "      <th>4</th>\n",
       "      <th>5</th>\n",
       "      <th>6</th>\n",
       "      <th>7</th>\n",
       "      <th>8</th>\n",
       "      <th>9</th>\n",
       "    </tr>\n",
       "  </thead>\n",
       "  <tbody>\n",
       "    <tr>\n",
       "      <th>0</th>\n",
       "      <td>-3.374294</td>\n",
       "      <td>-1.338236</td>\n",
       "      <td>0.698681</td>\n",
       "      <td>-0.384538</td>\n",
       "      <td>-0.193051</td>\n",
       "      <td>-0.842514</td>\n",
       "      <td>-0.517862</td>\n",
       "      <td>-0.126289</td>\n",
       "      <td>-0.186956</td>\n",
       "      <td>0.047940</td>\n",
       "    </tr>\n",
       "    <tr>\n",
       "      <th>1</th>\n",
       "      <td>-2.338798</td>\n",
       "      <td>-0.335431</td>\n",
       "      <td>-0.380021</td>\n",
       "      <td>-0.019736</td>\n",
       "      <td>-0.744774</td>\n",
       "      <td>0.081179</td>\n",
       "      <td>-0.265910</td>\n",
       "      <td>-0.251313</td>\n",
       "      <td>0.990142</td>\n",
       "      <td>0.375441</td>\n",
       "    </tr>\n",
       "    <tr>\n",
       "      <th>2</th>\n",
       "      <td>-1.384331</td>\n",
       "      <td>-1.398181</td>\n",
       "      <td>0.994228</td>\n",
       "      <td>0.552495</td>\n",
       "      <td>0.260811</td>\n",
       "      <td>0.489185</td>\n",
       "      <td>-0.239827</td>\n",
       "      <td>-0.044128</td>\n",
       "      <td>0.054098</td>\n",
       "      <td>-0.176264</td>\n",
       "    </tr>\n",
       "    <tr>\n",
       "      <th>3</th>\n",
       "      <td>-0.298278</td>\n",
       "      <td>0.526840</td>\n",
       "      <td>0.735955</td>\n",
       "      <td>-0.357446</td>\n",
       "      <td>0.084601</td>\n",
       "      <td>0.564803</td>\n",
       "      <td>-0.574087</td>\n",
       "      <td>-0.006375</td>\n",
       "      <td>-0.100397</td>\n",
       "      <td>-0.033284</td>\n",
       "    </tr>\n",
       "    <tr>\n",
       "      <th>4</th>\n",
       "      <td>-2.362211</td>\n",
       "      <td>-1.320629</td>\n",
       "      <td>-0.488889</td>\n",
       "      <td>-0.058012</td>\n",
       "      <td>-0.287259</td>\n",
       "      <td>-0.837204</td>\n",
       "      <td>0.007887</td>\n",
       "      <td>-0.096170</td>\n",
       "      <td>-0.216807</td>\n",
       "      <td>0.104994</td>\n",
       "    </tr>\n",
       "    <tr>\n",
       "      <th>...</th>\n",
       "      <td>...</td>\n",
       "      <td>...</td>\n",
       "      <td>...</td>\n",
       "      <td>...</td>\n",
       "      <td>...</td>\n",
       "      <td>...</td>\n",
       "      <td>...</td>\n",
       "      <td>...</td>\n",
       "      <td>...</td>\n",
       "      <td>...</td>\n",
       "    </tr>\n",
       "    <tr>\n",
       "      <th>299878</th>\n",
       "      <td>1.788749</td>\n",
       "      <td>1.609358</td>\n",
       "      <td>-0.489822</td>\n",
       "      <td>-0.101966</td>\n",
       "      <td>0.322694</td>\n",
       "      <td>-0.292679</td>\n",
       "      <td>0.305495</td>\n",
       "      <td>-0.112420</td>\n",
       "      <td>-0.117485</td>\n",
       "      <td>0.016088</td>\n",
       "    </tr>\n",
       "    <tr>\n",
       "      <th>299879</th>\n",
       "      <td>1.792475</td>\n",
       "      <td>1.621454</td>\n",
       "      <td>-0.525401</td>\n",
       "      <td>-0.116048</td>\n",
       "      <td>0.339033</td>\n",
       "      <td>-0.292982</td>\n",
       "      <td>0.402970</td>\n",
       "      <td>-0.171316</td>\n",
       "      <td>0.064536</td>\n",
       "      <td>-0.109152</td>\n",
       "    </tr>\n",
       "    <tr>\n",
       "      <th>299880</th>\n",
       "      <td>7.648387</td>\n",
       "      <td>-1.657628</td>\n",
       "      <td>-0.565319</td>\n",
       "      <td>-0.075890</td>\n",
       "      <td>0.406299</td>\n",
       "      <td>-0.281406</td>\n",
       "      <td>0.325397</td>\n",
       "      <td>-0.115755</td>\n",
       "      <td>-0.039170</td>\n",
       "      <td>-0.057458</td>\n",
       "    </tr>\n",
       "    <tr>\n",
       "      <th>299881</th>\n",
       "      <td>-2.211763</td>\n",
       "      <td>1.755286</td>\n",
       "      <td>0.218706</td>\n",
       "      <td>1.692746</td>\n",
       "      <td>0.427846</td>\n",
       "      <td>-0.461600</td>\n",
       "      <td>0.804737</td>\n",
       "      <td>0.866072</td>\n",
       "      <td>-0.038106</td>\n",
       "      <td>0.126749</td>\n",
       "    </tr>\n",
       "    <tr>\n",
       "      <th>299882</th>\n",
       "      <td>-0.396198</td>\n",
       "      <td>-1.486477</td>\n",
       "      <td>0.514944</td>\n",
       "      <td>-0.444933</td>\n",
       "      <td>-0.604050</td>\n",
       "      <td>0.007684</td>\n",
       "      <td>-0.024718</td>\n",
       "      <td>0.820690</td>\n",
       "      <td>0.479949</td>\n",
       "      <td>-0.318507</td>\n",
       "    </tr>\n",
       "  </tbody>\n",
       "</table>\n",
       "<p>299883 rows × 10 columns</p>\n",
       "</div>"
      ],
      "text/plain": [
       "               0         1         2         3         4         5         6  \\\n",
       "0      -3.374294 -1.338236  0.698681 -0.384538 -0.193051 -0.842514 -0.517862   \n",
       "1      -2.338798 -0.335431 -0.380021 -0.019736 -0.744774  0.081179 -0.265910   \n",
       "2      -1.384331 -1.398181  0.994228  0.552495  0.260811  0.489185 -0.239827   \n",
       "3      -0.298278  0.526840  0.735955 -0.357446  0.084601  0.564803 -0.574087   \n",
       "4      -2.362211 -1.320629 -0.488889 -0.058012 -0.287259 -0.837204  0.007887   \n",
       "...          ...       ...       ...       ...       ...       ...       ...   \n",
       "299878  1.788749  1.609358 -0.489822 -0.101966  0.322694 -0.292679  0.305495   \n",
       "299879  1.792475  1.621454 -0.525401 -0.116048  0.339033 -0.292982  0.402970   \n",
       "299880  7.648387 -1.657628 -0.565319 -0.075890  0.406299 -0.281406  0.325397   \n",
       "299881 -2.211763  1.755286  0.218706  1.692746  0.427846 -0.461600  0.804737   \n",
       "299882 -0.396198 -1.486477  0.514944 -0.444933 -0.604050  0.007684 -0.024718   \n",
       "\n",
       "               7         8         9  \n",
       "0      -0.126289 -0.186956  0.047940  \n",
       "1      -0.251313  0.990142  0.375441  \n",
       "2      -0.044128  0.054098 -0.176264  \n",
       "3      -0.006375 -0.100397 -0.033284  \n",
       "4      -0.096170 -0.216807  0.104994  \n",
       "...          ...       ...       ...  \n",
       "299878 -0.112420 -0.117485  0.016088  \n",
       "299879 -0.171316  0.064536 -0.109152  \n",
       "299880 -0.115755 -0.039170 -0.057458  \n",
       "299881  0.866072 -0.038106  0.126749  \n",
       "299882  0.820690  0.479949 -0.318507  \n",
       "\n",
       "[299883 rows x 10 columns]"
      ]
     },
     "execution_count": 9,
     "metadata": {},
     "output_type": "execute_result"
    }
   ],
   "source": [
    "train_pca_ordinal_num = pca.transform(X_train)\n",
    "train_pca_ordinal_num = pd.DataFrame(train_pca_ordinal_num)\n",
    "train_pca_ordinal_num"
   ]
  },
  {
   "cell_type": "code",
   "execution_count": 10,
   "id": "weighted-division",
   "metadata": {
    "ExecuteTime": {
     "end_time": "2021-02-18T14:05:58.946697Z",
     "start_time": "2021-02-18T14:05:58.888844Z"
    }
   },
   "outputs": [
    {
     "data": {
      "text/html": [
       "<div>\n",
       "<style scoped>\n",
       "    .dataframe tbody tr th:only-of-type {\n",
       "        vertical-align: middle;\n",
       "    }\n",
       "\n",
       "    .dataframe tbody tr th {\n",
       "        vertical-align: top;\n",
       "    }\n",
       "\n",
       "    .dataframe thead th {\n",
       "        text-align: right;\n",
       "    }\n",
       "</style>\n",
       "<table border=\"1\" class=\"dataframe\">\n",
       "  <thead>\n",
       "    <tr style=\"text-align: right;\">\n",
       "      <th></th>\n",
       "      <th>0</th>\n",
       "      <th>1</th>\n",
       "      <th>2</th>\n",
       "      <th>3</th>\n",
       "      <th>4</th>\n",
       "      <th>5</th>\n",
       "      <th>6</th>\n",
       "      <th>7</th>\n",
       "      <th>8</th>\n",
       "      <th>9</th>\n",
       "    </tr>\n",
       "  </thead>\n",
       "  <tbody>\n",
       "    <tr>\n",
       "      <th>0</th>\n",
       "      <td>-3.360358</td>\n",
       "      <td>-1.236619</td>\n",
       "      <td>0.234010</td>\n",
       "      <td>-0.539781</td>\n",
       "      <td>-0.160778</td>\n",
       "      <td>-0.812957</td>\n",
       "      <td>0.705155</td>\n",
       "      <td>-0.216900</td>\n",
       "      <td>0.038050</td>\n",
       "      <td>-0.096345</td>\n",
       "    </tr>\n",
       "    <tr>\n",
       "      <th>1</th>\n",
       "      <td>-2.327808</td>\n",
       "      <td>-0.361940</td>\n",
       "      <td>0.478519</td>\n",
       "      <td>-0.474676</td>\n",
       "      <td>-0.289236</td>\n",
       "      <td>-0.769636</td>\n",
       "      <td>0.122501</td>\n",
       "      <td>-0.121151</td>\n",
       "      <td>-0.211716</td>\n",
       "      <td>0.104618</td>\n",
       "    </tr>\n",
       "    <tr>\n",
       "      <th>2</th>\n",
       "      <td>-1.333790</td>\n",
       "      <td>-0.455118</td>\n",
       "      <td>0.494047</td>\n",
       "      <td>-0.473225</td>\n",
       "      <td>-0.334989</td>\n",
       "      <td>-0.743020</td>\n",
       "      <td>0.074585</td>\n",
       "      <td>-0.057171</td>\n",
       "      <td>-0.397984</td>\n",
       "      <td>0.280288</td>\n",
       "    </tr>\n",
       "    <tr>\n",
       "      <th>3</th>\n",
       "      <td>-1.374011</td>\n",
       "      <td>-1.351981</td>\n",
       "      <td>0.307241</td>\n",
       "      <td>-0.455802</td>\n",
       "      <td>0.323933</td>\n",
       "      <td>0.422485</td>\n",
       "      <td>0.373541</td>\n",
       "      <td>0.878041</td>\n",
       "      <td>0.267874</td>\n",
       "      <td>-0.160328</td>\n",
       "    </tr>\n",
       "    <tr>\n",
       "      <th>4</th>\n",
       "      <td>-0.338681</td>\n",
       "      <td>-1.286375</td>\n",
       "      <td>-0.688000</td>\n",
       "      <td>-0.073010</td>\n",
       "      <td>0.596397</td>\n",
       "      <td>-0.394528</td>\n",
       "      <td>0.435686</td>\n",
       "      <td>-0.138030</td>\n",
       "      <td>-0.109021</td>\n",
       "      <td>0.010219</td>\n",
       "    </tr>\n",
       "    <tr>\n",
       "      <th>...</th>\n",
       "      <td>...</td>\n",
       "      <td>...</td>\n",
       "      <td>...</td>\n",
       "      <td>...</td>\n",
       "      <td>...</td>\n",
       "      <td>...</td>\n",
       "      <td>...</td>\n",
       "      <td>...</td>\n",
       "      <td>...</td>\n",
       "      <td>...</td>\n",
       "    </tr>\n",
       "    <tr>\n",
       "      <th>199995</th>\n",
       "      <td>-2.266849</td>\n",
       "      <td>1.571312</td>\n",
       "      <td>0.865224</td>\n",
       "      <td>-0.407185</td>\n",
       "      <td>-0.825717</td>\n",
       "      <td>0.136075</td>\n",
       "      <td>-0.613342</td>\n",
       "      <td>-0.078560</td>\n",
       "      <td>0.065762</td>\n",
       "      <td>-0.171150</td>\n",
       "    </tr>\n",
       "    <tr>\n",
       "      <th>199996</th>\n",
       "      <td>-1.386611</td>\n",
       "      <td>-1.365017</td>\n",
       "      <td>0.291367</td>\n",
       "      <td>-0.512718</td>\n",
       "      <td>-0.593765</td>\n",
       "      <td>0.098558</td>\n",
       "      <td>0.545246</td>\n",
       "      <td>-0.200322</td>\n",
       "      <td>0.433629</td>\n",
       "      <td>-0.437674</td>\n",
       "    </tr>\n",
       "    <tr>\n",
       "      <th>199997</th>\n",
       "      <td>1.638946</td>\n",
       "      <td>-0.605217</td>\n",
       "      <td>0.525454</td>\n",
       "      <td>-0.478106</td>\n",
       "      <td>-0.799005</td>\n",
       "      <td>0.192998</td>\n",
       "      <td>0.099011</td>\n",
       "      <td>0.010686</td>\n",
       "      <td>-0.192896</td>\n",
       "      <td>0.063256</td>\n",
       "    </tr>\n",
       "    <tr>\n",
       "      <th>199998</th>\n",
       "      <td>-1.313931</td>\n",
       "      <td>-0.364559</td>\n",
       "      <td>0.706942</td>\n",
       "      <td>-0.359647</td>\n",
       "      <td>0.593457</td>\n",
       "      <td>-0.387697</td>\n",
       "      <td>-0.570006</td>\n",
       "      <td>-0.148064</td>\n",
       "      <td>0.031072</td>\n",
       "      <td>-0.115805</td>\n",
       "    </tr>\n",
       "    <tr>\n",
       "      <th>199999</th>\n",
       "      <td>5.775381</td>\n",
       "      <td>1.385787</td>\n",
       "      <td>-1.733501</td>\n",
       "      <td>0.815065</td>\n",
       "      <td>-0.823932</td>\n",
       "      <td>-0.770892</td>\n",
       "      <td>-1.180554</td>\n",
       "      <td>-0.062448</td>\n",
       "      <td>-0.064896</td>\n",
       "      <td>-0.082841</td>\n",
       "    </tr>\n",
       "  </tbody>\n",
       "</table>\n",
       "<p>200000 rows × 10 columns</p>\n",
       "</div>"
      ],
      "text/plain": [
       "               0         1         2         3         4         5         6  \\\n",
       "0      -3.360358 -1.236619  0.234010 -0.539781 -0.160778 -0.812957  0.705155   \n",
       "1      -2.327808 -0.361940  0.478519 -0.474676 -0.289236 -0.769636  0.122501   \n",
       "2      -1.333790 -0.455118  0.494047 -0.473225 -0.334989 -0.743020  0.074585   \n",
       "3      -1.374011 -1.351981  0.307241 -0.455802  0.323933  0.422485  0.373541   \n",
       "4      -0.338681 -1.286375 -0.688000 -0.073010  0.596397 -0.394528  0.435686   \n",
       "...          ...       ...       ...       ...       ...       ...       ...   \n",
       "199995 -2.266849  1.571312  0.865224 -0.407185 -0.825717  0.136075 -0.613342   \n",
       "199996 -1.386611 -1.365017  0.291367 -0.512718 -0.593765  0.098558  0.545246   \n",
       "199997  1.638946 -0.605217  0.525454 -0.478106 -0.799005  0.192998  0.099011   \n",
       "199998 -1.313931 -0.364559  0.706942 -0.359647  0.593457 -0.387697 -0.570006   \n",
       "199999  5.775381  1.385787 -1.733501  0.815065 -0.823932 -0.770892 -1.180554   \n",
       "\n",
       "               7         8         9  \n",
       "0      -0.216900  0.038050 -0.096345  \n",
       "1      -0.121151 -0.211716  0.104618  \n",
       "2      -0.057171 -0.397984  0.280288  \n",
       "3       0.878041  0.267874 -0.160328  \n",
       "4      -0.138030 -0.109021  0.010219  \n",
       "...          ...       ...       ...  \n",
       "199995 -0.078560  0.065762 -0.171150  \n",
       "199996 -0.200322  0.433629 -0.437674  \n",
       "199997  0.010686 -0.192896  0.063256  \n",
       "199998 -0.148064  0.031072 -0.115805  \n",
       "199999 -0.062448 -0.064896 -0.082841  \n",
       "\n",
       "[200000 rows x 10 columns]"
      ]
     },
     "execution_count": 10,
     "metadata": {},
     "output_type": "execute_result"
    }
   ],
   "source": [
    "test_pca_ordinal_num = pca.transform(X_test)\n",
    "test_pca_ordinal_num = pd.DataFrame(test_pca_ordinal_num)\n",
    "test_pca_ordinal_num"
   ]
  },
  {
   "cell_type": "code",
   "execution_count": 11,
   "id": "fancy-collapse",
   "metadata": {
    "ExecuteTime": {
     "end_time": "2021-02-18T14:06:06.497088Z",
     "start_time": "2021-02-18T14:06:06.486761Z"
    }
   },
   "outputs": [],
   "source": [
    "target = fulldf_ordinal_num[[\"id\", \"target\"]]\n",
    "i_d = pd.DataFrame(testdf_ordinal_num[\"id\"])"
   ]
  },
  {
   "cell_type": "code",
   "execution_count": 12,
   "id": "civilian-military",
   "metadata": {
    "ExecuteTime": {
     "end_time": "2021-02-18T14:06:12.731136Z",
     "start_time": "2021-02-18T14:06:12.652129Z"
    }
   },
   "outputs": [],
   "source": [
    "train_pca_ordinal_num = pd.merge(train_pca_ordinal_num, target, left_index=True, right_index=True)"
   ]
  },
  {
   "cell_type": "code",
   "execution_count": 13,
   "id": "minus-birth",
   "metadata": {
    "ExecuteTime": {
     "end_time": "2021-02-18T14:06:19.158211Z",
     "start_time": "2021-02-18T14:06:19.126550Z"
    }
   },
   "outputs": [],
   "source": [
    "test_pca_ordinal_num = pd.merge(test_pca_ordinal_num, i_d, left_index=True, right_index=True)"
   ]
  },
  {
   "cell_type": "code",
   "execution_count": 14,
   "id": "guilty-place",
   "metadata": {
    "ExecuteTime": {
     "end_time": "2021-02-18T14:06:31.214404Z",
     "start_time": "2021-02-18T14:06:25.443012Z"
    }
   },
   "outputs": [],
   "source": [
    "train_pca_ordinal_num.to_csv(\"train_pca_ordinal_num.csv\")"
   ]
  },
  {
   "cell_type": "code",
   "execution_count": null,
   "id": "healthy-thinking",
   "metadata": {
    "ExecuteTime": {
     "start_time": "2021-02-18T14:06:31.237Z"
    }
   },
   "outputs": [],
   "source": [
    "test_pca_ordinal_num.to_csv(\"test_pca_ordinal_num.csv\")"
   ]
  },
  {
   "cell_type": "code",
   "execution_count": null,
   "id": "appointed-identity",
   "metadata": {},
   "outputs": [],
   "source": []
  }
 ],
 "metadata": {
  "kernelspec": {
   "display_name": "Python 3",
   "language": "python",
   "name": "python3"
  },
  "language_info": {
   "codemirror_mode": {
    "name": "ipython",
    "version": 3
   },
   "file_extension": ".py",
   "mimetype": "text/x-python",
   "name": "python",
   "nbconvert_exporter": "python",
   "pygments_lexer": "ipython3",
   "version": "3.8.3"
  }
 },
 "nbformat": 4,
 "nbformat_minor": 5
}
