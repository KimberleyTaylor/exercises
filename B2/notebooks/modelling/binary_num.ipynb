{
 "cells": [
  {
   "cell_type": "code",
   "execution_count": 1,
   "id": "atlantic-diesel",
   "metadata": {
    "ExecuteTime": {
     "end_time": "2021-02-18T16:00:45.366419Z",
     "start_time": "2021-02-18T16:00:43.223217Z"
    }
   },
   "outputs": [],
   "source": [
    "import numpy    as np\n",
    "import pandas   as pd\n",
    "import seaborn  as sb\n",
    "import matplotlib.pyplot as plt\n",
    "import sklearn  as skl\n",
    "import time\n",
    "from IPython.display import clear_output\n",
    "\n",
    "from sklearn import pipeline      # Pipeline, make_pipeline\n",
    "from sklearn import preprocessing # StandardScaler, OrdinalEncoder, LabelEncoder\n",
    "from sklearn import impute\n",
    "from sklearn import compose\n",
    "from sklearn import model_selection # train_test_split, StratifiedKFold, cross_val_score, cross_val_predict\n",
    "from sklearn import metrics         # accuracy_score, balanced_accuracy_score, plot_confusion_matrix\n",
    "from sklearn import inspection      # permutation_importance\n",
    "import scikitplot as skplt"
   ]
  },
  {
   "cell_type": "code",
   "execution_count": 2,
   "id": "statutory-cancellation",
   "metadata": {
    "ExecuteTime": {
     "end_time": "2021-02-18T16:00:45.633373Z",
     "start_time": "2021-02-18T16:00:45.369175Z"
    }
   },
   "outputs": [],
   "source": [
    "########################################################### CLASSIFIERS\n",
    "\n",
    "#### MULT\n",
    "from sklearn.linear_model   import LogisticRegression\n",
    "from sklearn.linear_model   import RidgeClassifier\n",
    "from sklearn.svm            import SVC\n",
    "from sklearn.svm            import NuSVC\n",
    "from sklearn.svm            import LinearSVC\n",
    "from sklearn.neural_network import MLPClassifier\n",
    "from sklearn.neighbors      import KNeighborsClassifier\n",
    "from sklearn.gaussian_process import GaussianProcessClassifier\n",
    "from sklearn.gaussian_process.kernels import RBF\n",
    "from sklearn.naive_bayes    import GaussianNB\n",
    "from sklearn.discriminant_analysis import QuadraticDiscriminantAnalysis\n",
    "from sklearn.ensemble       import StackingClassifier\n",
    "\n",
    "#### TREE\n",
    "from sklearn.tree          import DecisionTreeClassifier\n",
    "from sklearn.ensemble      import RandomForestClassifier\n",
    "from sklearn.ensemble      import ExtraTreesClassifier\n",
    "from sklearn.ensemble      import AdaBoostClassifier\n",
    "from sklearn.ensemble      import GradientBoostingClassifier\n",
    "from sklearn.experimental  import enable_hist_gradient_boosting\n",
    "from sklearn.ensemble      import HistGradientBoostingClassifier\n",
    "from xgboost               import XGBClassifier, plot_tree\n",
    "from lightgbm              import LGBMClassifier\n",
    "from catboost              import CatBoostClassifier\n",
    "#from ngboost               import NGBClassifier\n",
    "#from rgf.sklearn           import RGFClassifier, FastRGFClassifier\n",
    "\n",
    "########################################################### REGRESSORS\n",
    "from sklearn.linear_model  import ElasticNet, Ridge, Lasso, BayesianRidge, ARDRegression, TweedieRegressor\n",
    "from sklearn.svm           import LinearSVR, NuSVR, SVR\n",
    "from sklearn.ensemble      import BaggingRegressor\n",
    "from sklearn.kernel_ridge  import KernelRidge"
   ]
  },
  {
   "cell_type": "code",
   "execution_count": 4,
   "id": "numerous-ottawa",
   "metadata": {
    "ExecuteTime": {
     "end_time": "2021-02-18T16:00:59.575627Z",
     "start_time": "2021-02-18T16:00:59.447637Z"
    }
   },
   "outputs": [
    {
     "name": "stdout",
     "output_type": "stream",
     "text": [
      "UNI_test_binary_num.csv  UNI_train_binary_num.csv\r\n"
     ]
    }
   ],
   "source": [
    "!ls ../../csv_files/FS_combos/UNI/binary_num/"
   ]
  },
  {
   "cell_type": "code",
   "execution_count": 6,
   "id": "palestinian-store",
   "metadata": {
    "ExecuteTime": {
     "end_time": "2021-02-18T16:01:17.306881Z",
     "start_time": "2021-02-18T16:01:17.303504Z"
    }
   },
   "outputs": [],
   "source": [
    "path = \"../../csv_files/FS_combos/UNI/binary_num/\""
   ]
  },
  {
   "cell_type": "code",
   "execution_count": 7,
   "id": "sublime-beijing",
   "metadata": {
    "ExecuteTime": {
     "end_time": "2021-02-18T16:01:18.391496Z",
     "start_time": "2021-02-18T16:01:17.818953Z"
    }
   },
   "outputs": [],
   "source": [
    "df      = pd.read_csv(path + \"UNI_train_binary_num.csv\", index_col=\"Unnamed: 0\")\n",
    "df_test = pd.read_csv(path + \"UNI_test_binary_num.csv\", index_col=\"Unnamed: 0\")"
   ]
  },
  {
   "cell_type": "markdown",
   "id": "excess-letter",
   "metadata": {},
   "source": [
    "### Select data for experiment"
   ]
  },
  {
   "cell_type": "code",
   "execution_count": 9,
   "id": "joined-output",
   "metadata": {
    "ExecuteTime": {
     "end_time": "2021-02-18T16:01:26.784907Z",
     "start_time": "2021-02-18T16:01:26.746897Z"
    }
   },
   "outputs": [],
   "source": [
    "x = df.drop(columns=[\"target\", 'id']) # X DATA (WILL BE TRAIN+VALID DATA)\n",
    "y = df[\"target\"] # 0 = No, 1 = Yes\n",
    "\n",
    "x_test = df_test.drop(columns=['id']) # # X_TEST DATA (NEW DATA)"
   ]
  },
  {
   "cell_type": "code",
   "execution_count": 10,
   "id": "continental-creativity",
   "metadata": {
    "ExecuteTime": {
     "end_time": "2021-02-18T16:01:28.111781Z",
     "start_time": "2021-02-18T16:01:28.041897Z"
    }
   },
   "outputs": [],
   "source": [
    "x_train, x_val, y_train, y_val = model_selection.train_test_split(\n",
    "    x, y,\n",
    "    test_size=0.2,\n",
    "    random_state=0\n",
    ")"
   ]
  },
  {
   "cell_type": "code",
   "execution_count": 11,
   "id": "banner-parliament",
   "metadata": {
    "ExecuteTime": {
     "end_time": "2021-02-18T16:01:29.765703Z",
     "start_time": "2021-02-18T16:01:29.640458Z"
    }
   },
   "outputs": [
    {
     "data": {
      "text/plain": [
       "LinearRegression()"
      ]
     },
     "execution_count": 11,
     "metadata": {},
     "output_type": "execute_result"
    }
   ],
   "source": [
    "from sklearn.linear_model import LinearRegression\n",
    "\n",
    "lr = LinearRegression()\n",
    "lr.fit(x_train, y_train)"
   ]
  },
  {
   "cell_type": "code",
   "execution_count": 12,
   "id": "widespread-foundation",
   "metadata": {
    "ExecuteTime": {
     "end_time": "2021-02-18T16:01:32.082814Z",
     "start_time": "2021-02-18T16:01:32.071753Z"
    }
   },
   "outputs": [
    {
     "data": {
      "text/plain": [
       "array([7.50746531, 7.33089856, 7.48514084, ..., 7.33837483, 7.38716055,\n",
       "       7.48462291])"
      ]
     },
     "execution_count": 12,
     "metadata": {},
     "output_type": "execute_result"
    }
   ],
   "source": [
    "y_pred_regr = lr.predict(x_val)\n",
    "y_pred_regr"
   ]
  },
  {
   "cell_type": "code",
   "execution_count": 13,
   "id": "accompanied-spell",
   "metadata": {
    "ExecuteTime": {
     "end_time": "2021-02-18T16:01:32.818312Z",
     "start_time": "2021-02-18T16:01:32.815804Z"
    }
   },
   "outputs": [],
   "source": [
    "from sklearn.metrics import mean_squared_error"
   ]
  },
  {
   "cell_type": "code",
   "execution_count": 14,
   "id": "electoral-status",
   "metadata": {
    "ExecuteTime": {
     "end_time": "2021-02-18T16:01:39.012737Z",
     "start_time": "2021-02-18T16:01:38.998316Z"
    }
   },
   "outputs": [
    {
     "data": {
      "text/plain": [
       "0.8805124682408102"
      ]
     },
     "execution_count": 14,
     "metadata": {},
     "output_type": "execute_result"
    }
   ],
   "source": [
    "mse = mean_squared_error(y_pred_regr, y_val, squared=False)\n",
    "mse"
   ]
  },
  {
   "cell_type": "code",
   "execution_count": null,
   "id": "unique-poker",
   "metadata": {},
   "outputs": [],
   "source": []
  },
  {
   "cell_type": "code",
   "execution_count": null,
   "id": "loving-liberia",
   "metadata": {},
   "outputs": [],
   "source": []
  },
  {
   "cell_type": "code",
   "execution_count": 15,
   "id": "subject-bruce",
   "metadata": {
    "ExecuteTime": {
     "end_time": "2021-02-18T16:01:42.324391Z",
     "start_time": "2021-02-18T16:01:42.152749Z"
    }
   },
   "outputs": [
    {
     "data": {
      "text/plain": [
       "ARDRegression()"
      ]
     },
     "execution_count": 15,
     "metadata": {},
     "output_type": "execute_result"
    }
   ],
   "source": [
    "#lets see what the PCA is \n",
    "from sklearn.linear_model import ARDRegression\n",
    "ar = ARDRegression()\n",
    "ar.fit(x_train, y_train)"
   ]
  },
  {
   "cell_type": "code",
   "execution_count": 16,
   "id": "attractive-reason",
   "metadata": {
    "ExecuteTime": {
     "end_time": "2021-02-18T16:01:42.929554Z",
     "start_time": "2021-02-18T16:01:42.920862Z"
    }
   },
   "outputs": [
    {
     "data": {
      "text/plain": [
       "array([7.5069695 , 7.33213189, 7.48564688, ..., 7.33843498, 7.38670458,\n",
       "       7.48458301])"
      ]
     },
     "execution_count": 16,
     "metadata": {},
     "output_type": "execute_result"
    }
   ],
   "source": [
    "y_pred_regr = ar.predict(x_val)\n",
    "y_pred_regr"
   ]
  },
  {
   "cell_type": "code",
   "execution_count": 17,
   "id": "further-density",
   "metadata": {
    "ExecuteTime": {
     "end_time": "2021-02-18T16:01:46.245112Z",
     "start_time": "2021-02-18T16:01:46.237404Z"
    }
   },
   "outputs": [
    {
     "data": {
      "text/plain": [
       "0.8805045329524643"
      ]
     },
     "execution_count": 17,
     "metadata": {},
     "output_type": "execute_result"
    }
   ],
   "source": [
    "mse = mean_squared_error(y_pred_regr, y_val, squared=False)\n",
    "mse"
   ]
  },
  {
   "cell_type": "code",
   "execution_count": null,
   "id": "spanish-carry",
   "metadata": {},
   "outputs": [],
   "source": []
  },
  {
   "cell_type": "code",
   "execution_count": null,
   "id": "empirical-harassment",
   "metadata": {},
   "outputs": [],
   "source": []
  },
  {
   "cell_type": "code",
   "execution_count": null,
   "id": "vocal-japanese",
   "metadata": {},
   "outputs": [],
   "source": []
  },
  {
   "cell_type": "code",
   "execution_count": 18,
   "id": "olympic-palace",
   "metadata": {
    "ExecuteTime": {
     "end_time": "2021-02-18T16:01:48.245840Z",
     "start_time": "2021-02-18T16:01:48.108205Z"
    }
   },
   "outputs": [
    {
     "data": {
      "text/plain": [
       "BayesianRidge()"
      ]
     },
     "execution_count": 18,
     "metadata": {},
     "output_type": "execute_result"
    }
   ],
   "source": [
    "from sklearn.linear_model import BayesianRidge\n",
    "br = BayesianRidge()\n",
    "br.fit(x_train, y_train)"
   ]
  },
  {
   "cell_type": "code",
   "execution_count": 19,
   "id": "peaceful-lawsuit",
   "metadata": {
    "ExecuteTime": {
     "end_time": "2021-02-18T16:01:50.023893Z",
     "start_time": "2021-02-18T16:01:50.014601Z"
    }
   },
   "outputs": [
    {
     "data": {
      "text/plain": [
       "array([7.50730323, 7.33115565, 7.48518143, ..., 7.33840251, 7.38706802,\n",
       "       7.48455844])"
      ]
     },
     "execution_count": 19,
     "metadata": {},
     "output_type": "execute_result"
    }
   ],
   "source": [
    "y_pred_regr = br.predict(x_val)\n",
    "y_pred_regr"
   ]
  },
  {
   "cell_type": "code",
   "execution_count": 20,
   "id": "plastic-conviction",
   "metadata": {
    "ExecuteTime": {
     "end_time": "2021-02-18T16:01:50.513565Z",
     "start_time": "2021-02-18T16:01:50.507557Z"
    }
   },
   "outputs": [
    {
     "data": {
      "text/plain": [
       "0.8805058444075908"
      ]
     },
     "execution_count": 20,
     "metadata": {},
     "output_type": "execute_result"
    }
   ],
   "source": [
    "mse = mean_squared_error(y_pred_regr, y_val, squared=False)\n",
    "mse"
   ]
  },
  {
   "cell_type": "code",
   "execution_count": null,
   "id": "formed-healthcare",
   "metadata": {},
   "outputs": [],
   "source": []
  },
  {
   "cell_type": "code",
   "execution_count": null,
   "id": "negative-mention",
   "metadata": {},
   "outputs": [],
   "source": []
  },
  {
   "cell_type": "code",
   "execution_count": 21,
   "id": "surgical-specific",
   "metadata": {
    "ExecuteTime": {
     "end_time": "2021-02-18T16:01:51.949702Z",
     "start_time": "2021-02-18T16:01:51.941353Z"
    }
   },
   "outputs": [],
   "source": [
    "en = ElasticNet()"
   ]
  },
  {
   "cell_type": "code",
   "execution_count": 22,
   "id": "suited-seating",
   "metadata": {
    "ExecuteTime": {
     "end_time": "2021-02-18T16:01:52.563687Z",
     "start_time": "2021-02-18T16:01:52.525382Z"
    }
   },
   "outputs": [
    {
     "data": {
      "text/plain": [
       "ElasticNet()"
      ]
     },
     "execution_count": 22,
     "metadata": {},
     "output_type": "execute_result"
    }
   ],
   "source": [
    "en.fit(x_train, y_train)"
   ]
  },
  {
   "cell_type": "code",
   "execution_count": 23,
   "id": "lovely-brief",
   "metadata": {
    "ExecuteTime": {
     "end_time": "2021-02-18T16:01:53.078207Z",
     "start_time": "2021-02-18T16:01:53.062983Z"
    }
   },
   "outputs": [
    {
     "data": {
      "text/plain": [
       "array([7.45485702, 7.45485702, 7.45485702, ..., 7.45485702, 7.45485702,\n",
       "       7.45485702])"
      ]
     },
     "execution_count": 23,
     "metadata": {},
     "output_type": "execute_result"
    }
   ],
   "source": [
    "y_pred_regr = en.predict(x_val)\n",
    "y_pred_regr"
   ]
  },
  {
   "cell_type": "code",
   "execution_count": 24,
   "id": "portable-gravity",
   "metadata": {
    "ExecuteTime": {
     "end_time": "2021-02-18T16:01:53.579913Z",
     "start_time": "2021-02-18T16:01:53.574859Z"
    }
   },
   "outputs": [
    {
     "data": {
      "text/plain": [
       "0.8854278096232179"
      ]
     },
     "execution_count": 24,
     "metadata": {},
     "output_type": "execute_result"
    }
   ],
   "source": [
    "mse = mean_squared_error(y_pred_regr, y_val, squared=False)\n",
    "mse"
   ]
  },
  {
   "cell_type": "code",
   "execution_count": null,
   "id": "lesser-logistics",
   "metadata": {},
   "outputs": [],
   "source": []
  },
  {
   "cell_type": "code",
   "execution_count": 25,
   "id": "lined-panel",
   "metadata": {
    "ExecuteTime": {
     "end_time": "2021-02-18T16:01:54.634074Z",
     "start_time": "2021-02-18T16:01:54.631477Z"
    }
   },
   "outputs": [],
   "source": [
    "r = Ridge()"
   ]
  },
  {
   "cell_type": "code",
   "execution_count": 26,
   "id": "coordinate-modem",
   "metadata": {
    "ExecuteTime": {
     "end_time": "2021-02-18T16:01:55.125837Z",
     "start_time": "2021-02-18T16:01:55.093835Z"
    }
   },
   "outputs": [
    {
     "data": {
      "text/plain": [
       "Ridge()"
      ]
     },
     "execution_count": 26,
     "metadata": {},
     "output_type": "execute_result"
    }
   ],
   "source": [
    "r.fit(x_train, y_train)"
   ]
  },
  {
   "cell_type": "code",
   "execution_count": 27,
   "id": "thorough-sister",
   "metadata": {
    "ExecuteTime": {
     "end_time": "2021-02-18T16:01:55.612363Z",
     "start_time": "2021-02-18T16:01:55.601379Z"
    }
   },
   "outputs": [
    {
     "data": {
      "text/plain": [
       "array([7.50746423, 7.3309081 , 7.48514514, ..., 7.33837733, 7.38716175,\n",
       "       7.48462378])"
      ]
     },
     "execution_count": 27,
     "metadata": {},
     "output_type": "execute_result"
    }
   ],
   "source": [
    "y_pred_regr = r.predict(x_val)\n",
    "y_pred_regr"
   ]
  },
  {
   "cell_type": "code",
   "execution_count": 28,
   "id": "clean-textbook",
   "metadata": {
    "ExecuteTime": {
     "end_time": "2021-02-18T16:01:56.092419Z",
     "start_time": "2021-02-18T16:01:56.085564Z"
    }
   },
   "outputs": [
    {
     "data": {
      "text/plain": [
       "0.8805103322874438"
      ]
     },
     "execution_count": 28,
     "metadata": {},
     "output_type": "execute_result"
    }
   ],
   "source": [
    "mse = mean_squared_error(y_pred_regr, y_val, squared=False)\n",
    "mse"
   ]
  },
  {
   "cell_type": "code",
   "execution_count": null,
   "id": "stunning-serbia",
   "metadata": {},
   "outputs": [],
   "source": []
  },
  {
   "cell_type": "code",
   "execution_count": null,
   "id": "satisfied-admission",
   "metadata": {},
   "outputs": [],
   "source": []
  },
  {
   "cell_type": "code",
   "execution_count": 29,
   "id": "thick-secret",
   "metadata": {
    "ExecuteTime": {
     "end_time": "2021-02-18T16:01:57.624394Z",
     "start_time": "2021-02-18T16:01:57.582612Z"
    }
   },
   "outputs": [
    {
     "data": {
      "text/plain": [
       "Lasso()"
      ]
     },
     "execution_count": 29,
     "metadata": {},
     "output_type": "execute_result"
    }
   ],
   "source": [
    "l = Lasso()\n",
    "l.fit(x_train, y_train)"
   ]
  },
  {
   "cell_type": "code",
   "execution_count": 30,
   "id": "peripheral-spectrum",
   "metadata": {
    "ExecuteTime": {
     "end_time": "2021-02-18T16:01:58.123682Z",
     "start_time": "2021-02-18T16:01:58.113657Z"
    }
   },
   "outputs": [
    {
     "data": {
      "text/plain": [
       "array([7.45485702, 7.45485702, 7.45485702, ..., 7.45485702, 7.45485702,\n",
       "       7.45485702])"
      ]
     },
     "execution_count": 30,
     "metadata": {},
     "output_type": "execute_result"
    }
   ],
   "source": [
    "y_pred_regr = l.predict(x_val)\n",
    "y_pred_regr"
   ]
  },
  {
   "cell_type": "code",
   "execution_count": 31,
   "id": "finnish-alignment",
   "metadata": {
    "ExecuteTime": {
     "end_time": "2021-02-18T16:01:58.654810Z",
     "start_time": "2021-02-18T16:01:58.645944Z"
    }
   },
   "outputs": [
    {
     "data": {
      "text/plain": [
       "0.8854278096232179"
      ]
     },
     "execution_count": 31,
     "metadata": {},
     "output_type": "execute_result"
    }
   ],
   "source": [
    "mse = mean_squared_error(y_pred_regr, y_val, squared=False)\n",
    "mse"
   ]
  },
  {
   "cell_type": "code",
   "execution_count": null,
   "id": "presidential-holmes",
   "metadata": {},
   "outputs": [],
   "source": []
  },
  {
   "cell_type": "code",
   "execution_count": null,
   "id": "tracked-being",
   "metadata": {},
   "outputs": [],
   "source": []
  },
  {
   "cell_type": "code",
   "execution_count": 32,
   "id": "outdoor-uncertainty",
   "metadata": {
    "ExecuteTime": {
     "end_time": "2021-02-18T16:02:00.405458Z",
     "start_time": "2021-02-18T16:02:00.279509Z"
    }
   },
   "outputs": [
    {
     "data": {
      "text/plain": [
       "TweedieRegressor()"
      ]
     },
     "execution_count": 32,
     "metadata": {},
     "output_type": "execute_result"
    }
   ],
   "source": [
    "tr = TweedieRegressor()\n",
    "tr.fit(x_train, y_train)"
   ]
  },
  {
   "cell_type": "code",
   "execution_count": 33,
   "id": "warming-steps",
   "metadata": {
    "ExecuteTime": {
     "end_time": "2021-02-18T16:02:00.834903Z",
     "start_time": "2021-02-18T16:02:00.825673Z"
    }
   },
   "outputs": [
    {
     "data": {
      "text/plain": [
       "array([7.45993663, 7.43488854, 7.45986793, ..., 7.43325353, 7.43671551,\n",
       "       7.45873975])"
      ]
     },
     "execution_count": 33,
     "metadata": {},
     "output_type": "execute_result"
    }
   ],
   "source": [
    "y_pred_regr = tr.predict(x_val)\n",
    "y_pred_regr"
   ]
  },
  {
   "cell_type": "code",
   "execution_count": 34,
   "id": "brazilian-canberra",
   "metadata": {
    "ExecuteTime": {
     "end_time": "2021-02-18T16:02:01.327618Z",
     "start_time": "2021-02-18T16:02:01.320539Z"
    }
   },
   "outputs": [
    {
     "data": {
      "text/plain": [
       "0.8841769281687416"
      ]
     },
     "execution_count": 34,
     "metadata": {},
     "output_type": "execute_result"
    }
   ],
   "source": [
    "mse = mean_squared_error(y_pred_regr, y_val, squared=False)\n",
    "mse"
   ]
  },
  {
   "cell_type": "code",
   "execution_count": null,
   "id": "champion-diana",
   "metadata": {},
   "outputs": [],
   "source": []
  },
  {
   "cell_type": "code",
   "execution_count": null,
   "id": "plastic-clark",
   "metadata": {},
   "outputs": [],
   "source": []
  },
  {
   "cell_type": "code",
   "execution_count": 35,
   "id": "median-response",
   "metadata": {
    "ExecuteTime": {
     "end_time": "2021-02-18T16:02:05.179949Z",
     "start_time": "2021-02-18T16:02:03.228408Z"
    }
   },
   "outputs": [
    {
     "data": {
      "text/plain": [
       "LinearSVR()"
      ]
     },
     "execution_count": 35,
     "metadata": {},
     "output_type": "execute_result"
    }
   ],
   "source": [
    "lsvr = LinearSVR()\n",
    "lsvr.fit(x_train, y_train)"
   ]
  },
  {
   "cell_type": "code",
   "execution_count": 36,
   "id": "intelligent-employee",
   "metadata": {
    "ExecuteTime": {
     "end_time": "2021-02-18T16:02:05.196768Z",
     "start_time": "2021-02-18T16:02:05.183380Z"
    }
   },
   "outputs": [
    {
     "data": {
      "text/plain": [
       "array([7.56619849, 7.31418591, 7.5365932 , ..., 7.3807981 , 7.33224228,\n",
       "       7.57443134])"
      ]
     },
     "execution_count": 36,
     "metadata": {},
     "output_type": "execute_result"
    }
   ],
   "source": [
    "y_pred_regr = lsvr.predict(x_val)\n",
    "y_pred_regr"
   ]
  },
  {
   "cell_type": "code",
   "execution_count": 37,
   "id": "italic-costs",
   "metadata": {
    "ExecuteTime": {
     "end_time": "2021-02-18T16:02:05.212580Z",
     "start_time": "2021-02-18T16:02:05.200687Z"
    }
   },
   "outputs": [
    {
     "data": {
      "text/plain": [
       "0.8849741313392324"
      ]
     },
     "execution_count": 37,
     "metadata": {},
     "output_type": "execute_result"
    }
   ],
   "source": [
    "mse = mean_squared_error(y_pred_regr, y_val, squared=False)\n",
    "mse"
   ]
  },
  {
   "cell_type": "code",
   "execution_count": null,
   "id": "urban-recipe",
   "metadata": {},
   "outputs": [],
   "source": []
  },
  {
   "cell_type": "code",
   "execution_count": null,
   "id": "compound-germany",
   "metadata": {},
   "outputs": [],
   "source": []
  }
 ],
 "metadata": {
  "kernelspec": {
   "display_name": "Python 3",
   "language": "python",
   "name": "python3"
  },
  "language_info": {
   "codemirror_mode": {
    "name": "ipython",
    "version": 3
   },
   "file_extension": ".py",
   "mimetype": "text/x-python",
   "name": "python",
   "nbconvert_exporter": "python",
   "pygments_lexer": "ipython3",
   "version": "3.8.3"
  }
 },
 "nbformat": 4,
 "nbformat_minor": 5
}
