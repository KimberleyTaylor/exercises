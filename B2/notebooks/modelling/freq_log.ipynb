{
 "cells": [
  {
   "cell_type": "code",
   "execution_count": 1,
   "id": "signal-support",
   "metadata": {
    "ExecuteTime": {
     "end_time": "2021-02-18T16:02:40.776370Z",
     "start_time": "2021-02-18T16:02:39.642545Z"
    }
   },
   "outputs": [],
   "source": [
    "import numpy    as np\n",
    "import pandas   as pd\n",
    "import seaborn  as sb\n",
    "import matplotlib.pyplot as plt\n",
    "import sklearn  as skl\n",
    "import time\n",
    "from IPython.display import clear_output\n",
    "\n",
    "from sklearn import pipeline      # Pipeline, make_pipeline\n",
    "from sklearn import preprocessing # StandardScaler, OrdinalEncoder, LabelEncoder\n",
    "from sklearn import impute\n",
    "from sklearn import compose\n",
    "from sklearn import model_selection # train_test_split, StratifiedKFold, cross_val_score, cross_val_predict\n",
    "from sklearn import metrics         # accuracy_score, balanced_accuracy_score, plot_confusion_matrix\n",
    "from sklearn import inspection      # permutation_importance\n",
    "import scikitplot as skplt"
   ]
  },
  {
   "cell_type": "code",
   "execution_count": 2,
   "id": "juvenile-network",
   "metadata": {
    "ExecuteTime": {
     "end_time": "2021-02-18T16:02:40.963149Z",
     "start_time": "2021-02-18T16:02:40.779024Z"
    }
   },
   "outputs": [],
   "source": [
    "########################################################### CLASSIFIERS\n",
    "\n",
    "#### MULT\n",
    "from sklearn.linear_model   import LogisticRegression\n",
    "from sklearn.linear_model   import RidgeClassifier\n",
    "from sklearn.svm            import SVC\n",
    "from sklearn.svm            import NuSVC\n",
    "from sklearn.svm            import LinearSVC\n",
    "from sklearn.neural_network import MLPClassifier\n",
    "from sklearn.neighbors      import KNeighborsClassifier\n",
    "from sklearn.gaussian_process import GaussianProcessClassifier\n",
    "from sklearn.gaussian_process.kernels import RBF\n",
    "from sklearn.naive_bayes    import GaussianNB\n",
    "from sklearn.discriminant_analysis import QuadraticDiscriminantAnalysis\n",
    "from sklearn.ensemble       import StackingClassifier\n",
    "\n",
    "#### TREE\n",
    "from sklearn.tree          import DecisionTreeClassifier\n",
    "from sklearn.ensemble      import RandomForestClassifier\n",
    "from sklearn.ensemble      import ExtraTreesClassifier\n",
    "from sklearn.ensemble      import AdaBoostClassifier\n",
    "from sklearn.ensemble      import GradientBoostingClassifier\n",
    "from sklearn.experimental  import enable_hist_gradient_boosting\n",
    "from sklearn.ensemble      import HistGradientBoostingClassifier\n",
    "from xgboost               import XGBClassifier, plot_tree\n",
    "from lightgbm              import LGBMClassifier\n",
    "from catboost              import CatBoostClassifier\n",
    "#from ngboost               import NGBClassifier\n",
    "#from rgf.sklearn           import RGFClassifier, FastRGFClassifier\n",
    "\n",
    "########################################################### REGRESSORS\n",
    "from sklearn.linear_model  import ElasticNet, Ridge, Lasso, BayesianRidge, ARDRegression, TweedieRegressor\n",
    "from sklearn.svm           import LinearSVR, NuSVR, SVR\n",
    "from sklearn.ensemble      import BaggingRegressor\n",
    "from sklearn.kernel_ridge  import KernelRidge"
   ]
  },
  {
   "cell_type": "code",
   "execution_count": 4,
   "id": "optimum-punishment",
   "metadata": {
    "ExecuteTime": {
     "end_time": "2021-02-18T16:02:53.074283Z",
     "start_time": "2021-02-18T16:02:52.948898Z"
    }
   },
   "outputs": [
    {
     "name": "stdout",
     "output_type": "stream",
     "text": [
      "UNI_test_freq_log.csv  UNI_train_freq_log.csv\r\n"
     ]
    }
   ],
   "source": [
    "!ls ../../csv_files/FS_combos/UNI/freq_log/"
   ]
  },
  {
   "cell_type": "code",
   "execution_count": 6,
   "id": "thorough-physiology",
   "metadata": {
    "ExecuteTime": {
     "end_time": "2021-02-18T16:03:19.820014Z",
     "start_time": "2021-02-18T16:03:19.816630Z"
    }
   },
   "outputs": [],
   "source": [
    "path = \"../../csv_files/FS_combos/UNI/freq_log/\""
   ]
  },
  {
   "cell_type": "code",
   "execution_count": 7,
   "id": "occupied-powell",
   "metadata": {
    "ExecuteTime": {
     "end_time": "2021-02-18T16:03:21.637601Z",
     "start_time": "2021-02-18T16:03:20.320859Z"
    }
   },
   "outputs": [],
   "source": [
    "df      = pd.read_csv(path + \"UNI_train_freq_log.csv\", index_col=\"Unnamed: 0\")\n",
    "df_test = pd.read_csv(path + \"UNI_test_freq_log.csv\", index_col=\"Unnamed: 0\")"
   ]
  },
  {
   "cell_type": "markdown",
   "id": "intense-document",
   "metadata": {},
   "source": [
    "### Select data for experiment"
   ]
  },
  {
   "cell_type": "code",
   "execution_count": 8,
   "id": "illegal-community",
   "metadata": {
    "ExecuteTime": {
     "end_time": "2021-02-18T16:03:23.295507Z",
     "start_time": "2021-02-18T16:03:23.204912Z"
    }
   },
   "outputs": [],
   "source": [
    "x = df.drop(columns=[\"target\", 'id']) # X DATA (WILL BE TRAIN+VALID DATA)\n",
    "y = df[\"target\"] # 0 = No, 1 = Yes\n",
    "\n",
    "x_test = df_test.drop(columns=['id']) # # X_TEST DATA (NEW DATA)"
   ]
  },
  {
   "cell_type": "code",
   "execution_count": 9,
   "id": "olive-typing",
   "metadata": {
    "ExecuteTime": {
     "end_time": "2021-02-18T16:03:23.819897Z",
     "start_time": "2021-02-18T16:03:23.716628Z"
    }
   },
   "outputs": [],
   "source": [
    "x_train, x_val, y_train, y_val = model_selection.train_test_split(\n",
    "    x, y,\n",
    "    test_size=0.2,\n",
    "    random_state=0\n",
    ")"
   ]
  },
  {
   "cell_type": "code",
   "execution_count": 10,
   "id": "mexican-allowance",
   "metadata": {
    "ExecuteTime": {
     "end_time": "2021-02-18T16:03:24.449465Z",
     "start_time": "2021-02-18T16:03:24.278985Z"
    }
   },
   "outputs": [
    {
     "data": {
      "text/plain": [
       "LinearRegression()"
      ]
     },
     "execution_count": 10,
     "metadata": {},
     "output_type": "execute_result"
    }
   ],
   "source": [
    "from sklearn.linear_model import LinearRegression\n",
    "\n",
    "lr = LinearRegression()\n",
    "lr.fit(x_train, y_train)"
   ]
  },
  {
   "cell_type": "code",
   "execution_count": 11,
   "id": "naked-shelf",
   "metadata": {
    "ExecuteTime": {
     "end_time": "2021-02-18T16:03:24.892145Z",
     "start_time": "2021-02-18T16:03:24.883429Z"
    }
   },
   "outputs": [
    {
     "data": {
      "text/plain": [
       "array([7.3979304 , 7.33907832, 7.40082518, ..., 7.5194016 , 7.66858539,\n",
       "       7.42838271])"
      ]
     },
     "execution_count": 11,
     "metadata": {},
     "output_type": "execute_result"
    }
   ],
   "source": [
    "y_pred_regr = lr.predict(x_val)\n",
    "y_pred_regr"
   ]
  },
  {
   "cell_type": "code",
   "execution_count": 12,
   "id": "preceding-spread",
   "metadata": {
    "ExecuteTime": {
     "end_time": "2021-02-18T16:03:25.416337Z",
     "start_time": "2021-02-18T16:03:25.413483Z"
    }
   },
   "outputs": [],
   "source": [
    "from sklearn.metrics import mean_squared_error"
   ]
  },
  {
   "cell_type": "code",
   "execution_count": 13,
   "id": "unavailable-leonard",
   "metadata": {
    "ExecuteTime": {
     "end_time": "2021-02-18T16:03:25.989087Z",
     "start_time": "2021-02-18T16:03:25.971389Z"
    }
   },
   "outputs": [
    {
     "data": {
      "text/plain": [
       "0.8761753157129161"
      ]
     },
     "execution_count": 13,
     "metadata": {},
     "output_type": "execute_result"
    }
   ],
   "source": [
    "mse = mean_squared_error(y_pred_regr, y_val, squared=False)\n",
    "mse"
   ]
  },
  {
   "cell_type": "code",
   "execution_count": null,
   "id": "trained-dressing",
   "metadata": {},
   "outputs": [],
   "source": []
  },
  {
   "cell_type": "code",
   "execution_count": null,
   "id": "major-sitting",
   "metadata": {},
   "outputs": [],
   "source": []
  },
  {
   "cell_type": "code",
   "execution_count": 14,
   "id": "anonymous-apparel",
   "metadata": {
    "ExecuteTime": {
     "end_time": "2021-02-18T16:03:27.690217Z",
     "start_time": "2021-02-18T16:03:27.532405Z"
    }
   },
   "outputs": [
    {
     "data": {
      "text/plain": [
       "ARDRegression()"
      ]
     },
     "execution_count": 14,
     "metadata": {},
     "output_type": "execute_result"
    }
   ],
   "source": [
    "#lets see what the PCA is \n",
    "from sklearn.linear_model import ARDRegression\n",
    "ar = ARDRegression()\n",
    "ar.fit(x_train, y_train)"
   ]
  },
  {
   "cell_type": "code",
   "execution_count": 15,
   "id": "canadian-collaboration",
   "metadata": {
    "ExecuteTime": {
     "end_time": "2021-02-18T16:03:28.037389Z",
     "start_time": "2021-02-18T16:03:28.026470Z"
    }
   },
   "outputs": [
    {
     "data": {
      "text/plain": [
       "array([7.39929752, 7.33525545, 7.39718741, ..., 7.52171667, 7.6678293 ,\n",
       "       7.42773625])"
      ]
     },
     "execution_count": 15,
     "metadata": {},
     "output_type": "execute_result"
    }
   ],
   "source": [
    "y_pred_regr = ar.predict(x_val)\n",
    "y_pred_regr"
   ]
  },
  {
   "cell_type": "code",
   "execution_count": 16,
   "id": "yellow-training",
   "metadata": {
    "ExecuteTime": {
     "end_time": "2021-02-18T16:03:28.464243Z",
     "start_time": "2021-02-18T16:03:28.456910Z"
    }
   },
   "outputs": [
    {
     "data": {
      "text/plain": [
       "0.8761941037638772"
      ]
     },
     "execution_count": 16,
     "metadata": {},
     "output_type": "execute_result"
    }
   ],
   "source": [
    "mse = mean_squared_error(y_pred_regr, y_val, squared=False)\n",
    "mse"
   ]
  },
  {
   "cell_type": "code",
   "execution_count": null,
   "id": "exceptional-legislation",
   "metadata": {},
   "outputs": [],
   "source": []
  },
  {
   "cell_type": "code",
   "execution_count": null,
   "id": "understood-thomas",
   "metadata": {},
   "outputs": [],
   "source": []
  },
  {
   "cell_type": "code",
   "execution_count": null,
   "id": "sweet-privacy",
   "metadata": {},
   "outputs": [],
   "source": []
  },
  {
   "cell_type": "code",
   "execution_count": 17,
   "id": "perceived-miracle",
   "metadata": {
    "ExecuteTime": {
     "end_time": "2021-02-18T16:03:30.305229Z",
     "start_time": "2021-02-18T16:03:30.170274Z"
    }
   },
   "outputs": [
    {
     "data": {
      "text/plain": [
       "BayesianRidge()"
      ]
     },
     "execution_count": 17,
     "metadata": {},
     "output_type": "execute_result"
    }
   ],
   "source": [
    "from sklearn.linear_model import BayesianRidge\n",
    "br = BayesianRidge()\n",
    "br.fit(x_train, y_train)"
   ]
  },
  {
   "cell_type": "code",
   "execution_count": 18,
   "id": "familiar-application",
   "metadata": {
    "ExecuteTime": {
     "end_time": "2021-02-18T16:03:30.627061Z",
     "start_time": "2021-02-18T16:03:30.616796Z"
    }
   },
   "outputs": [
    {
     "data": {
      "text/plain": [
       "array([7.39819384, 7.3392898 , 7.40103551, ..., 7.51916283, 7.66823714,\n",
       "       7.42857027])"
      ]
     },
     "execution_count": 18,
     "metadata": {},
     "output_type": "execute_result"
    }
   ],
   "source": [
    "y_pred_regr = br.predict(x_val)\n",
    "y_pred_regr"
   ]
  },
  {
   "cell_type": "code",
   "execution_count": 19,
   "id": "material-metropolitan",
   "metadata": {
    "ExecuteTime": {
     "end_time": "2021-02-18T16:03:31.060432Z",
     "start_time": "2021-02-18T16:03:31.054289Z"
    }
   },
   "outputs": [
    {
     "data": {
      "text/plain": [
       "0.8761757359341672"
      ]
     },
     "execution_count": 19,
     "metadata": {},
     "output_type": "execute_result"
    }
   ],
   "source": [
    "mse = mean_squared_error(y_pred_regr, y_val, squared=False)\n",
    "mse"
   ]
  },
  {
   "cell_type": "code",
   "execution_count": null,
   "id": "corrected-internet",
   "metadata": {},
   "outputs": [],
   "source": []
  },
  {
   "cell_type": "code",
   "execution_count": null,
   "id": "narrow-resource",
   "metadata": {},
   "outputs": [],
   "source": []
  },
  {
   "cell_type": "code",
   "execution_count": 20,
   "id": "african-collar",
   "metadata": {
    "ExecuteTime": {
     "end_time": "2021-02-18T16:03:32.387424Z",
     "start_time": "2021-02-18T16:03:32.381002Z"
    }
   },
   "outputs": [],
   "source": [
    "en = ElasticNet()"
   ]
  },
  {
   "cell_type": "code",
   "execution_count": 21,
   "id": "durable-dayton",
   "metadata": {
    "ExecuteTime": {
     "end_time": "2021-02-18T16:03:32.820386Z",
     "start_time": "2021-02-18T16:03:32.785400Z"
    }
   },
   "outputs": [
    {
     "data": {
      "text/plain": [
       "ElasticNet()"
      ]
     },
     "execution_count": 21,
     "metadata": {},
     "output_type": "execute_result"
    }
   ],
   "source": [
    "en.fit(x_train, y_train)"
   ]
  },
  {
   "cell_type": "code",
   "execution_count": 22,
   "id": "female-nepal",
   "metadata": {
    "ExecuteTime": {
     "end_time": "2021-02-18T16:03:33.253463Z",
     "start_time": "2021-02-18T16:03:33.242478Z"
    }
   },
   "outputs": [
    {
     "data": {
      "text/plain": [
       "array([7.45485702, 7.45485702, 7.45485702, ..., 7.45485702, 7.45485702,\n",
       "       7.45485702])"
      ]
     },
     "execution_count": 22,
     "metadata": {},
     "output_type": "execute_result"
    }
   ],
   "source": [
    "y_pred_regr = en.predict(x_val)\n",
    "y_pred_regr"
   ]
  },
  {
   "cell_type": "code",
   "execution_count": 23,
   "id": "general-windsor",
   "metadata": {
    "ExecuteTime": {
     "end_time": "2021-02-18T16:03:33.702500Z",
     "start_time": "2021-02-18T16:03:33.694891Z"
    }
   },
   "outputs": [
    {
     "data": {
      "text/plain": [
       "0.8854278096232179"
      ]
     },
     "execution_count": 23,
     "metadata": {},
     "output_type": "execute_result"
    }
   ],
   "source": [
    "mse = mean_squared_error(y_pred_regr, y_val, squared=False)\n",
    "mse"
   ]
  },
  {
   "cell_type": "code",
   "execution_count": null,
   "id": "hazardous-electricity",
   "metadata": {},
   "outputs": [],
   "source": []
  },
  {
   "cell_type": "code",
   "execution_count": 24,
   "id": "dietary-rogers",
   "metadata": {
    "ExecuteTime": {
     "end_time": "2021-02-18T16:03:34.619373Z",
     "start_time": "2021-02-18T16:03:34.613453Z"
    }
   },
   "outputs": [],
   "source": [
    "r = Ridge()"
   ]
  },
  {
   "cell_type": "code",
   "execution_count": 25,
   "id": "executed-democracy",
   "metadata": {
    "ExecuteTime": {
     "end_time": "2021-02-18T16:03:35.075996Z",
     "start_time": "2021-02-18T16:03:35.050423Z"
    }
   },
   "outputs": [
    {
     "data": {
      "text/plain": [
       "Ridge()"
      ]
     },
     "execution_count": 25,
     "metadata": {},
     "output_type": "execute_result"
    }
   ],
   "source": [
    "r.fit(x_train, y_train)"
   ]
  },
  {
   "cell_type": "code",
   "execution_count": 26,
   "id": "elementary-portal",
   "metadata": {
    "ExecuteTime": {
     "end_time": "2021-02-18T16:03:35.487627Z",
     "start_time": "2021-02-18T16:03:35.478812Z"
    }
   },
   "outputs": [
    {
     "data": {
      "text/plain": [
       "array([7.39818387, 7.33928179, 7.40102755, ..., 7.51917186, 7.66825033,\n",
       "       7.42856317])"
      ]
     },
     "execution_count": 26,
     "metadata": {},
     "output_type": "execute_result"
    }
   ],
   "source": [
    "y_pred_regr = r.predict(x_val)\n",
    "y_pred_regr"
   ]
  },
  {
   "cell_type": "code",
   "execution_count": 27,
   "id": "collected-looking",
   "metadata": {
    "ExecuteTime": {
     "end_time": "2021-02-18T16:03:35.932635Z",
     "start_time": "2021-02-18T16:03:35.927329Z"
    }
   },
   "outputs": [
    {
     "data": {
      "text/plain": [
       "0.8761757184428889"
      ]
     },
     "execution_count": 27,
     "metadata": {},
     "output_type": "execute_result"
    }
   ],
   "source": [
    "mse = mean_squared_error(y_pred_regr, y_val, squared=False)\n",
    "mse"
   ]
  },
  {
   "cell_type": "code",
   "execution_count": null,
   "id": "banned-devil",
   "metadata": {},
   "outputs": [],
   "source": []
  },
  {
   "cell_type": "code",
   "execution_count": null,
   "id": "unlimited-hawaii",
   "metadata": {},
   "outputs": [],
   "source": []
  },
  {
   "cell_type": "code",
   "execution_count": 28,
   "id": "hispanic-reset",
   "metadata": {
    "ExecuteTime": {
     "end_time": "2021-02-18T16:03:37.412747Z",
     "start_time": "2021-02-18T16:03:37.365376Z"
    }
   },
   "outputs": [
    {
     "data": {
      "text/plain": [
       "Lasso()"
      ]
     },
     "execution_count": 28,
     "metadata": {},
     "output_type": "execute_result"
    }
   ],
   "source": [
    "l = Lasso()\n",
    "l.fit(x_train, y_train)"
   ]
  },
  {
   "cell_type": "code",
   "execution_count": 29,
   "id": "dietary-committee",
   "metadata": {
    "ExecuteTime": {
     "end_time": "2021-02-18T16:03:37.833478Z",
     "start_time": "2021-02-18T16:03:37.821802Z"
    }
   },
   "outputs": [
    {
     "data": {
      "text/plain": [
       "array([7.45485702, 7.45485702, 7.45485702, ..., 7.45485702, 7.45485702,\n",
       "       7.45485702])"
      ]
     },
     "execution_count": 29,
     "metadata": {},
     "output_type": "execute_result"
    }
   ],
   "source": [
    "y_pred_regr = l.predict(x_val)\n",
    "y_pred_regr"
   ]
  },
  {
   "cell_type": "code",
   "execution_count": 30,
   "id": "racial-minister",
   "metadata": {
    "ExecuteTime": {
     "end_time": "2021-02-18T16:03:38.303607Z",
     "start_time": "2021-02-18T16:03:38.295113Z"
    }
   },
   "outputs": [
    {
     "data": {
      "text/plain": [
       "0.8854278096232179"
      ]
     },
     "execution_count": 30,
     "metadata": {},
     "output_type": "execute_result"
    }
   ],
   "source": [
    "mse = mean_squared_error(y_pred_regr, y_val, squared=False)\n",
    "mse"
   ]
  },
  {
   "cell_type": "code",
   "execution_count": null,
   "id": "robust-reunion",
   "metadata": {},
   "outputs": [],
   "source": []
  },
  {
   "cell_type": "code",
   "execution_count": null,
   "id": "alternate-symbol",
   "metadata": {},
   "outputs": [],
   "source": []
  },
  {
   "cell_type": "code",
   "execution_count": 31,
   "id": "developmental-teaching",
   "metadata": {
    "ExecuteTime": {
     "end_time": "2021-02-18T16:03:39.802712Z",
     "start_time": "2021-02-18T16:03:39.679397Z"
    }
   },
   "outputs": [
    {
     "data": {
      "text/plain": [
       "TweedieRegressor()"
      ]
     },
     "execution_count": 31,
     "metadata": {},
     "output_type": "execute_result"
    }
   ],
   "source": [
    "tr = TweedieRegressor()\n",
    "tr.fit(x_train, y_train)"
   ]
  },
  {
   "cell_type": "code",
   "execution_count": 32,
   "id": "arabic-luxury",
   "metadata": {
    "ExecuteTime": {
     "end_time": "2021-02-18T16:03:40.156445Z",
     "start_time": "2021-02-18T16:03:40.147964Z"
    }
   },
   "outputs": [
    {
     "data": {
      "text/plain": [
       "array([7.45586744, 7.45486961, 7.45556523, ..., 7.453452  , 7.4556972 ,\n",
       "       7.45558017])"
      ]
     },
     "execution_count": 32,
     "metadata": {},
     "output_type": "execute_result"
    }
   ],
   "source": [
    "y_pred_regr = tr.predict(x_val)\n",
    "y_pred_regr"
   ]
  },
  {
   "cell_type": "code",
   "execution_count": 33,
   "id": "overall-mount",
   "metadata": {
    "ExecuteTime": {
     "end_time": "2021-02-18T16:03:40.627569Z",
     "start_time": "2021-02-18T16:03:40.622581Z"
    }
   },
   "outputs": [
    {
     "data": {
      "text/plain": [
       "0.8853460811318038"
      ]
     },
     "execution_count": 33,
     "metadata": {},
     "output_type": "execute_result"
    }
   ],
   "source": [
    "mse = mean_squared_error(y_pred_regr, y_val, squared=False)\n",
    "mse"
   ]
  },
  {
   "cell_type": "code",
   "execution_count": null,
   "id": "protecting-practitioner",
   "metadata": {},
   "outputs": [],
   "source": []
  },
  {
   "cell_type": "code",
   "execution_count": null,
   "id": "basic-kelly",
   "metadata": {},
   "outputs": [],
   "source": []
  },
  {
   "cell_type": "code",
   "execution_count": 34,
   "id": "greenhouse-mistake",
   "metadata": {
    "ExecuteTime": {
     "end_time": "2021-02-18T16:03:44.172600Z",
     "start_time": "2021-02-18T16:03:42.079809Z"
    }
   },
   "outputs": [
    {
     "data": {
      "text/plain": [
       "LinearSVR()"
      ]
     },
     "execution_count": 34,
     "metadata": {},
     "output_type": "execute_result"
    }
   ],
   "source": [
    "lsvr = LinearSVR()\n",
    "lsvr.fit(x_train, y_train)"
   ]
  },
  {
   "cell_type": "code",
   "execution_count": 35,
   "id": "promising-turtle",
   "metadata": {
    "ExecuteTime": {
     "end_time": "2021-02-18T16:03:44.193171Z",
     "start_time": "2021-02-18T16:03:44.175909Z"
    }
   },
   "outputs": [
    {
     "data": {
      "text/plain": [
       "array([7.31936445, 7.32494746, 7.32179528, ..., 7.59806553, 7.74238577,\n",
       "       7.50790144])"
      ]
     },
     "execution_count": 35,
     "metadata": {},
     "output_type": "execute_result"
    }
   ],
   "source": [
    "y_pred_regr = lsvr.predict(x_val)\n",
    "y_pred_regr"
   ]
  },
  {
   "cell_type": "code",
   "execution_count": 36,
   "id": "minute-relative",
   "metadata": {
    "ExecuteTime": {
     "end_time": "2021-02-18T16:03:44.226394Z",
     "start_time": "2021-02-18T16:03:44.196213Z"
    }
   },
   "outputs": [
    {
     "data": {
      "text/plain": [
       "0.880019468811793"
      ]
     },
     "execution_count": 36,
     "metadata": {},
     "output_type": "execute_result"
    }
   ],
   "source": [
    "mse = mean_squared_error(y_pred_regr, y_val, squared=False)\n",
    "mse"
   ]
  },
  {
   "cell_type": "code",
   "execution_count": null,
   "id": "ultimate-poison",
   "metadata": {},
   "outputs": [],
   "source": []
  },
  {
   "cell_type": "code",
   "execution_count": null,
   "id": "mounted-promise",
   "metadata": {},
   "outputs": [],
   "source": []
  },
  {
   "cell_type": "code",
   "execution_count": null,
   "id": "collect-officer",
   "metadata": {},
   "outputs": [],
   "source": []
  }
 ],
 "metadata": {
  "kernelspec": {
   "display_name": "Python 3",
   "language": "python",
   "name": "python3"
  },
  "language_info": {
   "codemirror_mode": {
    "name": "ipython",
    "version": 3
   },
   "file_extension": ".py",
   "mimetype": "text/x-python",
   "name": "python",
   "nbconvert_exporter": "python",
   "pygments_lexer": "ipython3",
   "version": "3.8.3"
  }
 },
 "nbformat": 4,
 "nbformat_minor": 5
}
