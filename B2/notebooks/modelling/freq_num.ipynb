{
 "cells": [
  {
   "cell_type": "code",
   "execution_count": 1,
   "id": "alone-registration",
   "metadata": {
    "ExecuteTime": {
     "end_time": "2021-02-18T16:04:08.026192Z",
     "start_time": "2021-02-18T16:04:06.448731Z"
    }
   },
   "outputs": [],
   "source": [
    "import numpy    as np\n",
    "import pandas   as pd\n",
    "import seaborn  as sb\n",
    "import matplotlib.pyplot as plt\n",
    "import sklearn  as skl\n",
    "import time\n",
    "from IPython.display import clear_output\n",
    "\n",
    "from sklearn import pipeline      # Pipeline, make_pipeline\n",
    "from sklearn import preprocessing # StandardScaler, OrdinalEncoder, LabelEncoder\n",
    "from sklearn import impute\n",
    "from sklearn import compose\n",
    "from sklearn import model_selection # train_test_split, StratifiedKFold, cross_val_score, cross_val_predict\n",
    "from sklearn import metrics         # accuracy_score, balanced_accuracy_score, plot_confusion_matrix\n",
    "from sklearn import inspection      # permutation_importance\n",
    "import scikitplot as skplt"
   ]
  },
  {
   "cell_type": "code",
   "execution_count": 2,
   "id": "external-republican",
   "metadata": {
    "ExecuteTime": {
     "end_time": "2021-02-18T16:04:08.310105Z",
     "start_time": "2021-02-18T16:04:08.028437Z"
    }
   },
   "outputs": [],
   "source": [
    "########################################################### CLASSIFIERS\n",
    "\n",
    "#### MULT\n",
    "from sklearn.linear_model   import LogisticRegression\n",
    "from sklearn.linear_model   import RidgeClassifier\n",
    "from sklearn.svm            import SVC\n",
    "from sklearn.svm            import NuSVC\n",
    "from sklearn.svm            import LinearSVC\n",
    "from sklearn.neural_network import MLPClassifier\n",
    "from sklearn.neighbors      import KNeighborsClassifier\n",
    "from sklearn.gaussian_process import GaussianProcessClassifier\n",
    "from sklearn.gaussian_process.kernels import RBF\n",
    "from sklearn.naive_bayes    import GaussianNB\n",
    "from sklearn.discriminant_analysis import QuadraticDiscriminantAnalysis\n",
    "from sklearn.ensemble       import StackingClassifier\n",
    "\n",
    "#### TREE\n",
    "from sklearn.tree          import DecisionTreeClassifier\n",
    "from sklearn.ensemble      import RandomForestClassifier\n",
    "from sklearn.ensemble      import ExtraTreesClassifier\n",
    "from sklearn.ensemble      import AdaBoostClassifier\n",
    "from sklearn.ensemble      import GradientBoostingClassifier\n",
    "from sklearn.experimental  import enable_hist_gradient_boosting\n",
    "from sklearn.ensemble      import HistGradientBoostingClassifier\n",
    "from xgboost               import XGBClassifier, plot_tree\n",
    "from lightgbm              import LGBMClassifier\n",
    "from catboost              import CatBoostClassifier\n",
    "#from ngboost               import NGBClassifier\n",
    "#from rgf.sklearn           import RGFClassifier, FastRGFClassifier\n",
    "\n",
    "########################################################### REGRESSORS\n",
    "from sklearn.linear_model  import ElasticNet, Ridge, Lasso, BayesianRidge, ARDRegression, TweedieRegressor\n",
    "from sklearn.svm           import LinearSVR, NuSVR, SVR\n",
    "from sklearn.ensemble      import BaggingRegressor\n",
    "from sklearn.kernel_ridge  import KernelRidge"
   ]
  },
  {
   "cell_type": "code",
   "execution_count": 4,
   "id": "fitted-atlas",
   "metadata": {
    "ExecuteTime": {
     "end_time": "2021-02-18T16:04:22.906467Z",
     "start_time": "2021-02-18T16:04:22.780508Z"
    }
   },
   "outputs": [
    {
     "name": "stdout",
     "output_type": "stream",
     "text": [
      "UNI_test_freq_num.csv  UNI_train_freq_num.csv\r\n"
     ]
    }
   ],
   "source": [
    "!ls ../../csv_files/FS_combos/UNI/freq_num/"
   ]
  },
  {
   "cell_type": "code",
   "execution_count": 5,
   "id": "similar-voice",
   "metadata": {
    "ExecuteTime": {
     "end_time": "2021-02-18T16:04:28.469299Z",
     "start_time": "2021-02-18T16:04:28.465789Z"
    }
   },
   "outputs": [],
   "source": [
    "path = \"../../csv_files/FS_combos/UNI/freq_num/\""
   ]
  },
  {
   "cell_type": "code",
   "execution_count": 6,
   "id": "soviet-layer",
   "metadata": {
    "ExecuteTime": {
     "end_time": "2021-02-18T16:04:35.696397Z",
     "start_time": "2021-02-18T16:04:34.658770Z"
    }
   },
   "outputs": [],
   "source": [
    "df      = pd.read_csv(path + \"UNI_train_freq_num.csv\", index_col=\"Unnamed: 0\")\n",
    "df_test = pd.read_csv(path + \"UNI_test_freq_num.csv\", index_col=\"Unnamed: 0\")"
   ]
  },
  {
   "cell_type": "markdown",
   "id": "polar-arbitration",
   "metadata": {},
   "source": [
    "### Select data for experiment"
   ]
  },
  {
   "cell_type": "code",
   "execution_count": 7,
   "id": "approximate-description",
   "metadata": {
    "ExecuteTime": {
     "end_time": "2021-02-18T16:04:35.933987Z",
     "start_time": "2021-02-18T16:04:35.837090Z"
    }
   },
   "outputs": [],
   "source": [
    "x = df.drop(columns=[\"target\", 'id']) # X DATA (WILL BE TRAIN+VALID DATA)\n",
    "y = df[\"target\"] # 0 = No, 1 = Yes\n",
    "\n",
    "x_test = df_test.drop(columns=['id']) # # X_TEST DATA (NEW DATA)"
   ]
  },
  {
   "cell_type": "code",
   "execution_count": 8,
   "id": "aboriginal-subscriber",
   "metadata": {
    "ExecuteTime": {
     "end_time": "2021-02-18T16:04:36.440983Z",
     "start_time": "2021-02-18T16:04:36.355925Z"
    }
   },
   "outputs": [],
   "source": [
    "x_train, x_val, y_train, y_val = model_selection.train_test_split(\n",
    "    x, y,\n",
    "    test_size=0.2,\n",
    "    random_state=0\n",
    ")"
   ]
  },
  {
   "cell_type": "code",
   "execution_count": 9,
   "id": "solar-wings",
   "metadata": {
    "ExecuteTime": {
     "end_time": "2021-02-18T16:04:37.050539Z",
     "start_time": "2021-02-18T16:04:36.879961Z"
    }
   },
   "outputs": [
    {
     "data": {
      "text/plain": [
       "LinearRegression()"
      ]
     },
     "execution_count": 9,
     "metadata": {},
     "output_type": "execute_result"
    }
   ],
   "source": [
    "from sklearn.linear_model import LinearRegression\n",
    "\n",
    "lr = LinearRegression()\n",
    "lr.fit(x_train, y_train)"
   ]
  },
  {
   "cell_type": "code",
   "execution_count": 10,
   "id": "occupational-commons",
   "metadata": {
    "ExecuteTime": {
     "end_time": "2021-02-18T16:04:37.392462Z",
     "start_time": "2021-02-18T16:04:37.378971Z"
    }
   },
   "outputs": [
    {
     "data": {
      "text/plain": [
       "array([7.38269783, 7.35437693, 7.35129868, ..., 7.76869206, 7.54688471,\n",
       "       7.39350518])"
      ]
     },
     "execution_count": 10,
     "metadata": {},
     "output_type": "execute_result"
    }
   ],
   "source": [
    "y_pred_regr = lr.predict(x_val)\n",
    "y_pred_regr"
   ]
  },
  {
   "cell_type": "code",
   "execution_count": 11,
   "id": "spatial-tiffany",
   "metadata": {
    "ExecuteTime": {
     "end_time": "2021-02-18T16:04:37.877819Z",
     "start_time": "2021-02-18T16:04:37.872430Z"
    }
   },
   "outputs": [],
   "source": [
    "from sklearn.metrics import mean_squared_error"
   ]
  },
  {
   "cell_type": "code",
   "execution_count": 12,
   "id": "durable-architect",
   "metadata": {
    "ExecuteTime": {
     "end_time": "2021-02-18T16:04:38.377557Z",
     "start_time": "2021-02-18T16:04:38.370918Z"
    }
   },
   "outputs": [
    {
     "data": {
      "text/plain": [
       "0.8737656748827035"
      ]
     },
     "execution_count": 12,
     "metadata": {},
     "output_type": "execute_result"
    }
   ],
   "source": [
    "mse = mean_squared_error(y_pred_regr, y_val, squared=False)\n",
    "mse"
   ]
  },
  {
   "cell_type": "code",
   "execution_count": null,
   "id": "devoted-potential",
   "metadata": {},
   "outputs": [],
   "source": []
  },
  {
   "cell_type": "code",
   "execution_count": null,
   "id": "freelance-senator",
   "metadata": {},
   "outputs": [],
   "source": []
  },
  {
   "cell_type": "code",
   "execution_count": 13,
   "id": "homeless-circuit",
   "metadata": {
    "ExecuteTime": {
     "end_time": "2021-02-18T16:04:39.995474Z",
     "start_time": "2021-02-18T16:04:39.871080Z"
    }
   },
   "outputs": [
    {
     "data": {
      "text/plain": [
       "ARDRegression()"
      ]
     },
     "execution_count": 13,
     "metadata": {},
     "output_type": "execute_result"
    }
   ],
   "source": [
    "#lets see what the PCA is \n",
    "from sklearn.linear_model import ARDRegression\n",
    "ar = ARDRegression()\n",
    "ar.fit(x_train, y_train)"
   ]
  },
  {
   "cell_type": "code",
   "execution_count": 14,
   "id": "charitable-caribbean",
   "metadata": {
    "ExecuteTime": {
     "end_time": "2021-02-18T16:04:40.352980Z",
     "start_time": "2021-02-18T16:04:40.344762Z"
    }
   },
   "outputs": [
    {
     "data": {
      "text/plain": [
       "array([7.38152091, 7.35627844, 7.35268825, ..., 7.76862773, 7.54576691,\n",
       "       7.39302713])"
      ]
     },
     "execution_count": 14,
     "metadata": {},
     "output_type": "execute_result"
    }
   ],
   "source": [
    "y_pred_regr = ar.predict(x_val)\n",
    "y_pred_regr"
   ]
  },
  {
   "cell_type": "code",
   "execution_count": 15,
   "id": "fleet-appreciation",
   "metadata": {
    "ExecuteTime": {
     "end_time": "2021-02-18T16:04:40.868884Z",
     "start_time": "2021-02-18T16:04:40.861492Z"
    }
   },
   "outputs": [
    {
     "data": {
      "text/plain": [
       "0.873762527579866"
      ]
     },
     "execution_count": 15,
     "metadata": {},
     "output_type": "execute_result"
    }
   ],
   "source": [
    "mse = mean_squared_error(y_pred_regr, y_val, squared=False)\n",
    "mse"
   ]
  },
  {
   "cell_type": "code",
   "execution_count": null,
   "id": "breathing-topic",
   "metadata": {},
   "outputs": [],
   "source": []
  },
  {
   "cell_type": "code",
   "execution_count": null,
   "id": "transsexual-anniversary",
   "metadata": {},
   "outputs": [],
   "source": []
  },
  {
   "cell_type": "code",
   "execution_count": null,
   "id": "rental-emission",
   "metadata": {},
   "outputs": [],
   "source": []
  },
  {
   "cell_type": "code",
   "execution_count": 16,
   "id": "identified-cruise",
   "metadata": {
    "ExecuteTime": {
     "end_time": "2021-02-18T16:04:42.022827Z",
     "start_time": "2021-02-18T16:04:41.888243Z"
    }
   },
   "outputs": [
    {
     "data": {
      "text/plain": [
       "BayesianRidge()"
      ]
     },
     "execution_count": 16,
     "metadata": {},
     "output_type": "execute_result"
    }
   ],
   "source": [
    "from sklearn.linear_model import BayesianRidge\n",
    "br = BayesianRidge()\n",
    "br.fit(x_train, y_train)"
   ]
  },
  {
   "cell_type": "code",
   "execution_count": 17,
   "id": "domestic-prague",
   "metadata": {
    "ExecuteTime": {
     "end_time": "2021-02-18T16:04:42.166715Z",
     "start_time": "2021-02-18T16:04:42.157461Z"
    }
   },
   "outputs": [
    {
     "data": {
      "text/plain": [
       "array([7.38299485, 7.35457299, 7.35156157, ..., 7.76855013, 7.54656845,\n",
       "       7.39372887])"
      ]
     },
     "execution_count": 17,
     "metadata": {},
     "output_type": "execute_result"
    }
   ],
   "source": [
    "y_pred_regr = br.predict(x_val)\n",
    "y_pred_regr"
   ]
  },
  {
   "cell_type": "code",
   "execution_count": 18,
   "id": "composite-charleston",
   "metadata": {
    "ExecuteTime": {
     "end_time": "2021-02-18T16:04:42.418570Z",
     "start_time": "2021-02-18T16:04:42.410305Z"
    }
   },
   "outputs": [
    {
     "data": {
      "text/plain": [
       "0.8737661024312509"
      ]
     },
     "execution_count": 18,
     "metadata": {},
     "output_type": "execute_result"
    }
   ],
   "source": [
    "mse = mean_squared_error(y_pred_regr, y_val, squared=False)\n",
    "mse"
   ]
  },
  {
   "cell_type": "code",
   "execution_count": null,
   "id": "killing-layer",
   "metadata": {},
   "outputs": [],
   "source": []
  },
  {
   "cell_type": "code",
   "execution_count": null,
   "id": "checked-render",
   "metadata": {},
   "outputs": [],
   "source": []
  },
  {
   "cell_type": "code",
   "execution_count": 19,
   "id": "certified-louisville",
   "metadata": {
    "ExecuteTime": {
     "end_time": "2021-02-18T16:04:43.328911Z",
     "start_time": "2021-02-18T16:04:43.321190Z"
    }
   },
   "outputs": [],
   "source": [
    "en = ElasticNet()"
   ]
  },
  {
   "cell_type": "code",
   "execution_count": 20,
   "id": "owned-framing",
   "metadata": {
    "ExecuteTime": {
     "end_time": "2021-02-18T16:04:43.567780Z",
     "start_time": "2021-02-18T16:04:43.535474Z"
    }
   },
   "outputs": [
    {
     "data": {
      "text/plain": [
       "ElasticNet()"
      ]
     },
     "execution_count": 20,
     "metadata": {},
     "output_type": "execute_result"
    }
   ],
   "source": [
    "en.fit(x_train, y_train)"
   ]
  },
  {
   "cell_type": "code",
   "execution_count": 21,
   "id": "mechanical-recruitment",
   "metadata": {
    "ExecuteTime": {
     "end_time": "2021-02-18T16:04:43.779254Z",
     "start_time": "2021-02-18T16:04:43.767845Z"
    }
   },
   "outputs": [
    {
     "data": {
      "text/plain": [
       "array([7.45485702, 7.45485702, 7.45485702, ..., 7.45485702, 7.45485702,\n",
       "       7.45485702])"
      ]
     },
     "execution_count": 21,
     "metadata": {},
     "output_type": "execute_result"
    }
   ],
   "source": [
    "y_pred_regr = en.predict(x_val)\n",
    "y_pred_regr"
   ]
  },
  {
   "cell_type": "code",
   "execution_count": 22,
   "id": "molecular-brunei",
   "metadata": {
    "ExecuteTime": {
     "end_time": "2021-02-18T16:04:44.036311Z",
     "start_time": "2021-02-18T16:04:44.028984Z"
    }
   },
   "outputs": [
    {
     "data": {
      "text/plain": [
       "0.8854278096232179"
      ]
     },
     "execution_count": 22,
     "metadata": {},
     "output_type": "execute_result"
    }
   ],
   "source": [
    "mse = mean_squared_error(y_pred_regr, y_val, squared=False)\n",
    "mse"
   ]
  },
  {
   "cell_type": "code",
   "execution_count": null,
   "id": "following-supplier",
   "metadata": {},
   "outputs": [],
   "source": []
  },
  {
   "cell_type": "code",
   "execution_count": 23,
   "id": "taken-singer",
   "metadata": {
    "ExecuteTime": {
     "end_time": "2021-02-18T16:04:44.537317Z",
     "start_time": "2021-02-18T16:04:44.531607Z"
    }
   },
   "outputs": [],
   "source": [
    "r = Ridge()"
   ]
  },
  {
   "cell_type": "code",
   "execution_count": 24,
   "id": "computational-validation",
   "metadata": {
    "ExecuteTime": {
     "end_time": "2021-02-18T16:04:44.798207Z",
     "start_time": "2021-02-18T16:04:44.773708Z"
    }
   },
   "outputs": [
    {
     "data": {
      "text/plain": [
       "Ridge()"
      ]
     },
     "execution_count": 24,
     "metadata": {},
     "output_type": "execute_result"
    }
   ],
   "source": [
    "r.fit(x_train, y_train)"
   ]
  },
  {
   "cell_type": "code",
   "execution_count": 25,
   "id": "brilliant-january",
   "metadata": {
    "ExecuteTime": {
     "end_time": "2021-02-18T16:04:45.036215Z",
     "start_time": "2021-02-18T16:04:45.026287Z"
    }
   },
   "outputs": [
    {
     "data": {
      "text/plain": [
       "array([7.38292813, 7.35452894, 7.35150252, ..., 7.76858203, 7.54663949,\n",
       "       7.39367862])"
      ]
     },
     "execution_count": 25,
     "metadata": {},
     "output_type": "execute_result"
    }
   ],
   "source": [
    "y_pred_regr = r.predict(x_val)\n",
    "y_pred_regr"
   ]
  },
  {
   "cell_type": "code",
   "execution_count": 26,
   "id": "narrative-freight",
   "metadata": {
    "ExecuteTime": {
     "end_time": "2021-02-18T16:04:45.255140Z",
     "start_time": "2021-02-18T16:04:45.248103Z"
    }
   },
   "outputs": [
    {
     "data": {
      "text/plain": [
       "0.8737659969411106"
      ]
     },
     "execution_count": 26,
     "metadata": {},
     "output_type": "execute_result"
    }
   ],
   "source": [
    "mse = mean_squared_error(y_pred_regr, y_val, squared=False)\n",
    "mse"
   ]
  },
  {
   "cell_type": "code",
   "execution_count": null,
   "id": "disturbed-humor",
   "metadata": {},
   "outputs": [],
   "source": []
  },
  {
   "cell_type": "code",
   "execution_count": null,
   "id": "engaging-andrew",
   "metadata": {},
   "outputs": [],
   "source": []
  },
  {
   "cell_type": "code",
   "execution_count": 27,
   "id": "adjusted-receipt",
   "metadata": {
    "ExecuteTime": {
     "end_time": "2021-02-18T16:04:46.252407Z",
     "start_time": "2021-02-18T16:04:46.216976Z"
    }
   },
   "outputs": [
    {
     "data": {
      "text/plain": [
       "Lasso()"
      ]
     },
     "execution_count": 27,
     "metadata": {},
     "output_type": "execute_result"
    }
   ],
   "source": [
    "l = Lasso()\n",
    "l.fit(x_train, y_train)"
   ]
  },
  {
   "cell_type": "code",
   "execution_count": 28,
   "id": "bigger-northern",
   "metadata": {
    "ExecuteTime": {
     "end_time": "2021-02-18T16:04:46.434384Z",
     "start_time": "2021-02-18T16:04:46.423029Z"
    }
   },
   "outputs": [
    {
     "data": {
      "text/plain": [
       "array([7.45485702, 7.45485702, 7.45485702, ..., 7.45485702, 7.45485702,\n",
       "       7.45485702])"
      ]
     },
     "execution_count": 28,
     "metadata": {},
     "output_type": "execute_result"
    }
   ],
   "source": [
    "y_pred_regr = l.predict(x_val)\n",
    "y_pred_regr"
   ]
  },
  {
   "cell_type": "code",
   "execution_count": 29,
   "id": "extraordinary-hunger",
   "metadata": {
    "ExecuteTime": {
     "end_time": "2021-02-18T16:04:46.689133Z",
     "start_time": "2021-02-18T16:04:46.682354Z"
    }
   },
   "outputs": [
    {
     "data": {
      "text/plain": [
       "0.8854278096232179"
      ]
     },
     "execution_count": 29,
     "metadata": {},
     "output_type": "execute_result"
    }
   ],
   "source": [
    "mse = mean_squared_error(y_pred_regr, y_val, squared=False)\n",
    "mse"
   ]
  },
  {
   "cell_type": "code",
   "execution_count": null,
   "id": "adjacent-dream",
   "metadata": {},
   "outputs": [],
   "source": []
  },
  {
   "cell_type": "code",
   "execution_count": null,
   "id": "finnish-trial",
   "metadata": {},
   "outputs": [],
   "source": []
  },
  {
   "cell_type": "code",
   "execution_count": 30,
   "id": "conscious-edgar",
   "metadata": {
    "ExecuteTime": {
     "end_time": "2021-02-18T16:04:47.542154Z",
     "start_time": "2021-02-18T16:04:47.416171Z"
    }
   },
   "outputs": [
    {
     "data": {
      "text/plain": [
       "TweedieRegressor()"
      ]
     },
     "execution_count": 30,
     "metadata": {},
     "output_type": "execute_result"
    }
   ],
   "source": [
    "tr = TweedieRegressor()\n",
    "tr.fit(x_train, y_train)"
   ]
  },
  {
   "cell_type": "code",
   "execution_count": 31,
   "id": "divine-festival",
   "metadata": {
    "ExecuteTime": {
     "end_time": "2021-02-18T16:04:47.787336Z",
     "start_time": "2021-02-18T16:04:47.776916Z"
    }
   },
   "outputs": [
    {
     "data": {
      "text/plain": [
       "array([7.45571576, 7.45370136, 7.45519953, ..., 7.46752268, 7.45510297,\n",
       "       7.45486487])"
      ]
     },
     "execution_count": 31,
     "metadata": {},
     "output_type": "execute_result"
    }
   ],
   "source": [
    "y_pred_regr = tr.predict(x_val)\n",
    "y_pred_regr"
   ]
  },
  {
   "cell_type": "code",
   "execution_count": 32,
   "id": "satisfactory-median",
   "metadata": {
    "ExecuteTime": {
     "end_time": "2021-02-18T16:04:48.012911Z",
     "start_time": "2021-02-18T16:04:48.005651Z"
    }
   },
   "outputs": [
    {
     "data": {
      "text/plain": [
       "0.8848960843361352"
      ]
     },
     "execution_count": 32,
     "metadata": {},
     "output_type": "execute_result"
    }
   ],
   "source": [
    "mse = mean_squared_error(y_pred_regr, y_val, squared=False)\n",
    "mse"
   ]
  },
  {
   "cell_type": "code",
   "execution_count": null,
   "id": "arranged-exclusion",
   "metadata": {},
   "outputs": [],
   "source": []
  },
  {
   "cell_type": "code",
   "execution_count": null,
   "id": "mounted-boulder",
   "metadata": {},
   "outputs": [],
   "source": []
  },
  {
   "cell_type": "code",
   "execution_count": 33,
   "id": "considered-honey",
   "metadata": {
    "ExecuteTime": {
     "end_time": "2021-02-18T16:04:51.791502Z",
     "start_time": "2021-02-18T16:04:49.070206Z"
    }
   },
   "outputs": [
    {
     "data": {
      "text/plain": [
       "LinearSVR()"
      ]
     },
     "execution_count": 33,
     "metadata": {},
     "output_type": "execute_result"
    }
   ],
   "source": [
    "lsvr = LinearSVR()\n",
    "lsvr.fit(x_train, y_train)"
   ]
  },
  {
   "cell_type": "code",
   "execution_count": 34,
   "id": "mighty-gazette",
   "metadata": {
    "ExecuteTime": {
     "end_time": "2021-02-18T16:04:51.812437Z",
     "start_time": "2021-02-18T16:04:51.795828Z"
    }
   },
   "outputs": [
    {
     "data": {
      "text/plain": [
       "array([7.31344979, 7.36575079, 7.25941325, ..., 7.92650178, 7.55929004,\n",
       "       7.458503  ])"
      ]
     },
     "execution_count": 34,
     "metadata": {},
     "output_type": "execute_result"
    }
   ],
   "source": [
    "y_pred_regr = lsvr.predict(x_val)\n",
    "y_pred_regr"
   ]
  },
  {
   "cell_type": "code",
   "execution_count": 35,
   "id": "regulation-matthew",
   "metadata": {
    "ExecuteTime": {
     "end_time": "2021-02-18T16:04:51.825710Z",
     "start_time": "2021-02-18T16:04:51.815509Z"
    }
   },
   "outputs": [
    {
     "data": {
      "text/plain": [
       "0.8777918112517679"
      ]
     },
     "execution_count": 35,
     "metadata": {},
     "output_type": "execute_result"
    }
   ],
   "source": [
    "mse = mean_squared_error(y_pred_regr, y_val, squared=False)\n",
    "mse"
   ]
  },
  {
   "cell_type": "code",
   "execution_count": null,
   "id": "fitting-jones",
   "metadata": {},
   "outputs": [],
   "source": []
  },
  {
   "cell_type": "code",
   "execution_count": null,
   "id": "characteristic-helmet",
   "metadata": {},
   "outputs": [],
   "source": []
  },
  {
   "cell_type": "code",
   "execution_count": null,
   "id": "inappropriate-anime",
   "metadata": {},
   "outputs": [],
   "source": []
  }
 ],
 "metadata": {
  "kernelspec": {
   "display_name": "Python 3",
   "language": "python",
   "name": "python3"
  },
  "language_info": {
   "codemirror_mode": {
    "name": "ipython",
    "version": 3
   },
   "file_extension": ".py",
   "mimetype": "text/x-python",
   "name": "python",
   "nbconvert_exporter": "python",
   "pygments_lexer": "ipython3",
   "version": "3.8.3"
  }
 },
 "nbformat": 4,
 "nbformat_minor": 5
}
