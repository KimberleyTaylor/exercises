{
 "cells": [
  {
   "cell_type": "code",
   "execution_count": 1,
   "id": "living-minute",
   "metadata": {
    "ExecuteTime": {
     "end_time": "2021-02-18T16:40:17.590448Z",
     "start_time": "2021-02-18T16:40:15.743443Z"
    }
   },
   "outputs": [],
   "source": [
    "import numpy    as np\n",
    "import pandas   as pd\n",
    "import seaborn  as sb\n",
    "import matplotlib.pyplot as plt\n",
    "import sklearn  as skl\n",
    "import time\n",
    "from IPython.display import clear_output\n",
    "\n",
    "from sklearn import pipeline      # Pipeline, make_pipeline\n",
    "from sklearn import preprocessing # StandardScaler, OrdinalEncoder, LabelEncoder\n",
    "from sklearn import impute\n",
    "from sklearn import compose\n",
    "from sklearn import model_selection # train_test_split, StratifiedKFold, cross_val_score, cross_val_predict\n",
    "from sklearn import metrics         # accuracy_score, balanced_accuracy_score, plot_confusion_matrix\n",
    "from sklearn import inspection      # permutation_importance\n",
    "import scikitplot as skplt"
   ]
  },
  {
   "cell_type": "code",
   "execution_count": 2,
   "id": "rural-adelaide",
   "metadata": {
    "ExecuteTime": {
     "end_time": "2021-02-18T16:40:18.459587Z",
     "start_time": "2021-02-18T16:40:18.134376Z"
    }
   },
   "outputs": [],
   "source": [
    "########################################################### CLASSIFIERS\n",
    "\n",
    "#### MULT\n",
    "from sklearn.linear_model   import LogisticRegression\n",
    "from sklearn.linear_model   import RidgeClassifier\n",
    "from sklearn.svm            import SVC\n",
    "from sklearn.svm            import NuSVC\n",
    "from sklearn.svm            import LinearSVC\n",
    "from sklearn.neural_network import MLPClassifier\n",
    "from sklearn.neighbors      import KNeighborsClassifier\n",
    "from sklearn.gaussian_process import GaussianProcessClassifier\n",
    "from sklearn.gaussian_process.kernels import RBF\n",
    "from sklearn.naive_bayes    import GaussianNB\n",
    "from sklearn.discriminant_analysis import QuadraticDiscriminantAnalysis\n",
    "from sklearn.ensemble       import StackingClassifier\n",
    "\n",
    "#### TREE\n",
    "from sklearn.tree          import DecisionTreeClassifier\n",
    "from sklearn.ensemble      import RandomForestClassifier\n",
    "from sklearn.ensemble      import ExtraTreesClassifier\n",
    "from sklearn.ensemble      import AdaBoostClassifier\n",
    "from sklearn.ensemble      import GradientBoostingClassifier\n",
    "from sklearn.experimental  import enable_hist_gradient_boosting\n",
    "from sklearn.ensemble      import HistGradientBoostingClassifier\n",
    "from xgboost               import XGBClassifier, plot_tree\n",
    "from lightgbm              import LGBMClassifier\n",
    "from catboost              import CatBoostClassifier\n",
    "#from ngboost               import NGBClassifier\n",
    "#from rgf.sklearn           import RGFClassifier, FastRGFClassifier\n",
    "\n",
    "########################################################### REGRESSORS\n",
    "from sklearn.linear_model  import ElasticNet, Ridge, Lasso, BayesianRidge, ARDRegression, TweedieRegressor\n",
    "from sklearn.svm           import LinearSVR, NuSVR, SVR\n",
    "from sklearn.ensemble      import BaggingRegressor\n",
    "from sklearn.kernel_ridge  import KernelRidge"
   ]
  },
  {
   "cell_type": "code",
   "execution_count": 3,
   "id": "painful-regular",
   "metadata": {
    "ExecuteTime": {
     "end_time": "2021-02-18T16:40:19.288624Z",
     "start_time": "2021-02-18T16:40:19.150749Z"
    }
   },
   "outputs": [
    {
     "name": "stdout",
     "output_type": "stream",
     "text": [
      "UNI_test_binary_log.csv  UNI_train_binary_log.csv\r\n"
     ]
    }
   ],
   "source": [
    "!ls ../../csv_files/FS_combos/UNI/binary_log/"
   ]
  },
  {
   "cell_type": "code",
   "execution_count": 4,
   "id": "regional-hungarian",
   "metadata": {
    "ExecuteTime": {
     "end_time": "2021-02-18T16:40:19.707529Z",
     "start_time": "2021-02-18T16:40:19.702561Z"
    }
   },
   "outputs": [],
   "source": [
    "path = \"../../csv_files/FS_combos/UNI/binary_log/\""
   ]
  },
  {
   "cell_type": "code",
   "execution_count": 5,
   "id": "twenty-bennett",
   "metadata": {
    "ExecuteTime": {
     "end_time": "2021-02-18T16:40:20.755344Z",
     "start_time": "2021-02-18T16:40:20.227819Z"
    }
   },
   "outputs": [],
   "source": [
    "df      = pd.read_csv(path + \"UNI_train_binary_log.csv\", index_col=\"Unnamed: 0\")\n",
    "df_test = pd.read_csv(path + \"UNI_test_binary_log.csv\", index_col=\"Unnamed: 0\")"
   ]
  },
  {
   "cell_type": "markdown",
   "id": "pending-melbourne",
   "metadata": {},
   "source": [
    "### Select data for experiment"
   ]
  },
  {
   "cell_type": "code",
   "execution_count": 6,
   "id": "severe-disclosure",
   "metadata": {
    "ExecuteTime": {
     "end_time": "2021-02-18T16:40:28.999632Z",
     "start_time": "2021-02-18T16:40:28.974382Z"
    }
   },
   "outputs": [],
   "source": [
    "x = df.drop(columns=[\"target\", 'id']) # X DATA (WILL BE TRAIN+VALID DATA)\n",
    "y = df[\"target\"] # 0 = No, 1 = Yes\n",
    "\n",
    "x_test = df_test.drop(columns=['id']) # # X_TEST DATA (NEW DATA)"
   ]
  },
  {
   "cell_type": "code",
   "execution_count": 7,
   "id": "grave-notebook",
   "metadata": {
    "ExecuteTime": {
     "end_time": "2021-02-18T16:40:30.051569Z",
     "start_time": "2021-02-18T16:40:29.975642Z"
    }
   },
   "outputs": [],
   "source": [
    "x_train, x_val, y_train, y_val = model_selection.train_test_split(\n",
    "    x, y,\n",
    "    test_size=0.2,\n",
    "    random_state=0\n",
    ")"
   ]
  },
  {
   "cell_type": "code",
   "execution_count": null,
   "id": "grand-integral",
   "metadata": {
    "ExecuteTime": {
     "end_time": "2021-02-18T16:28:30.986476Z",
     "start_time": "2021-02-18T16:28:30.808160Z"
    }
   },
   "outputs": [],
   "source": [
    "from sklearn.linear_model import LinearRegression\n",
    "\n",
    "lr = LinearRegression()\n",
    "lr.fit(x_train, y_train)"
   ]
  },
  {
   "cell_type": "code",
   "execution_count": null,
   "id": "lasting-sydney",
   "metadata": {
    "ExecuteTime": {
     "end_time": "2021-02-18T16:28:31.563346Z",
     "start_time": "2021-02-18T16:28:31.541607Z"
    }
   },
   "outputs": [],
   "source": [
    "y_pred_regr = lr.predict(x_val)\n",
    "y_pred_regr"
   ]
  },
  {
   "cell_type": "code",
   "execution_count": null,
   "id": "sharp-resident",
   "metadata": {
    "ExecuteTime": {
     "end_time": "2021-02-18T16:28:32.236787Z",
     "start_time": "2021-02-18T16:28:32.234201Z"
    }
   },
   "outputs": [],
   "source": [
    "from sklearn.metrics import mean_squared_error"
   ]
  },
  {
   "cell_type": "code",
   "execution_count": null,
   "id": "revised-dollar",
   "metadata": {
    "ExecuteTime": {
     "end_time": "2021-02-18T16:28:32.864169Z",
     "start_time": "2021-02-18T16:28:32.857825Z"
    }
   },
   "outputs": [],
   "source": [
    "mse = mean_squared_error(y_pred_regr, y_val, squared=False)\n",
    "mse"
   ]
  },
  {
   "cell_type": "code",
   "execution_count": null,
   "id": "clinical-tanzania",
   "metadata": {},
   "outputs": [],
   "source": []
  },
  {
   "cell_type": "code",
   "execution_count": null,
   "id": "conscious-polymer",
   "metadata": {},
   "outputs": [],
   "source": []
  },
  {
   "cell_type": "code",
   "execution_count": null,
   "id": "confused-fortune",
   "metadata": {
    "ExecuteTime": {
     "end_time": "2021-02-18T16:28:34.779070Z",
     "start_time": "2021-02-18T16:28:34.575567Z"
    }
   },
   "outputs": [],
   "source": [
    "#lets see what the PCA is \n",
    "from sklearn.linear_model import ARDRegression\n",
    "ar = ARDRegression()\n",
    "ar.fit(x_train, y_train)"
   ]
  },
  {
   "cell_type": "code",
   "execution_count": null,
   "id": "lightweight-secretary",
   "metadata": {
    "ExecuteTime": {
     "end_time": "2021-02-18T16:28:35.035115Z",
     "start_time": "2021-02-18T16:28:35.022927Z"
    }
   },
   "outputs": [],
   "source": [
    "y_pred_regr = ar.predict(x_val)\n",
    "y_pred_regr"
   ]
  },
  {
   "cell_type": "code",
   "execution_count": null,
   "id": "advised-layer",
   "metadata": {
    "ExecuteTime": {
     "end_time": "2021-02-18T16:28:35.510689Z",
     "start_time": "2021-02-18T16:28:35.503715Z"
    }
   },
   "outputs": [],
   "source": [
    "mse = mean_squared_error(y_pred_regr, y_val, squared=False)\n",
    "mse"
   ]
  },
  {
   "cell_type": "code",
   "execution_count": null,
   "id": "computational-tackle",
   "metadata": {},
   "outputs": [],
   "source": []
  },
  {
   "cell_type": "code",
   "execution_count": null,
   "id": "caring-property",
   "metadata": {},
   "outputs": [],
   "source": []
  },
  {
   "cell_type": "code",
   "execution_count": null,
   "id": "celtic-divorce",
   "metadata": {},
   "outputs": [],
   "source": []
  },
  {
   "cell_type": "code",
   "execution_count": null,
   "id": "coordinate-sustainability",
   "metadata": {
    "ExecuteTime": {
     "end_time": "2021-02-18T16:28:37.384258Z",
     "start_time": "2021-02-18T16:28:37.264623Z"
    }
   },
   "outputs": [],
   "source": [
    "from sklearn.linear_model import BayesianRidge\n",
    "br = BayesianRidge()\n",
    "br.fit(x_train, y_train)"
   ]
  },
  {
   "cell_type": "code",
   "execution_count": null,
   "id": "ethical-coating",
   "metadata": {
    "ExecuteTime": {
     "end_time": "2021-02-18T16:28:37.771586Z",
     "start_time": "2021-02-18T16:28:37.760828Z"
    }
   },
   "outputs": [],
   "source": [
    "y_pred_regr = br.predict(x_val)\n",
    "y_pred_regr"
   ]
  },
  {
   "cell_type": "code",
   "execution_count": null,
   "id": "suitable-manchester",
   "metadata": {
    "ExecuteTime": {
     "end_time": "2021-02-18T16:28:38.239547Z",
     "start_time": "2021-02-18T16:28:38.231411Z"
    }
   },
   "outputs": [],
   "source": [
    "mse = mean_squared_error(y_pred_regr, y_val, squared=False)\n",
    "mse"
   ]
  },
  {
   "cell_type": "code",
   "execution_count": null,
   "id": "younger-motivation",
   "metadata": {},
   "outputs": [],
   "source": []
  },
  {
   "cell_type": "code",
   "execution_count": null,
   "id": "valid-address",
   "metadata": {},
   "outputs": [],
   "source": []
  },
  {
   "cell_type": "code",
   "execution_count": null,
   "id": "collect-blast",
   "metadata": {
    "ExecuteTime": {
     "end_time": "2021-02-18T16:28:39.572946Z",
     "start_time": "2021-02-18T16:28:39.570507Z"
    }
   },
   "outputs": [],
   "source": [
    "en = ElasticNet()"
   ]
  },
  {
   "cell_type": "code",
   "execution_count": null,
   "id": "retired-strengthening",
   "metadata": {
    "ExecuteTime": {
     "end_time": "2021-02-18T16:28:40.072647Z",
     "start_time": "2021-02-18T16:28:40.037746Z"
    }
   },
   "outputs": [],
   "source": [
    "en.fit(x_train, y_train)"
   ]
  },
  {
   "cell_type": "code",
   "execution_count": null,
   "id": "ordinary-lancaster",
   "metadata": {
    "ExecuteTime": {
     "end_time": "2021-02-18T16:28:40.524309Z",
     "start_time": "2021-02-18T16:28:40.514436Z"
    }
   },
   "outputs": [],
   "source": [
    "y_pred_regr = en.predict(x_val)\n",
    "y_pred_regr"
   ]
  },
  {
   "cell_type": "code",
   "execution_count": null,
   "id": "bright-window",
   "metadata": {
    "ExecuteTime": {
     "end_time": "2021-02-18T16:28:40.988448Z",
     "start_time": "2021-02-18T16:28:40.983266Z"
    }
   },
   "outputs": [],
   "source": [
    "mse = mean_squared_error(y_pred_regr, y_val, squared=False)\n",
    "mse"
   ]
  },
  {
   "cell_type": "code",
   "execution_count": null,
   "id": "contemporary-bradley",
   "metadata": {},
   "outputs": [],
   "source": []
  },
  {
   "cell_type": "code",
   "execution_count": null,
   "id": "separate-trainer",
   "metadata": {
    "ExecuteTime": {
     "end_time": "2021-02-18T16:28:41.935858Z",
     "start_time": "2021-02-18T16:28:41.933130Z"
    }
   },
   "outputs": [],
   "source": [
    "r = Ridge()"
   ]
  },
  {
   "cell_type": "code",
   "execution_count": null,
   "id": "harmful-obligation",
   "metadata": {
    "ExecuteTime": {
     "end_time": "2021-02-18T16:28:42.438671Z",
     "start_time": "2021-02-18T16:28:42.398075Z"
    }
   },
   "outputs": [],
   "source": [
    "r.fit(x_train, y_train)"
   ]
  },
  {
   "cell_type": "code",
   "execution_count": null,
   "id": "adult-rhythm",
   "metadata": {
    "ExecuteTime": {
     "end_time": "2021-02-18T16:28:42.875664Z",
     "start_time": "2021-02-18T16:28:42.866417Z"
    }
   },
   "outputs": [],
   "source": [
    "y_pred_regr = r.predict(x_val)\n",
    "y_pred_regr"
   ]
  },
  {
   "cell_type": "code",
   "execution_count": null,
   "id": "incomplete-evidence",
   "metadata": {
    "ExecuteTime": {
     "end_time": "2021-02-18T16:28:43.332505Z",
     "start_time": "2021-02-18T16:28:43.325664Z"
    }
   },
   "outputs": [],
   "source": [
    "mse = mean_squared_error(y_pred_regr, y_val, squared=False)\n",
    "mse"
   ]
  },
  {
   "cell_type": "code",
   "execution_count": null,
   "id": "collaborative-sentence",
   "metadata": {},
   "outputs": [],
   "source": []
  },
  {
   "cell_type": "code",
   "execution_count": null,
   "id": "organic-insurance",
   "metadata": {},
   "outputs": [],
   "source": []
  },
  {
   "cell_type": "code",
   "execution_count": null,
   "id": "proved-electron",
   "metadata": {
    "ExecuteTime": {
     "end_time": "2021-02-18T16:28:44.779136Z",
     "start_time": "2021-02-18T16:28:44.743601Z"
    }
   },
   "outputs": [],
   "source": [
    "l = Lasso()\n",
    "l.fit(x_train, y_train)"
   ]
  },
  {
   "cell_type": "code",
   "execution_count": null,
   "id": "interim-czech",
   "metadata": {
    "ExecuteTime": {
     "end_time": "2021-02-18T16:28:45.219220Z",
     "start_time": "2021-02-18T16:28:45.208270Z"
    }
   },
   "outputs": [],
   "source": [
    "y_pred_regr = l.predict(x_val)\n",
    "y_pred_regr"
   ]
  },
  {
   "cell_type": "code",
   "execution_count": null,
   "id": "confirmed-bubble",
   "metadata": {
    "ExecuteTime": {
     "end_time": "2021-02-18T16:28:45.712259Z",
     "start_time": "2021-02-18T16:28:45.706311Z"
    }
   },
   "outputs": [],
   "source": [
    "mse = mean_squared_error(y_pred_regr, y_val, squared=False)\n",
    "mse"
   ]
  },
  {
   "cell_type": "code",
   "execution_count": null,
   "id": "treated-exchange",
   "metadata": {},
   "outputs": [],
   "source": []
  },
  {
   "cell_type": "code",
   "execution_count": null,
   "id": "palestinian-adelaide",
   "metadata": {},
   "outputs": [],
   "source": []
  },
  {
   "cell_type": "code",
   "execution_count": null,
   "id": "tough-distance",
   "metadata": {
    "ExecuteTime": {
     "end_time": "2021-02-18T16:28:47.303784Z",
     "start_time": "2021-02-18T16:28:47.183807Z"
    }
   },
   "outputs": [],
   "source": [
    "tr = TweedieRegressor()\n",
    "tr.fit(x_train, y_train)"
   ]
  },
  {
   "cell_type": "code",
   "execution_count": null,
   "id": "orange-fundamentals",
   "metadata": {
    "ExecuteTime": {
     "end_time": "2021-02-18T16:28:47.694618Z",
     "start_time": "2021-02-18T16:28:47.682570Z"
    }
   },
   "outputs": [],
   "source": [
    "y_pred_regr = tr.predict(x_val)\n",
    "y_pred_regr"
   ]
  },
  {
   "cell_type": "code",
   "execution_count": null,
   "id": "stopped-extent",
   "metadata": {
    "ExecuteTime": {
     "end_time": "2021-02-18T16:28:48.167852Z",
     "start_time": "2021-02-18T16:28:48.159710Z"
    }
   },
   "outputs": [],
   "source": [
    "mse = mean_squared_error(y_pred_regr, y_val, squared=False)\n",
    "mse"
   ]
  },
  {
   "cell_type": "code",
   "execution_count": null,
   "id": "becoming-nigeria",
   "metadata": {},
   "outputs": [],
   "source": []
  },
  {
   "cell_type": "code",
   "execution_count": null,
   "id": "confused-silence",
   "metadata": {},
   "outputs": [],
   "source": []
  },
  {
   "cell_type": "code",
   "execution_count": null,
   "id": "judicial-charles",
   "metadata": {
    "ExecuteTime": {
     "end_time": "2021-02-18T16:28:51.369948Z",
     "start_time": "2021-02-18T16:28:49.534725Z"
    }
   },
   "outputs": [],
   "source": [
    "lsvr = LinearSVR()\n",
    "lsvr.fit(x_train, y_train)"
   ]
  },
  {
   "cell_type": "code",
   "execution_count": null,
   "id": "handled-claim",
   "metadata": {
    "ExecuteTime": {
     "end_time": "2021-02-18T16:28:51.388018Z",
     "start_time": "2021-02-18T16:28:51.372645Z"
    }
   },
   "outputs": [],
   "source": [
    "y_pred_regr = lsvr.predict(x_val)\n",
    "y_pred_regr"
   ]
  },
  {
   "cell_type": "code",
   "execution_count": null,
   "id": "single-closer",
   "metadata": {
    "ExecuteTime": {
     "end_time": "2021-02-18T16:28:51.401358Z",
     "start_time": "2021-02-18T16:28:51.391833Z"
    }
   },
   "outputs": [],
   "source": [
    "mse = mean_squared_error(y_pred_regr, y_val, squared=False)\n",
    "mse"
   ]
  },
  {
   "cell_type": "code",
   "execution_count": null,
   "id": "sound-suite",
   "metadata": {},
   "outputs": [],
   "source": []
  },
  {
   "cell_type": "code",
   "execution_count": 8,
   "id": "quality-quest",
   "metadata": {
    "ExecuteTime": {
     "end_time": "2021-02-18T16:40:34.522992Z",
     "start_time": "2021-02-18T16:40:34.520285Z"
    }
   },
   "outputs": [],
   "source": [
    "from sklearn.ensemble import RandomForestRegressor"
   ]
  },
  {
   "cell_type": "code",
   "execution_count": 9,
   "id": "occupied-garden",
   "metadata": {
    "ExecuteTime": {
     "end_time": "2021-02-18T16:40:35.280403Z",
     "start_time": "2021-02-18T16:40:35.275288Z"
    }
   },
   "outputs": [],
   "source": [
    "rf = RandomForestRegressor(random_state=42)"
   ]
  },
  {
   "cell_type": "code",
   "execution_count": null,
   "id": "municipal-marriage",
   "metadata": {
    "ExecuteTime": {
     "start_time": "2021-02-18T16:40:36.426Z"
    }
   },
   "outputs": [],
   "source": [
    "rf.fit(x_train, y_train)"
   ]
  },
  {
   "cell_type": "code",
   "execution_count": null,
   "id": "serial-heart",
   "metadata": {
    "ExecuteTime": {
     "start_time": "2021-02-18T16:25:50.973Z"
    }
   },
   "outputs": [],
   "source": [
    "y_pred_regr = rf.predict(x_val)\n",
    "y_pred_regr"
   ]
  },
  {
   "cell_type": "code",
   "execution_count": null,
   "id": "stainless-fundamentals",
   "metadata": {},
   "outputs": [],
   "source": [
    "mse = mean_squared_error(y_pred_regr, y_val, squared=False)\n",
    "mse"
   ]
  }
 ],
 "metadata": {
  "kernelspec": {
   "display_name": "Python 3",
   "language": "python",
   "name": "python3"
  },
  "language_info": {
   "codemirror_mode": {
    "name": "ipython",
    "version": 3
   },
   "file_extension": ".py",
   "mimetype": "text/x-python",
   "name": "python",
   "nbconvert_exporter": "python",
   "pygments_lexer": "ipython3",
   "version": "3.8.3"
  }
 },
 "nbformat": 4,
 "nbformat_minor": 5
}
