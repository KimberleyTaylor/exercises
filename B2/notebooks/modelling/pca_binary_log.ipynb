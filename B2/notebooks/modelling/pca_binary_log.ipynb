{
 "cells": [
  {
   "cell_type": "code",
   "execution_count": 1,
   "id": "trained-technician",
   "metadata": {
    "ExecuteTime": {
     "end_time": "2021-02-18T16:05:29.270272Z",
     "start_time": "2021-02-18T16:05:27.416535Z"
    }
   },
   "outputs": [],
   "source": [
    "import numpy    as np\n",
    "import pandas   as pd\n",
    "import seaborn  as sb\n",
    "import matplotlib.pyplot as plt\n",
    "import sklearn  as skl\n",
    "import time\n",
    "from IPython.display import clear_output\n",
    "\n",
    "from sklearn import pipeline      # Pipeline, make_pipeline\n",
    "from sklearn import preprocessing # StandardScaler, OrdinalEncoder, LabelEncoder\n",
    "from sklearn import impute\n",
    "from sklearn import compose\n",
    "from sklearn import model_selection # train_test_split, StratifiedKFold, cross_val_score, cross_val_predict\n",
    "from sklearn import metrics         # accuracy_score, balanced_accuracy_score, plot_confusion_matrix\n",
    "from sklearn import inspection      # permutation_importance\n",
    "import scikitplot as skplt"
   ]
  },
  {
   "cell_type": "code",
   "execution_count": 2,
   "id": "driving-consortium",
   "metadata": {
    "ExecuteTime": {
     "end_time": "2021-02-18T16:05:29.680149Z",
     "start_time": "2021-02-18T16:05:29.273303Z"
    }
   },
   "outputs": [],
   "source": [
    "########################################################### CLASSIFIERS\n",
    "\n",
    "#### MULT\n",
    "from sklearn.linear_model   import LogisticRegression\n",
    "from sklearn.linear_model   import RidgeClassifier\n",
    "from sklearn.svm            import SVC\n",
    "from sklearn.svm            import NuSVC\n",
    "from sklearn.svm            import LinearSVC\n",
    "from sklearn.neural_network import MLPClassifier\n",
    "from sklearn.neighbors      import KNeighborsClassifier\n",
    "from sklearn.gaussian_process import GaussianProcessClassifier\n",
    "from sklearn.gaussian_process.kernels import RBF\n",
    "from sklearn.naive_bayes    import GaussianNB\n",
    "from sklearn.discriminant_analysis import QuadraticDiscriminantAnalysis\n",
    "from sklearn.ensemble       import StackingClassifier\n",
    "\n",
    "#### TREE\n",
    "from sklearn.tree          import DecisionTreeClassifier\n",
    "from sklearn.ensemble      import RandomForestClassifier\n",
    "from sklearn.ensemble      import ExtraTreesClassifier\n",
    "from sklearn.ensemble      import AdaBoostClassifier\n",
    "from sklearn.ensemble      import GradientBoostingClassifier\n",
    "from sklearn.experimental  import enable_hist_gradient_boosting\n",
    "from sklearn.ensemble      import HistGradientBoostingClassifier\n",
    "from xgboost               import XGBClassifier, plot_tree\n",
    "from lightgbm              import LGBMClassifier\n",
    "from catboost              import CatBoostClassifier\n",
    "#from ngboost               import NGBClassifier\n",
    "#from rgf.sklearn           import RGFClassifier, FastRGFClassifier\n",
    "\n",
    "########################################################### REGRESSORS\n",
    "from sklearn.linear_model  import ElasticNet, Ridge, Lasso, BayesianRidge, ARDRegression, TweedieRegressor\n",
    "from sklearn.svm           import LinearSVR, NuSVR, SVR\n",
    "from sklearn.ensemble      import BaggingRegressor\n",
    "from sklearn.kernel_ridge  import KernelRidge"
   ]
  },
  {
   "cell_type": "code",
   "execution_count": 5,
   "id": "domestic-beauty",
   "metadata": {
    "ExecuteTime": {
     "end_time": "2021-02-18T16:06:03.221909Z",
     "start_time": "2021-02-18T16:06:03.096776Z"
    }
   },
   "outputs": [
    {
     "name": "stdout",
     "output_type": "stream",
     "text": [
      "test_pca_binary_log.csv  train_pca_binary_log.csv\r\n"
     ]
    }
   ],
   "source": [
    "!ls ../../csv_files/FS_combos/PCA/binary_log/"
   ]
  },
  {
   "cell_type": "code",
   "execution_count": 6,
   "id": "ranking-conservative",
   "metadata": {
    "ExecuteTime": {
     "end_time": "2021-02-18T16:06:22.994653Z",
     "start_time": "2021-02-18T16:06:22.987894Z"
    }
   },
   "outputs": [],
   "source": [
    "path = \"../../csv_files/FS_combos/PCA/binary_log/\""
   ]
  },
  {
   "cell_type": "code",
   "execution_count": 7,
   "id": "vocal-headline",
   "metadata": {
    "ExecuteTime": {
     "end_time": "2021-02-18T16:06:24.856785Z",
     "start_time": "2021-02-18T16:06:23.499919Z"
    }
   },
   "outputs": [],
   "source": [
    "df      = pd.read_csv(path + \"train_pca_binary_log.csv\", index_col=\"Unnamed: 0\")\n",
    "df_test = pd.read_csv(path + \"test_pca_binary_log.csv\", index_col=\"Unnamed: 0\")"
   ]
  },
  {
   "cell_type": "code",
   "execution_count": 8,
   "id": "enhanced-wings",
   "metadata": {
    "ExecuteTime": {
     "end_time": "2021-02-18T16:06:25.567137Z",
     "start_time": "2021-02-18T16:06:25.523864Z"
    }
   },
   "outputs": [
    {
     "data": {
      "text/html": [
       "<div>\n",
       "<style scoped>\n",
       "    .dataframe tbody tr th:only-of-type {\n",
       "        vertical-align: middle;\n",
       "    }\n",
       "\n",
       "    .dataframe tbody tr th {\n",
       "        vertical-align: top;\n",
       "    }\n",
       "\n",
       "    .dataframe thead th {\n",
       "        text-align: right;\n",
       "    }\n",
       "</style>\n",
       "<table border=\"1\" class=\"dataframe\">\n",
       "  <thead>\n",
       "    <tr style=\"text-align: right;\">\n",
       "      <th></th>\n",
       "      <th>0</th>\n",
       "      <th>1</th>\n",
       "      <th>2</th>\n",
       "      <th>3</th>\n",
       "      <th>4</th>\n",
       "      <th>5</th>\n",
       "      <th>6</th>\n",
       "      <th>7</th>\n",
       "      <th>8</th>\n",
       "      <th>9</th>\n",
       "      <th>id</th>\n",
       "    </tr>\n",
       "  </thead>\n",
       "  <tbody>\n",
       "    <tr>\n",
       "      <th>0</th>\n",
       "      <td>0.510118</td>\n",
       "      <td>0.421942</td>\n",
       "      <td>0.626516</td>\n",
       "      <td>-0.167114</td>\n",
       "      <td>1.176350</td>\n",
       "      <td>-0.794320</td>\n",
       "      <td>0.132950</td>\n",
       "      <td>-0.534262</td>\n",
       "      <td>-0.258720</td>\n",
       "      <td>-0.071362</td>\n",
       "      <td>0</td>\n",
       "    </tr>\n",
       "    <tr>\n",
       "      <th>1</th>\n",
       "      <td>0.548365</td>\n",
       "      <td>0.835342</td>\n",
       "      <td>1.019503</td>\n",
       "      <td>0.509426</td>\n",
       "      <td>0.285459</td>\n",
       "      <td>0.664287</td>\n",
       "      <td>-0.235486</td>\n",
       "      <td>-0.102751</td>\n",
       "      <td>-0.156176</td>\n",
       "      <td>-0.103416</td>\n",
       "      <td>5</td>\n",
       "    </tr>\n",
       "    <tr>\n",
       "      <th>2</th>\n",
       "      <td>0.577384</td>\n",
       "      <td>0.790668</td>\n",
       "      <td>0.773640</td>\n",
       "      <td>0.367115</td>\n",
       "      <td>0.764792</td>\n",
       "      <td>0.617939</td>\n",
       "      <td>-0.167900</td>\n",
       "      <td>-0.708410</td>\n",
       "      <td>-0.196079</td>\n",
       "      <td>-0.105474</td>\n",
       "      <td>15</td>\n",
       "    </tr>\n",
       "    <tr>\n",
       "      <th>3</th>\n",
       "      <td>0.650529</td>\n",
       "      <td>0.224976</td>\n",
       "      <td>-0.661692</td>\n",
       "      <td>-0.181756</td>\n",
       "      <td>-0.387711</td>\n",
       "      <td>-0.700917</td>\n",
       "      <td>-0.256491</td>\n",
       "      <td>-0.832766</td>\n",
       "      <td>1.219691</td>\n",
       "      <td>0.055642</td>\n",
       "      <td>16</td>\n",
       "    </tr>\n",
       "    <tr>\n",
       "      <th>4</th>\n",
       "      <td>-0.946428</td>\n",
       "      <td>0.050972</td>\n",
       "      <td>0.174878</td>\n",
       "      <td>-0.983611</td>\n",
       "      <td>-0.055924</td>\n",
       "      <td>-0.311808</td>\n",
       "      <td>0.738920</td>\n",
       "      <td>0.212554</td>\n",
       "      <td>-0.145774</td>\n",
       "      <td>-0.078747</td>\n",
       "      <td>17</td>\n",
       "    </tr>\n",
       "    <tr>\n",
       "      <th>...</th>\n",
       "      <td>...</td>\n",
       "      <td>...</td>\n",
       "      <td>...</td>\n",
       "      <td>...</td>\n",
       "      <td>...</td>\n",
       "      <td>...</td>\n",
       "      <td>...</td>\n",
       "      <td>...</td>\n",
       "      <td>...</td>\n",
       "      <td>...</td>\n",
       "      <td>...</td>\n",
       "    </tr>\n",
       "    <tr>\n",
       "      <th>199995</th>\n",
       "      <td>0.759385</td>\n",
       "      <td>-0.153987</td>\n",
       "      <td>0.218206</td>\n",
       "      <td>1.503147</td>\n",
       "      <td>-0.086686</td>\n",
       "      <td>-0.097091</td>\n",
       "      <td>-0.195936</td>\n",
       "      <td>-0.071761</td>\n",
       "      <td>-0.109201</td>\n",
       "      <td>-0.079440</td>\n",
       "      <td>499987</td>\n",
       "    </tr>\n",
       "    <tr>\n",
       "      <th>199996</th>\n",
       "      <td>1.234107</td>\n",
       "      <td>-0.338382</td>\n",
       "      <td>0.203815</td>\n",
       "      <td>0.260633</td>\n",
       "      <td>0.195947</td>\n",
       "      <td>-0.542918</td>\n",
       "      <td>-0.062555</td>\n",
       "      <td>-0.648751</td>\n",
       "      <td>-0.174280</td>\n",
       "      <td>-0.071621</td>\n",
       "      <td>499990</td>\n",
       "    </tr>\n",
       "    <tr>\n",
       "      <th>199997</th>\n",
       "      <td>1.100958</td>\n",
       "      <td>0.079177</td>\n",
       "      <td>0.321608</td>\n",
       "      <td>0.813627</td>\n",
       "      <td>-0.269592</td>\n",
       "      <td>0.742756</td>\n",
       "      <td>0.751775</td>\n",
       "      <td>0.184986</td>\n",
       "      <td>0.005856</td>\n",
       "      <td>-0.106070</td>\n",
       "      <td>499991</td>\n",
       "    </tr>\n",
       "    <tr>\n",
       "      <th>199998</th>\n",
       "      <td>0.076422</td>\n",
       "      <td>1.365356</td>\n",
       "      <td>-0.229600</td>\n",
       "      <td>-0.017435</td>\n",
       "      <td>0.244578</td>\n",
       "      <td>0.661179</td>\n",
       "      <td>-0.334912</td>\n",
       "      <td>-0.739477</td>\n",
       "      <td>-0.200611</td>\n",
       "      <td>-0.098465</td>\n",
       "      <td>499994</td>\n",
       "    </tr>\n",
       "    <tr>\n",
       "      <th>199999</th>\n",
       "      <td>-0.331410</td>\n",
       "      <td>0.228383</td>\n",
       "      <td>0.978215</td>\n",
       "      <td>0.837236</td>\n",
       "      <td>0.530778</td>\n",
       "      <td>0.076185</td>\n",
       "      <td>-0.604015</td>\n",
       "      <td>0.597824</td>\n",
       "      <td>-0.181046</td>\n",
       "      <td>-0.078190</td>\n",
       "      <td>499995</td>\n",
       "    </tr>\n",
       "  </tbody>\n",
       "</table>\n",
       "<p>200000 rows × 11 columns</p>\n",
       "</div>"
      ],
      "text/plain": [
       "               0         1         2         3         4         5         6  \\\n",
       "0       0.510118  0.421942  0.626516 -0.167114  1.176350 -0.794320  0.132950   \n",
       "1       0.548365  0.835342  1.019503  0.509426  0.285459  0.664287 -0.235486   \n",
       "2       0.577384  0.790668  0.773640  0.367115  0.764792  0.617939 -0.167900   \n",
       "3       0.650529  0.224976 -0.661692 -0.181756 -0.387711 -0.700917 -0.256491   \n",
       "4      -0.946428  0.050972  0.174878 -0.983611 -0.055924 -0.311808  0.738920   \n",
       "...          ...       ...       ...       ...       ...       ...       ...   \n",
       "199995  0.759385 -0.153987  0.218206  1.503147 -0.086686 -0.097091 -0.195936   \n",
       "199996  1.234107 -0.338382  0.203815  0.260633  0.195947 -0.542918 -0.062555   \n",
       "199997  1.100958  0.079177  0.321608  0.813627 -0.269592  0.742756  0.751775   \n",
       "199998  0.076422  1.365356 -0.229600 -0.017435  0.244578  0.661179 -0.334912   \n",
       "199999 -0.331410  0.228383  0.978215  0.837236  0.530778  0.076185 -0.604015   \n",
       "\n",
       "               7         8         9      id  \n",
       "0      -0.534262 -0.258720 -0.071362       0  \n",
       "1      -0.102751 -0.156176 -0.103416       5  \n",
       "2      -0.708410 -0.196079 -0.105474      15  \n",
       "3      -0.832766  1.219691  0.055642      16  \n",
       "4       0.212554 -0.145774 -0.078747      17  \n",
       "...          ...       ...       ...     ...  \n",
       "199995 -0.071761 -0.109201 -0.079440  499987  \n",
       "199996 -0.648751 -0.174280 -0.071621  499990  \n",
       "199997  0.184986  0.005856 -0.106070  499991  \n",
       "199998 -0.739477 -0.200611 -0.098465  499994  \n",
       "199999  0.597824 -0.181046 -0.078190  499995  \n",
       "\n",
       "[200000 rows x 11 columns]"
      ]
     },
     "execution_count": 8,
     "metadata": {},
     "output_type": "execute_result"
    }
   ],
   "source": [
    "df_test"
   ]
  },
  {
   "cell_type": "markdown",
   "id": "instant-adventure",
   "metadata": {},
   "source": [
    "### Select data for experiment"
   ]
  },
  {
   "cell_type": "code",
   "execution_count": 9,
   "id": "studied-parade",
   "metadata": {
    "ExecuteTime": {
     "end_time": "2021-02-18T16:06:27.098172Z",
     "start_time": "2021-02-18T16:06:26.999012Z"
    }
   },
   "outputs": [],
   "source": [
    "x = df.drop(columns=[\"target\", 'id']) # X DATA (WILL BE TRAIN+VALID DATA)\n",
    "y = df[\"target\"] # 0 = No, 1 = Yes\n",
    "\n",
    "x_test = df_test.drop(columns=['id']) # # X_TEST DATA (NEW DATA)"
   ]
  },
  {
   "cell_type": "code",
   "execution_count": 10,
   "id": "crude-pride",
   "metadata": {
    "ExecuteTime": {
     "end_time": "2021-02-18T16:06:27.792054Z",
     "start_time": "2021-02-18T16:06:27.713122Z"
    }
   },
   "outputs": [],
   "source": [
    "x_train, x_val, y_train, y_val = model_selection.train_test_split(\n",
    "    x, y,\n",
    "    test_size=0.2,\n",
    "    random_state=0\n",
    ")"
   ]
  },
  {
   "cell_type": "code",
   "execution_count": 11,
   "id": "aerial-debate",
   "metadata": {
    "ExecuteTime": {
     "end_time": "2021-02-18T16:06:28.512440Z",
     "start_time": "2021-02-18T16:06:28.258116Z"
    }
   },
   "outputs": [
    {
     "data": {
      "text/plain": [
       "LinearRegression()"
      ]
     },
     "execution_count": 11,
     "metadata": {},
     "output_type": "execute_result"
    }
   ],
   "source": [
    "from sklearn.linear_model import LinearRegression\n",
    "\n",
    "lr = LinearRegression()\n",
    "lr.fit(x_train, y_train)"
   ]
  },
  {
   "cell_type": "code",
   "execution_count": 12,
   "id": "proper-theory",
   "metadata": {
    "ExecuteTime": {
     "end_time": "2021-02-18T16:06:29.070523Z",
     "start_time": "2021-02-18T16:06:29.049746Z"
    }
   },
   "outputs": [
    {
     "data": {
      "text/plain": [
       "array([7.37268774, 7.24942305, 7.43222316, ..., 7.67820865, 7.38118011,\n",
       "       7.51018125])"
      ]
     },
     "execution_count": 12,
     "metadata": {},
     "output_type": "execute_result"
    }
   ],
   "source": [
    "y_pred_regr = lr.predict(x_val)\n",
    "y_pred_regr"
   ]
  },
  {
   "cell_type": "code",
   "execution_count": 13,
   "id": "final-favor",
   "metadata": {
    "ExecuteTime": {
     "end_time": "2021-02-18T16:06:29.635810Z",
     "start_time": "2021-02-18T16:06:29.629306Z"
    }
   },
   "outputs": [],
   "source": [
    "from sklearn.metrics import mean_squared_error"
   ]
  },
  {
   "cell_type": "code",
   "execution_count": 14,
   "id": "photographic-crisis",
   "metadata": {
    "ExecuteTime": {
     "end_time": "2021-02-18T16:06:30.539549Z",
     "start_time": "2021-02-18T16:06:30.533214Z"
    }
   },
   "outputs": [
    {
     "data": {
      "text/plain": [
       "0.8708189855548024"
      ]
     },
     "execution_count": 14,
     "metadata": {},
     "output_type": "execute_result"
    }
   ],
   "source": [
    "mse = mean_squared_error(y_pred_regr, y_val, squared=False)\n",
    "mse"
   ]
  },
  {
   "cell_type": "code",
   "execution_count": null,
   "id": "restricted-allocation",
   "metadata": {},
   "outputs": [],
   "source": []
  },
  {
   "cell_type": "code",
   "execution_count": null,
   "id": "boxed-valuation",
   "metadata": {},
   "outputs": [],
   "source": []
  },
  {
   "cell_type": "code",
   "execution_count": 15,
   "id": "behind-clothing",
   "metadata": {
    "ExecuteTime": {
     "end_time": "2021-02-18T16:06:32.445438Z",
     "start_time": "2021-02-18T16:06:32.281434Z"
    }
   },
   "outputs": [
    {
     "data": {
      "text/plain": [
       "ARDRegression()"
      ]
     },
     "execution_count": 15,
     "metadata": {},
     "output_type": "execute_result"
    }
   ],
   "source": [
    "#lets see what the PCA is \n",
    "from sklearn.linear_model import ARDRegression\n",
    "ar = ARDRegression()\n",
    "ar.fit(x_train, y_train)"
   ]
  },
  {
   "cell_type": "code",
   "execution_count": 16,
   "id": "handed-obligation",
   "metadata": {
    "ExecuteTime": {
     "end_time": "2021-02-18T16:06:32.739729Z",
     "start_time": "2021-02-18T16:06:32.726785Z"
    }
   },
   "outputs": [
    {
     "data": {
      "text/plain": [
       "array([7.37363771, 7.24907359, 7.43294448, ..., 7.67863166, 7.38206343,\n",
       "       7.51002349])"
      ]
     },
     "execution_count": 16,
     "metadata": {},
     "output_type": "execute_result"
    }
   ],
   "source": [
    "y_pred_regr = ar.predict(x_val)\n",
    "y_pred_regr"
   ]
  },
  {
   "cell_type": "code",
   "execution_count": 17,
   "id": "included-shame",
   "metadata": {
    "ExecuteTime": {
     "end_time": "2021-02-18T16:06:33.214210Z",
     "start_time": "2021-02-18T16:06:33.208636Z"
    }
   },
   "outputs": [
    {
     "data": {
      "text/plain": [
       "0.8708189132223685"
      ]
     },
     "execution_count": 17,
     "metadata": {},
     "output_type": "execute_result"
    }
   ],
   "source": [
    "mse = mean_squared_error(y_pred_regr, y_val, squared=False)\n",
    "mse"
   ]
  },
  {
   "cell_type": "code",
   "execution_count": null,
   "id": "stainless-composite",
   "metadata": {},
   "outputs": [],
   "source": []
  },
  {
   "cell_type": "code",
   "execution_count": null,
   "id": "verified-philip",
   "metadata": {},
   "outputs": [],
   "source": []
  },
  {
   "cell_type": "code",
   "execution_count": null,
   "id": "close-waste",
   "metadata": {},
   "outputs": [],
   "source": []
  },
  {
   "cell_type": "code",
   "execution_count": 18,
   "id": "charged-definition",
   "metadata": {
    "ExecuteTime": {
     "end_time": "2021-02-18T16:06:35.247281Z",
     "start_time": "2021-02-18T16:06:35.016283Z"
    }
   },
   "outputs": [
    {
     "data": {
      "text/plain": [
       "BayesianRidge()"
      ]
     },
     "execution_count": 18,
     "metadata": {},
     "output_type": "execute_result"
    }
   ],
   "source": [
    "from sklearn.linear_model import BayesianRidge\n",
    "br = BayesianRidge()\n",
    "br.fit(x_train, y_train)"
   ]
  },
  {
   "cell_type": "code",
   "execution_count": 19,
   "id": "defensive-potential",
   "metadata": {
    "ExecuteTime": {
     "end_time": "2021-02-18T16:06:35.475345Z",
     "start_time": "2021-02-18T16:06:35.462695Z"
    }
   },
   "outputs": [
    {
     "data": {
      "text/plain": [
       "array([7.37274297, 7.2495696 , 7.43225456, ..., 7.67770172, 7.38168882,\n",
       "       7.51011731])"
      ]
     },
     "execution_count": 19,
     "metadata": {},
     "output_type": "execute_result"
    }
   ],
   "source": [
    "y_pred_regr = br.predict(x_val)\n",
    "y_pred_regr"
   ]
  },
  {
   "cell_type": "code",
   "execution_count": 20,
   "id": "celtic-trader",
   "metadata": {
    "ExecuteTime": {
     "end_time": "2021-02-18T16:06:35.912871Z",
     "start_time": "2021-02-18T16:06:35.905887Z"
    }
   },
   "outputs": [
    {
     "data": {
      "text/plain": [
       "0.870817785375026"
      ]
     },
     "execution_count": 20,
     "metadata": {},
     "output_type": "execute_result"
    }
   ],
   "source": [
    "mse = mean_squared_error(y_pred_regr, y_val, squared=False)\n",
    "mse"
   ]
  },
  {
   "cell_type": "code",
   "execution_count": null,
   "id": "stylish-disco",
   "metadata": {},
   "outputs": [],
   "source": []
  },
  {
   "cell_type": "code",
   "execution_count": null,
   "id": "immune-petite",
   "metadata": {},
   "outputs": [],
   "source": []
  },
  {
   "cell_type": "code",
   "execution_count": 21,
   "id": "consolidated-better",
   "metadata": {
    "ExecuteTime": {
     "end_time": "2021-02-18T16:06:37.029385Z",
     "start_time": "2021-02-18T16:06:37.026838Z"
    }
   },
   "outputs": [],
   "source": [
    "en = ElasticNet()"
   ]
  },
  {
   "cell_type": "code",
   "execution_count": 22,
   "id": "patent-dependence",
   "metadata": {
    "ExecuteTime": {
     "end_time": "2021-02-18T16:06:37.298747Z",
     "start_time": "2021-02-18T16:06:37.196029Z"
    }
   },
   "outputs": [
    {
     "data": {
      "text/plain": [
       "ElasticNet()"
      ]
     },
     "execution_count": 22,
     "metadata": {},
     "output_type": "execute_result"
    }
   ],
   "source": [
    "en.fit(x_train, y_train)"
   ]
  },
  {
   "cell_type": "code",
   "execution_count": 23,
   "id": "american-morning",
   "metadata": {
    "ExecuteTime": {
     "end_time": "2021-02-18T16:06:37.408080Z",
     "start_time": "2021-02-18T16:06:37.398539Z"
    }
   },
   "outputs": [
    {
     "data": {
      "text/plain": [
       "array([7.45485702, 7.45485702, 7.45485702, ..., 7.45485702, 7.45485702,\n",
       "       7.45485702])"
      ]
     },
     "execution_count": 23,
     "metadata": {},
     "output_type": "execute_result"
    }
   ],
   "source": [
    "y_pred_regr = en.predict(x_val)\n",
    "y_pred_regr"
   ]
  },
  {
   "cell_type": "code",
   "execution_count": 24,
   "id": "young-intro",
   "metadata": {
    "ExecuteTime": {
     "end_time": "2021-02-18T16:06:37.606129Z",
     "start_time": "2021-02-18T16:06:37.597406Z"
    }
   },
   "outputs": [
    {
     "data": {
      "text/plain": [
       "0.8854278096232179"
      ]
     },
     "execution_count": 24,
     "metadata": {},
     "output_type": "execute_result"
    }
   ],
   "source": [
    "mse = mean_squared_error(y_pred_regr, y_val, squared=False)\n",
    "mse"
   ]
  },
  {
   "cell_type": "code",
   "execution_count": null,
   "id": "direct-christopher",
   "metadata": {},
   "outputs": [],
   "source": []
  },
  {
   "cell_type": "code",
   "execution_count": 25,
   "id": "instrumental-raleigh",
   "metadata": {
    "ExecuteTime": {
     "end_time": "2021-02-18T16:06:38.040113Z",
     "start_time": "2021-02-18T16:06:38.034627Z"
    }
   },
   "outputs": [],
   "source": [
    "r = Ridge()"
   ]
  },
  {
   "cell_type": "code",
   "execution_count": 26,
   "id": "green-stroke",
   "metadata": {
    "ExecuteTime": {
     "end_time": "2021-02-18T16:06:38.333389Z",
     "start_time": "2021-02-18T16:06:38.250591Z"
    }
   },
   "outputs": [
    {
     "data": {
      "text/plain": [
       "Ridge()"
      ]
     },
     "execution_count": 26,
     "metadata": {},
     "output_type": "execute_result"
    }
   ],
   "source": [
    "r.fit(x_train, y_train)"
   ]
  },
  {
   "cell_type": "code",
   "execution_count": 27,
   "id": "consolidated-european",
   "metadata": {
    "ExecuteTime": {
     "end_time": "2021-02-18T16:06:38.491833Z",
     "start_time": "2021-02-18T16:06:38.479078Z"
    }
   },
   "outputs": [
    {
     "data": {
      "text/plain": [
       "array([7.37268837, 7.24942471, 7.43222352, ..., 7.67820288, 7.3811859 ,\n",
       "       7.51018053])"
      ]
     },
     "execution_count": 27,
     "metadata": {},
     "output_type": "execute_result"
    }
   ],
   "source": [
    "y_pred_regr = r.predict(x_val)\n",
    "y_pred_regr"
   ]
  },
  {
   "cell_type": "code",
   "execution_count": 28,
   "id": "powered-madison",
   "metadata": {
    "ExecuteTime": {
     "end_time": "2021-02-18T16:06:38.710583Z",
     "start_time": "2021-02-18T16:06:38.702686Z"
    }
   },
   "outputs": [
    {
     "data": {
      "text/plain": [
       "0.8708189715410855"
      ]
     },
     "execution_count": 28,
     "metadata": {},
     "output_type": "execute_result"
    }
   ],
   "source": [
    "mse = mean_squared_error(y_pred_regr, y_val, squared=False)\n",
    "mse"
   ]
  },
  {
   "cell_type": "code",
   "execution_count": null,
   "id": "protective-turkey",
   "metadata": {},
   "outputs": [],
   "source": []
  },
  {
   "cell_type": "code",
   "execution_count": null,
   "id": "comparative-portugal",
   "metadata": {},
   "outputs": [],
   "source": []
  },
  {
   "cell_type": "code",
   "execution_count": 29,
   "id": "material-affiliate",
   "metadata": {
    "ExecuteTime": {
     "end_time": "2021-02-18T16:06:39.492604Z",
     "start_time": "2021-02-18T16:06:39.446294Z"
    }
   },
   "outputs": [
    {
     "data": {
      "text/plain": [
       "Lasso()"
      ]
     },
     "execution_count": 29,
     "metadata": {},
     "output_type": "execute_result"
    }
   ],
   "source": [
    "l = Lasso()\n",
    "l.fit(x_train, y_train)"
   ]
  },
  {
   "cell_type": "code",
   "execution_count": 30,
   "id": "involved-novelty",
   "metadata": {
    "ExecuteTime": {
     "end_time": "2021-02-18T16:06:39.675073Z",
     "start_time": "2021-02-18T16:06:39.660122Z"
    }
   },
   "outputs": [
    {
     "data": {
      "text/plain": [
       "array([7.45485702, 7.45485702, 7.45485702, ..., 7.45485702, 7.45485702,\n",
       "       7.45485702])"
      ]
     },
     "execution_count": 30,
     "metadata": {},
     "output_type": "execute_result"
    }
   ],
   "source": [
    "y_pred_regr = l.predict(x_val)\n",
    "y_pred_regr"
   ]
  },
  {
   "cell_type": "code",
   "execution_count": 31,
   "id": "functioning-baseball",
   "metadata": {
    "ExecuteTime": {
     "end_time": "2021-02-18T16:06:39.892746Z",
     "start_time": "2021-02-18T16:06:39.884861Z"
    }
   },
   "outputs": [
    {
     "data": {
      "text/plain": [
       "0.8854278096232179"
      ]
     },
     "execution_count": 31,
     "metadata": {},
     "output_type": "execute_result"
    }
   ],
   "source": [
    "mse = mean_squared_error(y_pred_regr, y_val, squared=False)\n",
    "mse"
   ]
  },
  {
   "cell_type": "code",
   "execution_count": null,
   "id": "clear-decade",
   "metadata": {},
   "outputs": [],
   "source": []
  },
  {
   "cell_type": "code",
   "execution_count": null,
   "id": "miniature-light",
   "metadata": {},
   "outputs": [],
   "source": []
  },
  {
   "cell_type": "code",
   "execution_count": 32,
   "id": "lonely-spyware",
   "metadata": {
    "ExecuteTime": {
     "end_time": "2021-02-18T16:06:40.733816Z",
     "start_time": "2021-02-18T16:06:40.625470Z"
    }
   },
   "outputs": [
    {
     "data": {
      "text/plain": [
       "TweedieRegressor()"
      ]
     },
     "execution_count": 32,
     "metadata": {},
     "output_type": "execute_result"
    }
   ],
   "source": [
    "tr = TweedieRegressor()\n",
    "tr.fit(x_train, y_train)"
   ]
  },
  {
   "cell_type": "code",
   "execution_count": 33,
   "id": "textile-label",
   "metadata": {
    "ExecuteTime": {
     "end_time": "2021-02-18T16:06:40.867442Z",
     "start_time": "2021-02-18T16:06:40.859540Z"
    }
   },
   "outputs": [
    {
     "data": {
      "text/plain": [
       "array([7.42615486, 7.38904547, 7.45142229, ..., 7.50060675, 7.48284386,\n",
       "       7.4673085 ])"
      ]
     },
     "execution_count": 33,
     "metadata": {},
     "output_type": "execute_result"
    }
   ],
   "source": [
    "y_pred_regr = tr.predict(x_val)\n",
    "y_pred_regr"
   ]
  },
  {
   "cell_type": "code",
   "execution_count": 34,
   "id": "metropolitan-shaft",
   "metadata": {
    "ExecuteTime": {
     "end_time": "2021-02-18T16:06:41.117510Z",
     "start_time": "2021-02-18T16:06:41.106938Z"
    }
   },
   "outputs": [
    {
     "data": {
      "text/plain": [
       "0.8781903853900167"
      ]
     },
     "execution_count": 34,
     "metadata": {},
     "output_type": "execute_result"
    }
   ],
   "source": [
    "mse = mean_squared_error(y_pred_regr, y_val, squared=False)\n",
    "mse"
   ]
  },
  {
   "cell_type": "code",
   "execution_count": null,
   "id": "indirect-sender",
   "metadata": {},
   "outputs": [],
   "source": []
  },
  {
   "cell_type": "code",
   "execution_count": null,
   "id": "close-vietnam",
   "metadata": {},
   "outputs": [],
   "source": []
  },
  {
   "cell_type": "code",
   "execution_count": 35,
   "id": "latest-recognition",
   "metadata": {
    "ExecuteTime": {
     "end_time": "2021-02-18T16:06:45.412276Z",
     "start_time": "2021-02-18T16:06:41.855260Z"
    }
   },
   "outputs": [
    {
     "data": {
      "text/plain": [
       "LinearSVR()"
      ]
     },
     "execution_count": 35,
     "metadata": {},
     "output_type": "execute_result"
    }
   ],
   "source": [
    "lsvr = LinearSVR()\n",
    "lsvr.fit(x_train, y_train)"
   ]
  },
  {
   "cell_type": "code",
   "execution_count": 36,
   "id": "quantitative-mentor",
   "metadata": {
    "ExecuteTime": {
     "end_time": "2021-02-18T16:06:45.487583Z",
     "start_time": "2021-02-18T16:06:45.415524Z"
    }
   },
   "outputs": [
    {
     "data": {
      "text/plain": [
       "array([7.3666991 , 7.1842622 , 7.43330551, ..., 7.74237122, 7.37316795,\n",
       "       7.60834581])"
      ]
     },
     "execution_count": 36,
     "metadata": {},
     "output_type": "execute_result"
    }
   ],
   "source": [
    "y_pred_regr = lsvr.predict(x_val)\n",
    "y_pred_regr"
   ]
  },
  {
   "cell_type": "code",
   "execution_count": 37,
   "id": "patent-control",
   "metadata": {
    "ExecuteTime": {
     "end_time": "2021-02-18T16:06:45.525102Z",
     "start_time": "2021-02-18T16:06:45.489589Z"
    }
   },
   "outputs": [
    {
     "data": {
      "text/plain": [
       "0.8762247525527861"
      ]
     },
     "execution_count": 37,
     "metadata": {},
     "output_type": "execute_result"
    }
   ],
   "source": [
    "mse = mean_squared_error(y_pred_regr, y_val, squared=False)\n",
    "mse"
   ]
  },
  {
   "cell_type": "code",
   "execution_count": null,
   "id": "approximate-attribute",
   "metadata": {},
   "outputs": [],
   "source": []
  },
  {
   "cell_type": "code",
   "execution_count": null,
   "id": "prompt-gentleman",
   "metadata": {},
   "outputs": [],
   "source": []
  },
  {
   "cell_type": "code",
   "execution_count": null,
   "id": "elegant-count",
   "metadata": {},
   "outputs": [],
   "source": []
  }
 ],
 "metadata": {
  "kernelspec": {
   "display_name": "Python 3",
   "language": "python",
   "name": "python3"
  },
  "language_info": {
   "codemirror_mode": {
    "name": "ipython",
    "version": 3
   },
   "file_extension": ".py",
   "mimetype": "text/x-python",
   "name": "python",
   "nbconvert_exporter": "python",
   "pygments_lexer": "ipython3",
   "version": "3.8.3"
  }
 },
 "nbformat": 4,
 "nbformat_minor": 5
}
