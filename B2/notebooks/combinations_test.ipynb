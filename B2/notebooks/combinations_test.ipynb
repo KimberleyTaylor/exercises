{
 "cells": [
  {
   "cell_type": "markdown",
   "id": "ordered-estate",
   "metadata": {},
   "source": [
    "# Merges of the different dataframes made"
   ]
  },
  {
   "cell_type": "markdown",
   "id": "assured-novel",
   "metadata": {},
   "source": [
    "### **binary_categorical_columns** with:\n",
    "- numerical_columns\n",
    "- log_numerical_columns\n",
    "\n",
    "### **ordinal_categorical_columns** with:\n",
    "- numerical_columns\n",
    "- log_numerical_columns\n",
    "\n",
    "### **freq_categorical_columns** with:\n",
    "- numerical_columns\n",
    "- log_numerical_columns"
   ]
  }
 ],
 "metadata": {
  "kernelspec": {
   "display_name": "Python 3",
   "language": "python",
   "name": "python3"
  },
  "language_info": {
   "codemirror_mode": {
    "name": "ipython",
    "version": 3
   },
   "file_extension": ".py",
   "mimetype": "text/x-python",
   "name": "python",
   "nbconvert_exporter": "python",
   "pygments_lexer": "ipython3",
   "version": "3.8.3"
  }
 },
 "nbformat": 4,
 "nbformat_minor": 5
}
