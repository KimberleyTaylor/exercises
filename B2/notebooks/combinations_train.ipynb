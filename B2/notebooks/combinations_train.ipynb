{
 "cells": [
  {
   "cell_type": "markdown",
   "id": "killing-verification",
   "metadata": {},
   "source": [
    "# Merges of the different dataframes made"
   ]
  },
  {
   "cell_type": "markdown",
   "id": "suburban-middle",
   "metadata": {},
   "source": [
    "\n",
    "### **binary_categorical_columns** with:\n",
    "- numerical_columns\n",
    "- log_numerical_columns\n",
    "\n",
    "* ***target***\n",
    "\n",
    "### **ordinal_categorical_columns** with:\n",
    "- numerical_columns\n",
    "- log_numerical_columns\n",
    "\n",
    "* ***target***\n",
    "\n",
    "### **freq_categorical_columns** with:\n",
    "- numerical_columns\n",
    "- log_numerical_columns\n",
    "\n",
    "- ***target***\n"
   ]
  }
 ],
 "metadata": {
  "kernelspec": {
   "display_name": "Python 3",
   "language": "python",
   "name": "python3"
  },
  "language_info": {
   "codemirror_mode": {
    "name": "ipython",
    "version": 3
   },
   "file_extension": ".py",
   "mimetype": "text/x-python",
   "name": "python",
   "nbconvert_exporter": "python",
   "pygments_lexer": "ipython3",
   "version": "3.8.3"
  }
 },
 "nbformat": 4,
 "nbformat_minor": 5
}
