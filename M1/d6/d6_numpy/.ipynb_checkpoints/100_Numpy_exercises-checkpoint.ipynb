{
 "cells": [
  {
   "cell_type": "markdown",
   "metadata": {},
   "source": [
    "# 100 numpy exercises\n",
    "\n",
    "This is a collection of exercises that have been collected in the numpy mailing list, on stack overflow and in the numpy documentation. The goal of this collection is to offer a quick reference for both old and new users but also to provide a set of exercises for those who teach.\n",
    "\n",
    "\n",
    "If you find an error or think you've a better way to solve some of them, feel free to open an issue at <https://github.com/rougier/numpy-100>"
   ]
  },
  {
   "cell_type": "markdown",
   "metadata": {},
   "source": [
    "#### 1. Import the numpy package under the name `np` (★☆☆)"
   ]
  },
  {
   "cell_type": "code",
   "execution_count": 375,
   "metadata": {
    "ExecuteTime": {
     "end_time": "2020-12-07T21:37:10.907567Z",
     "start_time": "2020-12-07T21:37:10.901174Z"
    }
   },
   "outputs": [],
   "source": [
    "import numpy as np"
   ]
  },
  {
   "cell_type": "markdown",
   "metadata": {},
   "source": [
    "#### 2. Print the numpy version and the configuration (★☆☆)"
   ]
  },
  {
   "cell_type": "code",
   "execution_count": 2,
   "metadata": {
    "ExecuteTime": {
     "end_time": "2020-12-07T10:48:26.989883Z",
     "start_time": "2020-12-07T10:48:26.983190Z"
    }
   },
   "outputs": [
    {
     "name": "stdout",
     "output_type": "stream",
     "text": [
      "1.18.5\n"
     ]
    }
   ],
   "source": [
    "print(np.__version__)"
   ]
  },
  {
   "cell_type": "markdown",
   "metadata": {},
   "source": [
    "#### 3. Create a null vector of size 10 (★☆☆)"
   ]
  },
  {
   "cell_type": "code",
   "execution_count": 4,
   "metadata": {
    "ExecuteTime": {
     "end_time": "2020-12-07T10:49:41.639919Z",
     "start_time": "2020-12-07T10:49:41.635916Z"
    }
   },
   "outputs": [
    {
     "name": "stdout",
     "output_type": "stream",
     "text": [
      "[0. 0. 0. 0. 0. 0. 0. 0. 0. 0.]\n"
     ]
    }
   ],
   "source": [
    "null_vector = np.zeros(10)\n",
    "print(null_vector)"
   ]
  },
  {
   "cell_type": "markdown",
   "metadata": {},
   "source": [
    "#### 4.  How to find the memory size of any array (★☆☆)"
   ]
  },
  {
   "cell_type": "code",
   "execution_count": 10,
   "metadata": {
    "ExecuteTime": {
     "end_time": "2020-12-07T10:54:21.503861Z",
     "start_time": "2020-12-07T10:54:21.498399Z"
    }
   },
   "outputs": [
    {
     "name": "stdout",
     "output_type": "stream",
     "text": [
      "Memory size of array x: 24 bytes.\n"
     ]
    }
   ],
   "source": [
    "x = np.array([50, 27, 31])\n",
    "print(\"Memory size of array x: \" + str(x.size * x.itemsize) + \" bytes.\")"
   ]
  },
  {
   "cell_type": "markdown",
   "metadata": {},
   "source": [
    "#### 5.  How to get the documentation of the numpy add function from the command line? (★☆☆)"
   ]
  },
  {
   "cell_type": "code",
   "execution_count": 14,
   "metadata": {
    "ExecuteTime": {
     "end_time": "2020-12-07T10:56:31.027785Z",
     "start_time": "2020-12-07T10:56:31.023990Z"
    }
   },
   "outputs": [
    {
     "name": "stdout",
     "output_type": "stream",
     "text": [
      "add(x1, x2, /, out=None, *, where=True, casting='same_kind', order='K', dtype=None, subok=True[, signature, extobj])\n",
      "\n",
      "Add arguments element-wise.\n",
      "\n",
      "Parameters\n",
      "----------\n",
      "x1, x2 : array_like\n",
      "    The arrays to be added. If ``x1.shape != x2.shape``, they must be broadcastable to a common shape (which becomes the shape of the output).\n",
      "out : ndarray, None, or tuple of ndarray and None, optional\n",
      "    A location into which the result is stored. If provided, it must have\n",
      "    a shape that the inputs broadcast to. If not provided or None,\n",
      "    a freshly-allocated array is returned. A tuple (possible only as a\n",
      "    keyword argument) must have length equal to the number of outputs.\n",
      "where : array_like, optional\n",
      "    This condition is broadcast over the input. At locations where the\n",
      "    condition is True, the `out` array will be set to the ufunc result.\n",
      "    Elsewhere, the `out` array will retain its original value.\n",
      "    Note that if an uninitialized `out` array is created via the default\n",
      "    ``out=None``, locations within it where the condition is False will\n",
      "    remain uninitialized.\n",
      "**kwargs\n",
      "    For other keyword-only arguments, see the\n",
      "    :ref:`ufunc docs <ufuncs.kwargs>`.\n",
      "\n",
      "Returns\n",
      "-------\n",
      "add : ndarray or scalar\n",
      "    The sum of `x1` and `x2`, element-wise.\n",
      "    This is a scalar if both `x1` and `x2` are scalars.\n",
      "\n",
      "Notes\n",
      "-----\n",
      "Equivalent to `x1` + `x2` in terms of array broadcasting.\n",
      "\n",
      "Examples\n",
      "--------\n",
      ">>> np.add(1.0, 4.0)\n",
      "5.0\n",
      ">>> x1 = np.arange(9.0).reshape((3, 3))\n",
      ">>> x2 = np.arange(3.0)\n",
      ">>> np.add(x1, x2)\n",
      "array([[  0.,   2.,   4.],\n",
      "       [  3.,   5.,   7.],\n",
      "       [  6.,   8.,  10.]])\n"
     ]
    }
   ],
   "source": [
    "np.info(np.add)"
   ]
  },
  {
   "cell_type": "markdown",
   "metadata": {},
   "source": [
    "#### 6.  Create a null vector of size 10 but the fifth value which is 1 (★☆☆)"
   ]
  },
  {
   "cell_type": "code",
   "execution_count": 15,
   "metadata": {
    "ExecuteTime": {
     "end_time": "2020-12-07T10:58:21.562763Z",
     "start_time": "2020-12-07T10:58:21.558353Z"
    }
   },
   "outputs": [
    {
     "name": "stdout",
     "output_type": "stream",
     "text": [
      "[0. 0. 0. 0. 1. 0. 0. 0. 0. 0.]\n"
     ]
    }
   ],
   "source": [
    "null_vector2 = np.zeros(10)\n",
    "null_vector2[4] = 1\n",
    "print(null_vector2)"
   ]
  },
  {
   "cell_type": "markdown",
   "metadata": {},
   "source": [
    "#### 7.  Create a vector with values ranging from 10 to 49 (★☆☆)"
   ]
  },
  {
   "cell_type": "code",
   "execution_count": 16,
   "metadata": {
    "ExecuteTime": {
     "end_time": "2020-12-07T10:59:02.831081Z",
     "start_time": "2020-12-07T10:59:02.822258Z"
    }
   },
   "outputs": [
    {
     "name": "stdout",
     "output_type": "stream",
     "text": [
      "[10 11 12 13 14 15 16 17 18 19 20 21 22 23 24 25 26 27 28 29 30 31 32 33\n",
      " 34 35 36 37 38 39 40 41 42 43 44 45 46 47 48 49]\n"
     ]
    }
   ],
   "source": [
    "vector1 = np.arange(10, 50)\n",
    "print(vector1)"
   ]
  },
  {
   "cell_type": "markdown",
   "metadata": {},
   "source": [
    "#### 8.  Reverse a vector (first element becomes last) (★☆☆)"
   ]
  },
  {
   "cell_type": "code",
   "execution_count": 248,
   "metadata": {
    "ExecuteTime": {
     "end_time": "2020-12-07T14:29:49.605271Z",
     "start_time": "2020-12-07T14:29:49.600089Z"
    }
   },
   "outputs": [
    {
     "name": "stdout",
     "output_type": "stream",
     "text": [
      "Vector 1 =\n",
      " [10 11 12 13 14 15 16 17 18 19 20 21 22 23 24 25 26 27 28 29 30 31 32 33\n",
      " 34 35 36 37 38 39 40 41 42 43 44 45 46 47 48 49] \n",
      "\n",
      "Reverse of vector 1 =\n",
      " [49 48 47 46 45 44 43 42 41 40 39 38 37 36 35 34 33 32 31 30 29 28 27 26\n",
      " 25 24 23 22 21 20 19 18 17 16 15 14 13 12 11 10]\n"
     ]
    }
   ],
   "source": [
    "print(\"Vector 1 =\\n\", vector1, \"\\n\")\n",
    "\n",
    "vector2 = vector1[::-1]\n",
    "print(\"Reverse of vector 1 =\\n\", vector2)"
   ]
  },
  {
   "cell_type": "markdown",
   "metadata": {},
   "source": [
    "#### 9.  Create a 3x3 matrix with values ranging from 0 to 8 (★☆☆)"
   ]
  },
  {
   "cell_type": "code",
   "execution_count": 18,
   "metadata": {
    "ExecuteTime": {
     "end_time": "2020-12-07T11:01:49.957611Z",
     "start_time": "2020-12-07T11:01:49.953229Z"
    }
   },
   "outputs": [
    {
     "name": "stdout",
     "output_type": "stream",
     "text": [
      "[[0 1 2]\n",
      " [3 4 5]\n",
      " [6 7 8]]\n"
     ]
    }
   ],
   "source": [
    "matrix1 = np.arange(0, 9).reshape(3, 3)\n",
    "print(matrix1)"
   ]
  },
  {
   "cell_type": "markdown",
   "metadata": {},
   "source": [
    "#### 10. Find indices of non-zero elements from \\[1,2,0,0,4,0\\] (★☆☆)"
   ]
  },
  {
   "cell_type": "code",
   "execution_count": 251,
   "metadata": {
    "ExecuteTime": {
     "end_time": "2020-12-07T14:31:56.366612Z",
     "start_time": "2020-12-07T14:31:56.362413Z"
    }
   },
   "outputs": [
    {
     "name": "stdout",
     "output_type": "stream",
     "text": [
      "The indices of the on-zero elements of vector 3: \n",
      " (array([0, 1, 4]),)\n"
     ]
    }
   ],
   "source": [
    "vector_3 = [1, 2, 0, 0, 4, 0]\n",
    "vector3 = np.nonzero(vector_3)\n",
    "print(\"The indices of the on-zero elements of vector 3: \\n\", vector3)"
   ]
  },
  {
   "cell_type": "markdown",
   "metadata": {},
   "source": [
    "#### 11. Create a 3x3 identity matrix (★☆☆)"
   ]
  },
  {
   "cell_type": "code",
   "execution_count": 253,
   "metadata": {
    "ExecuteTime": {
     "end_time": "2020-12-07T14:34:05.512243Z",
     "start_time": "2020-12-07T14:34:05.501638Z"
    }
   },
   "outputs": [
    {
     "name": "stdout",
     "output_type": "stream",
     "text": [
      "A 3x3 identity matrix is that which the diagonal from top-left to bottom-right are 1 and all others are 0:\n",
      " [[1. 0. 0.]\n",
      " [0. 1. 0.]\n",
      " [0. 0. 1.]]\n"
     ]
    }
   ],
   "source": [
    "matrix2 = np.identity(3)\n",
    "print(\"A 3x3 identity matrix is that which the diagonal from top-left to bottom-right are 1 and all others are 0:\\n\", matrix2)"
   ]
  },
  {
   "cell_type": "markdown",
   "metadata": {},
   "source": [
    "#### 12. Create a 3x3x3 array with random values (★☆☆)"
   ]
  },
  {
   "cell_type": "code",
   "execution_count": 254,
   "metadata": {
    "ExecuteTime": {
     "end_time": "2020-12-07T14:36:15.162468Z",
     "start_time": "2020-12-07T14:36:15.151315Z"
    }
   },
   "outputs": [
    {
     "name": "stdout",
     "output_type": "stream",
     "text": [
      "[[[0.49194749 0.78326262 0.57706198]\n",
      "  [0.1199003  0.7823971  0.89819595]\n",
      "  [0.48000646 0.70262986 0.76114296]]\n",
      "\n",
      " [[0.54409874 0.7355553  0.40557171]\n",
      "  [0.39584791 0.23835855 0.68378877]\n",
      "  [0.70709351 0.44828974 0.43363784]]\n",
      "\n",
      " [[0.86939588 0.57528571 0.9334813 ]\n",
      "  [0.44013913 0.00658766 0.53903242]\n",
      "  [0.71628736 0.92002768 0.35159947]]]\n"
     ]
    }
   ],
   "source": [
    "matrix3 = np.random.random((3, 3, 3))\n",
    "print(matrix3)"
   ]
  },
  {
   "cell_type": "markdown",
   "metadata": {},
   "source": [
    "#### 13. Create a 10x10 array with random values and find the minimum and maximum values (★☆☆)"
   ]
  },
  {
   "cell_type": "code",
   "execution_count": 257,
   "metadata": {
    "ExecuteTime": {
     "end_time": "2020-12-07T14:37:25.503900Z",
     "start_time": "2020-12-07T14:37:25.479986Z"
    }
   },
   "outputs": [
    {
     "name": "stdout",
     "output_type": "stream",
     "text": [
      "10x10 array of random values:\n",
      " [[0.03528819 0.39861819 0.50481756 0.2556616  0.87523948 0.21498478\n",
      "  0.44402534 0.5062926  0.53168099 0.95801092]\n",
      " [0.38916932 0.7466372  0.95278526 0.40495358 0.22700955 0.80754711\n",
      "  0.17038763 0.34367681 0.55135031 0.02266307]\n",
      " [0.8123699  0.35190553 0.48029421 0.95067461 0.54659927 0.08187097\n",
      "  0.16339679 0.17296077 0.38316491 0.4248163 ]\n",
      " [0.75815502 0.60149991 0.81566827 0.88725589 0.30593517 0.89440242\n",
      "  0.42048179 0.43796846 0.01764647 0.11686965]\n",
      " [0.71300895 0.13478564 0.68530447 0.37562697 0.4005811  0.79704318\n",
      "  0.53722075 0.94223093 0.90401884 0.65343138]\n",
      " [0.15886049 0.5845891  0.6587674  0.50298128 0.49757076 0.14683338\n",
      "  0.36954427 0.92607108 0.52360701 0.73401239]\n",
      " [0.34653422 0.43413045 0.59308849 0.27024604 0.81241518 0.64562201\n",
      "  0.38647983 0.3211576  0.13363476 0.21074496]\n",
      " [0.22117066 0.27505412 0.5593549  0.7488219  0.87759574 0.81724838\n",
      "  0.87622966 0.65378779 0.43579041 0.16538748]\n",
      " [0.94678981 0.00493143 0.2717419  0.03143296 0.80147092 0.69138855\n",
      "  0.25311101 0.44719076 0.80736155 0.65761273]\n",
      " [0.3553572  0.67626308 0.01156893 0.44849373 0.53668484 0.93417892\n",
      "  0.36065086 0.2002163  0.83340664 0.93977925]]\n",
      "\n",
      "Min:  0.004931429904253659\n",
      "\n",
      "Max:  0.9580109177529249\n"
     ]
    }
   ],
   "source": [
    "matrix4 = np.random.random((10, 10))\n",
    "print(\"10x10 array of random values:\\n\", matrix4)\n",
    "print(\"\\nMin: \", matrix4.min())\n",
    "print(\"\\nMax: \", matrix4.max())\n"
   ]
  },
  {
   "cell_type": "markdown",
   "metadata": {},
   "source": [
    "#### 14. Create a random vector of size 30 and find the mean value (★☆☆)"
   ]
  },
  {
   "cell_type": "code",
   "execution_count": 259,
   "metadata": {
    "ExecuteTime": {
     "end_time": "2020-12-07T14:37:53.870624Z",
     "start_time": "2020-12-07T14:37:53.864312Z"
    }
   },
   "outputs": [
    {
     "name": "stdout",
     "output_type": "stream",
     "text": [
      "Random vector of size 30:\n",
      " [0.89814545 0.35259362 0.22699287 0.65515733 0.83099522 0.18794343\n",
      " 0.40882446 0.63134913 0.98357928 0.87035398 0.40219934 0.65508772\n",
      " 0.28103312 0.18953306 0.05522688 0.07743539 0.49994868 0.13693055\n",
      " 0.67720942 0.93064396 0.87231455 0.5833217  0.45030213 0.74562949\n",
      " 0.88268361 0.72818954 0.73896424 0.23889564 0.56741365 0.06459724]\n",
      "\n",
      "Mean:  0.5274498226482733\n"
     ]
    }
   ],
   "source": [
    "vector4 = np.random.random(30)\n",
    "print(\"Random vector of size 30:\\n\", vector4)\n",
    "print(\"\\nMean: \", vector4.mean())"
   ]
  },
  {
   "cell_type": "markdown",
   "metadata": {},
   "source": [
    "#### 15. Create a 2d array with 1 on the border and 0 inside (★☆☆)"
   ]
  },
  {
   "cell_type": "code",
   "execution_count": 276,
   "metadata": {
    "ExecuteTime": {
     "end_time": "2020-12-07T15:00:58.525002Z",
     "start_time": "2020-12-07T15:00:58.505825Z"
    }
   },
   "outputs": [
    {
     "name": "stdout",
     "output_type": "stream",
     "text": [
      "Original matrix of all ones:\n",
      " [[1. 1. 1. 1. 1. 1. 1. 1.]\n",
      " [1. 1. 1. 1. 1. 1. 1. 1.]\n",
      " [1. 1. 1. 1. 1. 1. 1. 1.]\n",
      " [1. 1. 1. 1. 1. 1. 1. 1.]\n",
      " [1. 1. 1. 1. 1. 1. 1. 1.]\n",
      " [1. 1. 1. 1. 1. 1. 1. 1.]\n",
      " [1. 1. 1. 1. 1. 1. 1. 1.]\n",
      " [1. 1. 1. 1. 1. 1. 1. 1.]] \n",
      "\n",
      "To change inner values to zeros:\n",
      "Input is: 'matrix[columns indexing, rows indexing]'\n",
      "For example:\n",
      "For columns, we index from 1 to -1 and set those equal to zero.\n",
      "For rows we index from 1 to -1 and set those equal to zero.\n",
      "\n",
      "[[1. 1. 1. 1. 1. 1. 1. 1.]\n",
      " [1. 0. 0. 0. 0. 0. 0. 1.]\n",
      " [1. 0. 0. 0. 0. 0. 0. 1.]\n",
      " [1. 0. 0. 0. 0. 0. 0. 1.]\n",
      " [1. 0. 0. 0. 0. 0. 0. 1.]\n",
      " [1. 0. 0. 0. 0. 0. 0. 1.]\n",
      " [1. 0. 0. 0. 0. 0. 0. 1.]\n",
      " [1. 1. 1. 1. 1. 1. 1. 1.]]\n"
     ]
    }
   ],
   "source": [
    "matrix5 = np.ones((8, 8))\n",
    "print(\"Original matrix of all ones:\\n\", matrix5, \"\\n\")\n",
    "matrix5[1:-1, 1:-1] = 0\n",
    "print(\"To change inner values to zeros:\\nInput is: 'matrix[columns indexing, rows indexing]'\\nFor example:\\nFor columns, we index from 1 to -1 and set those equal to zero.\\nFor rows we index from 1 to -1 and set those equal to zero.\\n\")\n",
    "print(matrix5)    # x[columns indexing, rows indexing]"
   ]
  },
  {
   "cell_type": "markdown",
   "metadata": {},
   "source": [
    "#### 16. How to add a border (filled with 0's) around an existing array? (★☆☆)"
   ]
  },
  {
   "cell_type": "code",
   "execution_count": 279,
   "metadata": {
    "ExecuteTime": {
     "end_time": "2020-12-07T15:02:28.821973Z",
     "start_time": "2020-12-07T15:02:28.798688Z"
    }
   },
   "outputs": [
    {
     "name": "stdout",
     "output_type": "stream",
     "text": [
      "Original matrix: \n",
      " [[1. 1. 1. 1. 1. 1. 1. 1.]\n",
      " [1. 1. 1. 1. 1. 1. 1. 1.]\n",
      " [1. 1. 1. 1. 1. 1. 1. 1.]\n",
      " [1. 1. 1. 1. 1. 1. 1. 1.]\n",
      " [1. 1. 1. 1. 1. 1. 1. 1.]\n",
      " [1. 1. 1. 1. 1. 1. 1. 1.]\n",
      " [1. 1. 1. 1. 1. 1. 1. 1.]\n",
      " [1. 1. 1. 1. 1. 1. 1. 1.]] \n",
      "\n",
      "New padded matrix: \n",
      " [[0. 0. 0. 0. 0. 0. 0. 0. 0. 0.]\n",
      " [0. 1. 1. 1. 1. 1. 1. 1. 1. 0.]\n",
      " [0. 1. 1. 1. 1. 1. 1. 1. 1. 0.]\n",
      " [0. 1. 1. 1. 1. 1. 1. 1. 1. 0.]\n",
      " [0. 1. 1. 1. 1. 1. 1. 1. 1. 0.]\n",
      " [0. 1. 1. 1. 1. 1. 1. 1. 1. 0.]\n",
      " [0. 1. 1. 1. 1. 1. 1. 1. 1. 0.]\n",
      " [0. 1. 1. 1. 1. 1. 1. 1. 1. 0.]\n",
      " [0. 1. 1. 1. 1. 1. 1. 1. 1. 0.]\n",
      " [0. 0. 0. 0. 0. 0. 0. 0. 0. 0.]]\n"
     ]
    }
   ],
   "source": [
    "matrix6 = np.ones((8, 8))\n",
    "print(\"Original matrix: \\n\", matrix6, \"\\n\")\n",
    "matrix7 = np.pad(matrix6, pad_width=1, mode='constant', constant_values=0)  # self-explainable by parameter inputs\n",
    "print(\"New padded matrix: \\n\", matrix7)"
   ]
  },
  {
   "cell_type": "markdown",
   "metadata": {},
   "source": [
    "#### 17. What is the result of the following expression? (★☆☆)"
   ]
  },
  {
   "cell_type": "markdown",
   "metadata": {},
   "source": [
    "```python\n",
    "0 * np.nan\n",
    "np.nan == np.nan\n",
    "np.inf > np.nan\n",
    "np.nan - np.nan\n",
    "np.nan in set([np.nan])\n",
    "0.3 == 3 * 0.1\n",
    "```"
   ]
  },
  {
   "cell_type": "code",
   "execution_count": 280,
   "metadata": {
    "ExecuteTime": {
     "end_time": "2020-12-07T15:02:45.370899Z",
     "start_time": "2020-12-07T15:02:45.350466Z"
    }
   },
   "outputs": [
    {
     "name": "stdout",
     "output_type": "stream",
     "text": [
      "nan\n",
      "False\n",
      "False\n",
      "nan\n",
      "True\n",
      "False\n"
     ]
    }
   ],
   "source": [
    "print(0 * np.nan)\n",
    "print(np.nan == np.nan)\n",
    "print(np.inf > np.nan)\n",
    "print(np.nan - np.nan)\n",
    "print(np.nan in set([np.nan]))\n",
    "print(0.3 == 3 * 0.1)\n"
   ]
  },
  {
   "cell_type": "markdown",
   "metadata": {},
   "source": [
    "#### 18. Create a 5x5 matrix with values 1,2,3,4 just below the diagonal (★☆☆)"
   ]
  },
  {
   "cell_type": "code",
   "execution_count": 334,
   "metadata": {
    "ExecuteTime": {
     "end_time": "2020-12-07T16:21:02.476402Z",
     "start_time": "2020-12-07T16:21:02.466760Z"
    }
   },
   "outputs": [
    {
     "name": "stdout",
     "output_type": "stream",
     "text": [
      "[[0 0 0 0 0]\n",
      " [1 0 0 0 0]\n",
      " [0 2 0 0 0]\n",
      " [0 0 3 0 0]\n",
      " [0 0 0 4 0]]\n"
     ]
    }
   ],
   "source": [
    "matrix8 = np.diag(1+np.arange(4), k=-1)   # numpy.diag(v, k=0): k is the diagonal in question. Use k>0 for diagonals above the main diagonal, and k<0 for diagonals below the main diagonal.\n",
    "print(matrix8)                            # not sure why 1+array, need to check more."
   ]
  },
  {
   "cell_type": "markdown",
   "metadata": {},
   "source": [
    "#### 19. Create a 8x8 matrix and fill it with a checkerboard pattern (★☆☆)"
   ]
  },
  {
   "cell_type": "code",
   "execution_count": 299,
   "metadata": {
    "ExecuteTime": {
     "end_time": "2020-12-07T15:13:07.849533Z",
     "start_time": "2020-12-07T15:13:07.837693Z"
    }
   },
   "outputs": [
    {
     "name": "stdout",
     "output_type": "stream",
     "text": [
      "[[1. 0. 1. 0. 1. 0. 1. 0.]\n",
      " [0. 1. 0. 1. 0. 1. 0. 1.]\n",
      " [1. 0. 1. 0. 1. 0. 1. 0.]\n",
      " [0. 1. 0. 1. 0. 1. 0. 1.]\n",
      " [1. 0. 1. 0. 1. 0. 1. 0.]\n",
      " [0. 1. 0. 1. 0. 1. 0. 1.]\n",
      " [1. 0. 1. 0. 1. 0. 1. 0.]\n",
      " [0. 1. 0. 1. 0. 1. 0. 1.]]\n"
     ]
    }
   ],
   "source": [
    "matrix9 = np.ones((8, 8))    # gives an 8x8 matrix of all ones\n",
    "matrix9[::2, 1::2] = 0       # for columns, from beginning to end, in steps of 2 -- for rows, from index 1 to end, in steps of 2 -- replace these with 0.\n",
    "matrix9[1::2, ::2] = 0       # for columns, from index 1 to end, in steps of 2 -- for rows, from beginning to end, in steps of 2 -- replace these with 0.\n",
    "print(matrix9)"
   ]
  },
  {
   "cell_type": "markdown",
   "metadata": {},
   "source": [
    "#### 20. Consider a (6,7,8) shape array, what is the index (x,y,z) of the 100th element?"
   ]
  },
  {
   "cell_type": "code",
   "execution_count": 332,
   "metadata": {
    "ExecuteTime": {
     "end_time": "2020-12-07T16:15:36.143476Z",
     "start_time": "2020-12-07T16:15:36.131850Z"
    }
   },
   "outputs": [
    {
     "name": "stdout",
     "output_type": "stream",
     "text": [
      "The 'shape' tuple gives the lengths of the array dimensions. So this is a 3D matrix, with lengths 6 by 7 by 8.\n",
      "When 'unravel_index' is used, to find the 100th element, we use the index of 99.\n",
      "Our output is the 100th element:\n",
      "(1, 5, 3)\n"
     ]
    }
   ],
   "source": [
    "\n",
    "print(\"The 'shape' tuple gives the lengths of the array dimensions. So this is a 3D matrix, with lengths 6 by 7 by 8.\\nWhen 'unravel_index' is used, to find the 100th element, we use the index of 99.\\nOur output is the 100th element:\")\n",
    "matrix10 = np.unravel_index(99,(6,7,8))   # numpy.unravel_index(indices, shape, order='C')\n",
    "print(matrix10)                           # The elements of the shape tuple give the lengths of the corresponding array dimensions."
   ]
  },
  {
   "cell_type": "markdown",
   "metadata": {},
   "source": [
    "#### 21. Create a checkerboard 8x8 matrix using the tile function (★☆☆)"
   ]
  },
  {
   "cell_type": "code",
   "execution_count": 322,
   "metadata": {
    "ExecuteTime": {
     "end_time": "2020-12-07T15:39:56.464690Z",
     "start_time": "2020-12-07T15:39:56.454222Z"
    }
   },
   "outputs": [
    {
     "name": "stdout",
     "output_type": "stream",
     "text": [
      "Original matrix: \n",
      " [[1 0]\n",
      " [0 1]] \n",
      "\n",
      "New matrix: \n",
      " [[1 0 1 0 1 0 1 0]\n",
      " [0 1 0 1 0 1 0 1]\n",
      " [1 0 1 0 1 0 1 0]\n",
      " [0 1 0 1 0 1 0 1]\n",
      " [1 0 1 0 1 0 1 0]\n",
      " [0 1 0 1 0 1 0 1]\n",
      " [1 0 1 0 1 0 1 0]\n",
      " [0 1 0 1 0 1 0 1]]\n"
     ]
    }
   ],
   "source": [
    "matrix11 = np.array([[1,0], [0,1]])\n",
    "print(\"Original matrix: \\n\", matrix11, \"\\n\")\n",
    "matrix12 = np.tile(matrix11, (4,4))           # numpy.tile(A, repetitions)\n",
    "print(\"New matrix: \\n\", matrix12)             # repetitions is the amount along each axis."
   ]
  },
  {
   "cell_type": "markdown",
   "metadata": {},
   "source": [
    "#### 22. Normalize a 5x5 random matrix (★☆☆)"
   ]
  },
  {
   "cell_type": "code",
   "execution_count": 96,
   "metadata": {
    "ExecuteTime": {
     "end_time": "2020-12-07T11:48:32.310074Z",
     "start_time": "2020-12-07T11:48:32.294618Z"
    }
   },
   "outputs": [
    {
     "name": "stdout",
     "output_type": "stream",
     "text": [
      "Original matrix: \n",
      " [[0.80855429 0.3042197  0.32496361 0.70697283 0.9904651 ]\n",
      " [0.25357952 0.03047608 0.55602297 0.7086268  0.64041276]\n",
      " [0.26913211 0.54824514 0.90908239 0.57581554 0.73358768]\n",
      " [0.98313106 0.93196638 0.40506492 0.53787187 0.21639102]\n",
      " [0.10792618 0.63647313 0.18898896 0.26456427 0.14515321]] \n",
      "\n",
      "New matrix: \n",
      " [[ 1.04213122 -0.72484978 -0.65217165  0.68623157  1.67947189]\n",
      " [-0.90227214 -1.68393482  0.15736532  0.6920264   0.45303246]\n",
      " [-0.84778226  0.13011501  1.39434034  0.22671035  0.77947906]\n",
      " [ 1.65377642  1.47451643 -0.37152959  0.09377135 -1.03256533]\n",
      " [-1.41258155  0.43922959 -1.12857091 -0.86378608 -1.28215332]]\n"
     ]
    }
   ],
   "source": [
    "matrix13 = np.random.random((5,5))\n",
    "print(\"Original matrix: \\n\", matrix13, \"\\n\")\n",
    "matrix14 = (matrix13 - np.mean(matrix13)) / (np.std(matrix13))\n",
    "print(\"New matrix: \\n\", matrix14)"
   ]
  },
  {
   "cell_type": "markdown",
   "metadata": {},
   "source": [
    "#### 23. Create a custom dtype that describes a color as four unsigned bytes (RGBA) (★☆☆)"
   ]
  },
  {
   "cell_type": "code",
   "execution_count": 323,
   "metadata": {
    "ExecuteTime": {
     "end_time": "2020-12-07T15:42:55.268403Z",
     "start_time": "2020-12-07T15:42:55.262594Z"
    }
   },
   "outputs": [
    {
     "name": "stdout",
     "output_type": "stream",
     "text": [
      "[('R', 'u1'), ('G', 'u1'), ('B', 'u1'), ('A', 'u1')]\n"
     ]
    }
   ],
   "source": [
    "x = np.dtype([(\"R\", np.ubyte), (\"G\", np.ubyte), (\"B\", np.ubyte), (\"A\", np.ubyte)])\n",
    "print(x)              # don't understand"
   ]
  },
  {
   "cell_type": "markdown",
   "metadata": {},
   "source": [
    "#### 24. Multiply a 5x3 matrix by a 3x2 matrix (real matrix product) (★☆☆)"
   ]
  },
  {
   "cell_type": "code",
   "execution_count": 324,
   "metadata": {
    "ExecuteTime": {
     "end_time": "2020-12-07T15:47:05.114076Z",
     "start_time": "2020-12-07T15:47:05.104160Z"
    },
    "scrolled": true
   },
   "outputs": [
    {
     "name": "stdout",
     "output_type": "stream",
     "text": [
      "First matrix: \n",
      " [[0.27302268 0.82532849 0.63676789]\n",
      " [0.97628176 0.06028472 0.69709688]\n",
      " [0.47474453 0.99338687 0.80567839]\n",
      " [0.12080557 0.10255539 0.12133281]\n",
      " [0.13280949 0.76068252 0.1939368 ]] \n",
      "\n",
      "Second matrix: \n",
      " [[0.71150578 0.06965699]\n",
      " [0.16840179 0.68124737]\n",
      " [0.91533123 0.08142134]] \n",
      "\n",
      "Dot product of these matrices: \n",
      " [[0.91609754 0.63311729]\n",
      " [1.34285671 0.16583221]\n",
      " [1.24253418 0.77541087]\n",
      " [0.21428408 0.08815962]\n",
      " [0.40011142 0.54325466]]\n"
     ]
    }
   ],
   "source": [
    "matrix15 = np.random.random((5, 3))\n",
    "print(\"First matrix: \\n\", matrix15, \"\\n\")\n",
    "\n",
    "matrix16 = np.random.random((3, 2))\n",
    "print(\"Second matrix: \\n\", matrix16, \"\\n\")\n",
    "\n",
    "matrix_product = np.dot(matrix15, matrix16)\n",
    "print(\"Dot product of these matrices: \\n\", matrix_product)"
   ]
  },
  {
   "cell_type": "markdown",
   "metadata": {},
   "source": [
    "#### 25. Given a 1D array, negate all elements which are between 3 and 8, in place. (★☆☆)"
   ]
  },
  {
   "cell_type": "code",
   "execution_count": 124,
   "metadata": {
    "ExecuteTime": {
     "end_time": "2020-12-07T12:13:54.537939Z",
     "start_time": "2020-12-07T12:13:54.532397Z"
    }
   },
   "outputs": [
    {
     "name": "stdout",
     "output_type": "stream",
     "text": [
      "[ 0  1  2  3 -4 -5 -6 -7  8  9 10 11 12 13 14 15 16 17 18 19]\n"
     ]
    }
   ],
   "source": [
    "vector5 = np.arange(20)\n",
    "\n",
    "vector5[4:8] *= -1     #negated elements BETWEEN 3 and 8, not including 3 and 8.\n",
    "print(vector5)"
   ]
  },
  {
   "cell_type": "markdown",
   "metadata": {},
   "source": [
    "#### 26. What is the output of the following script? (★☆☆)"
   ]
  },
  {
   "cell_type": "markdown",
   "metadata": {},
   "source": [
    "```python\n",
    "# Author: Jake VanderPlas\n",
    "\n",
    "print(sum(range(5),-1))\n",
    "from numpy import *\n",
    "print(sum(range(5),-1))\n",
    "```"
   ]
  },
  {
   "cell_type": "code",
   "execution_count": 125,
   "metadata": {
    "ExecuteTime": {
     "end_time": "2020-12-07T12:14:24.753651Z",
     "start_time": "2020-12-07T12:14:24.748998Z"
    }
   },
   "outputs": [
    {
     "name": "stdout",
     "output_type": "stream",
     "text": [
      "9\n",
      "10\n"
     ]
    }
   ],
   "source": [
    "print(sum(range(5),-1))\n",
    "from numpy import *\n",
    "print(sum(range(5),-1))"
   ]
  },
  {
   "cell_type": "markdown",
   "metadata": {},
   "source": [
    "#### 27. Consider an integer vector Z, which of these expressions are legal? (★☆☆)"
   ]
  },
  {
   "cell_type": "markdown",
   "metadata": {},
   "source": [
    "```python\n",
    "Z**Z\n",
    "2 << Z >> 2\n",
    "Z <- Z\n",
    "1j*Z\n",
    "Z/1/1\n",
    "Z<Z>Z\n",
    "```"
   ]
  },
  {
   "cell_type": "code",
   "execution_count": 179,
   "metadata": {
    "ExecuteTime": {
     "end_time": "2020-12-07T12:34:00.095298Z",
     "start_time": "2020-12-07T12:34:00.069286Z"
    }
   },
   "outputs": [
    {
     "name": "stdout",
     "output_type": "stream",
     "text": [
      "Z**Z is legal: \n",
      " [[1. 1. 1. 1. 1.]\n",
      " [1. 1. 1. 1. 1.]\n",
      " [1. 1. 1. 1. 1.]\n",
      " [1. 1. 1. 1. 1.]\n",
      " [1. 1. 1. 1. 1.]] \n",
      "\n",
      "2 << Z >> 2 is illegal. \n",
      " Gives: 'TypeError: ufunc 'left_shift' not supported for the input types, and the inputs could not be safely coerced to any supported types according to the casting rule safe.'\n",
      "\n",
      "Z <- Z is legal: \n",
      " [[False False False False False]\n",
      " [False False False False False]\n",
      " [False False False False False]\n",
      " [False False False False False]\n",
      " [False False False False False]] \n",
      "\n",
      "1j*Z is legal: Gives imaginary numbers: \n",
      " [[0.+1.j 0.+1.j 0.+1.j 0.+1.j 0.+1.j]\n",
      " [0.+1.j 0.+1.j 0.+1.j 0.+1.j 0.+1.j]\n",
      " [0.+1.j 0.+1.j 0.+1.j 0.+1.j 0.+1.j]\n",
      " [0.+1.j 0.+1.j 0.+1.j 0.+1.j 0.+1.j]\n",
      " [0.+1.j 0.+1.j 0.+1.j 0.+1.j 0.+1.j]] \n",
      "\n",
      "Z/1/1 is legal: \n",
      " [[1. 1. 1. 1. 1.]\n",
      " [1. 1. 1. 1. 1.]\n",
      " [1. 1. 1. 1. 1.]\n",
      " [1. 1. 1. 1. 1.]\n",
      " [1. 1. 1. 1. 1.]] \n",
      "\n",
      "Z<Z>Z is illegal. Gives: 'ValueError: The truth value of an array with more than one element is ambiguous. Use a.any() or a.all()'\n"
     ]
    }
   ],
   "source": [
    "Z = np.ones((5,5))\n",
    "\n",
    "print(\"Z**Z is legal: \\n\", Z**Z, \"\\n\")\n",
    "\n",
    "print(\"2 << Z >> 2 is illegal. \\n Gives: 'TypeError: ufunc 'left_shift' not supported for the input types, and the inputs could not be safely coerced to any supported types according to the casting rule safe.'\\n\")\n",
    "\n",
    "print(\"Z <- Z is legal: \\n\", Z <- Z, \"\\n\")\n",
    "\n",
    "print(\"1j*Z is legal: Gives imaginary numbers: \\n\", 1j*Z, \"\\n\")\n",
    "\n",
    "print(\"Z/1/1 is legal: \\n\", Z/1/1, \"\\n\")\n",
    "\n",
    "print(\"Z<Z>Z is illegal. Gives: 'ValueError: The truth value of an array with more than one element is ambiguous. Use a.any() or a.all()'\")"
   ]
  },
  {
   "cell_type": "markdown",
   "metadata": {},
   "source": [
    "#### 28. What are the result of the following expressions?"
   ]
  },
  {
   "cell_type": "markdown",
   "metadata": {},
   "source": [
    "```python\n",
    "np.array(0) / np.array(0)\n",
    "np.array(0) // np.array(0)\n",
    "np.array([np.nan]).astype(int).astype(float)\n",
    "```"
   ]
  },
  {
   "cell_type": "code",
   "execution_count": 192,
   "metadata": {
    "ExecuteTime": {
     "end_time": "2020-12-07T12:39:47.218032Z",
     "start_time": "2020-12-07T12:39:47.203759Z"
    }
   },
   "outputs": [
    {
     "name": "stdout",
     "output_type": "stream",
     "text": [
      "nan \n",
      "-Gives 'Runtimewarning' that an invalid value is encountered in true_divide.\n",
      "\n",
      "0 \n",
      "-Gives 'Runtimewarning' that divide by zero encountered in the floor divide.\n",
      "\n",
      "[-9.22337204e+18] \n",
      "-Corrects the errors above by using nan (instead of integer 0) and floor divide (instead of true divide)\n"
     ]
    },
    {
     "name": "stderr",
     "output_type": "stream",
     "text": [
      "<ipython-input-192-8398bbedd672>:1: RuntimeWarning: invalid value encountered in true_divide\n",
      "  print(np.array(0) / np.array(0), \"\\n-Gives 'Runtimewarning' that an invalid value is encountered in true_divide.\\n\")\n",
      "<ipython-input-192-8398bbedd672>:2: RuntimeWarning: divide by zero encountered in floor_divide\n",
      "  print(np.array(0) // np.array(0), \"\\n-Gives 'Runtimewarning' that divide by zero encountered in the floor divide.\\n\")\n"
     ]
    }
   ],
   "source": [
    "print(np.array(0) / np.array(0), \"\\n-Gives 'Runtimewarning' that an invalid value is encountered in true_divide.\\n\")\n",
    "print(np.array(0) // np.array(0), \"\\n-Gives 'Runtimewarning' that divide by zero encountered in the floor divide.\\n\")\n",
    "print(np.array([np.nan]).astype(int).astype(float), \"\\n-Corrects the errors above by using nan (instead of integer 0) and gives it as an integer and float?!\")"
   ]
  },
  {
   "cell_type": "markdown",
   "metadata": {},
   "source": [
    "#### 29. How to round away from zero a float array ? (★☆☆)"
   ]
  },
  {
   "cell_type": "code",
   "execution_count": 244,
   "metadata": {
    "ExecuteTime": {
     "end_time": "2020-12-07T13:17:16.873845Z",
     "start_time": "2020-12-07T13:17:16.859845Z"
    }
   },
   "outputs": [
    {
     "name": "stdout",
     "output_type": "stream",
     "text": [
      "Random 5 by 5 matrix of floats, with minimum value -20 and maximum value 20:\n",
      "\n",
      " [[-10.63295131  16.04372698 -12.51906744   7.79327362 -17.86279846]\n",
      " [ -9.36144416  10.79033305  11.60261389 -17.58118904   5.77831448]\n",
      " [ -8.39895113  16.82837454   1.98206742   6.39266422  18.40245152]\n",
      " [ 12.8498222   18.80363409   8.4150978   13.18000435   7.34134405]\n",
      " [ -0.35393157  16.59993243 -18.77573144  -6.44672948   1.59871534]] \n",
      "\n",
      "\n",
      "Find absolute value so can round properly later:\n",
      "\n",
      " [[10.63295131 16.04372698 12.51906744  7.79327362 17.86279846]\n",
      " [ 9.36144416 10.79033305 11.60261389 17.58118904  5.77831448]\n",
      " [ 8.39895113 16.82837454  1.98206742  6.39266422 18.40245152]\n",
      " [12.8498222  18.80363409  8.4150978  13.18000435  7.34134405]\n",
      " [ 0.35393157 16.59993243 18.77573144  6.44672948  1.59871534]] \n",
      "\n",
      "\n",
      "Find the rounded AWAY from zero using ceiling, ie round up to one above:\n",
      "\n",
      " [[11. 17. 13.  8. 18.]\n",
      " [10. 11. 12. 18.  6.]\n",
      " [ 9. 17.  2.  7. 19.]\n",
      " [13. 19.  9. 14.  8.]\n",
      " [ 1. 17. 19.  7.  2.]] \n",
      "\n",
      "\n",
      "Copy signs of first matrix to signs of new matrix:\n",
      "\n",
      " [[-11.  17. -13.   8. -18.]\n",
      " [-10.  11.  12. -18.   6.]\n",
      " [ -9.  17.   2.   7.  19.]\n",
      " [ 13.  19.   9.  14.   8.]\n",
      " [ -1.  17. -19.  -7.   2.]]\n"
     ]
    }
   ],
   "source": [
    "matrix17 = np.random.uniform(-20,20,(5,5))   # numpy.random.uniform(low=0.0, high=1.0, size=None)\n",
    "print(\"Random 5 by 5 matrix of floats, with minimum value -20 and maximum value 20:\\n\\n\", matrix17, \"\\n\")\n",
    "\n",
    "matrix18 = np.abs(matrix17)\n",
    "print(\"\\nFind absolute value so can round properly later:\\n\\n\", matrix18, \"\\n\")\n",
    "\n",
    "matrix19 = np.ceil(matrix18)  #  numpy.ceil(x) - Return the ceiling of the input, element-wise.\n",
    "print(\"\\nFind the rounded AWAY from zero using ceiling, ie round up to one above:\\n\\n\", matrix19, \"\\n\")\n",
    "\n",
    "matrix20 = np.copysign(matrix19, matrix17)  # numpy.copysign(x1, x2,...) - Change the sign of x1 to that of x2, element-wise.\n",
    "print(\"\\nCopy signs of first matrix to signs of new matrix:\\n\\n\", matrix20)"
   ]
  },
  {
   "cell_type": "markdown",
   "metadata": {},
   "source": [
    "#### 30. How to find common values between two arrays? (★☆☆)"
   ]
  },
  {
   "cell_type": "code",
   "execution_count": 330,
   "metadata": {
    "ExecuteTime": {
     "end_time": "2020-12-07T15:54:09.486791Z",
     "start_time": "2020-12-07T15:54:09.476007Z"
    }
   },
   "outputs": [
    {
     "name": "stdout",
     "output_type": "stream",
     "text": [
      "[30, 82, 10]\n",
      "[20, 150, 10]\n",
      "The intersection of these two arrays is:  [10]\n"
     ]
    }
   ],
   "source": [
    "\"\"\"\n",
    "numpy.intersect1d(ar1, ar2, assume_unique=False, return_indices=False)\n",
    "Find the intersection of two arrays.\n",
    "Return the sorted, unique values that are in both of the input arrays.\"\"\"\n",
    "\n",
    "matrix21 = ([30, 82, 10])\n",
    "print(matrix21)\n",
    "\n",
    "matrix22 = ([20, 150, 10])\n",
    "print(matrix22)\n",
    "\n",
    "intersection = np.intersect1d(matrix21, matrix22)\n",
    "print(\"The intersection of these two arrays is: \", intersection)"
   ]
  },
  {
   "cell_type": "markdown",
   "metadata": {},
   "source": [
    "#### 31. How to ignore all numpy warnings (not recommended)? (★☆☆)"
   ]
  },
  {
   "cell_type": "code",
   "execution_count": null,
   "metadata": {},
   "outputs": [],
   "source": [
    "# numpy.testing.suppress_warnings(forwarding_rule='always')\n",
    "# I don't want to do it because it might ruin this notebook!"
   ]
  },
  {
   "cell_type": "markdown",
   "metadata": {},
   "source": [
    "#### 32. Is the following expressions true? (★☆☆)"
   ]
  },
  {
   "cell_type": "markdown",
   "metadata": {},
   "source": [
    "```python\n",
    "np.sqrt(-1) == np.emath.sqrt(-1)\n",
    "```"
   ]
  },
  {
   "cell_type": "code",
   "execution_count": 349,
   "metadata": {
    "ExecuteTime": {
     "end_time": "2020-12-07T17:27:16.246377Z",
     "start_time": "2020-12-07T17:27:16.233931Z"
    }
   },
   "outputs": [
    {
     "name": "stdout",
     "output_type": "stream",
     "text": [
      "1j\n",
      "nan\n",
      "If the above expressions are equal to one another:  False\n"
     ]
    },
    {
     "name": "stderr",
     "output_type": "stream",
     "text": [
      "<ipython-input-349-62a0698ea7cc>:2: RuntimeWarning: invalid value encountered in sqrt\n",
      "  print(np.sqrt(-1))          # But without the emath it doesn't.\n",
      "<ipython-input-349-62a0698ea7cc>:4: RuntimeWarning: invalid value encountered in sqrt\n",
      "  print(\"If the above expressions are equal to one another: \", np.sqrt(-1) == np.emath.sqrt(-1))\n"
     ]
    }
   ],
   "source": [
    "print(np.emath.sqrt(-1))    # It seems the emath recognizes imaginary numbers.\n",
    "print(np.sqrt(-1))          # But without the emath it doesn't.\n",
    "\n",
    "print(\"If the above expressions are equal to one another: \", np.sqrt(-1) == np.emath.sqrt(-1))"
   ]
  },
  {
   "cell_type": "markdown",
   "metadata": {},
   "source": [
    "#### 33. How to get the dates of yesterday, today and tomorrow? (★☆☆)"
   ]
  },
  {
   "cell_type": "code",
   "execution_count": 360,
   "metadata": {
    "ExecuteTime": {
     "end_time": "2020-12-07T17:38:10.237907Z",
     "start_time": "2020-12-07T17:38:10.229356Z"
    }
   },
   "outputs": [
    {
     "name": "stdout",
     "output_type": "stream",
     "text": [
      "Today is:  2020-12-07\n",
      "Tomorrow is:  2020-12-08\n",
      "Yesterday was:  2020-12-06\n"
     ]
    }
   ],
   "source": [
    "today = np.datetime64('today', 'D')\n",
    "print(\"Today is: \", today)\n",
    "\n",
    "tomorrow = np.datetime64('today', 'D') + np.timedelta64(1, 'D')\n",
    "print(\"Tomorrow is: \", tomorrow)\n",
    "\n",
    "yesterday = np.datetime64('today', 'D') - np.timedelta64(1, 'D')\n",
    "print(\"Yesterday was: \", yesterday)"
   ]
  },
  {
   "cell_type": "markdown",
   "metadata": {},
   "source": [
    "#### 34. How to get all the dates corresponding to the month of July 2016? (★★☆)"
   ]
  },
  {
   "cell_type": "code",
   "execution_count": 373,
   "metadata": {
    "ExecuteTime": {
     "end_time": "2020-12-07T21:36:58.101048Z",
     "start_time": "2020-12-07T21:36:58.096565Z"
    }
   },
   "outputs": [
    {
     "name": "stdout",
     "output_type": "stream",
     "text": [
      "['2016-07-01' '2016-07-02' '2016-07-03' '2016-07-04' '2016-07-05'\n",
      " '2016-07-06' '2016-07-07' '2016-07-08' '2016-07-09' '2016-07-10'\n",
      " '2016-07-11' '2016-07-12' '2016-07-13' '2016-07-14' '2016-07-15'\n",
      " '2016-07-16' '2016-07-17' '2016-07-18' '2016-07-19' '2016-07-20'\n",
      " '2016-07-21' '2016-07-22' '2016-07-23' '2016-07-24' '2016-07-25'\n",
      " '2016-07-26' '2016-07-27' '2016-07-28' '2016-07-29' '2016-07-30'\n",
      " '2016-07-31']\n"
     ]
    }
   ],
   "source": [
    "all_dates = np.arange('2016-07', '2016-08', dtype='datetime64[D]')\n",
    "print(all_dates)"
   ]
  },
  {
   "cell_type": "markdown",
   "metadata": {},
   "source": [
    "#### 35. How to compute ((A+B)\\*(-A/2)) in place (without copy)? (★★☆)"
   ]
  },
  {
   "cell_type": "code",
   "execution_count": 390,
   "metadata": {
    "ExecuteTime": {
     "end_time": "2020-12-07T21:46:28.370030Z",
     "start_time": "2020-12-07T21:46:28.359912Z"
    }
   },
   "outputs": [
    {
     "name": "stdout",
     "output_type": "stream",
     "text": [
      "A + B =\n",
      " [[0.59133877 0.70457218 0.75068211 1.11654479 0.68920183 1.01504609\n",
      "  0.59810458 1.66451928 0.13503267 1.15696806]\n",
      " [0.51473021 1.52712583 0.8929081  1.09737425 0.16931787 1.69657534\n",
      "  1.76419839 1.01187732 0.67313075 0.23982998]\n",
      " [1.45562783 1.38190011 1.78228061 1.38272943 0.8845624  0.86567019\n",
      "  0.62149222 0.6283907  1.47175421 0.46970083]\n",
      " [0.52135258 1.08642288 0.48937412 0.03790749 1.94333771 1.77921893\n",
      "  1.20949122 1.79918905 1.27524879 0.94655139]\n",
      " [0.44254044 1.32812688 0.73679303 1.63795853 0.69787099 1.53953\n",
      "  0.96016757 0.74482745 0.87057743 0.65704936]\n",
      " [0.74882339 0.88795343 0.57971661 1.53937358 1.33663057 0.80237686\n",
      "  1.01218017 1.63029451 0.27341905 0.20425935]\n",
      " [1.00974027 1.43443958 0.80868039 1.23665153 0.387323   1.95587455\n",
      "  0.52583793 0.67783132 1.12342124 0.96898698]\n",
      " [0.99903368 1.12757188 1.096305   0.43425378 0.94318065 0.62427429\n",
      "  0.75922551 0.98251266 1.2027197  1.85257155]\n",
      " [0.82935649 1.62902224 1.51149198 1.05722912 1.10095111 1.28740577\n",
      "  0.676131   0.98253956 0.34589206 1.51260763]\n",
      " [1.11794939 1.26511691 1.18312586 0.74252571 0.85673556 1.16075997\n",
      "  0.67662934 0.40506673 1.18310568 1.41214951]] \n",
      "\n",
      "-A / 2 =\n",
      " [[-0.15624922 -0.21884356 -0.3167685  -0.16728627 -0.13921734 -0.15920806\n",
      "  -0.29714736 -0.40278145 -0.02090176 -0.45919654]\n",
      " [-0.22174874 -0.33753152 -0.41534007 -0.19122258 -0.03670608 -0.36756704\n",
      "  -0.39223847 -0.05521766 -0.26803426 -0.08656541]\n",
      " [-0.23728896 -0.49302088 -0.4801981  -0.33139784 -0.00515761 -0.06008924\n",
      "  -0.04259877 -0.25971802 -0.4013304  -0.18392913]\n",
      " [-0.11213208 -0.1996034  -0.06735095 -0.00847579 -0.47684139 -0.46965881\n",
      "  -0.34712594 -0.43987089 -0.25942512 -0.24296831]\n",
      " [-0.11173793 -0.21842007 -0.12143693 -0.49770083 -0.25312568 -0.49458592\n",
      "  -0.12191965 -0.13084294 -0.26801477 -0.20285055]\n",
      " [-0.02332289 -0.02229387 -0.05948802 -0.46411682 -0.28526285 -0.07296492\n",
      "  -0.2467744  -0.4621626  -0.09075778 -0.0286509 ]\n",
      " [-0.08447512 -0.31057139 -0.4024264  -0.2463733  -0.02805222 -0.49699394\n",
      "  -0.2042367  -0.20650935 -0.28532872 -0.08629389]\n",
      " [-0.42731954 -0.35910066 -0.36362525 -0.02736797 -0.27108817 -0.12589618\n",
      "  -0.03772777 -0.25408278 -0.4699208  -0.45125278]\n",
      " [-0.10105536 -0.37640552 -0.44505434 -0.31968829 -0.23231536 -0.48484612\n",
      "  -0.06360177 -0.48171458 -0.16827858 -0.40978444]\n",
      " [-0.3753725  -0.44901356 -0.33730924 -0.1140083  -0.05793889 -0.37819403\n",
      "  -0.17482989 -0.06088471 -0.48085991 -0.24758867]] \n",
      "\n",
      "((A+B)*(-A/2)) =\n",
      " [[-9.23962233e-02 -1.54191083e-01 -2.37792443e-01 -1.86782619e-01\n",
      "  -9.59488475e-02 -1.61603514e-01 -1.77725196e-01 -6.70437482e-01\n",
      "  -2.82241987e-03 -5.31275728e-01]\n",
      " [-1.14140778e-01 -5.15453108e-01 -3.70860511e-01 -2.09842734e-01\n",
      "  -6.21499516e-03 -6.23605171e-01 -6.91986471e-01 -5.58734984e-02\n",
      "  -1.80422103e-01 -2.07609801e-02]\n",
      " [-3.45404415e-01 -6.81305612e-01 -8.55847757e-01 -4.58233546e-01\n",
      "  -4.56223174e-03 -5.20174639e-02 -2.64748024e-02 -1.63204390e-01\n",
      "  -5.90659707e-01 -8.63916630e-02]\n",
      " [-5.84603518e-02 -2.16853697e-01 -3.29598120e-02 -3.21295876e-04\n",
      "  -9.26663863e-01 -8.35625842e-01 -4.19845777e-01 -7.91410893e-01\n",
      "  -3.30831572e-01 -2.29981993e-01]\n",
      " [-4.94485541e-02 -2.90089560e-01 -8.94738842e-02 -8.15213318e-01\n",
      "  -1.76649069e-01 -7.61429863e-01 -1.17063297e-01 -9.74554129e-02\n",
      "  -2.33327611e-01 -1.33282821e-01]\n",
      " [-1.74647251e-02 -1.97959208e-02 -3.44861908e-02 -7.14449165e-01\n",
      "  -3.81291041e-01 -5.85453662e-02 -2.49780157e-01 -7.53461149e-01\n",
      "  -2.48149049e-02 -5.85221379e-03]\n",
      " [-8.52979333e-02 -4.45495891e-01 -3.25434334e-01 -3.04677923e-01\n",
      "  -1.08652718e-02 -9.72057800e-01 -1.07395403e-01 -1.39978506e-01\n",
      "  -3.20544345e-01 -8.36176543e-02]\n",
      " [-4.26906611e-01 -4.04911808e-01 -3.98644177e-01 -1.18846447e-02\n",
      "  -2.55685120e-01 -7.85937482e-02 -2.86438844e-02 -2.49639543e-01\n",
      "  -5.65183000e-01 -8.35978056e-01]\n",
      " [-8.38109159e-02 -6.13172957e-01 -6.72696074e-01 -3.37983768e-01\n",
      "  -2.55767851e-01 -6.24193696e-01 -4.30031272e-02 -4.73303628e-01\n",
      "  -5.82062234e-02 -6.19843079e-01]\n",
      " [-4.19647453e-01 -5.68054648e-01 -3.99079291e-01 -8.46540920e-02\n",
      "  -4.96383096e-02 -4.38992485e-01 -1.18295032e-01 -2.46623708e-02\n",
      "  -5.68908089e-01 -3.49632215e-01]]\n"
     ]
    }
   ],
   "source": [
    "A = random.random((10,10))\n",
    "B = random.random((10,10))\n",
    "\n",
    "matrix24 = np.add(A, B, out=B)\n",
    "print(\"A + B =\\n\", matrix24, \"\\n\")\n",
    "\n",
    "matrix25 = (np.negative(A))/2\n",
    "print(\"-A / 2 =\\n\", matrix25, \"\\n\")\n",
    "\n",
    "matrix26 = matrix24*matrix25\n",
    "print(\"((A+B)*(-A/2)) =\\n\", matrix26)"
   ]
  },
  {
   "cell_type": "markdown",
   "metadata": {},
   "source": [
    "#### 36. Extract the integer part of a random array using 5 different methods (★★☆)"
   ]
  },
  {
   "cell_type": "code",
   "execution_count": 405,
   "metadata": {
    "ExecuteTime": {
     "end_time": "2020-12-07T22:47:55.640115Z",
     "start_time": "2020-12-07T22:47:55.597969Z"
    }
   },
   "outputs": [
    {
     "name": "stdout",
     "output_type": "stream",
     "text": [
      "Random matrix:\n",
      " [[0.79192935 0.0925157  0.65003664 0.73136445 0.42836414 0.13195324\n",
      "  0.7662011  0.22640014 0.86242992 0.24353654]\n",
      " [0.58919122 0.85838769 0.31926491 0.24495819 0.48235292 0.63314176\n",
      "  0.69400818 0.99555668 0.23200829 0.86060516]\n",
      " [0.72882103 0.18154249 0.85556898 0.21837689 0.37874183 0.75706239\n",
      "  0.58026568 0.73371295 0.18050091 0.73676751]\n",
      " [0.6751667  0.63703032 0.02208513 0.77945508 0.70248164 0.86008611\n",
      "  0.95598601 0.37309636 0.33184022 0.48209124]\n",
      " [0.43165774 0.37702217 0.91293547 0.81900779 0.2541944  0.11225205\n",
      "  0.28152258 0.7595292  0.04955938 0.5916099 ]\n",
      " [0.43565529 0.96570011 0.36117604 0.76781937 0.89103672 0.31101415\n",
      "  0.60180665 0.98550324 0.03657133 0.21715874]\n",
      " [0.1797163  0.05403254 0.23148182 0.65570419 0.66768432 0.60468644\n",
      "  0.72371993 0.32288187 0.68625271 0.35257821]\n",
      " [0.8249484  0.6951928  0.84421474 0.42556964 0.38217243 0.15354658\n",
      "  0.03650977 0.23764915 0.5499952  0.35205732]\n",
      " [0.31246247 0.22508593 0.96330873 0.16795219 0.15307886 0.35855408\n",
      "  0.42765096 0.16889975 0.4752113  0.71911402]\n",
      " [0.68740909 0.8028175  0.02061638 0.60160418 0.26209004 0.53234925\n",
      "  0.79138617 0.5408757  0.21861669 0.9474786 ]] \n",
      "\n",
      "Floor division:\n",
      " [[0. 0. 0. 0. 0. 0. 0. 0. 0. 0.]\n",
      " [0. 0. 0. 0. 0. 0. 0. 0. 0. 0.]\n",
      " [0. 0. 0. 0. 0. 0. 0. 0. 0. 0.]\n",
      " [0. 0. 0. 0. 0. 0. 0. 0. 0. 0.]\n",
      " [0. 0. 0. 0. 0. 0. 0. 0. 0. 0.]\n",
      " [0. 0. 0. 0. 0. 0. 0. 0. 0. 0.]\n",
      " [0. 0. 0. 0. 0. 0. 0. 0. 0. 0.]\n",
      " [0. 0. 0. 0. 0. 0. 0. 0. 0. 0.]\n",
      " [0. 0. 0. 0. 0. 0. 0. 0. 0. 0.]\n",
      " [0. 0. 0. 0. 0. 0. 0. 0. 0. 0.]] \n",
      "\n",
      "Ceiling division:\n",
      " [[0. 0. 0. 0. 0. 0. 0. 0. 0. 0.]\n",
      " [0. 0. 0. 0. 0. 0. 0. 0. 0. 0.]\n",
      " [0. 0. 0. 0. 0. 0. 0. 0. 0. 0.]\n",
      " [0. 0. 0. 0. 0. 0. 0. 0. 0. 0.]\n",
      " [0. 0. 0. 0. 0. 0. 0. 0. 0. 0.]\n",
      " [0. 0. 0. 0. 0. 0. 0. 0. 0. 0.]\n",
      " [0. 0. 0. 0. 0. 0. 0. 0. 0. 0.]\n",
      " [0. 0. 0. 0. 0. 0. 0. 0. 0. 0.]\n",
      " [0. 0. 0. 0. 0. 0. 0. 0. 0. 0.]\n",
      " [0. 0. 0. 0. 0. 0. 0. 0. 0. 0.]] \n",
      "\n",
      "Truncated value of matrix:\n",
      " [[0. 0. 0. 0. 0. 0. 0. 0. 0. 0.]\n",
      " [0. 0. 0. 0. 0. 0. 0. 0. 0. 0.]\n",
      " [0. 0. 0. 0. 0. 0. 0. 0. 0. 0.]\n",
      " [0. 0. 0. 0. 0. 0. 0. 0. 0. 0.]\n",
      " [0. 0. 0. 0. 0. 0. 0. 0. 0. 0.]\n",
      " [0. 0. 0. 0. 0. 0. 0. 0. 0. 0.]\n",
      " [0. 0. 0. 0. 0. 0. 0. 0. 0. 0.]\n",
      " [0. 0. 0. 0. 0. 0. 0. 0. 0. 0.]\n",
      " [0. 0. 0. 0. 0. 0. 0. 0. 0. 0.]\n",
      " [0. 0. 0. 0. 0. 0. 0. 0. 0. 0.]] \n",
      "\n",
      "As integer type:\n",
      " [[0 0 0 0 0 0 0 0 0 0]\n",
      " [0 0 0 0 0 0 0 0 0 0]\n",
      " [0 0 0 0 0 0 0 0 0 0]\n",
      " [0 0 0 0 0 0 0 0 0 0]\n",
      " [0 0 0 0 0 0 0 0 0 0]\n",
      " [0 0 0 0 0 0 0 0 0 0]\n",
      " [0 0 0 0 0 0 0 0 0 0]\n",
      " [0 0 0 0 0 0 0 0 0 0]\n",
      " [0 0 0 0 0 0 0 0 0 0]\n",
      " [0 0 0 0 0 0 0 0 0 0]] \n",
      "\n",
      "Matrix minus matrix modulo 1:\n",
      " [[0. 0. 0. 0. 0. 0. 0. 0. 0. 0.]\n",
      " [0. 0. 0. 0. 0. 0. 0. 0. 0. 0.]\n",
      " [0. 0. 0. 0. 0. 0. 0. 0. 0. 0.]\n",
      " [0. 0. 0. 0. 0. 0. 0. 0. 0. 0.]\n",
      " [0. 0. 0. 0. 0. 0. 0. 0. 0. 0.]\n",
      " [0. 0. 0. 0. 0. 0. 0. 0. 0. 0.]\n",
      " [0. 0. 0. 0. 0. 0. 0. 0. 0. 0.]\n",
      " [0. 0. 0. 0. 0. 0. 0. 0. 0. 0.]\n",
      " [0. 0. 0. 0. 0. 0. 0. 0. 0. 0.]\n",
      " [0. 0. 0. 0. 0. 0. 0. 0. 0. 0.]]\n"
     ]
    }
   ],
   "source": [
    "matrix27 = random.random((10,10))\n",
    "print(\"Random matrix:\\n\", matrix27, \"\\n\")\n",
    "\n",
    "print(\"Floor division:\\n\", np.floor(matrix27), \"\\n\")\n",
    "print(\"Ceiling division:\\n\", np.ceil(matrix27)-1, \"\\n\")\n",
    "print(\"Truncated value of matrix:\\n\", np.trunc(matrix27), \"\\n\")\n",
    "print(\"As integer type:\\n\", matrix27.astype(int), \"\\n\")\n",
    "print(\"Matrix minus matrix modulo 1:\\n\", matrix27 - matrix27%1)"
   ]
  },
  {
   "cell_type": "markdown",
   "metadata": {},
   "source": [
    "#### 37. Create a 5x5 matrix with row values ranging from 0 to 4 (★★☆)"
   ]
  },
  {
   "cell_type": "code",
   "execution_count": null,
   "metadata": {},
   "outputs": [],
   "source": []
  },
  {
   "cell_type": "markdown",
   "metadata": {},
   "source": [
    "#### 38. Consider a generator function that generates 10 integers and use it to build an array (★☆☆)"
   ]
  },
  {
   "cell_type": "code",
   "execution_count": null,
   "metadata": {},
   "outputs": [],
   "source": []
  },
  {
   "cell_type": "markdown",
   "metadata": {},
   "source": [
    "#### 39. Create a vector of size 10 with values ranging from 0 to 1, both excluded (★★☆)"
   ]
  },
  {
   "cell_type": "code",
   "execution_count": null,
   "metadata": {},
   "outputs": [],
   "source": []
  },
  {
   "cell_type": "markdown",
   "metadata": {},
   "source": [
    "#### 40. Create a random vector of size 10 and sort it (★★☆)"
   ]
  },
  {
   "cell_type": "code",
   "execution_count": null,
   "metadata": {},
   "outputs": [],
   "source": []
  },
  {
   "cell_type": "markdown",
   "metadata": {},
   "source": [
    "#### 41. How to sum a small array faster than np.sum? (★★☆)"
   ]
  },
  {
   "cell_type": "code",
   "execution_count": null,
   "metadata": {},
   "outputs": [],
   "source": []
  },
  {
   "cell_type": "markdown",
   "metadata": {},
   "source": [
    "#### 42. Consider two random array A and B, check if they are equal (★★☆)"
   ]
  },
  {
   "cell_type": "code",
   "execution_count": null,
   "metadata": {},
   "outputs": [],
   "source": []
  },
  {
   "cell_type": "markdown",
   "metadata": {},
   "source": [
    "#### 43. Make an array immutable (read-only) (★★☆)"
   ]
  },
  {
   "cell_type": "code",
   "execution_count": null,
   "metadata": {},
   "outputs": [],
   "source": []
  },
  {
   "cell_type": "markdown",
   "metadata": {},
   "source": [
    "#### 44. Consider a random 10x2 matrix representing cartesian coordinates, convert them to polar coordinates (★★☆)"
   ]
  },
  {
   "cell_type": "code",
   "execution_count": null,
   "metadata": {},
   "outputs": [],
   "source": []
  },
  {
   "cell_type": "markdown",
   "metadata": {},
   "source": [
    "#### 45. Create random vector of size 10 and replace the maximum value by 0 (★★☆)"
   ]
  },
  {
   "cell_type": "code",
   "execution_count": null,
   "metadata": {},
   "outputs": [],
   "source": []
  },
  {
   "cell_type": "markdown",
   "metadata": {},
   "source": [
    "#### 46. Create a structured array with `x` and `y` coordinates covering the \\[0,1\\]x\\[0,1\\] area (★★☆)"
   ]
  },
  {
   "cell_type": "code",
   "execution_count": null,
   "metadata": {},
   "outputs": [],
   "source": []
  },
  {
   "cell_type": "markdown",
   "metadata": {},
   "source": [
    "####  47. Given two arrays, X and Y, construct the Cauchy matrix C (Cij =1/(xi - yj))"
   ]
  },
  {
   "cell_type": "code",
   "execution_count": null,
   "metadata": {},
   "outputs": [],
   "source": []
  },
  {
   "cell_type": "markdown",
   "metadata": {},
   "source": [
    "#### 48. Print the minimum and maximum representable value for each numpy scalar type (★★☆)"
   ]
  },
  {
   "cell_type": "code",
   "execution_count": null,
   "metadata": {},
   "outputs": [],
   "source": []
  },
  {
   "cell_type": "markdown",
   "metadata": {},
   "source": [
    "#### 49. How to print all the values of an array? (★★☆)"
   ]
  },
  {
   "cell_type": "code",
   "execution_count": null,
   "metadata": {},
   "outputs": [],
   "source": []
  },
  {
   "cell_type": "markdown",
   "metadata": {},
   "source": [
    "#### 50. How to find the closest value (to a given scalar) in a vector? (★★☆)"
   ]
  },
  {
   "cell_type": "code",
   "execution_count": null,
   "metadata": {},
   "outputs": [],
   "source": []
  },
  {
   "cell_type": "markdown",
   "metadata": {},
   "source": [
    "#### 51. Create a structured array representing a position (x,y) and a color (r,g,b) (★★☆)"
   ]
  },
  {
   "cell_type": "code",
   "execution_count": null,
   "metadata": {},
   "outputs": [],
   "source": []
  },
  {
   "cell_type": "markdown",
   "metadata": {},
   "source": [
    "#### 52. Consider a random vector with shape (100,2) representing coordinates, find point by point distances (★★☆)"
   ]
  },
  {
   "cell_type": "code",
   "execution_count": null,
   "metadata": {},
   "outputs": [],
   "source": []
  },
  {
   "cell_type": "markdown",
   "metadata": {},
   "source": [
    "#### 53. How to convert a float (32 bits) array into an integer (32 bits) in place?"
   ]
  },
  {
   "cell_type": "code",
   "execution_count": null,
   "metadata": {},
   "outputs": [],
   "source": []
  },
  {
   "cell_type": "markdown",
   "metadata": {},
   "source": [
    "#### 54. How to read the following file? (★★☆)"
   ]
  },
  {
   "cell_type": "markdown",
   "metadata": {},
   "source": [
    "```\n",
    "1, 2, 3, 4, 5\n",
    "6,  ,  , 7, 8\n",
    " ,  , 9,10,11\n",
    "```"
   ]
  },
  {
   "cell_type": "code",
   "execution_count": null,
   "metadata": {},
   "outputs": [],
   "source": []
  },
  {
   "cell_type": "markdown",
   "metadata": {},
   "source": [
    "#### 55. What is the equivalent of enumerate for numpy arrays? (★★☆)"
   ]
  },
  {
   "cell_type": "code",
   "execution_count": null,
   "metadata": {},
   "outputs": [],
   "source": []
  },
  {
   "cell_type": "markdown",
   "metadata": {},
   "source": [
    "#### 56. Generate a generic 2D Gaussian-like array (★★☆)"
   ]
  },
  {
   "cell_type": "code",
   "execution_count": null,
   "metadata": {},
   "outputs": [],
   "source": []
  },
  {
   "cell_type": "markdown",
   "metadata": {},
   "source": [
    "#### 57. How to randomly place p elements in a 2D array? (★★☆)"
   ]
  },
  {
   "cell_type": "code",
   "execution_count": null,
   "metadata": {},
   "outputs": [],
   "source": []
  },
  {
   "cell_type": "markdown",
   "metadata": {},
   "source": [
    "#### 58. Subtract the mean of each row of a matrix (★★☆)"
   ]
  },
  {
   "cell_type": "code",
   "execution_count": null,
   "metadata": {},
   "outputs": [],
   "source": []
  },
  {
   "cell_type": "markdown",
   "metadata": {},
   "source": [
    "#### 59. How to sort an array by the nth column? (★★☆)"
   ]
  },
  {
   "cell_type": "code",
   "execution_count": null,
   "metadata": {},
   "outputs": [],
   "source": []
  },
  {
   "cell_type": "markdown",
   "metadata": {},
   "source": [
    "#### 60. How to tell if a given 2D array has null columns? (★★☆)"
   ]
  },
  {
   "cell_type": "code",
   "execution_count": null,
   "metadata": {},
   "outputs": [],
   "source": []
  },
  {
   "cell_type": "markdown",
   "metadata": {},
   "source": [
    "#### 61. Find the nearest value from a given value in an array (★★☆)"
   ]
  },
  {
   "cell_type": "code",
   "execution_count": null,
   "metadata": {},
   "outputs": [],
   "source": []
  },
  {
   "cell_type": "markdown",
   "metadata": {},
   "source": [
    "#### 62. Considering two arrays with shape (1,3) and (3,1), how to compute their sum using an iterator? (★★☆)"
   ]
  },
  {
   "cell_type": "code",
   "execution_count": null,
   "metadata": {},
   "outputs": [],
   "source": []
  },
  {
   "cell_type": "markdown",
   "metadata": {},
   "source": [
    "#### 63. Create an array class that has a name attribute (★★☆)"
   ]
  },
  {
   "cell_type": "code",
   "execution_count": null,
   "metadata": {},
   "outputs": [],
   "source": []
  },
  {
   "cell_type": "markdown",
   "metadata": {},
   "source": [
    "#### 64. Consider a given vector, how to add 1 to each element indexed by a second vector (be careful with repeated indices)? (★★★)"
   ]
  },
  {
   "cell_type": "code",
   "execution_count": null,
   "metadata": {},
   "outputs": [],
   "source": []
  },
  {
   "cell_type": "markdown",
   "metadata": {},
   "source": [
    "#### 65. How to accumulate elements of a vector (X) to an array (F) based on an index list (I)? (★★★)"
   ]
  },
  {
   "cell_type": "code",
   "execution_count": null,
   "metadata": {},
   "outputs": [],
   "source": []
  },
  {
   "cell_type": "markdown",
   "metadata": {},
   "source": [
    "#### 66. Considering a (w,h,3) image of (dtype=ubyte), compute the number of unique colors (★★★)"
   ]
  },
  {
   "cell_type": "code",
   "execution_count": null,
   "metadata": {},
   "outputs": [],
   "source": []
  },
  {
   "cell_type": "markdown",
   "metadata": {},
   "source": [
    "#### 67. Considering a four dimensions array, how to get sum over the last two axis at once? (★★★)"
   ]
  },
  {
   "cell_type": "code",
   "execution_count": null,
   "metadata": {},
   "outputs": [],
   "source": []
  },
  {
   "cell_type": "markdown",
   "metadata": {},
   "source": [
    "#### 68. Considering a one-dimensional vector D, how to compute means of subsets of D using a vector S of same size describing subset  indices? (★★★)"
   ]
  },
  {
   "cell_type": "code",
   "execution_count": null,
   "metadata": {},
   "outputs": [],
   "source": []
  },
  {
   "cell_type": "markdown",
   "metadata": {},
   "source": [
    "#### 69. How to get the diagonal of a dot product? (★★★)"
   ]
  },
  {
   "cell_type": "code",
   "execution_count": null,
   "metadata": {},
   "outputs": [],
   "source": []
  },
  {
   "cell_type": "markdown",
   "metadata": {},
   "source": [
    "#### 70. Consider the vector \\[1, 2, 3, 4, 5\\], how to build a new vector with 3 consecutive zeros interleaved between each value? (★★★)"
   ]
  },
  {
   "cell_type": "code",
   "execution_count": null,
   "metadata": {},
   "outputs": [],
   "source": []
  },
  {
   "cell_type": "markdown",
   "metadata": {},
   "source": [
    "#### 71. Consider an array of dimension (5,5,3), how to mulitply it by an array with dimensions (5,5)? (★★★)"
   ]
  },
  {
   "cell_type": "code",
   "execution_count": null,
   "metadata": {
    "collapsed": true
   },
   "outputs": [],
   "source": []
  },
  {
   "cell_type": "markdown",
   "metadata": {},
   "source": [
    "#### 72. How to swap two rows of an array? (★★★)"
   ]
  },
  {
   "cell_type": "code",
   "execution_count": null,
   "metadata": {},
   "outputs": [],
   "source": []
  },
  {
   "cell_type": "markdown",
   "metadata": {},
   "source": [
    "#### 73. Consider a set of 10 triplets describing 10 triangles (with shared vertices), find the set of unique line segments composing all the  triangles (★★★)"
   ]
  },
  {
   "cell_type": "code",
   "execution_count": null,
   "metadata": {},
   "outputs": [],
   "source": []
  },
  {
   "cell_type": "markdown",
   "metadata": {},
   "source": [
    "#### 74. Given an array C that is a bincount, how to produce an array A such that np.bincount(A) == C? (★★★)"
   ]
  },
  {
   "cell_type": "code",
   "execution_count": null,
   "metadata": {},
   "outputs": [],
   "source": []
  },
  {
   "cell_type": "markdown",
   "metadata": {},
   "source": [
    "#### 75. How to compute averages using a sliding window over an array? (★★★)"
   ]
  },
  {
   "cell_type": "code",
   "execution_count": null,
   "metadata": {},
   "outputs": [],
   "source": []
  },
  {
   "cell_type": "markdown",
   "metadata": {},
   "source": [
    "#### 76. Consider a one-dimensional array Z, build a two-dimensional array whose first row is (Z\\[0\\],Z\\[1\\],Z\\[2\\]) and each subsequent row is  shifted by 1 (last row should be (Z\\[-3\\],Z\\[-2\\],Z\\[-1\\]) (★★★)"
   ]
  },
  {
   "cell_type": "code",
   "execution_count": null,
   "metadata": {},
   "outputs": [],
   "source": []
  },
  {
   "cell_type": "markdown",
   "metadata": {},
   "source": [
    "#### 77. How to negate a boolean, or to change the sign of a float inplace? (★★★)"
   ]
  },
  {
   "cell_type": "code",
   "execution_count": null,
   "metadata": {},
   "outputs": [],
   "source": []
  },
  {
   "cell_type": "markdown",
   "metadata": {},
   "source": [
    "#### 78. Consider 2 sets of points P0,P1 describing lines (2d) and a point p, how to compute distance from p to each line i  (P0\\[i\\],P1\\[i\\])? (★★★)"
   ]
  },
  {
   "cell_type": "code",
   "execution_count": null,
   "metadata": {},
   "outputs": [],
   "source": []
  },
  {
   "cell_type": "markdown",
   "metadata": {},
   "source": [
    "#### 79. Consider 2 sets of points P0,P1 describing lines (2d) and a set of points P, how to compute distance from each point j (P\\[j\\]) to each line i (P0\\[i\\],P1\\[i\\])? (★★★)"
   ]
  },
  {
   "cell_type": "code",
   "execution_count": null,
   "metadata": {},
   "outputs": [],
   "source": []
  },
  {
   "cell_type": "markdown",
   "metadata": {},
   "source": [
    "#### 80. Consider an arbitrary array, write a function that extract a subpart with a fixed shape and centered on a given element (pad with a `fill` value when necessary) (★★★)"
   ]
  },
  {
   "cell_type": "code",
   "execution_count": null,
   "metadata": {},
   "outputs": [],
   "source": []
  },
  {
   "cell_type": "markdown",
   "metadata": {},
   "source": [
    "#### 81. Consider an array Z = \\[1,2,3,4,5,6,7,8,9,10,11,12,13,14\\], how to generate an array R = \\[\\[1,2,3,4\\], \\[2,3,4,5\\], \\[3,4,5,6\\], ..., \\[11,12,13,14\\]\\]? (★★★)"
   ]
  },
  {
   "cell_type": "code",
   "execution_count": null,
   "metadata": {},
   "outputs": [],
   "source": []
  },
  {
   "cell_type": "markdown",
   "metadata": {},
   "source": [
    "#### 82. Compute a matrix rank (★★★)"
   ]
  },
  {
   "cell_type": "code",
   "execution_count": null,
   "metadata": {},
   "outputs": [],
   "source": []
  },
  {
   "cell_type": "markdown",
   "metadata": {},
   "source": [
    "#### 83. How to find the most frequent value in an array?"
   ]
  },
  {
   "cell_type": "code",
   "execution_count": null,
   "metadata": {},
   "outputs": [],
   "source": []
  },
  {
   "cell_type": "markdown",
   "metadata": {},
   "source": [
    "#### 84. Extract all the contiguous 3x3 blocks from a random 10x10 matrix (★★★)"
   ]
  },
  {
   "cell_type": "code",
   "execution_count": null,
   "metadata": {},
   "outputs": [],
   "source": []
  },
  {
   "cell_type": "markdown",
   "metadata": {},
   "source": [
    "#### 85. Create a 2D array subclass such that Z\\[i,j\\] == Z\\[j,i\\] (★★★)"
   ]
  },
  {
   "cell_type": "code",
   "execution_count": null,
   "metadata": {},
   "outputs": [],
   "source": []
  },
  {
   "cell_type": "markdown",
   "metadata": {},
   "source": [
    "#### 86. Consider a set of p matrices wich shape (n,n) and a set of p vectors with shape (n,1). How to compute the sum of of the p matrix products at once? (result has shape (n,1)) (★★★)"
   ]
  },
  {
   "cell_type": "code",
   "execution_count": null,
   "metadata": {},
   "outputs": [],
   "source": []
  },
  {
   "cell_type": "markdown",
   "metadata": {},
   "source": [
    "#### 87. Consider a 16x16 array, how to get the block-sum (block size is 4x4)? (★★★)"
   ]
  },
  {
   "cell_type": "code",
   "execution_count": null,
   "metadata": {},
   "outputs": [],
   "source": []
  },
  {
   "cell_type": "markdown",
   "metadata": {},
   "source": [
    "#### 88. How to implement the Game of Life using numpy arrays? (★★★)"
   ]
  },
  {
   "cell_type": "code",
   "execution_count": null,
   "metadata": {},
   "outputs": [],
   "source": []
  },
  {
   "cell_type": "markdown",
   "metadata": {},
   "source": [
    "#### 89. How to get the n largest values of an array (★★★)"
   ]
  },
  {
   "cell_type": "code",
   "execution_count": null,
   "metadata": {},
   "outputs": [],
   "source": []
  },
  {
   "cell_type": "markdown",
   "metadata": {},
   "source": [
    "#### 90. Given an arbitrary number of vectors, build the cartesian product (every combinations of every item) (★★★)"
   ]
  },
  {
   "cell_type": "code",
   "execution_count": null,
   "metadata": {
    "scrolled": true
   },
   "outputs": [],
   "source": []
  },
  {
   "cell_type": "markdown",
   "metadata": {},
   "source": [
    "#### 91. How to create a record array from a regular array? (★★★)"
   ]
  },
  {
   "cell_type": "code",
   "execution_count": null,
   "metadata": {},
   "outputs": [],
   "source": []
  },
  {
   "cell_type": "markdown",
   "metadata": {},
   "source": [
    "#### 92. Consider a large vector Z, compute Z to the power of 3 using 3 different methods (★★★)"
   ]
  },
  {
   "cell_type": "code",
   "execution_count": null,
   "metadata": {},
   "outputs": [],
   "source": []
  },
  {
   "cell_type": "markdown",
   "metadata": {},
   "source": [
    "#### 93. Consider two arrays A and B of shape (8,3) and (2,2). How to find rows of A that contain elements of each row of B regardless of the order of the elements in B? (★★★)"
   ]
  },
  {
   "cell_type": "code",
   "execution_count": null,
   "metadata": {},
   "outputs": [],
   "source": []
  },
  {
   "cell_type": "markdown",
   "metadata": {},
   "source": [
    "#### 94. Considering a 10x3 matrix, extract rows with unequal values (e.g. \\[2,2,3\\]) (★★★)"
   ]
  },
  {
   "cell_type": "code",
   "execution_count": null,
   "metadata": {},
   "outputs": [],
   "source": []
  },
  {
   "cell_type": "markdown",
   "metadata": {},
   "source": [
    "#### 95. Convert a vector of ints into a matrix binary representation (★★★)"
   ]
  },
  {
   "cell_type": "code",
   "execution_count": null,
   "metadata": {},
   "outputs": [],
   "source": []
  },
  {
   "cell_type": "markdown",
   "metadata": {},
   "source": [
    "#### 96. Given a two dimensional array, how to extract unique rows? (★★★)"
   ]
  },
  {
   "cell_type": "code",
   "execution_count": null,
   "metadata": {},
   "outputs": [],
   "source": []
  },
  {
   "cell_type": "markdown",
   "metadata": {},
   "source": [
    "#### 97. Considering 2 vectors A & B, write the einsum equivalent of inner, outer, sum, and mul function (★★★)"
   ]
  },
  {
   "cell_type": "code",
   "execution_count": null,
   "metadata": {},
   "outputs": [],
   "source": []
  },
  {
   "cell_type": "markdown",
   "metadata": {},
   "source": [
    "#### 98. Considering a path described by two vectors (X,Y), how to sample it using equidistant samples (★★★)?"
   ]
  },
  {
   "cell_type": "code",
   "execution_count": null,
   "metadata": {
    "collapsed": true
   },
   "outputs": [],
   "source": []
  },
  {
   "cell_type": "markdown",
   "metadata": {},
   "source": [
    "#### 99. Given an integer n and a 2D array X, select from X the rows which can be interpreted as draws from a multinomial distribution with n degrees, i.e., the rows which only contain integers and which sum to n. (★★★)"
   ]
  },
  {
   "cell_type": "code",
   "execution_count": null,
   "metadata": {},
   "outputs": [],
   "source": []
  },
  {
   "cell_type": "markdown",
   "metadata": {},
   "source": [
    "#### 100. Compute bootstrapped 95% confidence intervals for the mean of a 1D array X (i.e., resample the elements of an array with replacement N times, compute the mean of each sample, and then compute percentiles over the means). (★★★)"
   ]
  },
  {
   "cell_type": "code",
   "execution_count": null,
   "metadata": {},
   "outputs": [],
   "source": []
  }
 ],
 "metadata": {
  "kernelspec": {
   "display_name": "Python 3",
   "language": "python",
   "name": "python3"
  },
  "language_info": {
   "codemirror_mode": {
    "name": "ipython",
    "version": 3
   },
   "file_extension": ".py",
   "mimetype": "text/x-python",
   "name": "python",
   "nbconvert_exporter": "python",
   "pygments_lexer": "ipython3",
   "version": "3.8.3"
  }
 },
 "nbformat": 4,
 "nbformat_minor": 1
}
