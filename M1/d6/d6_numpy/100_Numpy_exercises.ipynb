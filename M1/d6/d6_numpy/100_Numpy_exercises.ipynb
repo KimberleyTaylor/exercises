{
 "cells": [
  {
   "cell_type": "markdown",
   "metadata": {},
   "source": [
    "# 100 numpy exercises\n",
    "\n",
    "This is a collection of exercises that have been collected in the numpy mailing list, on stack overflow and in the numpy documentation. The goal of this collection is to offer a quick reference for both old and new users but also to provide a set of exercises for those who teach.\n",
    "\n",
    "\n",
    "If you find an error or think you've a better way to solve some of them, feel free to open an issue at <https://github.com/rougier/numpy-100>"
   ]
  },
  {
   "cell_type": "markdown",
   "metadata": {},
   "source": [
    "#### 1. Import the numpy package under the name `np` (★☆☆)"
   ]
  },
  {
   "cell_type": "code",
   "execution_count": 1,
   "metadata": {
    "ExecuteTime": {
     "end_time": "2021-01-01T13:39:26.773337Z",
     "start_time": "2021-01-01T13:39:26.529810Z"
    }
   },
   "outputs": [],
   "source": [
    "import numpy as np"
   ]
  },
  {
   "cell_type": "markdown",
   "metadata": {},
   "source": [
    "#### 2. Print the numpy version and the configuration (★☆☆)"
   ]
  },
  {
   "cell_type": "code",
   "execution_count": 2,
   "metadata": {
    "ExecuteTime": {
     "end_time": "2020-12-07T10:48:26.989883Z",
     "start_time": "2020-12-07T10:48:26.983190Z"
    }
   },
   "outputs": [
    {
     "name": "stdout",
     "output_type": "stream",
     "text": [
      "1.18.5\n"
     ]
    }
   ],
   "source": [
    "print(np.__version__)"
   ]
  },
  {
   "cell_type": "markdown",
   "metadata": {},
   "source": [
    "#### 3. Create a null vector of size 10 (★☆☆)"
   ]
  },
  {
   "cell_type": "code",
   "execution_count": 4,
   "metadata": {
    "ExecuteTime": {
     "end_time": "2020-12-07T10:49:41.639919Z",
     "start_time": "2020-12-07T10:49:41.635916Z"
    }
   },
   "outputs": [
    {
     "name": "stdout",
     "output_type": "stream",
     "text": [
      "[0. 0. 0. 0. 0. 0. 0. 0. 0. 0.]\n"
     ]
    }
   ],
   "source": [
    "null_vector = np.zeros(10)\n",
    "print(null_vector)"
   ]
  },
  {
   "cell_type": "markdown",
   "metadata": {},
   "source": [
    "#### 4.  How to find the memory size of any array (★☆☆)"
   ]
  },
  {
   "cell_type": "code",
   "execution_count": 10,
   "metadata": {
    "ExecuteTime": {
     "end_time": "2020-12-07T10:54:21.503861Z",
     "start_time": "2020-12-07T10:54:21.498399Z"
    }
   },
   "outputs": [
    {
     "name": "stdout",
     "output_type": "stream",
     "text": [
      "Memory size of array x: 24 bytes.\n"
     ]
    }
   ],
   "source": [
    "x = np.array([50, 27, 31])\n",
    "print(\"Memory size of array x: \" + str(x.size * x.itemsize) + \" bytes.\")"
   ]
  },
  {
   "cell_type": "markdown",
   "metadata": {},
   "source": [
    "#### 5.  How to get the documentation of the numpy add function from the command line? (★☆☆)"
   ]
  },
  {
   "cell_type": "code",
   "execution_count": 14,
   "metadata": {
    "ExecuteTime": {
     "end_time": "2020-12-07T10:56:31.027785Z",
     "start_time": "2020-12-07T10:56:31.023990Z"
    }
   },
   "outputs": [
    {
     "name": "stdout",
     "output_type": "stream",
     "text": [
      "add(x1, x2, /, out=None, *, where=True, casting='same_kind', order='K', dtype=None, subok=True[, signature, extobj])\n",
      "\n",
      "Add arguments element-wise.\n",
      "\n",
      "Parameters\n",
      "----------\n",
      "x1, x2 : array_like\n",
      "    The arrays to be added. If ``x1.shape != x2.shape``, they must be broadcastable to a common shape (which becomes the shape of the output).\n",
      "out : ndarray, None, or tuple of ndarray and None, optional\n",
      "    A location into which the result is stored. If provided, it must have\n",
      "    a shape that the inputs broadcast to. If not provided or None,\n",
      "    a freshly-allocated array is returned. A tuple (possible only as a\n",
      "    keyword argument) must have length equal to the number of outputs.\n",
      "where : array_like, optional\n",
      "    This condition is broadcast over the input. At locations where the\n",
      "    condition is True, the `out` array will be set to the ufunc result.\n",
      "    Elsewhere, the `out` array will retain its original value.\n",
      "    Note that if an uninitialized `out` array is created via the default\n",
      "    ``out=None``, locations within it where the condition is False will\n",
      "    remain uninitialized.\n",
      "**kwargs\n",
      "    For other keyword-only arguments, see the\n",
      "    :ref:`ufunc docs <ufuncs.kwargs>`.\n",
      "\n",
      "Returns\n",
      "-------\n",
      "add : ndarray or scalar\n",
      "    The sum of `x1` and `x2`, element-wise.\n",
      "    This is a scalar if both `x1` and `x2` are scalars.\n",
      "\n",
      "Notes\n",
      "-----\n",
      "Equivalent to `x1` + `x2` in terms of array broadcasting.\n",
      "\n",
      "Examples\n",
      "--------\n",
      ">>> np.add(1.0, 4.0)\n",
      "5.0\n",
      ">>> x1 = np.arange(9.0).reshape((3, 3))\n",
      ">>> x2 = np.arange(3.0)\n",
      ">>> np.add(x1, x2)\n",
      "array([[  0.,   2.,   4.],\n",
      "       [  3.,   5.,   7.],\n",
      "       [  6.,   8.,  10.]])\n"
     ]
    }
   ],
   "source": [
    "np.info(np.add)"
   ]
  },
  {
   "cell_type": "markdown",
   "metadata": {},
   "source": [
    "#### 6.  Create a null vector of size 10 but the fifth value which is 1 (★☆☆)"
   ]
  },
  {
   "cell_type": "code",
   "execution_count": 15,
   "metadata": {
    "ExecuteTime": {
     "end_time": "2020-12-07T10:58:21.562763Z",
     "start_time": "2020-12-07T10:58:21.558353Z"
    }
   },
   "outputs": [
    {
     "name": "stdout",
     "output_type": "stream",
     "text": [
      "[0. 0. 0. 0. 1. 0. 0. 0. 0. 0.]\n"
     ]
    }
   ],
   "source": [
    "null_vector2 = np.zeros(10)\n",
    "null_vector2[4] = 1\n",
    "print(null_vector2)"
   ]
  },
  {
   "cell_type": "markdown",
   "metadata": {},
   "source": [
    "#### 7.  Create a vector with values ranging from 10 to 49 (★☆☆)"
   ]
  },
  {
   "cell_type": "code",
   "execution_count": 16,
   "metadata": {
    "ExecuteTime": {
     "end_time": "2020-12-07T10:59:02.831081Z",
     "start_time": "2020-12-07T10:59:02.822258Z"
    }
   },
   "outputs": [
    {
     "name": "stdout",
     "output_type": "stream",
     "text": [
      "[10 11 12 13 14 15 16 17 18 19 20 21 22 23 24 25 26 27 28 29 30 31 32 33\n",
      " 34 35 36 37 38 39 40 41 42 43 44 45 46 47 48 49]\n"
     ]
    }
   ],
   "source": [
    "vector1 = np.arange(10, 50)\n",
    "print(vector1)"
   ]
  },
  {
   "cell_type": "markdown",
   "metadata": {},
   "source": [
    "#### 8.  Reverse a vector (first element becomes last) (★☆☆)"
   ]
  },
  {
   "cell_type": "code",
   "execution_count": 248,
   "metadata": {
    "ExecuteTime": {
     "end_time": "2020-12-07T14:29:49.605271Z",
     "start_time": "2020-12-07T14:29:49.600089Z"
    }
   },
   "outputs": [
    {
     "name": "stdout",
     "output_type": "stream",
     "text": [
      "Vector 1 =\n",
      " [10 11 12 13 14 15 16 17 18 19 20 21 22 23 24 25 26 27 28 29 30 31 32 33\n",
      " 34 35 36 37 38 39 40 41 42 43 44 45 46 47 48 49] \n",
      "\n",
      "Reverse of vector 1 =\n",
      " [49 48 47 46 45 44 43 42 41 40 39 38 37 36 35 34 33 32 31 30 29 28 27 26\n",
      " 25 24 23 22 21 20 19 18 17 16 15 14 13 12 11 10]\n"
     ]
    }
   ],
   "source": [
    "print(\"Vector 1 =\\n\", vector1, \"\\n\")\n",
    "\n",
    "vector2 = vector1[::-1]\n",
    "print(\"Reverse of vector 1 =\\n\", vector2)"
   ]
  },
  {
   "cell_type": "markdown",
   "metadata": {},
   "source": [
    "#### 9.  Create a 3x3 matrix with values ranging from 0 to 8 (★☆☆)"
   ]
  },
  {
   "cell_type": "code",
   "execution_count": 18,
   "metadata": {
    "ExecuteTime": {
     "end_time": "2020-12-07T11:01:49.957611Z",
     "start_time": "2020-12-07T11:01:49.953229Z"
    }
   },
   "outputs": [
    {
     "name": "stdout",
     "output_type": "stream",
     "text": [
      "[[0 1 2]\n",
      " [3 4 5]\n",
      " [6 7 8]]\n"
     ]
    }
   ],
   "source": [
    "matrix1 = np.arange(0, 9).reshape(3, 3)\n",
    "print(matrix1)"
   ]
  },
  {
   "cell_type": "markdown",
   "metadata": {},
   "source": [
    "#### 10. Find indices of non-zero elements from \\[1,2,0,0,4,0\\] (★☆☆)"
   ]
  },
  {
   "cell_type": "code",
   "execution_count": 251,
   "metadata": {
    "ExecuteTime": {
     "end_time": "2020-12-07T14:31:56.366612Z",
     "start_time": "2020-12-07T14:31:56.362413Z"
    }
   },
   "outputs": [
    {
     "name": "stdout",
     "output_type": "stream",
     "text": [
      "The indices of the on-zero elements of vector 3: \n",
      " (array([0, 1, 4]),)\n"
     ]
    }
   ],
   "source": [
    "vector_3 = [1, 2, 0, 0, 4, 0]\n",
    "vector3 = np.nonzero(vector_3)\n",
    "print(\"The indices of the on-zero elements of vector 3: \\n\", vector3)"
   ]
  },
  {
   "cell_type": "markdown",
   "metadata": {},
   "source": [
    "#### 11. Create a 3x3 identity matrix (★☆☆)"
   ]
  },
  {
   "cell_type": "code",
   "execution_count": 253,
   "metadata": {
    "ExecuteTime": {
     "end_time": "2020-12-07T14:34:05.512243Z",
     "start_time": "2020-12-07T14:34:05.501638Z"
    }
   },
   "outputs": [
    {
     "name": "stdout",
     "output_type": "stream",
     "text": [
      "A 3x3 identity matrix is that which the diagonal from top-left to bottom-right are 1 and all others are 0:\n",
      " [[1. 0. 0.]\n",
      " [0. 1. 0.]\n",
      " [0. 0. 1.]]\n"
     ]
    }
   ],
   "source": [
    "matrix2 = np.identity(3)\n",
    "print(\"A 3x3 identity matrix is that which the diagonal from top-left to bottom-right are 1 and all others are 0:\\n\", matrix2)"
   ]
  },
  {
   "cell_type": "markdown",
   "metadata": {},
   "source": [
    "#### 12. Create a 3x3x3 array with random values (★☆☆)"
   ]
  },
  {
   "cell_type": "code",
   "execution_count": 254,
   "metadata": {
    "ExecuteTime": {
     "end_time": "2020-12-07T14:36:15.162468Z",
     "start_time": "2020-12-07T14:36:15.151315Z"
    }
   },
   "outputs": [
    {
     "name": "stdout",
     "output_type": "stream",
     "text": [
      "[[[0.49194749 0.78326262 0.57706198]\n",
      "  [0.1199003  0.7823971  0.89819595]\n",
      "  [0.48000646 0.70262986 0.76114296]]\n",
      "\n",
      " [[0.54409874 0.7355553  0.40557171]\n",
      "  [0.39584791 0.23835855 0.68378877]\n",
      "  [0.70709351 0.44828974 0.43363784]]\n",
      "\n",
      " [[0.86939588 0.57528571 0.9334813 ]\n",
      "  [0.44013913 0.00658766 0.53903242]\n",
      "  [0.71628736 0.92002768 0.35159947]]]\n"
     ]
    }
   ],
   "source": [
    "matrix3 = np.random.random((3, 3, 3))\n",
    "print(matrix3)"
   ]
  },
  {
   "cell_type": "markdown",
   "metadata": {},
   "source": [
    "#### 13. Create a 10x10 array with random values and find the minimum and maximum values (★☆☆)"
   ]
  },
  {
   "cell_type": "code",
   "execution_count": 257,
   "metadata": {
    "ExecuteTime": {
     "end_time": "2020-12-07T14:37:25.503900Z",
     "start_time": "2020-12-07T14:37:25.479986Z"
    }
   },
   "outputs": [
    {
     "name": "stdout",
     "output_type": "stream",
     "text": [
      "10x10 array of random values:\n",
      " [[0.03528819 0.39861819 0.50481756 0.2556616  0.87523948 0.21498478\n",
      "  0.44402534 0.5062926  0.53168099 0.95801092]\n",
      " [0.38916932 0.7466372  0.95278526 0.40495358 0.22700955 0.80754711\n",
      "  0.17038763 0.34367681 0.55135031 0.02266307]\n",
      " [0.8123699  0.35190553 0.48029421 0.95067461 0.54659927 0.08187097\n",
      "  0.16339679 0.17296077 0.38316491 0.4248163 ]\n",
      " [0.75815502 0.60149991 0.81566827 0.88725589 0.30593517 0.89440242\n",
      "  0.42048179 0.43796846 0.01764647 0.11686965]\n",
      " [0.71300895 0.13478564 0.68530447 0.37562697 0.4005811  0.79704318\n",
      "  0.53722075 0.94223093 0.90401884 0.65343138]\n",
      " [0.15886049 0.5845891  0.6587674  0.50298128 0.49757076 0.14683338\n",
      "  0.36954427 0.92607108 0.52360701 0.73401239]\n",
      " [0.34653422 0.43413045 0.59308849 0.27024604 0.81241518 0.64562201\n",
      "  0.38647983 0.3211576  0.13363476 0.21074496]\n",
      " [0.22117066 0.27505412 0.5593549  0.7488219  0.87759574 0.81724838\n",
      "  0.87622966 0.65378779 0.43579041 0.16538748]\n",
      " [0.94678981 0.00493143 0.2717419  0.03143296 0.80147092 0.69138855\n",
      "  0.25311101 0.44719076 0.80736155 0.65761273]\n",
      " [0.3553572  0.67626308 0.01156893 0.44849373 0.53668484 0.93417892\n",
      "  0.36065086 0.2002163  0.83340664 0.93977925]]\n",
      "\n",
      "Min:  0.004931429904253659\n",
      "\n",
      "Max:  0.9580109177529249\n"
     ]
    }
   ],
   "source": [
    "matrix4 = np.random.random((10, 10))\n",
    "print(\"10x10 array of random values:\\n\", matrix4)\n",
    "print(\"\\nMin: \", matrix4.min())\n",
    "print(\"\\nMax: \", matrix4.max())\n"
   ]
  },
  {
   "cell_type": "markdown",
   "metadata": {},
   "source": [
    "#### 14. Create a random vector of size 30 and find the mean value (★☆☆)"
   ]
  },
  {
   "cell_type": "code",
   "execution_count": 259,
   "metadata": {
    "ExecuteTime": {
     "end_time": "2020-12-07T14:37:53.870624Z",
     "start_time": "2020-12-07T14:37:53.864312Z"
    }
   },
   "outputs": [
    {
     "name": "stdout",
     "output_type": "stream",
     "text": [
      "Random vector of size 30:\n",
      " [0.89814545 0.35259362 0.22699287 0.65515733 0.83099522 0.18794343\n",
      " 0.40882446 0.63134913 0.98357928 0.87035398 0.40219934 0.65508772\n",
      " 0.28103312 0.18953306 0.05522688 0.07743539 0.49994868 0.13693055\n",
      " 0.67720942 0.93064396 0.87231455 0.5833217  0.45030213 0.74562949\n",
      " 0.88268361 0.72818954 0.73896424 0.23889564 0.56741365 0.06459724]\n",
      "\n",
      "Mean:  0.5274498226482733\n"
     ]
    }
   ],
   "source": [
    "vector4 = np.random.random(30)\n",
    "print(\"Random vector of size 30:\\n\", vector4)\n",
    "print(\"\\nMean: \", vector4.mean())"
   ]
  },
  {
   "cell_type": "markdown",
   "metadata": {},
   "source": [
    "#### 15. Create a 2d array with 1 on the border and 0 inside (★☆☆)"
   ]
  },
  {
   "cell_type": "code",
   "execution_count": 276,
   "metadata": {
    "ExecuteTime": {
     "end_time": "2020-12-07T15:00:58.525002Z",
     "start_time": "2020-12-07T15:00:58.505825Z"
    }
   },
   "outputs": [
    {
     "name": "stdout",
     "output_type": "stream",
     "text": [
      "Original matrix of all ones:\n",
      " [[1. 1. 1. 1. 1. 1. 1. 1.]\n",
      " [1. 1. 1. 1. 1. 1. 1. 1.]\n",
      " [1. 1. 1. 1. 1. 1. 1. 1.]\n",
      " [1. 1. 1. 1. 1. 1. 1. 1.]\n",
      " [1. 1. 1. 1. 1. 1. 1. 1.]\n",
      " [1. 1. 1. 1. 1. 1. 1. 1.]\n",
      " [1. 1. 1. 1. 1. 1. 1. 1.]\n",
      " [1. 1. 1. 1. 1. 1. 1. 1.]] \n",
      "\n",
      "To change inner values to zeros:\n",
      "Input is: 'matrix[columns indexing, rows indexing]'\n",
      "For example:\n",
      "For columns, we index from 1 to -1 and set those equal to zero.\n",
      "For rows we index from 1 to -1 and set those equal to zero.\n",
      "\n",
      "[[1. 1. 1. 1. 1. 1. 1. 1.]\n",
      " [1. 0. 0. 0. 0. 0. 0. 1.]\n",
      " [1. 0. 0. 0. 0. 0. 0. 1.]\n",
      " [1. 0. 0. 0. 0. 0. 0. 1.]\n",
      " [1. 0. 0. 0. 0. 0. 0. 1.]\n",
      " [1. 0. 0. 0. 0. 0. 0. 1.]\n",
      " [1. 0. 0. 0. 0. 0. 0. 1.]\n",
      " [1. 1. 1. 1. 1. 1. 1. 1.]]\n"
     ]
    }
   ],
   "source": [
    "matrix5 = np.ones((8, 8))\n",
    "print(\"Original matrix of all ones:\\n\", matrix5, \"\\n\")\n",
    "matrix5[1:-1, 1:-1] = 0\n",
    "print(\"To change inner values to zeros:\\nInput is: 'matrix[columns indexing, rows indexing]'\\nFor example:\\nFor columns, we index from 1 to -1 and set those equal to zero.\\nFor rows we index from 1 to -1 and set those equal to zero.\\n\")\n",
    "print(matrix5)    # x[columns indexing, rows indexing]"
   ]
  },
  {
   "cell_type": "markdown",
   "metadata": {},
   "source": [
    "#### 16. How to add a border (filled with 0's) around an existing array? (★☆☆)"
   ]
  },
  {
   "cell_type": "code",
   "execution_count": 279,
   "metadata": {
    "ExecuteTime": {
     "end_time": "2020-12-07T15:02:28.821973Z",
     "start_time": "2020-12-07T15:02:28.798688Z"
    }
   },
   "outputs": [
    {
     "name": "stdout",
     "output_type": "stream",
     "text": [
      "Original matrix: \n",
      " [[1. 1. 1. 1. 1. 1. 1. 1.]\n",
      " [1. 1. 1. 1. 1. 1. 1. 1.]\n",
      " [1. 1. 1. 1. 1. 1. 1. 1.]\n",
      " [1. 1. 1. 1. 1. 1. 1. 1.]\n",
      " [1. 1. 1. 1. 1. 1. 1. 1.]\n",
      " [1. 1. 1. 1. 1. 1. 1. 1.]\n",
      " [1. 1. 1. 1. 1. 1. 1. 1.]\n",
      " [1. 1. 1. 1. 1. 1. 1. 1.]] \n",
      "\n",
      "New padded matrix: \n",
      " [[0. 0. 0. 0. 0. 0. 0. 0. 0. 0.]\n",
      " [0. 1. 1. 1. 1. 1. 1. 1. 1. 0.]\n",
      " [0. 1. 1. 1. 1. 1. 1. 1. 1. 0.]\n",
      " [0. 1. 1. 1. 1. 1. 1. 1. 1. 0.]\n",
      " [0. 1. 1. 1. 1. 1. 1. 1. 1. 0.]\n",
      " [0. 1. 1. 1. 1. 1. 1. 1. 1. 0.]\n",
      " [0. 1. 1. 1. 1. 1. 1. 1. 1. 0.]\n",
      " [0. 1. 1. 1. 1. 1. 1. 1. 1. 0.]\n",
      " [0. 1. 1. 1. 1. 1. 1. 1. 1. 0.]\n",
      " [0. 0. 0. 0. 0. 0. 0. 0. 0. 0.]]\n"
     ]
    }
   ],
   "source": [
    "matrix6 = np.ones((8, 8))\n",
    "print(\"Original matrix: \\n\", matrix6, \"\\n\")\n",
    "matrix7 = np.pad(matrix6, pad_width=1, mode='constant', constant_values=0)  # self-explainable by parameter inputs\n",
    "print(\"New padded matrix: \\n\", matrix7)"
   ]
  },
  {
   "cell_type": "markdown",
   "metadata": {},
   "source": [
    "#### 17. What is the result of the following expression? (★☆☆)"
   ]
  },
  {
   "cell_type": "markdown",
   "metadata": {},
   "source": [
    "```python\n",
    "0 * np.nan\n",
    "np.nan == np.nan\n",
    "np.inf > np.nan\n",
    "np.nan - np.nan\n",
    "np.nan in set([np.nan])\n",
    "0.3 == 3 * 0.1\n",
    "```"
   ]
  },
  {
   "cell_type": "code",
   "execution_count": 280,
   "metadata": {
    "ExecuteTime": {
     "end_time": "2020-12-07T15:02:45.370899Z",
     "start_time": "2020-12-07T15:02:45.350466Z"
    }
   },
   "outputs": [
    {
     "name": "stdout",
     "output_type": "stream",
     "text": [
      "nan\n",
      "False\n",
      "False\n",
      "nan\n",
      "True\n",
      "False\n"
     ]
    }
   ],
   "source": [
    "print(0 * np.nan)\n",
    "print(np.nan == np.nan)\n",
    "print(np.inf > np.nan)\n",
    "print(np.nan - np.nan)\n",
    "print(np.nan in set([np.nan]))\n",
    "print(0.3 == 3 * 0.1)\n"
   ]
  },
  {
   "cell_type": "markdown",
   "metadata": {},
   "source": [
    "#### 18. Create a 5x5 matrix with values 1,2,3,4 just below the diagonal (★☆☆)"
   ]
  },
  {
   "cell_type": "code",
   "execution_count": 334,
   "metadata": {
    "ExecuteTime": {
     "end_time": "2020-12-07T16:21:02.476402Z",
     "start_time": "2020-12-07T16:21:02.466760Z"
    }
   },
   "outputs": [
    {
     "name": "stdout",
     "output_type": "stream",
     "text": [
      "[[0 0 0 0 0]\n",
      " [1 0 0 0 0]\n",
      " [0 2 0 0 0]\n",
      " [0 0 3 0 0]\n",
      " [0 0 0 4 0]]\n"
     ]
    }
   ],
   "source": [
    "matrix8 = np.diag(1+np.arange(4), k=-1)   # numpy.diag(v, k=0): k is the diagonal in question. Use k>0 for diagonals above the main diagonal, and k<0 for diagonals below the main diagonal.\n",
    "print(matrix8)                            # not sure why 1+array, need to check more."
   ]
  },
  {
   "cell_type": "markdown",
   "metadata": {},
   "source": [
    "#### 19. Create a 8x8 matrix and fill it with a checkerboard pattern (★☆☆)"
   ]
  },
  {
   "cell_type": "code",
   "execution_count": 299,
   "metadata": {
    "ExecuteTime": {
     "end_time": "2020-12-07T15:13:07.849533Z",
     "start_time": "2020-12-07T15:13:07.837693Z"
    }
   },
   "outputs": [
    {
     "name": "stdout",
     "output_type": "stream",
     "text": [
      "[[1. 0. 1. 0. 1. 0. 1. 0.]\n",
      " [0. 1. 0. 1. 0. 1. 0. 1.]\n",
      " [1. 0. 1. 0. 1. 0. 1. 0.]\n",
      " [0. 1. 0. 1. 0. 1. 0. 1.]\n",
      " [1. 0. 1. 0. 1. 0. 1. 0.]\n",
      " [0. 1. 0. 1. 0. 1. 0. 1.]\n",
      " [1. 0. 1. 0. 1. 0. 1. 0.]\n",
      " [0. 1. 0. 1. 0. 1. 0. 1.]]\n"
     ]
    }
   ],
   "source": [
    "matrix9 = np.ones((8, 8))    # gives an 8x8 matrix of all ones\n",
    "matrix9[::2, 1::2] = 0       # for columns, from beginning to end, in steps of 2 -- for rows, from index 1 to end, in steps of 2 -- replace these with 0.\n",
    "matrix9[1::2, ::2] = 0       # for columns, from index 1 to end, in steps of 2 -- for rows, from beginning to end, in steps of 2 -- replace these with 0.\n",
    "print(matrix9)"
   ]
  },
  {
   "cell_type": "markdown",
   "metadata": {},
   "source": [
    "#### 20. Consider a (6,7,8) shape array, what is the index (x,y,z) of the 100th element?"
   ]
  },
  {
   "cell_type": "code",
   "execution_count": 332,
   "metadata": {
    "ExecuteTime": {
     "end_time": "2020-12-07T16:15:36.143476Z",
     "start_time": "2020-12-07T16:15:36.131850Z"
    }
   },
   "outputs": [
    {
     "name": "stdout",
     "output_type": "stream",
     "text": [
      "The 'shape' tuple gives the lengths of the array dimensions. So this is a 3D matrix, with lengths 6 by 7 by 8.\n",
      "When 'unravel_index' is used, to find the 100th element, we use the index of 99.\n",
      "Our output is the 100th element:\n",
      "(1, 5, 3)\n"
     ]
    }
   ],
   "source": [
    "\n",
    "print(\"The 'shape' tuple gives the lengths of the array dimensions. So this is a 3D matrix, with lengths 6 by 7 by 8.\\nWhen 'unravel_index' is used, to find the 100th element, we use the index of 99.\\nOur output is the 100th element:\")\n",
    "matrix10 = np.unravel_index(99,(6,7,8))   # numpy.unravel_index(indices, shape, order='C')\n",
    "print(matrix10)                           # The elements of the shape tuple give the lengths of the corresponding array dimensions."
   ]
  },
  {
   "cell_type": "markdown",
   "metadata": {},
   "source": [
    "#### 21. Create a checkerboard 8x8 matrix using the tile function (★☆☆)"
   ]
  },
  {
   "cell_type": "code",
   "execution_count": 322,
   "metadata": {
    "ExecuteTime": {
     "end_time": "2020-12-07T15:39:56.464690Z",
     "start_time": "2020-12-07T15:39:56.454222Z"
    }
   },
   "outputs": [
    {
     "name": "stdout",
     "output_type": "stream",
     "text": [
      "Original matrix: \n",
      " [[1 0]\n",
      " [0 1]] \n",
      "\n",
      "New matrix: \n",
      " [[1 0 1 0 1 0 1 0]\n",
      " [0 1 0 1 0 1 0 1]\n",
      " [1 0 1 0 1 0 1 0]\n",
      " [0 1 0 1 0 1 0 1]\n",
      " [1 0 1 0 1 0 1 0]\n",
      " [0 1 0 1 0 1 0 1]\n",
      " [1 0 1 0 1 0 1 0]\n",
      " [0 1 0 1 0 1 0 1]]\n"
     ]
    }
   ],
   "source": [
    "matrix11 = np.array([[1,0], [0,1]])\n",
    "print(\"Original matrix: \\n\", matrix11, \"\\n\")\n",
    "matrix12 = np.tile(matrix11, (4,4))           # numpy.tile(A, repetitions)\n",
    "print(\"New matrix: \\n\", matrix12)             # repetitions is the amount along each axis."
   ]
  },
  {
   "cell_type": "markdown",
   "metadata": {},
   "source": [
    "#### 22. Normalize a 5x5 random matrix (★☆☆)"
   ]
  },
  {
   "cell_type": "code",
   "execution_count": 96,
   "metadata": {
    "ExecuteTime": {
     "end_time": "2020-12-07T11:48:32.310074Z",
     "start_time": "2020-12-07T11:48:32.294618Z"
    }
   },
   "outputs": [
    {
     "name": "stdout",
     "output_type": "stream",
     "text": [
      "Original matrix: \n",
      " [[0.80855429 0.3042197  0.32496361 0.70697283 0.9904651 ]\n",
      " [0.25357952 0.03047608 0.55602297 0.7086268  0.64041276]\n",
      " [0.26913211 0.54824514 0.90908239 0.57581554 0.73358768]\n",
      " [0.98313106 0.93196638 0.40506492 0.53787187 0.21639102]\n",
      " [0.10792618 0.63647313 0.18898896 0.26456427 0.14515321]] \n",
      "\n",
      "New matrix: \n",
      " [[ 1.04213122 -0.72484978 -0.65217165  0.68623157  1.67947189]\n",
      " [-0.90227214 -1.68393482  0.15736532  0.6920264   0.45303246]\n",
      " [-0.84778226  0.13011501  1.39434034  0.22671035  0.77947906]\n",
      " [ 1.65377642  1.47451643 -0.37152959  0.09377135 -1.03256533]\n",
      " [-1.41258155  0.43922959 -1.12857091 -0.86378608 -1.28215332]]\n"
     ]
    }
   ],
   "source": [
    "matrix13 = np.random.random((5,5))\n",
    "print(\"Original matrix: \\n\", matrix13, \"\\n\")\n",
    "matrix14 = (matrix13 - np.mean(matrix13)) / (np.std(matrix13))\n",
    "print(\"New matrix: \\n\", matrix14)"
   ]
  },
  {
   "cell_type": "markdown",
   "metadata": {},
   "source": [
    "#### 23. Create a custom dtype that describes a color as four unsigned bytes (RGBA) (★☆☆)"
   ]
  },
  {
   "cell_type": "code",
   "execution_count": 323,
   "metadata": {
    "ExecuteTime": {
     "end_time": "2020-12-07T15:42:55.268403Z",
     "start_time": "2020-12-07T15:42:55.262594Z"
    }
   },
   "outputs": [
    {
     "name": "stdout",
     "output_type": "stream",
     "text": [
      "[('R', 'u1'), ('G', 'u1'), ('B', 'u1'), ('A', 'u1')]\n"
     ]
    }
   ],
   "source": [
    "x = np.dtype([(\"R\", np.ubyte), (\"G\", np.ubyte), (\"B\", np.ubyte), (\"A\", np.ubyte)])\n",
    "print(x)              # don't understand"
   ]
  },
  {
   "cell_type": "markdown",
   "metadata": {},
   "source": [
    "#### 24. Multiply a 5x3 matrix by a 3x2 matrix (real matrix product) (★☆☆)"
   ]
  },
  {
   "cell_type": "code",
   "execution_count": 324,
   "metadata": {
    "ExecuteTime": {
     "end_time": "2020-12-07T15:47:05.114076Z",
     "start_time": "2020-12-07T15:47:05.104160Z"
    },
    "scrolled": true
   },
   "outputs": [
    {
     "name": "stdout",
     "output_type": "stream",
     "text": [
      "First matrix: \n",
      " [[0.27302268 0.82532849 0.63676789]\n",
      " [0.97628176 0.06028472 0.69709688]\n",
      " [0.47474453 0.99338687 0.80567839]\n",
      " [0.12080557 0.10255539 0.12133281]\n",
      " [0.13280949 0.76068252 0.1939368 ]] \n",
      "\n",
      "Second matrix: \n",
      " [[0.71150578 0.06965699]\n",
      " [0.16840179 0.68124737]\n",
      " [0.91533123 0.08142134]] \n",
      "\n",
      "Dot product of these matrices: \n",
      " [[0.91609754 0.63311729]\n",
      " [1.34285671 0.16583221]\n",
      " [1.24253418 0.77541087]\n",
      " [0.21428408 0.08815962]\n",
      " [0.40011142 0.54325466]]\n"
     ]
    }
   ],
   "source": [
    "matrix15 = np.random.random((5, 3))\n",
    "print(\"First matrix: \\n\", matrix15, \"\\n\")\n",
    "\n",
    "matrix16 = np.random.random((3, 2))\n",
    "print(\"Second matrix: \\n\", matrix16, \"\\n\")\n",
    "\n",
    "matrix_product = np.dot(matrix15, matrix16)\n",
    "print(\"Dot product of these matrices: \\n\", matrix_product)"
   ]
  },
  {
   "cell_type": "markdown",
   "metadata": {},
   "source": [
    "#### 25. Given a 1D array, negate all elements which are between 3 and 8, in place. (★☆☆)"
   ]
  },
  {
   "cell_type": "code",
   "execution_count": 124,
   "metadata": {
    "ExecuteTime": {
     "end_time": "2020-12-07T12:13:54.537939Z",
     "start_time": "2020-12-07T12:13:54.532397Z"
    }
   },
   "outputs": [
    {
     "name": "stdout",
     "output_type": "stream",
     "text": [
      "[ 0  1  2  3 -4 -5 -6 -7  8  9 10 11 12 13 14 15 16 17 18 19]\n"
     ]
    }
   ],
   "source": [
    "vector5 = np.arange(20)\n",
    "\n",
    "vector5[4:8] *= -1     #negated elements BETWEEN 3 and 8, not including 3 and 8.\n",
    "print(vector5)"
   ]
  },
  {
   "cell_type": "markdown",
   "metadata": {},
   "source": [
    "#### 26. What is the output of the following script? (★☆☆)"
   ]
  },
  {
   "cell_type": "markdown",
   "metadata": {},
   "source": [
    "```python\n",
    "# Author: Jake VanderPlas\n",
    "\n",
    "print(sum(range(5),-1))\n",
    "from numpy import *\n",
    "print(sum(range(5),-1))\n",
    "```"
   ]
  },
  {
   "cell_type": "code",
   "execution_count": 125,
   "metadata": {
    "ExecuteTime": {
     "end_time": "2020-12-07T12:14:24.753651Z",
     "start_time": "2020-12-07T12:14:24.748998Z"
    }
   },
   "outputs": [
    {
     "name": "stdout",
     "output_type": "stream",
     "text": [
      "9\n",
      "10\n"
     ]
    }
   ],
   "source": [
    "print(sum(range(5),-1))\n",
    "from numpy import *\n",
    "print(sum(range(5),-1))"
   ]
  },
  {
   "cell_type": "markdown",
   "metadata": {},
   "source": [
    "#### 27. Consider an integer vector Z, which of these expressions are legal? (★☆☆)"
   ]
  },
  {
   "cell_type": "markdown",
   "metadata": {},
   "source": [
    "```python\n",
    "Z**Z\n",
    "2 << Z >> 2\n",
    "Z <- Z\n",
    "1j*Z\n",
    "Z/1/1\n",
    "Z<Z>Z\n",
    "```"
   ]
  },
  {
   "cell_type": "code",
   "execution_count": 179,
   "metadata": {
    "ExecuteTime": {
     "end_time": "2020-12-07T12:34:00.095298Z",
     "start_time": "2020-12-07T12:34:00.069286Z"
    }
   },
   "outputs": [
    {
     "name": "stdout",
     "output_type": "stream",
     "text": [
      "Z**Z is legal: \n",
      " [[1. 1. 1. 1. 1.]\n",
      " [1. 1. 1. 1. 1.]\n",
      " [1. 1. 1. 1. 1.]\n",
      " [1. 1. 1. 1. 1.]\n",
      " [1. 1. 1. 1. 1.]] \n",
      "\n",
      "2 << Z >> 2 is illegal. \n",
      " Gives: 'TypeError: ufunc 'left_shift' not supported for the input types, and the inputs could not be safely coerced to any supported types according to the casting rule safe.'\n",
      "\n",
      "Z <- Z is legal: \n",
      " [[False False False False False]\n",
      " [False False False False False]\n",
      " [False False False False False]\n",
      " [False False False False False]\n",
      " [False False False False False]] \n",
      "\n",
      "1j*Z is legal: Gives imaginary numbers: \n",
      " [[0.+1.j 0.+1.j 0.+1.j 0.+1.j 0.+1.j]\n",
      " [0.+1.j 0.+1.j 0.+1.j 0.+1.j 0.+1.j]\n",
      " [0.+1.j 0.+1.j 0.+1.j 0.+1.j 0.+1.j]\n",
      " [0.+1.j 0.+1.j 0.+1.j 0.+1.j 0.+1.j]\n",
      " [0.+1.j 0.+1.j 0.+1.j 0.+1.j 0.+1.j]] \n",
      "\n",
      "Z/1/1 is legal: \n",
      " [[1. 1. 1. 1. 1.]\n",
      " [1. 1. 1. 1. 1.]\n",
      " [1. 1. 1. 1. 1.]\n",
      " [1. 1. 1. 1. 1.]\n",
      " [1. 1. 1. 1. 1.]] \n",
      "\n",
      "Z<Z>Z is illegal. Gives: 'ValueError: The truth value of an array with more than one element is ambiguous. Use a.any() or a.all()'\n"
     ]
    }
   ],
   "source": [
    "Z = np.ones((5,5))\n",
    "\n",
    "print(\"Z**Z is legal: \\n\", Z**Z, \"\\n\")\n",
    "\n",
    "print(\"2 << Z >> 2 is illegal. \\n Gives: 'TypeError: ufunc 'left_shift' not supported for the input types, and the inputs could not be safely coerced to any supported types according to the casting rule safe.'\\n\")\n",
    "\n",
    "print(\"Z <- Z is legal: \\n\", Z <- Z, \"\\n\")\n",
    "\n",
    "print(\"1j*Z is legal: Gives imaginary numbers: \\n\", 1j*Z, \"\\n\")\n",
    "\n",
    "print(\"Z/1/1 is legal: \\n\", Z/1/1, \"\\n\")\n",
    "\n",
    "print(\"Z<Z>Z is illegal. Gives: 'ValueError: The truth value of an array with more than one element is ambiguous. Use a.any() or a.all()'\")"
   ]
  },
  {
   "cell_type": "markdown",
   "metadata": {},
   "source": [
    "#### 28. What are the result of the following expressions?"
   ]
  },
  {
   "cell_type": "markdown",
   "metadata": {},
   "source": [
    "```python\n",
    "np.array(0) / np.array(0)\n",
    "np.array(0) // np.array(0)\n",
    "np.array([np.nan]).astype(int).astype(float)\n",
    "```"
   ]
  },
  {
   "cell_type": "code",
   "execution_count": 192,
   "metadata": {
    "ExecuteTime": {
     "end_time": "2020-12-07T12:39:47.218032Z",
     "start_time": "2020-12-07T12:39:47.203759Z"
    }
   },
   "outputs": [
    {
     "name": "stdout",
     "output_type": "stream",
     "text": [
      "nan \n",
      "-Gives 'Runtimewarning' that an invalid value is encountered in true_divide.\n",
      "\n",
      "0 \n",
      "-Gives 'Runtimewarning' that divide by zero encountered in the floor divide.\n",
      "\n",
      "[-9.22337204e+18] \n",
      "-Corrects the errors above by using nan (instead of integer 0) and floor divide (instead of true divide)\n"
     ]
    },
    {
     "name": "stderr",
     "output_type": "stream",
     "text": [
      "<ipython-input-192-8398bbedd672>:1: RuntimeWarning: invalid value encountered in true_divide\n",
      "  print(np.array(0) / np.array(0), \"\\n-Gives 'Runtimewarning' that an invalid value is encountered in true_divide.\\n\")\n",
      "<ipython-input-192-8398bbedd672>:2: RuntimeWarning: divide by zero encountered in floor_divide\n",
      "  print(np.array(0) // np.array(0), \"\\n-Gives 'Runtimewarning' that divide by zero encountered in the floor divide.\\n\")\n"
     ]
    }
   ],
   "source": [
    "print(np.array(0) / np.array(0), \"\\n-Gives 'Runtimewarning' that an invalid value is encountered in true_divide.\\n\")\n",
    "print(np.array(0) // np.array(0), \"\\n-Gives 'Runtimewarning' that divide by zero encountered in the floor divide.\\n\")\n",
    "print(np.array([np.nan]).astype(int).astype(float), \"\\n-Corrects the errors above by using nan (instead of integer 0) and gives it as an integer and float?!\")"
   ]
  },
  {
   "cell_type": "markdown",
   "metadata": {},
   "source": [
    "#### 29. How to round away from zero a float array ? (★☆☆)"
   ]
  },
  {
   "cell_type": "code",
   "execution_count": 244,
   "metadata": {
    "ExecuteTime": {
     "end_time": "2020-12-07T13:17:16.873845Z",
     "start_time": "2020-12-07T13:17:16.859845Z"
    }
   },
   "outputs": [
    {
     "name": "stdout",
     "output_type": "stream",
     "text": [
      "Random 5 by 5 matrix of floats, with minimum value -20 and maximum value 20:\n",
      "\n",
      " [[-10.63295131  16.04372698 -12.51906744   7.79327362 -17.86279846]\n",
      " [ -9.36144416  10.79033305  11.60261389 -17.58118904   5.77831448]\n",
      " [ -8.39895113  16.82837454   1.98206742   6.39266422  18.40245152]\n",
      " [ 12.8498222   18.80363409   8.4150978   13.18000435   7.34134405]\n",
      " [ -0.35393157  16.59993243 -18.77573144  -6.44672948   1.59871534]] \n",
      "\n",
      "\n",
      "Find absolute value so can round properly later:\n",
      "\n",
      " [[10.63295131 16.04372698 12.51906744  7.79327362 17.86279846]\n",
      " [ 9.36144416 10.79033305 11.60261389 17.58118904  5.77831448]\n",
      " [ 8.39895113 16.82837454  1.98206742  6.39266422 18.40245152]\n",
      " [12.8498222  18.80363409  8.4150978  13.18000435  7.34134405]\n",
      " [ 0.35393157 16.59993243 18.77573144  6.44672948  1.59871534]] \n",
      "\n",
      "\n",
      "Find the rounded AWAY from zero using ceiling, ie round up to one above:\n",
      "\n",
      " [[11. 17. 13.  8. 18.]\n",
      " [10. 11. 12. 18.  6.]\n",
      " [ 9. 17.  2.  7. 19.]\n",
      " [13. 19.  9. 14.  8.]\n",
      " [ 1. 17. 19.  7.  2.]] \n",
      "\n",
      "\n",
      "Copy signs of first matrix to signs of new matrix:\n",
      "\n",
      " [[-11.  17. -13.   8. -18.]\n",
      " [-10.  11.  12. -18.   6.]\n",
      " [ -9.  17.   2.   7.  19.]\n",
      " [ 13.  19.   9.  14.   8.]\n",
      " [ -1.  17. -19.  -7.   2.]]\n"
     ]
    }
   ],
   "source": [
    "matrix17 = np.random.uniform(-20,20,(5,5))   # numpy.random.uniform(low=0.0, high=1.0, size=None)\n",
    "print(\"Random 5 by 5 matrix of floats, with minimum value -20 and maximum value 20:\\n\\n\", matrix17, \"\\n\")\n",
    "\n",
    "matrix18 = np.abs(matrix17)\n",
    "print(\"\\nFind absolute value so can round properly later:\\n\\n\", matrix18, \"\\n\")\n",
    "\n",
    "matrix19 = np.ceil(matrix18)  #  numpy.ceil(x) - Return the ceiling of the input, element-wise.\n",
    "print(\"\\nFind the rounded AWAY from zero using ceiling, ie round up to one above:\\n\\n\", matrix19, \"\\n\")\n",
    "\n",
    "matrix20 = np.copysign(matrix19, matrix17)  # numpy.copysign(x1, x2,...) - Change the sign of x1 to that of x2, element-wise.\n",
    "print(\"\\nCopy signs of first matrix to signs of new matrix:\\n\\n\", matrix20)"
   ]
  },
  {
   "cell_type": "markdown",
   "metadata": {},
   "source": [
    "#### 30. How to find common values between two arrays? (★☆☆)"
   ]
  },
  {
   "cell_type": "code",
   "execution_count": 330,
   "metadata": {
    "ExecuteTime": {
     "end_time": "2020-12-07T15:54:09.486791Z",
     "start_time": "2020-12-07T15:54:09.476007Z"
    }
   },
   "outputs": [
    {
     "name": "stdout",
     "output_type": "stream",
     "text": [
      "[30, 82, 10]\n",
      "[20, 150, 10]\n",
      "The intersection of these two arrays is:  [10]\n"
     ]
    }
   ],
   "source": [
    "\"\"\"\n",
    "numpy.intersect1d(ar1, ar2, assume_unique=False, return_indices=False)\n",
    "Find the intersection of two arrays.\n",
    "Return the sorted, unique values that are in both of the input arrays.\"\"\"\n",
    "\n",
    "matrix21 = ([30, 82, 10])\n",
    "print(matrix21)\n",
    "\n",
    "matrix22 = ([20, 150, 10])\n",
    "print(matrix22)\n",
    "\n",
    "intersection = np.intersect1d(matrix21, matrix22)\n",
    "print(\"The intersection of these two arrays is: \", intersection)"
   ]
  },
  {
   "cell_type": "markdown",
   "metadata": {},
   "source": [
    "#### 31. How to ignore all numpy warnings (not recommended)? (★☆☆)"
   ]
  },
  {
   "cell_type": "code",
   "execution_count": null,
   "metadata": {},
   "outputs": [],
   "source": [
    "# numpy.testing.suppress_warnings(forwarding_rule='always')\n",
    "# I don't want to do it because it might ruin this notebook!"
   ]
  },
  {
   "cell_type": "markdown",
   "metadata": {},
   "source": [
    "#### 32. Is the following expressions true? (★☆☆)"
   ]
  },
  {
   "cell_type": "markdown",
   "metadata": {},
   "source": [
    "```python\n",
    "np.sqrt(-1) == np.emath.sqrt(-1)\n",
    "```"
   ]
  },
  {
   "cell_type": "code",
   "execution_count": 349,
   "metadata": {
    "ExecuteTime": {
     "end_time": "2020-12-07T17:27:16.246377Z",
     "start_time": "2020-12-07T17:27:16.233931Z"
    }
   },
   "outputs": [
    {
     "name": "stdout",
     "output_type": "stream",
     "text": [
      "1j\n",
      "nan\n",
      "If the above expressions are equal to one another:  False\n"
     ]
    },
    {
     "name": "stderr",
     "output_type": "stream",
     "text": [
      "<ipython-input-349-62a0698ea7cc>:2: RuntimeWarning: invalid value encountered in sqrt\n",
      "  print(np.sqrt(-1))          # But without the emath it doesn't.\n",
      "<ipython-input-349-62a0698ea7cc>:4: RuntimeWarning: invalid value encountered in sqrt\n",
      "  print(\"If the above expressions are equal to one another: \", np.sqrt(-1) == np.emath.sqrt(-1))\n"
     ]
    }
   ],
   "source": [
    "print(np.emath.sqrt(-1))    # It seems the emath recognizes imaginary numbers.\n",
    "print(np.sqrt(-1))          # But without the emath it doesn't.\n",
    "\n",
    "print(\"If the above expressions are equal to one another: \", np.sqrt(-1) == np.emath.sqrt(-1))"
   ]
  },
  {
   "cell_type": "markdown",
   "metadata": {},
   "source": [
    "#### 33. How to get the dates of yesterday, today and tomorrow? (★☆☆)"
   ]
  },
  {
   "cell_type": "code",
   "execution_count": 360,
   "metadata": {
    "ExecuteTime": {
     "end_time": "2020-12-07T17:38:10.237907Z",
     "start_time": "2020-12-07T17:38:10.229356Z"
    }
   },
   "outputs": [
    {
     "name": "stdout",
     "output_type": "stream",
     "text": [
      "Today is:  2020-12-07\n",
      "Tomorrow is:  2020-12-08\n",
      "Yesterday was:  2020-12-06\n"
     ]
    }
   ],
   "source": [
    "today = np.datetime64('today', 'D')\n",
    "print(\"Today is: \", today)\n",
    "\n",
    "tomorrow = np.datetime64('today', 'D') + np.timedelta64(1, 'D')\n",
    "print(\"Tomorrow is: \", tomorrow)\n",
    "\n",
    "yesterday = np.datetime64('today', 'D') - np.timedelta64(1, 'D')\n",
    "print(\"Yesterday was: \", yesterday)"
   ]
  },
  {
   "cell_type": "markdown",
   "metadata": {},
   "source": [
    "#### 34. How to get all the dates corresponding to the month of July 2016? (★★☆)"
   ]
  },
  {
   "cell_type": "code",
   "execution_count": 373,
   "metadata": {
    "ExecuteTime": {
     "end_time": "2020-12-07T21:36:58.101048Z",
     "start_time": "2020-12-07T21:36:58.096565Z"
    }
   },
   "outputs": [
    {
     "name": "stdout",
     "output_type": "stream",
     "text": [
      "['2016-07-01' '2016-07-02' '2016-07-03' '2016-07-04' '2016-07-05'\n",
      " '2016-07-06' '2016-07-07' '2016-07-08' '2016-07-09' '2016-07-10'\n",
      " '2016-07-11' '2016-07-12' '2016-07-13' '2016-07-14' '2016-07-15'\n",
      " '2016-07-16' '2016-07-17' '2016-07-18' '2016-07-19' '2016-07-20'\n",
      " '2016-07-21' '2016-07-22' '2016-07-23' '2016-07-24' '2016-07-25'\n",
      " '2016-07-26' '2016-07-27' '2016-07-28' '2016-07-29' '2016-07-30'\n",
      " '2016-07-31']\n"
     ]
    }
   ],
   "source": [
    "all_dates = np.arange('2016-07', '2016-08', dtype='datetime64[D]')\n",
    "print(all_dates)"
   ]
  },
  {
   "cell_type": "markdown",
   "metadata": {},
   "source": [
    "#### 35. How to compute ((A+B)\\*(-A/2)) in place (without copy)? (★★☆)"
   ]
  },
  {
   "cell_type": "code",
   "execution_count": 390,
   "metadata": {
    "ExecuteTime": {
     "end_time": "2020-12-07T21:46:28.370030Z",
     "start_time": "2020-12-07T21:46:28.359912Z"
    }
   },
   "outputs": [
    {
     "name": "stdout",
     "output_type": "stream",
     "text": [
      "A + B =\n",
      " [[0.59133877 0.70457218 0.75068211 1.11654479 0.68920183 1.01504609\n",
      "  0.59810458 1.66451928 0.13503267 1.15696806]\n",
      " [0.51473021 1.52712583 0.8929081  1.09737425 0.16931787 1.69657534\n",
      "  1.76419839 1.01187732 0.67313075 0.23982998]\n",
      " [1.45562783 1.38190011 1.78228061 1.38272943 0.8845624  0.86567019\n",
      "  0.62149222 0.6283907  1.47175421 0.46970083]\n",
      " [0.52135258 1.08642288 0.48937412 0.03790749 1.94333771 1.77921893\n",
      "  1.20949122 1.79918905 1.27524879 0.94655139]\n",
      " [0.44254044 1.32812688 0.73679303 1.63795853 0.69787099 1.53953\n",
      "  0.96016757 0.74482745 0.87057743 0.65704936]\n",
      " [0.74882339 0.88795343 0.57971661 1.53937358 1.33663057 0.80237686\n",
      "  1.01218017 1.63029451 0.27341905 0.20425935]\n",
      " [1.00974027 1.43443958 0.80868039 1.23665153 0.387323   1.95587455\n",
      "  0.52583793 0.67783132 1.12342124 0.96898698]\n",
      " [0.99903368 1.12757188 1.096305   0.43425378 0.94318065 0.62427429\n",
      "  0.75922551 0.98251266 1.2027197  1.85257155]\n",
      " [0.82935649 1.62902224 1.51149198 1.05722912 1.10095111 1.28740577\n",
      "  0.676131   0.98253956 0.34589206 1.51260763]\n",
      " [1.11794939 1.26511691 1.18312586 0.74252571 0.85673556 1.16075997\n",
      "  0.67662934 0.40506673 1.18310568 1.41214951]] \n",
      "\n",
      "-A / 2 =\n",
      " [[-0.15624922 -0.21884356 -0.3167685  -0.16728627 -0.13921734 -0.15920806\n",
      "  -0.29714736 -0.40278145 -0.02090176 -0.45919654]\n",
      " [-0.22174874 -0.33753152 -0.41534007 -0.19122258 -0.03670608 -0.36756704\n",
      "  -0.39223847 -0.05521766 -0.26803426 -0.08656541]\n",
      " [-0.23728896 -0.49302088 -0.4801981  -0.33139784 -0.00515761 -0.06008924\n",
      "  -0.04259877 -0.25971802 -0.4013304  -0.18392913]\n",
      " [-0.11213208 -0.1996034  -0.06735095 -0.00847579 -0.47684139 -0.46965881\n",
      "  -0.34712594 -0.43987089 -0.25942512 -0.24296831]\n",
      " [-0.11173793 -0.21842007 -0.12143693 -0.49770083 -0.25312568 -0.49458592\n",
      "  -0.12191965 -0.13084294 -0.26801477 -0.20285055]\n",
      " [-0.02332289 -0.02229387 -0.05948802 -0.46411682 -0.28526285 -0.07296492\n",
      "  -0.2467744  -0.4621626  -0.09075778 -0.0286509 ]\n",
      " [-0.08447512 -0.31057139 -0.4024264  -0.2463733  -0.02805222 -0.49699394\n",
      "  -0.2042367  -0.20650935 -0.28532872 -0.08629389]\n",
      " [-0.42731954 -0.35910066 -0.36362525 -0.02736797 -0.27108817 -0.12589618\n",
      "  -0.03772777 -0.25408278 -0.4699208  -0.45125278]\n",
      " [-0.10105536 -0.37640552 -0.44505434 -0.31968829 -0.23231536 -0.48484612\n",
      "  -0.06360177 -0.48171458 -0.16827858 -0.40978444]\n",
      " [-0.3753725  -0.44901356 -0.33730924 -0.1140083  -0.05793889 -0.37819403\n",
      "  -0.17482989 -0.06088471 -0.48085991 -0.24758867]] \n",
      "\n",
      "((A+B)*(-A/2)) =\n",
      " [[-9.23962233e-02 -1.54191083e-01 -2.37792443e-01 -1.86782619e-01\n",
      "  -9.59488475e-02 -1.61603514e-01 -1.77725196e-01 -6.70437482e-01\n",
      "  -2.82241987e-03 -5.31275728e-01]\n",
      " [-1.14140778e-01 -5.15453108e-01 -3.70860511e-01 -2.09842734e-01\n",
      "  -6.21499516e-03 -6.23605171e-01 -6.91986471e-01 -5.58734984e-02\n",
      "  -1.80422103e-01 -2.07609801e-02]\n",
      " [-3.45404415e-01 -6.81305612e-01 -8.55847757e-01 -4.58233546e-01\n",
      "  -4.56223174e-03 -5.20174639e-02 -2.64748024e-02 -1.63204390e-01\n",
      "  -5.90659707e-01 -8.63916630e-02]\n",
      " [-5.84603518e-02 -2.16853697e-01 -3.29598120e-02 -3.21295876e-04\n",
      "  -9.26663863e-01 -8.35625842e-01 -4.19845777e-01 -7.91410893e-01\n",
      "  -3.30831572e-01 -2.29981993e-01]\n",
      " [-4.94485541e-02 -2.90089560e-01 -8.94738842e-02 -8.15213318e-01\n",
      "  -1.76649069e-01 -7.61429863e-01 -1.17063297e-01 -9.74554129e-02\n",
      "  -2.33327611e-01 -1.33282821e-01]\n",
      " [-1.74647251e-02 -1.97959208e-02 -3.44861908e-02 -7.14449165e-01\n",
      "  -3.81291041e-01 -5.85453662e-02 -2.49780157e-01 -7.53461149e-01\n",
      "  -2.48149049e-02 -5.85221379e-03]\n",
      " [-8.52979333e-02 -4.45495891e-01 -3.25434334e-01 -3.04677923e-01\n",
      "  -1.08652718e-02 -9.72057800e-01 -1.07395403e-01 -1.39978506e-01\n",
      "  -3.20544345e-01 -8.36176543e-02]\n",
      " [-4.26906611e-01 -4.04911808e-01 -3.98644177e-01 -1.18846447e-02\n",
      "  -2.55685120e-01 -7.85937482e-02 -2.86438844e-02 -2.49639543e-01\n",
      "  -5.65183000e-01 -8.35978056e-01]\n",
      " [-8.38109159e-02 -6.13172957e-01 -6.72696074e-01 -3.37983768e-01\n",
      "  -2.55767851e-01 -6.24193696e-01 -4.30031272e-02 -4.73303628e-01\n",
      "  -5.82062234e-02 -6.19843079e-01]\n",
      " [-4.19647453e-01 -5.68054648e-01 -3.99079291e-01 -8.46540920e-02\n",
      "  -4.96383096e-02 -4.38992485e-01 -1.18295032e-01 -2.46623708e-02\n",
      "  -5.68908089e-01 -3.49632215e-01]]\n"
     ]
    }
   ],
   "source": [
    "A = random.random((10,10))\n",
    "B = random.random((10,10))\n",
    "\n",
    "matrix24 = np.add(A, B, out=B)\n",
    "print(\"A + B =\\n\", matrix24, \"\\n\")\n",
    "\n",
    "matrix25 = (np.negative(A))/2\n",
    "print(\"-A / 2 =\\n\", matrix25, \"\\n\")\n",
    "\n",
    "matrix26 = matrix24*matrix25\n",
    "print(\"((A+B)*(-A/2)) =\\n\", matrix26)"
   ]
  },
  {
   "cell_type": "markdown",
   "metadata": {},
   "source": [
    "#### 36. Extract the integer part of a random array using 5 different methods (★★☆)"
   ]
  },
  {
   "cell_type": "code",
   "execution_count": 405,
   "metadata": {
    "ExecuteTime": {
     "end_time": "2020-12-07T22:47:55.640115Z",
     "start_time": "2020-12-07T22:47:55.597969Z"
    }
   },
   "outputs": [
    {
     "name": "stdout",
     "output_type": "stream",
     "text": [
      "Random matrix:\n",
      " [[0.79192935 0.0925157  0.65003664 0.73136445 0.42836414 0.13195324\n",
      "  0.7662011  0.22640014 0.86242992 0.24353654]\n",
      " [0.58919122 0.85838769 0.31926491 0.24495819 0.48235292 0.63314176\n",
      "  0.69400818 0.99555668 0.23200829 0.86060516]\n",
      " [0.72882103 0.18154249 0.85556898 0.21837689 0.37874183 0.75706239\n",
      "  0.58026568 0.73371295 0.18050091 0.73676751]\n",
      " [0.6751667  0.63703032 0.02208513 0.77945508 0.70248164 0.86008611\n",
      "  0.95598601 0.37309636 0.33184022 0.48209124]\n",
      " [0.43165774 0.37702217 0.91293547 0.81900779 0.2541944  0.11225205\n",
      "  0.28152258 0.7595292  0.04955938 0.5916099 ]\n",
      " [0.43565529 0.96570011 0.36117604 0.76781937 0.89103672 0.31101415\n",
      "  0.60180665 0.98550324 0.03657133 0.21715874]\n",
      " [0.1797163  0.05403254 0.23148182 0.65570419 0.66768432 0.60468644\n",
      "  0.72371993 0.32288187 0.68625271 0.35257821]\n",
      " [0.8249484  0.6951928  0.84421474 0.42556964 0.38217243 0.15354658\n",
      "  0.03650977 0.23764915 0.5499952  0.35205732]\n",
      " [0.31246247 0.22508593 0.96330873 0.16795219 0.15307886 0.35855408\n",
      "  0.42765096 0.16889975 0.4752113  0.71911402]\n",
      " [0.68740909 0.8028175  0.02061638 0.60160418 0.26209004 0.53234925\n",
      "  0.79138617 0.5408757  0.21861669 0.9474786 ]] \n",
      "\n",
      "Floor division:\n",
      " [[0. 0. 0. 0. 0. 0. 0. 0. 0. 0.]\n",
      " [0. 0. 0. 0. 0. 0. 0. 0. 0. 0.]\n",
      " [0. 0. 0. 0. 0. 0. 0. 0. 0. 0.]\n",
      " [0. 0. 0. 0. 0. 0. 0. 0. 0. 0.]\n",
      " [0. 0. 0. 0. 0. 0. 0. 0. 0. 0.]\n",
      " [0. 0. 0. 0. 0. 0. 0. 0. 0. 0.]\n",
      " [0. 0. 0. 0. 0. 0. 0. 0. 0. 0.]\n",
      " [0. 0. 0. 0. 0. 0. 0. 0. 0. 0.]\n",
      " [0. 0. 0. 0. 0. 0. 0. 0. 0. 0.]\n",
      " [0. 0. 0. 0. 0. 0. 0. 0. 0. 0.]] \n",
      "\n",
      "Ceiling division:\n",
      " [[0. 0. 0. 0. 0. 0. 0. 0. 0. 0.]\n",
      " [0. 0. 0. 0. 0. 0. 0. 0. 0. 0.]\n",
      " [0. 0. 0. 0. 0. 0. 0. 0. 0. 0.]\n",
      " [0. 0. 0. 0. 0. 0. 0. 0. 0. 0.]\n",
      " [0. 0. 0. 0. 0. 0. 0. 0. 0. 0.]\n",
      " [0. 0. 0. 0. 0. 0. 0. 0. 0. 0.]\n",
      " [0. 0. 0. 0. 0. 0. 0. 0. 0. 0.]\n",
      " [0. 0. 0. 0. 0. 0. 0. 0. 0. 0.]\n",
      " [0. 0. 0. 0. 0. 0. 0. 0. 0. 0.]\n",
      " [0. 0. 0. 0. 0. 0. 0. 0. 0. 0.]] \n",
      "\n",
      "Truncated value of matrix:\n",
      " [[0. 0. 0. 0. 0. 0. 0. 0. 0. 0.]\n",
      " [0. 0. 0. 0. 0. 0. 0. 0. 0. 0.]\n",
      " [0. 0. 0. 0. 0. 0. 0. 0. 0. 0.]\n",
      " [0. 0. 0. 0. 0. 0. 0. 0. 0. 0.]\n",
      " [0. 0. 0. 0. 0. 0. 0. 0. 0. 0.]\n",
      " [0. 0. 0. 0. 0. 0. 0. 0. 0. 0.]\n",
      " [0. 0. 0. 0. 0. 0. 0. 0. 0. 0.]\n",
      " [0. 0. 0. 0. 0. 0. 0. 0. 0. 0.]\n",
      " [0. 0. 0. 0. 0. 0. 0. 0. 0. 0.]\n",
      " [0. 0. 0. 0. 0. 0. 0. 0. 0. 0.]] \n",
      "\n",
      "As integer type:\n",
      " [[0 0 0 0 0 0 0 0 0 0]\n",
      " [0 0 0 0 0 0 0 0 0 0]\n",
      " [0 0 0 0 0 0 0 0 0 0]\n",
      " [0 0 0 0 0 0 0 0 0 0]\n",
      " [0 0 0 0 0 0 0 0 0 0]\n",
      " [0 0 0 0 0 0 0 0 0 0]\n",
      " [0 0 0 0 0 0 0 0 0 0]\n",
      " [0 0 0 0 0 0 0 0 0 0]\n",
      " [0 0 0 0 0 0 0 0 0 0]\n",
      " [0 0 0 0 0 0 0 0 0 0]] \n",
      "\n",
      "Matrix minus matrix modulo 1:\n",
      " [[0. 0. 0. 0. 0. 0. 0. 0. 0. 0.]\n",
      " [0. 0. 0. 0. 0. 0. 0. 0. 0. 0.]\n",
      " [0. 0. 0. 0. 0. 0. 0. 0. 0. 0.]\n",
      " [0. 0. 0. 0. 0. 0. 0. 0. 0. 0.]\n",
      " [0. 0. 0. 0. 0. 0. 0. 0. 0. 0.]\n",
      " [0. 0. 0. 0. 0. 0. 0. 0. 0. 0.]\n",
      " [0. 0. 0. 0. 0. 0. 0. 0. 0. 0.]\n",
      " [0. 0. 0. 0. 0. 0. 0. 0. 0. 0.]\n",
      " [0. 0. 0. 0. 0. 0. 0. 0. 0. 0.]\n",
      " [0. 0. 0. 0. 0. 0. 0. 0. 0. 0.]]\n"
     ]
    }
   ],
   "source": [
    "matrix27 = random.random((10,10))\n",
    "print(\"Random matrix:\\n\", matrix27, \"\\n\")\n",
    "\n",
    "print(\"Floor division:\\n\", np.floor(matrix27), \"\\n\")\n",
    "print(\"Ceiling division:\\n\", np.ceil(matrix27)-1, \"\\n\")\n",
    "print(\"Truncated value of matrix:\\n\", np.trunc(matrix27), \"\\n\")\n",
    "print(\"As integer type:\\n\", matrix27.astype(int), \"\\n\")\n",
    "print(\"Matrix minus matrix modulo 1:\\n\", matrix27 - matrix27%1)"
   ]
  },
  {
   "cell_type": "markdown",
   "metadata": {},
   "source": [
    "#### 37. Create a 5x5 matrix with row values ranging from 0 to 4 (★★☆)"
   ]
  },
  {
   "cell_type": "code",
   "execution_count": 8,
   "metadata": {
    "ExecuteTime": {
     "end_time": "2021-01-01T13:41:00.382720Z",
     "start_time": "2021-01-01T13:41:00.375248Z"
    }
   },
   "outputs": [
    {
     "name": "stdout",
     "output_type": "stream",
     "text": [
      "[[0. 1. 2. 3. 4.]\n",
      " [0. 1. 2. 3. 4.]\n",
      " [0. 1. 2. 3. 4.]\n",
      " [0. 1. 2. 3. 4.]\n",
      " [0. 1. 2. 3. 4.]]\n"
     ]
    }
   ],
   "source": [
    "z = np.zeros((5, 5))\n",
    "z += np.arange(5)\n",
    "print(z)"
   ]
  },
  {
   "cell_type": "markdown",
   "metadata": {},
   "source": [
    "#### 38. Consider a generator function that generates 10 integers and use it to build an array (★☆☆)"
   ]
  },
  {
   "cell_type": "code",
   "execution_count": 14,
   "metadata": {
    "ExecuteTime": {
     "end_time": "2021-01-01T13:44:09.109616Z",
     "start_time": "2021-01-01T13:44:09.094786Z"
    }
   },
   "outputs": [
    {
     "name": "stdout",
     "output_type": "stream",
     "text": [
      "[0 1 2 3 4 5 6 7 8 9]\n"
     ]
    }
   ],
   "source": [
    "def generate():\n",
    "    for x in range(10):\n",
    "        yield x\n",
    "z = np.fromiter(generate(), dtype=int)\n",
    "print(z)"
   ]
  },
  {
   "cell_type": "markdown",
   "metadata": {},
   "source": [
    "#### 39. Create a vector of size 10 with values ranging from 0 to 1, both excluded (★★☆)"
   ]
  },
  {
   "cell_type": "code",
   "execution_count": 19,
   "metadata": {
    "ExecuteTime": {
     "end_time": "2021-01-01T13:48:01.279525Z",
     "start_time": "2021-01-01T13:48:01.268700Z"
    }
   },
   "outputs": [
    {
     "name": "stdout",
     "output_type": "stream",
     "text": [
      "[0.09090909 0.18181818 0.27272727 0.36363636 0.45454545 0.54545455\n",
      " 0.63636364 0.72727273 0.81818182 0.90909091]\n"
     ]
    }
   ],
   "source": [
    "z = np.linspace(0, 1, num=11, endpoint=False, dtype=float)[1:]\n",
    "print(z)"
   ]
  },
  {
   "cell_type": "markdown",
   "metadata": {},
   "source": [
    "#### 40. Create a random vector of size 10 and sort it (★★☆)"
   ]
  },
  {
   "cell_type": "code",
   "execution_count": 25,
   "metadata": {
    "ExecuteTime": {
     "end_time": "2021-01-01T13:50:01.256488Z",
     "start_time": "2021-01-01T13:50:01.247842Z"
    }
   },
   "outputs": [
    {
     "name": "stdout",
     "output_type": "stream",
     "text": [
      "[0.10839931 0.25679691 0.25848364 0.38664059 0.51778863 0.57657945\n",
      " 0.59109489 0.59297817 0.82532703 0.94451206]\n"
     ]
    }
   ],
   "source": [
    "z = np.random.random(10)\n",
    "z = np.sort(z)\n",
    "print(z)"
   ]
  },
  {
   "cell_type": "markdown",
   "metadata": {},
   "source": [
    "#### 41. How to sum a small array faster than np.sum? (★★☆)"
   ]
  },
  {
   "cell_type": "code",
   "execution_count": 27,
   "metadata": {
    "ExecuteTime": {
     "end_time": "2021-01-01T13:52:40.025540Z",
     "start_time": "2021-01-01T13:52:40.012197Z"
    }
   },
   "outputs": [
    {
     "data": {
      "text/plain": [
       "45"
      ]
     },
     "execution_count": 27,
     "metadata": {},
     "output_type": "execute_result"
    }
   ],
   "source": [
    "z = np.arange(10)\n",
    "np.add.reduce(z)"
   ]
  },
  {
   "cell_type": "markdown",
   "metadata": {},
   "source": [
    "#### 42. Consider two random array A and B, check if they are equal (★★☆)"
   ]
  },
  {
   "cell_type": "code",
   "execution_count": 51,
   "metadata": {
    "ExecuteTime": {
     "end_time": "2021-01-01T14:08:40.874354Z",
     "start_time": "2021-01-01T14:08:40.865839Z"
    }
   },
   "outputs": [
    {
     "name": "stdout",
     "output_type": "stream",
     "text": [
      "False\n",
      "False\n"
     ]
    }
   ],
   "source": [
    "def tolerance_equal_array(a,b):\n",
    "    equal = np.allclose(a,b)\n",
    "    print(equal)\n",
    "\n",
    "def notolerance_equal_array(a,b):\n",
    "    equal = np.array_equal(a,b)\n",
    "    print(equal)\n",
    "    \n",
    "    \n",
    "a = np.random.random()\n",
    "b = np.random.random()\n",
    "\n",
    "tolerance_equal_array(a,b)\n",
    "notolerance_equal_array(a,b)\n"
   ]
  },
  {
   "cell_type": "markdown",
   "metadata": {},
   "source": [
    "#### 43. Make an array immutable (read-only) (★★☆)"
   ]
  },
  {
   "cell_type": "code",
   "execution_count": 65,
   "metadata": {
    "ExecuteTime": {
     "end_time": "2021-01-01T14:15:08.840788Z",
     "start_time": "2021-01-01T14:15:08.825414Z"
    }
   },
   "outputs": [
    {
     "name": "stdout",
     "output_type": "stream",
     "text": [
      "[0 1 2 3 4 5 6 7 8 9]\n"
     ]
    },
    {
     "ename": "ValueError",
     "evalue": "assignment destination is read-only",
     "output_type": "error",
     "traceback": [
      "\u001b[0;31m---------------------------------------------------------------------------\u001b[0m",
      "\u001b[0;31mValueError\u001b[0m                                Traceback (most recent call last)",
      "\u001b[0;32m<ipython-input-65-96eb6e06ce08>\u001b[0m in \u001b[0;36m<module>\u001b[0;34m\u001b[0m\n\u001b[1;32m      2\u001b[0m \u001b[0mz\u001b[0m\u001b[0;34m.\u001b[0m\u001b[0mflags\u001b[0m\u001b[0;34m.\u001b[0m\u001b[0mwriteable\u001b[0m \u001b[0;34m=\u001b[0m \u001b[0;32mFalse\u001b[0m   \u001b[0;31m#set writeable to false\u001b[0m\u001b[0;34m\u001b[0m\u001b[0;34m\u001b[0m\u001b[0m\n\u001b[1;32m      3\u001b[0m \u001b[0mprint\u001b[0m\u001b[0;34m(\u001b[0m\u001b[0mz\u001b[0m\u001b[0;34m)\u001b[0m\u001b[0;34m\u001b[0m\u001b[0;34m\u001b[0m\u001b[0m\n\u001b[0;32m----> 4\u001b[0;31m \u001b[0mz\u001b[0m\u001b[0;34m[\u001b[0m\u001b[0;36m0\u001b[0m\u001b[0;34m]\u001b[0m \u001b[0;34m=\u001b[0m \u001b[0;36m1\u001b[0m\u001b[0;34m\u001b[0m\u001b[0;34m\u001b[0m\u001b[0m\n\u001b[0m",
      "\u001b[0;31mValueError\u001b[0m: assignment destination is read-only"
     ]
    }
   ],
   "source": [
    "z = np.arange(10)\n",
    "z.flags.writeable = False   #set writeable to false\n",
    "print(z)\n",
    "z[0] = 1                    #attempt to change first value in array returns ValueError for read-only array"
   ]
  },
  {
   "cell_type": "markdown",
   "metadata": {},
   "source": [
    "#### 44. Consider a random 10x2 matrix representing cartesian coordinates, convert them to polar coordinates (★★☆)"
   ]
  },
  {
   "cell_type": "code",
   "execution_count": 92,
   "metadata": {
    "ExecuteTime": {
     "end_time": "2021-01-01T14:33:14.829396Z",
     "start_time": "2021-01-01T14:33:14.804545Z"
    }
   },
   "outputs": [
    {
     "name": "stdout",
     "output_type": "stream",
     "text": [
      "Pole/distance is [0.84337181 1.14913323 0.71255958 0.78284738 0.9977526  0.97293401\n",
      " 0.0652266  0.7973924  0.87601167 0.87023464]\n",
      "Theta is:  [0.1984374  0.56288586 0.68163078 1.20596108 0.77005757 0.13182907\n",
      " 1.31246073 0.06940702 1.4425105  1.08467752]\n"
     ]
    }
   ],
   "source": [
    "def cartesian_to_polar(z):\n",
    "    x,y = z[:,0], z[:,1]\n",
    "    r = np.sqrt((x**2)+(y**2))\n",
    "    print(\"Pole/distance is\", r)\n",
    "    if x.all() > 0:\n",
    "        theta = np.arctan(x/y)\n",
    "        print(\"Theta is: \", theta)\n",
    "    elif x.all() < 0:\n",
    "        theta = np.arctan((y/x)+np.pi)\n",
    "        print(\"Theta is: \", theta)\n",
    "        \n",
    "z = np.random.random((10,2))\n",
    "cartesian_to_polar(z)"
   ]
  },
  {
   "cell_type": "markdown",
   "metadata": {},
   "source": [
    "#### 45. Create random vector of size 10 and replace the maximum value by 0 (★★☆)"
   ]
  },
  {
   "cell_type": "code",
   "execution_count": 96,
   "metadata": {
    "ExecuteTime": {
     "end_time": "2021-01-01T14:37:10.477085Z",
     "start_time": "2021-01-01T14:37:10.473065Z"
    }
   },
   "outputs": [
    {
     "data": {
      "text/plain": [
       "2"
      ]
     },
     "execution_count": 96,
     "metadata": {},
     "output_type": "execute_result"
    }
   ],
   "source": [
    "z = np.random.random(10)\n",
    "np.argmax(z)"
   ]
  },
  {
   "cell_type": "markdown",
   "metadata": {},
   "source": [
    "#### 46. Create a structured array with `x` and `y` coordinates covering the \\[0,1\\]x\\[0,1\\] area (★★☆)"
   ]
  },
  {
   "cell_type": "code",
   "execution_count": 128,
   "metadata": {
    "ExecuteTime": {
     "end_time": "2021-01-01T14:56:07.561679Z",
     "start_time": "2021-01-01T14:56:07.552442Z"
    }
   },
   "outputs": [
    {
     "name": "stdout",
     "output_type": "stream",
     "text": [
      "[[(0.  , 0.  ) (0.25, 0.  ) (0.5 , 0.  ) (0.75, 0.  ) (1.  , 0.  )]\n",
      " [(0.  , 0.25) (0.25, 0.25) (0.5 , 0.25) (0.75, 0.25) (1.  , 0.25)]\n",
      " [(0.  , 0.5 ) (0.25, 0.5 ) (0.5 , 0.5 ) (0.75, 0.5 ) (1.  , 0.5 )]\n",
      " [(0.  , 0.75) (0.25, 0.75) (0.5 , 0.75) (0.75, 0.75) (1.  , 0.75)]\n",
      " [(0.  , 1.  ) (0.25, 1.  ) (0.5 , 1.  ) (0.75, 1.  ) (1.  , 1.  )]]\n"
     ]
    }
   ],
   "source": [
    "z = np.zeros((5,5), [('x',float),('y',float)])\n",
    "z['x'], z['y'] = np.meshgrid(np.linspace(0,1,5),\n",
    "                             np.linspace(0,1,5))\n",
    "print(z)"
   ]
  },
  {
   "cell_type": "markdown",
   "metadata": {},
   "source": [
    "####  47. Given two arrays, X and Y, construct the Cauchy matrix C (Cij =1/(xi - yj))"
   ]
  },
  {
   "cell_type": "code",
   "execution_count": 158,
   "metadata": {
    "ExecuteTime": {
     "end_time": "2021-01-01T15:43:55.700794Z",
     "start_time": "2021-01-01T15:43:55.681121Z"
    }
   },
   "outputs": [
    {
     "data": {
      "text/plain": [
       "array([[ -1.74167038,   5.6566466 ,  -3.82106557,   4.47048339,\n",
       "          6.87055928,  -1.98361712,  15.65759009,  -2.98725797],\n",
       "       [ -1.48532618,  12.87136327,  -2.77163061,   8.02580329,\n",
       "         21.52517851,  -1.65776754, -28.38929288,  -2.30496276],\n",
       "       [ -1.49082511,  12.47269247,  -2.7908394 ,   7.86897077,\n",
       "         20.43296434,  -1.66462034, -30.5425161 ,  -2.31823213],\n",
       "       [ -1.743622  ,   5.6361577 ,  -3.83047175,   4.45767663,\n",
       "          6.84035647,  -1.98614901,  15.50160679,  -2.99300385],\n",
       "       [ -4.79889741,   1.84310244,   9.60862594,   1.69644   ,\n",
       "          1.95568873,  -7.2280818 ,   2.32749186,  32.2319637 ],\n",
       "       [ -1.40123906,  26.81645327,  -2.492524  ,  11.8769344 ,\n",
       "        165.12786213,  -1.55370652, -13.22299072,  -2.1086023 ],\n",
       "       [ 18.25315885,   1.24111104,   2.72301944,   1.17283349,\n",
       "          1.29116383,   8.01173266,   1.44339034,   3.39914831],\n",
       "       [ -1.71840979,   5.91676523,  -3.71086404,   4.63139769,\n",
       "          7.25812429,  -1.95350096,  17.82694106,  -2.9194773 ]])"
      ]
     },
     "execution_count": 158,
     "metadata": {},
     "output_type": "execute_result"
    }
   ],
   "source": [
    "def cauchy_matrix(x,xsize,y,ysize):\n",
    "    x = np.random.random(xsize)\n",
    "    y = np.random.random(ysize)\n",
    "    cauchy = 1.0 / np.subtract.outer(x,y)\n",
    "    return cauchy\n",
    "\n",
    "cauchy_matrix(x,8,y,8)"
   ]
  },
  {
   "cell_type": "markdown",
   "metadata": {},
   "source": [
    "#### 48. Print the minimum and maximum representable value for each numpy scalar type (★★☆)"
   ]
  },
  {
   "cell_type": "code",
   "execution_count": 191,
   "metadata": {
    "ExecuteTime": {
     "end_time": "2021-01-01T16:06:43.592270Z",
     "start_time": "2021-01-01T16:06:43.580516Z"
    }
   },
   "outputs": [
    {
     "name": "stdout",
     "output_type": "stream",
     "text": [
      "Machine parameters for int8\n",
      "---------------------------------------------------------------\n",
      "min = -128\n",
      "max = 127\n",
      "---------------------------------------------------------------\n",
      "\n",
      "Machine parameters for int16\n",
      "---------------------------------------------------------------\n",
      "min = -32768\n",
      "max = 32767\n",
      "---------------------------------------------------------------\n",
      "\n",
      "Machine parameters for float16\n",
      "---------------------------------------------------------------\n",
      "precision =   3   resolution = 1.00040e-03\n",
      "machep =    -10   eps =        9.76562e-04\n",
      "negep =     -11   epsneg =     4.88281e-04\n",
      "minexp =    -14   tiny =       6.10352e-05\n",
      "maxexp =     16   max =        6.55040e+04\n",
      "nexp =        5   min =        -max\n",
      "---------------------------------------------------------------\n",
      "\n",
      "Machine parameters for int32\n",
      "---------------------------------------------------------------\n",
      "min = -2147483648\n",
      "max = 2147483647\n",
      "---------------------------------------------------------------\n",
      "\n",
      "Machine parameters for float32\n",
      "---------------------------------------------------------------\n",
      "precision =   6   resolution = 1.0000000e-06\n",
      "machep =    -23   eps =        1.1920929e-07\n",
      "negep =     -24   epsneg =     5.9604645e-08\n",
      "minexp =   -126   tiny =       1.1754944e-38\n",
      "maxexp =    128   max =        3.4028235e+38\n",
      "nexp =        8   min =        -max\n",
      "---------------------------------------------------------------\n",
      "\n",
      "Machine parameters for int64\n",
      "---------------------------------------------------------------\n",
      "min = -9223372036854775808\n",
      "max = 9223372036854775807\n",
      "---------------------------------------------------------------\n",
      "\n",
      "Machine parameters for float64\n",
      "---------------------------------------------------------------\n",
      "precision =  15   resolution = 1.0000000000000001e-15\n",
      "machep =    -52   eps =        2.2204460492503131e-16\n",
      "negep =     -53   epsneg =     1.1102230246251565e-16\n",
      "minexp =  -1022   tiny =       2.2250738585072014e-308\n",
      "maxexp =   1024   max =        1.7976931348623157e+308\n",
      "nexp =       11   min =        -max\n",
      "---------------------------------------------------------------\n",
      "\n"
     ]
    }
   ],
   "source": [
    "ii8 = np.iinfo(np.int8)\n",
    "print(ii8)\n",
    "\n",
    "ii16 = np.iinfo(np.int16)\n",
    "print(ii16)\n",
    "fi16 = np.finfo(np.float16)\n",
    "print(fi16)\n",
    "\n",
    "ii32 = np.iinfo(np.int32)\n",
    "print(ii32)\n",
    "fi32 = np.finfo(np.float32)\n",
    "print(fi32)\n",
    "\n",
    "ii64 = np.iinfo(np.int64)\n",
    "print(ii64)\n",
    "fi64 = np.finfo(np.float64)\n",
    "print(fi64)"
   ]
  },
  {
   "cell_type": "markdown",
   "metadata": {},
   "source": [
    "#### 49. How to print all the values of an array? (★★☆)"
   ]
  },
  {
   "cell_type": "code",
   "execution_count": 199,
   "metadata": {
    "ExecuteTime": {
     "end_time": "2021-01-01T16:12:52.640931Z",
     "start_time": "2021-01-01T16:12:52.624447Z"
    }
   },
   "outputs": [
    {
     "name": "stdout",
     "output_type": "stream",
     "text": [
      "[1.61831359e-01 7.80540902e-01 8.38268390e-01 8.18091623e-01\n",
      " 1.94300847e-01 8.06393659e-01 1.75572554e-02 4.23358846e-01\n",
      " 8.92372672e-01 8.81683683e-02 5.33355506e-01 9.97893259e-01\n",
      " 1.02553160e-01 4.99632411e-01 9.49609657e-02 1.05463201e-01\n",
      " 9.35471641e-01 7.04056062e-01 4.86032783e-01 3.78528526e-01\n",
      " 7.57797789e-01 7.56414979e-01 4.27992980e-01 4.11705265e-01\n",
      " 3.05333701e-01 9.17479319e-02 6.49724307e-01 6.27552166e-01\n",
      " 8.16278615e-01 4.85978438e-01 5.92265315e-01 9.68253503e-01\n",
      " 5.90365481e-01 7.83584782e-01 7.94799343e-01 2.88971331e-01\n",
      " 1.55254422e-01 4.54514461e-01 2.07075299e-01 8.83426113e-01\n",
      " 7.62129549e-01 2.80305624e-01 7.96584442e-02 4.56882304e-01\n",
      " 5.19971239e-01 7.03323114e-01 5.30887650e-01 4.58350834e-01\n",
      " 6.74624883e-01 5.66185253e-01 8.06032683e-01 6.10882782e-01\n",
      " 6.41914461e-01 3.20154021e-02 5.94904022e-01 9.06835727e-01\n",
      " 8.30339639e-01 9.75547981e-01 6.55420546e-01 1.66290316e-01\n",
      " 9.71594846e-01 3.57659321e-01 1.72281837e-01 8.30879826e-01\n",
      " 3.32918291e-01 3.53860219e-01 3.06658533e-02 6.52773449e-01\n",
      " 1.92814293e-01 4.49011561e-01 5.39145707e-02 1.10876542e-01\n",
      " 2.70247914e-01 4.52743441e-01 5.46913808e-01 9.15090543e-01\n",
      " 3.66445109e-01 9.76560927e-01 7.96399974e-01 1.86680623e-01\n",
      " 5.02576744e-01 3.79306819e-01 6.95395712e-02 3.17143587e-01\n",
      " 1.41467979e-01 2.57079516e-01 7.97580224e-01 9.35618650e-01\n",
      " 4.40367887e-01 8.39608877e-02 2.36724454e-01 7.34963643e-01\n",
      " 9.80144585e-01 7.65445589e-02 2.69772929e-01 5.56684608e-01\n",
      " 7.80969319e-01 9.60385352e-01 9.81644187e-01 1.88024898e-01\n",
      " 6.43626840e-01 3.36201007e-02 5.73445826e-02 2.24198583e-01\n",
      " 9.69339249e-01 6.56341284e-02 6.56076543e-01 9.25714078e-02\n",
      " 5.80175506e-01 1.31208344e-01 7.37611427e-01 2.52610261e-01\n",
      " 3.81171595e-01 7.38664255e-01 8.43441655e-01 5.68545129e-01\n",
      " 7.64405117e-01 3.79203219e-01 3.65341771e-03 8.90364724e-01\n",
      " 4.86119743e-01 8.85111564e-01 3.01543925e-01 8.69956392e-01\n",
      " 1.81949139e-01 8.10512782e-01 7.40520491e-01 8.36390157e-01\n",
      " 2.50524336e-01 4.10620140e-02 6.85695637e-01 6.73622747e-02\n",
      " 4.64921142e-01 9.17572308e-01 1.99200837e-02 7.61783945e-01\n",
      " 4.05589763e-01 4.33607339e-01 1.98864897e-01 2.68815460e-01\n",
      " 7.05282714e-01 3.92075453e-02 4.37280254e-01 6.51222996e-02\n",
      " 3.89963286e-01 8.82611337e-01 6.31690913e-01 8.94003414e-01\n",
      " 3.66464518e-01 5.90740959e-01 7.22092251e-01 7.83116141e-01\n",
      " 7.89472969e-01 5.94399799e-01 8.53725607e-01 3.00636695e-01\n",
      " 7.61378170e-01 9.20299803e-01 1.26947452e-01 2.20919386e-01\n",
      " 6.44244961e-01 4.65894701e-01 3.57103394e-01 5.23382411e-01\n",
      " 4.78903372e-01 4.10206671e-01 1.45994351e-01 3.52621606e-01\n",
      " 3.49216520e-01 5.51467571e-01 6.86291544e-01 4.03873062e-01\n",
      " 8.84539761e-01 6.78477882e-02 3.78596284e-01 1.33488039e-01\n",
      " 4.52969319e-01 1.58264747e-01 4.66198063e-01 6.03827974e-01\n",
      " 9.36742096e-01 3.98456537e-01 9.78432176e-01 4.75256480e-01\n",
      " 2.67300562e-01 5.03447115e-01 7.27450979e-01 2.81704501e-01\n",
      " 4.69328530e-01 6.81967298e-01 6.81397606e-01 2.17664789e-01\n",
      " 9.36987325e-01 8.24128529e-01 1.71411454e-01 6.60422297e-01\n",
      " 2.40928477e-01 9.49812833e-01 3.58717528e-01 2.11279253e-01\n",
      " 4.80208216e-01 8.42848975e-01 7.95341616e-01 6.17286707e-02\n",
      " 5.22950482e-01 4.71033989e-01 8.82766730e-02 9.95485451e-02\n",
      " 4.72019413e-01 9.71832004e-01 9.01648299e-01 1.50979666e-01\n",
      " 4.46464570e-01 4.30366300e-01 2.70616442e-01 3.13027101e-02\n",
      " 9.31965730e-01 4.63286777e-01 8.94020907e-05 5.70388106e-01\n",
      " 5.11904097e-01 1.96018009e-01 3.76920260e-01 6.34499769e-01\n",
      " 7.06048353e-01 7.38340260e-01 3.22066097e-01 8.36385832e-01\n",
      " 2.61850762e-01 4.04270167e-01 9.38290048e-01 3.77800826e-01\n",
      " 7.48573476e-01 5.44972234e-01 4.84695284e-01 6.38690445e-01\n",
      " 4.62992714e-01 3.77784807e-01 3.51155566e-01 8.46097987e-02\n",
      " 5.52068607e-01 9.45949627e-02 6.03701123e-01 8.18447203e-01\n",
      " 4.36101289e-01 7.72424427e-01 3.66273805e-01 3.72040013e-01\n",
      " 8.90373981e-01 4.41890508e-01 4.38493505e-01 3.42174467e-01\n",
      " 1.91004385e-01 7.83455203e-01 2.80138281e-01 7.86461541e-01\n",
      " 1.52539159e-01 1.67400261e-02 9.69417216e-01 7.52821712e-01\n",
      " 6.48873857e-01 9.86483548e-01 5.44834663e-01 4.95858842e-01\n",
      " 1.12874873e-01 7.42354077e-02 5.79831190e-01 7.79555342e-01\n",
      " 7.14616412e-01 3.09731645e-01 7.34732677e-03 6.09341160e-01\n",
      " 4.49352449e-01 9.15584323e-01 7.36355214e-01 3.30917749e-01\n",
      " 4.41203107e-01 1.87098436e-02 1.93140579e-01 6.22434990e-02\n",
      " 4.19779151e-01 3.28820986e-02 4.13905086e-01 9.96917906e-01\n",
      " 3.12167700e-01 8.55278333e-02 3.64108905e-01 6.88967859e-01\n",
      " 9.72157446e-01 4.84852005e-01 6.50334067e-01 3.53252342e-01\n",
      " 2.46100831e-01 5.03779900e-01 7.14163515e-01 8.47012329e-01\n",
      " 4.73350508e-01 7.15451383e-01 9.31135308e-01 4.58303242e-01\n",
      " 9.18862854e-02 4.33193543e-01 6.70106155e-02 4.30128898e-01\n",
      " 9.65335762e-01 1.23736517e-01 5.16420042e-01 2.60632678e-01\n",
      " 1.60199649e-01 2.16151844e-01 3.55015588e-01 5.95742662e-01\n",
      " 5.57933110e-01 1.32144162e-01 1.71112057e-01 6.08180577e-01\n",
      " 5.56291207e-01 9.68652221e-01 3.57067839e-01 6.80542478e-01\n",
      " 9.41871342e-01 2.65868392e-01 5.57620889e-01 3.91162335e-01\n",
      " 3.01516517e-02 7.90388443e-01 4.17580438e-01 8.47144845e-01\n",
      " 7.03984138e-01 8.25532783e-01 6.82995964e-01 5.62514779e-01\n",
      " 7.17457311e-01 6.75191391e-01 3.34065850e-01 2.08015754e-02\n",
      " 5.66536175e-01 4.41318503e-01 4.62606665e-01 9.44624957e-01\n",
      " 8.61106466e-01 1.48446347e-01 9.24362027e-01 1.65858855e-01\n",
      " 9.93208601e-01 8.19713818e-01 8.00076017e-01 9.00358493e-01\n",
      " 8.91492309e-01 1.65800523e-01 8.54181050e-01 1.17845329e-01\n",
      " 2.44032149e-01 5.15399263e-01 1.80362856e-01 3.89923103e-01\n",
      " 6.97357720e-01 8.90289061e-01 2.58363081e-01 2.83537380e-01\n",
      " 4.24399294e-01 9.55929005e-01 4.23712021e-01 7.07450579e-01\n",
      " 6.46327056e-01 9.01448639e-01 7.76610920e-01 8.50186123e-01\n",
      " 6.62673725e-02 4.59129063e-01 2.32948596e-01 4.31407800e-01\n",
      " 4.81790991e-01 5.06934344e-01 8.71607043e-01 4.95679297e-01\n",
      " 3.53640636e-01 5.14196951e-01 4.93825127e-01 6.01804501e-01\n",
      " 2.18894440e-01 5.05972958e-01 4.91360943e-01 5.17555729e-01\n",
      " 5.02792820e-01 7.32068745e-01 2.05573727e-01 8.51295472e-01\n",
      " 1.11629232e-01 2.28038588e-01 4.01278549e-01 6.99650502e-01\n",
      " 5.08218986e-01 1.98197353e-01 8.23839562e-01 3.16280542e-01\n",
      " 6.74803701e-01 3.58103409e-01 2.18115366e-01 6.81810741e-01\n",
      " 3.25803374e-01 4.84330032e-01 9.44707576e-01 7.50976207e-01\n",
      " 6.43007424e-01 9.06762166e-01 9.24227538e-01 5.86270506e-01\n",
      " 5.06228402e-01 8.97750317e-01 2.68399378e-01 1.96712461e-01\n",
      " 8.18957764e-01 2.03307074e-01 5.07639865e-01 6.22152827e-02\n",
      " 6.50102919e-02 3.34322121e-01 5.33685259e-01 5.67370934e-02\n",
      " 9.66264416e-01 8.84824623e-02 4.08482998e-01 8.90511902e-01\n",
      " 2.09800745e-01 4.42727593e-01 2.75171539e-01 9.67742563e-01\n",
      " 7.77298140e-01 2.70400545e-01 6.96127727e-01 6.27522700e-01\n",
      " 6.49522037e-01 8.71465548e-01 3.99527984e-01 3.30234402e-01\n",
      " 6.55714140e-01 3.29572870e-01 3.43137751e-01 2.46337892e-02\n",
      " 1.49120376e-01 4.39892319e-01 6.16305503e-01 8.76701205e-02\n",
      " 1.25125233e-02 5.65363873e-01 7.33191424e-02 2.95571842e-01\n",
      " 2.82627414e-01 6.34406967e-01 7.18550756e-02 3.21929130e-01\n",
      " 4.62419817e-01 1.74607680e-01 1.73338432e-03 8.24865629e-01\n",
      " 1.32377291e-01 5.27746220e-01 2.19933226e-01 4.46782268e-02\n",
      " 1.45234442e-01 9.94737929e-01 2.02988551e-01 2.60331831e-01\n",
      " 2.83268378e-01 7.06440919e-02 4.54816528e-01 1.96775696e-01\n",
      " 3.87280317e-01 7.37345321e-02 9.05627003e-01 9.47815159e-01\n",
      " 2.00641729e-01 9.45666516e-03 9.40223972e-01 4.77515638e-01\n",
      " 1.45777074e-01 4.95023350e-01 3.91535212e-01 1.41657542e-01\n",
      " 3.59409354e-01 8.37005878e-01 6.94311633e-01 9.38936838e-01\n",
      " 9.28116830e-01 6.99801653e-01 4.83188476e-01 2.79570621e-01\n",
      " 4.99701867e-01 6.44804509e-01 8.95932629e-01 1.28925521e-01\n",
      " 1.72254013e-01 3.05613607e-01 9.25378297e-02 3.58028822e-01\n",
      " 2.10099227e-01 7.79985538e-01 7.58826242e-01 7.95803898e-03\n",
      " 5.04112361e-01 5.25404040e-01 8.53452633e-01 7.50002177e-01\n",
      " 3.23900050e-01 8.44884876e-01 8.84444954e-01 6.78772236e-01\n",
      " 7.51331542e-02 2.20452169e-01 3.69205699e-01 3.74230064e-01\n",
      " 3.02609260e-01 4.30862659e-01 7.36914397e-01 4.73559757e-01\n",
      " 1.18594164e-01 2.44371663e-01 3.65521538e-01 9.98640453e-01\n",
      " 1.22526953e-01 3.54419683e-02 3.69680263e-01 7.90680251e-01\n",
      " 7.85956782e-01 9.16853201e-02 3.33032190e-01 4.42959216e-01\n",
      " 6.78943453e-01 6.50867004e-01 9.59479819e-01 7.25818359e-01\n",
      " 5.13562433e-01 5.03848138e-01 2.88773617e-01 6.29342147e-02\n",
      " 3.17359225e-01 9.59676033e-01 9.93150312e-01 1.98173239e-01\n",
      " 3.03877562e-01 5.60429333e-01 6.91409107e-01 8.31329774e-01\n",
      " 5.87418715e-01 7.07110291e-01 8.59271434e-01 2.83821363e-01\n",
      " 8.11270403e-01 6.20259258e-01 7.42002647e-02 6.85809497e-01\n",
      " 8.79339636e-01 4.02823349e-01 5.70484363e-01 1.24599456e-01\n",
      " 6.60632847e-01 2.01950798e-02 3.09469135e-01 9.95666358e-01\n",
      " 3.71508359e-01 3.30365998e-01 8.88169906e-01 2.33311536e-02\n",
      " 9.70293057e-01 1.48777646e-01 5.69932217e-01 2.31459882e-01\n",
      " 5.47327453e-01 2.27276134e-01 4.54471113e-01 6.62845269e-01\n",
      " 1.68217884e-01 3.06847297e-01 5.36027594e-01 5.58353801e-01\n",
      " 5.18196637e-02 1.85442422e-01 6.67242041e-02 8.73108529e-01\n",
      " 7.75757351e-01 6.25158031e-02 3.73654730e-01 9.24276020e-01\n",
      " 6.72900827e-01 8.58982488e-01 6.84308399e-02 5.46666346e-01\n",
      " 7.16549761e-01 4.21932658e-01 7.81964911e-01 2.82756520e-02\n",
      " 3.94059983e-01 2.13463294e-01 8.65293519e-01 4.33201232e-01\n",
      " 9.01382239e-01 9.28116693e-01 2.51526201e-01 8.54754381e-02\n",
      " 5.63128709e-01 1.94040479e-02 6.89907291e-01 1.80206716e-01\n",
      " 9.90089170e-01 8.28882837e-01 2.97916777e-01 3.90734093e-01\n",
      " 1.30546869e-01 5.90793337e-01 6.74961489e-01 3.69740848e-01\n",
      " 7.03617164e-02 8.00028043e-01 7.70658111e-01 1.91374376e-01\n",
      " 6.65277591e-01 1.19207837e-01 1.53319572e-01 3.37326751e-01\n",
      " 1.08995321e-01 6.56586806e-01 8.58820515e-01 7.59199100e-01\n",
      " 7.00625550e-01 2.07826491e-02 9.32807817e-01 4.45574309e-01\n",
      " 7.70568910e-01 7.38498167e-01 4.42471662e-01 8.65980004e-01\n",
      " 1.04604936e-01 6.14564032e-01 1.16100900e-01 8.80178081e-01\n",
      " 8.65971700e-01 6.09928035e-01 3.53520179e-01 6.21584056e-01\n",
      " 5.11658886e-01 3.57852333e-01 1.54518921e-01 6.89677339e-01\n",
      " 9.80637251e-01 3.76297946e-02 1.60915317e-01 9.10882307e-01\n",
      " 1.12169440e-01 2.21280274e-01 5.04933839e-01 7.18800078e-01\n",
      " 1.51036146e-01 9.52028344e-01 7.03357397e-02 7.91599738e-01\n",
      " 6.95206756e-01 3.67240839e-02 7.02175408e-01 7.79147459e-01\n",
      " 2.00991885e-01 3.69706632e-01 5.49843386e-01 5.51418634e-01\n",
      " 3.60059783e-01 7.34386953e-01 7.27067412e-01 9.75041562e-01\n",
      " 1.20448127e-01 1.80787226e-01 5.08890519e-01 6.06391885e-01\n",
      " 2.68358626e-01 8.43437046e-01 2.54175484e-01 9.28734961e-01\n",
      " 8.35962848e-01 7.23049698e-01 8.73574291e-01 8.32425174e-02\n",
      " 4.78162796e-01 2.59485489e-01 5.40263367e-01 6.25760285e-01\n",
      " 7.31533390e-01 5.54669738e-01 5.15539765e-02 1.12697809e-01\n",
      " 1.74375779e-01 2.77285307e-01 2.55677923e-01 6.03502374e-01\n",
      " 1.41699452e-01 7.72055455e-01 4.35106677e-01 2.91357440e-01\n",
      " 2.59211102e-01 6.92166240e-01 3.08757433e-01 3.57582498e-01\n",
      " 3.29585528e-01 2.81139894e-01 1.24678835e-01 9.26859920e-01\n",
      " 6.47346215e-01 4.01319754e-01 4.52364698e-01 9.41466485e-01\n",
      " 5.10843866e-01 1.92304509e-01 3.37432534e-01 4.86553231e-01\n",
      " 3.29178769e-01 7.74307924e-02 1.84853725e-01 9.43495910e-01\n",
      " 3.36293496e-01 8.60030262e-01 2.23520431e-01 1.06834251e-01\n",
      " 2.11789831e-01 7.69614586e-01 8.24951139e-01 9.30887544e-02\n",
      " 4.30576634e-01 5.75847583e-01 8.58493316e-01 4.09360757e-01\n",
      " 9.91636766e-01 8.60998537e-01 9.08661438e-01 1.83983949e-01\n",
      " 2.52542909e-01 7.76157103e-01 9.96602794e-01 5.98496304e-01\n",
      " 7.74096501e-01 8.43174372e-01 5.40224493e-01 8.75598881e-01\n",
      " 9.16381235e-01 1.46359617e-01 3.05272973e-01 7.40299241e-01\n",
      " 5.55191813e-02 8.19546888e-01 7.76679612e-01 2.68957336e-01\n",
      " 3.47469917e-01 6.39801072e-01 4.14295444e-01 5.46210869e-01\n",
      " 7.84691317e-01 3.97392170e-01 6.61904647e-01 7.14083464e-01\n",
      " 6.24789165e-01 8.53274684e-01 3.01492746e-02 5.12858160e-01\n",
      " 8.12391158e-01 9.20751360e-01 2.31111902e-01 2.68934030e-02\n",
      " 2.28792061e-01 6.01195595e-01 3.54157837e-01 3.00713712e-01\n",
      " 1.99670029e-01 6.48706703e-01 7.22042549e-01 6.24907708e-01\n",
      " 7.97165312e-01 3.71303114e-02 2.39750247e-01 1.66567179e-01\n",
      " 8.19811545e-01 1.19821702e-01 4.41615316e-01 5.63730228e-01\n",
      " 7.45399253e-01 7.74540661e-02 6.43655524e-01 9.83598985e-01\n",
      " 7.37511636e-01 6.92507605e-01 8.72726609e-02 4.39333599e-01\n",
      " 7.82072295e-01 8.27277896e-01 6.47718729e-01 6.34591482e-02\n",
      " 8.28027067e-01 5.84417844e-01 9.14803555e-01 8.92542549e-01\n",
      " 1.13865856e-01 5.30849356e-01 2.93976170e-01 6.94177184e-01\n",
      " 4.24297522e-01 6.81352937e-01 5.77748084e-01 9.24087187e-01\n",
      " 3.58118592e-01 7.68090207e-01 5.12902044e-01 7.99730311e-02\n",
      " 3.99007897e-02 6.18036356e-01 9.70473375e-01 9.74073248e-01\n",
      " 6.99242494e-01 5.03696797e-01 8.36420737e-01 1.09869407e-01\n",
      " 3.19756450e-01 4.41135729e-01 3.16324063e-02 7.53818436e-01\n",
      " 4.72697655e-01 4.75222486e-01 2.49009942e-01 9.32652393e-01\n",
      " 4.02558484e-01 9.72085871e-01 7.61247580e-01 9.64984138e-01\n",
      " 4.32537746e-01 6.74396604e-01 4.64203912e-01 7.70399247e-01\n",
      " 4.71988519e-02 4.49852255e-01 9.35591949e-01 6.05615251e-01\n",
      " 4.21345463e-01 9.08204460e-01 5.29631350e-01 9.69353269e-01\n",
      " 6.75222483e-02 5.34530586e-01 2.01623167e-01 1.18180592e-01\n",
      " 1.18094581e-01 2.00234586e-01 2.18008438e-01 2.80512372e-01\n",
      " 7.38867174e-01 4.72498258e-01 5.65700837e-01 2.01017822e-01\n",
      " 8.36523493e-01 9.27068395e-01 3.04008550e-01 9.96252535e-01\n",
      " 9.16715787e-01 1.52117929e-01 5.64446615e-01 5.47628569e-01\n",
      " 4.50505043e-01 2.48524195e-01 3.62328159e-01 1.07824971e-01\n",
      " 2.74708101e-01 4.78028516e-01 3.40606177e-01 7.99275433e-01\n",
      " 3.20881942e-01 1.86443481e-01 1.01833842e-01 3.33188594e-01\n",
      " 4.40145669e-01 7.74838611e-01 6.94107038e-01 7.70992217e-01\n",
      " 9.74759380e-01 2.72956028e-01 2.12604340e-02 1.10472156e-01\n",
      " 6.26762269e-01 2.80563298e-01 9.75237364e-01 6.22961865e-01\n",
      " 3.17386367e-01 8.74929261e-01 7.58961551e-01 6.33728734e-01\n",
      " 5.30737898e-01 4.15685329e-01 3.99384380e-01 6.44865724e-02\n",
      " 1.35716278e-01 3.35340224e-01 4.02862747e-01 7.92498819e-01\n",
      " 2.39581459e-01 8.45768943e-01 5.05065916e-01 4.55655219e-01\n",
      " 1.70296314e-01 3.85937124e-01 6.49243178e-01 6.64184648e-01\n",
      " 7.58544015e-01 5.04404471e-01 8.70285526e-01 1.07927706e-01\n",
      " 9.56567454e-02 6.62344227e-01 2.15429749e-01 3.33044994e-01\n",
      " 3.37363904e-01 6.52116204e-01 7.84428187e-01 8.23482931e-01\n",
      " 4.08916890e-01 7.78253515e-02 7.91973716e-01 6.53217855e-01\n",
      " 6.26785966e-01 3.24441726e-01 5.32459583e-01 8.56967541e-01\n",
      " 1.55778808e-01 1.14780715e-01 7.69608184e-01 6.39793826e-01\n",
      " 3.38322936e-01 9.95636497e-01 8.55550101e-01 2.32710930e-01\n",
      " 7.87843889e-01 1.42622729e-01 6.13606547e-01 3.89462863e-02\n",
      " 3.21816106e-01 6.08530211e-01 4.86946096e-01 8.52927719e-01\n",
      " 7.51694114e-01 8.21816784e-01 3.80279873e-01 8.57344267e-01\n",
      " 8.47893279e-01 4.96382631e-01 7.32572410e-01 7.92227408e-01\n",
      " 3.47635671e-01 1.34734250e-01 8.98228670e-01 4.13265472e-01\n",
      " 3.04682480e-02 1.90473917e-01 4.99564799e-01 2.74307953e-01\n",
      " 4.98510184e-01 6.79649481e-02 4.00983629e-01 7.84437968e-01\n",
      " 7.21045847e-01 5.60006907e-01 9.03121507e-01 4.79298969e-01\n",
      " 3.02605689e-01 5.49998316e-02 2.70434929e-01 7.57783104e-01\n",
      " 5.24284711e-01 2.19931337e-01 4.41571381e-01 2.43373478e-01\n",
      " 9.55313565e-03 3.75364459e-01 8.22103247e-01 8.30372996e-01\n",
      " 8.98475816e-01 4.14502672e-01 1.48328133e-01 5.32014774e-01\n",
      " 8.96014646e-01 7.30302755e-01 1.42718841e-01 4.51436924e-01\n",
      " 1.46338809e-01 3.83962353e-01 7.15095234e-01 6.18375977e-01\n",
      " 6.27250684e-01 7.06458701e-01 1.67882773e-01 8.09521634e-01\n",
      " 6.87285787e-01 1.84070533e-01 7.00161993e-01 5.95489556e-01\n",
      " 2.18106177e-01 9.81288083e-01 7.24239972e-01 3.35974275e-01]\n"
     ]
    }
   ],
   "source": [
    "import sys as sys\n",
    "np.set_printoptions(threshold=sys.maxsize)\n",
    "z = np.random.random(1000)\n",
    "print(z)"
   ]
  },
  {
   "cell_type": "markdown",
   "metadata": {},
   "source": [
    "#### 50. How to find the closest value (to a given scalar) in a vector? (★★☆)"
   ]
  },
  {
   "cell_type": "code",
   "execution_count": 216,
   "metadata": {
    "ExecuteTime": {
     "end_time": "2021-01-01T16:27:53.622376Z",
     "start_time": "2021-01-01T16:27:53.605307Z"
    }
   },
   "outputs": [
    {
     "name": "stdout",
     "output_type": "stream",
     "text": [
      "Vector: \n",
      " [0.77120725 0.15596659 0.02566069 0.53716417 0.72116437 0.52456857\n",
      " 0.20681952 0.31353844 0.81782298 0.33412591 0.81280862]\n",
      "\n",
      "Given Scalar: \n",
      " 2\n",
      "\n",
      "Closest value to the given scalar in array: \n",
      " 0.838268390286982\n"
     ]
    }
   ],
   "source": [
    "def find_closest_value(x, v):\n",
    "    v = float()\n",
    "    x = np.array(x)\n",
    "    index = np.abs(x-v).argmin()\n",
    "    return z[index]\n",
    "\n",
    "b = np.random.random(11)\n",
    "print(\"Vector: \\n\", b)\n",
    "c = 2\n",
    "print(\"\\nGiven Scalar: \\n\", c)\n",
    "print(\"\\nClosest value to the given scalar in array: \\n\", find_closest_value(b,c))"
   ]
  },
  {
   "cell_type": "markdown",
   "metadata": {},
   "source": [
    "#### 51. Create a structured array representing a position (x,y) and a color (r,g,b) (★★☆)"
   ]
  },
  {
   "cell_type": "code",
   "execution_count": 287,
   "metadata": {
    "ExecuteTime": {
     "end_time": "2021-01-01T17:38:19.378166Z",
     "start_time": "2021-01-01T17:38:19.352979Z"
    }
   },
   "outputs": [
    {
     "name": "stdout",
     "output_type": "stream",
     "text": [
      "(x,y):  [3 2] \n",
      "(r,g,b):  [4 2 6]\n",
      "Merged array:  [3 2 4 2 6]\n",
      "(x,y):  [0.85851898 0.27127113 0.72540017 0.39812172 0.37892917 0.68180018\n",
      " 0.16824638 0.18021019] \n",
      "(r,g,b):  [0.38184926 0.90571536 0.16349242]\n",
      "Merged array:  [0.85851898 0.27127113 0.72540017 0.39812172 0.37892917 0.68180018\n",
      " 0.16824638 0.18021019 0.38184926 0.90571536 0.16349242]\n",
      "(x,y):  [0. 0. 0. 0. 0. 0. 0. 0. 0. 0.] \n",
      "(r,g,b):  [0. 0. 0.]\n",
      "Merged array:  [0. 0. 0. 0. 0. 0. 0. 0. 0. 0. 0. 0. 0.]\n"
     ]
    }
   ],
   "source": [
    "def position_color(position, color):\n",
    "    position = np.array(position)\n",
    "    color = np.array(color)\n",
    "\n",
    "    print(\"(x,y): \", position, \"\\n(r,g,b): \", color)\n",
    "    x = np.hstack((position,color))\n",
    "    print(\"Merged array: \", x)\n",
    "    \n",
    "position_color((3,2),(4,2,6))\n",
    "\n",
    "a = np.random.random(8)\n",
    "b = np.random.random(3)\n",
    "position_color(a,b)\n",
    "\n",
    "a0 = np.zeros(10)\n",
    "b0 = np.zeros(3)\n",
    "position_color(a0, b0)"
   ]
  },
  {
   "cell_type": "markdown",
   "metadata": {},
   "source": [
    "#### 52. Consider a random vector with shape (100,2) representing coordinates, find point by point distances (★★☆)"
   ]
  },
  {
   "cell_type": "code",
   "execution_count": null,
   "metadata": {},
   "outputs": [],
   "source": []
  },
  {
   "cell_type": "markdown",
   "metadata": {},
   "source": [
    "#### 53. How to convert a float (32 bits) array into an integer (32 bits) in place?"
   ]
  },
  {
   "cell_type": "code",
   "execution_count": null,
   "metadata": {},
   "outputs": [],
   "source": []
  },
  {
   "cell_type": "markdown",
   "metadata": {},
   "source": [
    "#### 54. How to read the following file? (★★☆)"
   ]
  },
  {
   "cell_type": "markdown",
   "metadata": {},
   "source": [
    "```\n",
    "1, 2, 3, 4, 5\n",
    "6,  ,  , 7, 8\n",
    " ,  , 9,10,11\n",
    "```"
   ]
  },
  {
   "cell_type": "code",
   "execution_count": null,
   "metadata": {},
   "outputs": [],
   "source": []
  },
  {
   "cell_type": "markdown",
   "metadata": {},
   "source": [
    "#### 55. What is the equivalent of enumerate for numpy arrays? (★★☆)"
   ]
  },
  {
   "cell_type": "code",
   "execution_count": null,
   "metadata": {},
   "outputs": [],
   "source": []
  },
  {
   "cell_type": "markdown",
   "metadata": {},
   "source": [
    "#### 56. Generate a generic 2D Gaussian-like array (★★☆)"
   ]
  },
  {
   "cell_type": "code",
   "execution_count": null,
   "metadata": {},
   "outputs": [],
   "source": []
  },
  {
   "cell_type": "markdown",
   "metadata": {},
   "source": [
    "#### 57. How to randomly place p elements in a 2D array? (★★☆)"
   ]
  },
  {
   "cell_type": "code",
   "execution_count": null,
   "metadata": {},
   "outputs": [],
   "source": []
  },
  {
   "cell_type": "markdown",
   "metadata": {},
   "source": [
    "#### 58. Subtract the mean of each row of a matrix (★★☆)"
   ]
  },
  {
   "cell_type": "code",
   "execution_count": null,
   "metadata": {},
   "outputs": [],
   "source": []
  },
  {
   "cell_type": "markdown",
   "metadata": {},
   "source": [
    "#### 59. How to sort an array by the nth column? (★★☆)"
   ]
  },
  {
   "cell_type": "code",
   "execution_count": null,
   "metadata": {},
   "outputs": [],
   "source": []
  },
  {
   "cell_type": "markdown",
   "metadata": {},
   "source": [
    "#### 60. How to tell if a given 2D array has null columns? (★★☆)"
   ]
  },
  {
   "cell_type": "code",
   "execution_count": null,
   "metadata": {},
   "outputs": [],
   "source": []
  },
  {
   "cell_type": "markdown",
   "metadata": {},
   "source": [
    "#### 61. Find the nearest value from a given value in an array (★★☆)"
   ]
  },
  {
   "cell_type": "code",
   "execution_count": null,
   "metadata": {},
   "outputs": [],
   "source": []
  },
  {
   "cell_type": "markdown",
   "metadata": {},
   "source": [
    "#### 62. Considering two arrays with shape (1,3) and (3,1), how to compute their sum using an iterator? (★★☆)"
   ]
  },
  {
   "cell_type": "code",
   "execution_count": null,
   "metadata": {},
   "outputs": [],
   "source": []
  },
  {
   "cell_type": "markdown",
   "metadata": {},
   "source": [
    "#### 63. Create an array class that has a name attribute (★★☆)"
   ]
  },
  {
   "cell_type": "code",
   "execution_count": null,
   "metadata": {},
   "outputs": [],
   "source": []
  },
  {
   "cell_type": "markdown",
   "metadata": {},
   "source": [
    "#### 64. Consider a given vector, how to add 1 to each element indexed by a second vector (be careful with repeated indices)? (★★★)"
   ]
  },
  {
   "cell_type": "code",
   "execution_count": null,
   "metadata": {},
   "outputs": [],
   "source": []
  },
  {
   "cell_type": "markdown",
   "metadata": {},
   "source": [
    "#### 65. How to accumulate elements of a vector (X) to an array (F) based on an index list (I)? (★★★)"
   ]
  },
  {
   "cell_type": "code",
   "execution_count": null,
   "metadata": {},
   "outputs": [],
   "source": []
  },
  {
   "cell_type": "markdown",
   "metadata": {},
   "source": [
    "#### 66. Considering a (w,h,3) image of (dtype=ubyte), compute the number of unique colors (★★★)"
   ]
  },
  {
   "cell_type": "code",
   "execution_count": null,
   "metadata": {},
   "outputs": [],
   "source": []
  },
  {
   "cell_type": "markdown",
   "metadata": {},
   "source": [
    "#### 67. Considering a four dimensions array, how to get sum over the last two axis at once? (★★★)"
   ]
  },
  {
   "cell_type": "code",
   "execution_count": null,
   "metadata": {},
   "outputs": [],
   "source": []
  },
  {
   "cell_type": "markdown",
   "metadata": {},
   "source": [
    "#### 68. Considering a one-dimensional vector D, how to compute means of subsets of D using a vector S of same size describing subset  indices? (★★★)"
   ]
  },
  {
   "cell_type": "code",
   "execution_count": null,
   "metadata": {},
   "outputs": [],
   "source": []
  },
  {
   "cell_type": "markdown",
   "metadata": {},
   "source": [
    "#### 69. How to get the diagonal of a dot product? (★★★)"
   ]
  },
  {
   "cell_type": "code",
   "execution_count": null,
   "metadata": {},
   "outputs": [],
   "source": []
  },
  {
   "cell_type": "markdown",
   "metadata": {},
   "source": [
    "#### 70. Consider the vector \\[1, 2, 3, 4, 5\\], how to build a new vector with 3 consecutive zeros interleaved between each value? (★★★)"
   ]
  },
  {
   "cell_type": "code",
   "execution_count": null,
   "metadata": {},
   "outputs": [],
   "source": []
  },
  {
   "cell_type": "markdown",
   "metadata": {},
   "source": [
    "#### 71. Consider an array of dimension (5,5,3), how to mulitply it by an array with dimensions (5,5)? (★★★)"
   ]
  },
  {
   "cell_type": "code",
   "execution_count": null,
   "metadata": {
    "collapsed": true
   },
   "outputs": [],
   "source": []
  },
  {
   "cell_type": "markdown",
   "metadata": {},
   "source": [
    "#### 72. How to swap two rows of an array? (★★★)"
   ]
  },
  {
   "cell_type": "code",
   "execution_count": null,
   "metadata": {},
   "outputs": [],
   "source": []
  },
  {
   "cell_type": "markdown",
   "metadata": {},
   "source": [
    "#### 73. Consider a set of 10 triplets describing 10 triangles (with shared vertices), find the set of unique line segments composing all the  triangles (★★★)"
   ]
  },
  {
   "cell_type": "code",
   "execution_count": null,
   "metadata": {},
   "outputs": [],
   "source": []
  },
  {
   "cell_type": "markdown",
   "metadata": {},
   "source": [
    "#### 74. Given an array C that is a bincount, how to produce an array A such that np.bincount(A) == C? (★★★)"
   ]
  },
  {
   "cell_type": "code",
   "execution_count": null,
   "metadata": {},
   "outputs": [],
   "source": []
  },
  {
   "cell_type": "markdown",
   "metadata": {},
   "source": [
    "#### 75. How to compute averages using a sliding window over an array? (★★★)"
   ]
  },
  {
   "cell_type": "code",
   "execution_count": null,
   "metadata": {},
   "outputs": [],
   "source": []
  },
  {
   "cell_type": "markdown",
   "metadata": {},
   "source": [
    "#### 76. Consider a one-dimensional array Z, build a two-dimensional array whose first row is (Z\\[0\\],Z\\[1\\],Z\\[2\\]) and each subsequent row is  shifted by 1 (last row should be (Z\\[-3\\],Z\\[-2\\],Z\\[-1\\]) (★★★)"
   ]
  },
  {
   "cell_type": "code",
   "execution_count": null,
   "metadata": {},
   "outputs": [],
   "source": []
  },
  {
   "cell_type": "markdown",
   "metadata": {},
   "source": [
    "#### 77. How to negate a boolean, or to change the sign of a float inplace? (★★★)"
   ]
  },
  {
   "cell_type": "code",
   "execution_count": null,
   "metadata": {},
   "outputs": [],
   "source": []
  },
  {
   "cell_type": "markdown",
   "metadata": {},
   "source": [
    "#### 78. Consider 2 sets of points P0,P1 describing lines (2d) and a point p, how to compute distance from p to each line i  (P0\\[i\\],P1\\[i\\])? (★★★)"
   ]
  },
  {
   "cell_type": "code",
   "execution_count": null,
   "metadata": {},
   "outputs": [],
   "source": []
  },
  {
   "cell_type": "markdown",
   "metadata": {},
   "source": [
    "#### 79. Consider 2 sets of points P0,P1 describing lines (2d) and a set of points P, how to compute distance from each point j (P\\[j\\]) to each line i (P0\\[i\\],P1\\[i\\])? (★★★)"
   ]
  },
  {
   "cell_type": "code",
   "execution_count": null,
   "metadata": {},
   "outputs": [],
   "source": []
  },
  {
   "cell_type": "markdown",
   "metadata": {},
   "source": [
    "#### 80. Consider an arbitrary array, write a function that extract a subpart with a fixed shape and centered on a given element (pad with a `fill` value when necessary) (★★★)"
   ]
  },
  {
   "cell_type": "code",
   "execution_count": null,
   "metadata": {},
   "outputs": [],
   "source": []
  },
  {
   "cell_type": "markdown",
   "metadata": {},
   "source": [
    "#### 81. Consider an array Z = \\[1,2,3,4,5,6,7,8,9,10,11,12,13,14\\], how to generate an array R = \\[\\[1,2,3,4\\], \\[2,3,4,5\\], \\[3,4,5,6\\], ..., \\[11,12,13,14\\]\\]? (★★★)"
   ]
  },
  {
   "cell_type": "code",
   "execution_count": null,
   "metadata": {},
   "outputs": [],
   "source": []
  },
  {
   "cell_type": "markdown",
   "metadata": {},
   "source": [
    "#### 82. Compute a matrix rank (★★★)"
   ]
  },
  {
   "cell_type": "code",
   "execution_count": null,
   "metadata": {},
   "outputs": [],
   "source": []
  },
  {
   "cell_type": "markdown",
   "metadata": {},
   "source": [
    "#### 83. How to find the most frequent value in an array?"
   ]
  },
  {
   "cell_type": "code",
   "execution_count": null,
   "metadata": {},
   "outputs": [],
   "source": []
  },
  {
   "cell_type": "markdown",
   "metadata": {},
   "source": [
    "#### 84. Extract all the contiguous 3x3 blocks from a random 10x10 matrix (★★★)"
   ]
  },
  {
   "cell_type": "code",
   "execution_count": null,
   "metadata": {},
   "outputs": [],
   "source": []
  },
  {
   "cell_type": "markdown",
   "metadata": {},
   "source": [
    "#### 85. Create a 2D array subclass such that Z\\[i,j\\] == Z\\[j,i\\] (★★★)"
   ]
  },
  {
   "cell_type": "code",
   "execution_count": null,
   "metadata": {},
   "outputs": [],
   "source": []
  },
  {
   "cell_type": "markdown",
   "metadata": {},
   "source": [
    "#### 86. Consider a set of p matrices wich shape (n,n) and a set of p vectors with shape (n,1). How to compute the sum of of the p matrix products at once? (result has shape (n,1)) (★★★)"
   ]
  },
  {
   "cell_type": "code",
   "execution_count": null,
   "metadata": {},
   "outputs": [],
   "source": []
  },
  {
   "cell_type": "markdown",
   "metadata": {},
   "source": [
    "#### 87. Consider a 16x16 array, how to get the block-sum (block size is 4x4)? (★★★)"
   ]
  },
  {
   "cell_type": "code",
   "execution_count": null,
   "metadata": {},
   "outputs": [],
   "source": []
  },
  {
   "cell_type": "markdown",
   "metadata": {},
   "source": [
    "#### 88. How to implement the Game of Life using numpy arrays? (★★★)"
   ]
  },
  {
   "cell_type": "code",
   "execution_count": null,
   "metadata": {},
   "outputs": [],
   "source": []
  },
  {
   "cell_type": "markdown",
   "metadata": {},
   "source": [
    "#### 89. How to get the n largest values of an array (★★★)"
   ]
  },
  {
   "cell_type": "code",
   "execution_count": null,
   "metadata": {},
   "outputs": [],
   "source": []
  },
  {
   "cell_type": "markdown",
   "metadata": {},
   "source": [
    "#### 90. Given an arbitrary number of vectors, build the cartesian product (every combinations of every item) (★★★)"
   ]
  },
  {
   "cell_type": "code",
   "execution_count": null,
   "metadata": {
    "scrolled": true
   },
   "outputs": [],
   "source": []
  },
  {
   "cell_type": "markdown",
   "metadata": {},
   "source": [
    "#### 91. How to create a record array from a regular array? (★★★)"
   ]
  },
  {
   "cell_type": "code",
   "execution_count": null,
   "metadata": {},
   "outputs": [],
   "source": []
  },
  {
   "cell_type": "markdown",
   "metadata": {},
   "source": [
    "#### 92. Consider a large vector Z, compute Z to the power of 3 using 3 different methods (★★★)"
   ]
  },
  {
   "cell_type": "code",
   "execution_count": null,
   "metadata": {},
   "outputs": [],
   "source": []
  },
  {
   "cell_type": "markdown",
   "metadata": {},
   "source": [
    "#### 93. Consider two arrays A and B of shape (8,3) and (2,2). How to find rows of A that contain elements of each row of B regardless of the order of the elements in B? (★★★)"
   ]
  },
  {
   "cell_type": "code",
   "execution_count": null,
   "metadata": {},
   "outputs": [],
   "source": []
  },
  {
   "cell_type": "markdown",
   "metadata": {},
   "source": [
    "#### 94. Considering a 10x3 matrix, extract rows with unequal values (e.g. \\[2,2,3\\]) (★★★)"
   ]
  },
  {
   "cell_type": "code",
   "execution_count": null,
   "metadata": {},
   "outputs": [],
   "source": []
  },
  {
   "cell_type": "markdown",
   "metadata": {},
   "source": [
    "#### 95. Convert a vector of ints into a matrix binary representation (★★★)"
   ]
  },
  {
   "cell_type": "code",
   "execution_count": null,
   "metadata": {},
   "outputs": [],
   "source": []
  },
  {
   "cell_type": "markdown",
   "metadata": {},
   "source": [
    "#### 96. Given a two dimensional array, how to extract unique rows? (★★★)"
   ]
  },
  {
   "cell_type": "code",
   "execution_count": null,
   "metadata": {},
   "outputs": [],
   "source": []
  },
  {
   "cell_type": "markdown",
   "metadata": {},
   "source": [
    "#### 97. Considering 2 vectors A & B, write the einsum equivalent of inner, outer, sum, and mul function (★★★)"
   ]
  },
  {
   "cell_type": "code",
   "execution_count": null,
   "metadata": {},
   "outputs": [],
   "source": []
  },
  {
   "cell_type": "markdown",
   "metadata": {},
   "source": [
    "#### 98. Considering a path described by two vectors (X,Y), how to sample it using equidistant samples (★★★)?"
   ]
  },
  {
   "cell_type": "code",
   "execution_count": null,
   "metadata": {
    "collapsed": true
   },
   "outputs": [],
   "source": []
  },
  {
   "cell_type": "markdown",
   "metadata": {},
   "source": [
    "#### 99. Given an integer n and a 2D array X, select from X the rows which can be interpreted as draws from a multinomial distribution with n degrees, i.e., the rows which only contain integers and which sum to n. (★★★)"
   ]
  },
  {
   "cell_type": "code",
   "execution_count": null,
   "metadata": {},
   "outputs": [],
   "source": []
  },
  {
   "cell_type": "markdown",
   "metadata": {},
   "source": [
    "#### 100. Compute bootstrapped 95% confidence intervals for the mean of a 1D array X (i.e., resample the elements of an array with replacement N times, compute the mean of each sample, and then compute percentiles over the means). (★★★)"
   ]
  },
  {
   "cell_type": "code",
   "execution_count": null,
   "metadata": {},
   "outputs": [],
   "source": []
  }
 ],
 "metadata": {
  "kernelspec": {
   "display_name": "Python 3",
   "language": "python",
   "name": "python3"
  },
  "language_info": {
   "codemirror_mode": {
    "name": "ipython",
    "version": 3
   },
   "file_extension": ".py",
   "mimetype": "text/x-python",
   "name": "python",
   "nbconvert_exporter": "python",
   "pygments_lexer": "ipython3",
   "version": "3.8.3"
  }
 },
 "nbformat": 4,
 "nbformat_minor": 1
}
