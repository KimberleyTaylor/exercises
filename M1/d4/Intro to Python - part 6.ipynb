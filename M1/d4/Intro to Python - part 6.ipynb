{
 "cells": [
  {
   "cell_type": "markdown",
   "metadata": {
    "cell_id": "00000-1fe26145-993c-4436-96b7-5eb28aa8ec1e",
    "deepnote_cell_type": "markdown"
   },
   "source": [
    "# Intro to Python - Exercises - Part 6"
   ]
  },
  {
   "cell_type": "markdown",
   "metadata": {
    "cell_id": "00001-fdc366e5-7367-414f-835c-cd73c1c4eb55",
    "deepnote_cell_type": "markdown"
   },
   "source": [
    "## 6. Strings"
   ]
  },
  {
   "cell_type": "markdown",
   "metadata": {
    "cell_id": "00002-94b6715f-008f-4347-9936-f91171d647b2",
    "deepnote_cell_type": "markdown"
   },
   "source": [
    "Until now, most examples and exercises have been using numbers. In daily life, it is far more commonplace to deal with textual information. So are you ever going to learn how to deal with texts?\n",
    "\n",
    "The reason that dealing with texts was postponed until this point, is that dealing with numbers is simply easier than dealing with texts. But in the present section, the first steps are taken to learn to manipulate textual information.\n",
    "\n",
    "Texts, in programming languages, are dealt with in the form of strings. This section is on the details of strings, and on readily-available functions to juggle them."
   ]
  },
  {
   "cell_type": "markdown",
   "metadata": {
    "cell_id": "00003-36b54c36-6ca9-4aae-8144-bea491eb16d2",
    "deepnote_cell_type": "markdown"
   },
   "source": [
    "### Multi-line strings"
   ]
  },
  {
   "cell_type": "markdown",
   "metadata": {
    "cell_id": "00004-239c1bee-72e1-4512-a48e-dd81a26b0f72",
    "deepnote_cell_type": "markdown"
   },
   "source": [
    "Strings in Python may span across multiple lines. This can be useful when you have a very long string, or when you want to format the output of the string in a certain way. Multi-line strings can be achieved in two ways:\n",
    "\n",
    "1. With single or double quotes, and an indication that the remainder of the string continues on the next line with a backslash.\n",
    "2. With triple single or double quotes.\n",
    "\n",
    "I first demonstrate how this works when you use the regular string enclosure with one double or single quote at each end of the string:"
   ]
  },
  {
   "cell_type": "code",
   "execution_count": null,
   "metadata": {
    "cell_id": "00005-fe076b4a-0b8f-4a65-8902-927da12509d4",
    "deepnote_cell_type": "code"
   },
   "outputs": [
    {
     "name": "stdout",
     "output_type": "stream",
     "text": [
      "I'm fed up with being treated like sheep. What's the point of going abroad if you're just another tourist carted around in buses surrounded by sweaty mindless oafs from Kettering and Coventry in their cloth caps and their cardigans and their transistor radios and their Sunday Mirrors, complaining about the tea - 'Oh they don't make it properly here, do they, not like at home' - and stopping at Majorcan bodegas selling fish and chips and Watney's Red Barrel and calamaris and two veg and sitting in their cotton frocks squirting Timothy White's suncream all over their puffy raw swollen purulent flesh 'cos they 'overdid it on the first day.\n"
     ]
    }
   ],
   "source": [
    "longString = \"I'm fed up with being treated like sheep. \\\n",
    "What's the point of going abroad if you're just another \\\n",
    "tourist carted around in buses surrounded by sweaty \\\n",
    "mindless oafs from Kettering and Coventry in their \\\n",
    "cloth caps and their cardigans and their transistor \\\n",
    "radios and their Sunday Mirrors, complaining about \\\n",
    "the tea - 'Oh they don't make it properly here, do they, \\\n",
    "not like at home' - and stopping at Majorcan bodegas \\\n",
    "selling fish and chips and Watney's Red Barrel and \\\n",
    "calamaris and two veg and sitting in their cotton frocks \\\n",
    "squirting Timothy White's suncream all over their puffy \\\n",
    "raw swollen purulent flesh 'cos they 'overdid it on the first day.\"\n",
    "print(longString)"
   ]
  },
  {
   "cell_type": "markdown",
   "metadata": {
    "cell_id": "00006-d631df56-9817-4fbe-9d24-779c0a19b314",
    "deepnote_cell_type": "markdown"
   },
   "source": [
    "As you can see, Python now interprets this example as a single line of text. The backslash (`\\`) can actually be included after any Python statement to indicate that it continues on the next line, and it can be quite useful for that, for instance when you write long calculations.\n",
    "\n",
    "The recommended way to write multi-line strings in Python is, however, to use triple double or single quotes. I indicated earlier that you can use those to write multi-line comments. Such comments are basically large strings in the middle of your Python program, which do nothing as they are not assigned to a variable.\n",
    "\n",
    "Here is an example of a long string with triple double quotes:"
   ]
  },
  {
   "cell_type": "code",
   "execution_count": null,
   "metadata": {
    "cell_id": "00007-016f6639-5ec5-481a-be33-4d9b166e95de",
    "deepnote_cell_type": "code"
   },
   "outputs": [
    {
     "name": "stdout",
     "output_type": "stream",
     "text": [
      "And being herded into endless Hotel Miramars and Bellevueses \n",
      "and Continentales with their modern international luxury \n",
      "roomettes and draught Red Barrel and swimming pools full \n",
      "of fat German businessmen pretending they're acrobats forming \n",
      "pyramids and frightening the children and barging into queues \n",
      "and if you're not at your table spot on seven you miss the \n",
      "bowl of Campbell's Cream of Mushroom soup, the first item on \n",
      "the menu of International Cuisine, and every Thursday night \n",
      "the hotel has a bloody cabaret in the bar, featuring a tiny \n",
      "emaciated dago with nine-inch hips and some bloated fat tart \n",
      "with her hair brylcreemed down and a big arse presenting \n",
      "Flamenco for Foreigners.\n"
     ]
    }
   ],
   "source": [
    "longString = \"\"\"And being herded into endless Hotel Miramars and Bellevueses \n",
    "and Continentales with their modern international luxury \n",
    "roomettes and draught Red Barrel and swimming pools full \n",
    "of fat German businessmen pretending they're acrobats forming \n",
    "pyramids and frightening the children and barging into queues \n",
    "and if you're not at your table spot on seven you miss the \n",
    "bowl of Campbell's Cream of Mushroom soup, the first item on \n",
    "the menu of International Cuisine, and every Thursday night \n",
    "the hotel has a bloody cabaret in the bar, featuring a tiny \n",
    "emaciated dago with nine-inch hips and some bloated fat tart \n",
    "with her hair brylcreemed down and a big arse presenting \n",
    "Flamenco for Foreigners.\"\"\"\n",
    "print(longString)"
   ]
  },
  {
   "cell_type": "markdown",
   "metadata": {
    "cell_id": "00008-5521a3e3-3df0-49f2-8c2d-60cecaf7060f",
    "deepnote_cell_type": "markdown"
   },
   "source": [
    "The interesting difference between these two examples is that in the first example, the string was interpreted as one long, continuous series of characters, while in the second example the different lines are all printed on different lines on the output. The reason that this happens is that there is an invisible character included at the end of each line in the second example that indicates that Python should move to the next line before continuing. This is the so-called \"newline\" character, and you can actually insert it explicitly into a string, using the code \"`\\n`\". So this code should not be read as two characters, the backslash and the \"n\", but as a single newline character. By using it, you can ensure that you print the output on multiple lines, even if you use the backslash to indicate the continuation of the string, as was done in the first example. For example:"
   ]
  },
  {
   "cell_type": "code",
   "execution_count": null,
   "metadata": {
    "cell_id": "00009-79b8b248-d61b-44f6-b475-9d114cf36a94",
    "deepnote_cell_type": "code"
   },
   "outputs": [
    {
     "name": "stdout",
     "output_type": "stream",
     "text": [
      "And then some adenoidal typists from Birmingham with flabby\n",
      "white legs and diarrhoea trying to pick up hairy bandy-legged\n",
      "wop waiters called Manuel and once a week there's an excursion\n",
      "to the local Roman Ruins to buy cherryade and melted ice cream\n",
      "and bleeding Watney's Red Barrel and one evening you visit the\n",
      "so called typical restaurant with local colour and atmosphere\n",
      "and you sit next to a party from Rhyl who keep singing\n",
      "'Torremolinos, torremolinos' and complaining about the food -\n",
      "'It's so greasy here, isn't it?' - and you get cornered by some\n",
      "drunken greengrocer from Luton with an Instamatic camera and\n",
      "Dr. Scholl sandals and last Tuesday's Daily Express and he\n",
      "drones on and on and on about how Mr. Smith should be running\n",
      "this country and how many languages Enoch Powell can speak and\n",
      "then he throws up over the Cuba Libres.\n"
     ]
    }
   ],
   "source": [
    "longstring = \"And then some adenoidal typists from Birmingham with flabby\\n\\\n",
    "white legs and diarrhoea trying to pick up hairy bandy-legged\\n\\\n",
    "wop waiters called Manuel and once a week there's an excursion\\n\\\n",
    "to the local Roman Ruins to buy cherryade and melted ice cream\\n\\\n",
    "and bleeding Watney's Red Barrel and one evening you visit the\\n\\\n",
    "so called typical restaurant with local colour and atmosphere\\n\\\n",
    "and you sit next to a party from Rhyl who keep singing\\n\\\n",
    "'Torremolinos, torremolinos' and complaining about the food -\\n\\\n",
    "'It's so greasy here, isn't it?' - and you get cornered by some\\n\\\n",
    "drunken greengrocer from Luton with an Instamatic camera and\\n\\\n",
    "Dr. Scholl sandals and last Tuesday's Daily Express and he\\n\\\n",
    "drones on and on and on about how Mr. Smith should be running\\n\\\n",
    "this country and how many languages Enoch Powell can speak and\\n\\\n",
    "then he throws up over the Cuba Libres.\"\n",
    "print(longstring)"
   ]
  },
  {
   "cell_type": "markdown",
   "metadata": {
    "cell_id": "00010-888e7387-aa51-4bc1-a6a8-84933fca6a9d",
    "deepnote_cell_type": "markdown"
   },
   "source": [
    "This means that if you do not want automatic newline characters inserted into a multi-line string, you have to use the first approach, with the backslash at the end of the line. If you are okay with newline characters in your multi-line string, the second approach is probably the easiest to read."
   ]
  },
  {
   "cell_type": "markdown",
   "metadata": {
    "cell_id": "00011-adb415d3-3c0a-47b3-8cd8-2b89adb79d40",
    "deepnote_cell_type": "markdown"
   },
   "source": [
    "### Escape sequences"
   ]
  },
  {
   "cell_type": "markdown",
   "metadata": {
    "cell_id": "00012-df043841-4d99-48d3-adc0-7fd388591521",
    "deepnote_cell_type": "markdown"
   },
   "source": [
    "\"`\\n`\" is a so-called \"escape sequence\". An escape sequence is a string character written as a backslash followed by a code, which can be one or multiple characters. Python interprets escape sequences in a string as a special character; a control character."
   ]
  },
  {
   "cell_type": "code",
   "execution_count": null,
   "metadata": {
    "cell_id": "00013-c7a92a09-56aa-407d-b8da-e5dc7aa970b1",
    "deepnote_cell_type": "code"
   },
   "outputs": [
    {
     "name": "stdout",
     "output_type": "stream",
     "text": [
      "orange\n",
      "banana\n"
     ]
    }
   ],
   "source": [
    "word1 = \"orange\"\n",
    "word2 = \"banana\"\n",
    "\n",
    "def add_newline_between_words(word1,word2):\n",
    "    new_line = word1 + \"\\n\" + word2\n",
    "    return(new_line)\n",
    "    \n",
    "print(add_newline_between_words(word1,word2))"
   ]
  },
  {
   "cell_type": "markdown",
   "metadata": {
    "cell_id": "00014-614bbd30-c3ef-4e78-8120-d6ba4627f20e",
    "deepnote_cell_type": "markdown"
   },
   "source": [
    "Besides the newline character there are more special characters \"`\\'`\" and \"`\\\"`\", which can be used to place a single respectively double quote in a string, regardless of what characters surround the string. I also mentioned that you can use \"`\\\\`\" to insert a \"real\" backslash in a string. \n",
    "\n",
    "There are a few more \"backslash sequences\" which lead to a special character. Most of these are archaic and you do not need to worry about them. The one I want to mention are \"`\\t`\" which represents a single tabulation (also known as the 'tab')."
   ]
  },
  {
   "cell_type": "code",
   "execution_count": null,
   "metadata": {
    "cell_id": "00015-9e02b7a1-a1b2-4311-bd96-e4a3fc989fdd",
    "deepnote_cell_type": "code"
   },
   "outputs": [
    {
     "name": "stdout",
     "output_type": "stream",
     "text": [
      "'orange'\n",
      "\torange\"\n"
     ]
    }
   ],
   "source": [
    "d = \"test\"\n",
    "m = \"me\" \n",
    "\n",
    "def place_word_between_single_quotes(w1):\n",
    "    new_line = '\\'' + word1 + \"\\'\"\n",
    "    return(new_line)\n",
    "print(place_word_between_single_quotes(m))\n",
    "\n",
    "\n",
    "def place_word_between_double_quotes(w1):\n",
    "    new_line = '\\t' + word1 + '\"'\n",
    "    return(new_line)\n",
    "print(place_word_between_double_quotes(d))"
   ]
  },
  {
   "cell_type": "markdown",
   "metadata": {
    "cell_id": "00016-16372c74-1c20-4109-bde5-4f226fb1b945",
    "deepnote_cell_type": "markdown"
   },
   "source": [
    "Extra information for students who want to know more, but not necessary for this course:\n",
    "\n",
    "There is another character \"`\\xnn`\" whereby `nn` stands for two hexadecimal digits, which represents the character with hexadecimal number `nn`. For example, \"`\\x20`\" is the character expressed by the hexadecimal number `20`, which is the same as the decimal number `32`, which is the space (this will be explained later in this chapter).\n",
    "\n",
    "In case you never learned about hexadecimal counting: hexadecimals use a numbering scheme that uses 16 different digits. We use ten (`0` to `9`), binary uses two (`0` to `1`), and hexidecimal then uses `0` to `9` and then continues from `A` to `F`. A direct translation from hexadecimals to decimals turns `A` into `10`, `B` into `11`, etcetera. In decimal counting, the value of a multi-digit number is found by multiplying the digits by increasing powers of `10`, from right to left, e.g., the number `1426` is `6 + 2*10 + 4*100 + 1*1000`. For hexadecimal numbers you do the same thing, but multiply by powers of `16`, e.g., the hexadecimal number `4AF2` is `2 + 15*16 + 10*256 + 4*4096`. Programmers tend to like hexadecimal numbers, as computers work with bytes as the smallest unit of memory storage, and a byte can store 256 different values, i.e., any byte value can be expressed by a hexadecimal number of two digits. "
   ]
  },
  {
   "cell_type": "markdown",
   "metadata": {
    "cell_id": "00017-4c74a118-9dea-46e8-800c-df85713fb317",
    "deepnote_cell_type": "markdown"
   },
   "source": [
    "### Accessing characters of a string"
   ]
  },
  {
   "cell_type": "markdown",
   "metadata": {
    "cell_id": "00018-8cb7bae0-690f-432b-a75e-0879cbd5c15b",
    "deepnote_cell_type": "markdown"
   },
   "source": [
    "As I showed several times before, a string is a collection of characters in a specific order. You can access the individual characters of a string using indices."
   ]
  },
  {
   "cell_type": "markdown",
   "metadata": {
    "cell_id": "00019-4fa44748-3cf1-4020-b67b-0b714b1356a4",
    "deepnote_cell_type": "markdown"
   },
   "source": [
    "### String indices"
   ]
  },
  {
   "cell_type": "markdown",
   "metadata": {
    "cell_id": "00020-cf48bd6e-0eda-41ee-ab4c-38170e726290",
    "deepnote_cell_type": "markdown"
   },
   "source": [
    "Each symbol in a string has a position, this position can be referred to by the index number of the position. The index numbers start at 0 and then increase to the length of the string. The following table shows the word \"orange\" in the first row and the indices for each letter in the second and third rows:\n",
    "\n",
    "&nbsp;&nbsp;__`  o  r  a  n  g  e`__<br>\n",
    "&nbsp;&nbsp;`  0  1  2  3  4  5`<br>\n",
    "` -6 -5 -4 -3 -2 -1`\n",
    "\n",
    "As you can see, you can use positive indices, which start at the first letter of the string and increase until the end of the string is reached, or negative indices, which start with -1 for the last letter of the string and decrease until the first letter of the string is reached.\n",
    "\n",
    "As the length of a string `s` is `len(s)`, the last letter of the string has index `len(s)-1`. With negative indices, the first letter of the string has index `-len(s)`.\n",
    "\n",
    "If a string is stored in a variable, the individual letters of the string can be accessed by the variable name and the index of the requested letter between square brackets (`[]`) next to it."
   ]
  },
  {
   "cell_type": "code",
   "execution_count": null,
   "metadata": {
    "cell_id": "00021-e662a1c8-cd2e-4d01-889a-b0b16bf48bdf",
    "deepnote_cell_type": "code"
   },
   "outputs": [
    {
     "name": "stdout",
     "output_type": "stream",
     "text": [
      "r\n",
      "a\n",
      "g\n",
      "e\n",
      "o\n",
      "n\n"
     ]
    }
   ],
   "source": [
    "fruit = \"orange\"\n",
    "\n",
    "def print_indices(fruit,n):\n",
    "    print(fruit[n])\n",
    "    \n",
    "print_indices(fruit,1) \n",
    "print_indices(fruit,2) \n",
    "print_indices(fruit,4)\n",
    "print_indices(fruit,-1)\n",
    "print_indices(fruit,-6)\n",
    "print_indices(fruit,-3)"
   ]
  },
  {
   "cell_type": "markdown",
   "metadata": {
    "cell_id": "00022-03c93264-cf30-4d32-804e-dd1d4b30c6d3",
    "deepnote_cell_type": "markdown"
   },
   "source": [
    "Besides using single indices you can also access a substring (also called a \"slice\") from a string by using two numbers between the square brackets with a colon (`:`) in between. The first of these numbers is the index where the substring starts, the second where it ends. The substring does *not* include the letter at the second index. By leaving out the left number you indicate that the substring starts at the beginning of the string (i.e., at index 0). By leaving out the right number you indicate that the substring ranges up to and includes the last character of the string.\n",
    "\n",
    "If you try to access a character using an index that is beyond the reaches of a string, you get a runtime error (\"index out of bounds\"). For a range of indices to access substrings such limitations do not exist; you can use numbers that are outside the bounds of the string."
   ]
  },
  {
   "cell_type": "code",
   "execution_count": null,
   "metadata": {
    "cell_id": "00023-92a40236-8b50-47b2-a3c2-3dd1824b5b06",
    "deepnote_cell_type": "code"
   },
   "outputs": [
    {
     "name": "stdout",
     "output_type": "stream",
     "text": [
      "orange\n",
      "orange\n",
      "orang\n",
      "orange\n",
      "orange\n",
      "rang\n",
      "a range\n"
     ]
    }
   ],
   "source": [
    "fruit = \"orange\"\n",
    "print(fruit[:])\n",
    "print(fruit[0:])\n",
    "print(fruit[:5])\n",
    "print(fruit[:100])\n",
    "print(fruit[:len(fruit)])\n",
    "print(fruit[1:-1])\n",
    "print(fruit[2], fruit[1:6])"
   ]
  },
  {
   "cell_type": "markdown",
   "metadata": {
    "cell_id": "00024-f4f1de23-3ae9-4942-8e24-b7641908453a",
    "deepnote_cell_type": "markdown"
   },
   "source": [
    "### Traversing strings"
   ]
  },
  {
   "cell_type": "markdown",
   "metadata": {
    "cell_id": "00025-57d35d5d-a678-42ec-aaae-8fa2219628bf",
    "deepnote_cell_type": "markdown"
   },
   "source": [
    "We already saw how you can traverse the characters of a string using a `for` loop:"
   ]
  },
  {
   "cell_type": "code",
   "execution_count": null,
   "metadata": {
    "cell_id": "00026-3abc53a5-f832-4f53-b76b-653273aa92be",
    "deepnote_cell_type": "code"
   },
   "outputs": [
    {
     "name": "stdout",
     "output_type": "stream",
     "text": [
      "a - p - p - l - e - \n"
     ]
    }
   ],
   "source": [
    "fruit = 'apple'\n",
    "\n",
    "def traverse_characters(word):\n",
    "    new_word = \"\"\n",
    "    for char in word:\n",
    "        new_word+=(char + ' - ')\n",
    "    return new_word\n",
    "print(traverse_characters(fruit))"
   ]
  },
  {
   "cell_type": "markdown",
   "metadata": {
    "cell_id": "00027-90052ce3-a551-4385-95d7-36a9015505cb",
    "deepnote_cell_type": "markdown"
   },
   "source": [
    "Now you know about indices, you probably realize you can also use those to traverse the characters of a string:"
   ]
  },
  {
   "cell_type": "code",
   "execution_count": null,
   "metadata": {
    "cell_id": "00028-95440430-87e8-44b0-b90c-57c5e2d44ca4",
    "deepnote_cell_type": "code"
   },
   "outputs": [
    {
     "name": "stdout",
     "output_type": "stream",
     "text": [
      "a - p - p - l - e - \n",
      "a - p - p - l - e - \n"
     ]
    }
   ],
   "source": [
    "fruit = 'apple'\n",
    "\n",
    "def traverse_characters2(word):\n",
    "    new_word = \"\"\n",
    "    for i in range(0, len(word)):\n",
    "        new_word += word[i] + \" - \"\n",
    "    return new_word       \n",
    "    \n",
    "def traverse_characters3(word):                            \n",
    "    new_word = \"\"\n",
    "    i = 0\n",
    "    while i < len(word):\n",
    "        new_word += word[i] + \" - \"\n",
    "        i += 1\n",
    "    return new_word\n",
    "\n",
    "print(traverse_characters2(fruit)+\"\\n\"+traverse_characters3(fruit))"
   ]
  },
  {
   "cell_type": "markdown",
   "metadata": {
    "cell_id": "00029-44a95fcf-36cf-4aac-baa7-8d3f18f54a93",
    "deepnote_cell_type": "markdown"
   },
   "source": [
    "If you just want to traverse the individual characters of a string, the first method, using `for <character> in <string>:`, is by far the most elegant and readable. However, occasionally you have to solve problems in which you might prefer one of the other methods.\n",
    "\n",
    "**Exercise (optional)**: Write code that for a string prints the indices of all of its vowels (`a`, `e`, `i`, `o`, and `u`). This can be done with a `for` loop or a `while` loop."
   ]
  },
  {
   "cell_type": "code",
   "execution_count": 2,
   "metadata": {
    "ExecuteTime": {
     "end_time": "2021-01-01T15:18:53.688741Z",
     "start_time": "2021-01-01T15:18:53.679537Z"
    },
    "cell_id": "00030-8342b7ed-9587-4f00-8fea-bdb7682ca76f",
    "deepnote_cell_type": "code",
    "execution_millis": 10,
    "execution_start": 1607004577092,
    "output_cleared": false,
    "source_hash": "49754cbe"
   },
   "outputs": [
    {
     "name": "stdout",
     "output_type": "stream",
     "text": [
      "e\n",
      "i\n",
      "o\n"
     ]
    }
   ],
   "source": [
    "# Indices of vowels\n",
    "def index_vowels (text):\n",
    "    vowels = (\"a\", \"e\", \"i\", \"o\", \"u\")\n",
    "    for char in vowels:\n",
    "        if char in text:\n",
    "            print(char)\n",
    "\n",
    "    \n",
    "#index_vowels(\"apple\")\n",
    "index_vowels(\"ftyievhjkkyddsoor\")"
   ]
  },
  {
   "cell_type": "markdown",
   "metadata": {
    "cell_id": "00031-0f43b1fc-aeff-457b-a416-139bc0aac68d",
    "deepnote_cell_type": "markdown"
   },
   "source": [
    "**Exercise (optional)**: Write code that uses two strings. For each character in the first string that has exactly the same character at the same index in the second string, you print the character and the index. Watch out that you do not get an \"index out of bounds\" runtime error."
   ]
  },
  {
   "cell_type": "code",
   "execution_count": null,
   "metadata": {
    "cell_id": "00032-857f8063-d07b-4895-aeca-1ac792d14257",
    "deepnote_cell_type": "code",
    "execution_millis": 0,
    "execution_start": 1607004869056,
    "output_cleared": false,
    "source_hash": "80d4c91f"
   },
   "outputs": [
    {
     "name": "stdout",
     "output_type": "stream",
     "text": [
      "5\n",
      "11\n",
      "5\n",
      "11\n",
      "5\n",
      "11\n",
      "5\n",
      "11\n",
      "5\n",
      "11\n",
      "5\n",
      "11\n",
      "5\n",
      "11\n",
      "5\n",
      "11\n",
      "5\n",
      "11\n",
      "5\n",
      "11\n",
      "5\n",
      "11\n",
      "5\n",
      "11\n",
      "5\n",
      "11\n",
      "5\n",
      "11\n",
      "5\n",
      "11\n",
      "5\n",
      "11\n",
      "5\n",
      "11\n",
      "5\n",
      "11\n",
      "5\n",
      "11\n",
      "5\n",
      "11\n",
      "5\n",
      "11\n",
      "5\n",
      "11\n",
      "5\n",
      "11\n",
      "5\n",
      "11\n",
      "5\n",
      "11\n",
      "5\n",
      "11\n",
      "5\n",
      "11\n",
      "5\n",
      "11\n"
     ]
    }
   ],
   "source": [
    "# Your function\n",
    "s1 = \"The Holy Grail\"\n",
    "s2 = \"Life of Brian\"\n",
    "\n",
    "def similar_char(text1, text2):\n",
    "    for char in text1, text2:\n",
    "        for i in range(len(text1)):\n",
    "            for i in range(len(text2)):\n",
    "                if text1[i] == text2[i]:\n",
    "                    print(i)\n",
    "        \n",
    "similar_char(s1, s2)\n",
    "\n",
    "        \n",
    "#print(similar_char(s1, s2))"
   ]
  },
  {
   "cell_type": "markdown",
   "metadata": {
    "cell_id": "00033-79b3b161-584e-4da0-bd35-1b9c7bc2625e",
    "deepnote_cell_type": "markdown"
   },
   "source": [
    "**Exercise (optional)**: Write a function that takes a string as argument, and creates a new string that is a copy of the argument, except that every non-letter is replaced by a space (e.g., \"`ph@t l00t`\" is changed to \"`ph t l  t`\"). To write such a function, you will start with an empty string, and traverse the characters of the argument one by one. When you encounter a character that is acceptable, you add it to the new string. When it is not acceptable, you add a space to the new string. Note that you can check whether a character is acceptable by simple comparisons, e.g., any lower case letter can be found using the test `if ch >= 'a' and ch <= 'z':`. "
   ]
  },
  {
   "cell_type": "code",
   "execution_count": null,
   "metadata": {
    "cell_id": "00034-b3af3aa5-52c2-4442-86bd-3f9857a1e674",
    "deepnote_cell_type": "code"
   },
   "outputs": [
    {
     "name": "stdout",
     "output_type": "stream",
     "text": [
      "Aph t    t\n"
     ]
    }
   ],
   "source": [
    "# String cleaning function\n",
    "def clean_string(string):\n",
    "  \n",
    "\n",
    "clean_string(\"Aph@t 100t\")"
   ]
  },
  {
   "cell_type": "markdown",
   "metadata": {
    "cell_id": "00035-87d4581a-7801-47a3-8446-06a7eea18938",
    "deepnote_cell_type": "markdown"
   },
   "source": [
    "### Extended slices"
   ]
  },
  {
   "cell_type": "markdown",
   "metadata": {
    "cell_id": "00036-4b908c9a-4a37-4fdf-99ca-45c491300315",
    "deepnote_cell_type": "markdown"
   },
   "source": [
    "Slices (substrings) in python can take a third argument, which is the step size (or \"stride\") that is taken between indices. It is similar to the third argument for the `range()` function. The format for slices then becomes `<string>[<begin>:<end>:<step>]`. By default the step size is 1.\n",
    "\n",
    "The most common use for the step size is to use a negative step size in order to create a reversed version of a string."
   ]
  },
  {
   "cell_type": "code",
   "execution_count": null,
   "metadata": {
    "cell_id": "00037-b423e5e4-0587-4d16-bba0-88a6ac97d42d",
    "deepnote_cell_type": "code"
   },
   "outputs": [
    {
     "name": "stdout",
     "output_type": "stream",
     "text": [
      "bnn\n",
      "aaa\n",
      "ananab\n",
      "aaa\n"
     ]
    }
   ],
   "source": [
    "fruit = \"banana\"\n",
    "print(fruit[::2])\n",
    "print(fruit[1::2])\n",
    "print(fruit[::-1]) \n",
    "print(fruit[::-2]) "
   ]
  },
  {
   "cell_type": "markdown",
   "metadata": {
    "cell_id": "00038-e8cf34a9-c3b8-4ef6-a2c5-f701b3b8c08a",
    "deepnote_cell_type": "markdown"
   },
   "source": [
    "Reversing a string using `[::-1]` is conceptually similar to traversing the string from the last character to the beginning of the string using backward steps of size 1."
   ]
  },
  {
   "cell_type": "code",
   "execution_count": null,
   "metadata": {
    "cell_id": "00039-e0a8ad2e-b29c-43b3-9b88-8ba69acc30c4",
    "deepnote_cell_type": "code",
    "execution_millis": 0,
    "execution_start": 1607023128328,
    "output_cleared": false,
    "source_hash": "5ee37338"
   },
   "outputs": [],
   "source": [
    "fruit = \"banana\"                \n",
    "for i in range(len(fruit), -1):\n",
    "    print(fruit[i])   "
   ]
  },
  {
   "cell_type": "markdown",
   "metadata": {
    "cell_id": "00040-2d614ede-3305-4bdb-9e64-0782a5f8bb70",
    "deepnote_cell_type": "markdown"
   },
   "source": [
    "### Strings are immutable"
   ]
  },
  {
   "cell_type": "markdown",
   "metadata": {
    "cell_id": "00041-8f372747-8ca5-4d05-a1d0-8fa97c71079e",
    "deepnote_cell_type": "markdown"
   },
   "source": [
    "A core property of strings is that they are *immutable*. This means that they cannot be changed. For instance, you cannot change a character of a string by assigning a new value to it. As a demonstration, the following code leads to a runtime error if you try to run it:"
   ]
  },
  {
   "cell_type": "code",
   "execution_count": null,
   "metadata": {
    "cell_id": "00042-8add73f2-007e-4b9b-a243-8ffab4131293",
    "deepnote_cell_type": "code"
   },
   "outputs": [
    {
     "ename": "TypeError",
     "evalue": "'str' object does not support item assignment",
     "output_type": "error",
     "traceback": [
      "\u001b[0;31m---------------------------------------------------------------------------\u001b[0m",
      "\u001b[0;31mTypeError\u001b[0m                                 Traceback (most recent call last)",
      "\u001b[0;32m<ipython-input-15-3306202ba96f>\u001b[0m in \u001b[0;36m<module>\u001b[0;34m\u001b[0m\n\u001b[1;32m      1\u001b[0m \u001b[0mfruit\u001b[0m \u001b[0;34m=\u001b[0m \u001b[0;34m\"oringe\"\u001b[0m\u001b[0;34m\u001b[0m\u001b[0;34m\u001b[0m\u001b[0m\n\u001b[0;32m----> 2\u001b[0;31m \u001b[0mfruit\u001b[0m\u001b[0;34m[\u001b[0m\u001b[0;36m2\u001b[0m\u001b[0;34m]\u001b[0m \u001b[0;34m=\u001b[0m \u001b[0;34m\"a\"\u001b[0m\u001b[0;34m\u001b[0m\u001b[0;34m\u001b[0m\u001b[0m\n\u001b[0m\u001b[1;32m      3\u001b[0m \u001b[0mprint\u001b[0m\u001b[0;34m(\u001b[0m\u001b[0mfruit\u001b[0m\u001b[0;34m)\u001b[0m\u001b[0;34m\u001b[0m\u001b[0;34m\u001b[0m\u001b[0m\n",
      "\u001b[0;31mTypeError\u001b[0m: 'str' object does not support item assignment"
     ]
    }
   ],
   "source": [
    "fruit = \"oringe\"\n",
    "fruit[2] = \"a\"\n",
    "print(fruit)"
   ]
  },
  {
   "cell_type": "markdown",
   "metadata": {
    "cell_id": "00043-f3e07917-7bbe-41b8-b77d-48ba1c008e67",
    "deepnote_cell_type": "markdown"
   },
   "source": [
    "If you want to make a change to a string, you have to create a new string that contains the change; you can then assign the new string to the existing variable if you want. For instance:"
   ]
  },
  {
   "cell_type": "code",
   "execution_count": null,
   "metadata": {
    "cell_id": "00044-8feb880d-d38d-4f32-864e-1748609588a7",
    "deepnote_cell_type": "code"
   },
   "outputs": [
    {
     "name": "stdout",
     "output_type": "stream",
     "text": [
      "orange\n"
     ]
    }
   ],
   "source": [
    "fruit = \"oringe\"\n",
    "fruit = fruit[:2] + \"a\" + fruit[3:]\n",
    "print(fruit)"
   ]
  },
  {
   "cell_type": "markdown",
   "metadata": {
    "cell_id": "00045-e10af8fb-54a1-4557-8cac-9ae8c7283ea9",
    "deepnote_cell_type": "markdown"
   },
   "source": [
    "The reasons for why strings are immutable are beyond the scope of this course. Just remember that if you want to modify a string you need to overwrite the entire string, and you cannot modify individual indices."
   ]
  },
  {
   "cell_type": "markdown",
   "metadata": {
    "cell_id": "00046-2f20dd2e-ba2a-4faa-a004-a7a79fb0ee77",
    "deepnote_cell_type": "markdown"
   },
   "source": [
    "### `string` methods"
   ]
  },
  {
   "cell_type": "markdown",
   "metadata": {
    "cell_id": "00047-98b7639d-c19e-44ba-85b8-66823bbe216b",
    "deepnote_cell_type": "markdown"
   },
   "source": [
    "There is a collection of methods that are designed to operate on strings. All of these methods are applied to a string to perform some operation. Since strings are immutable, they *never change* the string they work on, but they always `return` a changed version of the string.\n",
    "\n",
    "All these methods are called as `<string>.<method>()`, i.e., you have to write the string that they work on before the method call, with a period in between. You will encounter this more often, and why this is implemented in this way will be explained later in the course, in the chapters about object orientation.\n",
    "\n",
    "Most of these methods are not part of a specific module, but can be called without importing them. There is a `string` module that contains specific constants and methods that can be used in your programs, but the methods I discuss here can all be used without importing the `string` module."
   ]
  },
  {
   "cell_type": "markdown",
   "metadata": {
    "cell_id": "00048-addfebdb-7c77-4bad-9860-7a81061d28be",
    "deepnote_cell_type": "markdown"
   },
   "source": [
    "### `strip()`"
   ]
  },
  {
   "cell_type": "markdown",
   "metadata": {
    "cell_id": "00049-79c9b970-26cc-452e-b396-508e7b1f668d",
    "deepnote_cell_type": "markdown"
   },
   "source": [
    "`strip()` removes from a string leading and trailing spaces, including leading and trailing newlines and other characters that may be viewed as spaces. There are no parameters. See the following example (the string is bordered by [ and ] to show the effect):"
   ]
  },
  {
   "cell_type": "code",
   "execution_count": null,
   "metadata": {
    "cell_id": "00050-a292189b-8fce-43a4-b2de-a52a460f4dbe",
    "deepnote_cell_type": "code"
   },
   "outputs": [
    {
     "name": "stdout",
     "output_type": "stream",
     "text": [
      "[    And now for something completely different\n",
      "     ]\n",
      "[And now for something completely different]\n"
     ]
    }
   ],
   "source": [
    "s = \"    And now for something completely different\\n     \"\n",
    "print(\"[\"+s+\"]\")\n",
    "s = s.strip()\n",
    "print(\"[\"+s+\"]\")"
   ]
  },
  {
   "cell_type": "markdown",
   "metadata": {
    "cell_id": "00051-781a2dd2-0a03-43a4-aff6-9a02f8697676",
    "deepnote_cell_type": "markdown"
   },
   "source": [
    "### `upper()` and `lower()`"
   ]
  },
  {
   "cell_type": "markdown",
   "metadata": {
    "cell_id": "00052-8b49dad7-da70-418f-b4bd-78265cabf5da",
    "deepnote_cell_type": "markdown"
   },
   "source": [
    "`upper()` creates a version of a string of which all letters are capitals. `lower()` is equivalent, but uses only lower case letters. Neither method uses parameters."
   ]
  },
  {
   "cell_type": "code",
   "execution_count": null,
   "metadata": {
    "cell_id": "00053-76e2becc-15db-4fa5-9c3b-f6df13399ad9",
    "deepnote_cell_type": "code"
   },
   "outputs": [
    {
     "name": "stdout",
     "output_type": "stream",
     "text": [
      "The Meaning of Life\n",
      "THE MEANING OF LIFE\n",
      "the meaning of life\n"
     ]
    }
   ],
   "source": [
    "s = \"The Meaning of Life\"\n",
    "print(s)\n",
    "print(s.upper())\n",
    "print(s.lower())"
   ]
  },
  {
   "cell_type": "markdown",
   "metadata": {
    "cell_id": "00054-84345715-5115-4b45-9f63-0a6021667838",
    "deepnote_cell_type": "markdown"
   },
   "source": [
    "### `find()`"
   ]
  },
  {
   "cell_type": "markdown",
   "metadata": {
    "cell_id": "00055-7f116f90-d840-41e7-9a26-cecbbaead8c7",
    "deepnote_cell_type": "markdown"
   },
   "source": [
    "`find()` can be used to search in a string for the starting index of a particular substring. As parameters it gets the substring, and optionally a starting index to search from, and an ending index. It returns the lowest index where the substring starts, or `-1` if the substring is not found."
   ]
  },
  {
   "cell_type": "code",
   "execution_count": null,
   "metadata": {
    "cell_id": "00056-dbb196ce-d8e9-440d-ae1b-526c485e8175",
    "deepnote_cell_type": "code"
   },
   "outputs": [
    {
     "name": "stdout",
     "output_type": "stream",
     "text": [
      "14\n",
      "4\n",
      "16\n",
      "-1\n"
     ]
    },
    {
     "data": {
      "text/plain": [
       "6"
      ]
     },
     "execution_count": 19,
     "metadata": {},
     "output_type": "execute_result"
    }
   ],
   "source": [
    "s = \"Humpty Dumpty sat on the wall\"\n",
    "print(s.find(\"sat\"))\n",
    "print(s.find(\"t\"))\n",
    "print(s.find(\"t\", 12))\n",
    "print(s.find(\"q\"))\n",
    "\n",
    "s.find(\" \")"
   ]
  },
  {
   "cell_type": "markdown",
   "metadata": {
    "cell_id": "00057-4d4ffcca-e1ff-4c23-bf59-937f1941aab9",
    "deepnote_cell_type": "markdown"
   },
   "source": [
    "### `replace()`"
   ]
  },
  {
   "cell_type": "markdown",
   "metadata": {
    "cell_id": "00058-647878fc-890c-4c7e-b6d7-4197a0119cc0",
    "deepnote_cell_type": "markdown"
   },
   "source": [
    "`replace()` replaces all occurrences of a substring with another substring. As parameters it gets the substring to look for, and the substring to replace it with. Optionally, it gets a parameter that indicates the maximum number of replacements to be made. \n",
    "\n",
    "I must stress again that strings are immutable, so the `replace()` function is not actually changing the string. It returns a new string that is a copy of the string with the replacements made."
   ]
  },
  {
   "cell_type": "code",
   "execution_count": null,
   "metadata": {
    "cell_id": "00059-4af73ee1-2cd4-4f4c-836a-a991e0071278",
    "deepnote_cell_type": "code"
   },
   "outputs": [
    {
     "name": "stdout",
     "output_type": "stream",
     "text": [
      " Humpty Dumpty fell off the wall \n",
      " Humpty Dumpty sat on the wall \n"
     ]
    }
   ],
   "source": [
    "s = ' Humpty Dumpty sat on the wall '\n",
    "new_s = s.replace('sat on', 'fell off') \n",
    "\n",
    "print(new_s)\n",
    "print(s)"
   ]
  },
  {
   "cell_type": "markdown",
   "metadata": {
    "cell_id": "00060-3a21c1fa-8649-4c17-a0d1-91fbd1ce0ae9",
    "deepnote_cell_type": "markdown"
   },
   "source": [
    "### `split()`"
   ]
  },
  {
   "cell_type": "markdown",
   "metadata": {
    "cell_id": "00061-29c4471f-0f02-4412-afa1-3e460ef96fa6",
    "deepnote_cell_type": "markdown"
   },
   "source": [
    "`split()` splits a string up in words, based on a given character or substring which is used as separator. The separator is given as the parameter, and if no separator is given, the white space is used, i.e., you split a string in the actual words (though punctuation attached to words is considered part of the words). If there are multiple occurrences of the separator next to each other, the extra ones are ignored (i.e., with the white space as separator, it does not matter if there is a single white space between two words, or multiple).\n",
    "\n",
    "The result of this split is a so-called \"list\" of strings. Lists are discussed in a coming chapter. However, note that if you want to access the separate words, you can use the `for <word> in <list>:` construction."
   ]
  },
  {
   "cell_type": "code",
   "execution_count": null,
   "metadata": {
    "cell_id": "00062-29a7d99f-a6a9-4d56-af52-5e25784673a9",
    "deepnote_cell_type": "code"
   },
   "outputs": [
    {
     "name": "stdout",
     "output_type": "stream",
     "text": [
      "Humpty\n",
      "Dumpty\n",
      "sat\n",
      "on\n",
      "the\n",
      "wall\n",
      "['Humpty', 'Dumpty', 'sat', 'on', 'the', 'wall']\n"
     ]
    }
   ],
   "source": [
    "s = 'Humpty Dumpty sat on the wall'\n",
    "wordlist = s.split()\n",
    "for i in wordlist:\n",
    "    print(i)\n",
    "print(wordlist)"
   ]
  },
  {
   "cell_type": "markdown",
   "metadata": {
    "cell_id": "00063-caddeb01-fca8-45b3-b70f-377b3cca327a",
    "deepnote_cell_type": "markdown"
   },
   "source": [
    "A very useful property of splitting is that we can decode some basic file formats. For example, a comma separated value (CSV) file is a very simple format, of which the basic setup is that each line consists of values that are separated by a comma. These values can be split from each other using the `split()` method. (Note: In actuality it will be a bit more convoluted as there might be commas in the fields that are stored in the CSV file, so it depends a bit on the contents of the file whether this simple approach will work. More on CSV files will be said in a later chapter in the course, where file formats are discussed.)"
   ]
  },
  {
   "cell_type": "code",
   "execution_count": null,
   "metadata": {
    "cell_id": "00064-5e2e79c4-756b-4fe0-96ae-82a8df85fc77",
    "deepnote_cell_type": "code"
   },
   "outputs": [
    {
     "name": "stdout",
     "output_type": "stream",
     "text": [
      "2016\n",
      "September\n",
      "28\n",
      "Data Processing\n",
      "Tilburg University\n",
      "Tilburg\n",
      "\n",
      "['2016', 'September', '28', 'Data Processing', 'Tilburg University', 'Tilburg']\n",
      "S\n"
     ]
    }
   ],
   "source": [
    "csv = \"2016,September,28,Data Processing,Tilburg University,Tilburg\"\n",
    "values = csv.split(',')\n",
    "for value in values:\n",
    "    print(value)\n",
    "\n",
    "print(\"\")\n",
    "print(values)\n",
    "print (values[1][0])"
   ]
  },
  {
   "cell_type": "markdown",
   "metadata": {
    "cell_id": "00065-18bcc0e9-0cf8-45fa-917a-f469f15a6c11",
    "deepnote_cell_type": "markdown"
   },
   "source": [
    "### `join()`"
   ]
  },
  {
   "cell_type": "markdown",
   "metadata": {
    "cell_id": "00066-20fe923d-a2e9-463c-badf-d9e347e21515",
    "deepnote_cell_type": "markdown"
   },
   "source": [
    "`join()` is the opposite of `split()`. `join()` joins a list of words together, separated by a specific separator. This sounds like it would be a method of lists, but for historic reasons it is defined as a string method. Since all string methods are called with the format `<string>.<method>()`, there must be a string in front of the call to `join()`. That string is the separator that you want to use, while the parameter of the method is the list that you want to join together. The return value, as always, is the resulting string. In the following example, note the notation of each of these steps:"
   ]
  },
  {
   "cell_type": "code",
   "execution_count": null,
   "metadata": {
    "cell_id": "00067-e39da5ca-44c0-40d7-94ff-b96e102c976c",
    "deepnote_cell_type": "code"
   },
   "outputs": [
    {
     "name": "stdout",
     "output_type": "stream",
     "text": [
      "Humpty;Dumpty;sat;on;the;wall\n",
      "['Humpty', 'Dumpty', 'sat', 'on', 'the', 'wall']\n",
      "Humpty Dumpty sat on the wall\n"
     ]
    }
   ],
   "source": [
    "s = \"Humpty;Dumpty;sat;on;the;wall\"\n",
    "print (s)\n",
    "wordlist = s.split(';')\n",
    "print (wordlist)\n",
    "s = \" \".join(wordlist)\n",
    "print(s)"
   ]
  },
  {
   "cell_type": "markdown",
   "metadata": {
    "cell_id": "00068-098c787b-7046-42c0-9f01-e3c269369817",
    "deepnote_cell_type": "markdown"
   },
   "source": [
    "### What you learned"
   ]
  },
  {
   "cell_type": "markdown",
   "metadata": {
    "cell_id": "00069-042496e4-b9eb-4c9c-b0de-8602b64148c6",
    "deepnote_cell_type": "markdown"
   },
   "source": [
    "In this chapter, you learned about:\n",
    "\n",
    "- Strings\n",
    "- Multi-line strings\n",
    "- Accessing string characters with positive and negative indices\n",
    "- Slices\n",
    "- Immutability of strings\n",
    "- String methods `strip()`, `upper()`, `lower()`, `find()`, `replace()`, `split()`, and `join()`\n",
    "- Escape sequences"
   ]
  },
  {
   "cell_type": "markdown",
   "metadata": {
    "cell_id": "00070-f31b6961-0200-469c-885c-3c7212fe15c9",
    "deepnote_cell_type": "markdown"
   },
   "source": [
    "# Exercises"
   ]
  },
  {
   "cell_type": "markdown",
   "metadata": {
    "cell_id": "00071-3a7d92ee-5549-4ead-94b3-7bd07727082a",
    "deepnote_cell_type": "markdown"
   },
   "source": [
    "**Exercise 6.1:** The text string in the next cell contains several words which are enclosed by square brackets (`[` and `]`). Scan the string and print out all words which are between square brackets. For example, if the text string would be \"`[a]n example[ string]`\", you are expected to print out \"`a string`\"."
   ]
  },
  {
   "cell_type": "code",
   "execution_count": null,
   "metadata": {
    "cell_id": "00072-0ef39c0a-7cba-49fa-8713-3e1488f7e7dd",
    "deepnote_cell_type": "code",
    "execution_millis": 0,
    "execution_start": 1607032586040,
    "output_cleared": false,
    "source_hash": "5459c6f4"
   },
   "outputs": [
    {
     "name": "stdout",
     "output_type": "stream",
     "text": [
      "['Never gonna ', 'give you up\\n', 'Never ', 'gonna let ', 'you down\\n', 'Never ', 'gonna ', 'run around ', 'and desert you']\n",
      "Never gonna give you up\n",
      "Never gonna let you down\n",
      "Never gonna run around and desert you\n"
     ]
    }
   ],
   "source": [
    "# Distilling text.\n",
    "text = \"\"\"The quick, brown fox jumps over a lazy dog. DJs flock by when MTV ax quiz prog. \n",
    "Junk MTV quiz graced by fox whelps. [Never gonna ] Bawds jog, flick quartz, vex nymphs. \n",
    "[give you up\\n] Waltz, bad nymph, for quick jigs vex! Fox nymphs grab quick-jived waltz. \n",
    "Brick quiz whangs jumpy veldt fox. [Never ] Bright vixens jump; [gonna let ] dozy fowl \n",
    "quack. Quick wafting zephyrs vex bold Jim. Quick zephyrs blow, vexing daft Jim. Charged \n",
    "[you down\\n] fop blew my junk TV quiz. How quickly daft jumping zebras vex. Two driven \n",
    "jocks help fax my big quiz. Quick, Baz, get my woven flax jodhpurs! \"Now fax quiz Jack!\" \n",
    "my brave ghost pled. [Never ] Five quacking zephyrs jolt my wax bed. [gonna ] Flummoxed \n",
    "by job, kvetching W. zaps Iraq. Cozy sphinx waves quart jug of bad milk. [run around ] \n",
    "A very bad quack might jinx zippy fowls. Few quips galvanized the mock jury box. Quick \n",
    "brown dogs jump over the lazy fox. The jay, pig, fox, zebra, and my wolves quack! \n",
    "[and desert you] Blowzy red vixens fight for a quick jump. Joaquin Phoenix was gazed \n",
    "by MTV for luck. A wizard’s job is to vex chumps quickly in fog. Watch \"Jeopardy!\", \n",
    "Alex Trebek's fun TV quiz game.\"\"\"\n",
    "new_text = text.split('[')\n",
    "new_list = []\n",
    "for word in new_text:\n",
    "    if ']' in word:\n",
    "        new_list.append(word[0:int(word.index(']'))])\n",
    "    else:\n",
    "        pass\n",
    "print(new_list)\n",
    "updated_list=\"\".join(new_list)\n",
    "print(updated_list)\n",
    "\n",
    "\n",
    "        \n",
    "            \n",
    "\n",
    "\n",
    "            "
   ]
  },
  {
   "cell_type": "markdown",
   "metadata": {
    "cell_id": "00073-7582698c-591b-4359-a625-1710bce72dda",
    "deepnote_cell_type": "markdown"
   },
   "source": [
    "**Exercise 6.2:** Print a line of all the capital letters \"A\" to \"Z\". Below it, print a line of the letters that are 13 positions in the alphabet away from the letters that are above them. E.g., below the \"A\" you print an \"N\", below the \"B\" you print an \"O\", etcetera. You have to consider the alphabet to be circular, i.e., after the \"Z\", it loops back to the \"A\" again."
   ]
  },
  {
   "cell_type": "code",
   "execution_count": 23,
   "metadata": {
    "cell_id": "00074-4423783b-74a5-426e-865e-18badaf00485",
    "deepnote_cell_type": "code",
    "execution_millis": 1,
    "execution_start": 1607085606767,
    "output_cleared": false,
    "source_hash": "bfdce4ef"
   },
   "outputs": [
    {
     "name": "stdout",
     "output_type": "stream",
     "text": [
      "ABCDEFGHIJKLMNOPQRSTUVWXYZ\n",
      "NOPQRSTUVWXYZABCDEFGHIJKLM\n"
     ]
    }
   ],
   "source": [
    "# ROTR-13\n",
    "#string=\"ABCDEFGHIJKLMNOPQRSTUVWXYZ\"\n",
    "#print(string)\n",
    "#print(string[13:26]+string[-26:-13])\n",
    "def letter_position(text,num):\n",
    "    print(text)\n",
    "    x=[]\n",
    "    for char in text:\n",
    "        if text.isalpha():\n",
    "            pos=text.index(char)\n",
    "            new_pos=pos+num\n",
    "            if new_pos>=len(text):\n",
    "                x.append(text[(new_pos)%len(text)])\n",
    "            else:\n",
    "                x.append(text[new_pos])\n",
    "    new_text=\"\".join(x)\n",
    "    return new_text\n",
    "\n",
    "\n",
    "\n",
    "print(letter_position(\"ABCDEFGHIJKLMNOPQRSTUVWXYZ\",13))\n",
    "\n",
    "        \n"
   ]
  },
  {
   "cell_type": "markdown",
   "metadata": {
    "cell_id": "00075-6d09e8ba-36b2-4839-ba77-31bf13023013",
    "deepnote_cell_type": "markdown"
   },
   "source": [
    "**Exercise 6.3:** In the text below, count how often the word \"wood\" occurs (using program code, of course). Capitals and lower case letters may both be used, and you have to consider that the word \"wood\" should be a separate word, and not part of another word. Hint: If you did the exercises from this chapter, you already developed a function that \"cleans\" a text. Combining that function with the `split()` function more or less solves the problem for you."
   ]
  },
  {
   "cell_type": "code",
   "execution_count": null,
   "metadata": {
    "cell_id": "00076-b47f7389-372e-4b9a-be93-a5a6629d74e4",
    "deepnote_cell_type": "code",
    "execution_millis": 1,
    "execution_start": 1607037488148,
    "output_cleared": false,
    "source_hash": "f6b64bf9"
   },
   "outputs": [
    {
     "name": "stdout",
     "output_type": "stream",
     "text": [
      "3\n"
     ]
    }
   ],
   "source": [
    "text = \"\"\"How much wood would a woodchuck chuck\n",
    "If a woodchuck could chuck wood?\n",
    "He would chuck, he would, as much as he could,\n",
    "And chuck as much as a woodchuck would\n",
    "If a woodchuck could chuck wood.\"\"\"\n",
    "\n",
    "new_text= text.replace('?',\"\").replace(',',\"\").replace(\".\",\"\")\n",
    "re_new_text=new_text.lower().split()\n",
    "count = []\n",
    "for word in re_new_text:\n",
    "    if word==\"wood\":\n",
    "        count.append(word)\n",
    "print(len(count))"
   ]
  }
 ],
 "metadata": {
  "deepnote_execution_queue": [],
  "deepnote_notebook_id": "e3e3b18c-3e83-4c7c-9d40-94f05fb55039",
  "kernelspec": {
   "display_name": "Python 3",
   "language": "python",
   "name": "python3"
  },
  "language_info": {
   "codemirror_mode": {
    "name": "ipython",
    "version": 3
   },
   "file_extension": ".py",
   "mimetype": "text/x-python",
   "name": "python",
   "nbconvert_exporter": "python",
   "pygments_lexer": "ipython3",
   "version": "3.8.3"
  }
 },
 "nbformat": 4,
 "nbformat_minor": 2
}
