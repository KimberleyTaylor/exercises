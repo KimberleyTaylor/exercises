{
 "cells": [
  {
   "cell_type": "code",
   "execution_count": 1,
   "id": "portuguese-asset",
   "metadata": {
    "ExecuteTime": {
     "end_time": "2021-02-09T16:07:40.435382Z",
     "start_time": "2021-02-09T16:07:39.881577Z"
    }
   },
   "outputs": [],
   "source": [
    "import pandas as pd\n",
    "import numpy as np"
   ]
  },
  {
   "cell_type": "markdown",
   "id": "removed-massage",
   "metadata": {},
   "source": [
    "### Load csv's:"
   ]
  },
  {
   "cell_type": "code",
   "execution_count": 2,
   "id": "absolute-turner",
   "metadata": {
    "ExecuteTime": {
     "end_time": "2021-02-09T16:07:41.861547Z",
     "start_time": "2021-02-09T16:07:41.855326Z"
    }
   },
   "outputs": [],
   "source": [
    "path = '../../d4/datasets/'"
   ]
  },
  {
   "cell_type": "code",
   "execution_count": 3,
   "id": "improved-guarantee",
   "metadata": {
    "ExecuteTime": {
     "end_time": "2021-02-09T16:07:42.768046Z",
     "start_time": "2021-02-09T16:07:42.736228Z"
    }
   },
   "outputs": [],
   "source": [
    "item_categories = pd.read_csv(path + \"item_categories-translated.csv\")\n",
    "item_categories_russian = pd.read_csv(path + \"item_categories.csv\")"
   ]
  },
  {
   "cell_type": "markdown",
   "id": "arabic-biology",
   "metadata": {},
   "source": [
    "# Exercise 1\n",
    "\n",
    "Extract main category, subcategory and subsubcategory of the `item_category_name` column (`item_categories.csv` table)"
   ]
  },
  {
   "cell_type": "code",
   "execution_count": 4,
   "id": "introductory-person",
   "metadata": {
    "ExecuteTime": {
     "end_time": "2021-02-09T16:07:44.349371Z",
     "start_time": "2021-02-09T16:07:44.313804Z"
    }
   },
   "outputs": [
    {
     "data": {
      "text/html": [
       "<div>\n",
       "<style scoped>\n",
       "    .dataframe tbody tr th:only-of-type {\n",
       "        vertical-align: middle;\n",
       "    }\n",
       "\n",
       "    .dataframe tbody tr th {\n",
       "        vertical-align: top;\n",
       "    }\n",
       "\n",
       "    .dataframe thead th {\n",
       "        text-align: right;\n",
       "    }\n",
       "</style>\n",
       "<table border=\"1\" class=\"dataframe\">\n",
       "  <thead>\n",
       "    <tr style=\"text-align: right;\">\n",
       "      <th></th>\n",
       "      <th>item_category_id,item_category_name_translated</th>\n",
       "    </tr>\n",
       "  </thead>\n",
       "  <tbody>\n",
       "    <tr>\n",
       "      <th>0</th>\n",
       "      <td>0,PC - Headsets / Headphones</td>\n",
       "    </tr>\n",
       "    <tr>\n",
       "      <th>1</th>\n",
       "      <td>1,Accessories - PS2</td>\n",
       "    </tr>\n",
       "    <tr>\n",
       "      <th>2</th>\n",
       "      <td>2,Accessories - PS3</td>\n",
       "    </tr>\n",
       "    <tr>\n",
       "      <th>3</th>\n",
       "      <td>3,Accessories - PS4</td>\n",
       "    </tr>\n",
       "    <tr>\n",
       "      <th>4</th>\n",
       "      <td>4,Accessories - PSP</td>\n",
       "    </tr>\n",
       "    <tr>\n",
       "      <th>...</th>\n",
       "      <td>...</td>\n",
       "    </tr>\n",
       "    <tr>\n",
       "      <th>79</th>\n",
       "      <td>79,Office</td>\n",
       "    </tr>\n",
       "    <tr>\n",
       "      <th>80</th>\n",
       "      <td>80,Official - Tickets</td>\n",
       "    </tr>\n",
       "    <tr>\n",
       "      <th>81</th>\n",
       "      <td>81,Clean carriers (spire)</td>\n",
       "    </tr>\n",
       "    <tr>\n",
       "      <th>82</th>\n",
       "      <td>82,Clean media (piece)</td>\n",
       "    </tr>\n",
       "    <tr>\n",
       "      <th>83</th>\n",
       "      <td>83,Elements of a food</td>\n",
       "    </tr>\n",
       "  </tbody>\n",
       "</table>\n",
       "<p>84 rows × 1 columns</p>\n",
       "</div>"
      ],
      "text/plain": [
       "   item_category_id,item_category_name_translated\n",
       "0                    0,PC - Headsets / Headphones\n",
       "1                             1,Accessories - PS2\n",
       "2                             2,Accessories - PS3\n",
       "3                             3,Accessories - PS4\n",
       "4                             4,Accessories - PSP\n",
       "..                                            ...\n",
       "79                                      79,Office\n",
       "80                          80,Official - Tickets\n",
       "81                      81,Clean carriers (spire)\n",
       "82                         82,Clean media (piece)\n",
       "83                          83,Elements of a food\n",
       "\n",
       "[84 rows x 1 columns]"
      ]
     },
     "execution_count": 4,
     "metadata": {},
     "output_type": "execute_result"
    }
   ],
   "source": [
    "item_categories"
   ]
  },
  {
   "cell_type": "code",
   "execution_count": 5,
   "id": "usual-shade",
   "metadata": {
    "ExecuteTime": {
     "end_time": "2021-02-09T16:07:45.238006Z",
     "start_time": "2021-02-09T16:07:45.233158Z"
    }
   },
   "outputs": [],
   "source": [
    "item_categories = item_categories[\"item_category_id,item_category_name_translated\"].str.split(',', 1, expand=True)\n",
    "item_categories.columns = [\"item_category_id\", \"item_category_name\"]"
   ]
  },
  {
   "cell_type": "code",
   "execution_count": 6,
   "id": "charming-joseph",
   "metadata": {
    "ExecuteTime": {
     "end_time": "2021-02-09T16:07:46.201437Z",
     "start_time": "2021-02-09T16:07:46.192695Z"
    }
   },
   "outputs": [],
   "source": [
    "# translate some values from russian to english for consistency:\n",
    "item_categories[\"item_category_name\"] = item_categories[\"item_category_name\"].replace('Книги - Путеводители', 'Books - Guides')\n",
    "\n",
    "# Correct translations:\n",
    "item_categories[\"item_category_name\"] = item_categories[\"item_category_name\"].replace('Clean carriers (spire)', 'Blank media (pin)')\n",
    "item_categories[\"item_category_name\"] = item_categories[\"item_category_name\"].replace('Clean media (piece)', 'Blank media (piece)')"
   ]
  },
  {
   "cell_type": "code",
   "execution_count": 7,
   "id": "removed-classic",
   "metadata": {
    "ExecuteTime": {
     "end_time": "2021-02-09T16:07:46.979702Z",
     "start_time": "2021-02-09T16:07:46.973820Z"
    }
   },
   "outputs": [],
   "source": [
    "item_categories[\"item_category_name\"] = item_categories[\"item_category_name\"].str.strip()\n",
    "item_categories[\"item_category_name\"] = item_categories[\"item_category_name\"].str.strip('\"')"
   ]
  },
  {
   "cell_type": "code",
   "execution_count": 8,
   "id": "convertible-copying",
   "metadata": {
    "ExecuteTime": {
     "end_time": "2021-02-09T16:07:47.807746Z",
     "start_time": "2021-02-09T16:07:47.796378Z"
    }
   },
   "outputs": [
    {
     "data": {
      "text/plain": [
       "array(['PC - Headsets / Headphones', 'Accessories - PS2',\n",
       "       'Accessories - PS3', 'Accessories - PS4', 'Accessories - PSP',\n",
       "       'Accessories - PSVita', 'Accessories - XBOX 360',\n",
       "       'Accessories - XBOX ONE', 'Tickets (figure)', 'Delivery of goods',\n",
       "       'Game Consoles - PS2', 'Game Consoles - PS3',\n",
       "       'Game Consoles - PS4', 'Game Consoles - PSP',\n",
       "       'Game Consoles - PSVita', 'Game Consoles - XBOX 360',\n",
       "       'Game Consoles - XBOX ONE', 'Game Consoles - Other', 'Games - PS2',\n",
       "       'Games - PS3', 'Games - PS4', 'Games - PSP', 'Games - PSVita',\n",
       "       'Games - XBOX 360', 'Games - XBOX ONE',\n",
       "       'Games - Accessories for games', 'Android games - Digit',\n",
       "       'MAC Games - Digit', 'PC Games - Additional Edition',\n",
       "       \"PC Games - Collector's Edition\", 'PC Games - Standard Edition',\n",
       "       'PC Games - Digit', 'Payment cards (Movies, Music, Games)',\n",
       "       'Payment cards - Live!', 'Payment cards - Live! (Numeral)',\n",
       "       'Payment cards - PSN', 'Payment Cards - Windows (Digital)',\n",
       "       'Cinema - Blu-Ray', 'Cinema - Blu-Ray 3D', 'Cinema - Blu-Ray 4K',\n",
       "       'Cinema - DVD', \"Cinema - Collector's\",\n",
       "       'Books - Artbook, encyclopedia', 'Books - Audiobooks',\n",
       "       'Books - Audiobooks (Numbers)', 'Books - Audiobooks 1C',\n",
       "       'Books - Business Literature', 'Books - Comics, manga',\n",
       "       'Books - Computer Literature', 'Books - Methodical materials 1С',\n",
       "       'Books - Postcards', 'Books - Cognitive Literature',\n",
       "       'Books - Guides', 'Books - Fiction', 'Books - Number',\n",
       "       'Music - CD of local production',\n",
       "       'Music - CD of branded production', 'Music - MP3', 'Music - Vinyl',\n",
       "       'Music - Musical video', 'Music - Gift edition',\n",
       "       'Gifts - Attributes', 'Gifts - Gadgets, robots, sports',\n",
       "       'Gifts - Soft toys', 'Gifts - Board Games',\n",
       "       'Gifts - Board games (compact)', 'Gifts - Postcards, stickers',\n",
       "       'Gifts - Development', 'Gifts - Certificates, services',\n",
       "       'Gifts - Souvenirs', 'Gifts - Souvenirs (per sample)',\n",
       "       'Gifts - Bags, Albums, Mouse pads', 'Gifts - Figures',\n",
       "       'Programs - 1C: Enterprise 8', 'Programs - MAC (Number)',\n",
       "       'Programs - Home and Office',\n",
       "       'Programs - Home and Office (Figure)', 'Programs - Teaching',\n",
       "       'Programs - Teaching (Numbers)', 'Office', 'Official - Tickets',\n",
       "       'Blank media (pin)', 'Blank media (piece)', 'Elements of a food'],\n",
       "      dtype=object)"
      ]
     },
     "execution_count": 8,
     "metadata": {},
     "output_type": "execute_result"
    }
   ],
   "source": [
    "item_categories[\"item_category_name\"].unique()"
   ]
  },
  {
   "cell_type": "code",
   "execution_count": 9,
   "id": "described-teach",
   "metadata": {
    "ExecuteTime": {
     "end_time": "2021-02-09T16:07:48.790903Z",
     "start_time": "2021-02-09T16:07:48.762818Z"
    }
   },
   "outputs": [],
   "source": [
    "item_categories[\"item_type\"] = np.nan\n",
    "item_categories[\"item_type\"] = item_categories[\"item_category_name\"].str.partition('-')\n",
    "item_categories[\"jnn\"] = item_categories[\"item_category_name\"].str.split('-', 1)\n",
    "hoo = []\n",
    "for thingy in item_categories[\"jnn\"]:\n",
    "    hoo.append(thingy[-1].strip())\n",
    "item_categories[\"item_specified\"] = hoo\n",
    "item_categories = item_categories.drop([\"jnn\"], axis=1)\n",
    "item_categories['item_specified'] = np.where(item_categories.item_type == item_categories.item_specified, np.nan, item_categories.item_specified)"
   ]
  },
  {
   "cell_type": "code",
   "execution_count": 10,
   "id": "virtual-package",
   "metadata": {
    "ExecuteTime": {
     "end_time": "2021-02-09T16:07:49.584465Z",
     "start_time": "2021-02-09T16:07:49.576622Z"
    }
   },
   "outputs": [
    {
     "data": {
      "text/plain": [
       "array(['PC ', 'Accessories ', 'Tickets (figure)', 'Delivery of goods',\n",
       "       'Game Consoles ', 'Games ', 'Android games ', 'MAC Games ',\n",
       "       'PC Games ', 'Payment cards (Movies, Music, Games)',\n",
       "       'Payment cards ', 'Payment Cards ', 'Cinema ', 'Books ', 'Music ',\n",
       "       'Gifts ', 'Programs ', 'Office', 'Official ', 'Blank media (pin)',\n",
       "       'Blank media (piece)', 'Elements of a food'], dtype=object)"
      ]
     },
     "execution_count": 10,
     "metadata": {},
     "output_type": "execute_result"
    }
   ],
   "source": [
    "item_categories[\"item_type\"].unique()"
   ]
  },
  {
   "cell_type": "code",
   "execution_count": 11,
   "id": "electric-stake",
   "metadata": {
    "ExecuteTime": {
     "end_time": "2021-02-09T16:07:50.348281Z",
     "start_time": "2021-02-09T16:07:50.344383Z"
    }
   },
   "outputs": [],
   "source": [
    "item_categories[\"item_type\"] = item_categories[\"item_type\"].str.strip()"
   ]
  },
  {
   "cell_type": "code",
   "execution_count": 12,
   "id": "elect-holocaust",
   "metadata": {
    "ExecuteTime": {
     "end_time": "2021-02-09T16:07:51.195960Z",
     "start_time": "2021-02-09T16:07:51.190007Z"
    }
   },
   "outputs": [
    {
     "data": {
      "text/plain": [
       "array(['PC', 'Accessories', 'Tickets (figure)', 'Delivery of goods',\n",
       "       'Game Consoles', 'Games', 'Android games', 'MAC Games', 'PC Games',\n",
       "       'Payment cards (Movies, Music, Games)', 'Payment cards',\n",
       "       'Payment Cards', 'Cinema', 'Books', 'Music', 'Gifts', 'Programs',\n",
       "       'Office', 'Official', 'Blank media (pin)', 'Blank media (piece)',\n",
       "       'Elements of a food'], dtype=object)"
      ]
     },
     "execution_count": 12,
     "metadata": {},
     "output_type": "execute_result"
    }
   ],
   "source": [
    "item_categories[\"item_type\"].unique()"
   ]
  },
  {
   "cell_type": "code",
   "execution_count": 13,
   "id": "willing-hobby",
   "metadata": {
    "ExecuteTime": {
     "end_time": "2021-02-09T16:07:51.944211Z",
     "start_time": "2021-02-09T16:07:51.940542Z"
    }
   },
   "outputs": [],
   "source": [
    "item_categories[\"Branch of specification\"] = item_categories[\"item_specified\"]"
   ]
  },
  {
   "cell_type": "code",
   "execution_count": 14,
   "id": "sudden-education",
   "metadata": {
    "ExecuteTime": {
     "end_time": "2021-02-09T16:07:52.859101Z",
     "start_time": "2021-02-09T16:07:52.826295Z"
    }
   },
   "outputs": [],
   "source": [
    "item_categories[\"Branch of specification\"] = item_categories[\"Branch of specification\"].replace(['PS2', 'PS2', 'PS3', 'PS4', 'PSP', 'PSVita', 'PSN'],'PS')\n",
    "item_categories[\"Branch of specification\"] = item_categories[\"Branch of specification\"].replace(['XBOX 360', 'XBOX ONE'],'XBOX')\n",
    "item_categories[\"Branch of specification\"] = item_categories[\"Branch of specification\"].replace(['Blu-Ray', 'Blu-Ray 3D','Blu-Ray 4K'],'Blu-Ray')\n",
    "item_categories[\"Branch of specification\"] = item_categories[\"Branch of specification\"].replace(['CD of local production', 'CD of branded production'],'CD')\n",
    "item_categories[\"Branch of specification\"] = item_categories[\"Branch of specification\"].replace(['Audiobooks', 'Audiobooks (Numbers)', 'Audiobooks 1C'],'Audiobooks')\n",
    "item_categories[\"Branch of specification\"] = item_categories[\"Branch of specification\"].replace(['Business Literature', 'Computer Literature', 'Cognitive Literature'],'Literature')\n",
    "item_categories[\"Branch of specification\"] = item_categories[\"Branch of specification\"].replace(['Accessories for games', 'Board Games', 'Board games (compact)'],'Games')\n",
    "item_categories[\"Branch of specification\"] = item_categories[\"Branch of specification\"].replace([\"Collectors\", \"Collectors Edition\"],'Collectors')\n",
    "item_categories[\"Branch of specification\"] = item_categories[\"Branch of specification\"].replace(['Headsets / Headphones', 'nan', 'Other', 'Digit', 'Additional Edition', 'Standard Edition',\n",
    "          'Live!', 'Live! (Numeral)', 'Windows (Digital)', 'DVD', 'Artbook, encyclopedia', 'Comics, manga',\n",
    "          'Methodical materials 1С', 'Postcards','Guides', 'Fiction', 'Number', 'MP3', 'Vinyl',\n",
    "          'Musical video', 'Gift edition', 'Attributes', 'Gadgets, robots, sports', 'Soft toys',\n",
    "          'Postcards, stickers', 'Development', 'Certificates, services', 'Souvenirs', 'Souvenirs (per sample)',\n",
    "          'Bags, Albums, Mouse pads', 'Figures', '1C: Enterprise 8', 'MAC (Number)', 'Home and Office',\n",
    "          'Home and Office (Figure)', 'Teaching', 'Teaching (Numbers)', 'Tickets'], np.nan)"
   ]
  },
  {
   "cell_type": "code",
   "execution_count": 15,
   "id": "egyptian-remedy",
   "metadata": {
    "ExecuteTime": {
     "end_time": "2021-02-09T16:07:53.786364Z",
     "start_time": "2021-02-09T16:07:53.760796Z"
    }
   },
   "outputs": [
    {
     "data": {
      "text/html": [
       "<div>\n",
       "<style scoped>\n",
       "    .dataframe tbody tr th:only-of-type {\n",
       "        vertical-align: middle;\n",
       "    }\n",
       "\n",
       "    .dataframe tbody tr th {\n",
       "        vertical-align: top;\n",
       "    }\n",
       "\n",
       "    .dataframe thead th {\n",
       "        text-align: right;\n",
       "    }\n",
       "</style>\n",
       "<table border=\"1\" class=\"dataframe\">\n",
       "  <thead>\n",
       "    <tr style=\"text-align: right;\">\n",
       "      <th></th>\n",
       "      <th>item_category_id</th>\n",
       "      <th>item_category_name</th>\n",
       "      <th>item_type</th>\n",
       "      <th>item_specified</th>\n",
       "      <th>Branch of specification</th>\n",
       "    </tr>\n",
       "  </thead>\n",
       "  <tbody>\n",
       "    <tr>\n",
       "      <th>0</th>\n",
       "      <td>0</td>\n",
       "      <td>PC - Headsets / Headphones</td>\n",
       "      <td>PC</td>\n",
       "      <td>Headsets / Headphones</td>\n",
       "      <td>NaN</td>\n",
       "    </tr>\n",
       "    <tr>\n",
       "      <th>1</th>\n",
       "      <td>1</td>\n",
       "      <td>Accessories - PS2</td>\n",
       "      <td>Accessories</td>\n",
       "      <td>PS2</td>\n",
       "      <td>PS</td>\n",
       "    </tr>\n",
       "    <tr>\n",
       "      <th>2</th>\n",
       "      <td>2</td>\n",
       "      <td>Accessories - PS3</td>\n",
       "      <td>Accessories</td>\n",
       "      <td>PS3</td>\n",
       "      <td>PS</td>\n",
       "    </tr>\n",
       "    <tr>\n",
       "      <th>3</th>\n",
       "      <td>3</td>\n",
       "      <td>Accessories - PS4</td>\n",
       "      <td>Accessories</td>\n",
       "      <td>PS4</td>\n",
       "      <td>PS</td>\n",
       "    </tr>\n",
       "    <tr>\n",
       "      <th>4</th>\n",
       "      <td>4</td>\n",
       "      <td>Accessories - PSP</td>\n",
       "      <td>Accessories</td>\n",
       "      <td>PSP</td>\n",
       "      <td>PS</td>\n",
       "    </tr>\n",
       "    <tr>\n",
       "      <th>...</th>\n",
       "      <td>...</td>\n",
       "      <td>...</td>\n",
       "      <td>...</td>\n",
       "      <td>...</td>\n",
       "      <td>...</td>\n",
       "    </tr>\n",
       "    <tr>\n",
       "      <th>79</th>\n",
       "      <td>79</td>\n",
       "      <td>Office</td>\n",
       "      <td>Office</td>\n",
       "      <td>NaN</td>\n",
       "      <td>NaN</td>\n",
       "    </tr>\n",
       "    <tr>\n",
       "      <th>80</th>\n",
       "      <td>80</td>\n",
       "      <td>Official - Tickets</td>\n",
       "      <td>Official</td>\n",
       "      <td>Tickets</td>\n",
       "      <td>NaN</td>\n",
       "    </tr>\n",
       "    <tr>\n",
       "      <th>81</th>\n",
       "      <td>81</td>\n",
       "      <td>Blank media (pin)</td>\n",
       "      <td>Blank media (pin)</td>\n",
       "      <td>NaN</td>\n",
       "      <td>NaN</td>\n",
       "    </tr>\n",
       "    <tr>\n",
       "      <th>82</th>\n",
       "      <td>82</td>\n",
       "      <td>Blank media (piece)</td>\n",
       "      <td>Blank media (piece)</td>\n",
       "      <td>NaN</td>\n",
       "      <td>NaN</td>\n",
       "    </tr>\n",
       "    <tr>\n",
       "      <th>83</th>\n",
       "      <td>83</td>\n",
       "      <td>Elements of a food</td>\n",
       "      <td>Elements of a food</td>\n",
       "      <td>NaN</td>\n",
       "      <td>NaN</td>\n",
       "    </tr>\n",
       "  </tbody>\n",
       "</table>\n",
       "<p>84 rows × 5 columns</p>\n",
       "</div>"
      ],
      "text/plain": [
       "   item_category_id          item_category_name            item_type  \\\n",
       "0                 0  PC - Headsets / Headphones                   PC   \n",
       "1                 1           Accessories - PS2          Accessories   \n",
       "2                 2           Accessories - PS3          Accessories   \n",
       "3                 3           Accessories - PS4          Accessories   \n",
       "4                 4           Accessories - PSP          Accessories   \n",
       "..              ...                         ...                  ...   \n",
       "79               79                      Office               Office   \n",
       "80               80          Official - Tickets             Official   \n",
       "81               81           Blank media (pin)    Blank media (pin)   \n",
       "82               82         Blank media (piece)  Blank media (piece)   \n",
       "83               83          Elements of a food   Elements of a food   \n",
       "\n",
       "           item_specified Branch of specification  \n",
       "0   Headsets / Headphones                     NaN  \n",
       "1                     PS2                      PS  \n",
       "2                     PS3                      PS  \n",
       "3                     PS4                      PS  \n",
       "4                     PSP                      PS  \n",
       "..                    ...                     ...  \n",
       "79                    NaN                     NaN  \n",
       "80                Tickets                     NaN  \n",
       "81                    NaN                     NaN  \n",
       "82                    NaN                     NaN  \n",
       "83                    NaN                     NaN  \n",
       "\n",
       "[84 rows x 5 columns]"
      ]
     },
     "execution_count": 15,
     "metadata": {},
     "output_type": "execute_result"
    }
   ],
   "source": [
    "item_categories"
   ]
  },
  {
   "cell_type": "code",
   "execution_count": 16,
   "id": "starting-linux",
   "metadata": {
    "ExecuteTime": {
     "end_time": "2021-02-09T16:07:54.582353Z",
     "start_time": "2021-02-09T16:07:54.571709Z"
    }
   },
   "outputs": [
    {
     "data": {
      "text/plain": [
       "array([nan, 'PS', 'XBOX', 'Games', \"Collector's Edition\", 'Blu-Ray',\n",
       "       \"Collector's\", 'Audiobooks', 'Literature', 'CD'], dtype=object)"
      ]
     },
     "execution_count": 16,
     "metadata": {},
     "output_type": "execute_result"
    }
   ],
   "source": [
    "item_categories[\"Branch of specification\"].unique()"
   ]
  },
  {
   "cell_type": "markdown",
   "id": "chicken-radio",
   "metadata": {},
   "source": [
    "# Exercise 2\n",
    "\n",
    "Apply:\n",
    "\n",
    "- `CountVectorizer` (1gram)\n",
    "- `CountVectorizer` (1gram + 2grams)\n",
    "- `TfidfVectorizer` (1gram)\n",
    "- `TfidfVectorizer` (1gram + 2grams)\n",
    "\n",
    "to the `item_name` column (`items.csv` table).\n"
   ]
  },
  {
   "cell_type": "code",
   "execution_count": 17,
   "id": "cellular-saturn",
   "metadata": {
    "ExecuteTime": {
     "end_time": "2021-02-09T16:07:56.600463Z",
     "start_time": "2021-02-09T16:07:56.548287Z"
    }
   },
   "outputs": [
    {
     "data": {
      "text/html": [
       "<div>\n",
       "<style scoped>\n",
       "    .dataframe tbody tr th:only-of-type {\n",
       "        vertical-align: middle;\n",
       "    }\n",
       "\n",
       "    .dataframe tbody tr th {\n",
       "        vertical-align: top;\n",
       "    }\n",
       "\n",
       "    .dataframe thead th {\n",
       "        text-align: right;\n",
       "    }\n",
       "</style>\n",
       "<table border=\"1\" class=\"dataframe\">\n",
       "  <thead>\n",
       "    <tr style=\"text-align: right;\">\n",
       "      <th></th>\n",
       "      <th>item_id</th>\n",
       "      <th>item_name_translated</th>\n",
       "    </tr>\n",
       "  </thead>\n",
       "  <tbody>\n",
       "    <tr>\n",
       "      <th>0</th>\n",
       "      <td>0</td>\n",
       "      <td>!! IN THE POWER OF HAPPINESS (PLAST) D</td>\n",
       "    </tr>\n",
       "    <tr>\n",
       "      <th>1</th>\n",
       "      <td>1</td>\n",
       "      <td>! ABBYY FineReader 12 Professional Edition Ful...</td>\n",
       "    </tr>\n",
       "    <tr>\n",
       "      <th>2</th>\n",
       "      <td>2</td>\n",
       "      <td>*** IN THE GLORY OF THE GLORY (UNV) D</td>\n",
       "    </tr>\n",
       "    <tr>\n",
       "      <th>3</th>\n",
       "      <td>3</td>\n",
       "      <td>*** BLUE WAVE (Univ) D</td>\n",
       "    </tr>\n",
       "    <tr>\n",
       "      <th>4</th>\n",
       "      <td>4</td>\n",
       "      <td>*** BOX (GLASS) D</td>\n",
       "    </tr>\n",
       "    <tr>\n",
       "      <th>...</th>\n",
       "      <td>...</td>\n",
       "      <td>...</td>\n",
       "    </tr>\n",
       "    <tr>\n",
       "      <th>22165</th>\n",
       "      <td>22165</td>\n",
       "      <td>Nuclear Titbit 2 [PC, Digital Version]</td>\n",
       "    </tr>\n",
       "    <tr>\n",
       "      <th>22166</th>\n",
       "      <td>22166</td>\n",
       "      <td>Query language 1C: Enterprise [Digital version]</td>\n",
       "    </tr>\n",
       "    <tr>\n",
       "      <th>22167</th>\n",
       "      <td>22167</td>\n",
       "      <td>The query language is 1C: Enterprise 8 (+ CD)....</td>\n",
       "    </tr>\n",
       "    <tr>\n",
       "      <th>22168</th>\n",
       "      <td>22168</td>\n",
       "      <td>Egg for Little Inu</td>\n",
       "    </tr>\n",
       "    <tr>\n",
       "      <th>22169</th>\n",
       "      <td>22169</td>\n",
       "      <td>Egg of the Dragon (Game of Thrones)</td>\n",
       "    </tr>\n",
       "  </tbody>\n",
       "</table>\n",
       "<p>22170 rows × 2 columns</p>\n",
       "</div>"
      ],
      "text/plain": [
       "       item_id                               item_name_translated\n",
       "0            0             !! IN THE POWER OF HAPPINESS (PLAST) D\n",
       "1            1  ! ABBYY FineReader 12 Professional Edition Ful...\n",
       "2            2              *** IN THE GLORY OF THE GLORY (UNV) D\n",
       "3            3                             *** BLUE WAVE (Univ) D\n",
       "4            4                                  *** BOX (GLASS) D\n",
       "...        ...                                                ...\n",
       "22165    22165             Nuclear Titbit 2 [PC, Digital Version]\n",
       "22166    22166    Query language 1C: Enterprise [Digital version]\n",
       "22167    22167  The query language is 1C: Enterprise 8 (+ CD)....\n",
       "22168    22168                                 Egg for Little Inu\n",
       "22169    22169                Egg of the Dragon (Game of Thrones)\n",
       "\n",
       "[22170 rows x 2 columns]"
      ]
     },
     "execution_count": 17,
     "metadata": {},
     "output_type": "execute_result"
    }
   ],
   "source": [
    "items = pd.read_csv(path + \"items-translated.csv\")\n",
    "items"
   ]
  },
  {
   "cell_type": "code",
   "execution_count": 18,
   "id": "compressed-acrylic",
   "metadata": {
    "ExecuteTime": {
     "end_time": "2021-02-09T16:07:58.336372Z",
     "start_time": "2021-02-09T16:07:57.366234Z"
    }
   },
   "outputs": [],
   "source": [
    "from sklearn.feature_extraction.text import CountVectorizer\n",
    "from sklearn.feature_extraction.text import TfidfVectorizer"
   ]
  },
  {
   "cell_type": "code",
   "execution_count": 19,
   "id": "combined-induction",
   "metadata": {
    "ExecuteTime": {
     "end_time": "2021-02-09T16:07:58.346895Z",
     "start_time": "2021-02-09T16:07:58.338843Z"
    }
   },
   "outputs": [
    {
     "data": {
      "text/plain": [
       "22170"
      ]
     },
     "execution_count": 19,
     "metadata": {},
     "output_type": "execute_result"
    }
   ],
   "source": [
    "texts = items[\"item_name_translated\"].values\n",
    "len(texts)"
   ]
  },
  {
   "cell_type": "code",
   "execution_count": 20,
   "id": "productive-african",
   "metadata": {
    "ExecuteTime": {
     "end_time": "2021-02-09T16:07:59.110602Z",
     "start_time": "2021-02-09T16:07:59.103566Z"
    }
   },
   "outputs": [
    {
     "data": {
      "text/plain": [
       "22170"
      ]
     },
     "execution_count": 20,
     "metadata": {},
     "output_type": "execute_result"
    }
   ],
   "source": [
    "item_ids = items[\"item_id\"].values\n",
    "len(item_ids)"
   ]
  },
  {
   "cell_type": "markdown",
   "id": "received-denver",
   "metadata": {},
   "source": [
    "### Bag Of Words (BOW) + 1gram"
   ]
  },
  {
   "cell_type": "code",
   "execution_count": 21,
   "id": "lasting-companion",
   "metadata": {
    "ExecuteTime": {
     "end_time": "2021-02-09T16:08:01.150492Z",
     "start_time": "2021-02-09T16:08:00.565508Z"
    }
   },
   "outputs": [
    {
     "data": {
      "text/html": [
       "<div>\n",
       "<style scoped>\n",
       "    .dataframe tbody tr th:only-of-type {\n",
       "        vertical-align: middle;\n",
       "    }\n",
       "\n",
       "    .dataframe tbody tr th {\n",
       "        vertical-align: top;\n",
       "    }\n",
       "\n",
       "    .dataframe thead th {\n",
       "        text-align: right;\n",
       "    }\n",
       "</style>\n",
       "<table border=\"1\" class=\"dataframe\">\n",
       "  <thead>\n",
       "    <tr style=\"text-align: right;\">\n",
       "      <th></th>\n",
       "      <th>in</th>\n",
       "      <th>the</th>\n",
       "      <th>power</th>\n",
       "      <th>of</th>\n",
       "      <th>happiness</th>\n",
       "      <th>plast</th>\n",
       "      <th>abbyy</th>\n",
       "      <th>finereader</th>\n",
       "      <th>12</th>\n",
       "      <th>professional</th>\n",
       "      <th>...</th>\n",
       "      <th>also</th>\n",
       "      <th>franknstein</th>\n",
       "      <th>poisons</th>\n",
       "      <th>yalta</th>\n",
       "      <th>yama</th>\n",
       "      <th>yankovsky</th>\n",
       "      <th>yaroslav</th>\n",
       "      <th>furnish</th>\n",
       "      <th>titbit</th>\n",
       "      <th>query</th>\n",
       "    </tr>\n",
       "  </thead>\n",
       "  <tbody>\n",
       "    <tr>\n",
       "      <th>0</th>\n",
       "      <td>0</td>\n",
       "      <td>0</td>\n",
       "      <td>0</td>\n",
       "      <td>0</td>\n",
       "      <td>0</td>\n",
       "      <td>0</td>\n",
       "      <td>0</td>\n",
       "      <td>0</td>\n",
       "      <td>0</td>\n",
       "      <td>0</td>\n",
       "      <td>...</td>\n",
       "      <td>0</td>\n",
       "      <td>0</td>\n",
       "      <td>0</td>\n",
       "      <td>0</td>\n",
       "      <td>0</td>\n",
       "      <td>0</td>\n",
       "      <td>0</td>\n",
       "      <td>0</td>\n",
       "      <td>0</td>\n",
       "      <td>0</td>\n",
       "    </tr>\n",
       "    <tr>\n",
       "      <th>1</th>\n",
       "      <td>0</td>\n",
       "      <td>0</td>\n",
       "      <td>0</td>\n",
       "      <td>0</td>\n",
       "      <td>0</td>\n",
       "      <td>0</td>\n",
       "      <td>0</td>\n",
       "      <td>0</td>\n",
       "      <td>0</td>\n",
       "      <td>0</td>\n",
       "      <td>...</td>\n",
       "      <td>0</td>\n",
       "      <td>0</td>\n",
       "      <td>0</td>\n",
       "      <td>0</td>\n",
       "      <td>0</td>\n",
       "      <td>0</td>\n",
       "      <td>0</td>\n",
       "      <td>0</td>\n",
       "      <td>0</td>\n",
       "      <td>0</td>\n",
       "    </tr>\n",
       "    <tr>\n",
       "      <th>2</th>\n",
       "      <td>0</td>\n",
       "      <td>0</td>\n",
       "      <td>0</td>\n",
       "      <td>0</td>\n",
       "      <td>0</td>\n",
       "      <td>0</td>\n",
       "      <td>0</td>\n",
       "      <td>0</td>\n",
       "      <td>0</td>\n",
       "      <td>0</td>\n",
       "      <td>...</td>\n",
       "      <td>0</td>\n",
       "      <td>0</td>\n",
       "      <td>0</td>\n",
       "      <td>0</td>\n",
       "      <td>0</td>\n",
       "      <td>0</td>\n",
       "      <td>0</td>\n",
       "      <td>0</td>\n",
       "      <td>0</td>\n",
       "      <td>0</td>\n",
       "    </tr>\n",
       "    <tr>\n",
       "      <th>3</th>\n",
       "      <td>0</td>\n",
       "      <td>0</td>\n",
       "      <td>0</td>\n",
       "      <td>0</td>\n",
       "      <td>0</td>\n",
       "      <td>0</td>\n",
       "      <td>0</td>\n",
       "      <td>0</td>\n",
       "      <td>0</td>\n",
       "      <td>0</td>\n",
       "      <td>...</td>\n",
       "      <td>0</td>\n",
       "      <td>0</td>\n",
       "      <td>0</td>\n",
       "      <td>0</td>\n",
       "      <td>0</td>\n",
       "      <td>0</td>\n",
       "      <td>0</td>\n",
       "      <td>0</td>\n",
       "      <td>0</td>\n",
       "      <td>0</td>\n",
       "    </tr>\n",
       "    <tr>\n",
       "      <th>4</th>\n",
       "      <td>0</td>\n",
       "      <td>0</td>\n",
       "      <td>0</td>\n",
       "      <td>0</td>\n",
       "      <td>0</td>\n",
       "      <td>0</td>\n",
       "      <td>0</td>\n",
       "      <td>0</td>\n",
       "      <td>0</td>\n",
       "      <td>0</td>\n",
       "      <td>...</td>\n",
       "      <td>0</td>\n",
       "      <td>0</td>\n",
       "      <td>0</td>\n",
       "      <td>0</td>\n",
       "      <td>0</td>\n",
       "      <td>0</td>\n",
       "      <td>0</td>\n",
       "      <td>0</td>\n",
       "      <td>0</td>\n",
       "      <td>0</td>\n",
       "    </tr>\n",
       "    <tr>\n",
       "      <th>...</th>\n",
       "      <td>...</td>\n",
       "      <td>...</td>\n",
       "      <td>...</td>\n",
       "      <td>...</td>\n",
       "      <td>...</td>\n",
       "      <td>...</td>\n",
       "      <td>...</td>\n",
       "      <td>...</td>\n",
       "      <td>...</td>\n",
       "      <td>...</td>\n",
       "      <td>...</td>\n",
       "      <td>...</td>\n",
       "      <td>...</td>\n",
       "      <td>...</td>\n",
       "      <td>...</td>\n",
       "      <td>...</td>\n",
       "      <td>...</td>\n",
       "      <td>...</td>\n",
       "      <td>...</td>\n",
       "      <td>...</td>\n",
       "      <td>...</td>\n",
       "    </tr>\n",
       "    <tr>\n",
       "      <th>22165</th>\n",
       "      <td>0</td>\n",
       "      <td>0</td>\n",
       "      <td>0</td>\n",
       "      <td>0</td>\n",
       "      <td>0</td>\n",
       "      <td>0</td>\n",
       "      <td>0</td>\n",
       "      <td>0</td>\n",
       "      <td>0</td>\n",
       "      <td>0</td>\n",
       "      <td>...</td>\n",
       "      <td>0</td>\n",
       "      <td>0</td>\n",
       "      <td>0</td>\n",
       "      <td>0</td>\n",
       "      <td>0</td>\n",
       "      <td>0</td>\n",
       "      <td>0</td>\n",
       "      <td>0</td>\n",
       "      <td>0</td>\n",
       "      <td>0</td>\n",
       "    </tr>\n",
       "    <tr>\n",
       "      <th>22166</th>\n",
       "      <td>0</td>\n",
       "      <td>0</td>\n",
       "      <td>0</td>\n",
       "      <td>0</td>\n",
       "      <td>0</td>\n",
       "      <td>0</td>\n",
       "      <td>0</td>\n",
       "      <td>0</td>\n",
       "      <td>0</td>\n",
       "      <td>0</td>\n",
       "      <td>...</td>\n",
       "      <td>0</td>\n",
       "      <td>0</td>\n",
       "      <td>0</td>\n",
       "      <td>0</td>\n",
       "      <td>0</td>\n",
       "      <td>0</td>\n",
       "      <td>0</td>\n",
       "      <td>0</td>\n",
       "      <td>0</td>\n",
       "      <td>0</td>\n",
       "    </tr>\n",
       "    <tr>\n",
       "      <th>22167</th>\n",
       "      <td>0</td>\n",
       "      <td>0</td>\n",
       "      <td>0</td>\n",
       "      <td>0</td>\n",
       "      <td>0</td>\n",
       "      <td>0</td>\n",
       "      <td>0</td>\n",
       "      <td>0</td>\n",
       "      <td>0</td>\n",
       "      <td>0</td>\n",
       "      <td>...</td>\n",
       "      <td>0</td>\n",
       "      <td>0</td>\n",
       "      <td>0</td>\n",
       "      <td>0</td>\n",
       "      <td>0</td>\n",
       "      <td>0</td>\n",
       "      <td>0</td>\n",
       "      <td>0</td>\n",
       "      <td>0</td>\n",
       "      <td>0</td>\n",
       "    </tr>\n",
       "    <tr>\n",
       "      <th>22168</th>\n",
       "      <td>0</td>\n",
       "      <td>0</td>\n",
       "      <td>0</td>\n",
       "      <td>0</td>\n",
       "      <td>0</td>\n",
       "      <td>0</td>\n",
       "      <td>0</td>\n",
       "      <td>0</td>\n",
       "      <td>0</td>\n",
       "      <td>0</td>\n",
       "      <td>...</td>\n",
       "      <td>0</td>\n",
       "      <td>0</td>\n",
       "      <td>0</td>\n",
       "      <td>0</td>\n",
       "      <td>0</td>\n",
       "      <td>0</td>\n",
       "      <td>0</td>\n",
       "      <td>0</td>\n",
       "      <td>0</td>\n",
       "      <td>0</td>\n",
       "    </tr>\n",
       "    <tr>\n",
       "      <th>22169</th>\n",
       "      <td>0</td>\n",
       "      <td>0</td>\n",
       "      <td>0</td>\n",
       "      <td>0</td>\n",
       "      <td>0</td>\n",
       "      <td>0</td>\n",
       "      <td>0</td>\n",
       "      <td>0</td>\n",
       "      <td>0</td>\n",
       "      <td>0</td>\n",
       "      <td>...</td>\n",
       "      <td>0</td>\n",
       "      <td>0</td>\n",
       "      <td>0</td>\n",
       "      <td>0</td>\n",
       "      <td>0</td>\n",
       "      <td>0</td>\n",
       "      <td>0</td>\n",
       "      <td>0</td>\n",
       "      <td>0</td>\n",
       "      <td>0</td>\n",
       "    </tr>\n",
       "  </tbody>\n",
       "</table>\n",
       "<p>22170 rows × 14505 columns</p>\n",
       "</div>"
      ],
      "text/plain": [
       "       in  the  power  of  happiness  plast  abbyy  finereader  12  \\\n",
       "0       0    0      0   0          0      0      0           0   0   \n",
       "1       0    0      0   0          0      0      0           0   0   \n",
       "2       0    0      0   0          0      0      0           0   0   \n",
       "3       0    0      0   0          0      0      0           0   0   \n",
       "4       0    0      0   0          0      0      0           0   0   \n",
       "...    ..  ...    ...  ..        ...    ...    ...         ...  ..   \n",
       "22165   0    0      0   0          0      0      0           0   0   \n",
       "22166   0    0      0   0          0      0      0           0   0   \n",
       "22167   0    0      0   0          0      0      0           0   0   \n",
       "22168   0    0      0   0          0      0      0           0   0   \n",
       "22169   0    0      0   0          0      0      0           0   0   \n",
       "\n",
       "       professional  ...  also  franknstein  poisons  yalta  yama  yankovsky  \\\n",
       "0                 0  ...     0            0        0      0     0          0   \n",
       "1                 0  ...     0            0        0      0     0          0   \n",
       "2                 0  ...     0            0        0      0     0          0   \n",
       "3                 0  ...     0            0        0      0     0          0   \n",
       "4                 0  ...     0            0        0      0     0          0   \n",
       "...             ...  ...   ...          ...      ...    ...   ...        ...   \n",
       "22165             0  ...     0            0        0      0     0          0   \n",
       "22166             0  ...     0            0        0      0     0          0   \n",
       "22167             0  ...     0            0        0      0     0          0   \n",
       "22168             0  ...     0            0        0      0     0          0   \n",
       "22169             0  ...     0            0        0      0     0          0   \n",
       "\n",
       "       yaroslav  furnish  titbit  query  \n",
       "0             0        0       0      0  \n",
       "1             0        0       0      0  \n",
       "2             0        0       0      0  \n",
       "3             0        0       0      0  \n",
       "4             0        0       0      0  \n",
       "...         ...      ...     ...    ...  \n",
       "22165         0        0       0      0  \n",
       "22166         0        0       0      0  \n",
       "22167         0        0       0      0  \n",
       "22168         0        0       0      0  \n",
       "22169         0        0       0      0  \n",
       "\n",
       "[22170 rows x 14505 columns]"
      ]
     },
     "execution_count": 21,
     "metadata": {},
     "output_type": "execute_result"
    }
   ],
   "source": [
    "bow = CountVectorizer(ngram_range=(1, 1))\n",
    "texts_bow_1gram = bow.fit_transform(items[\"item_name_translated\"])\n",
    "tokens = tokens = bow.vocabulary_.keys()\n",
    "BOW_1gram = pd.DataFrame(data=texts_bow_1gram.toarray(), index=item_ids, columns=tokens)\n",
    "BOW_1gram"
   ]
  },
  {
   "cell_type": "markdown",
   "id": "serious-dressing",
   "metadata": {},
   "source": [
    "##### Check for non-zeros:\n",
    "- Here is showing an array of the rows in the \"power\" column that contain a non-zero:"
   ]
  },
  {
   "cell_type": "code",
   "execution_count": 22,
   "id": "assisted-peninsula",
   "metadata": {
    "ExecuteTime": {
     "end_time": "2021-02-09T16:08:03.256982Z",
     "start_time": "2021-02-09T16:08:03.247876Z"
    }
   },
   "outputs": [
    {
     "data": {
      "text/plain": [
       "(array([7887, 7893, 7894, 7895, 7900, 7936]),)"
      ]
     },
     "execution_count": 22,
     "metadata": {},
     "output_type": "execute_result"
    }
   ],
   "source": [
    "BOW_1gram[\"power\"].to_numpy().nonzero() "
   ]
  },
  {
   "cell_type": "markdown",
   "id": "artificial-saying",
   "metadata": {},
   "source": [
    "- Here we can check the non-zero value of the 7887th row in the \"power\" column (column 3):"
   ]
  },
  {
   "cell_type": "code",
   "execution_count": 23,
   "id": "brave-bridal",
   "metadata": {
    "ExecuteTime": {
     "end_time": "2021-02-09T16:08:05.285244Z",
     "start_time": "2021-02-09T16:08:05.280404Z"
    }
   },
   "outputs": [
    {
     "data": {
      "text/plain": [
       "1"
      ]
     },
     "execution_count": 23,
     "metadata": {},
     "output_type": "execute_result"
    }
   ],
   "source": [
    "BOW_1gram.iloc[7887, 2]"
   ]
  },
  {
   "cell_type": "markdown",
   "id": "charming-holiday",
   "metadata": {},
   "source": [
    "- Here, we print the texts_bow variable, which was derived from the fit_transform of BoW CountVectorizer.\n",
    "It prints the array as (row, column) and the value of that (row, column) that has a value (or weight), which is later made into an array (and then dataframe) with other missing values as zero:"
   ]
  },
  {
   "cell_type": "code",
   "execution_count": 24,
   "id": "accompanied-wilson",
   "metadata": {
    "ExecuteTime": {
     "end_time": "2021-02-09T16:08:06.911857Z",
     "start_time": "2021-02-09T16:08:06.905849Z"
    }
   },
   "outputs": [
    {
     "name": "stdout",
     "output_type": "stream",
     "text": [
      "  (0, 6485)\t1\n",
      "  (0, 12479)\t1\n",
      "  (0, 9869)\t1\n",
      "  (0, 9054)\t1\n",
      "  (0, 5998)\t1\n",
      "  (0, 9695)\t1\n"
     ]
    }
   ],
   "source": [
    "print(texts_bow_1gram[0])  # only printing first column so can see general idea"
   ]
  },
  {
   "cell_type": "markdown",
   "id": "lovely-express",
   "metadata": {},
   "source": [
    "- Here, we can check the value of one of the (row, column)'s we found:"
   ]
  },
  {
   "cell_type": "code",
   "execution_count": 25,
   "id": "intellectual-pepper",
   "metadata": {
    "ExecuteTime": {
     "end_time": "2021-02-09T16:08:08.599623Z",
     "start_time": "2021-02-09T16:08:08.593267Z"
    }
   },
   "outputs": [
    {
     "data": {
      "text/plain": [
       "1"
      ]
     },
     "execution_count": 25,
     "metadata": {},
     "output_type": "execute_result"
    }
   ],
   "source": [
    "BOW_1gram.iloc[0, 6485]"
   ]
  },
  {
   "cell_type": "markdown",
   "id": "economic-circus",
   "metadata": {},
   "source": [
    "### Bag Of Words (BOW) + (1gram + 2grams)"
   ]
  },
  {
   "cell_type": "code",
   "execution_count": 26,
   "id": "surrounded-impact",
   "metadata": {
    "ExecuteTime": {
     "end_time": "2021-02-09T16:08:11.261143Z",
     "start_time": "2021-02-09T16:08:10.291578Z"
    }
   },
   "outputs": [
    {
     "data": {
      "text/html": [
       "<div>\n",
       "<style scoped>\n",
       "    .dataframe tbody tr th:only-of-type {\n",
       "        vertical-align: middle;\n",
       "    }\n",
       "\n",
       "    .dataframe tbody tr th {\n",
       "        vertical-align: top;\n",
       "    }\n",
       "\n",
       "    .dataframe thead th {\n",
       "        text-align: right;\n",
       "    }\n",
       "</style>\n",
       "<table border=\"1\" class=\"dataframe\">\n",
       "  <thead>\n",
       "    <tr style=\"text-align: right;\">\n",
       "      <th></th>\n",
       "      <th>in</th>\n",
       "      <th>the</th>\n",
       "      <th>power</th>\n",
       "      <th>of</th>\n",
       "      <th>happiness</th>\n",
       "      <th>plast</th>\n",
       "      <th>in the</th>\n",
       "      <th>the power</th>\n",
       "      <th>power of</th>\n",
       "      <th>of happiness</th>\n",
       "      <th>...</th>\n",
       "      <th>titbit pc</th>\n",
       "      <th>query</th>\n",
       "      <th>query language</th>\n",
       "      <th>language 1c</th>\n",
       "      <th>the query</th>\n",
       "      <th>language is</th>\n",
       "      <th>is 1c</th>\n",
       "      <th>egg for</th>\n",
       "      <th>egg of</th>\n",
       "      <th>dragon game</th>\n",
       "    </tr>\n",
       "  </thead>\n",
       "  <tbody>\n",
       "    <tr>\n",
       "      <th>0</th>\n",
       "      <td>0</td>\n",
       "      <td>0</td>\n",
       "      <td>0</td>\n",
       "      <td>0</td>\n",
       "      <td>0</td>\n",
       "      <td>0</td>\n",
       "      <td>0</td>\n",
       "      <td>0</td>\n",
       "      <td>0</td>\n",
       "      <td>0</td>\n",
       "      <td>...</td>\n",
       "      <td>0</td>\n",
       "      <td>0</td>\n",
       "      <td>0</td>\n",
       "      <td>0</td>\n",
       "      <td>0</td>\n",
       "      <td>0</td>\n",
       "      <td>0</td>\n",
       "      <td>0</td>\n",
       "      <td>0</td>\n",
       "      <td>0</td>\n",
       "    </tr>\n",
       "    <tr>\n",
       "      <th>1</th>\n",
       "      <td>0</td>\n",
       "      <td>0</td>\n",
       "      <td>0</td>\n",
       "      <td>0</td>\n",
       "      <td>0</td>\n",
       "      <td>0</td>\n",
       "      <td>0</td>\n",
       "      <td>0</td>\n",
       "      <td>0</td>\n",
       "      <td>0</td>\n",
       "      <td>...</td>\n",
       "      <td>0</td>\n",
       "      <td>0</td>\n",
       "      <td>0</td>\n",
       "      <td>0</td>\n",
       "      <td>0</td>\n",
       "      <td>0</td>\n",
       "      <td>0</td>\n",
       "      <td>0</td>\n",
       "      <td>0</td>\n",
       "      <td>0</td>\n",
       "    </tr>\n",
       "    <tr>\n",
       "      <th>2</th>\n",
       "      <td>0</td>\n",
       "      <td>0</td>\n",
       "      <td>0</td>\n",
       "      <td>0</td>\n",
       "      <td>0</td>\n",
       "      <td>0</td>\n",
       "      <td>0</td>\n",
       "      <td>0</td>\n",
       "      <td>0</td>\n",
       "      <td>0</td>\n",
       "      <td>...</td>\n",
       "      <td>0</td>\n",
       "      <td>0</td>\n",
       "      <td>0</td>\n",
       "      <td>0</td>\n",
       "      <td>0</td>\n",
       "      <td>0</td>\n",
       "      <td>0</td>\n",
       "      <td>0</td>\n",
       "      <td>0</td>\n",
       "      <td>0</td>\n",
       "    </tr>\n",
       "    <tr>\n",
       "      <th>3</th>\n",
       "      <td>0</td>\n",
       "      <td>0</td>\n",
       "      <td>0</td>\n",
       "      <td>0</td>\n",
       "      <td>0</td>\n",
       "      <td>0</td>\n",
       "      <td>0</td>\n",
       "      <td>0</td>\n",
       "      <td>0</td>\n",
       "      <td>0</td>\n",
       "      <td>...</td>\n",
       "      <td>0</td>\n",
       "      <td>0</td>\n",
       "      <td>0</td>\n",
       "      <td>0</td>\n",
       "      <td>0</td>\n",
       "      <td>0</td>\n",
       "      <td>0</td>\n",
       "      <td>0</td>\n",
       "      <td>0</td>\n",
       "      <td>0</td>\n",
       "    </tr>\n",
       "    <tr>\n",
       "      <th>4</th>\n",
       "      <td>0</td>\n",
       "      <td>0</td>\n",
       "      <td>0</td>\n",
       "      <td>0</td>\n",
       "      <td>0</td>\n",
       "      <td>0</td>\n",
       "      <td>0</td>\n",
       "      <td>0</td>\n",
       "      <td>0</td>\n",
       "      <td>0</td>\n",
       "      <td>...</td>\n",
       "      <td>0</td>\n",
       "      <td>0</td>\n",
       "      <td>0</td>\n",
       "      <td>0</td>\n",
       "      <td>0</td>\n",
       "      <td>0</td>\n",
       "      <td>0</td>\n",
       "      <td>0</td>\n",
       "      <td>0</td>\n",
       "      <td>0</td>\n",
       "    </tr>\n",
       "    <tr>\n",
       "      <th>...</th>\n",
       "      <td>...</td>\n",
       "      <td>...</td>\n",
       "      <td>...</td>\n",
       "      <td>...</td>\n",
       "      <td>...</td>\n",
       "      <td>...</td>\n",
       "      <td>...</td>\n",
       "      <td>...</td>\n",
       "      <td>...</td>\n",
       "      <td>...</td>\n",
       "      <td>...</td>\n",
       "      <td>...</td>\n",
       "      <td>...</td>\n",
       "      <td>...</td>\n",
       "      <td>...</td>\n",
       "      <td>...</td>\n",
       "      <td>...</td>\n",
       "      <td>...</td>\n",
       "      <td>...</td>\n",
       "      <td>...</td>\n",
       "      <td>...</td>\n",
       "    </tr>\n",
       "    <tr>\n",
       "      <th>22165</th>\n",
       "      <td>0</td>\n",
       "      <td>0</td>\n",
       "      <td>0</td>\n",
       "      <td>0</td>\n",
       "      <td>0</td>\n",
       "      <td>0</td>\n",
       "      <td>0</td>\n",
       "      <td>0</td>\n",
       "      <td>0</td>\n",
       "      <td>0</td>\n",
       "      <td>...</td>\n",
       "      <td>0</td>\n",
       "      <td>0</td>\n",
       "      <td>0</td>\n",
       "      <td>0</td>\n",
       "      <td>0</td>\n",
       "      <td>0</td>\n",
       "      <td>0</td>\n",
       "      <td>0</td>\n",
       "      <td>0</td>\n",
       "      <td>0</td>\n",
       "    </tr>\n",
       "    <tr>\n",
       "      <th>22166</th>\n",
       "      <td>0</td>\n",
       "      <td>0</td>\n",
       "      <td>0</td>\n",
       "      <td>0</td>\n",
       "      <td>0</td>\n",
       "      <td>0</td>\n",
       "      <td>0</td>\n",
       "      <td>0</td>\n",
       "      <td>0</td>\n",
       "      <td>0</td>\n",
       "      <td>...</td>\n",
       "      <td>0</td>\n",
       "      <td>0</td>\n",
       "      <td>0</td>\n",
       "      <td>0</td>\n",
       "      <td>0</td>\n",
       "      <td>0</td>\n",
       "      <td>0</td>\n",
       "      <td>0</td>\n",
       "      <td>0</td>\n",
       "      <td>0</td>\n",
       "    </tr>\n",
       "    <tr>\n",
       "      <th>22167</th>\n",
       "      <td>0</td>\n",
       "      <td>0</td>\n",
       "      <td>0</td>\n",
       "      <td>0</td>\n",
       "      <td>0</td>\n",
       "      <td>0</td>\n",
       "      <td>0</td>\n",
       "      <td>0</td>\n",
       "      <td>0</td>\n",
       "      <td>0</td>\n",
       "      <td>...</td>\n",
       "      <td>0</td>\n",
       "      <td>0</td>\n",
       "      <td>0</td>\n",
       "      <td>0</td>\n",
       "      <td>0</td>\n",
       "      <td>0</td>\n",
       "      <td>0</td>\n",
       "      <td>0</td>\n",
       "      <td>0</td>\n",
       "      <td>0</td>\n",
       "    </tr>\n",
       "    <tr>\n",
       "      <th>22168</th>\n",
       "      <td>0</td>\n",
       "      <td>0</td>\n",
       "      <td>0</td>\n",
       "      <td>0</td>\n",
       "      <td>0</td>\n",
       "      <td>0</td>\n",
       "      <td>0</td>\n",
       "      <td>0</td>\n",
       "      <td>0</td>\n",
       "      <td>0</td>\n",
       "      <td>...</td>\n",
       "      <td>0</td>\n",
       "      <td>0</td>\n",
       "      <td>0</td>\n",
       "      <td>0</td>\n",
       "      <td>0</td>\n",
       "      <td>0</td>\n",
       "      <td>0</td>\n",
       "      <td>0</td>\n",
       "      <td>0</td>\n",
       "      <td>0</td>\n",
       "    </tr>\n",
       "    <tr>\n",
       "      <th>22169</th>\n",
       "      <td>0</td>\n",
       "      <td>0</td>\n",
       "      <td>0</td>\n",
       "      <td>0</td>\n",
       "      <td>0</td>\n",
       "      <td>0</td>\n",
       "      <td>0</td>\n",
       "      <td>0</td>\n",
       "      <td>0</td>\n",
       "      <td>0</td>\n",
       "      <td>...</td>\n",
       "      <td>0</td>\n",
       "      <td>0</td>\n",
       "      <td>0</td>\n",
       "      <td>0</td>\n",
       "      <td>0</td>\n",
       "      <td>0</td>\n",
       "      <td>0</td>\n",
       "      <td>0</td>\n",
       "      <td>0</td>\n",
       "      <td>0</td>\n",
       "    </tr>\n",
       "  </tbody>\n",
       "</table>\n",
       "<p>22170 rows × 63885 columns</p>\n",
       "</div>"
      ],
      "text/plain": [
       "       in  the  power  of  happiness  plast  in the  the power  power of  \\\n",
       "0       0    0      0   0          0      0       0          0         0   \n",
       "1       0    0      0   0          0      0       0          0         0   \n",
       "2       0    0      0   0          0      0       0          0         0   \n",
       "3       0    0      0   0          0      0       0          0         0   \n",
       "4       0    0      0   0          0      0       0          0         0   \n",
       "...    ..  ...    ...  ..        ...    ...     ...        ...       ...   \n",
       "22165   0    0      0   0          0      0       0          0         0   \n",
       "22166   0    0      0   0          0      0       0          0         0   \n",
       "22167   0    0      0   0          0      0       0          0         0   \n",
       "22168   0    0      0   0          0      0       0          0         0   \n",
       "22169   0    0      0   0          0      0       0          0         0   \n",
       "\n",
       "       of happiness  ...  titbit pc  query  query language  language 1c  \\\n",
       "0                 0  ...          0      0               0            0   \n",
       "1                 0  ...          0      0               0            0   \n",
       "2                 0  ...          0      0               0            0   \n",
       "3                 0  ...          0      0               0            0   \n",
       "4                 0  ...          0      0               0            0   \n",
       "...             ...  ...        ...    ...             ...          ...   \n",
       "22165             0  ...          0      0               0            0   \n",
       "22166             0  ...          0      0               0            0   \n",
       "22167             0  ...          0      0               0            0   \n",
       "22168             0  ...          0      0               0            0   \n",
       "22169             0  ...          0      0               0            0   \n",
       "\n",
       "       the query  language is  is 1c  egg for  egg of  dragon game  \n",
       "0              0            0      0        0       0            0  \n",
       "1              0            0      0        0       0            0  \n",
       "2              0            0      0        0       0            0  \n",
       "3              0            0      0        0       0            0  \n",
       "4              0            0      0        0       0            0  \n",
       "...          ...          ...    ...      ...     ...          ...  \n",
       "22165          0            0      0        0       0            0  \n",
       "22166          0            0      0        0       0            0  \n",
       "22167          0            0      0        0       0            0  \n",
       "22168          0            0      0        0       0            0  \n",
       "22169          0            0      0        0       0            0  \n",
       "\n",
       "[22170 rows x 63885 columns]"
      ]
     },
     "execution_count": 26,
     "metadata": {},
     "output_type": "execute_result"
    }
   ],
   "source": [
    "bow = CountVectorizer(ngram_range=(1, 2), dtype=np.int8)\n",
    "texts_bow_1gram2gram = bow.fit_transform(items[\"item_name_translated\"])\n",
    "tokens = bow.vocabulary_.keys()\n",
    "BOW_1gram_plus_2grams = pd.DataFrame(data=texts_bow_1gram2gram.toarray(), index=item_ids, columns=tokens)\n",
    "BOW_1gram_plus_2grams"
   ]
  },
  {
   "cell_type": "markdown",
   "id": "confidential-reverse",
   "metadata": {},
   "source": [
    "##### Check for non-zeros:\n",
    "- Here is showing an array of the rows in the \"power\" column that contain a non-zero:"
   ]
  },
  {
   "cell_type": "code",
   "execution_count": 27,
   "id": "thermal-potential",
   "metadata": {
    "ExecuteTime": {
     "end_time": "2021-02-09T16:08:16.491225Z",
     "start_time": "2021-02-09T16:08:16.476880Z"
    }
   },
   "outputs": [
    {
     "data": {
      "text/plain": [
       "(array([   34,   198,  5267,  7745,  7746,  7747,  7748,  7749,  7750,\n",
       "         7751,  7752,  7753,  7754,  7755,  7756,  7757,  7758,  7759,\n",
       "         7760,  7761,  7762,  7763,  7764,  7765,  7766,  7767,  7768,\n",
       "         7769,  7770,  7771,  7772,  7773,  7774,  7775,  7776, 13153]),)"
      ]
     },
     "execution_count": 27,
     "metadata": {},
     "output_type": "execute_result"
    }
   ],
   "source": [
    "BOW_1gram_plus_2grams[\"power\"].to_numpy().nonzero() "
   ]
  },
  {
   "cell_type": "markdown",
   "id": "actual-flour",
   "metadata": {},
   "source": [
    "- Here we can check the non-zero value of the 34th row in the \"power\" column (column 3):"
   ]
  },
  {
   "cell_type": "code",
   "execution_count": 28,
   "id": "secondary-treatment",
   "metadata": {
    "ExecuteTime": {
     "end_time": "2021-02-09T16:08:18.131321Z",
     "start_time": "2021-02-09T16:08:18.123181Z"
    }
   },
   "outputs": [
    {
     "data": {
      "text/plain": [
       "1"
      ]
     },
     "execution_count": 28,
     "metadata": {},
     "output_type": "execute_result"
    }
   ],
   "source": [
    "BOW_1gram_plus_2grams.iloc[34, 2]"
   ]
  },
  {
   "cell_type": "markdown",
   "id": "patient-spending",
   "metadata": {},
   "source": [
    "- Here, we print the texts_bow variable, which was derived from the fit_transform of BoW CountVectorizer.\n",
    "It prints the array as (row, column) and the value of that (row, column) that has a value (or weight), which is later made into an array (and then dataframe) with other missing values as zero:"
   ]
  },
  {
   "cell_type": "code",
   "execution_count": 29,
   "id": "peaceful-daughter",
   "metadata": {
    "ExecuteTime": {
     "end_time": "2021-02-09T16:08:19.898239Z",
     "start_time": "2021-02-09T16:08:19.888528Z"
    }
   },
   "outputs": [
    {
     "name": "stdout",
     "output_type": "stream",
     "text": [
      "  (0, 27748)\t1\n",
      "  (0, 53783)\t1\n",
      "  (0, 43121)\t1\n",
      "  (0, 38445)\t1\n",
      "  (0, 25629)\t1\n",
      "  (0, 42451)\t1\n",
      "  (0, 27973)\t1\n",
      "  (0, 54748)\t1\n",
      "  (0, 43130)\t1\n",
      "  (0, 38924)\t1\n",
      "  (0, 25633)\t1\n"
     ]
    }
   ],
   "source": [
    "print(texts_bow_1gram2gram[0])  # only printing first column so can see general idea"
   ]
  },
  {
   "cell_type": "markdown",
   "id": "reasonable-hammer",
   "metadata": {},
   "source": [
    "- Here, we can check the value of one of the (row, column)'s we found:"
   ]
  },
  {
   "cell_type": "code",
   "execution_count": 30,
   "id": "mobile-natural",
   "metadata": {
    "ExecuteTime": {
     "end_time": "2021-02-09T16:08:21.400926Z",
     "start_time": "2021-02-09T16:08:21.396509Z"
    }
   },
   "outputs": [
    {
     "data": {
      "text/plain": [
       "1"
      ]
     },
     "execution_count": 30,
     "metadata": {},
     "output_type": "execute_result"
    }
   ],
   "source": [
    "BOW_1gram_plus_2grams.iloc[0, 27748]"
   ]
  },
  {
   "cell_type": "markdown",
   "id": "killing-albania",
   "metadata": {},
   "source": [
    "### Bag Of Words (BOW) + (1gram + 2grams) with min_df"
   ]
  },
  {
   "cell_type": "code",
   "execution_count": 31,
   "id": "obvious-speaker",
   "metadata": {
    "ExecuteTime": {
     "end_time": "2021-02-09T16:08:24.304956Z",
     "start_time": "2021-02-09T16:08:23.580343Z"
    }
   },
   "outputs": [
    {
     "data": {
      "text/html": [
       "<div>\n",
       "<style scoped>\n",
       "    .dataframe tbody tr th:only-of-type {\n",
       "        vertical-align: middle;\n",
       "    }\n",
       "\n",
       "    .dataframe tbody tr th {\n",
       "        vertical-align: top;\n",
       "    }\n",
       "\n",
       "    .dataframe thead th {\n",
       "        text-align: right;\n",
       "    }\n",
       "</style>\n",
       "<table border=\"1\" class=\"dataframe\">\n",
       "  <thead>\n",
       "    <tr style=\"text-align: right;\">\n",
       "      <th></th>\n",
       "      <th>in</th>\n",
       "      <th>the</th>\n",
       "      <th>power</th>\n",
       "      <th>of</th>\n",
       "      <th>happiness</th>\n",
       "      <th>in the</th>\n",
       "      <th>the power</th>\n",
       "      <th>power of</th>\n",
       "      <th>of happiness</th>\n",
       "      <th>abbyy</th>\n",
       "      <th>...</th>\n",
       "      <th>franknstein</th>\n",
       "      <th>legend wb</th>\n",
       "      <th>fourth wd</th>\n",
       "      <th>scene 2012</th>\n",
       "      <th>poisons</th>\n",
       "      <th>poisons or</th>\n",
       "      <th>or world</th>\n",
       "      <th>of poisoning</th>\n",
       "      <th>query</th>\n",
       "      <th>query language</th>\n",
       "    </tr>\n",
       "  </thead>\n",
       "  <tbody>\n",
       "    <tr>\n",
       "      <th>0</th>\n",
       "      <td>0</td>\n",
       "      <td>0</td>\n",
       "      <td>0</td>\n",
       "      <td>0</td>\n",
       "      <td>0</td>\n",
       "      <td>0</td>\n",
       "      <td>0</td>\n",
       "      <td>0</td>\n",
       "      <td>0</td>\n",
       "      <td>0</td>\n",
       "      <td>...</td>\n",
       "      <td>0</td>\n",
       "      <td>0</td>\n",
       "      <td>0</td>\n",
       "      <td>0</td>\n",
       "      <td>0</td>\n",
       "      <td>0</td>\n",
       "      <td>0</td>\n",
       "      <td>0</td>\n",
       "      <td>0</td>\n",
       "      <td>0</td>\n",
       "    </tr>\n",
       "    <tr>\n",
       "      <th>1</th>\n",
       "      <td>0</td>\n",
       "      <td>0</td>\n",
       "      <td>0</td>\n",
       "      <td>0</td>\n",
       "      <td>0</td>\n",
       "      <td>0</td>\n",
       "      <td>0</td>\n",
       "      <td>0</td>\n",
       "      <td>0</td>\n",
       "      <td>0</td>\n",
       "      <td>...</td>\n",
       "      <td>0</td>\n",
       "      <td>0</td>\n",
       "      <td>0</td>\n",
       "      <td>0</td>\n",
       "      <td>0</td>\n",
       "      <td>0</td>\n",
       "      <td>0</td>\n",
       "      <td>0</td>\n",
       "      <td>0</td>\n",
       "      <td>0</td>\n",
       "    </tr>\n",
       "    <tr>\n",
       "      <th>2</th>\n",
       "      <td>0</td>\n",
       "      <td>0</td>\n",
       "      <td>0</td>\n",
       "      <td>0</td>\n",
       "      <td>0</td>\n",
       "      <td>0</td>\n",
       "      <td>0</td>\n",
       "      <td>0</td>\n",
       "      <td>0</td>\n",
       "      <td>0</td>\n",
       "      <td>...</td>\n",
       "      <td>0</td>\n",
       "      <td>0</td>\n",
       "      <td>0</td>\n",
       "      <td>0</td>\n",
       "      <td>0</td>\n",
       "      <td>0</td>\n",
       "      <td>0</td>\n",
       "      <td>0</td>\n",
       "      <td>0</td>\n",
       "      <td>0</td>\n",
       "    </tr>\n",
       "    <tr>\n",
       "      <th>3</th>\n",
       "      <td>0</td>\n",
       "      <td>0</td>\n",
       "      <td>0</td>\n",
       "      <td>0</td>\n",
       "      <td>0</td>\n",
       "      <td>0</td>\n",
       "      <td>0</td>\n",
       "      <td>0</td>\n",
       "      <td>0</td>\n",
       "      <td>0</td>\n",
       "      <td>...</td>\n",
       "      <td>0</td>\n",
       "      <td>0</td>\n",
       "      <td>0</td>\n",
       "      <td>0</td>\n",
       "      <td>0</td>\n",
       "      <td>0</td>\n",
       "      <td>0</td>\n",
       "      <td>0</td>\n",
       "      <td>0</td>\n",
       "      <td>0</td>\n",
       "    </tr>\n",
       "    <tr>\n",
       "      <th>4</th>\n",
       "      <td>0</td>\n",
       "      <td>0</td>\n",
       "      <td>0</td>\n",
       "      <td>0</td>\n",
       "      <td>0</td>\n",
       "      <td>0</td>\n",
       "      <td>0</td>\n",
       "      <td>0</td>\n",
       "      <td>0</td>\n",
       "      <td>0</td>\n",
       "      <td>...</td>\n",
       "      <td>0</td>\n",
       "      <td>0</td>\n",
       "      <td>0</td>\n",
       "      <td>0</td>\n",
       "      <td>0</td>\n",
       "      <td>0</td>\n",
       "      <td>0</td>\n",
       "      <td>0</td>\n",
       "      <td>0</td>\n",
       "      <td>0</td>\n",
       "    </tr>\n",
       "    <tr>\n",
       "      <th>...</th>\n",
       "      <td>...</td>\n",
       "      <td>...</td>\n",
       "      <td>...</td>\n",
       "      <td>...</td>\n",
       "      <td>...</td>\n",
       "      <td>...</td>\n",
       "      <td>...</td>\n",
       "      <td>...</td>\n",
       "      <td>...</td>\n",
       "      <td>...</td>\n",
       "      <td>...</td>\n",
       "      <td>...</td>\n",
       "      <td>...</td>\n",
       "      <td>...</td>\n",
       "      <td>...</td>\n",
       "      <td>...</td>\n",
       "      <td>...</td>\n",
       "      <td>...</td>\n",
       "      <td>...</td>\n",
       "      <td>...</td>\n",
       "      <td>...</td>\n",
       "    </tr>\n",
       "    <tr>\n",
       "      <th>22165</th>\n",
       "      <td>0</td>\n",
       "      <td>0</td>\n",
       "      <td>0</td>\n",
       "      <td>0</td>\n",
       "      <td>0</td>\n",
       "      <td>0</td>\n",
       "      <td>0</td>\n",
       "      <td>0</td>\n",
       "      <td>0</td>\n",
       "      <td>0</td>\n",
       "      <td>...</td>\n",
       "      <td>0</td>\n",
       "      <td>0</td>\n",
       "      <td>0</td>\n",
       "      <td>0</td>\n",
       "      <td>0</td>\n",
       "      <td>0</td>\n",
       "      <td>0</td>\n",
       "      <td>0</td>\n",
       "      <td>0</td>\n",
       "      <td>0</td>\n",
       "    </tr>\n",
       "    <tr>\n",
       "      <th>22166</th>\n",
       "      <td>0</td>\n",
       "      <td>0</td>\n",
       "      <td>0</td>\n",
       "      <td>0</td>\n",
       "      <td>0</td>\n",
       "      <td>0</td>\n",
       "      <td>0</td>\n",
       "      <td>0</td>\n",
       "      <td>0</td>\n",
       "      <td>0</td>\n",
       "      <td>...</td>\n",
       "      <td>0</td>\n",
       "      <td>0</td>\n",
       "      <td>0</td>\n",
       "      <td>0</td>\n",
       "      <td>0</td>\n",
       "      <td>0</td>\n",
       "      <td>0</td>\n",
       "      <td>0</td>\n",
       "      <td>0</td>\n",
       "      <td>0</td>\n",
       "    </tr>\n",
       "    <tr>\n",
       "      <th>22167</th>\n",
       "      <td>0</td>\n",
       "      <td>0</td>\n",
       "      <td>0</td>\n",
       "      <td>0</td>\n",
       "      <td>0</td>\n",
       "      <td>0</td>\n",
       "      <td>0</td>\n",
       "      <td>0</td>\n",
       "      <td>0</td>\n",
       "      <td>0</td>\n",
       "      <td>...</td>\n",
       "      <td>0</td>\n",
       "      <td>0</td>\n",
       "      <td>0</td>\n",
       "      <td>0</td>\n",
       "      <td>0</td>\n",
       "      <td>0</td>\n",
       "      <td>0</td>\n",
       "      <td>0</td>\n",
       "      <td>0</td>\n",
       "      <td>0</td>\n",
       "    </tr>\n",
       "    <tr>\n",
       "      <th>22168</th>\n",
       "      <td>0</td>\n",
       "      <td>0</td>\n",
       "      <td>0</td>\n",
       "      <td>0</td>\n",
       "      <td>0</td>\n",
       "      <td>0</td>\n",
       "      <td>0</td>\n",
       "      <td>0</td>\n",
       "      <td>0</td>\n",
       "      <td>0</td>\n",
       "      <td>...</td>\n",
       "      <td>0</td>\n",
       "      <td>0</td>\n",
       "      <td>0</td>\n",
       "      <td>0</td>\n",
       "      <td>0</td>\n",
       "      <td>0</td>\n",
       "      <td>0</td>\n",
       "      <td>0</td>\n",
       "      <td>0</td>\n",
       "      <td>0</td>\n",
       "    </tr>\n",
       "    <tr>\n",
       "      <th>22169</th>\n",
       "      <td>0</td>\n",
       "      <td>0</td>\n",
       "      <td>0</td>\n",
       "      <td>0</td>\n",
       "      <td>0</td>\n",
       "      <td>0</td>\n",
       "      <td>0</td>\n",
       "      <td>0</td>\n",
       "      <td>0</td>\n",
       "      <td>0</td>\n",
       "      <td>...</td>\n",
       "      <td>0</td>\n",
       "      <td>0</td>\n",
       "      <td>0</td>\n",
       "      <td>0</td>\n",
       "      <td>0</td>\n",
       "      <td>0</td>\n",
       "      <td>0</td>\n",
       "      <td>0</td>\n",
       "      <td>0</td>\n",
       "      <td>0</td>\n",
       "    </tr>\n",
       "  </tbody>\n",
       "</table>\n",
       "<p>22170 rows × 21299 columns</p>\n",
       "</div>"
      ],
      "text/plain": [
       "       in  the  power  of  happiness  in the  the power  power of  \\\n",
       "0       0    0      0   0          0       0          0         0   \n",
       "1       0    0      0   0          0       0          0         0   \n",
       "2       0    0      0   0          0       0          0         0   \n",
       "3       0    0      0   0          0       0          0         0   \n",
       "4       0    0      0   0          0       0          0         0   \n",
       "...    ..  ...    ...  ..        ...     ...        ...       ...   \n",
       "22165   0    0      0   0          0       0          0         0   \n",
       "22166   0    0      0   0          0       0          0         0   \n",
       "22167   0    0      0   0          0       0          0         0   \n",
       "22168   0    0      0   0          0       0          0         0   \n",
       "22169   0    0      0   0          0       0          0         0   \n",
       "\n",
       "       of happiness  abbyy  ...  franknstein  legend wb  fourth wd  \\\n",
       "0                 0      0  ...            0          0          0   \n",
       "1                 0      0  ...            0          0          0   \n",
       "2                 0      0  ...            0          0          0   \n",
       "3                 0      0  ...            0          0          0   \n",
       "4                 0      0  ...            0          0          0   \n",
       "...             ...    ...  ...          ...        ...        ...   \n",
       "22165             0      0  ...            0          0          0   \n",
       "22166             0      0  ...            0          0          0   \n",
       "22167             0      0  ...            0          0          0   \n",
       "22168             0      0  ...            0          0          0   \n",
       "22169             0      0  ...            0          0          0   \n",
       "\n",
       "       scene 2012  poisons  poisons or  or world  of poisoning  query  \\\n",
       "0               0        0           0         0             0      0   \n",
       "1               0        0           0         0             0      0   \n",
       "2               0        0           0         0             0      0   \n",
       "3               0        0           0         0             0      0   \n",
       "4               0        0           0         0             0      0   \n",
       "...           ...      ...         ...       ...           ...    ...   \n",
       "22165           0        0           0         0             0      0   \n",
       "22166           0        0           0         0             0      0   \n",
       "22167           0        0           0         0             0      0   \n",
       "22168           0        0           0         0             0      0   \n",
       "22169           0        0           0         0             0      0   \n",
       "\n",
       "       query language  \n",
       "0                   0  \n",
       "1                   0  \n",
       "2                   0  \n",
       "3                   0  \n",
       "4                   0  \n",
       "...               ...  \n",
       "22165               0  \n",
       "22166               0  \n",
       "22167               0  \n",
       "22168               0  \n",
       "22169               0  \n",
       "\n",
       "[22170 rows x 21299 columns]"
      ]
     },
     "execution_count": 31,
     "metadata": {},
     "output_type": "execute_result"
    }
   ],
   "source": [
    "bow = CountVectorizer(ngram_range=(1, 2), min_df=2, dtype=np.int8)\n",
    "texts_bow_1gram2gram = bow.fit_transform(items[\"item_name_translated\"])\n",
    "tokens = bow.vocabulary_.keys()\n",
    "BOW_1gram_plus_2grams = pd.DataFrame(data=texts_bow_1gram2gram.toarray(), index=item_ids, columns=tokens)\n",
    "BOW_1gram_plus_2grams"
   ]
  },
  {
   "cell_type": "markdown",
   "id": "supposed-booking",
   "metadata": {},
   "source": [
    "- with min_df set as 2, it will only allocate a value to those features (words) that occur 2 or more times. This reduces the number of columns from 63885 to 21299. This is useful for dimensionality reduction and to escape the dimentionality curse!"
   ]
  },
  {
   "cell_type": "markdown",
   "id": "intensive-florist",
   "metadata": {},
   "source": [
    "##### Check for non-zeros:\n",
    "- Here is showing an array of the rows in the \"power\" column that contain a non-zero:"
   ]
  },
  {
   "cell_type": "code",
   "execution_count": 32,
   "id": "guided-classroom",
   "metadata": {
    "ExecuteTime": {
     "end_time": "2021-02-09T16:08:34.817657Z",
     "start_time": "2021-02-09T16:08:34.809714Z"
    }
   },
   "outputs": [
    {
     "data": {
      "text/plain": [
       "(array([7771, 7772, 7773, 7774, 7775, 7776]),)"
      ]
     },
     "execution_count": 32,
     "metadata": {},
     "output_type": "execute_result"
    }
   ],
   "source": [
    "BOW_1gram_plus_2grams[\"power\"].to_numpy().nonzero() "
   ]
  },
  {
   "cell_type": "markdown",
   "id": "included-publication",
   "metadata": {},
   "source": [
    "- Here we can check the non-zero value of the 7771th row in the \"power\" column (column 3):"
   ]
  },
  {
   "cell_type": "code",
   "execution_count": 33,
   "id": "amazing-township",
   "metadata": {
    "ExecuteTime": {
     "end_time": "2021-02-09T16:08:38.208161Z",
     "start_time": "2021-02-09T16:08:38.202158Z"
    }
   },
   "outputs": [
    {
     "data": {
      "text/plain": [
       "1"
      ]
     },
     "execution_count": 33,
     "metadata": {},
     "output_type": "execute_result"
    }
   ],
   "source": [
    "BOW_1gram_plus_2grams.iloc[7771, 2]"
   ]
  },
  {
   "cell_type": "markdown",
   "id": "associate-february",
   "metadata": {},
   "source": [
    "- We could also add the parameter max_df, which would also reduce the dimentions. This may be useful for ignoring words that are very common, but don't add any meaning to the text, for example \"a\".\n",
    "- Let's try:"
   ]
  },
  {
   "cell_type": "markdown",
   "id": "caroline-prefix",
   "metadata": {},
   "source": [
    "##### Bag Of Words (BOW) + (1gram + 2grams) with max_df"
   ]
  },
  {
   "cell_type": "code",
   "execution_count": 34,
   "id": "impressive-morning",
   "metadata": {
    "ExecuteTime": {
     "end_time": "2021-02-09T16:08:43.104893Z",
     "start_time": "2021-02-09T16:08:42.291015Z"
    }
   },
   "outputs": [
    {
     "data": {
      "text/html": [
       "<div>\n",
       "<style scoped>\n",
       "    .dataframe tbody tr th:only-of-type {\n",
       "        vertical-align: middle;\n",
       "    }\n",
       "\n",
       "    .dataframe tbody tr th {\n",
       "        vertical-align: top;\n",
       "    }\n",
       "\n",
       "    .dataframe thead th {\n",
       "        text-align: right;\n",
       "    }\n",
       "</style>\n",
       "<table border=\"1\" class=\"dataframe\">\n",
       "  <thead>\n",
       "    <tr style=\"text-align: right;\">\n",
       "      <th></th>\n",
       "      <th>plast</th>\n",
       "      <th>the power</th>\n",
       "      <th>of happiness</th>\n",
       "      <th>happiness plast</th>\n",
       "      <th>full pc</th>\n",
       "      <th>unv</th>\n",
       "      <th>the glory</th>\n",
       "      <th>glory of</th>\n",
       "      <th>glory unv</th>\n",
       "      <th>univ</th>\n",
       "      <th>...</th>\n",
       "      <th>titbit pc</th>\n",
       "      <th>query</th>\n",
       "      <th>query language</th>\n",
       "      <th>language 1c</th>\n",
       "      <th>the query</th>\n",
       "      <th>language is</th>\n",
       "      <th>is 1c</th>\n",
       "      <th>egg for</th>\n",
       "      <th>egg of</th>\n",
       "      <th>dragon game</th>\n",
       "    </tr>\n",
       "  </thead>\n",
       "  <tbody>\n",
       "    <tr>\n",
       "      <th>0</th>\n",
       "      <td>0</td>\n",
       "      <td>0</td>\n",
       "      <td>0</td>\n",
       "      <td>0</td>\n",
       "      <td>0</td>\n",
       "      <td>0</td>\n",
       "      <td>0</td>\n",
       "      <td>0</td>\n",
       "      <td>0</td>\n",
       "      <td>0</td>\n",
       "      <td>...</td>\n",
       "      <td>0</td>\n",
       "      <td>0</td>\n",
       "      <td>0</td>\n",
       "      <td>0</td>\n",
       "      <td>0</td>\n",
       "      <td>0</td>\n",
       "      <td>0</td>\n",
       "      <td>0</td>\n",
       "      <td>0</td>\n",
       "      <td>0</td>\n",
       "    </tr>\n",
       "    <tr>\n",
       "      <th>1</th>\n",
       "      <td>0</td>\n",
       "      <td>0</td>\n",
       "      <td>0</td>\n",
       "      <td>0</td>\n",
       "      <td>0</td>\n",
       "      <td>0</td>\n",
       "      <td>0</td>\n",
       "      <td>0</td>\n",
       "      <td>0</td>\n",
       "      <td>0</td>\n",
       "      <td>...</td>\n",
       "      <td>0</td>\n",
       "      <td>0</td>\n",
       "      <td>0</td>\n",
       "      <td>0</td>\n",
       "      <td>0</td>\n",
       "      <td>0</td>\n",
       "      <td>0</td>\n",
       "      <td>0</td>\n",
       "      <td>0</td>\n",
       "      <td>0</td>\n",
       "    </tr>\n",
       "    <tr>\n",
       "      <th>2</th>\n",
       "      <td>0</td>\n",
       "      <td>0</td>\n",
       "      <td>0</td>\n",
       "      <td>0</td>\n",
       "      <td>0</td>\n",
       "      <td>0</td>\n",
       "      <td>0</td>\n",
       "      <td>0</td>\n",
       "      <td>0</td>\n",
       "      <td>0</td>\n",
       "      <td>...</td>\n",
       "      <td>0</td>\n",
       "      <td>0</td>\n",
       "      <td>0</td>\n",
       "      <td>0</td>\n",
       "      <td>0</td>\n",
       "      <td>0</td>\n",
       "      <td>0</td>\n",
       "      <td>0</td>\n",
       "      <td>0</td>\n",
       "      <td>0</td>\n",
       "    </tr>\n",
       "    <tr>\n",
       "      <th>3</th>\n",
       "      <td>0</td>\n",
       "      <td>0</td>\n",
       "      <td>0</td>\n",
       "      <td>0</td>\n",
       "      <td>0</td>\n",
       "      <td>0</td>\n",
       "      <td>0</td>\n",
       "      <td>0</td>\n",
       "      <td>0</td>\n",
       "      <td>0</td>\n",
       "      <td>...</td>\n",
       "      <td>0</td>\n",
       "      <td>0</td>\n",
       "      <td>0</td>\n",
       "      <td>0</td>\n",
       "      <td>0</td>\n",
       "      <td>0</td>\n",
       "      <td>0</td>\n",
       "      <td>0</td>\n",
       "      <td>0</td>\n",
       "      <td>0</td>\n",
       "    </tr>\n",
       "    <tr>\n",
       "      <th>4</th>\n",
       "      <td>0</td>\n",
       "      <td>0</td>\n",
       "      <td>0</td>\n",
       "      <td>0</td>\n",
       "      <td>0</td>\n",
       "      <td>0</td>\n",
       "      <td>0</td>\n",
       "      <td>0</td>\n",
       "      <td>0</td>\n",
       "      <td>0</td>\n",
       "      <td>...</td>\n",
       "      <td>0</td>\n",
       "      <td>0</td>\n",
       "      <td>0</td>\n",
       "      <td>0</td>\n",
       "      <td>0</td>\n",
       "      <td>0</td>\n",
       "      <td>0</td>\n",
       "      <td>0</td>\n",
       "      <td>0</td>\n",
       "      <td>0</td>\n",
       "    </tr>\n",
       "    <tr>\n",
       "      <th>...</th>\n",
       "      <td>...</td>\n",
       "      <td>...</td>\n",
       "      <td>...</td>\n",
       "      <td>...</td>\n",
       "      <td>...</td>\n",
       "      <td>...</td>\n",
       "      <td>...</td>\n",
       "      <td>...</td>\n",
       "      <td>...</td>\n",
       "      <td>...</td>\n",
       "      <td>...</td>\n",
       "      <td>...</td>\n",
       "      <td>...</td>\n",
       "      <td>...</td>\n",
       "      <td>...</td>\n",
       "      <td>...</td>\n",
       "      <td>...</td>\n",
       "      <td>...</td>\n",
       "      <td>...</td>\n",
       "      <td>...</td>\n",
       "      <td>...</td>\n",
       "    </tr>\n",
       "    <tr>\n",
       "      <th>22165</th>\n",
       "      <td>0</td>\n",
       "      <td>0</td>\n",
       "      <td>0</td>\n",
       "      <td>0</td>\n",
       "      <td>0</td>\n",
       "      <td>0</td>\n",
       "      <td>0</td>\n",
       "      <td>0</td>\n",
       "      <td>0</td>\n",
       "      <td>0</td>\n",
       "      <td>...</td>\n",
       "      <td>0</td>\n",
       "      <td>0</td>\n",
       "      <td>0</td>\n",
       "      <td>0</td>\n",
       "      <td>0</td>\n",
       "      <td>0</td>\n",
       "      <td>0</td>\n",
       "      <td>0</td>\n",
       "      <td>0</td>\n",
       "      <td>0</td>\n",
       "    </tr>\n",
       "    <tr>\n",
       "      <th>22166</th>\n",
       "      <td>0</td>\n",
       "      <td>0</td>\n",
       "      <td>0</td>\n",
       "      <td>0</td>\n",
       "      <td>0</td>\n",
       "      <td>0</td>\n",
       "      <td>0</td>\n",
       "      <td>0</td>\n",
       "      <td>0</td>\n",
       "      <td>0</td>\n",
       "      <td>...</td>\n",
       "      <td>0</td>\n",
       "      <td>0</td>\n",
       "      <td>0</td>\n",
       "      <td>0</td>\n",
       "      <td>0</td>\n",
       "      <td>0</td>\n",
       "      <td>0</td>\n",
       "      <td>0</td>\n",
       "      <td>0</td>\n",
       "      <td>0</td>\n",
       "    </tr>\n",
       "    <tr>\n",
       "      <th>22167</th>\n",
       "      <td>0</td>\n",
       "      <td>0</td>\n",
       "      <td>0</td>\n",
       "      <td>0</td>\n",
       "      <td>0</td>\n",
       "      <td>0</td>\n",
       "      <td>0</td>\n",
       "      <td>0</td>\n",
       "      <td>0</td>\n",
       "      <td>0</td>\n",
       "      <td>...</td>\n",
       "      <td>0</td>\n",
       "      <td>0</td>\n",
       "      <td>0</td>\n",
       "      <td>0</td>\n",
       "      <td>0</td>\n",
       "      <td>0</td>\n",
       "      <td>0</td>\n",
       "      <td>0</td>\n",
       "      <td>0</td>\n",
       "      <td>0</td>\n",
       "    </tr>\n",
       "    <tr>\n",
       "      <th>22168</th>\n",
       "      <td>0</td>\n",
       "      <td>0</td>\n",
       "      <td>0</td>\n",
       "      <td>0</td>\n",
       "      <td>0</td>\n",
       "      <td>0</td>\n",
       "      <td>0</td>\n",
       "      <td>0</td>\n",
       "      <td>0</td>\n",
       "      <td>0</td>\n",
       "      <td>...</td>\n",
       "      <td>0</td>\n",
       "      <td>0</td>\n",
       "      <td>0</td>\n",
       "      <td>0</td>\n",
       "      <td>0</td>\n",
       "      <td>0</td>\n",
       "      <td>0</td>\n",
       "      <td>0</td>\n",
       "      <td>0</td>\n",
       "      <td>0</td>\n",
       "    </tr>\n",
       "    <tr>\n",
       "      <th>22169</th>\n",
       "      <td>0</td>\n",
       "      <td>0</td>\n",
       "      <td>0</td>\n",
       "      <td>0</td>\n",
       "      <td>0</td>\n",
       "      <td>0</td>\n",
       "      <td>0</td>\n",
       "      <td>0</td>\n",
       "      <td>0</td>\n",
       "      <td>0</td>\n",
       "      <td>...</td>\n",
       "      <td>0</td>\n",
       "      <td>0</td>\n",
       "      <td>0</td>\n",
       "      <td>0</td>\n",
       "      <td>0</td>\n",
       "      <td>0</td>\n",
       "      <td>0</td>\n",
       "      <td>0</td>\n",
       "      <td>0</td>\n",
       "      <td>0</td>\n",
       "    </tr>\n",
       "  </tbody>\n",
       "</table>\n",
       "<p>22170 rows × 57333 columns</p>\n",
       "</div>"
      ],
      "text/plain": [
       "       plast  the power  of happiness  happiness plast  full pc  unv  \\\n",
       "0          0          0             0                0        0    0   \n",
       "1          0          0             0                0        0    0   \n",
       "2          0          0             0                0        0    0   \n",
       "3          0          0             0                0        0    0   \n",
       "4          0          0             0                0        0    0   \n",
       "...      ...        ...           ...              ...      ...  ...   \n",
       "22165      0          0             0                0        0    0   \n",
       "22166      0          0             0                0        0    0   \n",
       "22167      0          0             0                0        0    0   \n",
       "22168      0          0             0                0        0    0   \n",
       "22169      0          0             0                0        0    0   \n",
       "\n",
       "       the glory  glory of  glory unv  univ  ...  titbit pc  query  \\\n",
       "0              0         0          0     0  ...          0      0   \n",
       "1              0         0          0     0  ...          0      0   \n",
       "2              0         0          0     0  ...          0      0   \n",
       "3              0         0          0     0  ...          0      0   \n",
       "4              0         0          0     0  ...          0      0   \n",
       "...          ...       ...        ...   ...  ...        ...    ...   \n",
       "22165          0         0          0     0  ...          0      0   \n",
       "22166          0         0          0     0  ...          0      0   \n",
       "22167          0         0          0     0  ...          0      0   \n",
       "22168          0         0          0     0  ...          0      0   \n",
       "22169          0         0          0     0  ...          0      0   \n",
       "\n",
       "       query language  language 1c  the query  language is  is 1c  egg for  \\\n",
       "0                   0            0          0            0      0        0   \n",
       "1                   0            0          0            0      0        0   \n",
       "2                   0            0          0            0      0        0   \n",
       "3                   0            0          0            0      0        0   \n",
       "4                   0            0          0            0      0        0   \n",
       "...               ...          ...        ...          ...    ...      ...   \n",
       "22165               0            0          0            0      0        0   \n",
       "22166               0            0          0            0      0        0   \n",
       "22167               0            0          0            0      0        0   \n",
       "22168               0            0          0            0      0        0   \n",
       "22169               0            0          0            0      0        0   \n",
       "\n",
       "       egg of  dragon game  \n",
       "0           0            0  \n",
       "1           0            0  \n",
       "2           0            0  \n",
       "3           0            0  \n",
       "4           0            0  \n",
       "...       ...          ...  \n",
       "22165       0            0  \n",
       "22166       0            0  \n",
       "22167       0            0  \n",
       "22168       0            0  \n",
       "22169       0            0  \n",
       "\n",
       "[22170 rows x 57333 columns]"
      ]
     },
     "execution_count": 34,
     "metadata": {},
     "output_type": "execute_result"
    }
   ],
   "source": [
    "bow = CountVectorizer(ngram_range=(1, 2), max_df=4, dtype=np.int8)\n",
    "texts_bow_1gram2gram = bow.fit_transform(items[\"item_name_translated\"])\n",
    "tokens = bow.vocabulary_.keys()\n",
    "BOW_1gram_plus_2grams = pd.DataFrame(data=texts_bow_1gram2gram.toarray(), index=item_ids, columns=tokens)\n",
    "BOW_1gram_plus_2grams"
   ]
  },
  {
   "cell_type": "markdown",
   "id": "secure-connectivity",
   "metadata": {},
   "source": [
    "- with max_df set as 4, it will only allocate a value to those features (words) that occur less than 4 times. This reduces the number of columns from 63885 to 57333. This is useful for dimensionality reduction and to escape the dimentionality curse!"
   ]
  },
  {
   "cell_type": "markdown",
   "id": "blessed-duplicate",
   "metadata": {},
   "source": [
    "- Here, we see that our beloved \"power\" column is no longer part of the dataframe :(\n",
    "So this time, we will check \"the power\" instead:"
   ]
  },
  {
   "cell_type": "markdown",
   "id": "spectacular-terror",
   "metadata": {},
   "source": [
    "##### Check for non-zeros:\n",
    "- Here is showing an array of the rows in the \"the power\" column that contain a non-zero:"
   ]
  },
  {
   "cell_type": "code",
   "execution_count": 35,
   "id": "ready-record",
   "metadata": {
    "ExecuteTime": {
     "end_time": "2021-02-09T16:08:52.400136Z",
     "start_time": "2021-02-09T16:08:52.389841Z"
    }
   },
   "outputs": [
    {
     "data": {
      "text/plain": [
       "(array([10775]),)"
      ]
     },
     "execution_count": 35,
     "metadata": {},
     "output_type": "execute_result"
    }
   ],
   "source": [
    "BOW_1gram_plus_2grams[\"the power\"].to_numpy().nonzero() "
   ]
  },
  {
   "cell_type": "markdown",
   "id": "dynamic-vietnamese",
   "metadata": {},
   "source": [
    "- Here we can check the non-zero value of the 10775th row in the \"the power\" column (column 2):"
   ]
  },
  {
   "cell_type": "code",
   "execution_count": 36,
   "id": "split-morgan",
   "metadata": {
    "ExecuteTime": {
     "end_time": "2021-02-09T16:08:53.845767Z",
     "start_time": "2021-02-09T16:08:53.840251Z"
    }
   },
   "outputs": [
    {
     "data": {
      "text/plain": [
       "1"
      ]
     },
     "execution_count": 36,
     "metadata": {},
     "output_type": "execute_result"
    }
   ],
   "source": [
    "BOW_1gram_plus_2grams.iloc[10775, 1]"
   ]
  },
  {
   "cell_type": "markdown",
   "id": "indie-watts",
   "metadata": {},
   "source": [
    "### TfidfVectorizer + (1gram)"
   ]
  },
  {
   "cell_type": "code",
   "execution_count": 37,
   "id": "broadband-rates",
   "metadata": {
    "ExecuteTime": {
     "end_time": "2021-02-09T16:09:00.104281Z",
     "start_time": "2021-02-09T16:08:59.268605Z"
    }
   },
   "outputs": [
    {
     "data": {
      "text/html": [
       "<div>\n",
       "<style scoped>\n",
       "    .dataframe tbody tr th:only-of-type {\n",
       "        vertical-align: middle;\n",
       "    }\n",
       "\n",
       "    .dataframe tbody tr th {\n",
       "        vertical-align: top;\n",
       "    }\n",
       "\n",
       "    .dataframe thead th {\n",
       "        text-align: right;\n",
       "    }\n",
       "</style>\n",
       "<table border=\"1\" class=\"dataframe\">\n",
       "  <thead>\n",
       "    <tr style=\"text-align: right;\">\n",
       "      <th></th>\n",
       "      <th>in</th>\n",
       "      <th>the</th>\n",
       "      <th>power</th>\n",
       "      <th>of</th>\n",
       "      <th>happiness</th>\n",
       "      <th>plast</th>\n",
       "      <th>abbyy</th>\n",
       "      <th>finereader</th>\n",
       "      <th>12</th>\n",
       "      <th>professional</th>\n",
       "      <th>...</th>\n",
       "      <th>also</th>\n",
       "      <th>franknstein</th>\n",
       "      <th>poisons</th>\n",
       "      <th>yalta</th>\n",
       "      <th>yama</th>\n",
       "      <th>yankovsky</th>\n",
       "      <th>yaroslav</th>\n",
       "      <th>furnish</th>\n",
       "      <th>titbit</th>\n",
       "      <th>query</th>\n",
       "    </tr>\n",
       "  </thead>\n",
       "  <tbody>\n",
       "    <tr>\n",
       "      <th>0</th>\n",
       "      <td>0.0</td>\n",
       "      <td>0.0</td>\n",
       "      <td>0.0</td>\n",
       "      <td>0.0</td>\n",
       "      <td>0.0</td>\n",
       "      <td>0.0</td>\n",
       "      <td>0.0</td>\n",
       "      <td>0.0</td>\n",
       "      <td>0.0</td>\n",
       "      <td>0.0</td>\n",
       "      <td>...</td>\n",
       "      <td>0.0</td>\n",
       "      <td>0.0</td>\n",
       "      <td>0.0</td>\n",
       "      <td>0.0</td>\n",
       "      <td>0.0</td>\n",
       "      <td>0.0</td>\n",
       "      <td>0.0</td>\n",
       "      <td>0.0</td>\n",
       "      <td>0.0</td>\n",
       "      <td>0.0</td>\n",
       "    </tr>\n",
       "    <tr>\n",
       "      <th>1</th>\n",
       "      <td>0.0</td>\n",
       "      <td>0.0</td>\n",
       "      <td>0.0</td>\n",
       "      <td>0.0</td>\n",
       "      <td>0.0</td>\n",
       "      <td>0.0</td>\n",
       "      <td>0.0</td>\n",
       "      <td>0.0</td>\n",
       "      <td>0.0</td>\n",
       "      <td>0.0</td>\n",
       "      <td>...</td>\n",
       "      <td>0.0</td>\n",
       "      <td>0.0</td>\n",
       "      <td>0.0</td>\n",
       "      <td>0.0</td>\n",
       "      <td>0.0</td>\n",
       "      <td>0.0</td>\n",
       "      <td>0.0</td>\n",
       "      <td>0.0</td>\n",
       "      <td>0.0</td>\n",
       "      <td>0.0</td>\n",
       "    </tr>\n",
       "    <tr>\n",
       "      <th>2</th>\n",
       "      <td>0.0</td>\n",
       "      <td>0.0</td>\n",
       "      <td>0.0</td>\n",
       "      <td>0.0</td>\n",
       "      <td>0.0</td>\n",
       "      <td>0.0</td>\n",
       "      <td>0.0</td>\n",
       "      <td>0.0</td>\n",
       "      <td>0.0</td>\n",
       "      <td>0.0</td>\n",
       "      <td>...</td>\n",
       "      <td>0.0</td>\n",
       "      <td>0.0</td>\n",
       "      <td>0.0</td>\n",
       "      <td>0.0</td>\n",
       "      <td>0.0</td>\n",
       "      <td>0.0</td>\n",
       "      <td>0.0</td>\n",
       "      <td>0.0</td>\n",
       "      <td>0.0</td>\n",
       "      <td>0.0</td>\n",
       "    </tr>\n",
       "    <tr>\n",
       "      <th>3</th>\n",
       "      <td>0.0</td>\n",
       "      <td>0.0</td>\n",
       "      <td>0.0</td>\n",
       "      <td>0.0</td>\n",
       "      <td>0.0</td>\n",
       "      <td>0.0</td>\n",
       "      <td>0.0</td>\n",
       "      <td>0.0</td>\n",
       "      <td>0.0</td>\n",
       "      <td>0.0</td>\n",
       "      <td>...</td>\n",
       "      <td>0.0</td>\n",
       "      <td>0.0</td>\n",
       "      <td>0.0</td>\n",
       "      <td>0.0</td>\n",
       "      <td>0.0</td>\n",
       "      <td>0.0</td>\n",
       "      <td>0.0</td>\n",
       "      <td>0.0</td>\n",
       "      <td>0.0</td>\n",
       "      <td>0.0</td>\n",
       "    </tr>\n",
       "    <tr>\n",
       "      <th>4</th>\n",
       "      <td>0.0</td>\n",
       "      <td>0.0</td>\n",
       "      <td>0.0</td>\n",
       "      <td>0.0</td>\n",
       "      <td>0.0</td>\n",
       "      <td>0.0</td>\n",
       "      <td>0.0</td>\n",
       "      <td>0.0</td>\n",
       "      <td>0.0</td>\n",
       "      <td>0.0</td>\n",
       "      <td>...</td>\n",
       "      <td>0.0</td>\n",
       "      <td>0.0</td>\n",
       "      <td>0.0</td>\n",
       "      <td>0.0</td>\n",
       "      <td>0.0</td>\n",
       "      <td>0.0</td>\n",
       "      <td>0.0</td>\n",
       "      <td>0.0</td>\n",
       "      <td>0.0</td>\n",
       "      <td>0.0</td>\n",
       "    </tr>\n",
       "    <tr>\n",
       "      <th>...</th>\n",
       "      <td>...</td>\n",
       "      <td>...</td>\n",
       "      <td>...</td>\n",
       "      <td>...</td>\n",
       "      <td>...</td>\n",
       "      <td>...</td>\n",
       "      <td>...</td>\n",
       "      <td>...</td>\n",
       "      <td>...</td>\n",
       "      <td>...</td>\n",
       "      <td>...</td>\n",
       "      <td>...</td>\n",
       "      <td>...</td>\n",
       "      <td>...</td>\n",
       "      <td>...</td>\n",
       "      <td>...</td>\n",
       "      <td>...</td>\n",
       "      <td>...</td>\n",
       "      <td>...</td>\n",
       "      <td>...</td>\n",
       "      <td>...</td>\n",
       "    </tr>\n",
       "    <tr>\n",
       "      <th>22165</th>\n",
       "      <td>0.0</td>\n",
       "      <td>0.0</td>\n",
       "      <td>0.0</td>\n",
       "      <td>0.0</td>\n",
       "      <td>0.0</td>\n",
       "      <td>0.0</td>\n",
       "      <td>0.0</td>\n",
       "      <td>0.0</td>\n",
       "      <td>0.0</td>\n",
       "      <td>0.0</td>\n",
       "      <td>...</td>\n",
       "      <td>0.0</td>\n",
       "      <td>0.0</td>\n",
       "      <td>0.0</td>\n",
       "      <td>0.0</td>\n",
       "      <td>0.0</td>\n",
       "      <td>0.0</td>\n",
       "      <td>0.0</td>\n",
       "      <td>0.0</td>\n",
       "      <td>0.0</td>\n",
       "      <td>0.0</td>\n",
       "    </tr>\n",
       "    <tr>\n",
       "      <th>22166</th>\n",
       "      <td>0.0</td>\n",
       "      <td>0.0</td>\n",
       "      <td>0.0</td>\n",
       "      <td>0.0</td>\n",
       "      <td>0.0</td>\n",
       "      <td>0.0</td>\n",
       "      <td>0.0</td>\n",
       "      <td>0.0</td>\n",
       "      <td>0.0</td>\n",
       "      <td>0.0</td>\n",
       "      <td>...</td>\n",
       "      <td>0.0</td>\n",
       "      <td>0.0</td>\n",
       "      <td>0.0</td>\n",
       "      <td>0.0</td>\n",
       "      <td>0.0</td>\n",
       "      <td>0.0</td>\n",
       "      <td>0.0</td>\n",
       "      <td>0.0</td>\n",
       "      <td>0.0</td>\n",
       "      <td>0.0</td>\n",
       "    </tr>\n",
       "    <tr>\n",
       "      <th>22167</th>\n",
       "      <td>0.0</td>\n",
       "      <td>0.0</td>\n",
       "      <td>0.0</td>\n",
       "      <td>0.0</td>\n",
       "      <td>0.0</td>\n",
       "      <td>0.0</td>\n",
       "      <td>0.0</td>\n",
       "      <td>0.0</td>\n",
       "      <td>0.0</td>\n",
       "      <td>0.0</td>\n",
       "      <td>...</td>\n",
       "      <td>0.0</td>\n",
       "      <td>0.0</td>\n",
       "      <td>0.0</td>\n",
       "      <td>0.0</td>\n",
       "      <td>0.0</td>\n",
       "      <td>0.0</td>\n",
       "      <td>0.0</td>\n",
       "      <td>0.0</td>\n",
       "      <td>0.0</td>\n",
       "      <td>0.0</td>\n",
       "    </tr>\n",
       "    <tr>\n",
       "      <th>22168</th>\n",
       "      <td>0.0</td>\n",
       "      <td>0.0</td>\n",
       "      <td>0.0</td>\n",
       "      <td>0.0</td>\n",
       "      <td>0.0</td>\n",
       "      <td>0.0</td>\n",
       "      <td>0.0</td>\n",
       "      <td>0.0</td>\n",
       "      <td>0.0</td>\n",
       "      <td>0.0</td>\n",
       "      <td>...</td>\n",
       "      <td>0.0</td>\n",
       "      <td>0.0</td>\n",
       "      <td>0.0</td>\n",
       "      <td>0.0</td>\n",
       "      <td>0.0</td>\n",
       "      <td>0.0</td>\n",
       "      <td>0.0</td>\n",
       "      <td>0.0</td>\n",
       "      <td>0.0</td>\n",
       "      <td>0.0</td>\n",
       "    </tr>\n",
       "    <tr>\n",
       "      <th>22169</th>\n",
       "      <td>0.0</td>\n",
       "      <td>0.0</td>\n",
       "      <td>0.0</td>\n",
       "      <td>0.0</td>\n",
       "      <td>0.0</td>\n",
       "      <td>0.0</td>\n",
       "      <td>0.0</td>\n",
       "      <td>0.0</td>\n",
       "      <td>0.0</td>\n",
       "      <td>0.0</td>\n",
       "      <td>...</td>\n",
       "      <td>0.0</td>\n",
       "      <td>0.0</td>\n",
       "      <td>0.0</td>\n",
       "      <td>0.0</td>\n",
       "      <td>0.0</td>\n",
       "      <td>0.0</td>\n",
       "      <td>0.0</td>\n",
       "      <td>0.0</td>\n",
       "      <td>0.0</td>\n",
       "      <td>0.0</td>\n",
       "    </tr>\n",
       "  </tbody>\n",
       "</table>\n",
       "<p>22170 rows × 14505 columns</p>\n",
       "</div>"
      ],
      "text/plain": [
       "        in  the  power   of  happiness  plast  abbyy  finereader   12  \\\n",
       "0      0.0  0.0    0.0  0.0        0.0    0.0    0.0         0.0  0.0   \n",
       "1      0.0  0.0    0.0  0.0        0.0    0.0    0.0         0.0  0.0   \n",
       "2      0.0  0.0    0.0  0.0        0.0    0.0    0.0         0.0  0.0   \n",
       "3      0.0  0.0    0.0  0.0        0.0    0.0    0.0         0.0  0.0   \n",
       "4      0.0  0.0    0.0  0.0        0.0    0.0    0.0         0.0  0.0   \n",
       "...    ...  ...    ...  ...        ...    ...    ...         ...  ...   \n",
       "22165  0.0  0.0    0.0  0.0        0.0    0.0    0.0         0.0  0.0   \n",
       "22166  0.0  0.0    0.0  0.0        0.0    0.0    0.0         0.0  0.0   \n",
       "22167  0.0  0.0    0.0  0.0        0.0    0.0    0.0         0.0  0.0   \n",
       "22168  0.0  0.0    0.0  0.0        0.0    0.0    0.0         0.0  0.0   \n",
       "22169  0.0  0.0    0.0  0.0        0.0    0.0    0.0         0.0  0.0   \n",
       "\n",
       "       professional  ...  also  franknstein  poisons  yalta  yama  yankovsky  \\\n",
       "0               0.0  ...   0.0          0.0      0.0    0.0   0.0        0.0   \n",
       "1               0.0  ...   0.0          0.0      0.0    0.0   0.0        0.0   \n",
       "2               0.0  ...   0.0          0.0      0.0    0.0   0.0        0.0   \n",
       "3               0.0  ...   0.0          0.0      0.0    0.0   0.0        0.0   \n",
       "4               0.0  ...   0.0          0.0      0.0    0.0   0.0        0.0   \n",
       "...             ...  ...   ...          ...      ...    ...   ...        ...   \n",
       "22165           0.0  ...   0.0          0.0      0.0    0.0   0.0        0.0   \n",
       "22166           0.0  ...   0.0          0.0      0.0    0.0   0.0        0.0   \n",
       "22167           0.0  ...   0.0          0.0      0.0    0.0   0.0        0.0   \n",
       "22168           0.0  ...   0.0          0.0      0.0    0.0   0.0        0.0   \n",
       "22169           0.0  ...   0.0          0.0      0.0    0.0   0.0        0.0   \n",
       "\n",
       "       yaroslav  furnish  titbit  query  \n",
       "0           0.0      0.0     0.0    0.0  \n",
       "1           0.0      0.0     0.0    0.0  \n",
       "2           0.0      0.0     0.0    0.0  \n",
       "3           0.0      0.0     0.0    0.0  \n",
       "4           0.0      0.0     0.0    0.0  \n",
       "...         ...      ...     ...    ...  \n",
       "22165       0.0      0.0     0.0    0.0  \n",
       "22166       0.0      0.0     0.0    0.0  \n",
       "22167       0.0      0.0     0.0    0.0  \n",
       "22168       0.0      0.0     0.0    0.0  \n",
       "22169       0.0      0.0     0.0    0.0  \n",
       "\n",
       "[22170 rows x 14505 columns]"
      ]
     },
     "execution_count": 37,
     "metadata": {},
     "output_type": "execute_result"
    }
   ],
   "source": [
    "tfidf = TfidfVectorizer(ngram_range=(1, 1), dtype=np.float64)\n",
    "texts_tfidf_1gram = tfidf.fit_transform(items[\"item_name_translated\"])\n",
    "tokens = tfidf.vocabulary_.keys()\n",
    "TfidfVectorizer_1gram = pd.DataFrame(data=texts_tfidf_1gram.toarray(), columns=tokens)\n",
    "TfidfVectorizer_1gram"
   ]
  },
  {
   "cell_type": "markdown",
   "id": "brutal-variable",
   "metadata": {},
   "source": [
    "##### Check for non-zeros:\n",
    "- Here is showing an array of the rows in the \"power\" column that contain a non-zero:"
   ]
  },
  {
   "cell_type": "code",
   "execution_count": 38,
   "id": "powered-rally",
   "metadata": {
    "ExecuteTime": {
     "end_time": "2021-02-09T16:09:05.587571Z",
     "start_time": "2021-02-09T16:09:05.577146Z"
    }
   },
   "outputs": [
    {
     "data": {
      "text/plain": [
       "(array([7887, 7893, 7894, 7895, 7900, 7936]),)"
      ]
     },
     "execution_count": 38,
     "metadata": {},
     "output_type": "execute_result"
    }
   ],
   "source": [
    "TfidfVectorizer_1gram[\"power\"].to_numpy().nonzero() "
   ]
  },
  {
   "cell_type": "markdown",
   "id": "norwegian-intersection",
   "metadata": {},
   "source": [
    "- Here we can check the non-zero value of the 7887th row in the \"power\" column (column 3):"
   ]
  },
  {
   "cell_type": "code",
   "execution_count": 39,
   "id": "extraordinary-calendar",
   "metadata": {
    "ExecuteTime": {
     "end_time": "2021-02-09T16:09:09.529570Z",
     "start_time": "2021-02-09T16:09:09.525073Z"
    }
   },
   "outputs": [
    {
     "data": {
      "text/plain": [
       "0.33829922480500396"
      ]
     },
     "execution_count": 39,
     "metadata": {},
     "output_type": "execute_result"
    }
   ],
   "source": [
    "TfidfVectorizer_1gram.iloc[7887, 2]"
   ]
  },
  {
   "cell_type": "markdown",
   "id": "substantial-abuse",
   "metadata": {},
   "source": [
    "- Here, we print the texts_tfidf variable, which was derived from the fit_transform of BoW CountVectorizer.\n",
    "It prints the array as (row, column) and the value of that (row, column) that has a value (or weight), which is later made into an array (and then dataframe) with other missing values as zero:"
   ]
  },
  {
   "cell_type": "code",
   "execution_count": 40,
   "id": "strategic-means",
   "metadata": {
    "ExecuteTime": {
     "end_time": "2021-02-09T16:09:14.382849Z",
     "start_time": "2021-02-09T16:09:14.376842Z"
    }
   },
   "outputs": [
    {
     "name": "stdout",
     "output_type": "stream",
     "text": [
      "  (0, 9695)\t0.6320326370085583\n",
      "  (0, 5998)\t0.5173235359607454\n",
      "  (0, 9054)\t0.16927547811615754\n",
      "  (0, 9869)\t0.45662922412592727\n",
      "  (0, 12479)\t0.16665925953793656\n",
      "  (0, 6485)\t0.26071317628774726\n"
     ]
    }
   ],
   "source": [
    "print(texts_tfidf_1gram[0])  # only printing first column so can see general idea"
   ]
  },
  {
   "cell_type": "markdown",
   "id": "different-victim",
   "metadata": {},
   "source": [
    "- Here, we can check the value of one of the (row, column)'s we found:"
   ]
  },
  {
   "cell_type": "code",
   "execution_count": 41,
   "id": "wicked-magnet",
   "metadata": {
    "ExecuteTime": {
     "end_time": "2021-02-09T16:09:19.886782Z",
     "start_time": "2021-02-09T16:09:19.880164Z"
    }
   },
   "outputs": [
    {
     "data": {
      "text/plain": [
       "0.6320326370085583"
      ]
     },
     "execution_count": 41,
     "metadata": {},
     "output_type": "execute_result"
    }
   ],
   "source": [
    "TfidfVectorizer_1gram.iloc[0, 9695]"
   ]
  },
  {
   "cell_type": "markdown",
   "id": "duplicate-footwear",
   "metadata": {},
   "source": [
    "### TfidfVectorizer (1gram + 2grams)"
   ]
  },
  {
   "cell_type": "code",
   "execution_count": 42,
   "id": "electric-violation",
   "metadata": {
    "ExecuteTime": {
     "end_time": "2021-02-09T16:09:23.905441Z",
     "start_time": "2021-02-09T16:09:22.698962Z"
    }
   },
   "outputs": [
    {
     "data": {
      "text/html": [
       "<div>\n",
       "<style scoped>\n",
       "    .dataframe tbody tr th:only-of-type {\n",
       "        vertical-align: middle;\n",
       "    }\n",
       "\n",
       "    .dataframe tbody tr th {\n",
       "        vertical-align: top;\n",
       "    }\n",
       "\n",
       "    .dataframe thead th {\n",
       "        text-align: right;\n",
       "    }\n",
       "</style>\n",
       "<table border=\"1\" class=\"dataframe\">\n",
       "  <thead>\n",
       "    <tr style=\"text-align: right;\">\n",
       "      <th></th>\n",
       "      <th>in</th>\n",
       "      <th>the</th>\n",
       "      <th>power</th>\n",
       "      <th>of</th>\n",
       "      <th>happiness</th>\n",
       "      <th>plast</th>\n",
       "      <th>in the</th>\n",
       "      <th>the power</th>\n",
       "      <th>power of</th>\n",
       "      <th>of happiness</th>\n",
       "      <th>...</th>\n",
       "      <th>titbit pc</th>\n",
       "      <th>query</th>\n",
       "      <th>query language</th>\n",
       "      <th>language 1c</th>\n",
       "      <th>the query</th>\n",
       "      <th>language is</th>\n",
       "      <th>is 1c</th>\n",
       "      <th>egg for</th>\n",
       "      <th>egg of</th>\n",
       "      <th>dragon game</th>\n",
       "    </tr>\n",
       "  </thead>\n",
       "  <tbody>\n",
       "    <tr>\n",
       "      <th>0</th>\n",
       "      <td>0.0</td>\n",
       "      <td>0.0</td>\n",
       "      <td>0.0</td>\n",
       "      <td>0.0</td>\n",
       "      <td>0.0</td>\n",
       "      <td>0.0</td>\n",
       "      <td>0.0</td>\n",
       "      <td>0.0</td>\n",
       "      <td>0.0</td>\n",
       "      <td>0.0</td>\n",
       "      <td>...</td>\n",
       "      <td>0.0</td>\n",
       "      <td>0.0</td>\n",
       "      <td>0.0</td>\n",
       "      <td>0.0</td>\n",
       "      <td>0.0</td>\n",
       "      <td>0.0</td>\n",
       "      <td>0.0</td>\n",
       "      <td>0.0</td>\n",
       "      <td>0.0</td>\n",
       "      <td>0.0</td>\n",
       "    </tr>\n",
       "    <tr>\n",
       "      <th>1</th>\n",
       "      <td>0.0</td>\n",
       "      <td>0.0</td>\n",
       "      <td>0.0</td>\n",
       "      <td>0.0</td>\n",
       "      <td>0.0</td>\n",
       "      <td>0.0</td>\n",
       "      <td>0.0</td>\n",
       "      <td>0.0</td>\n",
       "      <td>0.0</td>\n",
       "      <td>0.0</td>\n",
       "      <td>...</td>\n",
       "      <td>0.0</td>\n",
       "      <td>0.0</td>\n",
       "      <td>0.0</td>\n",
       "      <td>0.0</td>\n",
       "      <td>0.0</td>\n",
       "      <td>0.0</td>\n",
       "      <td>0.0</td>\n",
       "      <td>0.0</td>\n",
       "      <td>0.0</td>\n",
       "      <td>0.0</td>\n",
       "    </tr>\n",
       "    <tr>\n",
       "      <th>2</th>\n",
       "      <td>0.0</td>\n",
       "      <td>0.0</td>\n",
       "      <td>0.0</td>\n",
       "      <td>0.0</td>\n",
       "      <td>0.0</td>\n",
       "      <td>0.0</td>\n",
       "      <td>0.0</td>\n",
       "      <td>0.0</td>\n",
       "      <td>0.0</td>\n",
       "      <td>0.0</td>\n",
       "      <td>...</td>\n",
       "      <td>0.0</td>\n",
       "      <td>0.0</td>\n",
       "      <td>0.0</td>\n",
       "      <td>0.0</td>\n",
       "      <td>0.0</td>\n",
       "      <td>0.0</td>\n",
       "      <td>0.0</td>\n",
       "      <td>0.0</td>\n",
       "      <td>0.0</td>\n",
       "      <td>0.0</td>\n",
       "    </tr>\n",
       "    <tr>\n",
       "      <th>3</th>\n",
       "      <td>0.0</td>\n",
       "      <td>0.0</td>\n",
       "      <td>0.0</td>\n",
       "      <td>0.0</td>\n",
       "      <td>0.0</td>\n",
       "      <td>0.0</td>\n",
       "      <td>0.0</td>\n",
       "      <td>0.0</td>\n",
       "      <td>0.0</td>\n",
       "      <td>0.0</td>\n",
       "      <td>...</td>\n",
       "      <td>0.0</td>\n",
       "      <td>0.0</td>\n",
       "      <td>0.0</td>\n",
       "      <td>0.0</td>\n",
       "      <td>0.0</td>\n",
       "      <td>0.0</td>\n",
       "      <td>0.0</td>\n",
       "      <td>0.0</td>\n",
       "      <td>0.0</td>\n",
       "      <td>0.0</td>\n",
       "    </tr>\n",
       "    <tr>\n",
       "      <th>4</th>\n",
       "      <td>0.0</td>\n",
       "      <td>0.0</td>\n",
       "      <td>0.0</td>\n",
       "      <td>0.0</td>\n",
       "      <td>0.0</td>\n",
       "      <td>0.0</td>\n",
       "      <td>0.0</td>\n",
       "      <td>0.0</td>\n",
       "      <td>0.0</td>\n",
       "      <td>0.0</td>\n",
       "      <td>...</td>\n",
       "      <td>0.0</td>\n",
       "      <td>0.0</td>\n",
       "      <td>0.0</td>\n",
       "      <td>0.0</td>\n",
       "      <td>0.0</td>\n",
       "      <td>0.0</td>\n",
       "      <td>0.0</td>\n",
       "      <td>0.0</td>\n",
       "      <td>0.0</td>\n",
       "      <td>0.0</td>\n",
       "    </tr>\n",
       "    <tr>\n",
       "      <th>...</th>\n",
       "      <td>...</td>\n",
       "      <td>...</td>\n",
       "      <td>...</td>\n",
       "      <td>...</td>\n",
       "      <td>...</td>\n",
       "      <td>...</td>\n",
       "      <td>...</td>\n",
       "      <td>...</td>\n",
       "      <td>...</td>\n",
       "      <td>...</td>\n",
       "      <td>...</td>\n",
       "      <td>...</td>\n",
       "      <td>...</td>\n",
       "      <td>...</td>\n",
       "      <td>...</td>\n",
       "      <td>...</td>\n",
       "      <td>...</td>\n",
       "      <td>...</td>\n",
       "      <td>...</td>\n",
       "      <td>...</td>\n",
       "      <td>...</td>\n",
       "    </tr>\n",
       "    <tr>\n",
       "      <th>22165</th>\n",
       "      <td>0.0</td>\n",
       "      <td>0.0</td>\n",
       "      <td>0.0</td>\n",
       "      <td>0.0</td>\n",
       "      <td>0.0</td>\n",
       "      <td>0.0</td>\n",
       "      <td>0.0</td>\n",
       "      <td>0.0</td>\n",
       "      <td>0.0</td>\n",
       "      <td>0.0</td>\n",
       "      <td>...</td>\n",
       "      <td>0.0</td>\n",
       "      <td>0.0</td>\n",
       "      <td>0.0</td>\n",
       "      <td>0.0</td>\n",
       "      <td>0.0</td>\n",
       "      <td>0.0</td>\n",
       "      <td>0.0</td>\n",
       "      <td>0.0</td>\n",
       "      <td>0.0</td>\n",
       "      <td>0.0</td>\n",
       "    </tr>\n",
       "    <tr>\n",
       "      <th>22166</th>\n",
       "      <td>0.0</td>\n",
       "      <td>0.0</td>\n",
       "      <td>0.0</td>\n",
       "      <td>0.0</td>\n",
       "      <td>0.0</td>\n",
       "      <td>0.0</td>\n",
       "      <td>0.0</td>\n",
       "      <td>0.0</td>\n",
       "      <td>0.0</td>\n",
       "      <td>0.0</td>\n",
       "      <td>...</td>\n",
       "      <td>0.0</td>\n",
       "      <td>0.0</td>\n",
       "      <td>0.0</td>\n",
       "      <td>0.0</td>\n",
       "      <td>0.0</td>\n",
       "      <td>0.0</td>\n",
       "      <td>0.0</td>\n",
       "      <td>0.0</td>\n",
       "      <td>0.0</td>\n",
       "      <td>0.0</td>\n",
       "    </tr>\n",
       "    <tr>\n",
       "      <th>22167</th>\n",
       "      <td>0.0</td>\n",
       "      <td>0.0</td>\n",
       "      <td>0.0</td>\n",
       "      <td>0.0</td>\n",
       "      <td>0.0</td>\n",
       "      <td>0.0</td>\n",
       "      <td>0.0</td>\n",
       "      <td>0.0</td>\n",
       "      <td>0.0</td>\n",
       "      <td>0.0</td>\n",
       "      <td>...</td>\n",
       "      <td>0.0</td>\n",
       "      <td>0.0</td>\n",
       "      <td>0.0</td>\n",
       "      <td>0.0</td>\n",
       "      <td>0.0</td>\n",
       "      <td>0.0</td>\n",
       "      <td>0.0</td>\n",
       "      <td>0.0</td>\n",
       "      <td>0.0</td>\n",
       "      <td>0.0</td>\n",
       "    </tr>\n",
       "    <tr>\n",
       "      <th>22168</th>\n",
       "      <td>0.0</td>\n",
       "      <td>0.0</td>\n",
       "      <td>0.0</td>\n",
       "      <td>0.0</td>\n",
       "      <td>0.0</td>\n",
       "      <td>0.0</td>\n",
       "      <td>0.0</td>\n",
       "      <td>0.0</td>\n",
       "      <td>0.0</td>\n",
       "      <td>0.0</td>\n",
       "      <td>...</td>\n",
       "      <td>0.0</td>\n",
       "      <td>0.0</td>\n",
       "      <td>0.0</td>\n",
       "      <td>0.0</td>\n",
       "      <td>0.0</td>\n",
       "      <td>0.0</td>\n",
       "      <td>0.0</td>\n",
       "      <td>0.0</td>\n",
       "      <td>0.0</td>\n",
       "      <td>0.0</td>\n",
       "    </tr>\n",
       "    <tr>\n",
       "      <th>22169</th>\n",
       "      <td>0.0</td>\n",
       "      <td>0.0</td>\n",
       "      <td>0.0</td>\n",
       "      <td>0.0</td>\n",
       "      <td>0.0</td>\n",
       "      <td>0.0</td>\n",
       "      <td>0.0</td>\n",
       "      <td>0.0</td>\n",
       "      <td>0.0</td>\n",
       "      <td>0.0</td>\n",
       "      <td>...</td>\n",
       "      <td>0.0</td>\n",
       "      <td>0.0</td>\n",
       "      <td>0.0</td>\n",
       "      <td>0.0</td>\n",
       "      <td>0.0</td>\n",
       "      <td>0.0</td>\n",
       "      <td>0.0</td>\n",
       "      <td>0.0</td>\n",
       "      <td>0.0</td>\n",
       "      <td>0.0</td>\n",
       "    </tr>\n",
       "  </tbody>\n",
       "</table>\n",
       "<p>22170 rows × 63885 columns</p>\n",
       "</div>"
      ],
      "text/plain": [
       "        in  the  power   of  happiness  plast  in the  the power  power of  \\\n",
       "0      0.0  0.0    0.0  0.0        0.0    0.0     0.0        0.0       0.0   \n",
       "1      0.0  0.0    0.0  0.0        0.0    0.0     0.0        0.0       0.0   \n",
       "2      0.0  0.0    0.0  0.0        0.0    0.0     0.0        0.0       0.0   \n",
       "3      0.0  0.0    0.0  0.0        0.0    0.0     0.0        0.0       0.0   \n",
       "4      0.0  0.0    0.0  0.0        0.0    0.0     0.0        0.0       0.0   \n",
       "...    ...  ...    ...  ...        ...    ...     ...        ...       ...   \n",
       "22165  0.0  0.0    0.0  0.0        0.0    0.0     0.0        0.0       0.0   \n",
       "22166  0.0  0.0    0.0  0.0        0.0    0.0     0.0        0.0       0.0   \n",
       "22167  0.0  0.0    0.0  0.0        0.0    0.0     0.0        0.0       0.0   \n",
       "22168  0.0  0.0    0.0  0.0        0.0    0.0     0.0        0.0       0.0   \n",
       "22169  0.0  0.0    0.0  0.0        0.0    0.0     0.0        0.0       0.0   \n",
       "\n",
       "       of happiness  ...  titbit pc  query  query language  language 1c  \\\n",
       "0               0.0  ...        0.0    0.0             0.0          0.0   \n",
       "1               0.0  ...        0.0    0.0             0.0          0.0   \n",
       "2               0.0  ...        0.0    0.0             0.0          0.0   \n",
       "3               0.0  ...        0.0    0.0             0.0          0.0   \n",
       "4               0.0  ...        0.0    0.0             0.0          0.0   \n",
       "...             ...  ...        ...    ...             ...          ...   \n",
       "22165           0.0  ...        0.0    0.0             0.0          0.0   \n",
       "22166           0.0  ...        0.0    0.0             0.0          0.0   \n",
       "22167           0.0  ...        0.0    0.0             0.0          0.0   \n",
       "22168           0.0  ...        0.0    0.0             0.0          0.0   \n",
       "22169           0.0  ...        0.0    0.0             0.0          0.0   \n",
       "\n",
       "       the query  language is  is 1c  egg for  egg of  dragon game  \n",
       "0            0.0          0.0    0.0      0.0     0.0          0.0  \n",
       "1            0.0          0.0    0.0      0.0     0.0          0.0  \n",
       "2            0.0          0.0    0.0      0.0     0.0          0.0  \n",
       "3            0.0          0.0    0.0      0.0     0.0          0.0  \n",
       "4            0.0          0.0    0.0      0.0     0.0          0.0  \n",
       "...          ...          ...    ...      ...     ...          ...  \n",
       "22165        0.0          0.0    0.0      0.0     0.0          0.0  \n",
       "22166        0.0          0.0    0.0      0.0     0.0          0.0  \n",
       "22167        0.0          0.0    0.0      0.0     0.0          0.0  \n",
       "22168        0.0          0.0    0.0      0.0     0.0          0.0  \n",
       "22169        0.0          0.0    0.0      0.0     0.0          0.0  \n",
       "\n",
       "[22170 rows x 63885 columns]"
      ]
     },
     "execution_count": 42,
     "metadata": {},
     "output_type": "execute_result"
    }
   ],
   "source": [
    "tfidf = TfidfVectorizer(ngram_range=(1, 2), dtype=np.float32)\n",
    "texts_tfidf_1gram2grams = tfidf.fit_transform(items[\"item_name_translated\"])\n",
    "tokens = tfidf.vocabulary_.keys()\n",
    "TfidfVectorizer_1gram2grams = pd.DataFrame(data=texts_tfidf_1gram2grams.toarray(), columns=tokens)\n",
    "TfidfVectorizer_1gram2grams"
   ]
  },
  {
   "cell_type": "markdown",
   "id": "tough-titanium",
   "metadata": {},
   "source": [
    "##### Check for non-zeros:\n",
    "- Here is showing an array of the rows in the \"power\" column that contain a non-zero:"
   ]
  },
  {
   "cell_type": "code",
   "execution_count": 43,
   "id": "focused-technology",
   "metadata": {
    "ExecuteTime": {
     "end_time": "2021-02-09T16:09:26.906791Z",
     "start_time": "2021-02-09T16:09:26.896267Z"
    }
   },
   "outputs": [
    {
     "data": {
      "text/plain": [
       "(array([   34,   198,  5267,  7745,  7746,  7747,  7748,  7749,  7750,\n",
       "         7751,  7752,  7753,  7754,  7755,  7756,  7757,  7758,  7759,\n",
       "         7760,  7761,  7762,  7763,  7764,  7765,  7766,  7767,  7768,\n",
       "         7769,  7770,  7771,  7772,  7773,  7774,  7775,  7776, 13153]),)"
      ]
     },
     "execution_count": 43,
     "metadata": {},
     "output_type": "execute_result"
    }
   ],
   "source": [
    "TfidfVectorizer_1gram2grams[\"power\"].to_numpy().nonzero() "
   ]
  },
  {
   "cell_type": "markdown",
   "id": "iraqi-length",
   "metadata": {},
   "source": [
    "- Here we can check the non-zero value of the 34th row in the \"power\" column (column 3):"
   ]
  },
  {
   "cell_type": "code",
   "execution_count": 44,
   "id": "indie-depth",
   "metadata": {
    "ExecuteTime": {
     "end_time": "2021-02-09T16:09:30.184415Z",
     "start_time": "2021-02-09T16:09:30.178940Z"
    }
   },
   "outputs": [
    {
     "data": {
      "text/plain": [
       "0.2487"
      ]
     },
     "execution_count": 44,
     "metadata": {},
     "output_type": "execute_result"
    }
   ],
   "source": [
    "TfidfVectorizer_1gram2grams.iloc[34, 2]"
   ]
  },
  {
   "cell_type": "markdown",
   "id": "oriental-welsh",
   "metadata": {},
   "source": [
    "- Here, we print the texts_tfidf variable, which was derived from the fit_transform of BoW CountVectorizer.\n",
    "It prints the array as (row, column) and the value of that (row, column) that has a value (or weight), which is later made into an array (and then dataframe) with other missing values as zero:"
   ]
  },
  {
   "cell_type": "code",
   "execution_count": 45,
   "id": "fifty-access",
   "metadata": {
    "ExecuteTime": {
     "end_time": "2021-02-09T16:09:33.865433Z",
     "start_time": "2021-02-09T16:09:33.852593Z"
    }
   },
   "outputs": [
    {
     "name": "stdout",
     "output_type": "stream",
     "text": [
      "  (0, 25633)\t0.39858654\n",
      "  (0, 38924)\t0.38291633\n",
      "  (0, 43130)\t0.34045774\n",
      "  (0, 54748)\t0.37179813\n",
      "  (0, 27973)\t0.20651582\n",
      "  (0, 42451)\t0.39858654\n",
      "  (0, 25629)\t0.3262461\n",
      "  (0, 38445)\t0.106752284\n",
      "  (0, 43121)\t0.2879697\n",
      "  (0, 53783)\t0.105102375\n",
      "  (0, 27748)\t0.16441676\n"
     ]
    }
   ],
   "source": [
    "print(texts_tfidf_1gram2grams[0])  # only printing first column so can see general idea"
   ]
  },
  {
   "cell_type": "markdown",
   "id": "sized-excess",
   "metadata": {},
   "source": [
    "- Here, we can check the value of one of the (row, column)'s we found:"
   ]
  },
  {
   "cell_type": "code",
   "execution_count": 46,
   "id": "empirical-green",
   "metadata": {
    "ExecuteTime": {
     "end_time": "2021-02-09T16:09:38.636216Z",
     "start_time": "2021-02-09T16:09:38.630698Z"
    }
   },
   "outputs": [
    {
     "data": {
      "text/plain": [
       "0.39858654"
      ]
     },
     "execution_count": 46,
     "metadata": {},
     "output_type": "execute_result"
    }
   ],
   "source": [
    "TfidfVectorizer_1gram2grams.iloc[0, 25633]"
   ]
  },
  {
   "cell_type": "markdown",
   "id": "narrow-vinyl",
   "metadata": {},
   "source": [
    "### TfidfVectorizer (1gram + 2grams) with min_df"
   ]
  },
  {
   "cell_type": "code",
   "execution_count": 47,
   "id": "automated-macro",
   "metadata": {
    "ExecuteTime": {
     "end_time": "2021-02-09T16:09:41.017276Z",
     "start_time": "2021-02-09T16:09:39.992540Z"
    }
   },
   "outputs": [
    {
     "data": {
      "text/html": [
       "<div>\n",
       "<style scoped>\n",
       "    .dataframe tbody tr th:only-of-type {\n",
       "        vertical-align: middle;\n",
       "    }\n",
       "\n",
       "    .dataframe tbody tr th {\n",
       "        vertical-align: top;\n",
       "    }\n",
       "\n",
       "    .dataframe thead th {\n",
       "        text-align: right;\n",
       "    }\n",
       "</style>\n",
       "<table border=\"1\" class=\"dataframe\">\n",
       "  <thead>\n",
       "    <tr style=\"text-align: right;\">\n",
       "      <th></th>\n",
       "      <th>in</th>\n",
       "      <th>the</th>\n",
       "      <th>power</th>\n",
       "      <th>of</th>\n",
       "      <th>happiness</th>\n",
       "      <th>in the</th>\n",
       "      <th>the power</th>\n",
       "      <th>power of</th>\n",
       "      <th>of happiness</th>\n",
       "      <th>abbyy</th>\n",
       "      <th>...</th>\n",
       "      <th>franknstein</th>\n",
       "      <th>legend wb</th>\n",
       "      <th>fourth wd</th>\n",
       "      <th>scene 2012</th>\n",
       "      <th>poisons</th>\n",
       "      <th>poisons or</th>\n",
       "      <th>or world</th>\n",
       "      <th>of poisoning</th>\n",
       "      <th>query</th>\n",
       "      <th>query language</th>\n",
       "    </tr>\n",
       "  </thead>\n",
       "  <tbody>\n",
       "    <tr>\n",
       "      <th>0</th>\n",
       "      <td>0.0</td>\n",
       "      <td>0.0</td>\n",
       "      <td>0.0</td>\n",
       "      <td>0.0</td>\n",
       "      <td>0.0</td>\n",
       "      <td>0.0</td>\n",
       "      <td>0.0</td>\n",
       "      <td>0.0</td>\n",
       "      <td>0.0</td>\n",
       "      <td>0.0</td>\n",
       "      <td>...</td>\n",
       "      <td>0.0</td>\n",
       "      <td>0.0</td>\n",
       "      <td>0.0</td>\n",
       "      <td>0.0</td>\n",
       "      <td>0.0</td>\n",
       "      <td>0.0</td>\n",
       "      <td>0.0</td>\n",
       "      <td>0.0</td>\n",
       "      <td>0.0</td>\n",
       "      <td>0.0</td>\n",
       "    </tr>\n",
       "    <tr>\n",
       "      <th>1</th>\n",
       "      <td>0.0</td>\n",
       "      <td>0.0</td>\n",
       "      <td>0.0</td>\n",
       "      <td>0.0</td>\n",
       "      <td>0.0</td>\n",
       "      <td>0.0</td>\n",
       "      <td>0.0</td>\n",
       "      <td>0.0</td>\n",
       "      <td>0.0</td>\n",
       "      <td>0.0</td>\n",
       "      <td>...</td>\n",
       "      <td>0.0</td>\n",
       "      <td>0.0</td>\n",
       "      <td>0.0</td>\n",
       "      <td>0.0</td>\n",
       "      <td>0.0</td>\n",
       "      <td>0.0</td>\n",
       "      <td>0.0</td>\n",
       "      <td>0.0</td>\n",
       "      <td>0.0</td>\n",
       "      <td>0.0</td>\n",
       "    </tr>\n",
       "    <tr>\n",
       "      <th>2</th>\n",
       "      <td>0.0</td>\n",
       "      <td>0.0</td>\n",
       "      <td>0.0</td>\n",
       "      <td>0.0</td>\n",
       "      <td>0.0</td>\n",
       "      <td>0.0</td>\n",
       "      <td>0.0</td>\n",
       "      <td>0.0</td>\n",
       "      <td>0.0</td>\n",
       "      <td>0.0</td>\n",
       "      <td>...</td>\n",
       "      <td>0.0</td>\n",
       "      <td>0.0</td>\n",
       "      <td>0.0</td>\n",
       "      <td>0.0</td>\n",
       "      <td>0.0</td>\n",
       "      <td>0.0</td>\n",
       "      <td>0.0</td>\n",
       "      <td>0.0</td>\n",
       "      <td>0.0</td>\n",
       "      <td>0.0</td>\n",
       "    </tr>\n",
       "    <tr>\n",
       "      <th>3</th>\n",
       "      <td>0.0</td>\n",
       "      <td>0.0</td>\n",
       "      <td>0.0</td>\n",
       "      <td>0.0</td>\n",
       "      <td>0.0</td>\n",
       "      <td>0.0</td>\n",
       "      <td>0.0</td>\n",
       "      <td>0.0</td>\n",
       "      <td>0.0</td>\n",
       "      <td>0.0</td>\n",
       "      <td>...</td>\n",
       "      <td>0.0</td>\n",
       "      <td>0.0</td>\n",
       "      <td>0.0</td>\n",
       "      <td>0.0</td>\n",
       "      <td>0.0</td>\n",
       "      <td>0.0</td>\n",
       "      <td>0.0</td>\n",
       "      <td>0.0</td>\n",
       "      <td>0.0</td>\n",
       "      <td>0.0</td>\n",
       "    </tr>\n",
       "    <tr>\n",
       "      <th>4</th>\n",
       "      <td>0.0</td>\n",
       "      <td>0.0</td>\n",
       "      <td>0.0</td>\n",
       "      <td>0.0</td>\n",
       "      <td>0.0</td>\n",
       "      <td>0.0</td>\n",
       "      <td>0.0</td>\n",
       "      <td>0.0</td>\n",
       "      <td>0.0</td>\n",
       "      <td>0.0</td>\n",
       "      <td>...</td>\n",
       "      <td>0.0</td>\n",
       "      <td>0.0</td>\n",
       "      <td>0.0</td>\n",
       "      <td>0.0</td>\n",
       "      <td>0.0</td>\n",
       "      <td>0.0</td>\n",
       "      <td>0.0</td>\n",
       "      <td>0.0</td>\n",
       "      <td>0.0</td>\n",
       "      <td>0.0</td>\n",
       "    </tr>\n",
       "    <tr>\n",
       "      <th>...</th>\n",
       "      <td>...</td>\n",
       "      <td>...</td>\n",
       "      <td>...</td>\n",
       "      <td>...</td>\n",
       "      <td>...</td>\n",
       "      <td>...</td>\n",
       "      <td>...</td>\n",
       "      <td>...</td>\n",
       "      <td>...</td>\n",
       "      <td>...</td>\n",
       "      <td>...</td>\n",
       "      <td>...</td>\n",
       "      <td>...</td>\n",
       "      <td>...</td>\n",
       "      <td>...</td>\n",
       "      <td>...</td>\n",
       "      <td>...</td>\n",
       "      <td>...</td>\n",
       "      <td>...</td>\n",
       "      <td>...</td>\n",
       "      <td>...</td>\n",
       "    </tr>\n",
       "    <tr>\n",
       "      <th>22165</th>\n",
       "      <td>0.0</td>\n",
       "      <td>0.0</td>\n",
       "      <td>0.0</td>\n",
       "      <td>0.0</td>\n",
       "      <td>0.0</td>\n",
       "      <td>0.0</td>\n",
       "      <td>0.0</td>\n",
       "      <td>0.0</td>\n",
       "      <td>0.0</td>\n",
       "      <td>0.0</td>\n",
       "      <td>...</td>\n",
       "      <td>0.0</td>\n",
       "      <td>0.0</td>\n",
       "      <td>0.0</td>\n",
       "      <td>0.0</td>\n",
       "      <td>0.0</td>\n",
       "      <td>0.0</td>\n",
       "      <td>0.0</td>\n",
       "      <td>0.0</td>\n",
       "      <td>0.0</td>\n",
       "      <td>0.0</td>\n",
       "    </tr>\n",
       "    <tr>\n",
       "      <th>22166</th>\n",
       "      <td>0.0</td>\n",
       "      <td>0.0</td>\n",
       "      <td>0.0</td>\n",
       "      <td>0.0</td>\n",
       "      <td>0.0</td>\n",
       "      <td>0.0</td>\n",
       "      <td>0.0</td>\n",
       "      <td>0.0</td>\n",
       "      <td>0.0</td>\n",
       "      <td>0.0</td>\n",
       "      <td>...</td>\n",
       "      <td>0.0</td>\n",
       "      <td>0.0</td>\n",
       "      <td>0.0</td>\n",
       "      <td>0.0</td>\n",
       "      <td>0.0</td>\n",
       "      <td>0.0</td>\n",
       "      <td>0.0</td>\n",
       "      <td>0.0</td>\n",
       "      <td>0.0</td>\n",
       "      <td>0.0</td>\n",
       "    </tr>\n",
       "    <tr>\n",
       "      <th>22167</th>\n",
       "      <td>0.0</td>\n",
       "      <td>0.0</td>\n",
       "      <td>0.0</td>\n",
       "      <td>0.0</td>\n",
       "      <td>0.0</td>\n",
       "      <td>0.0</td>\n",
       "      <td>0.0</td>\n",
       "      <td>0.0</td>\n",
       "      <td>0.0</td>\n",
       "      <td>0.0</td>\n",
       "      <td>...</td>\n",
       "      <td>0.0</td>\n",
       "      <td>0.0</td>\n",
       "      <td>0.0</td>\n",
       "      <td>0.0</td>\n",
       "      <td>0.0</td>\n",
       "      <td>0.0</td>\n",
       "      <td>0.0</td>\n",
       "      <td>0.0</td>\n",
       "      <td>0.0</td>\n",
       "      <td>0.0</td>\n",
       "    </tr>\n",
       "    <tr>\n",
       "      <th>22168</th>\n",
       "      <td>0.0</td>\n",
       "      <td>0.0</td>\n",
       "      <td>0.0</td>\n",
       "      <td>0.0</td>\n",
       "      <td>0.0</td>\n",
       "      <td>0.0</td>\n",
       "      <td>0.0</td>\n",
       "      <td>0.0</td>\n",
       "      <td>0.0</td>\n",
       "      <td>0.0</td>\n",
       "      <td>...</td>\n",
       "      <td>0.0</td>\n",
       "      <td>0.0</td>\n",
       "      <td>0.0</td>\n",
       "      <td>0.0</td>\n",
       "      <td>0.0</td>\n",
       "      <td>0.0</td>\n",
       "      <td>0.0</td>\n",
       "      <td>0.0</td>\n",
       "      <td>0.0</td>\n",
       "      <td>0.0</td>\n",
       "    </tr>\n",
       "    <tr>\n",
       "      <th>22169</th>\n",
       "      <td>0.0</td>\n",
       "      <td>0.0</td>\n",
       "      <td>0.0</td>\n",
       "      <td>0.0</td>\n",
       "      <td>0.0</td>\n",
       "      <td>0.0</td>\n",
       "      <td>0.0</td>\n",
       "      <td>0.0</td>\n",
       "      <td>0.0</td>\n",
       "      <td>0.0</td>\n",
       "      <td>...</td>\n",
       "      <td>0.0</td>\n",
       "      <td>0.0</td>\n",
       "      <td>0.0</td>\n",
       "      <td>0.0</td>\n",
       "      <td>0.0</td>\n",
       "      <td>0.0</td>\n",
       "      <td>0.0</td>\n",
       "      <td>0.0</td>\n",
       "      <td>0.0</td>\n",
       "      <td>0.0</td>\n",
       "    </tr>\n",
       "  </tbody>\n",
       "</table>\n",
       "<p>22170 rows × 21299 columns</p>\n",
       "</div>"
      ],
      "text/plain": [
       "        in  the  power   of  happiness  in the  the power  power of  \\\n",
       "0      0.0  0.0    0.0  0.0        0.0     0.0        0.0       0.0   \n",
       "1      0.0  0.0    0.0  0.0        0.0     0.0        0.0       0.0   \n",
       "2      0.0  0.0    0.0  0.0        0.0     0.0        0.0       0.0   \n",
       "3      0.0  0.0    0.0  0.0        0.0     0.0        0.0       0.0   \n",
       "4      0.0  0.0    0.0  0.0        0.0     0.0        0.0       0.0   \n",
       "...    ...  ...    ...  ...        ...     ...        ...       ...   \n",
       "22165  0.0  0.0    0.0  0.0        0.0     0.0        0.0       0.0   \n",
       "22166  0.0  0.0    0.0  0.0        0.0     0.0        0.0       0.0   \n",
       "22167  0.0  0.0    0.0  0.0        0.0     0.0        0.0       0.0   \n",
       "22168  0.0  0.0    0.0  0.0        0.0     0.0        0.0       0.0   \n",
       "22169  0.0  0.0    0.0  0.0        0.0     0.0        0.0       0.0   \n",
       "\n",
       "       of happiness  abbyy  ...  franknstein  legend wb  fourth wd  \\\n",
       "0               0.0    0.0  ...          0.0        0.0        0.0   \n",
       "1               0.0    0.0  ...          0.0        0.0        0.0   \n",
       "2               0.0    0.0  ...          0.0        0.0        0.0   \n",
       "3               0.0    0.0  ...          0.0        0.0        0.0   \n",
       "4               0.0    0.0  ...          0.0        0.0        0.0   \n",
       "...             ...    ...  ...          ...        ...        ...   \n",
       "22165           0.0    0.0  ...          0.0        0.0        0.0   \n",
       "22166           0.0    0.0  ...          0.0        0.0        0.0   \n",
       "22167           0.0    0.0  ...          0.0        0.0        0.0   \n",
       "22168           0.0    0.0  ...          0.0        0.0        0.0   \n",
       "22169           0.0    0.0  ...          0.0        0.0        0.0   \n",
       "\n",
       "       scene 2012  poisons  poisons or  or world  of poisoning  query  \\\n",
       "0             0.0      0.0         0.0       0.0           0.0    0.0   \n",
       "1             0.0      0.0         0.0       0.0           0.0    0.0   \n",
       "2             0.0      0.0         0.0       0.0           0.0    0.0   \n",
       "3             0.0      0.0         0.0       0.0           0.0    0.0   \n",
       "4             0.0      0.0         0.0       0.0           0.0    0.0   \n",
       "...           ...      ...         ...       ...           ...    ...   \n",
       "22165         0.0      0.0         0.0       0.0           0.0    0.0   \n",
       "22166         0.0      0.0         0.0       0.0           0.0    0.0   \n",
       "22167         0.0      0.0         0.0       0.0           0.0    0.0   \n",
       "22168         0.0      0.0         0.0       0.0           0.0    0.0   \n",
       "22169         0.0      0.0         0.0       0.0           0.0    0.0   \n",
       "\n",
       "       query language  \n",
       "0                 0.0  \n",
       "1                 0.0  \n",
       "2                 0.0  \n",
       "3                 0.0  \n",
       "4                 0.0  \n",
       "...               ...  \n",
       "22165             0.0  \n",
       "22166             0.0  \n",
       "22167             0.0  \n",
       "22168             0.0  \n",
       "22169             0.0  \n",
       "\n",
       "[22170 rows x 21299 columns]"
      ]
     },
     "execution_count": 47,
     "metadata": {},
     "output_type": "execute_result"
    }
   ],
   "source": [
    "tfidf = TfidfVectorizer(ngram_range=(1, 2), min_df=2, dtype=np.float32)\n",
    "texts_tfidf_1gram2grams = tfidf.fit_transform(items[\"item_name_translated\"])\n",
    "tokens = tfidf.vocabulary_.keys()\n",
    "TfidfVectorizer_1gram2grams = pd.DataFrame(data=texts_tfidf_1gram2grams.toarray(), columns=tokens)\n",
    "TfidfVectorizer_1gram2grams"
   ]
  },
  {
   "cell_type": "markdown",
   "id": "superb-import",
   "metadata": {},
   "source": [
    "- with min_df set as 2, it will only allocate a value to those features (words) that occur 2 times or more. This reduces the number of columns from 63885 to 21299. This is useful for dimensionality reduction and to escape the dimentionality curse!"
   ]
  },
  {
   "cell_type": "markdown",
   "id": "driving-highway",
   "metadata": {},
   "source": [
    "##### Check for non-zeros:\n",
    "- Here is showing an array of the rows in the \"power\" column that contain a non-zero"
   ]
  },
  {
   "cell_type": "code",
   "execution_count": 48,
   "id": "freelance-reputation",
   "metadata": {
    "ExecuteTime": {
     "end_time": "2021-02-09T16:09:44.446694Z",
     "start_time": "2021-02-09T16:09:44.433561Z"
    }
   },
   "outputs": [
    {
     "data": {
      "text/plain": [
       "(array([7771, 7772, 7773, 7774, 7775, 7776]),)"
      ]
     },
     "execution_count": 48,
     "metadata": {},
     "output_type": "execute_result"
    }
   ],
   "source": [
    "TfidfVectorizer_1gram2grams[\"power\"].to_numpy().nonzero() "
   ]
  },
  {
   "cell_type": "markdown",
   "id": "aggregate-cricket",
   "metadata": {},
   "source": [
    "- Here we can check the non-zero value of the 7771th row in the \"power\" column (column 3):"
   ]
  },
  {
   "cell_type": "code",
   "execution_count": 49,
   "id": "charged-florida",
   "metadata": {
    "ExecuteTime": {
     "end_time": "2021-02-09T16:09:47.130901Z",
     "start_time": "2021-02-09T16:09:47.125758Z"
    }
   },
   "outputs": [
    {
     "data": {
      "text/plain": [
       "0.38666084"
      ]
     },
     "execution_count": 49,
     "metadata": {},
     "output_type": "execute_result"
    }
   ],
   "source": [
    "TfidfVectorizer_1gram2grams.iloc[7771, 2]"
   ]
  },
  {
   "cell_type": "markdown",
   "id": "trying-separate",
   "metadata": {},
   "source": [
    "- Here, we print the texts_tfidf variable, which was derived from the fit_transform of BoW CountVectorizer.\n",
    "It prints the array as (row, column) and the value of that (row, column) that has a value (or weight), which is later made into an array (and then dataframe) with other missing values as zero:"
   ]
  },
  {
   "cell_type": "code",
   "execution_count": 50,
   "id": "vital-southeast",
   "metadata": {
    "ExecuteTime": {
     "end_time": "2021-02-09T16:09:48.739305Z",
     "start_time": "2021-02-09T16:09:48.733610Z"
    }
   },
   "outputs": [
    {
     "name": "stdout",
     "output_type": "stream",
     "text": [
      "  (0, 12826)\t0.46358538\n",
      "  (0, 14319)\t0.412182\n",
      "  (0, 18309)\t0.4501249\n",
      "  (0, 9216)\t0.25002253\n",
      "  (0, 8419)\t0.39497644\n",
      "  (0, 12659)\t0.12924181\n",
      "  (0, 14318)\t0.34863633\n",
      "  (0, 17877)\t0.12724431\n",
      "  (0, 9135)\t0.19905446\n"
     ]
    }
   ],
   "source": [
    "print(texts_tfidf_1gram2grams[0])  # only printing first column so can see general idea"
   ]
  },
  {
   "cell_type": "markdown",
   "id": "based-uniform",
   "metadata": {},
   "source": [
    "- Here, we can check the value of one of the (row, column)'s we found:"
   ]
  },
  {
   "cell_type": "code",
   "execution_count": 51,
   "id": "offshore-monte",
   "metadata": {
    "ExecuteTime": {
     "end_time": "2021-02-09T16:09:51.774830Z",
     "start_time": "2021-02-09T16:09:51.770714Z"
    }
   },
   "outputs": [
    {
     "data": {
      "text/plain": [
       "0.46358538"
      ]
     },
     "execution_count": 51,
     "metadata": {},
     "output_type": "execute_result"
    }
   ],
   "source": [
    "TfidfVectorizer_1gram2grams.iloc[0, 12826]"
   ]
  },
  {
   "cell_type": "markdown",
   "id": "matched-benefit",
   "metadata": {},
   "source": [
    "### TIPS!\n",
    "---\n",
    "- Remember! the goal is to have less columns than rows!\n",
    "---\n",
    "- Setting min_df or max_df to an integer means the number of times a word occurs. Whereas setting min_df or max_df to a decimal means the proprtion of times a word occurs."
   ]
  }
 ],
 "metadata": {
  "kernelspec": {
   "display_name": "Python 3",
   "language": "python",
   "name": "python3"
  },
  "language_info": {
   "codemirror_mode": {
    "name": "ipython",
    "version": 3
   },
   "file_extension": ".py",
   "mimetype": "text/x-python",
   "name": "python",
   "nbconvert_exporter": "python",
   "pygments_lexer": "ipython3",
   "version": "3.8.3"
  }
 },
 "nbformat": 4,
 "nbformat_minor": 5
}
