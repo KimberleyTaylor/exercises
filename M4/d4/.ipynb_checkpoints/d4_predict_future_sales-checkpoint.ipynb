{
 "cells": [
  {
   "cell_type": "code",
   "execution_count": 106,
   "id": "utility-catalyst",
   "metadata": {
    "ExecuteTime": {
     "end_time": "2021-02-05T08:21:35.373672Z",
     "start_time": "2021-02-05T08:21:35.365837Z"
    }
   },
   "outputs": [],
   "source": [
    "import pandas as pd\n",
    "import numpy as np\n",
    "import matplotlib.pyplot as plt\n",
    "import seaborn as sns\n",
    "import matplotlib.patches as mpatches\n",
    "%matplotlib inline"
   ]
  },
  {
   "cell_type": "code",
   "execution_count": 107,
   "id": "stock-logan",
   "metadata": {
    "ExecuteTime": {
     "end_time": "2021-02-05T08:21:41.798064Z",
     "start_time": "2021-02-05T08:21:41.791203Z"
    }
   },
   "outputs": [],
   "source": [
    "path = \"datasets/\""
   ]
  },
  {
   "cell_type": "code",
   "execution_count": 108,
   "id": "surrounded-azerbaijan",
   "metadata": {
    "ExecuteTime": {
     "end_time": "2021-02-05T08:21:43.830782Z",
     "start_time": "2021-02-05T08:21:43.628563Z"
    }
   },
   "outputs": [
    {
     "name": "stdout",
     "output_type": "stream",
     "text": [
      "item_categories.csv\t\titems-translated.csv  test.csv\r\n",
      "item_categories-translated.csv\tsales_train.csv\r\n",
      "items_russian.csv\t\tshops-translated.csv\r\n"
     ]
    }
   ],
   "source": [
    "!ls datasets/"
   ]
  },
  {
   "cell_type": "code",
   "execution_count": 4,
   "id": "champion-fellow",
   "metadata": {
    "ExecuteTime": {
     "end_time": "2021-02-04T23:37:51.996935Z",
     "start_time": "2021-02-04T23:37:50.737003Z"
    }
   },
   "outputs": [],
   "source": [
    "shops = pd.read_csv(path + \"shops-translated.csv\")\n",
    "items = pd.read_csv(path + \"items-translated.csv\")\n",
    "item_categories = pd.read_csv(path + \"item_categories-translated.csv\")\n",
    "items_russian = pd.read_csv(path + \"items_russian.csv\")\n",
    "train = pd.read_csv(path + \"sales_train.csv\")\n",
    "test = pd.read_csv(path + \"test.csv\")"
   ]
  },
  {
   "cell_type": "code",
   "execution_count": 5,
   "id": "super-delay",
   "metadata": {
    "ExecuteTime": {
     "end_time": "2021-02-04T23:37:52.557850Z",
     "start_time": "2021-02-04T23:37:52.539070Z"
    }
   },
   "outputs": [
    {
     "data": {
      "text/html": [
       "<div>\n",
       "<style scoped>\n",
       "    .dataframe tbody tr th:only-of-type {\n",
       "        vertical-align: middle;\n",
       "    }\n",
       "\n",
       "    .dataframe tbody tr th {\n",
       "        vertical-align: top;\n",
       "    }\n",
       "\n",
       "    .dataframe thead th {\n",
       "        text-align: right;\n",
       "    }\n",
       "</style>\n",
       "<table border=\"1\" class=\"dataframe\">\n",
       "  <thead>\n",
       "    <tr style=\"text-align: right;\">\n",
       "      <th></th>\n",
       "      <th>item_category_id,item_category_name_translated</th>\n",
       "    </tr>\n",
       "  </thead>\n",
       "  <tbody>\n",
       "    <tr>\n",
       "      <th>0</th>\n",
       "      <td>0,PC - Headsets / Headphones</td>\n",
       "    </tr>\n",
       "    <tr>\n",
       "      <th>1</th>\n",
       "      <td>1,Accessories - PS2</td>\n",
       "    </tr>\n",
       "    <tr>\n",
       "      <th>2</th>\n",
       "      <td>2,Accessories - PS3</td>\n",
       "    </tr>\n",
       "    <tr>\n",
       "      <th>3</th>\n",
       "      <td>3,Accessories - PS4</td>\n",
       "    </tr>\n",
       "    <tr>\n",
       "      <th>4</th>\n",
       "      <td>4,Accessories - PSP</td>\n",
       "    </tr>\n",
       "    <tr>\n",
       "      <th>5</th>\n",
       "      <td>5,Accessories - PSVita</td>\n",
       "    </tr>\n",
       "    <tr>\n",
       "      <th>6</th>\n",
       "      <td>6,Accessories - XBOX 360</td>\n",
       "    </tr>\n",
       "    <tr>\n",
       "      <th>7</th>\n",
       "      <td>7,Accessories - XBOX ONE</td>\n",
       "    </tr>\n",
       "    <tr>\n",
       "      <th>8</th>\n",
       "      <td>8,Tickets (figure)</td>\n",
       "    </tr>\n",
       "    <tr>\n",
       "      <th>9</th>\n",
       "      <td>9,Delivery of goods</td>\n",
       "    </tr>\n",
       "  </tbody>\n",
       "</table>\n",
       "</div>"
      ],
      "text/plain": [
       "  item_category_id,item_category_name_translated\n",
       "0                   0,PC - Headsets / Headphones\n",
       "1                            1,Accessories - PS2\n",
       "2                            2,Accessories - PS3\n",
       "3                            3,Accessories - PS4\n",
       "4                            4,Accessories - PSP\n",
       "5                         5,Accessories - PSVita\n",
       "6                       6,Accessories - XBOX 360\n",
       "7                       7,Accessories - XBOX ONE\n",
       "8                             8,Tickets (figure)\n",
       "9                            9,Delivery of goods"
      ]
     },
     "execution_count": 5,
     "metadata": {},
     "output_type": "execute_result"
    }
   ],
   "source": [
    "item_categories[:10]"
   ]
  },
  {
   "cell_type": "code",
   "execution_count": 6,
   "id": "korean-sport",
   "metadata": {
    "ExecuteTime": {
     "end_time": "2021-02-04T23:37:53.381072Z",
     "start_time": "2021-02-04T23:37:53.372881Z"
    }
   },
   "outputs": [],
   "source": [
    "item_categories = item_categories[\"item_category_id,item_category_name_translated\"].str.split(',', expand=True)"
   ]
  },
  {
   "cell_type": "code",
   "execution_count": 7,
   "id": "processed-fisher",
   "metadata": {
    "ExecuteTime": {
     "end_time": "2021-02-04T23:37:54.150726Z",
     "start_time": "2021-02-04T23:37:54.143012Z"
    }
   },
   "outputs": [],
   "source": [
    "item_categories.columns = [\"item_category_id\", \"item_category_name\", \"c\", \"d\"]"
   ]
  },
  {
   "cell_type": "code",
   "execution_count": 8,
   "id": "maritime-exhaust",
   "metadata": {
    "ExecuteTime": {
     "end_time": "2021-02-04T23:37:54.840630Z",
     "start_time": "2021-02-04T23:37:54.834393Z"
    }
   },
   "outputs": [],
   "source": [
    "item_categories = item_categories.drop([\"c\", \"d\"], axis=1)"
   ]
  },
  {
   "cell_type": "code",
   "execution_count": 9,
   "id": "canadian-parallel",
   "metadata": {
    "ExecuteTime": {
     "end_time": "2021-02-04T23:37:55.529382Z",
     "start_time": "2021-02-04T23:37:55.513072Z"
    }
   },
   "outputs": [
    {
     "data": {
      "text/html": [
       "<div>\n",
       "<style scoped>\n",
       "    .dataframe tbody tr th:only-of-type {\n",
       "        vertical-align: middle;\n",
       "    }\n",
       "\n",
       "    .dataframe tbody tr th {\n",
       "        vertical-align: top;\n",
       "    }\n",
       "\n",
       "    .dataframe thead th {\n",
       "        text-align: right;\n",
       "    }\n",
       "</style>\n",
       "<table border=\"1\" class=\"dataframe\">\n",
       "  <thead>\n",
       "    <tr style=\"text-align: right;\">\n",
       "      <th></th>\n",
       "      <th>item_category_id</th>\n",
       "      <th>item_category_name</th>\n",
       "    </tr>\n",
       "  </thead>\n",
       "  <tbody>\n",
       "    <tr>\n",
       "      <th>0</th>\n",
       "      <td>0</td>\n",
       "      <td>PC - Headsets / Headphones</td>\n",
       "    </tr>\n",
       "    <tr>\n",
       "      <th>1</th>\n",
       "      <td>1</td>\n",
       "      <td>Accessories - PS2</td>\n",
       "    </tr>\n",
       "    <tr>\n",
       "      <th>2</th>\n",
       "      <td>2</td>\n",
       "      <td>Accessories - PS3</td>\n",
       "    </tr>\n",
       "    <tr>\n",
       "      <th>3</th>\n",
       "      <td>3</td>\n",
       "      <td>Accessories - PS4</td>\n",
       "    </tr>\n",
       "    <tr>\n",
       "      <th>4</th>\n",
       "      <td>4</td>\n",
       "      <td>Accessories - PSP</td>\n",
       "    </tr>\n",
       "    <tr>\n",
       "      <th>5</th>\n",
       "      <td>5</td>\n",
       "      <td>Accessories - PSVita</td>\n",
       "    </tr>\n",
       "    <tr>\n",
       "      <th>6</th>\n",
       "      <td>6</td>\n",
       "      <td>Accessories - XBOX 360</td>\n",
       "    </tr>\n",
       "    <tr>\n",
       "      <th>7</th>\n",
       "      <td>7</td>\n",
       "      <td>Accessories - XBOX ONE</td>\n",
       "    </tr>\n",
       "    <tr>\n",
       "      <th>8</th>\n",
       "      <td>8</td>\n",
       "      <td>Tickets (figure)</td>\n",
       "    </tr>\n",
       "    <tr>\n",
       "      <th>9</th>\n",
       "      <td>9</td>\n",
       "      <td>Delivery of goods</td>\n",
       "    </tr>\n",
       "  </tbody>\n",
       "</table>\n",
       "</div>"
      ],
      "text/plain": [
       "  item_category_id          item_category_name\n",
       "0                0  PC - Headsets / Headphones\n",
       "1                1           Accessories - PS2\n",
       "2                2           Accessories - PS3\n",
       "3                3           Accessories - PS4\n",
       "4                4           Accessories - PSP\n",
       "5                5        Accessories - PSVita\n",
       "6                6      Accessories - XBOX 360\n",
       "7                7      Accessories - XBOX ONE\n",
       "8                8            Tickets (figure)\n",
       "9                9           Delivery of goods"
      ]
     },
     "execution_count": 9,
     "metadata": {},
     "output_type": "execute_result"
    }
   ],
   "source": [
    "item_categories[:10]"
   ]
  },
  {
   "cell_type": "code",
   "execution_count": 10,
   "id": "functional-depth",
   "metadata": {
    "ExecuteTime": {
     "end_time": "2021-02-04T23:37:56.281264Z",
     "start_time": "2021-02-04T23:37:56.253956Z"
    }
   },
   "outputs": [
    {
     "data": {
      "text/plain": [
       "item_category_id      0.0\n",
       "item_category_name    0.0\n",
       "dtype: float64"
      ]
     },
     "execution_count": 10,
     "metadata": {},
     "output_type": "execute_result"
    }
   ],
   "source": [
    "item_categories.isnull().sum()/len(item_categories)"
   ]
  },
  {
   "cell_type": "code",
   "execution_count": 11,
   "id": "dental-mission",
   "metadata": {
    "ExecuteTime": {
     "end_time": "2021-02-04T23:37:56.994996Z",
     "start_time": "2021-02-04T23:37:56.967849Z"
    }
   },
   "outputs": [
    {
     "name": "stdout",
     "output_type": "stream",
     "text": [
      "<class 'pandas.core.frame.DataFrame'>\n",
      "RangeIndex: 84 entries, 0 to 83\n",
      "Data columns (total 2 columns):\n",
      " #   Column              Non-Null Count  Dtype \n",
      "---  ------              --------------  ----- \n",
      " 0   item_category_id    84 non-null     object\n",
      " 1   item_category_name  84 non-null     object\n",
      "dtypes: object(2)\n",
      "memory usage: 1.4+ KB\n"
     ]
    }
   ],
   "source": [
    "item_categories.info()"
   ]
  },
  {
   "cell_type": "code",
   "execution_count": 12,
   "id": "seventh-fighter",
   "metadata": {
    "ExecuteTime": {
     "end_time": "2021-02-04T23:37:57.696585Z",
     "start_time": "2021-02-04T23:37:57.688049Z"
    }
   },
   "outputs": [
    {
     "data": {
      "text/html": [
       "<div>\n",
       "<style scoped>\n",
       "    .dataframe tbody tr th:only-of-type {\n",
       "        vertical-align: middle;\n",
       "    }\n",
       "\n",
       "    .dataframe tbody tr th {\n",
       "        vertical-align: top;\n",
       "    }\n",
       "\n",
       "    .dataframe thead th {\n",
       "        text-align: right;\n",
       "    }\n",
       "</style>\n",
       "<table border=\"1\" class=\"dataframe\">\n",
       "  <thead>\n",
       "    <tr style=\"text-align: right;\">\n",
       "      <th></th>\n",
       "      <th>shop_id,shop_name_translated</th>\n",
       "    </tr>\n",
       "  </thead>\n",
       "  <tbody>\n",
       "    <tr>\n",
       "      <th>0</th>\n",
       "      <td>0,\"Yakutsk Ordzhonikidze, 56 francs\"</td>\n",
       "    </tr>\n",
       "    <tr>\n",
       "      <th>1</th>\n",
       "      <td>1,\"Yakutsk TC \"\"Central\"\" franc\"</td>\n",
       "    </tr>\n",
       "    <tr>\n",
       "      <th>2</th>\n",
       "      <td>2,\"Adygea Shopping Center \"\"Mega\"\"\"</td>\n",
       "    </tr>\n",
       "    <tr>\n",
       "      <th>3</th>\n",
       "      <td>3,\"Balashikha TRK \"\"October-Kinomir\"\"\"</td>\n",
       "    </tr>\n",
       "    <tr>\n",
       "      <th>4</th>\n",
       "      <td>4,\"Volzhsky shopping center \"\"Volga Mall\"\"\"</td>\n",
       "    </tr>\n",
       "    <tr>\n",
       "      <th>5</th>\n",
       "      <td>5,\"Vologda Shopping and Entertainment Center \"...</td>\n",
       "    </tr>\n",
       "    <tr>\n",
       "      <th>6</th>\n",
       "      <td>6,\"Voronezh (Plekhanovskaya, 13)\"</td>\n",
       "    </tr>\n",
       "    <tr>\n",
       "      <th>7</th>\n",
       "      <td>7,\"Voronezh TRC \"\"Maksimir\"\"\"</td>\n",
       "    </tr>\n",
       "    <tr>\n",
       "      <th>8</th>\n",
       "      <td>8,\"Voronezh TRC City-Park \"\"Grad\"\"\"</td>\n",
       "    </tr>\n",
       "    <tr>\n",
       "      <th>9</th>\n",
       "      <td>9,Outbound Trade</td>\n",
       "    </tr>\n",
       "  </tbody>\n",
       "</table>\n",
       "</div>"
      ],
      "text/plain": [
       "                        shop_id,shop_name_translated\n",
       "0               0,\"Yakutsk Ordzhonikidze, 56 francs\"\n",
       "1                   1,\"Yakutsk TC \"\"Central\"\" franc\"\n",
       "2                2,\"Adygea Shopping Center \"\"Mega\"\"\"\n",
       "3             3,\"Balashikha TRK \"\"October-Kinomir\"\"\"\n",
       "4        4,\"Volzhsky shopping center \"\"Volga Mall\"\"\"\n",
       "5  5,\"Vologda Shopping and Entertainment Center \"...\n",
       "6                  6,\"Voronezh (Plekhanovskaya, 13)\"\n",
       "7                      7,\"Voronezh TRC \"\"Maksimir\"\"\"\n",
       "8                8,\"Voronezh TRC City-Park \"\"Grad\"\"\"\n",
       "9                                   9,Outbound Trade"
      ]
     },
     "execution_count": 12,
     "metadata": {},
     "output_type": "execute_result"
    }
   ],
   "source": [
    "shops[:10]"
   ]
  },
  {
   "cell_type": "code",
   "execution_count": 13,
   "id": "demographic-fundamentals",
   "metadata": {
    "ExecuteTime": {
     "end_time": "2021-02-04T23:37:58.446962Z",
     "start_time": "2021-02-04T23:37:58.437458Z"
    }
   },
   "outputs": [],
   "source": [
    "shops = shops[\"shop_id,shop_name_translated\"].str.split(',', expand=True)"
   ]
  },
  {
   "cell_type": "code",
   "execution_count": 14,
   "id": "excess-novel",
   "metadata": {
    "ExecuteTime": {
     "end_time": "2021-02-04T23:37:59.222219Z",
     "start_time": "2021-02-04T23:37:59.217856Z"
    }
   },
   "outputs": [],
   "source": [
    "shops.columns = [\"shop_id\", \"shop_name\", \"a\"]"
   ]
  },
  {
   "cell_type": "code",
   "execution_count": 15,
   "id": "preliminary-archives",
   "metadata": {
    "ExecuteTime": {
     "end_time": "2021-02-04T23:37:59.949647Z",
     "start_time": "2021-02-04T23:37:59.941538Z"
    }
   },
   "outputs": [],
   "source": [
    "shops = shops.drop(\"a\", axis=1)"
   ]
  },
  {
   "cell_type": "code",
   "execution_count": 16,
   "id": "appreciated-onion",
   "metadata": {
    "ExecuteTime": {
     "end_time": "2021-02-04T23:38:00.658365Z",
     "start_time": "2021-02-04T23:38:00.645164Z"
    }
   },
   "outputs": [
    {
     "data": {
      "text/html": [
       "<div>\n",
       "<style scoped>\n",
       "    .dataframe tbody tr th:only-of-type {\n",
       "        vertical-align: middle;\n",
       "    }\n",
       "\n",
       "    .dataframe tbody tr th {\n",
       "        vertical-align: top;\n",
       "    }\n",
       "\n",
       "    .dataframe thead th {\n",
       "        text-align: right;\n",
       "    }\n",
       "</style>\n",
       "<table border=\"1\" class=\"dataframe\">\n",
       "  <thead>\n",
       "    <tr style=\"text-align: right;\">\n",
       "      <th></th>\n",
       "      <th>shop_id</th>\n",
       "      <th>shop_name</th>\n",
       "    </tr>\n",
       "  </thead>\n",
       "  <tbody>\n",
       "    <tr>\n",
       "      <th>0</th>\n",
       "      <td>0</td>\n",
       "      <td>\"Yakutsk Ordzhonikidze</td>\n",
       "    </tr>\n",
       "    <tr>\n",
       "      <th>1</th>\n",
       "      <td>1</td>\n",
       "      <td>\"Yakutsk TC \"\"Central\"\" franc\"</td>\n",
       "    </tr>\n",
       "    <tr>\n",
       "      <th>2</th>\n",
       "      <td>2</td>\n",
       "      <td>\"Adygea Shopping Center \"\"Mega\"\"\"</td>\n",
       "    </tr>\n",
       "    <tr>\n",
       "      <th>3</th>\n",
       "      <td>3</td>\n",
       "      <td>\"Balashikha TRK \"\"October-Kinomir\"\"\"</td>\n",
       "    </tr>\n",
       "    <tr>\n",
       "      <th>4</th>\n",
       "      <td>4</td>\n",
       "      <td>\"Volzhsky shopping center \"\"Volga Mall\"\"\"</td>\n",
       "    </tr>\n",
       "    <tr>\n",
       "      <th>5</th>\n",
       "      <td>5</td>\n",
       "      <td>\"Vologda Shopping and Entertainment Center \"\"M...</td>\n",
       "    </tr>\n",
       "    <tr>\n",
       "      <th>6</th>\n",
       "      <td>6</td>\n",
       "      <td>\"Voronezh (Plekhanovskaya</td>\n",
       "    </tr>\n",
       "    <tr>\n",
       "      <th>7</th>\n",
       "      <td>7</td>\n",
       "      <td>\"Voronezh TRC \"\"Maksimir\"\"\"</td>\n",
       "    </tr>\n",
       "    <tr>\n",
       "      <th>8</th>\n",
       "      <td>8</td>\n",
       "      <td>\"Voronezh TRC City-Park \"\"Grad\"\"\"</td>\n",
       "    </tr>\n",
       "    <tr>\n",
       "      <th>9</th>\n",
       "      <td>9</td>\n",
       "      <td>Outbound Trade</td>\n",
       "    </tr>\n",
       "  </tbody>\n",
       "</table>\n",
       "</div>"
      ],
      "text/plain": [
       "  shop_id                                          shop_name\n",
       "0       0                             \"Yakutsk Ordzhonikidze\n",
       "1       1                     \"Yakutsk TC \"\"Central\"\" franc\"\n",
       "2       2                  \"Adygea Shopping Center \"\"Mega\"\"\"\n",
       "3       3               \"Balashikha TRK \"\"October-Kinomir\"\"\"\n",
       "4       4          \"Volzhsky shopping center \"\"Volga Mall\"\"\"\n",
       "5       5  \"Vologda Shopping and Entertainment Center \"\"M...\n",
       "6       6                          \"Voronezh (Plekhanovskaya\n",
       "7       7                        \"Voronezh TRC \"\"Maksimir\"\"\"\n",
       "8       8                  \"Voronezh TRC City-Park \"\"Grad\"\"\"\n",
       "9       9                                     Outbound Trade"
      ]
     },
     "execution_count": 16,
     "metadata": {},
     "output_type": "execute_result"
    }
   ],
   "source": [
    "shops[:10]"
   ]
  },
  {
   "cell_type": "code",
   "execution_count": 17,
   "id": "acting-manchester",
   "metadata": {
    "ExecuteTime": {
     "end_time": "2021-02-04T23:38:01.525095Z",
     "start_time": "2021-02-04T23:38:01.508126Z"
    }
   },
   "outputs": [
    {
     "data": {
      "text/plain": [
       "shop_id      0.0\n",
       "shop_name    0.0\n",
       "dtype: float64"
      ]
     },
     "execution_count": 17,
     "metadata": {},
     "output_type": "execute_result"
    }
   ],
   "source": [
    "shops.isnull().sum()/len(shops)"
   ]
  },
  {
   "cell_type": "code",
   "execution_count": 18,
   "id": "lightweight-venice",
   "metadata": {
    "ExecuteTime": {
     "end_time": "2021-02-04T23:38:02.303910Z",
     "start_time": "2021-02-04T23:38:02.267255Z"
    }
   },
   "outputs": [
    {
     "name": "stdout",
     "output_type": "stream",
     "text": [
      "<class 'pandas.core.frame.DataFrame'>\n",
      "RangeIndex: 60 entries, 0 to 59\n",
      "Data columns (total 2 columns):\n",
      " #   Column     Non-Null Count  Dtype \n",
      "---  ------     --------------  ----- \n",
      " 0   shop_id    60 non-null     object\n",
      " 1   shop_name  60 non-null     object\n",
      "dtypes: object(2)\n",
      "memory usage: 1.1+ KB\n"
     ]
    }
   ],
   "source": [
    "shops.info()"
   ]
  },
  {
   "cell_type": "code",
   "execution_count": 19,
   "id": "universal-duncan",
   "metadata": {
    "ExecuteTime": {
     "end_time": "2021-02-04T23:38:02.976991Z",
     "start_time": "2021-02-04T23:38:02.972249Z"
    }
   },
   "outputs": [],
   "source": [
    "shops[\"shop_id\"] = shops[\"shop_id\"].astype(int)"
   ]
  },
  {
   "cell_type": "code",
   "execution_count": 20,
   "id": "classical-programmer",
   "metadata": {
    "ExecuteTime": {
     "end_time": "2021-02-04T23:38:03.660463Z",
     "start_time": "2021-02-04T23:38:03.637609Z"
    }
   },
   "outputs": [
    {
     "data": {
      "text/html": [
       "<div>\n",
       "<style scoped>\n",
       "    .dataframe tbody tr th:only-of-type {\n",
       "        vertical-align: middle;\n",
       "    }\n",
       "\n",
       "    .dataframe tbody tr th {\n",
       "        vertical-align: top;\n",
       "    }\n",
       "\n",
       "    .dataframe thead th {\n",
       "        text-align: right;\n",
       "    }\n",
       "</style>\n",
       "<table border=\"1\" class=\"dataframe\">\n",
       "  <thead>\n",
       "    <tr style=\"text-align: right;\">\n",
       "      <th></th>\n",
       "      <th>item_id</th>\n",
       "      <th>item_name_translated</th>\n",
       "    </tr>\n",
       "  </thead>\n",
       "  <tbody>\n",
       "    <tr>\n",
       "      <th>0</th>\n",
       "      <td>0</td>\n",
       "      <td>!! IN THE POWER OF HAPPINESS (PLAST) D</td>\n",
       "    </tr>\n",
       "    <tr>\n",
       "      <th>1</th>\n",
       "      <td>1</td>\n",
       "      <td>! ABBYY FineReader 12 Professional Edition Ful...</td>\n",
       "    </tr>\n",
       "    <tr>\n",
       "      <th>2</th>\n",
       "      <td>2</td>\n",
       "      <td>*** IN THE GLORY OF THE GLORY (UNV) D</td>\n",
       "    </tr>\n",
       "    <tr>\n",
       "      <th>3</th>\n",
       "      <td>3</td>\n",
       "      <td>*** BLUE WAVE (Univ) D</td>\n",
       "    </tr>\n",
       "    <tr>\n",
       "      <th>4</th>\n",
       "      <td>4</td>\n",
       "      <td>*** BOX (GLASS) D</td>\n",
       "    </tr>\n",
       "    <tr>\n",
       "      <th>5</th>\n",
       "      <td>5</td>\n",
       "      <td>*** NEW AMERICAN GRAPHICS (UNI) D</td>\n",
       "    </tr>\n",
       "    <tr>\n",
       "      <th>6</th>\n",
       "      <td>6</td>\n",
       "      <td>*** BLOCK ON THE GATES (UNI) D</td>\n",
       "    </tr>\n",
       "    <tr>\n",
       "      <th>7</th>\n",
       "      <td>7</td>\n",
       "      <td>*** SHOCK AT DOOR-2 (UNI) D</td>\n",
       "    </tr>\n",
       "    <tr>\n",
       "      <th>8</th>\n",
       "      <td>8</td>\n",
       "      <td>*** TEA WITH MUSSOLINI D</td>\n",
       "    </tr>\n",
       "    <tr>\n",
       "      <th>9</th>\n",
       "      <td>9</td>\n",
       "      <td>*** SHUGARLEND EXPRESS (UNI) D</td>\n",
       "    </tr>\n",
       "  </tbody>\n",
       "</table>\n",
       "</div>"
      ],
      "text/plain": [
       "   item_id                               item_name_translated\n",
       "0        0             !! IN THE POWER OF HAPPINESS (PLAST) D\n",
       "1        1  ! ABBYY FineReader 12 Professional Edition Ful...\n",
       "2        2              *** IN THE GLORY OF THE GLORY (UNV) D\n",
       "3        3                             *** BLUE WAVE (Univ) D\n",
       "4        4                                  *** BOX (GLASS) D\n",
       "5        5                  *** NEW AMERICAN GRAPHICS (UNI) D\n",
       "6        6                     *** BLOCK ON THE GATES (UNI) D\n",
       "7        7                        *** SHOCK AT DOOR-2 (UNI) D\n",
       "8        8                           *** TEA WITH MUSSOLINI D\n",
       "9        9                     *** SHUGARLEND EXPRESS (UNI) D"
      ]
     },
     "execution_count": 20,
     "metadata": {},
     "output_type": "execute_result"
    }
   ],
   "source": [
    "items[:10]"
   ]
  },
  {
   "cell_type": "code",
   "execution_count": 21,
   "id": "loaded-marks",
   "metadata": {
    "ExecuteTime": {
     "end_time": "2021-02-04T23:38:04.414260Z",
     "start_time": "2021-02-04T23:38:04.409336Z"
    }
   },
   "outputs": [],
   "source": [
    "items.columns = [\"item_id\", \"item_name\"]"
   ]
  },
  {
   "cell_type": "code",
   "execution_count": 22,
   "id": "national-fusion",
   "metadata": {
    "ExecuteTime": {
     "end_time": "2021-02-04T23:38:05.229741Z",
     "start_time": "2021-02-04T23:38:05.210165Z"
    }
   },
   "outputs": [
    {
     "data": {
      "text/html": [
       "<div>\n",
       "<style scoped>\n",
       "    .dataframe tbody tr th:only-of-type {\n",
       "        vertical-align: middle;\n",
       "    }\n",
       "\n",
       "    .dataframe tbody tr th {\n",
       "        vertical-align: top;\n",
       "    }\n",
       "\n",
       "    .dataframe thead th {\n",
       "        text-align: right;\n",
       "    }\n",
       "</style>\n",
       "<table border=\"1\" class=\"dataframe\">\n",
       "  <thead>\n",
       "    <tr style=\"text-align: right;\">\n",
       "      <th></th>\n",
       "      <th>item_id</th>\n",
       "      <th>item_name</th>\n",
       "    </tr>\n",
       "  </thead>\n",
       "  <tbody>\n",
       "    <tr>\n",
       "      <th>0</th>\n",
       "      <td>0</td>\n",
       "      <td>!! IN THE POWER OF HAPPINESS (PLAST) D</td>\n",
       "    </tr>\n",
       "    <tr>\n",
       "      <th>1</th>\n",
       "      <td>1</td>\n",
       "      <td>! ABBYY FineReader 12 Professional Edition Ful...</td>\n",
       "    </tr>\n",
       "    <tr>\n",
       "      <th>2</th>\n",
       "      <td>2</td>\n",
       "      <td>*** IN THE GLORY OF THE GLORY (UNV) D</td>\n",
       "    </tr>\n",
       "    <tr>\n",
       "      <th>3</th>\n",
       "      <td>3</td>\n",
       "      <td>*** BLUE WAVE (Univ) D</td>\n",
       "    </tr>\n",
       "    <tr>\n",
       "      <th>4</th>\n",
       "      <td>4</td>\n",
       "      <td>*** BOX (GLASS) D</td>\n",
       "    </tr>\n",
       "    <tr>\n",
       "      <th>...</th>\n",
       "      <td>...</td>\n",
       "      <td>...</td>\n",
       "    </tr>\n",
       "    <tr>\n",
       "      <th>22165</th>\n",
       "      <td>22165</td>\n",
       "      <td>Nuclear Titbit 2 [PC, Digital Version]</td>\n",
       "    </tr>\n",
       "    <tr>\n",
       "      <th>22166</th>\n",
       "      <td>22166</td>\n",
       "      <td>Query language 1C: Enterprise [Digital version]</td>\n",
       "    </tr>\n",
       "    <tr>\n",
       "      <th>22167</th>\n",
       "      <td>22167</td>\n",
       "      <td>The query language is 1C: Enterprise 8 (+ CD)....</td>\n",
       "    </tr>\n",
       "    <tr>\n",
       "      <th>22168</th>\n",
       "      <td>22168</td>\n",
       "      <td>Egg for Little Inu</td>\n",
       "    </tr>\n",
       "    <tr>\n",
       "      <th>22169</th>\n",
       "      <td>22169</td>\n",
       "      <td>Egg of the Dragon (Game of Thrones)</td>\n",
       "    </tr>\n",
       "  </tbody>\n",
       "</table>\n",
       "<p>22170 rows × 2 columns</p>\n",
       "</div>"
      ],
      "text/plain": [
       "       item_id                                          item_name\n",
       "0            0             !! IN THE POWER OF HAPPINESS (PLAST) D\n",
       "1            1  ! ABBYY FineReader 12 Professional Edition Ful...\n",
       "2            2              *** IN THE GLORY OF THE GLORY (UNV) D\n",
       "3            3                             *** BLUE WAVE (Univ) D\n",
       "4            4                                  *** BOX (GLASS) D\n",
       "...        ...                                                ...\n",
       "22165    22165             Nuclear Titbit 2 [PC, Digital Version]\n",
       "22166    22166    Query language 1C: Enterprise [Digital version]\n",
       "22167    22167  The query language is 1C: Enterprise 8 (+ CD)....\n",
       "22168    22168                                 Egg for Little Inu\n",
       "22169    22169                Egg of the Dragon (Game of Thrones)\n",
       "\n",
       "[22170 rows x 2 columns]"
      ]
     },
     "execution_count": 22,
     "metadata": {},
     "output_type": "execute_result"
    }
   ],
   "source": [
    "items"
   ]
  },
  {
   "cell_type": "code",
   "execution_count": 23,
   "id": "framed-chancellor",
   "metadata": {
    "ExecuteTime": {
     "end_time": "2021-02-04T23:38:06.037772Z",
     "start_time": "2021-02-04T23:38:06.027944Z"
    }
   },
   "outputs": [
    {
     "data": {
      "text/plain": [
       "item_id      0.0\n",
       "item_name    0.0\n",
       "dtype: float64"
      ]
     },
     "execution_count": 23,
     "metadata": {},
     "output_type": "execute_result"
    }
   ],
   "source": [
    "items.isnull().sum()/len(items)"
   ]
  },
  {
   "cell_type": "code",
   "execution_count": 24,
   "id": "cellular-latest",
   "metadata": {
    "ExecuteTime": {
     "end_time": "2021-02-04T23:38:06.819637Z",
     "start_time": "2021-02-04T23:38:06.778279Z"
    }
   },
   "outputs": [
    {
     "data": {
      "text/html": [
       "<div>\n",
       "<style scoped>\n",
       "    .dataframe tbody tr th:only-of-type {\n",
       "        vertical-align: middle;\n",
       "    }\n",
       "\n",
       "    .dataframe tbody tr th {\n",
       "        vertical-align: top;\n",
       "    }\n",
       "\n",
       "    .dataframe thead th {\n",
       "        text-align: right;\n",
       "    }\n",
       "</style>\n",
       "<table border=\"1\" class=\"dataframe\">\n",
       "  <thead>\n",
       "    <tr style=\"text-align: right;\">\n",
       "      <th></th>\n",
       "      <th>date</th>\n",
       "      <th>date_block_num</th>\n",
       "      <th>shop_id</th>\n",
       "      <th>item_id</th>\n",
       "      <th>item_price</th>\n",
       "      <th>item_cnt_day</th>\n",
       "    </tr>\n",
       "  </thead>\n",
       "  <tbody>\n",
       "    <tr>\n",
       "      <th>0</th>\n",
       "      <td>02.01.2013</td>\n",
       "      <td>0</td>\n",
       "      <td>59</td>\n",
       "      <td>22154</td>\n",
       "      <td>999.00</td>\n",
       "      <td>1.0</td>\n",
       "    </tr>\n",
       "    <tr>\n",
       "      <th>1</th>\n",
       "      <td>03.01.2013</td>\n",
       "      <td>0</td>\n",
       "      <td>25</td>\n",
       "      <td>2552</td>\n",
       "      <td>899.00</td>\n",
       "      <td>1.0</td>\n",
       "    </tr>\n",
       "    <tr>\n",
       "      <th>2</th>\n",
       "      <td>05.01.2013</td>\n",
       "      <td>0</td>\n",
       "      <td>25</td>\n",
       "      <td>2552</td>\n",
       "      <td>899.00</td>\n",
       "      <td>-1.0</td>\n",
       "    </tr>\n",
       "    <tr>\n",
       "      <th>3</th>\n",
       "      <td>06.01.2013</td>\n",
       "      <td>0</td>\n",
       "      <td>25</td>\n",
       "      <td>2554</td>\n",
       "      <td>1709.05</td>\n",
       "      <td>1.0</td>\n",
       "    </tr>\n",
       "    <tr>\n",
       "      <th>4</th>\n",
       "      <td>15.01.2013</td>\n",
       "      <td>0</td>\n",
       "      <td>25</td>\n",
       "      <td>2555</td>\n",
       "      <td>1099.00</td>\n",
       "      <td>1.0</td>\n",
       "    </tr>\n",
       "    <tr>\n",
       "      <th>...</th>\n",
       "      <td>...</td>\n",
       "      <td>...</td>\n",
       "      <td>...</td>\n",
       "      <td>...</td>\n",
       "      <td>...</td>\n",
       "      <td>...</td>\n",
       "    </tr>\n",
       "    <tr>\n",
       "      <th>2935844</th>\n",
       "      <td>10.10.2015</td>\n",
       "      <td>33</td>\n",
       "      <td>25</td>\n",
       "      <td>7409</td>\n",
       "      <td>299.00</td>\n",
       "      <td>1.0</td>\n",
       "    </tr>\n",
       "    <tr>\n",
       "      <th>2935845</th>\n",
       "      <td>09.10.2015</td>\n",
       "      <td>33</td>\n",
       "      <td>25</td>\n",
       "      <td>7460</td>\n",
       "      <td>299.00</td>\n",
       "      <td>1.0</td>\n",
       "    </tr>\n",
       "    <tr>\n",
       "      <th>2935846</th>\n",
       "      <td>14.10.2015</td>\n",
       "      <td>33</td>\n",
       "      <td>25</td>\n",
       "      <td>7459</td>\n",
       "      <td>349.00</td>\n",
       "      <td>1.0</td>\n",
       "    </tr>\n",
       "    <tr>\n",
       "      <th>2935847</th>\n",
       "      <td>22.10.2015</td>\n",
       "      <td>33</td>\n",
       "      <td>25</td>\n",
       "      <td>7440</td>\n",
       "      <td>299.00</td>\n",
       "      <td>1.0</td>\n",
       "    </tr>\n",
       "    <tr>\n",
       "      <th>2935848</th>\n",
       "      <td>03.10.2015</td>\n",
       "      <td>33</td>\n",
       "      <td>25</td>\n",
       "      <td>7460</td>\n",
       "      <td>299.00</td>\n",
       "      <td>1.0</td>\n",
       "    </tr>\n",
       "  </tbody>\n",
       "</table>\n",
       "<p>2935849 rows × 6 columns</p>\n",
       "</div>"
      ],
      "text/plain": [
       "               date  date_block_num  shop_id  item_id  item_price  \\\n",
       "0        02.01.2013               0       59    22154      999.00   \n",
       "1        03.01.2013               0       25     2552      899.00   \n",
       "2        05.01.2013               0       25     2552      899.00   \n",
       "3        06.01.2013               0       25     2554     1709.05   \n",
       "4        15.01.2013               0       25     2555     1099.00   \n",
       "...             ...             ...      ...      ...         ...   \n",
       "2935844  10.10.2015              33       25     7409      299.00   \n",
       "2935845  09.10.2015              33       25     7460      299.00   \n",
       "2935846  14.10.2015              33       25     7459      349.00   \n",
       "2935847  22.10.2015              33       25     7440      299.00   \n",
       "2935848  03.10.2015              33       25     7460      299.00   \n",
       "\n",
       "         item_cnt_day  \n",
       "0                 1.0  \n",
       "1                 1.0  \n",
       "2                -1.0  \n",
       "3                 1.0  \n",
       "4                 1.0  \n",
       "...               ...  \n",
       "2935844           1.0  \n",
       "2935845           1.0  \n",
       "2935846           1.0  \n",
       "2935847           1.0  \n",
       "2935848           1.0  \n",
       "\n",
       "[2935849 rows x 6 columns]"
      ]
     },
     "execution_count": 24,
     "metadata": {},
     "output_type": "execute_result"
    }
   ],
   "source": [
    "train"
   ]
  },
  {
   "cell_type": "code",
   "execution_count": 25,
   "id": "incoming-berlin",
   "metadata": {
    "ExecuteTime": {
     "end_time": "2021-02-04T23:38:08.012764Z",
     "start_time": "2021-02-04T23:38:07.472552Z"
    }
   },
   "outputs": [],
   "source": [
    "T1 = pd.merge(train, items, on=\"item_id\", how='right')"
   ]
  },
  {
   "cell_type": "code",
   "execution_count": 26,
   "id": "velvet-seeker",
   "metadata": {
    "ExecuteTime": {
     "end_time": "2021-02-04T23:38:08.486050Z",
     "start_time": "2021-02-04T23:38:08.236107Z"
    }
   },
   "outputs": [
    {
     "data": {
      "text/plain": [
       "date              363\n",
       "date_block_num    363\n",
       "shop_id           363\n",
       "item_id             0\n",
       "item_price        363\n",
       "item_cnt_day      363\n",
       "item_name           0\n",
       "dtype: int64"
      ]
     },
     "execution_count": 26,
     "metadata": {},
     "output_type": "execute_result"
    }
   ],
   "source": [
    "T1.isnull().sum()"
   ]
  },
  {
   "cell_type": "code",
   "execution_count": 27,
   "id": "composed-proportion",
   "metadata": {
    "ExecuteTime": {
     "end_time": "2021-02-04T23:38:09.470519Z",
     "start_time": "2021-02-04T23:38:09.450354Z"
    }
   },
   "outputs": [],
   "source": [
    "T1[\"shop_id\"] = T1[\"shop_id\"].fillna(0)"
   ]
  },
  {
   "cell_type": "code",
   "execution_count": 28,
   "id": "trained-bobby",
   "metadata": {
    "ExecuteTime": {
     "end_time": "2021-02-04T23:38:10.383453Z",
     "start_time": "2021-02-04T23:38:10.368900Z"
    }
   },
   "outputs": [
    {
     "data": {
      "text/plain": [
       "0          54\n",
       "1          55\n",
       "2          55\n",
       "3          55\n",
       "4          55\n",
       "           ..\n",
       "2936207    42\n",
       "2936208    16\n",
       "2936209    43\n",
       "2936210    12\n",
       "2936211    25\n",
       "Name: shop_id, Length: 2936212, dtype: int64"
      ]
     },
     "execution_count": 28,
     "metadata": {},
     "output_type": "execute_result"
    }
   ],
   "source": [
    "T1[\"shop_id\"].astype(int)"
   ]
  },
  {
   "cell_type": "code",
   "execution_count": 29,
   "id": "differential-shower",
   "metadata": {
    "ExecuteTime": {
     "end_time": "2021-02-04T23:38:11.988319Z",
     "start_time": "2021-02-04T23:38:11.186906Z"
    }
   },
   "outputs": [],
   "source": [
    "train = pd.merge(T1, shops, on='shop_id', how='outer')"
   ]
  },
  {
   "cell_type": "code",
   "execution_count": 30,
   "id": "muslim-obligation",
   "metadata": {
    "ExecuteTime": {
     "end_time": "2021-02-04T23:38:12.626340Z",
     "start_time": "2021-02-04T23:38:12.599573Z"
    }
   },
   "outputs": [
    {
     "data": {
      "text/html": [
       "<div>\n",
       "<style scoped>\n",
       "    .dataframe tbody tr th:only-of-type {\n",
       "        vertical-align: middle;\n",
       "    }\n",
       "\n",
       "    .dataframe tbody tr th {\n",
       "        vertical-align: top;\n",
       "    }\n",
       "\n",
       "    .dataframe thead th {\n",
       "        text-align: right;\n",
       "    }\n",
       "</style>\n",
       "<table border=\"1\" class=\"dataframe\">\n",
       "  <thead>\n",
       "    <tr style=\"text-align: right;\">\n",
       "      <th></th>\n",
       "      <th>date</th>\n",
       "      <th>date_block_num</th>\n",
       "      <th>shop_id</th>\n",
       "      <th>item_id</th>\n",
       "      <th>item_price</th>\n",
       "      <th>item_cnt_day</th>\n",
       "      <th>item_name</th>\n",
       "      <th>shop_name</th>\n",
       "    </tr>\n",
       "  </thead>\n",
       "  <tbody>\n",
       "    <tr>\n",
       "      <th>0</th>\n",
       "      <td>01.09.2014</td>\n",
       "      <td>20.0</td>\n",
       "      <td>54.0</td>\n",
       "      <td>0</td>\n",
       "      <td>58.000000</td>\n",
       "      <td>1.0</td>\n",
       "      <td>!! IN THE POWER OF HAPPINESS (PLAST) D</td>\n",
       "      <td>\"Khimki ТЦ \"\"Mega\"\"\"</td>\n",
       "    </tr>\n",
       "    <tr>\n",
       "      <th>1</th>\n",
       "      <td>24.08.2014</td>\n",
       "      <td>19.0</td>\n",
       "      <td>54.0</td>\n",
       "      <td>2</td>\n",
       "      <td>58.000000</td>\n",
       "      <td>1.0</td>\n",
       "      <td>*** IN THE GLORY OF THE GLORY (UNV) D</td>\n",
       "      <td>\"Khimki ТЦ \"\"Mega\"\"\"</td>\n",
       "    </tr>\n",
       "    <tr>\n",
       "      <th>2</th>\n",
       "      <td>12.11.2014</td>\n",
       "      <td>22.0</td>\n",
       "      <td>54.0</td>\n",
       "      <td>2</td>\n",
       "      <td>58.000000</td>\n",
       "      <td>1.0</td>\n",
       "      <td>*** IN THE GLORY OF THE GLORY (UNV) D</td>\n",
       "      <td>\"Khimki ТЦ \"\"Mega\"\"\"</td>\n",
       "    </tr>\n",
       "    <tr>\n",
       "      <th>3</th>\n",
       "      <td>05.07.2014</td>\n",
       "      <td>18.0</td>\n",
       "      <td>54.0</td>\n",
       "      <td>3</td>\n",
       "      <td>100.000000</td>\n",
       "      <td>1.0</td>\n",
       "      <td>*** BLUE WAVE (Univ) D</td>\n",
       "      <td>\"Khimki ТЦ \"\"Mega\"\"\"</td>\n",
       "    </tr>\n",
       "    <tr>\n",
       "      <th>4</th>\n",
       "      <td>26.08.2014</td>\n",
       "      <td>19.0</td>\n",
       "      <td>54.0</td>\n",
       "      <td>3</td>\n",
       "      <td>58.000000</td>\n",
       "      <td>1.0</td>\n",
       "      <td>*** BLUE WAVE (Univ) D</td>\n",
       "      <td>\"Khimki ТЦ \"\"Mega\"\"\"</td>\n",
       "    </tr>\n",
       "    <tr>\n",
       "      <th>...</th>\n",
       "      <td>...</td>\n",
       "      <td>...</td>\n",
       "      <td>...</td>\n",
       "      <td>...</td>\n",
       "      <td>...</td>\n",
       "      <td>...</td>\n",
       "      <td>...</td>\n",
       "      <td>...</td>\n",
       "    </tr>\n",
       "    <tr>\n",
       "      <th>2936207</th>\n",
       "      <td>02.10.2015</td>\n",
       "      <td>33.0</td>\n",
       "      <td>20.0</td>\n",
       "      <td>22101</td>\n",
       "      <td>1350.000000</td>\n",
       "      <td>1.0</td>\n",
       "      <td>Encyclopedia Dragon Age World of Tedas Volume 1</td>\n",
       "      <td>\"Moscow \"\"Sale\"\"\"</td>\n",
       "    </tr>\n",
       "    <tr>\n",
       "      <th>2936208</th>\n",
       "      <td>01.10.2015</td>\n",
       "      <td>33.0</td>\n",
       "      <td>20.0</td>\n",
       "      <td>22102</td>\n",
       "      <td>1250.000000</td>\n",
       "      <td>3.0</td>\n",
       "      <td>Encyclopedia World of the Witcher</td>\n",
       "      <td>\"Moscow \"\"Sale\"\"\"</td>\n",
       "    </tr>\n",
       "    <tr>\n",
       "      <th>2936209</th>\n",
       "      <td>02.10.2015</td>\n",
       "      <td>33.0</td>\n",
       "      <td>20.0</td>\n",
       "      <td>22102</td>\n",
       "      <td>1249.983333</td>\n",
       "      <td>12.0</td>\n",
       "      <td>Encyclopedia World of the Witcher</td>\n",
       "      <td>\"Moscow \"\"Sale\"\"\"</td>\n",
       "    </tr>\n",
       "    <tr>\n",
       "      <th>2936210</th>\n",
       "      <td>03.10.2015</td>\n",
       "      <td>33.0</td>\n",
       "      <td>20.0</td>\n",
       "      <td>22102</td>\n",
       "      <td>1250.000000</td>\n",
       "      <td>12.0</td>\n",
       "      <td>Encyclopedia World of the Witcher</td>\n",
       "      <td>\"Moscow \"\"Sale\"\"\"</td>\n",
       "    </tr>\n",
       "    <tr>\n",
       "      <th>2936211</th>\n",
       "      <td>04.10.2015</td>\n",
       "      <td>33.0</td>\n",
       "      <td>20.0</td>\n",
       "      <td>22102</td>\n",
       "      <td>1249.966667</td>\n",
       "      <td>6.0</td>\n",
       "      <td>Encyclopedia World of the Witcher</td>\n",
       "      <td>\"Moscow \"\"Sale\"\"\"</td>\n",
       "    </tr>\n",
       "  </tbody>\n",
       "</table>\n",
       "<p>2936212 rows × 8 columns</p>\n",
       "</div>"
      ],
      "text/plain": [
       "               date  date_block_num  shop_id  item_id   item_price  \\\n",
       "0        01.09.2014            20.0     54.0        0    58.000000   \n",
       "1        24.08.2014            19.0     54.0        2    58.000000   \n",
       "2        12.11.2014            22.0     54.0        2    58.000000   \n",
       "3        05.07.2014            18.0     54.0        3   100.000000   \n",
       "4        26.08.2014            19.0     54.0        3    58.000000   \n",
       "...             ...             ...      ...      ...          ...   \n",
       "2936207  02.10.2015            33.0     20.0    22101  1350.000000   \n",
       "2936208  01.10.2015            33.0     20.0    22102  1250.000000   \n",
       "2936209  02.10.2015            33.0     20.0    22102  1249.983333   \n",
       "2936210  03.10.2015            33.0     20.0    22102  1250.000000   \n",
       "2936211  04.10.2015            33.0     20.0    22102  1249.966667   \n",
       "\n",
       "         item_cnt_day                                        item_name  \\\n",
       "0                 1.0           !! IN THE POWER OF HAPPINESS (PLAST) D   \n",
       "1                 1.0            *** IN THE GLORY OF THE GLORY (UNV) D   \n",
       "2                 1.0            *** IN THE GLORY OF THE GLORY (UNV) D   \n",
       "3                 1.0                           *** BLUE WAVE (Univ) D   \n",
       "4                 1.0                           *** BLUE WAVE (Univ) D   \n",
       "...               ...                                              ...   \n",
       "2936207           1.0  Encyclopedia Dragon Age World of Tedas Volume 1   \n",
       "2936208           3.0                Encyclopedia World of the Witcher   \n",
       "2936209          12.0                Encyclopedia World of the Witcher   \n",
       "2936210          12.0                Encyclopedia World of the Witcher   \n",
       "2936211           6.0                Encyclopedia World of the Witcher   \n",
       "\n",
       "                    shop_name  \n",
       "0        \"Khimki ТЦ \"\"Mega\"\"\"  \n",
       "1        \"Khimki ТЦ \"\"Mega\"\"\"  \n",
       "2        \"Khimki ТЦ \"\"Mega\"\"\"  \n",
       "3        \"Khimki ТЦ \"\"Mega\"\"\"  \n",
       "4        \"Khimki ТЦ \"\"Mega\"\"\"  \n",
       "...                       ...  \n",
       "2936207     \"Moscow \"\"Sale\"\"\"  \n",
       "2936208     \"Moscow \"\"Sale\"\"\"  \n",
       "2936209     \"Moscow \"\"Sale\"\"\"  \n",
       "2936210     \"Moscow \"\"Sale\"\"\"  \n",
       "2936211     \"Moscow \"\"Sale\"\"\"  \n",
       "\n",
       "[2936212 rows x 8 columns]"
      ]
     },
     "execution_count": 30,
     "metadata": {},
     "output_type": "execute_result"
    }
   ],
   "source": [
    "train"
   ]
  },
  {
   "cell_type": "code",
   "execution_count": 31,
   "id": "numerical-agency",
   "metadata": {
    "ExecuteTime": {
     "end_time": "2021-02-04T23:38:13.554930Z",
     "start_time": "2021-02-04T23:38:13.550418Z"
    }
   },
   "outputs": [],
   "source": [
    "item_categories[\"item_category_id\"] = item_categories[\"item_category_id\"].astype(float)"
   ]
  },
  {
   "cell_type": "code",
   "execution_count": 32,
   "id": "genetic-current",
   "metadata": {
    "ExecuteTime": {
     "end_time": "2021-02-04T23:38:14.449160Z",
     "start_time": "2021-02-04T23:38:14.435243Z"
    }
   },
   "outputs": [],
   "source": [
    "items_russian[\"item_category_id\"] = items_russian[\"item_category_id\"].astype(float)"
   ]
  },
  {
   "cell_type": "code",
   "execution_count": 33,
   "id": "broadband-lesbian",
   "metadata": {
    "ExecuteTime": {
     "end_time": "2021-02-04T23:38:15.689944Z",
     "start_time": "2021-02-04T23:38:15.213084Z"
    }
   },
   "outputs": [],
   "source": [
    "T1 = pd.merge(train, items_russian, on='item_id', how='outer')"
   ]
  },
  {
   "cell_type": "code",
   "execution_count": 34,
   "id": "advanced-sustainability",
   "metadata": {
    "ExecuteTime": {
     "end_time": "2021-02-04T23:38:17.021666Z",
     "start_time": "2021-02-04T23:38:16.269121Z"
    }
   },
   "outputs": [],
   "source": [
    "T2 = pd.merge(T1, item_categories, on='item_category_id', how='outer')"
   ]
  },
  {
   "cell_type": "code",
   "execution_count": 35,
   "id": "forced-repeat",
   "metadata": {
    "ExecuteTime": {
     "end_time": "2021-02-04T23:38:18.015570Z",
     "start_time": "2021-02-04T23:38:17.538070Z"
    }
   },
   "outputs": [],
   "source": [
    "train = T2.drop(\"item_name_y\", axis=1)"
   ]
  },
  {
   "cell_type": "code",
   "execution_count": 36,
   "id": "agricultural-painting",
   "metadata": {
    "ExecuteTime": {
     "end_time": "2021-02-04T23:38:18.736815Z",
     "start_time": "2021-02-04T23:38:18.731140Z"
    }
   },
   "outputs": [],
   "source": [
    "train.columns = [\"date\", \"date_block\", \"shop_id\", \"item_id\", \"item_price\", \"item_count_day\", \"item_name\", \"shop_name\", \"item_category_id\", \"item_category_name\"]"
   ]
  },
  {
   "cell_type": "code",
   "execution_count": 37,
   "id": "loved-tobacco",
   "metadata": {
    "ExecuteTime": {
     "end_time": "2021-02-04T23:38:20.938929Z",
     "start_time": "2021-02-04T23:38:20.906528Z"
    }
   },
   "outputs": [
    {
     "data": {
      "text/html": [
       "<div>\n",
       "<style scoped>\n",
       "    .dataframe tbody tr th:only-of-type {\n",
       "        vertical-align: middle;\n",
       "    }\n",
       "\n",
       "    .dataframe tbody tr th {\n",
       "        vertical-align: top;\n",
       "    }\n",
       "\n",
       "    .dataframe thead th {\n",
       "        text-align: right;\n",
       "    }\n",
       "</style>\n",
       "<table border=\"1\" class=\"dataframe\">\n",
       "  <thead>\n",
       "    <tr style=\"text-align: right;\">\n",
       "      <th></th>\n",
       "      <th>date</th>\n",
       "      <th>date_block</th>\n",
       "      <th>shop_id</th>\n",
       "      <th>item_id</th>\n",
       "      <th>item_price</th>\n",
       "      <th>item_count_day</th>\n",
       "      <th>item_name</th>\n",
       "      <th>shop_name</th>\n",
       "      <th>item_category_id</th>\n",
       "      <th>item_category_name</th>\n",
       "    </tr>\n",
       "  </thead>\n",
       "  <tbody>\n",
       "    <tr>\n",
       "      <th>0</th>\n",
       "      <td>01.09.2014</td>\n",
       "      <td>20.0</td>\n",
       "      <td>54.0</td>\n",
       "      <td>0</td>\n",
       "      <td>58.0</td>\n",
       "      <td>1.0</td>\n",
       "      <td>!! IN THE POWER OF HAPPINESS (PLAST) D</td>\n",
       "      <td>\"Khimki ТЦ \"\"Mega\"\"\"</td>\n",
       "      <td>40.0</td>\n",
       "      <td>Cinema - DVD</td>\n",
       "    </tr>\n",
       "    <tr>\n",
       "      <th>1</th>\n",
       "      <td>24.08.2014</td>\n",
       "      <td>19.0</td>\n",
       "      <td>54.0</td>\n",
       "      <td>2</td>\n",
       "      <td>58.0</td>\n",
       "      <td>1.0</td>\n",
       "      <td>*** IN THE GLORY OF THE GLORY (UNV) D</td>\n",
       "      <td>\"Khimki ТЦ \"\"Mega\"\"\"</td>\n",
       "      <td>40.0</td>\n",
       "      <td>Cinema - DVD</td>\n",
       "    </tr>\n",
       "    <tr>\n",
       "      <th>2</th>\n",
       "      <td>12.11.2014</td>\n",
       "      <td>22.0</td>\n",
       "      <td>54.0</td>\n",
       "      <td>2</td>\n",
       "      <td>58.0</td>\n",
       "      <td>1.0</td>\n",
       "      <td>*** IN THE GLORY OF THE GLORY (UNV) D</td>\n",
       "      <td>\"Khimki ТЦ \"\"Mega\"\"\"</td>\n",
       "      <td>40.0</td>\n",
       "      <td>Cinema - DVD</td>\n",
       "    </tr>\n",
       "    <tr>\n",
       "      <th>3</th>\n",
       "      <td>05.07.2014</td>\n",
       "      <td>18.0</td>\n",
       "      <td>54.0</td>\n",
       "      <td>3</td>\n",
       "      <td>100.0</td>\n",
       "      <td>1.0</td>\n",
       "      <td>*** BLUE WAVE (Univ) D</td>\n",
       "      <td>\"Khimki ТЦ \"\"Mega\"\"\"</td>\n",
       "      <td>40.0</td>\n",
       "      <td>Cinema - DVD</td>\n",
       "    </tr>\n",
       "    <tr>\n",
       "      <th>4</th>\n",
       "      <td>26.08.2014</td>\n",
       "      <td>19.0</td>\n",
       "      <td>54.0</td>\n",
       "      <td>3</td>\n",
       "      <td>58.0</td>\n",
       "      <td>1.0</td>\n",
       "      <td>*** BLUE WAVE (Univ) D</td>\n",
       "      <td>\"Khimki ТЦ \"\"Mega\"\"\"</td>\n",
       "      <td>40.0</td>\n",
       "      <td>Cinema - DVD</td>\n",
       "    </tr>\n",
       "    <tr>\n",
       "      <th>...</th>\n",
       "      <td>...</td>\n",
       "      <td>...</td>\n",
       "      <td>...</td>\n",
       "      <td>...</td>\n",
       "      <td>...</td>\n",
       "      <td>...</td>\n",
       "      <td>...</td>\n",
       "      <td>...</td>\n",
       "      <td>...</td>\n",
       "      <td>...</td>\n",
       "    </tr>\n",
       "    <tr>\n",
       "      <th>2936207</th>\n",
       "      <td>06.05.2013</td>\n",
       "      <td>4.0</td>\n",
       "      <td>4.0</td>\n",
       "      <td>22110</td>\n",
       "      <td>100.0</td>\n",
       "      <td>1.0</td>\n",
       "      <td>Southeast Asia Shanin VA</td>\n",
       "      <td>\"Volzhsky shopping center \"\"Volga Mall\"\"\"</td>\n",
       "      <td>52.0</td>\n",
       "      <td>Книги - Путеводители</td>\n",
       "    </tr>\n",
       "    <tr>\n",
       "      <th>2936208</th>\n",
       "      <td>26.12.2013</td>\n",
       "      <td>11.0</td>\n",
       "      <td>6.0</td>\n",
       "      <td>19700</td>\n",
       "      <td>299.0</td>\n",
       "      <td>1.0</td>\n",
       "      <td>TOLSTAY E. Admiral</td>\n",
       "      <td>\"Voronezh (Plekhanovskaya</td>\n",
       "      <td>53.0</td>\n",
       "      <td>Books - Fiction</td>\n",
       "    </tr>\n",
       "    <tr>\n",
       "      <th>2936209</th>\n",
       "      <td>15.10.2013</td>\n",
       "      <td>9.0</td>\n",
       "      <td>46.0</td>\n",
       "      <td>20273</td>\n",
       "      <td>199.0</td>\n",
       "      <td>1.0</td>\n",
       "      <td>FILATOV LA About Fedot-Sagittarius, a striking...</td>\n",
       "      <td>\"Sergiev Posad TC \"\"7YA\"\"\"</td>\n",
       "      <td>53.0</td>\n",
       "      <td>Books - Fiction</td>\n",
       "    </tr>\n",
       "    <tr>\n",
       "      <th>2936210</th>\n",
       "      <td>23.02.2014</td>\n",
       "      <td>13.0</td>\n",
       "      <td>42.0</td>\n",
       "      <td>19701</td>\n",
       "      <td>349.0</td>\n",
       "      <td>1.0</td>\n",
       "      <td>TOLSTAYA E. Admiral + SD</td>\n",
       "      <td>\"SPb TC \"\"Nevsky Center\"\"\"</td>\n",
       "      <td>53.0</td>\n",
       "      <td>Books - Fiction</td>\n",
       "    </tr>\n",
       "    <tr>\n",
       "      <th>2936211</th>\n",
       "      <td>20.07.2014</td>\n",
       "      <td>18.0</td>\n",
       "      <td>38.0</td>\n",
       "      <td>17703</td>\n",
       "      <td>129.0</td>\n",
       "      <td>1.0</td>\n",
       "      <td>Traffic rules 2009. The newest method of train...</td>\n",
       "      <td>\"Omsk TC \"\"Mega\"\"\"</td>\n",
       "      <td>51.0</td>\n",
       "      <td>Books - Cognitive Literature</td>\n",
       "    </tr>\n",
       "  </tbody>\n",
       "</table>\n",
       "<p>2936212 rows × 10 columns</p>\n",
       "</div>"
      ],
      "text/plain": [
       "               date  date_block  shop_id  item_id  item_price  item_count_day  \\\n",
       "0        01.09.2014        20.0     54.0        0        58.0             1.0   \n",
       "1        24.08.2014        19.0     54.0        2        58.0             1.0   \n",
       "2        12.11.2014        22.0     54.0        2        58.0             1.0   \n",
       "3        05.07.2014        18.0     54.0        3       100.0             1.0   \n",
       "4        26.08.2014        19.0     54.0        3        58.0             1.0   \n",
       "...             ...         ...      ...      ...         ...             ...   \n",
       "2936207  06.05.2013         4.0      4.0    22110       100.0             1.0   \n",
       "2936208  26.12.2013        11.0      6.0    19700       299.0             1.0   \n",
       "2936209  15.10.2013         9.0     46.0    20273       199.0             1.0   \n",
       "2936210  23.02.2014        13.0     42.0    19701       349.0             1.0   \n",
       "2936211  20.07.2014        18.0     38.0    17703       129.0             1.0   \n",
       "\n",
       "                                                 item_name  \\\n",
       "0                   !! IN THE POWER OF HAPPINESS (PLAST) D   \n",
       "1                    *** IN THE GLORY OF THE GLORY (UNV) D   \n",
       "2                    *** IN THE GLORY OF THE GLORY (UNV) D   \n",
       "3                                   *** BLUE WAVE (Univ) D   \n",
       "4                                   *** BLUE WAVE (Univ) D   \n",
       "...                                                    ...   \n",
       "2936207                           Southeast Asia Shanin VA   \n",
       "2936208                                 TOLSTAY E. Admiral   \n",
       "2936209  FILATOV LA About Fedot-Sagittarius, a striking...   \n",
       "2936210                           TOLSTAYA E. Admiral + SD   \n",
       "2936211  Traffic rules 2009. The newest method of train...   \n",
       "\n",
       "                                         shop_name  item_category_id  \\\n",
       "0                             \"Khimki ТЦ \"\"Mega\"\"\"              40.0   \n",
       "1                             \"Khimki ТЦ \"\"Mega\"\"\"              40.0   \n",
       "2                             \"Khimki ТЦ \"\"Mega\"\"\"              40.0   \n",
       "3                             \"Khimki ТЦ \"\"Mega\"\"\"              40.0   \n",
       "4                             \"Khimki ТЦ \"\"Mega\"\"\"              40.0   \n",
       "...                                            ...               ...   \n",
       "2936207  \"Volzhsky shopping center \"\"Volga Mall\"\"\"              52.0   \n",
       "2936208                  \"Voronezh (Plekhanovskaya              53.0   \n",
       "2936209                 \"Sergiev Posad TC \"\"7YA\"\"\"              53.0   \n",
       "2936210                 \"SPb TC \"\"Nevsky Center\"\"\"              53.0   \n",
       "2936211                         \"Omsk TC \"\"Mega\"\"\"              51.0   \n",
       "\n",
       "                   item_category_name  \n",
       "0                        Cinema - DVD  \n",
       "1                        Cinema - DVD  \n",
       "2                        Cinema - DVD  \n",
       "3                        Cinema - DVD  \n",
       "4                        Cinema - DVD  \n",
       "...                               ...  \n",
       "2936207          Книги - Путеводители  \n",
       "2936208               Books - Fiction  \n",
       "2936209               Books - Fiction  \n",
       "2936210               Books - Fiction  \n",
       "2936211  Books - Cognitive Literature  \n",
       "\n",
       "[2936212 rows x 10 columns]"
      ]
     },
     "execution_count": 37,
     "metadata": {},
     "output_type": "execute_result"
    }
   ],
   "source": [
    "train"
   ]
  },
  {
   "cell_type": "code",
   "execution_count": 38,
   "id": "dental-harvest",
   "metadata": {
    "ExecuteTime": {
     "end_time": "2021-02-04T23:38:21.921468Z",
     "start_time": "2021-02-04T23:38:21.742470Z"
    }
   },
   "outputs": [],
   "source": [
    "train = train.reindex(columns= [\"date_block\", \"date\", \"shop_id\", \"shop_name\", \"item_category_id\", \"item_category_name\", \"item_id\", \"item_name\", \"item_price\", \"item_count_day\"])"
   ]
  },
  {
   "cell_type": "code",
   "execution_count": 39,
   "id": "japanese-communication",
   "metadata": {
    "ExecuteTime": {
     "end_time": "2021-02-04T23:38:22.731141Z",
     "start_time": "2021-02-04T23:38:22.695753Z"
    }
   },
   "outputs": [
    {
     "data": {
      "text/html": [
       "<div>\n",
       "<style scoped>\n",
       "    .dataframe tbody tr th:only-of-type {\n",
       "        vertical-align: middle;\n",
       "    }\n",
       "\n",
       "    .dataframe tbody tr th {\n",
       "        vertical-align: top;\n",
       "    }\n",
       "\n",
       "    .dataframe thead th {\n",
       "        text-align: right;\n",
       "    }\n",
       "</style>\n",
       "<table border=\"1\" class=\"dataframe\">\n",
       "  <thead>\n",
       "    <tr style=\"text-align: right;\">\n",
       "      <th></th>\n",
       "      <th>date_block</th>\n",
       "      <th>date</th>\n",
       "      <th>shop_id</th>\n",
       "      <th>shop_name</th>\n",
       "      <th>item_category_id</th>\n",
       "      <th>item_category_name</th>\n",
       "      <th>item_id</th>\n",
       "      <th>item_name</th>\n",
       "      <th>item_price</th>\n",
       "      <th>item_count_day</th>\n",
       "    </tr>\n",
       "  </thead>\n",
       "  <tbody>\n",
       "    <tr>\n",
       "      <th>0</th>\n",
       "      <td>20.0</td>\n",
       "      <td>01.09.2014</td>\n",
       "      <td>54.0</td>\n",
       "      <td>\"Khimki ТЦ \"\"Mega\"\"\"</td>\n",
       "      <td>40.0</td>\n",
       "      <td>Cinema - DVD</td>\n",
       "      <td>0</td>\n",
       "      <td>!! IN THE POWER OF HAPPINESS (PLAST) D</td>\n",
       "      <td>58.0</td>\n",
       "      <td>1.0</td>\n",
       "    </tr>\n",
       "    <tr>\n",
       "      <th>1</th>\n",
       "      <td>19.0</td>\n",
       "      <td>24.08.2014</td>\n",
       "      <td>54.0</td>\n",
       "      <td>\"Khimki ТЦ \"\"Mega\"\"\"</td>\n",
       "      <td>40.0</td>\n",
       "      <td>Cinema - DVD</td>\n",
       "      <td>2</td>\n",
       "      <td>*** IN THE GLORY OF THE GLORY (UNV) D</td>\n",
       "      <td>58.0</td>\n",
       "      <td>1.0</td>\n",
       "    </tr>\n",
       "    <tr>\n",
       "      <th>2</th>\n",
       "      <td>22.0</td>\n",
       "      <td>12.11.2014</td>\n",
       "      <td>54.0</td>\n",
       "      <td>\"Khimki ТЦ \"\"Mega\"\"\"</td>\n",
       "      <td>40.0</td>\n",
       "      <td>Cinema - DVD</td>\n",
       "      <td>2</td>\n",
       "      <td>*** IN THE GLORY OF THE GLORY (UNV) D</td>\n",
       "      <td>58.0</td>\n",
       "      <td>1.0</td>\n",
       "    </tr>\n",
       "    <tr>\n",
       "      <th>3</th>\n",
       "      <td>18.0</td>\n",
       "      <td>05.07.2014</td>\n",
       "      <td>54.0</td>\n",
       "      <td>\"Khimki ТЦ \"\"Mega\"\"\"</td>\n",
       "      <td>40.0</td>\n",
       "      <td>Cinema - DVD</td>\n",
       "      <td>3</td>\n",
       "      <td>*** BLUE WAVE (Univ) D</td>\n",
       "      <td>100.0</td>\n",
       "      <td>1.0</td>\n",
       "    </tr>\n",
       "    <tr>\n",
       "      <th>4</th>\n",
       "      <td>19.0</td>\n",
       "      <td>26.08.2014</td>\n",
       "      <td>54.0</td>\n",
       "      <td>\"Khimki ТЦ \"\"Mega\"\"\"</td>\n",
       "      <td>40.0</td>\n",
       "      <td>Cinema - DVD</td>\n",
       "      <td>3</td>\n",
       "      <td>*** BLUE WAVE (Univ) D</td>\n",
       "      <td>58.0</td>\n",
       "      <td>1.0</td>\n",
       "    </tr>\n",
       "    <tr>\n",
       "      <th>...</th>\n",
       "      <td>...</td>\n",
       "      <td>...</td>\n",
       "      <td>...</td>\n",
       "      <td>...</td>\n",
       "      <td>...</td>\n",
       "      <td>...</td>\n",
       "      <td>...</td>\n",
       "      <td>...</td>\n",
       "      <td>...</td>\n",
       "      <td>...</td>\n",
       "    </tr>\n",
       "    <tr>\n",
       "      <th>2936207</th>\n",
       "      <td>4.0</td>\n",
       "      <td>06.05.2013</td>\n",
       "      <td>4.0</td>\n",
       "      <td>\"Volzhsky shopping center \"\"Volga Mall\"\"\"</td>\n",
       "      <td>52.0</td>\n",
       "      <td>Книги - Путеводители</td>\n",
       "      <td>22110</td>\n",
       "      <td>Southeast Asia Shanin VA</td>\n",
       "      <td>100.0</td>\n",
       "      <td>1.0</td>\n",
       "    </tr>\n",
       "    <tr>\n",
       "      <th>2936208</th>\n",
       "      <td>11.0</td>\n",
       "      <td>26.12.2013</td>\n",
       "      <td>6.0</td>\n",
       "      <td>\"Voronezh (Plekhanovskaya</td>\n",
       "      <td>53.0</td>\n",
       "      <td>Books - Fiction</td>\n",
       "      <td>19700</td>\n",
       "      <td>TOLSTAY E. Admiral</td>\n",
       "      <td>299.0</td>\n",
       "      <td>1.0</td>\n",
       "    </tr>\n",
       "    <tr>\n",
       "      <th>2936209</th>\n",
       "      <td>9.0</td>\n",
       "      <td>15.10.2013</td>\n",
       "      <td>46.0</td>\n",
       "      <td>\"Sergiev Posad TC \"\"7YA\"\"\"</td>\n",
       "      <td>53.0</td>\n",
       "      <td>Books - Fiction</td>\n",
       "      <td>20273</td>\n",
       "      <td>FILATOV LA About Fedot-Sagittarius, a striking...</td>\n",
       "      <td>199.0</td>\n",
       "      <td>1.0</td>\n",
       "    </tr>\n",
       "    <tr>\n",
       "      <th>2936210</th>\n",
       "      <td>13.0</td>\n",
       "      <td>23.02.2014</td>\n",
       "      <td>42.0</td>\n",
       "      <td>\"SPb TC \"\"Nevsky Center\"\"\"</td>\n",
       "      <td>53.0</td>\n",
       "      <td>Books - Fiction</td>\n",
       "      <td>19701</td>\n",
       "      <td>TOLSTAYA E. Admiral + SD</td>\n",
       "      <td>349.0</td>\n",
       "      <td>1.0</td>\n",
       "    </tr>\n",
       "    <tr>\n",
       "      <th>2936211</th>\n",
       "      <td>18.0</td>\n",
       "      <td>20.07.2014</td>\n",
       "      <td>38.0</td>\n",
       "      <td>\"Omsk TC \"\"Mega\"\"\"</td>\n",
       "      <td>51.0</td>\n",
       "      <td>Books - Cognitive Literature</td>\n",
       "      <td>17703</td>\n",
       "      <td>Traffic rules 2009. The newest method of train...</td>\n",
       "      <td>129.0</td>\n",
       "      <td>1.0</td>\n",
       "    </tr>\n",
       "  </tbody>\n",
       "</table>\n",
       "<p>2936212 rows × 10 columns</p>\n",
       "</div>"
      ],
      "text/plain": [
       "         date_block        date  shop_id  \\\n",
       "0              20.0  01.09.2014     54.0   \n",
       "1              19.0  24.08.2014     54.0   \n",
       "2              22.0  12.11.2014     54.0   \n",
       "3              18.0  05.07.2014     54.0   \n",
       "4              19.0  26.08.2014     54.0   \n",
       "...             ...         ...      ...   \n",
       "2936207         4.0  06.05.2013      4.0   \n",
       "2936208        11.0  26.12.2013      6.0   \n",
       "2936209         9.0  15.10.2013     46.0   \n",
       "2936210        13.0  23.02.2014     42.0   \n",
       "2936211        18.0  20.07.2014     38.0   \n",
       "\n",
       "                                         shop_name  item_category_id  \\\n",
       "0                             \"Khimki ТЦ \"\"Mega\"\"\"              40.0   \n",
       "1                             \"Khimki ТЦ \"\"Mega\"\"\"              40.0   \n",
       "2                             \"Khimki ТЦ \"\"Mega\"\"\"              40.0   \n",
       "3                             \"Khimki ТЦ \"\"Mega\"\"\"              40.0   \n",
       "4                             \"Khimki ТЦ \"\"Mega\"\"\"              40.0   \n",
       "...                                            ...               ...   \n",
       "2936207  \"Volzhsky shopping center \"\"Volga Mall\"\"\"              52.0   \n",
       "2936208                  \"Voronezh (Plekhanovskaya              53.0   \n",
       "2936209                 \"Sergiev Posad TC \"\"7YA\"\"\"              53.0   \n",
       "2936210                 \"SPb TC \"\"Nevsky Center\"\"\"              53.0   \n",
       "2936211                         \"Omsk TC \"\"Mega\"\"\"              51.0   \n",
       "\n",
       "                   item_category_name  item_id  \\\n",
       "0                        Cinema - DVD        0   \n",
       "1                        Cinema - DVD        2   \n",
       "2                        Cinema - DVD        2   \n",
       "3                        Cinema - DVD        3   \n",
       "4                        Cinema - DVD        3   \n",
       "...                               ...      ...   \n",
       "2936207          Книги - Путеводители    22110   \n",
       "2936208               Books - Fiction    19700   \n",
       "2936209               Books - Fiction    20273   \n",
       "2936210               Books - Fiction    19701   \n",
       "2936211  Books - Cognitive Literature    17703   \n",
       "\n",
       "                                                 item_name  item_price  \\\n",
       "0                   !! IN THE POWER OF HAPPINESS (PLAST) D        58.0   \n",
       "1                    *** IN THE GLORY OF THE GLORY (UNV) D        58.0   \n",
       "2                    *** IN THE GLORY OF THE GLORY (UNV) D        58.0   \n",
       "3                                   *** BLUE WAVE (Univ) D       100.0   \n",
       "4                                   *** BLUE WAVE (Univ) D        58.0   \n",
       "...                                                    ...         ...   \n",
       "2936207                           Southeast Asia Shanin VA       100.0   \n",
       "2936208                                 TOLSTAY E. Admiral       299.0   \n",
       "2936209  FILATOV LA About Fedot-Sagittarius, a striking...       199.0   \n",
       "2936210                           TOLSTAYA E. Admiral + SD       349.0   \n",
       "2936211  Traffic rules 2009. The newest method of train...       129.0   \n",
       "\n",
       "         item_count_day  \n",
       "0                   1.0  \n",
       "1                   1.0  \n",
       "2                   1.0  \n",
       "3                   1.0  \n",
       "4                   1.0  \n",
       "...                 ...  \n",
       "2936207             1.0  \n",
       "2936208             1.0  \n",
       "2936209             1.0  \n",
       "2936210             1.0  \n",
       "2936211             1.0  \n",
       "\n",
       "[2936212 rows x 10 columns]"
      ]
     },
     "execution_count": 39,
     "metadata": {},
     "output_type": "execute_result"
    }
   ],
   "source": [
    "train"
   ]
  },
  {
   "cell_type": "code",
   "execution_count": 40,
   "id": "formal-classics",
   "metadata": {
    "ExecuteTime": {
     "end_time": "2021-02-04T23:38:24.163725Z",
     "start_time": "2021-02-04T23:38:23.681421Z"
    }
   },
   "outputs": [
    {
     "data": {
      "text/plain": [
       "date_block            363\n",
       "date                  363\n",
       "shop_id                 0\n",
       "shop_name               0\n",
       "item_category_id        0\n",
       "item_category_name      0\n",
       "item_id                 0\n",
       "item_name               0\n",
       "item_price            363\n",
       "item_count_day        363\n",
       "dtype: int64"
      ]
     },
     "execution_count": 40,
     "metadata": {},
     "output_type": "execute_result"
    }
   ],
   "source": [
    "train.isnull().sum()"
   ]
  },
  {
   "cell_type": "code",
   "execution_count": 41,
   "id": "sunset-warren",
   "metadata": {
    "ExecuteTime": {
     "end_time": "2021-02-04T23:38:25.411052Z",
     "start_time": "2021-02-04T23:38:24.963020Z"
    }
   },
   "outputs": [
    {
     "data": {
      "text/html": [
       "<div>\n",
       "<style scoped>\n",
       "    .dataframe tbody tr th:only-of-type {\n",
       "        vertical-align: middle;\n",
       "    }\n",
       "\n",
       "    .dataframe tbody tr th {\n",
       "        vertical-align: top;\n",
       "    }\n",
       "\n",
       "    .dataframe thead th {\n",
       "        text-align: right;\n",
       "    }\n",
       "</style>\n",
       "<table border=\"1\" class=\"dataframe\">\n",
       "  <thead>\n",
       "    <tr style=\"text-align: right;\">\n",
       "      <th></th>\n",
       "      <th>date_block</th>\n",
       "      <th>date</th>\n",
       "      <th>shop_id</th>\n",
       "      <th>shop_name</th>\n",
       "      <th>item_category_id</th>\n",
       "      <th>item_category_name</th>\n",
       "      <th>item_id</th>\n",
       "      <th>item_name</th>\n",
       "      <th>item_price</th>\n",
       "      <th>item_count_day</th>\n",
       "    </tr>\n",
       "  </thead>\n",
       "  <tbody>\n",
       "    <tr>\n",
       "      <th>564635</th>\n",
       "      <td>NaN</td>\n",
       "      <td>NaN</td>\n",
       "      <td>0.0</td>\n",
       "      <td>\"Yakutsk Ordzhonikidze</td>\n",
       "      <td>40.0</td>\n",
       "      <td>Cinema - DVD</td>\n",
       "      <td>83</td>\n",
       "      <td>12 / TWELVE (SW) (Region)</td>\n",
       "      <td>NaN</td>\n",
       "      <td>NaN</td>\n",
       "    </tr>\n",
       "    <tr>\n",
       "      <th>564636</th>\n",
       "      <td>NaN</td>\n",
       "      <td>NaN</td>\n",
       "      <td>0.0</td>\n",
       "      <td>\"Yakutsk Ordzhonikidze</td>\n",
       "      <td>40.0</td>\n",
       "      <td>Cinema - DVD</td>\n",
       "      <td>1284</td>\n",
       "      <td>ANGRY BIRDS COLLECTION OF MULTI-FILMS Season 2...</td>\n",
       "      <td>NaN</td>\n",
       "      <td>NaN</td>\n",
       "    </tr>\n",
       "    <tr>\n",
       "      <th>564637</th>\n",
       "      <td>NaN</td>\n",
       "      <td>NaN</td>\n",
       "      <td>0.0</td>\n",
       "      <td>\"Yakutsk Ordzhonikidze</td>\n",
       "      <td>40.0</td>\n",
       "      <td>Cinema - DVD</td>\n",
       "      <td>8676</td>\n",
       "      <td>BARTENDER</td>\n",
       "      <td>NaN</td>\n",
       "      <td>NaN</td>\n",
       "    </tr>\n",
       "    <tr>\n",
       "      <th>564639</th>\n",
       "      <td>NaN</td>\n",
       "      <td>NaN</td>\n",
       "      <td>0.0</td>\n",
       "      <td>\"Yakutsk Ordzhonikidze</td>\n",
       "      <td>40.0</td>\n",
       "      <td>Cinema - DVD</td>\n",
       "      <td>8722</td>\n",
       "      <td>WITHOUT WITNESSES (rem)</td>\n",
       "      <td>NaN</td>\n",
       "      <td>NaN</td>\n",
       "    </tr>\n",
       "    <tr>\n",
       "      <th>564640</th>\n",
       "      <td>NaN</td>\n",
       "      <td>NaN</td>\n",
       "      <td>0.0</td>\n",
       "      <td>\"Yakutsk Ordzhonikidze</td>\n",
       "      <td>40.0</td>\n",
       "      <td>Cinema - DVD</td>\n",
       "      <td>8760</td>\n",
       "      <td>BELARUS STATION (rem)</td>\n",
       "      <td>NaN</td>\n",
       "      <td>NaN</td>\n",
       "    </tr>\n",
       "    <tr>\n",
       "      <th>...</th>\n",
       "      <td>...</td>\n",
       "      <td>...</td>\n",
       "      <td>...</td>\n",
       "      <td>...</td>\n",
       "      <td>...</td>\n",
       "      <td>...</td>\n",
       "      <td>...</td>\n",
       "      <td>...</td>\n",
       "      <td>...</td>\n",
       "      <td>...</td>\n",
       "    </tr>\n",
       "    <tr>\n",
       "      <th>2933844</th>\n",
       "      <td>NaN</td>\n",
       "      <td>NaN</td>\n",
       "      <td>0.0</td>\n",
       "      <td>\"Yakutsk Ordzhonikidze</td>\n",
       "      <td>47.0</td>\n",
       "      <td>\"Books - Comics</td>\n",
       "      <td>13313</td>\n",
       "      <td>Comic Superman Batman Tom 2 Super Girl</td>\n",
       "      <td>NaN</td>\n",
       "      <td>NaN</td>\n",
       "    </tr>\n",
       "    <tr>\n",
       "      <th>2933845</th>\n",
       "      <td>NaN</td>\n",
       "      <td>NaN</td>\n",
       "      <td>0.0</td>\n",
       "      <td>\"Yakutsk Ordzhonikidze</td>\n",
       "      <td>47.0</td>\n",
       "      <td>\"Books - Comics</td>\n",
       "      <td>13338</td>\n",
       "      <td>Comic Book Exlibrium Volume 1 And the door wil...</td>\n",
       "      <td>NaN</td>\n",
       "      <td>NaN</td>\n",
       "    </tr>\n",
       "    <tr>\n",
       "      <th>2933846</th>\n",
       "      <td>NaN</td>\n",
       "      <td>NaN</td>\n",
       "      <td>0.0</td>\n",
       "      <td>\"Yakutsk Ordzhonikidze</td>\n",
       "      <td>47.0</td>\n",
       "      <td>\"Books - Comics</td>\n",
       "      <td>14959</td>\n",
       "      <td>Manga The Gate of Stein Volume 3</td>\n",
       "      <td>NaN</td>\n",
       "      <td>NaN</td>\n",
       "    </tr>\n",
       "    <tr>\n",
       "      <th>2933847</th>\n",
       "      <td>NaN</td>\n",
       "      <td>NaN</td>\n",
       "      <td>0.0</td>\n",
       "      <td>\"Yakutsk Ordzhonikidze</td>\n",
       "      <td>47.0</td>\n",
       "      <td>\"Books - Comics</td>\n",
       "      <td>14972</td>\n",
       "      <td>Manga Surviving Youth</td>\n",
       "      <td>NaN</td>\n",
       "      <td>NaN</td>\n",
       "    </tr>\n",
       "    <tr>\n",
       "      <th>2933994</th>\n",
       "      <td>NaN</td>\n",
       "      <td>NaN</td>\n",
       "      <td>0.0</td>\n",
       "      <td>\"Yakutsk Ordzhonikidze</td>\n",
       "      <td>0.0</td>\n",
       "      <td>PC - Headsets / Headphones</td>\n",
       "      <td>5441</td>\n",
       "      <td>PC: Headset HyperX Cloud Core gaming stereo (K...</td>\n",
       "      <td>NaN</td>\n",
       "      <td>NaN</td>\n",
       "    </tr>\n",
       "  </tbody>\n",
       "</table>\n",
       "<p>363 rows × 10 columns</p>\n",
       "</div>"
      ],
      "text/plain": [
       "         date_block date  shop_id               shop_name  item_category_id  \\\n",
       "564635          NaN  NaN      0.0  \"Yakutsk Ordzhonikidze              40.0   \n",
       "564636          NaN  NaN      0.0  \"Yakutsk Ordzhonikidze              40.0   \n",
       "564637          NaN  NaN      0.0  \"Yakutsk Ordzhonikidze              40.0   \n",
       "564639          NaN  NaN      0.0  \"Yakutsk Ordzhonikidze              40.0   \n",
       "564640          NaN  NaN      0.0  \"Yakutsk Ordzhonikidze              40.0   \n",
       "...             ...  ...      ...                     ...               ...   \n",
       "2933844         NaN  NaN      0.0  \"Yakutsk Ordzhonikidze              47.0   \n",
       "2933845         NaN  NaN      0.0  \"Yakutsk Ordzhonikidze              47.0   \n",
       "2933846         NaN  NaN      0.0  \"Yakutsk Ordzhonikidze              47.0   \n",
       "2933847         NaN  NaN      0.0  \"Yakutsk Ordzhonikidze              47.0   \n",
       "2933994         NaN  NaN      0.0  \"Yakutsk Ordzhonikidze               0.0   \n",
       "\n",
       "                 item_category_name  item_id  \\\n",
       "564635                 Cinema - DVD       83   \n",
       "564636                 Cinema - DVD     1284   \n",
       "564637                 Cinema - DVD     8676   \n",
       "564639                 Cinema - DVD     8722   \n",
       "564640                 Cinema - DVD     8760   \n",
       "...                             ...      ...   \n",
       "2933844             \"Books - Comics    13313   \n",
       "2933845             \"Books - Comics    13338   \n",
       "2933846             \"Books - Comics    14959   \n",
       "2933847             \"Books - Comics    14972   \n",
       "2933994  PC - Headsets / Headphones     5441   \n",
       "\n",
       "                                                 item_name  item_price  \\\n",
       "564635                           12 / TWELVE (SW) (Region)         NaN   \n",
       "564636   ANGRY BIRDS COLLECTION OF MULTI-FILMS Season 2...         NaN   \n",
       "564637                                           BARTENDER         NaN   \n",
       "564639                             WITHOUT WITNESSES (rem)         NaN   \n",
       "564640                               BELARUS STATION (rem)         NaN   \n",
       "...                                                    ...         ...   \n",
       "2933844             Comic Superman Batman Tom 2 Super Girl         NaN   \n",
       "2933845  Comic Book Exlibrium Volume 1 And the door wil...         NaN   \n",
       "2933846                   Manga The Gate of Stein Volume 3         NaN   \n",
       "2933847                              Manga Surviving Youth         NaN   \n",
       "2933994  PC: Headset HyperX Cloud Core gaming stereo (K...         NaN   \n",
       "\n",
       "         item_count_day  \n",
       "564635              NaN  \n",
       "564636              NaN  \n",
       "564637              NaN  \n",
       "564639              NaN  \n",
       "564640              NaN  \n",
       "...                 ...  \n",
       "2933844             NaN  \n",
       "2933845             NaN  \n",
       "2933846             NaN  \n",
       "2933847             NaN  \n",
       "2933994             NaN  \n",
       "\n",
       "[363 rows x 10 columns]"
      ]
     },
     "execution_count": 41,
     "metadata": {},
     "output_type": "execute_result"
    }
   ],
   "source": [
    "null_rows = train[train.isna().any(axis=1)]\n",
    "null_rows"
   ]
  },
  {
   "cell_type": "code",
   "execution_count": 42,
   "id": "empirical-pipeline",
   "metadata": {
    "ExecuteTime": {
     "end_time": "2021-02-04T23:38:26.211146Z",
     "start_time": "2021-02-04T23:38:26.203954Z"
    }
   },
   "outputs": [
    {
     "data": {
      "text/plain": [
       "363"
      ]
     },
     "execution_count": 42,
     "metadata": {},
     "output_type": "execute_result"
    }
   ],
   "source": [
    "len(null_rows.index)"
   ]
  },
  {
   "cell_type": "code",
   "execution_count": 43,
   "id": "identified-perfume",
   "metadata": {
    "ExecuteTime": {
     "end_time": "2021-02-04T23:38:27.962489Z",
     "start_time": "2021-02-04T23:38:27.296683Z"
    }
   },
   "outputs": [],
   "source": [
    "train = train.dropna()"
   ]
  },
  {
   "cell_type": "code",
   "execution_count": 44,
   "id": "contained-sculpture",
   "metadata": {
    "ExecuteTime": {
     "end_time": "2021-02-04T23:38:28.723405Z",
     "start_time": "2021-02-04T23:38:28.680843Z"
    }
   },
   "outputs": [
    {
     "data": {
      "text/html": [
       "<div>\n",
       "<style scoped>\n",
       "    .dataframe tbody tr th:only-of-type {\n",
       "        vertical-align: middle;\n",
       "    }\n",
       "\n",
       "    .dataframe tbody tr th {\n",
       "        vertical-align: top;\n",
       "    }\n",
       "\n",
       "    .dataframe thead th {\n",
       "        text-align: right;\n",
       "    }\n",
       "</style>\n",
       "<table border=\"1\" class=\"dataframe\">\n",
       "  <thead>\n",
       "    <tr style=\"text-align: right;\">\n",
       "      <th></th>\n",
       "      <th>date_block</th>\n",
       "      <th>date</th>\n",
       "      <th>shop_id</th>\n",
       "      <th>shop_name</th>\n",
       "      <th>item_category_id</th>\n",
       "      <th>item_category_name</th>\n",
       "      <th>item_id</th>\n",
       "      <th>item_name</th>\n",
       "      <th>item_price</th>\n",
       "      <th>item_count_day</th>\n",
       "    </tr>\n",
       "  </thead>\n",
       "  <tbody>\n",
       "    <tr>\n",
       "      <th>0</th>\n",
       "      <td>20.0</td>\n",
       "      <td>01.09.2014</td>\n",
       "      <td>54.0</td>\n",
       "      <td>\"Khimki ТЦ \"\"Mega\"\"\"</td>\n",
       "      <td>40.0</td>\n",
       "      <td>Cinema - DVD</td>\n",
       "      <td>0</td>\n",
       "      <td>!! IN THE POWER OF HAPPINESS (PLAST) D</td>\n",
       "      <td>58.0</td>\n",
       "      <td>1.0</td>\n",
       "    </tr>\n",
       "    <tr>\n",
       "      <th>1</th>\n",
       "      <td>19.0</td>\n",
       "      <td>24.08.2014</td>\n",
       "      <td>54.0</td>\n",
       "      <td>\"Khimki ТЦ \"\"Mega\"\"\"</td>\n",
       "      <td>40.0</td>\n",
       "      <td>Cinema - DVD</td>\n",
       "      <td>2</td>\n",
       "      <td>*** IN THE GLORY OF THE GLORY (UNV) D</td>\n",
       "      <td>58.0</td>\n",
       "      <td>1.0</td>\n",
       "    </tr>\n",
       "    <tr>\n",
       "      <th>2</th>\n",
       "      <td>22.0</td>\n",
       "      <td>12.11.2014</td>\n",
       "      <td>54.0</td>\n",
       "      <td>\"Khimki ТЦ \"\"Mega\"\"\"</td>\n",
       "      <td>40.0</td>\n",
       "      <td>Cinema - DVD</td>\n",
       "      <td>2</td>\n",
       "      <td>*** IN THE GLORY OF THE GLORY (UNV) D</td>\n",
       "      <td>58.0</td>\n",
       "      <td>1.0</td>\n",
       "    </tr>\n",
       "    <tr>\n",
       "      <th>3</th>\n",
       "      <td>18.0</td>\n",
       "      <td>05.07.2014</td>\n",
       "      <td>54.0</td>\n",
       "      <td>\"Khimki ТЦ \"\"Mega\"\"\"</td>\n",
       "      <td>40.0</td>\n",
       "      <td>Cinema - DVD</td>\n",
       "      <td>3</td>\n",
       "      <td>*** BLUE WAVE (Univ) D</td>\n",
       "      <td>100.0</td>\n",
       "      <td>1.0</td>\n",
       "    </tr>\n",
       "    <tr>\n",
       "      <th>4</th>\n",
       "      <td>19.0</td>\n",
       "      <td>26.08.2014</td>\n",
       "      <td>54.0</td>\n",
       "      <td>\"Khimki ТЦ \"\"Mega\"\"\"</td>\n",
       "      <td>40.0</td>\n",
       "      <td>Cinema - DVD</td>\n",
       "      <td>3</td>\n",
       "      <td>*** BLUE WAVE (Univ) D</td>\n",
       "      <td>58.0</td>\n",
       "      <td>1.0</td>\n",
       "    </tr>\n",
       "    <tr>\n",
       "      <th>...</th>\n",
       "      <td>...</td>\n",
       "      <td>...</td>\n",
       "      <td>...</td>\n",
       "      <td>...</td>\n",
       "      <td>...</td>\n",
       "      <td>...</td>\n",
       "      <td>...</td>\n",
       "      <td>...</td>\n",
       "      <td>...</td>\n",
       "      <td>...</td>\n",
       "    </tr>\n",
       "    <tr>\n",
       "      <th>2936207</th>\n",
       "      <td>4.0</td>\n",
       "      <td>06.05.2013</td>\n",
       "      <td>4.0</td>\n",
       "      <td>\"Volzhsky shopping center \"\"Volga Mall\"\"\"</td>\n",
       "      <td>52.0</td>\n",
       "      <td>Книги - Путеводители</td>\n",
       "      <td>22110</td>\n",
       "      <td>Southeast Asia Shanin VA</td>\n",
       "      <td>100.0</td>\n",
       "      <td>1.0</td>\n",
       "    </tr>\n",
       "    <tr>\n",
       "      <th>2936208</th>\n",
       "      <td>11.0</td>\n",
       "      <td>26.12.2013</td>\n",
       "      <td>6.0</td>\n",
       "      <td>\"Voronezh (Plekhanovskaya</td>\n",
       "      <td>53.0</td>\n",
       "      <td>Books - Fiction</td>\n",
       "      <td>19700</td>\n",
       "      <td>TOLSTAY E. Admiral</td>\n",
       "      <td>299.0</td>\n",
       "      <td>1.0</td>\n",
       "    </tr>\n",
       "    <tr>\n",
       "      <th>2936209</th>\n",
       "      <td>9.0</td>\n",
       "      <td>15.10.2013</td>\n",
       "      <td>46.0</td>\n",
       "      <td>\"Sergiev Posad TC \"\"7YA\"\"\"</td>\n",
       "      <td>53.0</td>\n",
       "      <td>Books - Fiction</td>\n",
       "      <td>20273</td>\n",
       "      <td>FILATOV LA About Fedot-Sagittarius, a striking...</td>\n",
       "      <td>199.0</td>\n",
       "      <td>1.0</td>\n",
       "    </tr>\n",
       "    <tr>\n",
       "      <th>2936210</th>\n",
       "      <td>13.0</td>\n",
       "      <td>23.02.2014</td>\n",
       "      <td>42.0</td>\n",
       "      <td>\"SPb TC \"\"Nevsky Center\"\"\"</td>\n",
       "      <td>53.0</td>\n",
       "      <td>Books - Fiction</td>\n",
       "      <td>19701</td>\n",
       "      <td>TOLSTAYA E. Admiral + SD</td>\n",
       "      <td>349.0</td>\n",
       "      <td>1.0</td>\n",
       "    </tr>\n",
       "    <tr>\n",
       "      <th>2936211</th>\n",
       "      <td>18.0</td>\n",
       "      <td>20.07.2014</td>\n",
       "      <td>38.0</td>\n",
       "      <td>\"Omsk TC \"\"Mega\"\"\"</td>\n",
       "      <td>51.0</td>\n",
       "      <td>Books - Cognitive Literature</td>\n",
       "      <td>17703</td>\n",
       "      <td>Traffic rules 2009. The newest method of train...</td>\n",
       "      <td>129.0</td>\n",
       "      <td>1.0</td>\n",
       "    </tr>\n",
       "  </tbody>\n",
       "</table>\n",
       "<p>2935849 rows × 10 columns</p>\n",
       "</div>"
      ],
      "text/plain": [
       "         date_block        date  shop_id  \\\n",
       "0              20.0  01.09.2014     54.0   \n",
       "1              19.0  24.08.2014     54.0   \n",
       "2              22.0  12.11.2014     54.0   \n",
       "3              18.0  05.07.2014     54.0   \n",
       "4              19.0  26.08.2014     54.0   \n",
       "...             ...         ...      ...   \n",
       "2936207         4.0  06.05.2013      4.0   \n",
       "2936208        11.0  26.12.2013      6.0   \n",
       "2936209         9.0  15.10.2013     46.0   \n",
       "2936210        13.0  23.02.2014     42.0   \n",
       "2936211        18.0  20.07.2014     38.0   \n",
       "\n",
       "                                         shop_name  item_category_id  \\\n",
       "0                             \"Khimki ТЦ \"\"Mega\"\"\"              40.0   \n",
       "1                             \"Khimki ТЦ \"\"Mega\"\"\"              40.0   \n",
       "2                             \"Khimki ТЦ \"\"Mega\"\"\"              40.0   \n",
       "3                             \"Khimki ТЦ \"\"Mega\"\"\"              40.0   \n",
       "4                             \"Khimki ТЦ \"\"Mega\"\"\"              40.0   \n",
       "...                                            ...               ...   \n",
       "2936207  \"Volzhsky shopping center \"\"Volga Mall\"\"\"              52.0   \n",
       "2936208                  \"Voronezh (Plekhanovskaya              53.0   \n",
       "2936209                 \"Sergiev Posad TC \"\"7YA\"\"\"              53.0   \n",
       "2936210                 \"SPb TC \"\"Nevsky Center\"\"\"              53.0   \n",
       "2936211                         \"Omsk TC \"\"Mega\"\"\"              51.0   \n",
       "\n",
       "                   item_category_name  item_id  \\\n",
       "0                        Cinema - DVD        0   \n",
       "1                        Cinema - DVD        2   \n",
       "2                        Cinema - DVD        2   \n",
       "3                        Cinema - DVD        3   \n",
       "4                        Cinema - DVD        3   \n",
       "...                               ...      ...   \n",
       "2936207          Книги - Путеводители    22110   \n",
       "2936208               Books - Fiction    19700   \n",
       "2936209               Books - Fiction    20273   \n",
       "2936210               Books - Fiction    19701   \n",
       "2936211  Books - Cognitive Literature    17703   \n",
       "\n",
       "                                                 item_name  item_price  \\\n",
       "0                   !! IN THE POWER OF HAPPINESS (PLAST) D        58.0   \n",
       "1                    *** IN THE GLORY OF THE GLORY (UNV) D        58.0   \n",
       "2                    *** IN THE GLORY OF THE GLORY (UNV) D        58.0   \n",
       "3                                   *** BLUE WAVE (Univ) D       100.0   \n",
       "4                                   *** BLUE WAVE (Univ) D        58.0   \n",
       "...                                                    ...         ...   \n",
       "2936207                           Southeast Asia Shanin VA       100.0   \n",
       "2936208                                 TOLSTAY E. Admiral       299.0   \n",
       "2936209  FILATOV LA About Fedot-Sagittarius, a striking...       199.0   \n",
       "2936210                           TOLSTAYA E. Admiral + SD       349.0   \n",
       "2936211  Traffic rules 2009. The newest method of train...       129.0   \n",
       "\n",
       "         item_count_day  \n",
       "0                   1.0  \n",
       "1                   1.0  \n",
       "2                   1.0  \n",
       "3                   1.0  \n",
       "4                   1.0  \n",
       "...                 ...  \n",
       "2936207             1.0  \n",
       "2936208             1.0  \n",
       "2936209             1.0  \n",
       "2936210             1.0  \n",
       "2936211             1.0  \n",
       "\n",
       "[2935849 rows x 10 columns]"
      ]
     },
     "execution_count": 44,
     "metadata": {},
     "output_type": "execute_result"
    }
   ],
   "source": [
    "train"
   ]
  },
  {
   "cell_type": "code",
   "execution_count": 45,
   "id": "known-brunei",
   "metadata": {
    "ExecuteTime": {
     "end_time": "2021-02-04T23:38:29.836978Z",
     "start_time": "2021-02-04T23:38:29.825659Z"
    }
   },
   "outputs": [
    {
     "data": {
      "text/plain": [
       "date_block            float64\n",
       "date                   object\n",
       "shop_id               float64\n",
       "shop_name              object\n",
       "item_category_id      float64\n",
       "item_category_name     object\n",
       "item_id                 int64\n",
       "item_name              object\n",
       "item_price            float64\n",
       "item_count_day        float64\n",
       "dtype: object"
      ]
     },
     "execution_count": 45,
     "metadata": {},
     "output_type": "execute_result"
    }
   ],
   "source": [
    "train.dtypes"
   ]
  },
  {
   "cell_type": "code",
   "execution_count": 46,
   "id": "intellectual-fossil",
   "metadata": {
    "ExecuteTime": {
     "end_time": "2021-02-04T23:38:31.394755Z",
     "start_time": "2021-02-04T23:38:30.907907Z"
    }
   },
   "outputs": [
    {
     "name": "stderr",
     "output_type": "stream",
     "text": [
      "<ipython-input-46-efee3a6dad3d>:1: SettingWithCopyWarning: \n",
      "A value is trying to be set on a copy of a slice from a DataFrame.\n",
      "Try using .loc[row_indexer,col_indexer] = value instead\n",
      "\n",
      "See the caveats in the documentation: https://pandas.pydata.org/pandas-docs/stable/user_guide/indexing.html#returning-a-view-versus-a-copy\n",
      "  train['date'] = pd.to_datetime(train['date'])\n"
     ]
    }
   ],
   "source": [
    "train['date'] = pd.to_datetime(train['date'])"
   ]
  },
  {
   "cell_type": "code",
   "execution_count": 47,
   "id": "potential-native",
   "metadata": {
    "ExecuteTime": {
     "end_time": "2021-02-04T23:38:32.398794Z",
     "start_time": "2021-02-04T23:38:32.355740Z"
    }
   },
   "outputs": [
    {
     "data": {
      "text/html": [
       "<div>\n",
       "<style scoped>\n",
       "    .dataframe tbody tr th:only-of-type {\n",
       "        vertical-align: middle;\n",
       "    }\n",
       "\n",
       "    .dataframe tbody tr th {\n",
       "        vertical-align: top;\n",
       "    }\n",
       "\n",
       "    .dataframe thead th {\n",
       "        text-align: right;\n",
       "    }\n",
       "</style>\n",
       "<table border=\"1\" class=\"dataframe\">\n",
       "  <thead>\n",
       "    <tr style=\"text-align: right;\">\n",
       "      <th></th>\n",
       "      <th>date_block</th>\n",
       "      <th>date</th>\n",
       "      <th>shop_id</th>\n",
       "      <th>shop_name</th>\n",
       "      <th>item_category_id</th>\n",
       "      <th>item_category_name</th>\n",
       "      <th>item_id</th>\n",
       "      <th>item_name</th>\n",
       "      <th>item_price</th>\n",
       "      <th>item_count_day</th>\n",
       "    </tr>\n",
       "  </thead>\n",
       "  <tbody>\n",
       "    <tr>\n",
       "      <th>0</th>\n",
       "      <td>20.0</td>\n",
       "      <td>2014-01-09</td>\n",
       "      <td>54.0</td>\n",
       "      <td>\"Khimki ТЦ \"\"Mega\"\"\"</td>\n",
       "      <td>40.0</td>\n",
       "      <td>Cinema - DVD</td>\n",
       "      <td>0</td>\n",
       "      <td>!! IN THE POWER OF HAPPINESS (PLAST) D</td>\n",
       "      <td>58.0</td>\n",
       "      <td>1.0</td>\n",
       "    </tr>\n",
       "    <tr>\n",
       "      <th>1</th>\n",
       "      <td>19.0</td>\n",
       "      <td>2014-08-24</td>\n",
       "      <td>54.0</td>\n",
       "      <td>\"Khimki ТЦ \"\"Mega\"\"\"</td>\n",
       "      <td>40.0</td>\n",
       "      <td>Cinema - DVD</td>\n",
       "      <td>2</td>\n",
       "      <td>*** IN THE GLORY OF THE GLORY (UNV) D</td>\n",
       "      <td>58.0</td>\n",
       "      <td>1.0</td>\n",
       "    </tr>\n",
       "    <tr>\n",
       "      <th>2</th>\n",
       "      <td>22.0</td>\n",
       "      <td>2014-12-11</td>\n",
       "      <td>54.0</td>\n",
       "      <td>\"Khimki ТЦ \"\"Mega\"\"\"</td>\n",
       "      <td>40.0</td>\n",
       "      <td>Cinema - DVD</td>\n",
       "      <td>2</td>\n",
       "      <td>*** IN THE GLORY OF THE GLORY (UNV) D</td>\n",
       "      <td>58.0</td>\n",
       "      <td>1.0</td>\n",
       "    </tr>\n",
       "    <tr>\n",
       "      <th>3</th>\n",
       "      <td>18.0</td>\n",
       "      <td>2014-05-07</td>\n",
       "      <td>54.0</td>\n",
       "      <td>\"Khimki ТЦ \"\"Mega\"\"\"</td>\n",
       "      <td>40.0</td>\n",
       "      <td>Cinema - DVD</td>\n",
       "      <td>3</td>\n",
       "      <td>*** BLUE WAVE (Univ) D</td>\n",
       "      <td>100.0</td>\n",
       "      <td>1.0</td>\n",
       "    </tr>\n",
       "    <tr>\n",
       "      <th>4</th>\n",
       "      <td>19.0</td>\n",
       "      <td>2014-08-26</td>\n",
       "      <td>54.0</td>\n",
       "      <td>\"Khimki ТЦ \"\"Mega\"\"\"</td>\n",
       "      <td>40.0</td>\n",
       "      <td>Cinema - DVD</td>\n",
       "      <td>3</td>\n",
       "      <td>*** BLUE WAVE (Univ) D</td>\n",
       "      <td>58.0</td>\n",
       "      <td>1.0</td>\n",
       "    </tr>\n",
       "    <tr>\n",
       "      <th>...</th>\n",
       "      <td>...</td>\n",
       "      <td>...</td>\n",
       "      <td>...</td>\n",
       "      <td>...</td>\n",
       "      <td>...</td>\n",
       "      <td>...</td>\n",
       "      <td>...</td>\n",
       "      <td>...</td>\n",
       "      <td>...</td>\n",
       "      <td>...</td>\n",
       "    </tr>\n",
       "    <tr>\n",
       "      <th>2936207</th>\n",
       "      <td>4.0</td>\n",
       "      <td>2013-06-05</td>\n",
       "      <td>4.0</td>\n",
       "      <td>\"Volzhsky shopping center \"\"Volga Mall\"\"\"</td>\n",
       "      <td>52.0</td>\n",
       "      <td>Книги - Путеводители</td>\n",
       "      <td>22110</td>\n",
       "      <td>Southeast Asia Shanin VA</td>\n",
       "      <td>100.0</td>\n",
       "      <td>1.0</td>\n",
       "    </tr>\n",
       "    <tr>\n",
       "      <th>2936208</th>\n",
       "      <td>11.0</td>\n",
       "      <td>2013-12-26</td>\n",
       "      <td>6.0</td>\n",
       "      <td>\"Voronezh (Plekhanovskaya</td>\n",
       "      <td>53.0</td>\n",
       "      <td>Books - Fiction</td>\n",
       "      <td>19700</td>\n",
       "      <td>TOLSTAY E. Admiral</td>\n",
       "      <td>299.0</td>\n",
       "      <td>1.0</td>\n",
       "    </tr>\n",
       "    <tr>\n",
       "      <th>2936209</th>\n",
       "      <td>9.0</td>\n",
       "      <td>2013-10-15</td>\n",
       "      <td>46.0</td>\n",
       "      <td>\"Sergiev Posad TC \"\"7YA\"\"\"</td>\n",
       "      <td>53.0</td>\n",
       "      <td>Books - Fiction</td>\n",
       "      <td>20273</td>\n",
       "      <td>FILATOV LA About Fedot-Sagittarius, a striking...</td>\n",
       "      <td>199.0</td>\n",
       "      <td>1.0</td>\n",
       "    </tr>\n",
       "    <tr>\n",
       "      <th>2936210</th>\n",
       "      <td>13.0</td>\n",
       "      <td>2014-02-23</td>\n",
       "      <td>42.0</td>\n",
       "      <td>\"SPb TC \"\"Nevsky Center\"\"\"</td>\n",
       "      <td>53.0</td>\n",
       "      <td>Books - Fiction</td>\n",
       "      <td>19701</td>\n",
       "      <td>TOLSTAYA E. Admiral + SD</td>\n",
       "      <td>349.0</td>\n",
       "      <td>1.0</td>\n",
       "    </tr>\n",
       "    <tr>\n",
       "      <th>2936211</th>\n",
       "      <td>18.0</td>\n",
       "      <td>2014-07-20</td>\n",
       "      <td>38.0</td>\n",
       "      <td>\"Omsk TC \"\"Mega\"\"\"</td>\n",
       "      <td>51.0</td>\n",
       "      <td>Books - Cognitive Literature</td>\n",
       "      <td>17703</td>\n",
       "      <td>Traffic rules 2009. The newest method of train...</td>\n",
       "      <td>129.0</td>\n",
       "      <td>1.0</td>\n",
       "    </tr>\n",
       "  </tbody>\n",
       "</table>\n",
       "<p>2935849 rows × 10 columns</p>\n",
       "</div>"
      ],
      "text/plain": [
       "         date_block       date  shop_id  \\\n",
       "0              20.0 2014-01-09     54.0   \n",
       "1              19.0 2014-08-24     54.0   \n",
       "2              22.0 2014-12-11     54.0   \n",
       "3              18.0 2014-05-07     54.0   \n",
       "4              19.0 2014-08-26     54.0   \n",
       "...             ...        ...      ...   \n",
       "2936207         4.0 2013-06-05      4.0   \n",
       "2936208        11.0 2013-12-26      6.0   \n",
       "2936209         9.0 2013-10-15     46.0   \n",
       "2936210        13.0 2014-02-23     42.0   \n",
       "2936211        18.0 2014-07-20     38.0   \n",
       "\n",
       "                                         shop_name  item_category_id  \\\n",
       "0                             \"Khimki ТЦ \"\"Mega\"\"\"              40.0   \n",
       "1                             \"Khimki ТЦ \"\"Mega\"\"\"              40.0   \n",
       "2                             \"Khimki ТЦ \"\"Mega\"\"\"              40.0   \n",
       "3                             \"Khimki ТЦ \"\"Mega\"\"\"              40.0   \n",
       "4                             \"Khimki ТЦ \"\"Mega\"\"\"              40.0   \n",
       "...                                            ...               ...   \n",
       "2936207  \"Volzhsky shopping center \"\"Volga Mall\"\"\"              52.0   \n",
       "2936208                  \"Voronezh (Plekhanovskaya              53.0   \n",
       "2936209                 \"Sergiev Posad TC \"\"7YA\"\"\"              53.0   \n",
       "2936210                 \"SPb TC \"\"Nevsky Center\"\"\"              53.0   \n",
       "2936211                         \"Omsk TC \"\"Mega\"\"\"              51.0   \n",
       "\n",
       "                   item_category_name  item_id  \\\n",
       "0                        Cinema - DVD        0   \n",
       "1                        Cinema - DVD        2   \n",
       "2                        Cinema - DVD        2   \n",
       "3                        Cinema - DVD        3   \n",
       "4                        Cinema - DVD        3   \n",
       "...                               ...      ...   \n",
       "2936207          Книги - Путеводители    22110   \n",
       "2936208               Books - Fiction    19700   \n",
       "2936209               Books - Fiction    20273   \n",
       "2936210               Books - Fiction    19701   \n",
       "2936211  Books - Cognitive Literature    17703   \n",
       "\n",
       "                                                 item_name  item_price  \\\n",
       "0                   !! IN THE POWER OF HAPPINESS (PLAST) D        58.0   \n",
       "1                    *** IN THE GLORY OF THE GLORY (UNV) D        58.0   \n",
       "2                    *** IN THE GLORY OF THE GLORY (UNV) D        58.0   \n",
       "3                                   *** BLUE WAVE (Univ) D       100.0   \n",
       "4                                   *** BLUE WAVE (Univ) D        58.0   \n",
       "...                                                    ...         ...   \n",
       "2936207                           Southeast Asia Shanin VA       100.0   \n",
       "2936208                                 TOLSTAY E. Admiral       299.0   \n",
       "2936209  FILATOV LA About Fedot-Sagittarius, a striking...       199.0   \n",
       "2936210                           TOLSTAYA E. Admiral + SD       349.0   \n",
       "2936211  Traffic rules 2009. The newest method of train...       129.0   \n",
       "\n",
       "         item_count_day  \n",
       "0                   1.0  \n",
       "1                   1.0  \n",
       "2                   1.0  \n",
       "3                   1.0  \n",
       "4                   1.0  \n",
       "...                 ...  \n",
       "2936207             1.0  \n",
       "2936208             1.0  \n",
       "2936209             1.0  \n",
       "2936210             1.0  \n",
       "2936211             1.0  \n",
       "\n",
       "[2935849 rows x 10 columns]"
      ]
     },
     "execution_count": 47,
     "metadata": {},
     "output_type": "execute_result"
    }
   ],
   "source": [
    "train"
   ]
  },
  {
   "cell_type": "markdown",
   "id": "moderate-instrument",
   "metadata": {},
   "source": [
    "## Plots"
   ]
  },
  {
   "cell_type": "code",
   "execution_count": 48,
   "id": "chemical-worcester",
   "metadata": {
    "ExecuteTime": {
     "end_time": "2021-02-04T23:38:37.507770Z",
     "start_time": "2021-02-04T23:38:36.052243Z"
    }
   },
   "outputs": [
    {
     "data": {
      "text/plain": [
       "<AxesSubplot:xlabel='item_count_day'>"
      ]
     },
     "execution_count": 48,
     "metadata": {},
     "output_type": "execute_result"
    },
    {
     "data": {
      "image/png": "[encoded data removed]",
      "text/plain": [
       "<Figure size 720x360 with 1 Axes>"
      ]
     },
     "metadata": {
      "needs_background": "light"
     },
     "output_type": "display_data"
    },
    {
     "data": {
      "image/png": "[encoded data removed]",
      "text/plain": [
       "<Figure size 720x360 with 1 Axes>"
      ]
     },
     "metadata": {
      "needs_background": "light"
     },
     "output_type": "display_data"
    }
   ],
   "source": [
    "plt.figure(figsize=(10,5))\n",
    "plt.xlim(train.item_price.min(), train.item_price.max()*1.1)\n",
    "sns.boxplot(x=train.item_price)\n",
    "\n",
    "plt.figure(figsize=(10,5))\n",
    "plt.xlim(train.item_count_day.min(), train.item_count_day.max()*1.1)\n",
    "sns.boxplot(x=train.item_count_day)"
   ]
  },
  {
   "cell_type": "code",
   "execution_count": 49,
   "id": "optical-afghanistan",
   "metadata": {
    "ExecuteTime": {
     "end_time": "2021-02-04T23:38:48.750832Z",
     "start_time": "2021-02-04T23:38:48.381780Z"
    }
   },
   "outputs": [],
   "source": [
    "train = train[train.item_price<100000]\n",
    "train = train[train.item_count_day<2000]"
   ]
  },
  {
   "cell_type": "code",
   "execution_count": 51,
   "id": "enclosed-candle",
   "metadata": {
    "ExecuteTime": {
     "end_time": "2021-02-04T23:39:22.368185Z",
     "start_time": "2021-02-04T23:39:16.893792Z"
    }
   },
   "outputs": [
    {
     "data": {
      "text/plain": [
       "Text(0, 0.5, 'item price')"
      ]
     },
     "execution_count": 51,
     "metadata": {},
     "output_type": "execute_result"
    },
    {
     "data": {
      "image/png": "[encoded data removed]",
      "text/plain": [
       "<Figure size 1080x1080 with 1 Axes>"
      ]
     },
     "metadata": {
      "needs_background": "light"
     },
     "output_type": "display_data"
    }
   ],
   "source": [
    "plt.figure(figsize=(15,15))\n",
    "plt.scatter(train['item_count_day'], train['item_price'])\n",
    "plt.xlabel(\"item count per day\")\n",
    "plt.ylabel(\"item price\")"
   ]
  },
  {
   "cell_type": "markdown",
   "id": "annoying-florist",
   "metadata": {},
   "source": [
    "#### Groupby shop:"
   ]
  },
  {
   "cell_type": "code",
   "execution_count": 52,
   "id": "social-strike",
   "metadata": {
    "ExecuteTime": {
     "end_time": "2021-02-04T23:39:39.775383Z",
     "start_time": "2021-02-04T23:39:38.005205Z"
    }
   },
   "outputs": [],
   "source": [
    "shop_details = train.groupby([\"shop_id\", \"date_block\", \"date\", \"item_category_id\", \"item_id\"]).agg(np.mean)"
   ]
  },
  {
   "cell_type": "code",
   "execution_count": 53,
   "id": "existing-campaign",
   "metadata": {
    "ExecuteTime": {
     "end_time": "2021-02-04T23:39:41.267186Z",
     "start_time": "2021-02-04T23:39:41.221883Z"
    }
   },
   "outputs": [
    {
     "data": {
      "text/html": [
       "<div>\n",
       "<style scoped>\n",
       "    .dataframe tbody tr th:only-of-type {\n",
       "        vertical-align: middle;\n",
       "    }\n",
       "\n",
       "    .dataframe tbody tr th {\n",
       "        vertical-align: top;\n",
       "    }\n",
       "\n",
       "    .dataframe thead th {\n",
       "        text-align: right;\n",
       "    }\n",
       "</style>\n",
       "<table border=\"1\" class=\"dataframe\">\n",
       "  <thead>\n",
       "    <tr style=\"text-align: right;\">\n",
       "      <th></th>\n",
       "      <th></th>\n",
       "      <th></th>\n",
       "      <th></th>\n",
       "      <th></th>\n",
       "      <th>item_price</th>\n",
       "      <th>item_count_day</th>\n",
       "    </tr>\n",
       "    <tr>\n",
       "      <th>shop_id</th>\n",
       "      <th>date_block</th>\n",
       "      <th>date</th>\n",
       "      <th>item_category_id</th>\n",
       "      <th>item_id</th>\n",
       "      <th></th>\n",
       "      <th></th>\n",
       "    </tr>\n",
       "  </thead>\n",
       "  <tbody>\n",
       "    <tr>\n",
       "      <th rowspan=\"5\" valign=\"top\">0.0</th>\n",
       "      <th rowspan=\"5\" valign=\"top\">0.0</th>\n",
       "      <th rowspan=\"5\" valign=\"top\">2013-01-13</th>\n",
       "      <th rowspan=\"2\" valign=\"top\">2.0</th>\n",
       "      <th>5576</th>\n",
       "      <td>2231.0</td>\n",
       "      <td>1.0</td>\n",
       "    </tr>\n",
       "    <tr>\n",
       "      <th>5629</th>\n",
       "      <td>1925.0</td>\n",
       "      <td>1.0</td>\n",
       "    </tr>\n",
       "    <tr>\n",
       "      <th>3.0</th>\n",
       "      <th>13071</th>\n",
       "      <td>242.0</td>\n",
       "      <td>2.0</td>\n",
       "    </tr>\n",
       "    <tr>\n",
       "      <th>6.0</th>\n",
       "      <th>11305</th>\n",
       "      <td>263.0</td>\n",
       "      <td>1.0</td>\n",
       "    </tr>\n",
       "    <tr>\n",
       "      <th>11.0</th>\n",
       "      <th>13478</th>\n",
       "      <td>13355.0</td>\n",
       "      <td>1.0</td>\n",
       "    </tr>\n",
       "    <tr>\n",
       "      <th>...</th>\n",
       "      <th>...</th>\n",
       "      <th>...</th>\n",
       "      <th>...</th>\n",
       "      <th>...</th>\n",
       "      <td>...</td>\n",
       "      <td>...</td>\n",
       "    </tr>\n",
       "    <tr>\n",
       "      <th rowspan=\"5\" valign=\"top\">59.0</th>\n",
       "      <th rowspan=\"5\" valign=\"top\">33.0</th>\n",
       "      <th rowspan=\"5\" valign=\"top\">2015-12-10</th>\n",
       "      <th>55.0</th>\n",
       "      <th>18441</th>\n",
       "      <td>299.0</td>\n",
       "      <td>1.0</td>\n",
       "    </tr>\n",
       "    <tr>\n",
       "      <th>67.0</th>\n",
       "      <th>19289</th>\n",
       "      <td>999.0</td>\n",
       "      <td>1.0</td>\n",
       "    </tr>\n",
       "    <tr>\n",
       "      <th>70.0</th>\n",
       "      <th>15854</th>\n",
       "      <td>859.0</td>\n",
       "      <td>1.0</td>\n",
       "    </tr>\n",
       "    <tr>\n",
       "      <th>71.0</th>\n",
       "      <th>20949</th>\n",
       "      <td>5.0</td>\n",
       "      <td>2.0</td>\n",
       "    </tr>\n",
       "    <tr>\n",
       "      <th>79.0</th>\n",
       "      <th>17717</th>\n",
       "      <td>500.0</td>\n",
       "      <td>1.0</td>\n",
       "    </tr>\n",
       "  </tbody>\n",
       "</table>\n",
       "<p>2935819 rows × 2 columns</p>\n",
       "</div>"
      ],
      "text/plain": [
       "                                                        item_price  \\\n",
       "shop_id date_block date       item_category_id item_id               \n",
       "0.0     0.0        2013-01-13 2.0              5576         2231.0   \n",
       "                                               5629         1925.0   \n",
       "                              3.0              13071         242.0   \n",
       "                              6.0              11305         263.0   \n",
       "                              11.0             13478       13355.0   \n",
       "...                                                            ...   \n",
       "59.0    33.0       2015-12-10 55.0             18441         299.0   \n",
       "                              67.0             19289         999.0   \n",
       "                              70.0             15854         859.0   \n",
       "                              71.0             20949           5.0   \n",
       "                              79.0             17717         500.0   \n",
       "\n",
       "                                                        item_count_day  \n",
       "shop_id date_block date       item_category_id item_id                  \n",
       "0.0     0.0        2013-01-13 2.0              5576                1.0  \n",
       "                                               5629                1.0  \n",
       "                              3.0              13071               2.0  \n",
       "                              6.0              11305               1.0  \n",
       "                              11.0             13478               1.0  \n",
       "...                                                                ...  \n",
       "59.0    33.0       2015-12-10 55.0             18441               1.0  \n",
       "                              67.0             19289               1.0  \n",
       "                              70.0             15854               1.0  \n",
       "                              71.0             20949               2.0  \n",
       "                              79.0             17717               1.0  \n",
       "\n",
       "[2935819 rows x 2 columns]"
      ]
     },
     "execution_count": 53,
     "metadata": {},
     "output_type": "execute_result"
    }
   ],
   "source": [
    "shop_details"
   ]
  },
  {
   "cell_type": "markdown",
   "id": "ideal-diary",
   "metadata": {},
   "source": [
    "### Single shop details:"
   ]
  },
  {
   "cell_type": "code",
   "execution_count": 54,
   "id": "scenic-static",
   "metadata": {
    "ExecuteTime": {
     "end_time": "2021-02-04T23:39:46.601050Z",
     "start_time": "2021-02-04T23:39:46.580569Z"
    }
   },
   "outputs": [],
   "source": [
    "shop_20 = train[(train['shop_id'] == 20.0)]"
   ]
  },
  {
   "cell_type": "code",
   "execution_count": 55,
   "id": "martial-cross",
   "metadata": {
    "ExecuteTime": {
     "end_time": "2021-02-04T23:39:48.667297Z",
     "start_time": "2021-02-04T23:39:48.659037Z"
    }
   },
   "outputs": [],
   "source": [
    "shop_20 = shop_20.drop(\"shop_id\", axis=1)"
   ]
  },
  {
   "cell_type": "code",
   "execution_count": 56,
   "id": "forty-beginning",
   "metadata": {
    "ExecuteTime": {
     "end_time": "2021-02-04T23:39:49.815176Z",
     "start_time": "2021-02-04T23:39:49.759183Z"
    }
   },
   "outputs": [
    {
     "data": {
      "text/html": [
       "<div>\n",
       "<style scoped>\n",
       "    .dataframe tbody tr th:only-of-type {\n",
       "        vertical-align: middle;\n",
       "    }\n",
       "\n",
       "    .dataframe tbody tr th {\n",
       "        vertical-align: top;\n",
       "    }\n",
       "\n",
       "    .dataframe thead th {\n",
       "        text-align: right;\n",
       "    }\n",
       "</style>\n",
       "<table border=\"1\" class=\"dataframe\">\n",
       "  <thead>\n",
       "    <tr style=\"text-align: right;\">\n",
       "      <th></th>\n",
       "      <th>date_block</th>\n",
       "      <th>date</th>\n",
       "      <th>shop_name</th>\n",
       "      <th>item_category_id</th>\n",
       "      <th>item_category_name</th>\n",
       "      <th>item_id</th>\n",
       "      <th>item_name</th>\n",
       "      <th>item_price</th>\n",
       "      <th>item_count_day</th>\n",
       "    </tr>\n",
       "  </thead>\n",
       "  <tbody>\n",
       "    <tr>\n",
       "      <th>2018327</th>\n",
       "      <td>21.0</td>\n",
       "      <td>2014-04-10</td>\n",
       "      <td>\"Moscow \"\"Sale\"\"\"</td>\n",
       "      <td>67.0</td>\n",
       "      <td>Gifts - Development</td>\n",
       "      <td>4633</td>\n",
       "      <td>MINECRAFT PAPERCRAFT - Game world \"Big set\" 90...</td>\n",
       "      <td>1999.00</td>\n",
       "      <td>4.0</td>\n",
       "    </tr>\n",
       "    <tr>\n",
       "      <th>2018328</th>\n",
       "      <td>21.0</td>\n",
       "      <td>2014-05-10</td>\n",
       "      <td>\"Moscow \"\"Sale\"\"\"</td>\n",
       "      <td>67.0</td>\n",
       "      <td>Gifts - Development</td>\n",
       "      <td>4633</td>\n",
       "      <td>MINECRAFT PAPERCRAFT - Game world \"Big set\" 90...</td>\n",
       "      <td>1999.00</td>\n",
       "      <td>1.0</td>\n",
       "    </tr>\n",
       "    <tr>\n",
       "      <th>2018329</th>\n",
       "      <td>21.0</td>\n",
       "      <td>2014-03-10</td>\n",
       "      <td>\"Moscow \"\"Sale\"\"\"</td>\n",
       "      <td>67.0</td>\n",
       "      <td>Gifts - Development</td>\n",
       "      <td>4633</td>\n",
       "      <td>MINECRAFT PAPERCRAFT - Game world \"Big set\" 90...</td>\n",
       "      <td>1999.00</td>\n",
       "      <td>1.0</td>\n",
       "    </tr>\n",
       "    <tr>\n",
       "      <th>2019406</th>\n",
       "      <td>21.0</td>\n",
       "      <td>2014-04-10</td>\n",
       "      <td>\"Moscow \"\"Sale\"\"\"</td>\n",
       "      <td>67.0</td>\n",
       "      <td>Gifts - Development</td>\n",
       "      <td>4635</td>\n",
       "      <td>MINECRAFT PAPERCRAFT - Game world \"Hostile mob...</td>\n",
       "      <td>799.00</td>\n",
       "      <td>3.0</td>\n",
       "    </tr>\n",
       "    <tr>\n",
       "      <th>2020252</th>\n",
       "      <td>21.0</td>\n",
       "      <td>2014-04-10</td>\n",
       "      <td>\"Moscow \"\"Sale\"\"\"</td>\n",
       "      <td>67.0</td>\n",
       "      <td>Gifts - Development</td>\n",
       "      <td>4637</td>\n",
       "      <td>MINECRAFT PAPERCRAFT - Game world \"Items\" 30 i...</td>\n",
       "      <td>799.00</td>\n",
       "      <td>1.0</td>\n",
       "    </tr>\n",
       "    <tr>\n",
       "      <th>...</th>\n",
       "      <td>...</td>\n",
       "      <td>...</td>\n",
       "      <td>...</td>\n",
       "      <td>...</td>\n",
       "      <td>...</td>\n",
       "      <td>...</td>\n",
       "      <td>...</td>\n",
       "      <td>...</td>\n",
       "      <td>...</td>\n",
       "    </tr>\n",
       "    <tr>\n",
       "      <th>2933775</th>\n",
       "      <td>33.0</td>\n",
       "      <td>2015-03-10</td>\n",
       "      <td>\"Moscow \"\"Sale\"\"\"</td>\n",
       "      <td>47.0</td>\n",
       "      <td>\"Books - Comics</td>\n",
       "      <td>13222</td>\n",
       "      <td>Comic Book The Sandman The Sandman Tom 3 The C...</td>\n",
       "      <td>764.05</td>\n",
       "      <td>2.0</td>\n",
       "    </tr>\n",
       "    <tr>\n",
       "      <th>2933781</th>\n",
       "      <td>33.0</td>\n",
       "      <td>2015-03-10</td>\n",
       "      <td>\"Moscow \"\"Sale\"\"\"</td>\n",
       "      <td>47.0</td>\n",
       "      <td>\"Books - Comics</td>\n",
       "      <td>13223</td>\n",
       "      <td>Comic Book The Sandman The Sand Man Volume 4 T...</td>\n",
       "      <td>763.80</td>\n",
       "      <td>2.0</td>\n",
       "    </tr>\n",
       "    <tr>\n",
       "      <th>2933782</th>\n",
       "      <td>33.0</td>\n",
       "      <td>2015-04-10</td>\n",
       "      <td>\"Moscow \"\"Sale\"\"\"</td>\n",
       "      <td>47.0</td>\n",
       "      <td>\"Books - Comics</td>\n",
       "      <td>13223</td>\n",
       "      <td>Comic Book The Sandman The Sand Man Volume 4 T...</td>\n",
       "      <td>764.10</td>\n",
       "      <td>1.0</td>\n",
       "    </tr>\n",
       "    <tr>\n",
       "      <th>2933821</th>\n",
       "      <td>33.0</td>\n",
       "      <td>2015-02-10</td>\n",
       "      <td>\"Moscow \"\"Sale\"\"\"</td>\n",
       "      <td>47.0</td>\n",
       "      <td>\"Books - Comics</td>\n",
       "      <td>13319</td>\n",
       "      <td>Comics Dark Tower Volume 2 Long Road Home</td>\n",
       "      <td>599.00</td>\n",
       "      <td>1.0</td>\n",
       "    </tr>\n",
       "    <tr>\n",
       "      <th>2933823</th>\n",
       "      <td>33.0</td>\n",
       "      <td>2015-02-10</td>\n",
       "      <td>\"Moscow \"\"Sale\"\"\"</td>\n",
       "      <td>47.0</td>\n",
       "      <td>\"Books - Comics</td>\n",
       "      <td>13320</td>\n",
       "      <td>Comic Dark Tower Volume 3 Betrayal</td>\n",
       "      <td>599.00</td>\n",
       "      <td>1.0</td>\n",
       "    </tr>\n",
       "  </tbody>\n",
       "</table>\n",
       "<p>1792 rows × 9 columns</p>\n",
       "</div>"
      ],
      "text/plain": [
       "         date_block       date          shop_name  item_category_id  \\\n",
       "2018327        21.0 2014-04-10  \"Moscow \"\"Sale\"\"\"              67.0   \n",
       "2018328        21.0 2014-05-10  \"Moscow \"\"Sale\"\"\"              67.0   \n",
       "2018329        21.0 2014-03-10  \"Moscow \"\"Sale\"\"\"              67.0   \n",
       "2019406        21.0 2014-04-10  \"Moscow \"\"Sale\"\"\"              67.0   \n",
       "2020252        21.0 2014-04-10  \"Moscow \"\"Sale\"\"\"              67.0   \n",
       "...             ...        ...                ...               ...   \n",
       "2933775        33.0 2015-03-10  \"Moscow \"\"Sale\"\"\"              47.0   \n",
       "2933781        33.0 2015-03-10  \"Moscow \"\"Sale\"\"\"              47.0   \n",
       "2933782        33.0 2015-04-10  \"Moscow \"\"Sale\"\"\"              47.0   \n",
       "2933821        33.0 2015-02-10  \"Moscow \"\"Sale\"\"\"              47.0   \n",
       "2933823        33.0 2015-02-10  \"Moscow \"\"Sale\"\"\"              47.0   \n",
       "\n",
       "          item_category_name  item_id  \\\n",
       "2018327  Gifts - Development     4633   \n",
       "2018328  Gifts - Development     4633   \n",
       "2018329  Gifts - Development     4633   \n",
       "2019406  Gifts - Development     4635   \n",
       "2020252  Gifts - Development     4637   \n",
       "...                      ...      ...   \n",
       "2933775      \"Books - Comics    13222   \n",
       "2933781      \"Books - Comics    13223   \n",
       "2933782      \"Books - Comics    13223   \n",
       "2933821      \"Books - Comics    13319   \n",
       "2933823      \"Books - Comics    13320   \n",
       "\n",
       "                                                 item_name  item_price  \\\n",
       "2018327  MINECRAFT PAPERCRAFT - Game world \"Big set\" 90...     1999.00   \n",
       "2018328  MINECRAFT PAPERCRAFT - Game world \"Big set\" 90...     1999.00   \n",
       "2018329  MINECRAFT PAPERCRAFT - Game world \"Big set\" 90...     1999.00   \n",
       "2019406  MINECRAFT PAPERCRAFT - Game world \"Hostile mob...      799.00   \n",
       "2020252  MINECRAFT PAPERCRAFT - Game world \"Items\" 30 i...      799.00   \n",
       "...                                                    ...         ...   \n",
       "2933775  Comic Book The Sandman The Sandman Tom 3 The C...      764.05   \n",
       "2933781  Comic Book The Sandman The Sand Man Volume 4 T...      763.80   \n",
       "2933782  Comic Book The Sandman The Sand Man Volume 4 T...      764.10   \n",
       "2933821          Comics Dark Tower Volume 2 Long Road Home      599.00   \n",
       "2933823                 Comic Dark Tower Volume 3 Betrayal      599.00   \n",
       "\n",
       "         item_count_day  \n",
       "2018327             4.0  \n",
       "2018328             1.0  \n",
       "2018329             1.0  \n",
       "2019406             3.0  \n",
       "2020252             1.0  \n",
       "...                 ...  \n",
       "2933775             2.0  \n",
       "2933781             2.0  \n",
       "2933782             1.0  \n",
       "2933821             1.0  \n",
       "2933823             1.0  \n",
       "\n",
       "[1792 rows x 9 columns]"
      ]
     },
     "execution_count": 56,
     "metadata": {},
     "output_type": "execute_result"
    }
   ],
   "source": [
    "shop_20"
   ]
  },
  {
   "cell_type": "code",
   "execution_count": 58,
   "id": "friendly-violin",
   "metadata": {
    "ExecuteTime": {
     "end_time": "2021-02-04T23:40:08.258296Z",
     "start_time": "2021-02-04T23:40:07.966346Z"
    }
   },
   "outputs": [
    {
     "data": {
      "text/plain": [
       "<AxesSubplot:xlabel='item_count_day'>"
      ]
     },
     "execution_count": 58,
     "metadata": {},
     "output_type": "execute_result"
    },
    {
     "data": {
      "image/png": "[encoded data removed]",
      "text/plain": [
       "<Figure size 864x432 with 1 Axes>"
      ]
     },
     "metadata": {
      "needs_background": "light"
     },
     "output_type": "display_data"
    },
    {
     "data": {
      "image/png": "[encoded data removed]",
      "text/plain": [
       "<Figure size 864x432 with 1 Axes>"
      ]
     },
     "metadata": {
      "needs_background": "light"
     },
     "output_type": "display_data"
    }
   ],
   "source": [
    "plt.figure(figsize = (12, 6))\n",
    "sns.stripplot(x=shop_20[\"item_price\"], color='red')\n",
    "\n",
    "plt.figure(figsize = (12, 6))\n",
    "sns.stripplot(x=shop_20[\"item_count_day\"], color='blue')"
   ]
  },
  {
   "cell_type": "code",
   "execution_count": 59,
   "id": "annoying-hunger",
   "metadata": {
    "ExecuteTime": {
     "end_time": "2021-02-04T23:40:20.522379Z",
     "start_time": "2021-02-04T23:40:16.980347Z"
    }
   },
   "outputs": [
    {
     "data": {
      "text/plain": [
       "([0, 1, 2, 3, 4, 5, 6, 7, 8, 9, 10, 11],\n",
       " [Text(0, 0, ''),\n",
       "  Text(0, 0, ''),\n",
       "  Text(0, 0, ''),\n",
       "  Text(0, 0, ''),\n",
       "  Text(0, 0, ''),\n",
       "  Text(0, 0, ''),\n",
       "  Text(0, 0, ''),\n",
       "  Text(0, 0, ''),\n",
       "  Text(0, 0, ''),\n",
       "  Text(0, 0, ''),\n",
       "  Text(0, 0, ''),\n",
       "  Text(0, 0, '')])"
      ]
     },
     "execution_count": 59,
     "metadata": {},
     "output_type": "execute_result"
    },
    {
     "data": {
      "image/png": "[encoded data removed]",
      "text/plain": [
       "<Figure size 1440x1440 with 1 Axes>"
      ]
     },
     "metadata": {
      "needs_background": "light"
     },
     "output_type": "display_data"
    }
   ],
   "source": [
    "plt.figure(figsize = (20,20))\n",
    "plt.bar(shop_20[\"item_category_name\"], shop_20[\"item_count_day\"])\n",
    "plt.title(\"item categories vs count sold per day\")\n",
    "plt.xticks(rotation=90)"
   ]
  },
  {
   "cell_type": "code",
   "execution_count": 60,
   "id": "first-adolescent",
   "metadata": {
    "ExecuteTime": {
     "end_time": "2021-02-04T23:40:27.080020Z",
     "start_time": "2021-02-04T23:40:26.738863Z"
    }
   },
   "outputs": [
    {
     "data": {
      "text/plain": [
       "<matplotlib.collections.PathCollection at 0x7f3160fb69a0>"
      ]
     },
     "execution_count": 60,
     "metadata": {},
     "output_type": "execute_result"
    },
    {
     "data": {
      "image/png": "[encoded data removed]",
      "text/plain": [
       "<Figure size 432x288 with 1 Axes>"
      ]
     },
     "metadata": {
      "needs_background": "light"
     },
     "output_type": "display_data"
    }
   ],
   "source": [
    "plt.scatter(shop_20[\"item_count_day\"], shop_20[\"item_price\"])"
   ]
  },
  {
   "cell_type": "code",
   "execution_count": 63,
   "id": "informative-weekend",
   "metadata": {
    "ExecuteTime": {
     "end_time": "2021-02-04T23:41:03.957127Z",
     "start_time": "2021-02-04T23:41:03.723712Z"
    }
   },
   "outputs": [
    {
     "data": {
      "text/plain": [
       "(array([16130., 16191., 16252., 16314., 16375., 16436., 16495., 16556.]),\n",
       " [Text(0, 0, ''),\n",
       "  Text(0, 0, ''),\n",
       "  Text(0, 0, ''),\n",
       "  Text(0, 0, ''),\n",
       "  Text(0, 0, ''),\n",
       "  Text(0, 0, ''),\n",
       "  Text(0, 0, ''),\n",
       "  Text(0, 0, '')])"
      ]
     },
     "execution_count": 63,
     "metadata": {},
     "output_type": "execute_result"
    },
    {
     "data": {
      "image/png": "[encoded data removed]",
      "text/plain": [
       "<Figure size 432x288 with 1 Axes>"
      ]
     },
     "metadata": {
      "needs_background": "light"
     },
     "output_type": "display_data"
    }
   ],
   "source": [
    "plt.scatter(shop_20[\"date\"], shop_20[\"item_count_day\"])\n",
    "plt.xticks(rotation=90)"
   ]
  },
  {
   "cell_type": "code",
   "execution_count": 64,
   "id": "gentle-sound",
   "metadata": {
    "ExecuteTime": {
     "end_time": "2021-02-04T23:41:19.804820Z",
     "start_time": "2021-02-04T23:41:19.780070Z"
    }
   },
   "outputs": [
    {
     "data": {
      "text/html": [
       "<div>\n",
       "<style scoped>\n",
       "    .dataframe tbody tr th:only-of-type {\n",
       "        vertical-align: middle;\n",
       "    }\n",
       "\n",
       "    .dataframe tbody tr th {\n",
       "        vertical-align: top;\n",
       "    }\n",
       "\n",
       "    .dataframe thead th {\n",
       "        text-align: right;\n",
       "    }\n",
       "</style>\n",
       "<table border=\"1\" class=\"dataframe\">\n",
       "  <thead>\n",
       "    <tr style=\"text-align: right;\">\n",
       "      <th></th>\n",
       "      <th>item_category_name</th>\n",
       "      <th>item_category_id</th>\n",
       "    </tr>\n",
       "  </thead>\n",
       "  <tbody>\n",
       "    <tr>\n",
       "      <th>2925590</th>\n",
       "      <td>\"Books - Artbook</td>\n",
       "      <td>42.0</td>\n",
       "    </tr>\n",
       "    <tr>\n",
       "      <th>2928331</th>\n",
       "      <td>\"Books - Comics</td>\n",
       "      <td>47.0</td>\n",
       "    </tr>\n",
       "    <tr>\n",
       "      <th>2775253</th>\n",
       "      <td>Gifts - Attributes</td>\n",
       "      <td>61.0</td>\n",
       "    </tr>\n",
       "    <tr>\n",
       "      <th>2395975</th>\n",
       "      <td>\"Gifts - Gadgets</td>\n",
       "      <td>62.0</td>\n",
       "    </tr>\n",
       "    <tr>\n",
       "      <th>2454035</th>\n",
       "      <td>Gifts - Soft toys</td>\n",
       "      <td>63.0</td>\n",
       "    </tr>\n",
       "    <tr>\n",
       "      <th>2531658</th>\n",
       "      <td>Gifts - Board Games</td>\n",
       "      <td>64.0</td>\n",
       "    </tr>\n",
       "    <tr>\n",
       "      <th>2665405</th>\n",
       "      <td>Gifts - Board games (compact)</td>\n",
       "      <td>65.0</td>\n",
       "    </tr>\n",
       "    <tr>\n",
       "      <th>2018327</th>\n",
       "      <td>Gifts - Development</td>\n",
       "      <td>67.0</td>\n",
       "    </tr>\n",
       "    <tr>\n",
       "      <th>2730432</th>\n",
       "      <td>Gifts - Souvenirs</td>\n",
       "      <td>69.0</td>\n",
       "    </tr>\n",
       "    <tr>\n",
       "      <th>2330230</th>\n",
       "      <td>Gifts - Souvenirs (per sample)</td>\n",
       "      <td>70.0</td>\n",
       "    </tr>\n",
       "    <tr>\n",
       "      <th>2789734</th>\n",
       "      <td>Gifts - Figures</td>\n",
       "      <td>72.0</td>\n",
       "    </tr>\n",
       "    <tr>\n",
       "      <th>2887569</th>\n",
       "      <td>Elements of a food</td>\n",
       "      <td>83.0</td>\n",
       "    </tr>\n",
       "  </tbody>\n",
       "</table>\n",
       "</div>"
      ],
      "text/plain": [
       "                     item_category_name  item_category_id\n",
       "2925590                \"Books - Artbook              42.0\n",
       "2928331                 \"Books - Comics              47.0\n",
       "2775253              Gifts - Attributes              61.0\n",
       "2395975                \"Gifts - Gadgets              62.0\n",
       "2454035               Gifts - Soft toys              63.0\n",
       "2531658             Gifts - Board Games              64.0\n",
       "2665405   Gifts - Board games (compact)              65.0\n",
       "2018327             Gifts - Development              67.0\n",
       "2730432               Gifts - Souvenirs              69.0\n",
       "2330230  Gifts - Souvenirs (per sample)              70.0\n",
       "2789734                 Gifts - Figures              72.0\n",
       "2887569              Elements of a food              83.0"
      ]
     },
     "execution_count": 64,
     "metadata": {},
     "output_type": "execute_result"
    }
   ],
   "source": [
    "shop_20_item_categories = shop_20[[\"item_category_name\", \"item_category_id\"]]\n",
    "shop_20_item_categories = shop_20_item_categories.drop_duplicates() \n",
    "shop_20_item_categories = shop_20_item_categories.sort_values(by=\"item_category_id\")\n",
    "shop_20_item_categories"
   ]
  },
  {
   "cell_type": "code",
   "execution_count": 65,
   "id": "stainless-norway",
   "metadata": {
    "ExecuteTime": {
     "end_time": "2021-02-04T23:41:23.129609Z",
     "start_time": "2021-02-04T23:41:23.032498Z"
    }
   },
   "outputs": [],
   "source": [
    "%matplotlib qt"
   ]
  },
  {
   "cell_type": "code",
   "execution_count": 66,
   "id": "governmental-coating",
   "metadata": {
    "ExecuteTime": {
     "end_time": "2021-02-04T23:41:24.320843Z",
     "start_time": "2021-02-04T23:41:24.192287Z"
    }
   },
   "outputs": [
    {
     "data": {
      "text/plain": [
       "<matplotlib.legend.Legend at 0x7f315026f220>"
      ]
     },
     "execution_count": 66,
     "metadata": {},
     "output_type": "execute_result"
    }
   ],
   "source": [
    "fig = plt.figure(figsize=(20,20))\n",
    "ax = fig.add_subplot(111, projection='3d')\n",
    "xs=shop_20[\"item_category_id\"]\n",
    "zs=shop_20[\"item_price\"]\n",
    "ys=shop_20[\"item_count_day\"]\n",
    "shop_20_plot = ax.scatter(xs, ys, zs, c=xs)\n",
    "ax.set_xlabel(\"item category\")\n",
    "ax.set_ylabel(\"item count\")\n",
    "ax.set_zlabel(\"item price\")\n",
    "plt.title(\"Shop 20 - Items by category: \\n number sold and price\")\n",
    "\n",
    "purple_patch = mpatches.Patch(color='purple', label='Books - Artbook')\n",
    "darkpurple_patch = mpatches.Patch(color='rebeccapurple', label='Books - Comics')\n",
    "teal_patch = mpatches.Patch(color='teal', label='Gifts - Attributes')\n",
    "seagreen_patch = mpatches.Patch(color='lightseagreen', label='Gifts - Soft Toys')\n",
    "aquamarine_patch = mpatches.Patch(color='mediumaquamarine', label='Gifts - Board Games')\n",
    "lightgreen_patch = mpatches.Patch(color='lightgreen', label='Gifts - Souvenirs')\n",
    "yellow_patch = mpatches.Patch(color='yellow', label='Elements of a food')\n",
    "plt.legend(bbox_to_anchor=(0, 0, 0, 1), handles=[purple_patch, darkpurple_patch, teal_patch, seagreen_patch, aquamarine_patch, lightgreen_patch, yellow_patch])"
   ]
  },
  {
   "cell_type": "markdown",
   "id": "curious-flashing",
   "metadata": {},
   "source": [
    "### Single product:"
   ]
  },
  {
   "cell_type": "code",
   "execution_count": 67,
   "id": "monthly-status",
   "metadata": {
    "ExecuteTime": {
     "end_time": "2021-02-04T23:43:06.531231Z",
     "start_time": "2021-02-04T23:43:06.472810Z"
    }
   },
   "outputs": [
    {
     "data": {
      "text/html": [
       "<div>\n",
       "<style scoped>\n",
       "    .dataframe tbody tr th:only-of-type {\n",
       "        vertical-align: middle;\n",
       "    }\n",
       "\n",
       "    .dataframe tbody tr th {\n",
       "        vertical-align: top;\n",
       "    }\n",
       "\n",
       "    .dataframe thead th {\n",
       "        text-align: right;\n",
       "    }\n",
       "</style>\n",
       "<table border=\"1\" class=\"dataframe\">\n",
       "  <thead>\n",
       "    <tr style=\"text-align: right;\">\n",
       "      <th></th>\n",
       "      <th>date_block</th>\n",
       "      <th>date</th>\n",
       "      <th>shop_id</th>\n",
       "      <th>shop_name</th>\n",
       "      <th>item_category_id</th>\n",
       "      <th>item_category_name</th>\n",
       "      <th>item_id</th>\n",
       "      <th>item_name</th>\n",
       "      <th>item_price</th>\n",
       "      <th>item_count_day</th>\n",
       "    </tr>\n",
       "  </thead>\n",
       "  <tbody>\n",
       "    <tr>\n",
       "      <th>0</th>\n",
       "      <td>20.0</td>\n",
       "      <td>2014-01-09</td>\n",
       "      <td>54.0</td>\n",
       "      <td>\"Khimki ТЦ \"\"Mega\"\"\"</td>\n",
       "      <td>40.0</td>\n",
       "      <td>Cinema - DVD</td>\n",
       "      <td>0</td>\n",
       "      <td>!! IN THE POWER OF HAPPINESS (PLAST) D</td>\n",
       "      <td>58.0</td>\n",
       "      <td>1.0</td>\n",
       "    </tr>\n",
       "    <tr>\n",
       "      <th>1</th>\n",
       "      <td>19.0</td>\n",
       "      <td>2014-08-24</td>\n",
       "      <td>54.0</td>\n",
       "      <td>\"Khimki ТЦ \"\"Mega\"\"\"</td>\n",
       "      <td>40.0</td>\n",
       "      <td>Cinema - DVD</td>\n",
       "      <td>2</td>\n",
       "      <td>*** IN THE GLORY OF THE GLORY (UNV) D</td>\n",
       "      <td>58.0</td>\n",
       "      <td>1.0</td>\n",
       "    </tr>\n",
       "    <tr>\n",
       "      <th>2</th>\n",
       "      <td>22.0</td>\n",
       "      <td>2014-12-11</td>\n",
       "      <td>54.0</td>\n",
       "      <td>\"Khimki ТЦ \"\"Mega\"\"\"</td>\n",
       "      <td>40.0</td>\n",
       "      <td>Cinema - DVD</td>\n",
       "      <td>2</td>\n",
       "      <td>*** IN THE GLORY OF THE GLORY (UNV) D</td>\n",
       "      <td>58.0</td>\n",
       "      <td>1.0</td>\n",
       "    </tr>\n",
       "    <tr>\n",
       "      <th>3</th>\n",
       "      <td>18.0</td>\n",
       "      <td>2014-05-07</td>\n",
       "      <td>54.0</td>\n",
       "      <td>\"Khimki ТЦ \"\"Mega\"\"\"</td>\n",
       "      <td>40.0</td>\n",
       "      <td>Cinema - DVD</td>\n",
       "      <td>3</td>\n",
       "      <td>*** BLUE WAVE (Univ) D</td>\n",
       "      <td>100.0</td>\n",
       "      <td>1.0</td>\n",
       "    </tr>\n",
       "    <tr>\n",
       "      <th>4</th>\n",
       "      <td>19.0</td>\n",
       "      <td>2014-08-26</td>\n",
       "      <td>54.0</td>\n",
       "      <td>\"Khimki ТЦ \"\"Mega\"\"\"</td>\n",
       "      <td>40.0</td>\n",
       "      <td>Cinema - DVD</td>\n",
       "      <td>3</td>\n",
       "      <td>*** BLUE WAVE (Univ) D</td>\n",
       "      <td>58.0</td>\n",
       "      <td>1.0</td>\n",
       "    </tr>\n",
       "    <tr>\n",
       "      <th>...</th>\n",
       "      <td>...</td>\n",
       "      <td>...</td>\n",
       "      <td>...</td>\n",
       "      <td>...</td>\n",
       "      <td>...</td>\n",
       "      <td>...</td>\n",
       "      <td>...</td>\n",
       "      <td>...</td>\n",
       "      <td>...</td>\n",
       "      <td>...</td>\n",
       "    </tr>\n",
       "    <tr>\n",
       "      <th>2936207</th>\n",
       "      <td>4.0</td>\n",
       "      <td>2013-06-05</td>\n",
       "      <td>4.0</td>\n",
       "      <td>\"Volzhsky shopping center \"\"Volga Mall\"\"\"</td>\n",
       "      <td>52.0</td>\n",
       "      <td>Книги - Путеводители</td>\n",
       "      <td>22110</td>\n",
       "      <td>Southeast Asia Shanin VA</td>\n",
       "      <td>100.0</td>\n",
       "      <td>1.0</td>\n",
       "    </tr>\n",
       "    <tr>\n",
       "      <th>2936208</th>\n",
       "      <td>11.0</td>\n",
       "      <td>2013-12-26</td>\n",
       "      <td>6.0</td>\n",
       "      <td>\"Voronezh (Plekhanovskaya</td>\n",
       "      <td>53.0</td>\n",
       "      <td>Books - Fiction</td>\n",
       "      <td>19700</td>\n",
       "      <td>TOLSTAY E. Admiral</td>\n",
       "      <td>299.0</td>\n",
       "      <td>1.0</td>\n",
       "    </tr>\n",
       "    <tr>\n",
       "      <th>2936209</th>\n",
       "      <td>9.0</td>\n",
       "      <td>2013-10-15</td>\n",
       "      <td>46.0</td>\n",
       "      <td>\"Sergiev Posad TC \"\"7YA\"\"\"</td>\n",
       "      <td>53.0</td>\n",
       "      <td>Books - Fiction</td>\n",
       "      <td>20273</td>\n",
       "      <td>FILATOV LA About Fedot-Sagittarius, a striking...</td>\n",
       "      <td>199.0</td>\n",
       "      <td>1.0</td>\n",
       "    </tr>\n",
       "    <tr>\n",
       "      <th>2936210</th>\n",
       "      <td>13.0</td>\n",
       "      <td>2014-02-23</td>\n",
       "      <td>42.0</td>\n",
       "      <td>\"SPb TC \"\"Nevsky Center\"\"\"</td>\n",
       "      <td>53.0</td>\n",
       "      <td>Books - Fiction</td>\n",
       "      <td>19701</td>\n",
       "      <td>TOLSTAYA E. Admiral + SD</td>\n",
       "      <td>349.0</td>\n",
       "      <td>1.0</td>\n",
       "    </tr>\n",
       "    <tr>\n",
       "      <th>2936211</th>\n",
       "      <td>18.0</td>\n",
       "      <td>2014-07-20</td>\n",
       "      <td>38.0</td>\n",
       "      <td>\"Omsk TC \"\"Mega\"\"\"</td>\n",
       "      <td>51.0</td>\n",
       "      <td>Books - Cognitive Literature</td>\n",
       "      <td>17703</td>\n",
       "      <td>Traffic rules 2009. The newest method of train...</td>\n",
       "      <td>129.0</td>\n",
       "      <td>1.0</td>\n",
       "    </tr>\n",
       "  </tbody>\n",
       "</table>\n",
       "<p>2935847 rows × 10 columns</p>\n",
       "</div>"
      ],
      "text/plain": [
       "         date_block       date  shop_id  \\\n",
       "0              20.0 2014-01-09     54.0   \n",
       "1              19.0 2014-08-24     54.0   \n",
       "2              22.0 2014-12-11     54.0   \n",
       "3              18.0 2014-05-07     54.0   \n",
       "4              19.0 2014-08-26     54.0   \n",
       "...             ...        ...      ...   \n",
       "2936207         4.0 2013-06-05      4.0   \n",
       "2936208        11.0 2013-12-26      6.0   \n",
       "2936209         9.0 2013-10-15     46.0   \n",
       "2936210        13.0 2014-02-23     42.0   \n",
       "2936211        18.0 2014-07-20     38.0   \n",
       "\n",
       "                                         shop_name  item_category_id  \\\n",
       "0                             \"Khimki ТЦ \"\"Mega\"\"\"              40.0   \n",
       "1                             \"Khimki ТЦ \"\"Mega\"\"\"              40.0   \n",
       "2                             \"Khimki ТЦ \"\"Mega\"\"\"              40.0   \n",
       "3                             \"Khimki ТЦ \"\"Mega\"\"\"              40.0   \n",
       "4                             \"Khimki ТЦ \"\"Mega\"\"\"              40.0   \n",
       "...                                            ...               ...   \n",
       "2936207  \"Volzhsky shopping center \"\"Volga Mall\"\"\"              52.0   \n",
       "2936208                  \"Voronezh (Plekhanovskaya              53.0   \n",
       "2936209                 \"Sergiev Posad TC \"\"7YA\"\"\"              53.0   \n",
       "2936210                 \"SPb TC \"\"Nevsky Center\"\"\"              53.0   \n",
       "2936211                         \"Omsk TC \"\"Mega\"\"\"              51.0   \n",
       "\n",
       "                   item_category_name  item_id  \\\n",
       "0                        Cinema - DVD        0   \n",
       "1                        Cinema - DVD        2   \n",
       "2                        Cinema - DVD        2   \n",
       "3                        Cinema - DVD        3   \n",
       "4                        Cinema - DVD        3   \n",
       "...                               ...      ...   \n",
       "2936207          Книги - Путеводители    22110   \n",
       "2936208               Books - Fiction    19700   \n",
       "2936209               Books - Fiction    20273   \n",
       "2936210               Books - Fiction    19701   \n",
       "2936211  Books - Cognitive Literature    17703   \n",
       "\n",
       "                                                 item_name  item_price  \\\n",
       "0                   !! IN THE POWER OF HAPPINESS (PLAST) D        58.0   \n",
       "1                    *** IN THE GLORY OF THE GLORY (UNV) D        58.0   \n",
       "2                    *** IN THE GLORY OF THE GLORY (UNV) D        58.0   \n",
       "3                                   *** BLUE WAVE (Univ) D       100.0   \n",
       "4                                   *** BLUE WAVE (Univ) D        58.0   \n",
       "...                                                    ...         ...   \n",
       "2936207                           Southeast Asia Shanin VA       100.0   \n",
       "2936208                                 TOLSTAY E. Admiral       299.0   \n",
       "2936209  FILATOV LA About Fedot-Sagittarius, a striking...       199.0   \n",
       "2936210                           TOLSTAYA E. Admiral + SD       349.0   \n",
       "2936211  Traffic rules 2009. The newest method of train...       129.0   \n",
       "\n",
       "         item_count_day  \n",
       "0                   1.0  \n",
       "1                   1.0  \n",
       "2                   1.0  \n",
       "3                   1.0  \n",
       "4                   1.0  \n",
       "...                 ...  \n",
       "2936207             1.0  \n",
       "2936208             1.0  \n",
       "2936209             1.0  \n",
       "2936210             1.0  \n",
       "2936211             1.0  \n",
       "\n",
       "[2935847 rows x 10 columns]"
      ]
     },
     "execution_count": 67,
     "metadata": {},
     "output_type": "execute_result"
    }
   ],
   "source": [
    "train"
   ]
  },
  {
   "cell_type": "markdown",
   "id": "domestic-worthy",
   "metadata": {},
   "source": [
    "##### by item:"
   ]
  },
  {
   "cell_type": "code",
   "execution_count": 105,
   "id": "cross-security",
   "metadata": {
    "ExecuteTime": {
     "end_time": "2021-02-05T00:05:49.243148Z",
     "start_time": "2021-02-05T00:05:34.624999Z"
    }
   },
   "outputs": [
    {
     "data": {
      "text/plain": [
       "<matplotlib.collections.PathCollection at 0x7f31105e4970>"
      ]
     },
     "execution_count": 105,
     "metadata": {},
     "output_type": "execute_result"
    },
    {
     "data": {
      "image/png": "[encoded data removed]",
      "text/plain": [
       "<Figure size 432x288 with 1 Axes>"
      ]
     },
     "metadata": {
      "needs_background": "light"
     },
     "output_type": "display_data"
    }
   ],
   "source": [
    "plt.scatter(train[\"item_id\"], train[\"item_price\"], s=50,\n",
    "             alpha=0.5,)"
   ]
  },
  {
   "cell_type": "code",
   "execution_count": 70,
   "id": "affected-georgia",
   "metadata": {
    "ExecuteTime": {
     "end_time": "2021-02-04T23:44:30.472080Z",
     "start_time": "2021-02-04T23:44:30.308581Z"
    }
   },
   "outputs": [
    {
     "data": {
      "text/html": [
       "<div>\n",
       "<style scoped>\n",
       "    .dataframe tbody tr th:only-of-type {\n",
       "        vertical-align: middle;\n",
       "    }\n",
       "\n",
       "    .dataframe tbody tr th {\n",
       "        vertical-align: top;\n",
       "    }\n",
       "\n",
       "    .dataframe thead th {\n",
       "        text-align: right;\n",
       "    }\n",
       "</style>\n",
       "<table border=\"1\" class=\"dataframe\">\n",
       "  <thead>\n",
       "    <tr style=\"text-align: right;\">\n",
       "      <th></th>\n",
       "      <th>date_block</th>\n",
       "      <th>date</th>\n",
       "      <th>shop_id</th>\n",
       "      <th>shop_name</th>\n",
       "      <th>item_category_id</th>\n",
       "      <th>item_category_name</th>\n",
       "      <th>item_id</th>\n",
       "      <th>item_name</th>\n",
       "      <th>item_price</th>\n",
       "      <th>item_count_day</th>\n",
       "    </tr>\n",
       "  </thead>\n",
       "  <tbody>\n",
       "    <tr>\n",
       "      <th>1189040</th>\n",
       "      <td>4.0</td>\n",
       "      <td>2013-05-19</td>\n",
       "      <td>21.0</td>\n",
       "      <td>\"Moscow MTRTS \"\"Afi Mall\"\"\"</td>\n",
       "      <td>30.0</td>\n",
       "      <td>PC Games - Standard Edition</td>\n",
       "      <td>7912</td>\n",
       "      <td>XCOM: Enemy Unknown [PC, Jewel, Russian version]</td>\n",
       "      <td>299.5</td>\n",
       "      <td>1.0</td>\n",
       "    </tr>\n",
       "  </tbody>\n",
       "</table>\n",
       "</div>"
      ],
      "text/plain": [
       "         date_block       date  shop_id                    shop_name  \\\n",
       "1189040         4.0 2013-05-19     21.0  \"Moscow MTRTS \"\"Afi Mall\"\"\"   \n",
       "\n",
       "         item_category_id           item_category_name  item_id  \\\n",
       "1189040              30.0  PC Games - Standard Edition     7912   \n",
       "\n",
       "                                                item_name  item_price  \\\n",
       "1189040  XCOM: Enemy Unknown [PC, Jewel, Russian version]       299.5   \n",
       "\n",
       "         item_count_day  \n",
       "1189040             1.0  "
      ]
     },
     "execution_count": 70,
     "metadata": {},
     "output_type": "execute_result"
    }
   ],
   "source": [
    "random_selection = train.sample(n=1)\n",
    "random_selection"
   ]
  },
  {
   "cell_type": "markdown",
   "id": "adaptive-asset",
   "metadata": {},
   "source": [
    "###### choose this random selections \"item_id\" and do analysis on this item throughout time in all shops"
   ]
  },
  {
   "cell_type": "code",
   "execution_count": 91,
   "id": "traditional-volunteer",
   "metadata": {
    "ExecuteTime": {
     "end_time": "2021-02-04T23:51:05.793863Z",
     "start_time": "2021-02-04T23:51:05.722024Z"
    }
   },
   "outputs": [
    {
     "data": {
      "text/html": [
       "<div>\n",
       "<style scoped>\n",
       "    .dataframe tbody tr th:only-of-type {\n",
       "        vertical-align: middle;\n",
       "    }\n",
       "\n",
       "    .dataframe tbody tr th {\n",
       "        vertical-align: top;\n",
       "    }\n",
       "\n",
       "    .dataframe thead th {\n",
       "        text-align: right;\n",
       "    }\n",
       "</style>\n",
       "<table border=\"1\" class=\"dataframe\">\n",
       "  <thead>\n",
       "    <tr style=\"text-align: right;\">\n",
       "      <th></th>\n",
       "      <th>date_block</th>\n",
       "      <th>date</th>\n",
       "      <th>shop_id</th>\n",
       "      <th>shop_name</th>\n",
       "      <th>item_price</th>\n",
       "      <th>item_count_day</th>\n",
       "    </tr>\n",
       "  </thead>\n",
       "  <tbody>\n",
       "    <tr>\n",
       "      <th>1188541</th>\n",
       "      <td>0.0</td>\n",
       "      <td>2013-02-01</td>\n",
       "      <td>54.0</td>\n",
       "      <td>\"Khimki ТЦ \"\"Mega\"\"\"</td>\n",
       "      <td>599.00</td>\n",
       "      <td>1.0</td>\n",
       "    </tr>\n",
       "    <tr>\n",
       "      <th>1188542</th>\n",
       "      <td>0.0</td>\n",
       "      <td>2013-03-01</td>\n",
       "      <td>54.0</td>\n",
       "      <td>\"Khimki ТЦ \"\"Mega\"\"\"</td>\n",
       "      <td>599.00</td>\n",
       "      <td>2.0</td>\n",
       "    </tr>\n",
       "    <tr>\n",
       "      <th>1188543</th>\n",
       "      <td>0.0</td>\n",
       "      <td>2013-08-01</td>\n",
       "      <td>54.0</td>\n",
       "      <td>\"Khimki ТЦ \"\"Mega\"\"\"</td>\n",
       "      <td>599.00</td>\n",
       "      <td>1.0</td>\n",
       "    </tr>\n",
       "    <tr>\n",
       "      <th>1188544</th>\n",
       "      <td>0.0</td>\n",
       "      <td>2013-01-17</td>\n",
       "      <td>54.0</td>\n",
       "      <td>\"Khimki ТЦ \"\"Mega\"\"\"</td>\n",
       "      <td>599.00</td>\n",
       "      <td>1.0</td>\n",
       "    </tr>\n",
       "    <tr>\n",
       "      <th>1188545</th>\n",
       "      <td>0.0</td>\n",
       "      <td>2013-01-23</td>\n",
       "      <td>54.0</td>\n",
       "      <td>\"Khimki ТЦ \"\"Mega\"\"\"</td>\n",
       "      <td>599.00</td>\n",
       "      <td>1.0</td>\n",
       "    </tr>\n",
       "    <tr>\n",
       "      <th>...</th>\n",
       "      <td>...</td>\n",
       "      <td>...</td>\n",
       "      <td>...</td>\n",
       "      <td>...</td>\n",
       "      <td>...</td>\n",
       "      <td>...</td>\n",
       "    </tr>\n",
       "    <tr>\n",
       "      <th>1190236</th>\n",
       "      <td>19.0</td>\n",
       "      <td>2014-08-24</td>\n",
       "      <td>34.0</td>\n",
       "      <td>\"N.Novgorod TRC \"\"RIO\"\"\"</td>\n",
       "      <td>299.00</td>\n",
       "      <td>1.0</td>\n",
       "    </tr>\n",
       "    <tr>\n",
       "      <th>1190237</th>\n",
       "      <td>23.0</td>\n",
       "      <td>2014-12-13</td>\n",
       "      <td>33.0</td>\n",
       "      <td>\"Mytischi TRK \"\"XL-3\"\"\"</td>\n",
       "      <td>299.00</td>\n",
       "      <td>1.0</td>\n",
       "    </tr>\n",
       "    <tr>\n",
       "      <th>1190238</th>\n",
       "      <td>9.0</td>\n",
       "      <td>2013-04-10</td>\n",
       "      <td>9.0</td>\n",
       "      <td>Outbound Trade</td>\n",
       "      <td>299.50</td>\n",
       "      <td>2.0</td>\n",
       "    </tr>\n",
       "    <tr>\n",
       "      <th>1190239</th>\n",
       "      <td>9.0</td>\n",
       "      <td>2013-05-10</td>\n",
       "      <td>9.0</td>\n",
       "      <td>Outbound Trade</td>\n",
       "      <td>299.25</td>\n",
       "      <td>2.0</td>\n",
       "    </tr>\n",
       "    <tr>\n",
       "      <th>1190240</th>\n",
       "      <td>9.0</td>\n",
       "      <td>2013-06-10</td>\n",
       "      <td>9.0</td>\n",
       "      <td>Outbound Trade</td>\n",
       "      <td>299.50</td>\n",
       "      <td>1.0</td>\n",
       "    </tr>\n",
       "  </tbody>\n",
       "</table>\n",
       "<p>1700 rows × 6 columns</p>\n",
       "</div>"
      ],
      "text/plain": [
       "         date_block       date  shop_id                 shop_name  item_price  \\\n",
       "1188541         0.0 2013-02-01     54.0      \"Khimki ТЦ \"\"Mega\"\"\"      599.00   \n",
       "1188542         0.0 2013-03-01     54.0      \"Khimki ТЦ \"\"Mega\"\"\"      599.00   \n",
       "1188543         0.0 2013-08-01     54.0      \"Khimki ТЦ \"\"Mega\"\"\"      599.00   \n",
       "1188544         0.0 2013-01-17     54.0      \"Khimki ТЦ \"\"Mega\"\"\"      599.00   \n",
       "1188545         0.0 2013-01-23     54.0      \"Khimki ТЦ \"\"Mega\"\"\"      599.00   \n",
       "...             ...        ...      ...                       ...         ...   \n",
       "1190236        19.0 2014-08-24     34.0  \"N.Novgorod TRC \"\"RIO\"\"\"      299.00   \n",
       "1190237        23.0 2014-12-13     33.0   \"Mytischi TRK \"\"XL-3\"\"\"      299.00   \n",
       "1190238         9.0 2013-04-10      9.0            Outbound Trade      299.50   \n",
       "1190239         9.0 2013-05-10      9.0            Outbound Trade      299.25   \n",
       "1190240         9.0 2013-06-10      9.0            Outbound Trade      299.50   \n",
       "\n",
       "         item_count_day  \n",
       "1188541             1.0  \n",
       "1188542             2.0  \n",
       "1188543             1.0  \n",
       "1188544             1.0  \n",
       "1188545             1.0  \n",
       "...                 ...  \n",
       "1190236             1.0  \n",
       "1190237             1.0  \n",
       "1190238             2.0  \n",
       "1190239             2.0  \n",
       "1190240             1.0  \n",
       "\n",
       "[1700 rows x 6 columns]"
      ]
     },
     "execution_count": 91,
     "metadata": {},
     "output_type": "execute_result"
    }
   ],
   "source": [
    "random_item = train[(train['item_id'] == 7912)]\n",
    "random_item = random_item.drop([\"item_id\", \"item_name\", \"item_category_id\", \"item_category_name\"], axis=1)\n",
    "random_item"
   ]
  },
  {
   "cell_type": "code",
   "execution_count": 90,
   "id": "academic-generation",
   "metadata": {
    "ExecuteTime": {
     "end_time": "2021-02-04T23:50:20.424404Z",
     "start_time": "2021-02-04T23:50:20.399683Z"
    }
   },
   "outputs": [
    {
     "data": {
      "text/plain": [
       "date\n",
       "2013-01-01    1\n",
       "2013-01-02    3\n",
       "2013-01-03    3\n",
       "2013-01-04    4\n",
       "2013-01-05    3\n",
       "             ..\n",
       "2015-09-05    1\n",
       "2015-09-06    1\n",
       "2015-09-19    1\n",
       "2015-10-08    1\n",
       "2015-10-10    1\n",
       "Name: item_count_day, Length: 614, dtype: int64"
      ]
     },
     "execution_count": 90,
     "metadata": {},
     "output_type": "execute_result"
    }
   ],
   "source": [
    "h = random_item.groupby(\"date\")[\"item_count_day\"].count()\n",
    "h"
   ]
  },
  {
   "cell_type": "code",
   "execution_count": 93,
   "id": "suspected-richmond",
   "metadata": {
    "ExecuteTime": {
     "end_time": "2021-02-04T23:52:08.189633Z",
     "start_time": "2021-02-04T23:52:08.180993Z"
    }
   },
   "outputs": [],
   "source": [
    "%matplotlib inline"
   ]
  },
  {
   "cell_type": "code",
   "execution_count": 101,
   "id": "fifteen-briefing",
   "metadata": {
    "ExecuteTime": {
     "end_time": "2021-02-04T23:55:41.738064Z",
     "start_time": "2021-02-04T23:55:41.415145Z"
    }
   },
   "outputs": [
    {
     "data": {
      "text/plain": [
       "<matplotlib.collections.PathCollection at 0x7f313fb05790>"
      ]
     },
     "execution_count": 101,
     "metadata": {},
     "output_type": "execute_result"
    },
    {
     "data": {
      "image/png": "[encoded data removed]",
      "text/plain": [
       "<Figure size 432x288 with 1 Axes>"
      ]
     },
     "metadata": {
      "needs_background": "light"
     },
     "output_type": "display_data"
    }
   ],
   "source": [
    "plt.scatter(random_item[\"date\"], random_item[\"item_price\"], s=50,\n",
    "             alpha=0.5,)"
   ]
  },
  {
   "cell_type": "code",
   "execution_count": null,
   "id": "future-industry",
   "metadata": {},
   "outputs": [],
   "source": []
  }
 ],
 "metadata": {
  "kernelspec": {
   "display_name": "Python 3",
   "language": "python",
   "name": "python3"
  },
  "language_info": {
   "codemirror_mode": {
    "name": "ipython",
    "version": 3
   },
   "file_extension": ".py",
   "mimetype": "text/x-python",
   "name": "python",
   "nbconvert_exporter": "python",
   "pygments_lexer": "ipython3",
   "version": "3.8.3"
  }
 },
 "nbformat": 4,
 "nbformat_minor": 5
}
