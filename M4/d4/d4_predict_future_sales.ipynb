{
 "cells": [
  {
   "cell_type": "code",
   "execution_count": 2,
   "id": "valuable-compact",
   "metadata": {
    "ExecuteTime": {
     "end_time": "2021-02-05T08:44:30.487920Z",
     "start_time": "2021-02-05T08:44:29.632953Z"
    }
   },
   "outputs": [],
   "source": [
    "import pandas as pd\n",
    "import numpy as np\n",
    "import matplotlib.pyplot as plt\n",
    "import seaborn as sns\n",
    "import matplotlib.patches as mpatches\n",
    "%matplotlib inline"
   ]
  },
  {
   "cell_type": "code",
   "execution_count": 3,
   "id": "natural-fleet",
   "metadata": {
    "ExecuteTime": {
     "end_time": "2021-02-05T08:44:30.493957Z",
     "start_time": "2021-02-05T08:44:30.490465Z"
    }
   },
   "outputs": [],
   "source": [
    "path = \"datasets/\""
   ]
  },
  {
   "cell_type": "code",
   "execution_count": 4,
   "id": "thrown-agent",
   "metadata": {
    "ExecuteTime": {
     "end_time": "2021-02-05T08:44:30.682106Z",
     "start_time": "2021-02-05T08:44:30.557327Z"
    }
   },
   "outputs": [
    {
     "name": "stdout",
     "output_type": "stream",
     "text": [
      "item_categories.csv\t\titems-translated.csv  test.csv\r\n",
      "item_categories-translated.csv\tsales_train.csv\r\n",
      "items_russian.csv\t\tshops-translated.csv\r\n"
     ]
    }
   ],
   "source": [
    "!ls datasets/"
   ]
  },
  {
   "cell_type": "code",
   "execution_count": 5,
   "id": "spatial-accent",
   "metadata": {
    "ExecuteTime": {
     "end_time": "2021-02-05T08:44:32.563799Z",
     "start_time": "2021-02-05T08:44:31.224361Z"
    }
   },
   "outputs": [],
   "source": [
    "shops = pd.read_csv(path + \"shops-translated.csv\")\n",
    "items = pd.read_csv(path + \"items-translated.csv\")\n",
    "item_categories = pd.read_csv(path + \"item_categories-translated.csv\")\n",
    "items_russian = pd.read_csv(path + \"items_russian.csv\")\n",
    "train = pd.read_csv(path + \"sales_train.csv\")\n",
    "test = pd.read_csv(path + \"test.csv\")"
   ]
  },
  {
   "cell_type": "code",
   "execution_count": 6,
   "id": "fallen-device",
   "metadata": {
    "ExecuteTime": {
     "end_time": "2021-02-05T08:44:32.581235Z",
     "start_time": "2021-02-05T08:44:32.566129Z"
    }
   },
   "outputs": [
    {
     "data": {
      "text/html": [
       "<div>\n",
       "<style scoped>\n",
       "    .dataframe tbody tr th:only-of-type {\n",
       "        vertical-align: middle;\n",
       "    }\n",
       "\n",
       "    .dataframe tbody tr th {\n",
       "        vertical-align: top;\n",
       "    }\n",
       "\n",
       "    .dataframe thead th {\n",
       "        text-align: right;\n",
       "    }\n",
       "</style>\n",
       "<table border=\"1\" class=\"dataframe\">\n",
       "  <thead>\n",
       "    <tr style=\"text-align: right;\">\n",
       "      <th></th>\n",
       "      <th>item_category_id,item_category_name_translated</th>\n",
       "    </tr>\n",
       "  </thead>\n",
       "  <tbody>\n",
       "    <tr>\n",
       "      <th>0</th>\n",
       "      <td>0,PC - Headsets / Headphones</td>\n",
       "    </tr>\n",
       "    <tr>\n",
       "      <th>1</th>\n",
       "      <td>1,Accessories - PS2</td>\n",
       "    </tr>\n",
       "    <tr>\n",
       "      <th>2</th>\n",
       "      <td>2,Accessories - PS3</td>\n",
       "    </tr>\n",
       "    <tr>\n",
       "      <th>3</th>\n",
       "      <td>3,Accessories - PS4</td>\n",
       "    </tr>\n",
       "    <tr>\n",
       "      <th>4</th>\n",
       "      <td>4,Accessories - PSP</td>\n",
       "    </tr>\n",
       "    <tr>\n",
       "      <th>5</th>\n",
       "      <td>5,Accessories - PSVita</td>\n",
       "    </tr>\n",
       "    <tr>\n",
       "      <th>6</th>\n",
       "      <td>6,Accessories - XBOX 360</td>\n",
       "    </tr>\n",
       "    <tr>\n",
       "      <th>7</th>\n",
       "      <td>7,Accessories - XBOX ONE</td>\n",
       "    </tr>\n",
       "    <tr>\n",
       "      <th>8</th>\n",
       "      <td>8,Tickets (figure)</td>\n",
       "    </tr>\n",
       "    <tr>\n",
       "      <th>9</th>\n",
       "      <td>9,Delivery of goods</td>\n",
       "    </tr>\n",
       "  </tbody>\n",
       "</table>\n",
       "</div>"
      ],
      "text/plain": [
       "  item_category_id,item_category_name_translated\n",
       "0                   0,PC - Headsets / Headphones\n",
       "1                            1,Accessories - PS2\n",
       "2                            2,Accessories - PS3\n",
       "3                            3,Accessories - PS4\n",
       "4                            4,Accessories - PSP\n",
       "5                         5,Accessories - PSVita\n",
       "6                       6,Accessories - XBOX 360\n",
       "7                       7,Accessories - XBOX ONE\n",
       "8                             8,Tickets (figure)\n",
       "9                            9,Delivery of goods"
      ]
     },
     "execution_count": 6,
     "metadata": {},
     "output_type": "execute_result"
    }
   ],
   "source": [
    "item_categories[:10]"
   ]
  },
  {
   "cell_type": "code",
   "execution_count": 7,
   "id": "neither-arrival",
   "metadata": {
    "ExecuteTime": {
     "end_time": "2021-02-05T08:44:33.300224Z",
     "start_time": "2021-02-05T08:44:33.292368Z"
    }
   },
   "outputs": [],
   "source": [
    "item_categories = item_categories[\"item_category_id,item_category_name_translated\"].str.split(',', expand=True)"
   ]
  },
  {
   "cell_type": "code",
   "execution_count": 8,
   "id": "creative-sword",
   "metadata": {
    "ExecuteTime": {
     "end_time": "2021-02-05T08:44:33.882991Z",
     "start_time": "2021-02-05T08:44:33.874715Z"
    }
   },
   "outputs": [],
   "source": [
    "item_categories.columns = [\"item_category_id\", \"item_category_name\", \"c\", \"d\"]"
   ]
  },
  {
   "cell_type": "code",
   "execution_count": 9,
   "id": "regulation-remainder",
   "metadata": {
    "ExecuteTime": {
     "end_time": "2021-02-05T08:44:34.450721Z",
     "start_time": "2021-02-05T08:44:34.441840Z"
    }
   },
   "outputs": [],
   "source": [
    "item_categories = item_categories.drop([\"c\", \"d\"], axis=1)"
   ]
  },
  {
   "cell_type": "code",
   "execution_count": 10,
   "id": "innocent-deficit",
   "metadata": {
    "ExecuteTime": {
     "end_time": "2021-02-05T08:44:35.026688Z",
     "start_time": "2021-02-05T08:44:35.016616Z"
    }
   },
   "outputs": [
    {
     "data": {
      "text/html": [
       "<div>\n",
       "<style scoped>\n",
       "    .dataframe tbody tr th:only-of-type {\n",
       "        vertical-align: middle;\n",
       "    }\n",
       "\n",
       "    .dataframe tbody tr th {\n",
       "        vertical-align: top;\n",
       "    }\n",
       "\n",
       "    .dataframe thead th {\n",
       "        text-align: right;\n",
       "    }\n",
       "</style>\n",
       "<table border=\"1\" class=\"dataframe\">\n",
       "  <thead>\n",
       "    <tr style=\"text-align: right;\">\n",
       "      <th></th>\n",
       "      <th>item_category_id</th>\n",
       "      <th>item_category_name</th>\n",
       "    </tr>\n",
       "  </thead>\n",
       "  <tbody>\n",
       "    <tr>\n",
       "      <th>0</th>\n",
       "      <td>0</td>\n",
       "      <td>PC - Headsets / Headphones</td>\n",
       "    </tr>\n",
       "    <tr>\n",
       "      <th>1</th>\n",
       "      <td>1</td>\n",
       "      <td>Accessories - PS2</td>\n",
       "    </tr>\n",
       "    <tr>\n",
       "      <th>2</th>\n",
       "      <td>2</td>\n",
       "      <td>Accessories - PS3</td>\n",
       "    </tr>\n",
       "    <tr>\n",
       "      <th>3</th>\n",
       "      <td>3</td>\n",
       "      <td>Accessories - PS4</td>\n",
       "    </tr>\n",
       "    <tr>\n",
       "      <th>4</th>\n",
       "      <td>4</td>\n",
       "      <td>Accessories - PSP</td>\n",
       "    </tr>\n",
       "    <tr>\n",
       "      <th>5</th>\n",
       "      <td>5</td>\n",
       "      <td>Accessories - PSVita</td>\n",
       "    </tr>\n",
       "    <tr>\n",
       "      <th>6</th>\n",
       "      <td>6</td>\n",
       "      <td>Accessories - XBOX 360</td>\n",
       "    </tr>\n",
       "    <tr>\n",
       "      <th>7</th>\n",
       "      <td>7</td>\n",
       "      <td>Accessories - XBOX ONE</td>\n",
       "    </tr>\n",
       "    <tr>\n",
       "      <th>8</th>\n",
       "      <td>8</td>\n",
       "      <td>Tickets (figure)</td>\n",
       "    </tr>\n",
       "    <tr>\n",
       "      <th>9</th>\n",
       "      <td>9</td>\n",
       "      <td>Delivery of goods</td>\n",
       "    </tr>\n",
       "  </tbody>\n",
       "</table>\n",
       "</div>"
      ],
      "text/plain": [
       "  item_category_id          item_category_name\n",
       "0                0  PC - Headsets / Headphones\n",
       "1                1           Accessories - PS2\n",
       "2                2           Accessories - PS3\n",
       "3                3           Accessories - PS4\n",
       "4                4           Accessories - PSP\n",
       "5                5        Accessories - PSVita\n",
       "6                6      Accessories - XBOX 360\n",
       "7                7      Accessories - XBOX ONE\n",
       "8                8            Tickets (figure)\n",
       "9                9           Delivery of goods"
      ]
     },
     "execution_count": 10,
     "metadata": {},
     "output_type": "execute_result"
    }
   ],
   "source": [
    "item_categories[:10]"
   ]
  },
  {
   "cell_type": "code",
   "execution_count": 11,
   "id": "norman-travel",
   "metadata": {
    "ExecuteTime": {
     "end_time": "2021-02-05T08:44:35.839163Z",
     "start_time": "2021-02-05T08:44:35.823649Z"
    }
   },
   "outputs": [
    {
     "data": {
      "text/plain": [
       "item_category_id      0.0\n",
       "item_category_name    0.0\n",
       "dtype: float64"
      ]
     },
     "execution_count": 11,
     "metadata": {},
     "output_type": "execute_result"
    }
   ],
   "source": [
    "item_categories.isnull().sum()/len(item_categories)"
   ]
  },
  {
   "cell_type": "code",
   "execution_count": 12,
   "id": "single-aging",
   "metadata": {
    "ExecuteTime": {
     "end_time": "2021-02-05T08:44:36.625487Z",
     "start_time": "2021-02-05T08:44:36.587834Z"
    }
   },
   "outputs": [
    {
     "name": "stdout",
     "output_type": "stream",
     "text": [
      "<class 'pandas.core.frame.DataFrame'>\n",
      "RangeIndex: 84 entries, 0 to 83\n",
      "Data columns (total 2 columns):\n",
      " #   Column              Non-Null Count  Dtype \n",
      "---  ------              --------------  ----- \n",
      " 0   item_category_id    84 non-null     object\n",
      " 1   item_category_name  84 non-null     object\n",
      "dtypes: object(2)\n",
      "memory usage: 1.4+ KB\n"
     ]
    }
   ],
   "source": [
    "item_categories.info()"
   ]
  },
  {
   "cell_type": "code",
   "execution_count": 13,
   "id": "republican-capitol",
   "metadata": {
    "ExecuteTime": {
     "end_time": "2021-02-05T08:44:37.387201Z",
     "start_time": "2021-02-05T08:44:37.376379Z"
    }
   },
   "outputs": [
    {
     "data": {
      "text/html": [
       "<div>\n",
       "<style scoped>\n",
       "    .dataframe tbody tr th:only-of-type {\n",
       "        vertical-align: middle;\n",
       "    }\n",
       "\n",
       "    .dataframe tbody tr th {\n",
       "        vertical-align: top;\n",
       "    }\n",
       "\n",
       "    .dataframe thead th {\n",
       "        text-align: right;\n",
       "    }\n",
       "</style>\n",
       "<table border=\"1\" class=\"dataframe\">\n",
       "  <thead>\n",
       "    <tr style=\"text-align: right;\">\n",
       "      <th></th>\n",
       "      <th>shop_id,shop_name_translated</th>\n",
       "    </tr>\n",
       "  </thead>\n",
       "  <tbody>\n",
       "    <tr>\n",
       "      <th>0</th>\n",
       "      <td>0,\"Yakutsk Ordzhonikidze, 56 francs\"</td>\n",
       "    </tr>\n",
       "    <tr>\n",
       "      <th>1</th>\n",
       "      <td>1,\"Yakutsk TC \"\"Central\"\" franc\"</td>\n",
       "    </tr>\n",
       "    <tr>\n",
       "      <th>2</th>\n",
       "      <td>2,\"Adygea Shopping Center \"\"Mega\"\"\"</td>\n",
       "    </tr>\n",
       "    <tr>\n",
       "      <th>3</th>\n",
       "      <td>3,\"Balashikha TRK \"\"October-Kinomir\"\"\"</td>\n",
       "    </tr>\n",
       "    <tr>\n",
       "      <th>4</th>\n",
       "      <td>4,\"Volzhsky shopping center \"\"Volga Mall\"\"\"</td>\n",
       "    </tr>\n",
       "    <tr>\n",
       "      <th>5</th>\n",
       "      <td>5,\"Vologda Shopping and Entertainment Center \"...</td>\n",
       "    </tr>\n",
       "    <tr>\n",
       "      <th>6</th>\n",
       "      <td>6,\"Voronezh (Plekhanovskaya, 13)\"</td>\n",
       "    </tr>\n",
       "    <tr>\n",
       "      <th>7</th>\n",
       "      <td>7,\"Voronezh TRC \"\"Maksimir\"\"\"</td>\n",
       "    </tr>\n",
       "    <tr>\n",
       "      <th>8</th>\n",
       "      <td>8,\"Voronezh TRC City-Park \"\"Grad\"\"\"</td>\n",
       "    </tr>\n",
       "    <tr>\n",
       "      <th>9</th>\n",
       "      <td>9,Outbound Trade</td>\n",
       "    </tr>\n",
       "  </tbody>\n",
       "</table>\n",
       "</div>"
      ],
      "text/plain": [
       "                        shop_id,shop_name_translated\n",
       "0               0,\"Yakutsk Ordzhonikidze, 56 francs\"\n",
       "1                   1,\"Yakutsk TC \"\"Central\"\" franc\"\n",
       "2                2,\"Adygea Shopping Center \"\"Mega\"\"\"\n",
       "3             3,\"Balashikha TRK \"\"October-Kinomir\"\"\"\n",
       "4        4,\"Volzhsky shopping center \"\"Volga Mall\"\"\"\n",
       "5  5,\"Vologda Shopping and Entertainment Center \"...\n",
       "6                  6,\"Voronezh (Plekhanovskaya, 13)\"\n",
       "7                      7,\"Voronezh TRC \"\"Maksimir\"\"\"\n",
       "8                8,\"Voronezh TRC City-Park \"\"Grad\"\"\"\n",
       "9                                   9,Outbound Trade"
      ]
     },
     "execution_count": 13,
     "metadata": {},
     "output_type": "execute_result"
    }
   ],
   "source": [
    "shops[:10]"
   ]
  },
  {
   "cell_type": "code",
   "execution_count": null,
   "id": "remarkable-farmer",
   "metadata": {
    "ExecuteTime": {
     "end_time": "2021-02-04T23:37:58.446962Z",
     "start_time": "2021-02-04T23:37:58.437458Z"
    }
   },
   "outputs": [],
   "source": [
    "shops = shops[\"shop_id,shop_name_translated\"].str.split(',', expand=True)"
   ]
  },
  {
   "cell_type": "code",
   "execution_count": null,
   "id": "hazardous-patient",
   "metadata": {
    "ExecuteTime": {
     "end_time": "2021-02-04T23:37:59.222219Z",
     "start_time": "2021-02-04T23:37:59.217856Z"
    }
   },
   "outputs": [],
   "source": [
    "shops.columns = [\"shop_id\", \"shop_name\", \"a\"]"
   ]
  },
  {
   "cell_type": "code",
   "execution_count": null,
   "id": "passing-literacy",
   "metadata": {
    "ExecuteTime": {
     "end_time": "2021-02-04T23:37:59.949647Z",
     "start_time": "2021-02-04T23:37:59.941538Z"
    }
   },
   "outputs": [],
   "source": [
    "shops = shops.drop(\"a\", axis=1)"
   ]
  },
  {
   "cell_type": "code",
   "execution_count": null,
   "id": "proud-friendly",
   "metadata": {
    "ExecuteTime": {
     "end_time": "2021-02-04T23:38:00.658365Z",
     "start_time": "2021-02-04T23:38:00.645164Z"
    }
   },
   "outputs": [],
   "source": [
    "shops[:10]"
   ]
  },
  {
   "cell_type": "code",
   "execution_count": null,
   "id": "civilian-horizon",
   "metadata": {
    "ExecuteTime": {
     "end_time": "2021-02-04T23:38:01.525095Z",
     "start_time": "2021-02-04T23:38:01.508126Z"
    }
   },
   "outputs": [],
   "source": [
    "shops.isnull().sum()/len(shops)"
   ]
  },
  {
   "cell_type": "code",
   "execution_count": null,
   "id": "competitive-moisture",
   "metadata": {
    "ExecuteTime": {
     "end_time": "2021-02-04T23:38:02.303910Z",
     "start_time": "2021-02-04T23:38:02.267255Z"
    }
   },
   "outputs": [],
   "source": [
    "shops.info()"
   ]
  },
  {
   "cell_type": "code",
   "execution_count": null,
   "id": "exciting-father",
   "metadata": {
    "ExecuteTime": {
     "end_time": "2021-02-04T23:38:02.976991Z",
     "start_time": "2021-02-04T23:38:02.972249Z"
    }
   },
   "outputs": [],
   "source": [
    "shops[\"shop_id\"] = shops[\"shop_id\"].astype(int)"
   ]
  },
  {
   "cell_type": "code",
   "execution_count": null,
   "id": "competent-architect",
   "metadata": {
    "ExecuteTime": {
     "end_time": "2021-02-04T23:38:03.660463Z",
     "start_time": "2021-02-04T23:38:03.637609Z"
    }
   },
   "outputs": [],
   "source": [
    "items[:10]"
   ]
  },
  {
   "cell_type": "code",
   "execution_count": null,
   "id": "infectious-disease",
   "metadata": {
    "ExecuteTime": {
     "end_time": "2021-02-04T23:38:04.414260Z",
     "start_time": "2021-02-04T23:38:04.409336Z"
    }
   },
   "outputs": [],
   "source": [
    "items.columns = [\"item_id\", \"item_name\"]"
   ]
  },
  {
   "cell_type": "code",
   "execution_count": null,
   "id": "closing-tuesday",
   "metadata": {
    "ExecuteTime": {
     "end_time": "2021-02-04T23:38:05.229741Z",
     "start_time": "2021-02-04T23:38:05.210165Z"
    }
   },
   "outputs": [],
   "source": [
    "items"
   ]
  },
  {
   "cell_type": "code",
   "execution_count": null,
   "id": "logical-toyota",
   "metadata": {
    "ExecuteTime": {
     "end_time": "2021-02-04T23:38:06.037772Z",
     "start_time": "2021-02-04T23:38:06.027944Z"
    }
   },
   "outputs": [],
   "source": [
    "items.isnull().sum()/len(items)"
   ]
  },
  {
   "cell_type": "code",
   "execution_count": null,
   "id": "chicken-calibration",
   "metadata": {
    "ExecuteTime": {
     "end_time": "2021-02-04T23:38:06.819637Z",
     "start_time": "2021-02-04T23:38:06.778279Z"
    }
   },
   "outputs": [],
   "source": [
    "train"
   ]
  },
  {
   "cell_type": "code",
   "execution_count": null,
   "id": "automotive-tobacco",
   "metadata": {
    "ExecuteTime": {
     "end_time": "2021-02-04T23:38:08.012764Z",
     "start_time": "2021-02-04T23:38:07.472552Z"
    }
   },
   "outputs": [],
   "source": [
    "T1 = pd.merge(train, items, on=\"item_id\", how='right')"
   ]
  },
  {
   "cell_type": "code",
   "execution_count": null,
   "id": "controversial-dispatch",
   "metadata": {
    "ExecuteTime": {
     "end_time": "2021-02-04T23:38:08.486050Z",
     "start_time": "2021-02-04T23:38:08.236107Z"
    }
   },
   "outputs": [],
   "source": [
    "T1.isnull().sum()"
   ]
  },
  {
   "cell_type": "code",
   "execution_count": null,
   "id": "qualified-liquid",
   "metadata": {
    "ExecuteTime": {
     "end_time": "2021-02-04T23:38:09.470519Z",
     "start_time": "2021-02-04T23:38:09.450354Z"
    }
   },
   "outputs": [],
   "source": [
    "T1[\"shop_id\"] = T1[\"shop_id\"].fillna(0)"
   ]
  },
  {
   "cell_type": "code",
   "execution_count": null,
   "id": "adjusted-shadow",
   "metadata": {
    "ExecuteTime": {
     "end_time": "2021-02-04T23:38:10.383453Z",
     "start_time": "2021-02-04T23:38:10.368900Z"
    }
   },
   "outputs": [],
   "source": [
    "T1[\"shop_id\"].astype(int)"
   ]
  },
  {
   "cell_type": "code",
   "execution_count": null,
   "id": "operating-arizona",
   "metadata": {
    "ExecuteTime": {
     "end_time": "2021-02-04T23:38:11.988319Z",
     "start_time": "2021-02-04T23:38:11.186906Z"
    }
   },
   "outputs": [],
   "source": [
    "train = pd.merge(T1, shops, on='shop_id', how='outer')"
   ]
  },
  {
   "cell_type": "code",
   "execution_count": null,
   "id": "greek-garlic",
   "metadata": {
    "ExecuteTime": {
     "end_time": "2021-02-04T23:38:12.626340Z",
     "start_time": "2021-02-04T23:38:12.599573Z"
    }
   },
   "outputs": [],
   "source": [
    "train"
   ]
  },
  {
   "cell_type": "code",
   "execution_count": null,
   "id": "deluxe-cheese",
   "metadata": {
    "ExecuteTime": {
     "end_time": "2021-02-04T23:38:13.554930Z",
     "start_time": "2021-02-04T23:38:13.550418Z"
    }
   },
   "outputs": [],
   "source": [
    "item_categories[\"item_category_id\"] = item_categories[\"item_category_id\"].astype(float)"
   ]
  },
  {
   "cell_type": "code",
   "execution_count": null,
   "id": "alpine-plumbing",
   "metadata": {
    "ExecuteTime": {
     "end_time": "2021-02-04T23:38:14.449160Z",
     "start_time": "2021-02-04T23:38:14.435243Z"
    }
   },
   "outputs": [],
   "source": [
    "items_russian[\"item_category_id\"] = items_russian[\"item_category_id\"].astype(float)"
   ]
  },
  {
   "cell_type": "code",
   "execution_count": null,
   "id": "gross-covering",
   "metadata": {
    "ExecuteTime": {
     "end_time": "2021-02-04T23:38:15.689944Z",
     "start_time": "2021-02-04T23:38:15.213084Z"
    }
   },
   "outputs": [],
   "source": [
    "T1 = pd.merge(train, items_russian, on='item_id', how='outer')"
   ]
  },
  {
   "cell_type": "code",
   "execution_count": null,
   "id": "unknown-advertising",
   "metadata": {
    "ExecuteTime": {
     "end_time": "2021-02-04T23:38:17.021666Z",
     "start_time": "2021-02-04T23:38:16.269121Z"
    }
   },
   "outputs": [],
   "source": [
    "T2 = pd.merge(T1, item_categories, on='item_category_id', how='outer')"
   ]
  },
  {
   "cell_type": "code",
   "execution_count": null,
   "id": "joint-holocaust",
   "metadata": {
    "ExecuteTime": {
     "end_time": "2021-02-04T23:38:18.015570Z",
     "start_time": "2021-02-04T23:38:17.538070Z"
    }
   },
   "outputs": [],
   "source": [
    "train = T2.drop(\"item_name_y\", axis=1)"
   ]
  },
  {
   "cell_type": "code",
   "execution_count": null,
   "id": "respective-machine",
   "metadata": {
    "ExecuteTime": {
     "end_time": "2021-02-04T23:38:18.736815Z",
     "start_time": "2021-02-04T23:38:18.731140Z"
    }
   },
   "outputs": [],
   "source": [
    "train.columns = [\"date\", \"date_block\", \"shop_id\", \"item_id\", \"item_price\", \"item_count_day\", \"item_name\", \"shop_name\", \"item_category_id\", \"item_category_name\"]"
   ]
  },
  {
   "cell_type": "code",
   "execution_count": null,
   "id": "fluid-squad",
   "metadata": {
    "ExecuteTime": {
     "end_time": "2021-02-04T23:38:20.938929Z",
     "start_time": "2021-02-04T23:38:20.906528Z"
    }
   },
   "outputs": [],
   "source": [
    "train"
   ]
  },
  {
   "cell_type": "code",
   "execution_count": null,
   "id": "indie-conservative",
   "metadata": {
    "ExecuteTime": {
     "end_time": "2021-02-04T23:38:21.921468Z",
     "start_time": "2021-02-04T23:38:21.742470Z"
    }
   },
   "outputs": [],
   "source": [
    "train = train.reindex(columns= [\"date_block\", \"date\", \"shop_id\", \"shop_name\", \"item_category_id\", \"item_category_name\", \"item_id\", \"item_name\", \"item_price\", \"item_count_day\"])"
   ]
  },
  {
   "cell_type": "code",
   "execution_count": null,
   "id": "enhanced-franklin",
   "metadata": {
    "ExecuteTime": {
     "end_time": "2021-02-04T23:38:22.731141Z",
     "start_time": "2021-02-04T23:38:22.695753Z"
    }
   },
   "outputs": [],
   "source": [
    "train"
   ]
  },
  {
   "cell_type": "code",
   "execution_count": null,
   "id": "awful-twins",
   "metadata": {
    "ExecuteTime": {
     "end_time": "2021-02-04T23:38:24.163725Z",
     "start_time": "2021-02-04T23:38:23.681421Z"
    }
   },
   "outputs": [],
   "source": [
    "train.isnull().sum()"
   ]
  },
  {
   "cell_type": "code",
   "execution_count": null,
   "id": "increasing-giant",
   "metadata": {
    "ExecuteTime": {
     "end_time": "2021-02-04T23:38:25.411052Z",
     "start_time": "2021-02-04T23:38:24.963020Z"
    }
   },
   "outputs": [],
   "source": [
    "null_rows = train[train.isna().any(axis=1)]\n",
    "null_rows"
   ]
  },
  {
   "cell_type": "code",
   "execution_count": null,
   "id": "continuing-credits",
   "metadata": {
    "ExecuteTime": {
     "end_time": "2021-02-04T23:38:26.211146Z",
     "start_time": "2021-02-04T23:38:26.203954Z"
    }
   },
   "outputs": [],
   "source": [
    "len(null_rows.index)"
   ]
  },
  {
   "cell_type": "code",
   "execution_count": null,
   "id": "quantitative-airline",
   "metadata": {
    "ExecuteTime": {
     "end_time": "2021-02-04T23:38:27.962489Z",
     "start_time": "2021-02-04T23:38:27.296683Z"
    }
   },
   "outputs": [],
   "source": [
    "train = train.dropna()"
   ]
  },
  {
   "cell_type": "code",
   "execution_count": null,
   "id": "renewable-diabetes",
   "metadata": {
    "ExecuteTime": {
     "end_time": "2021-02-04T23:38:28.723405Z",
     "start_time": "2021-02-04T23:38:28.680843Z"
    }
   },
   "outputs": [],
   "source": [
    "train"
   ]
  },
  {
   "cell_type": "code",
   "execution_count": null,
   "id": "greatest-savings",
   "metadata": {
    "ExecuteTime": {
     "end_time": "2021-02-04T23:38:29.836978Z",
     "start_time": "2021-02-04T23:38:29.825659Z"
    }
   },
   "outputs": [],
   "source": [
    "train.dtypes"
   ]
  },
  {
   "cell_type": "code",
   "execution_count": null,
   "id": "hispanic-florence",
   "metadata": {
    "ExecuteTime": {
     "end_time": "2021-02-04T23:38:31.394755Z",
     "start_time": "2021-02-04T23:38:30.907907Z"
    }
   },
   "outputs": [],
   "source": [
    "train['date'] = pd.to_datetime(train['date'])"
   ]
  },
  {
   "cell_type": "code",
   "execution_count": null,
   "id": "surprising-student",
   "metadata": {
    "ExecuteTime": {
     "end_time": "2021-02-04T23:38:32.398794Z",
     "start_time": "2021-02-04T23:38:32.355740Z"
    }
   },
   "outputs": [],
   "source": [
    "train"
   ]
  },
  {
   "cell_type": "markdown",
   "id": "veterinary-voluntary",
   "metadata": {},
   "source": [
    "## Plots"
   ]
  },
  {
   "cell_type": "code",
   "execution_count": null,
   "id": "higher-queens",
   "metadata": {
    "ExecuteTime": {
     "end_time": "2021-02-04T23:38:37.507770Z",
     "start_time": "2021-02-04T23:38:36.052243Z"
    }
   },
   "outputs": [],
   "source": [
    "plt.figure(figsize=(10,5))\n",
    "plt.xlim(train.item_price.min(), train.item_price.max()*1.1)\n",
    "sns.boxplot(x=train.item_price)\n",
    "\n",
    "plt.figure(figsize=(10,5))\n",
    "plt.xlim(train.item_count_day.min(), train.item_count_day.max()*1.1)\n",
    "sns.boxplot(x=train.item_count_day)"
   ]
  },
  {
   "cell_type": "code",
   "execution_count": null,
   "id": "ethical-species",
   "metadata": {
    "ExecuteTime": {
     "end_time": "2021-02-04T23:38:48.750832Z",
     "start_time": "2021-02-04T23:38:48.381780Z"
    }
   },
   "outputs": [],
   "source": [
    "train = train[train.item_price<100000]\n",
    "train = train[train.item_count_day<2000]"
   ]
  },
  {
   "cell_type": "code",
   "execution_count": null,
   "id": "balanced-weapon",
   "metadata": {
    "ExecuteTime": {
     "end_time": "2021-02-04T23:39:22.368185Z",
     "start_time": "2021-02-04T23:39:16.893792Z"
    }
   },
   "outputs": [],
   "source": [
    "plt.figure(figsize=(15,15))\n",
    "plt.scatter(train['item_count_day'], train['item_price'])\n",
    "plt.xlabel(\"item count per day\")\n",
    "plt.ylabel(\"item price\")"
   ]
  },
  {
   "cell_type": "markdown",
   "id": "defined-cornell",
   "metadata": {},
   "source": [
    "#### Groupby shop:"
   ]
  },
  {
   "cell_type": "code",
   "execution_count": null,
   "id": "hawaiian-steam",
   "metadata": {
    "ExecuteTime": {
     "end_time": "2021-02-04T23:39:39.775383Z",
     "start_time": "2021-02-04T23:39:38.005205Z"
    }
   },
   "outputs": [],
   "source": [
    "shop_details = train.groupby([\"shop_id\", \"date_block\", \"date\", \"item_category_id\", \"item_id\"]).agg(np.mean)"
   ]
  },
  {
   "cell_type": "code",
   "execution_count": null,
   "id": "collective-stability",
   "metadata": {
    "ExecuteTime": {
     "end_time": "2021-02-04T23:39:41.267186Z",
     "start_time": "2021-02-04T23:39:41.221883Z"
    }
   },
   "outputs": [],
   "source": [
    "shop_details"
   ]
  },
  {
   "cell_type": "markdown",
   "id": "automated-honduras",
   "metadata": {},
   "source": [
    "### Single shop details:"
   ]
  },
  {
   "cell_type": "code",
   "execution_count": null,
   "id": "decreased-maria",
   "metadata": {
    "ExecuteTime": {
     "end_time": "2021-02-04T23:39:46.601050Z",
     "start_time": "2021-02-04T23:39:46.580569Z"
    }
   },
   "outputs": [],
   "source": [
    "shop_20 = train[(train['shop_id'] == 20.0)]"
   ]
  },
  {
   "cell_type": "code",
   "execution_count": null,
   "id": "controversial-packing",
   "metadata": {
    "ExecuteTime": {
     "end_time": "2021-02-04T23:39:48.667297Z",
     "start_time": "2021-02-04T23:39:48.659037Z"
    }
   },
   "outputs": [],
   "source": [
    "shop_20 = shop_20.drop(\"shop_id\", axis=1)"
   ]
  },
  {
   "cell_type": "code",
   "execution_count": null,
   "id": "neither-reviewer",
   "metadata": {
    "ExecuteTime": {
     "end_time": "2021-02-04T23:39:49.815176Z",
     "start_time": "2021-02-04T23:39:49.759183Z"
    }
   },
   "outputs": [],
   "source": [
    "shop_20"
   ]
  },
  {
   "cell_type": "code",
   "execution_count": null,
   "id": "cultural-opera",
   "metadata": {
    "ExecuteTime": {
     "end_time": "2021-02-04T23:40:08.258296Z",
     "start_time": "2021-02-04T23:40:07.966346Z"
    }
   },
   "outputs": [],
   "source": [
    "plt.figure(figsize = (12, 6))\n",
    "sns.stripplot(x=shop_20[\"item_price\"], color='red')\n",
    "\n",
    "plt.figure(figsize = (12, 6))\n",
    "sns.stripplot(x=shop_20[\"item_count_day\"], color='blue')"
   ]
  },
  {
   "cell_type": "code",
   "execution_count": null,
   "id": "reflected-delicious",
   "metadata": {
    "ExecuteTime": {
     "end_time": "2021-02-04T23:40:20.522379Z",
     "start_time": "2021-02-04T23:40:16.980347Z"
    }
   },
   "outputs": [],
   "source": [
    "plt.figure(figsize = (20,20))\n",
    "plt.bar(shop_20[\"item_category_name\"], shop_20[\"item_count_day\"])\n",
    "plt.title(\"item categories vs count sold per day\")\n",
    "plt.xticks(rotation=90)"
   ]
  },
  {
   "cell_type": "code",
   "execution_count": null,
   "id": "colored-manner",
   "metadata": {
    "ExecuteTime": {
     "end_time": "2021-02-04T23:40:27.080020Z",
     "start_time": "2021-02-04T23:40:26.738863Z"
    }
   },
   "outputs": [],
   "source": [
    "plt.scatter(shop_20[\"item_count_day\"], shop_20[\"item_price\"])"
   ]
  },
  {
   "cell_type": "code",
   "execution_count": null,
   "id": "sought-integrity",
   "metadata": {
    "ExecuteTime": {
     "end_time": "2021-02-04T23:41:03.957127Z",
     "start_time": "2021-02-04T23:41:03.723712Z"
    }
   },
   "outputs": [],
   "source": [
    "plt.scatter(shop_20[\"date\"], shop_20[\"item_count_day\"])\n",
    "plt.xticks(rotation=90)"
   ]
  },
  {
   "cell_type": "code",
   "execution_count": null,
   "id": "dynamic-heater",
   "metadata": {
    "ExecuteTime": {
     "end_time": "2021-02-04T23:41:19.804820Z",
     "start_time": "2021-02-04T23:41:19.780070Z"
    }
   },
   "outputs": [],
   "source": [
    "shop_20_item_categories = shop_20[[\"item_category_name\", \"item_category_id\"]]\n",
    "shop_20_item_categories = shop_20_item_categories.drop_duplicates() \n",
    "shop_20_item_categories = shop_20_item_categories.sort_values(by=\"item_category_id\")\n",
    "shop_20_item_categories"
   ]
  },
  {
   "cell_type": "code",
   "execution_count": null,
   "id": "outside-person",
   "metadata": {
    "ExecuteTime": {
     "end_time": "2021-02-04T23:41:23.129609Z",
     "start_time": "2021-02-04T23:41:23.032498Z"
    }
   },
   "outputs": [],
   "source": [
    "%matplotlib qt"
   ]
  },
  {
   "cell_type": "code",
   "execution_count": null,
   "id": "exceptional-orchestra",
   "metadata": {
    "ExecuteTime": {
     "end_time": "2021-02-04T23:41:24.320843Z",
     "start_time": "2021-02-04T23:41:24.192287Z"
    }
   },
   "outputs": [],
   "source": [
    "fig = plt.figure(figsize=(20,20))\n",
    "ax = fig.add_subplot(111, projection='3d')\n",
    "xs=shop_20[\"item_category_id\"]\n",
    "zs=shop_20[\"item_price\"]\n",
    "ys=shop_20[\"item_count_day\"]\n",
    "shop_20_plot = ax.scatter(xs, ys, zs, c=xs)\n",
    "ax.set_xlabel(\"item category\")\n",
    "ax.set_ylabel(\"item count\")\n",
    "ax.set_zlabel(\"item price\")\n",
    "plt.title(\"Shop 20 - Items by category: \\n number sold and price\")\n",
    "\n",
    "purple_patch = mpatches.Patch(color='purple', label='Books - Artbook')\n",
    "darkpurple_patch = mpatches.Patch(color='rebeccapurple', label='Books - Comics')\n",
    "teal_patch = mpatches.Patch(color='teal', label='Gifts - Attributes')\n",
    "seagreen_patch = mpatches.Patch(color='lightseagreen', label='Gifts - Soft Toys')\n",
    "aquamarine_patch = mpatches.Patch(color='mediumaquamarine', label='Gifts - Board Games')\n",
    "lightgreen_patch = mpatches.Patch(color='lightgreen', label='Gifts - Souvenirs')\n",
    "yellow_patch = mpatches.Patch(color='yellow', label='Elements of a food')\n",
    "plt.legend(bbox_to_anchor=(0, 0, 0, 1), handles=[purple_patch, darkpurple_patch, teal_patch, seagreen_patch, aquamarine_patch, lightgreen_patch, yellow_patch])"
   ]
  },
  {
   "cell_type": "markdown",
   "id": "french-resolution",
   "metadata": {},
   "source": [
    "### Single product:"
   ]
  },
  {
   "cell_type": "code",
   "execution_count": null,
   "id": "literary-grain",
   "metadata": {
    "ExecuteTime": {
     "end_time": "2021-02-04T23:43:06.531231Z",
     "start_time": "2021-02-04T23:43:06.472810Z"
    }
   },
   "outputs": [],
   "source": [
    "train"
   ]
  },
  {
   "cell_type": "markdown",
   "id": "capable-recovery",
   "metadata": {},
   "source": [
    "##### by item:"
   ]
  },
  {
   "cell_type": "code",
   "execution_count": null,
   "id": "excellent-ordinary",
   "metadata": {
    "ExecuteTime": {
     "end_time": "2021-02-05T00:05:49.243148Z",
     "start_time": "2021-02-05T00:05:34.624999Z"
    }
   },
   "outputs": [],
   "source": [
    "plt.scatter(train[\"item_id\"], train[\"item_price\"], s=50,\n",
    "             alpha=0.5,)"
   ]
  },
  {
   "cell_type": "code",
   "execution_count": null,
   "id": "august-queensland",
   "metadata": {
    "ExecuteTime": {
     "end_time": "2021-02-04T23:44:30.472080Z",
     "start_time": "2021-02-04T23:44:30.308581Z"
    }
   },
   "outputs": [],
   "source": [
    "random_selection = train.sample(n=1)\n",
    "random_selection"
   ]
  },
  {
   "cell_type": "markdown",
   "id": "rapid-emperor",
   "metadata": {},
   "source": [
    "###### choose this random selections \"item_id\" and do analysis on this item throughout time in all shops"
   ]
  },
  {
   "cell_type": "code",
   "execution_count": null,
   "id": "acting-agency",
   "metadata": {
    "ExecuteTime": {
     "end_time": "2021-02-04T23:51:05.793863Z",
     "start_time": "2021-02-04T23:51:05.722024Z"
    }
   },
   "outputs": [],
   "source": [
    "random_item = train[(train['item_id'] == 7912)]\n",
    "random_item = random_item.drop([\"item_id\", \"item_name\", \"item_category_id\", \"item_category_name\"], axis=1)\n",
    "random_item"
   ]
  },
  {
   "cell_type": "code",
   "execution_count": null,
   "id": "visible-letter",
   "metadata": {
    "ExecuteTime": {
     "end_time": "2021-02-04T23:50:20.424404Z",
     "start_time": "2021-02-04T23:50:20.399683Z"
    }
   },
   "outputs": [],
   "source": [
    "h = random_item.groupby(\"date\")[\"item_count_day\"].count()\n",
    "h"
   ]
  },
  {
   "cell_type": "code",
   "execution_count": null,
   "id": "noticed-patient",
   "metadata": {
    "ExecuteTime": {
     "end_time": "2021-02-04T23:52:08.189633Z",
     "start_time": "2021-02-04T23:52:08.180993Z"
    }
   },
   "outputs": [],
   "source": [
    "%matplotlib inline"
   ]
  },
  {
   "cell_type": "code",
   "execution_count": null,
   "id": "engaging-surgery",
   "metadata": {
    "ExecuteTime": {
     "end_time": "2021-02-04T23:55:41.738064Z",
     "start_time": "2021-02-04T23:55:41.415145Z"
    }
   },
   "outputs": [],
   "source": [
    "plt.scatter(random_item[\"date\"], random_item[\"item_price\"], s=50,\n",
    "             alpha=0.5,)"
   ]
  },
  {
   "cell_type": "code",
   "execution_count": null,
   "id": "changed-chuck",
   "metadata": {},
   "outputs": [],
   "source": []
  }
 ],
 "metadata": {
  "kernelspec": {
   "display_name": "Python 3",
   "language": "python",
   "name": "python3"
  },
  "language_info": {
   "codemirror_mode": {
    "name": "ipython",
    "version": 3
   },
   "file_extension": ".py",
   "mimetype": "text/x-python",
   "name": "python",
   "nbconvert_exporter": "python",
   "pygments_lexer": "ipython3",
   "version": "3.8.3"
  }
 },
 "nbformat": 4,
 "nbformat_minor": 5
}
