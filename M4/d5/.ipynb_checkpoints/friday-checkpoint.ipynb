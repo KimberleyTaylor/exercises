{
 "cells": [
  {
   "cell_type": "code",
   "execution_count": null,
   "metadata": {},
   "outputs": [],
   "source": [
    "import pandas as pd\n",
    "import numpy as np\n",
    "import matplotlib.pyplot as plt\n",
    "import seaborn as sns\n",
    "import matplotlib.patches as mpatches\n",
    "%matplotlib inline"
   ]
  },
  {
   "cell_type": "code",
   "execution_count": null,
   "metadata": {},
   "outputs": [],
   "source": [
    "path = \"../input/\"\n",
    "shops = pd.read_csv(path + \"/shopstranslated/shops-translated.csv\")\n",
    "items = pd.read_csv(path + \"/itemstranslated/items-translated.csv\")\n",
    "item_categories = pd.read_csv(path + \"/itemcategoriestranslated/item_categories-translated.csv\")\n",
    "items_russian = pd.read_csv(path + \"/competitive-data-science-predict-future-sales/items.csv\")\n",
    "train = pd.read_csv(path + \"/competitive-data-science-predict-future-sales/sales_train.csv\")\n",
    "test = pd.read_csv(path + \"/competitive-data-science-predict-future-sales/test.csv\")"
   ]
  },
  {
   "cell_type": "code",
   "execution_count": null,
   "metadata": {},
   "outputs": [],
   "source": [
    "item_categories = item_categories[\"item_category_id,item_category_name_translated\"].str.split(',', expand=True)\n",
    "item_categories.columns = [\"item_category_id\", \"item_category_name\", \"c\", \"d\"]\n",
    "item_categories = item_categories.drop([\"c\", \"d\"], axis=1)\n",
    "item_categories"
   ]
  },
  {
   "cell_type": "code",
   "execution_count": null,
   "metadata": {},
   "outputs": [],
   "source": [
    "item_categories[\"item_type\"] = np.nan"
   ]
  },
  {
   "cell_type": "code",
   "execution_count": null,
   "metadata": {},
   "outputs": [],
   "source": [
    "item_categories[\"item_type\"] = item_categories[\"item_category_name\"].str.partition('-')\n"
   ]
  },
  {
   "cell_type": "code",
   "execution_count": null,
   "metadata": {},
   "outputs": [],
   "source": [
    "item_categories[\"jnn\"] = item_categories[\"item_category_name\"].str.split('-')"
   ]
  },
  {
   "cell_type": "code",
   "execution_count": null,
   "metadata": {},
   "outputs": [],
   "source": [
    "hoo = []\n",
    "for thingy in item_categories[\"jnn\"]:\n",
    "    hoo.append(thingy[-1].strip())"
   ]
  },
  {
   "cell_type": "code",
   "execution_count": null,
   "metadata": {},
   "outputs": [],
   "source": [
    "item_categories[\"item_specified\"] = hoo"
   ]
  },
  {
   "cell_type": "code",
   "execution_count": null,
   "metadata": {},
   "outputs": [],
   "source": [
    "item_categories = item_categories.drop([\"item_category_name\", \"jnn\"], axis=1)"
   ]
  },
  {
   "cell_type": "code",
   "execution_count": null,
   "metadata": {},
   "outputs": [],
   "source": [
    "item_categories['item_specified'] = np.where(item_categories.item_type == item_categories.item_specified, np.nan, item_categories.item_specified)"
   ]
  },
  {
   "cell_type": "code",
   "execution_count": null,
   "metadata": {},
   "outputs": [],
   "source": [
    "item_categories"
   ]
  },
  {
   "cell_type": "code",
   "execution_count": null,
   "metadata": {},
   "outputs": [],
   "source": [
    "shops"
   ]
  },
  {
   "cell_type": "code",
   "execution_count": null,
   "metadata": {},
   "outputs": [],
   "source": [
    "shops = shops[\"shop_id,shop_name_translated\"].str.partition(',')\n",
    "shops.columns = [\"shop_id\", \"a\", \"shop_name\"]\n",
    "shops[\"shop_id\"] = shops[\"shop_id\"].astype(int)"
   ]
  },
  {
   "cell_type": "code",
   "execution_count": null,
   "metadata": {},
   "outputs": [],
   "source": [
    "shop_name_list = shops[\"shop_name\"].tolist()\n",
    "shop_names = []\n",
    "places = []\n",
    "for word in shop_name_list:\n",
    "    places.append(word.split(' ',1)[0].strip('\"'))\n",
    "    shop_names.append(word.strip('\"'))"
   ]
  },
  {
   "cell_type": "code",
   "execution_count": null,
   "metadata": {},
   "outputs": [],
   "source": [
    "shops[\"location\"] = places\n",
    "shops[\"shop_name\"] = shop_names"
   ]
  },
  {
   "cell_type": "code",
   "execution_count": null,
   "metadata": {},
   "outputs": [],
   "source": [
    "shops = shops.drop(\"a\", axis=1)"
   ]
  },
  {
   "cell_type": "code",
   "execution_count": null,
   "metadata": {},
   "outputs": [],
   "source": [
    "shops"
   ]
  },
  {
   "cell_type": "code",
   "execution_count": null,
   "metadata": {},
   "outputs": [],
   "source": [
    "items.columns = [\"item_id\", \"item_name\"]\n",
    "items"
   ]
  },
  {
   "cell_type": "code",
   "execution_count": null,
   "metadata": {},
   "outputs": [],
   "source": [
    "train[:10]"
   ]
  },
  {
   "cell_type": "code",
   "execution_count": null,
   "metadata": {},
   "outputs": [],
   "source": [
    "T1 = pd.merge(train, items, on=\"item_id\", how='right')\n",
    "T1[\"shop_id\"] = T1[\"shop_id\"].fillna(999)\n",
    "T1[\"shop_id\"] = T1[\"shop_id\"].astype(int)"
   ]
  },
  {
   "cell_type": "code",
   "execution_count": null,
   "metadata": {},
   "outputs": [],
   "source": [
    "T1[\"shop_id\"] = T1[\"shop_id\"].astype(int)"
   ]
  },
  {
   "cell_type": "code",
   "execution_count": null,
   "metadata": {},
   "outputs": [],
   "source": [
    "train = pd.merge(T1, shops, on='shop_id', how='outer')\n",
    "train[:10]"
   ]
  },
  {
   "cell_type": "code",
   "execution_count": null,
   "metadata": {},
   "outputs": [],
   "source": [
    "item_categories[\"item_category_id\"] = item_categories[\"item_category_id\"].astype(float)\n",
    "items_russian[\"item_category_id\"] = items_russian[\"item_category_id\"].astype(float)\n",
    "T2 = pd.merge(train, items_russian, on='item_id', how='outer')\n",
    "T3 = pd.merge(T2, item_categories, on='item_category_id', how='outer')\n",
    "train = T3.drop(\"item_name_y\", axis=1)\n",
    "train[:10]"
   ]
  },
  {
   "cell_type": "code",
   "execution_count": null,
   "metadata": {},
   "outputs": [],
   "source": [
    "train['date'] = pd.to_datetime(train['date'])"
   ]
  },
  {
   "cell_type": "code",
   "execution_count": null,
   "metadata": {},
   "outputs": [],
   "source": [
    "train['year'] = pd.DatetimeIndex(train['date']).year\n",
    "train['month'] = pd.DatetimeIndex(train['date']).month"
   ]
  },
  {
   "cell_type": "code",
   "execution_count": null,
   "metadata": {},
   "outputs": [],
   "source": [
    "train.columns = [\"date\", \"date_block\", \"shop_id\", \"item_id\", \"item_price\", \"item_count_day\", \"item_name\", \"shop_name\", \"location\", \"item_category_id\", \"item_type\", \"item_specified\"]\n",
    "train = train.reindex(columns= [\"date_block\", \"date\", \"shop_id\", \"location\", \"shop_name\", \"item_category_id\", \"item_type\", \"item_specified\", \"item_id\", \"item_name\", \"item_price\", \"item_count_day\"])"
   ]
  },
  {
   "cell_type": "code",
   "execution_count": null,
   "metadata": {},
   "outputs": [],
   "source": [
    "train[:10]"
   ]
  },
  {
   "cell_type": "code",
   "execution_count": null,
   "metadata": {},
   "outputs": [],
   "source": [
    "null_rows = train[train.isna().any(axis=1)]\n",
    "print(\"total null rows: \", len(null_rows.index))\n",
    "print(\"\\ntrain rows with null:\\n\", train.isna().sum())"
   ]
  },
  {
   "cell_type": "code",
   "execution_count": null,
   "metadata": {},
   "outputs": [],
   "source": [
    "train = train.dropna(thresh=7, axis=0)"
   ]
  },
  {
   "cell_type": "code",
   "execution_count": null,
   "metadata": {},
   "outputs": [],
   "source": [
    "train.isnull().sum()"
   ]
  },
  {
   "cell_type": "code",
   "execution_count": null,
   "metadata": {},
   "outputs": [],
   "source": []
  },
  {
   "cell_type": "code",
   "execution_count": null,
   "metadata": {},
   "outputs": [],
   "source": [
    "train[\"date_block\"].unique()"
   ]
  },
  {
   "cell_type": "code",
   "execution_count": null,
   "metadata": {},
   "outputs": [],
   "source": []
  },
  {
   "cell_type": "code",
   "execution_count": null,
   "metadata": {},
   "outputs": [],
   "source": [
    "train"
   ]
  },
  {
   "cell_type": "code",
   "execution_count": null,
   "metadata": {},
   "outputs": [],
   "source": [
    "train[\"shop_name\"].unique()"
   ]
  },
  {
   "cell_type": "code",
   "execution_count": null,
   "metadata": {},
   "outputs": [],
   "source": [
    "train.dtypes"
   ]
  },
  {
   "cell_type": "code",
   "execution_count": null,
   "metadata": {},
   "outputs": [],
   "source": [
    "plt.figure(figsize=(10,5))\n",
    "plt.xlim(train.item_price.min(), train.item_price.max()*1.1)\n",
    "sns.boxplot(x=train.item_price)\n",
    "\n",
    "plt.figure(figsize=(10,5))\n",
    "plt.xlim(train.item_count_day.min(), train.item_count_day.max()*1.1)\n",
    "sns.boxplot(x=train.item_count_day)"
   ]
  },
  {
   "cell_type": "code",
   "execution_count": null,
   "metadata": {},
   "outputs": [],
   "source": [
    "train = train[train.item_price<100000]\n",
    "train = train[train.item_count_day<2000]"
   ]
  },
  {
   "cell_type": "code",
   "execution_count": null,
   "metadata": {},
   "outputs": [],
   "source": [
    "fig = plt.figure(figsize=(20,20))\n",
    "ax = fig.add_subplot(111, projection='3d')\n",
    "xs=train[\"item_category_id\"]\n",
    "zs=train[\"item_price\"]\n",
    "ys=train[\"item_count_day\"]\n",
    "train_plot = ax.scatter(xs, ys, zs, c=xs)\n",
    "ax.set_xlabel(\"item category\")\n",
    "ax.set_ylabel(\"item count\")\n",
    "ax.set_zlabel(\"item price\")\n",
    "plt.title(\"Items by category: \\n number sold and price\")\n",
    "\n",
    "purple_patch = mpatches.Patch(color='purple', label='Books - Artbook')\n",
    "darkpurple_patch = mpatches.Patch(color='rebeccapurple', label='Books - Comics')\n",
    "teal_patch = mpatches.Patch(color='teal', label='Gifts - Attributes')\n",
    "seagreen_patch = mpatches.Patch(color='lightseagreen', label='Gifts - Soft Toys')\n",
    "aquamarine_patch = mpatches.Patch(color='mediumaquamarine', label='Gifts - Board Games')\n",
    "lightgreen_patch = mpatches.Patch(color='lightgreen', label='Gifts - Souvenirs')\n",
    "yellow_patch = mpatches.Patch(color='yellow', label='Elements of a food')\n",
    "plt.legend(bbox_to_anchor=(0, 0, 0, 1), handles=[purple_patch, darkpurple_patch, teal_patch, seagreen_patch, aquamarine_patch, lightgreen_patch, yellow_patch])"
   ]
  },
  {
   "cell_type": "code",
   "execution_count": null,
   "metadata": {},
   "outputs": [],
   "source": [
    "fig = plt.figure(figsize=(20,20))\n",
    "ax = fig.add_subplot(111, projection='3d')\n",
    "xs=train[\"item_id\"]\n",
    "zs=train[\"item_price\"]\n",
    "ys=train[\"item_count_day\"]\n",
    "item_plot = ax.scatter(xs, ys, zs, c=xs)\n",
    "ax.set_xlabel(\"item category\")\n",
    "ax.set_ylabel(\"item count\")\n",
    "ax.set_zlabel(\"item price\")\n",
    "plt.title(\"Items: \\n number sold and price\")"
   ]
  },
  {
   "cell_type": "code",
   "execution_count": null,
   "metadata": {},
   "outputs": [],
   "source": [
    "train"
   ]
  },
  {
   "cell_type": "code",
   "execution_count": null,
   "metadata": {},
   "outputs": [],
   "source": [
    "T5 = pd.merge(test, train, on=[\"shop_id\", \"item_id\"], how=\"left\")"
   ]
  },
  {
   "cell_type": "code",
   "execution_count": null,
   "metadata": {},
   "outputs": [],
   "source": [
    "T5"
   ]
  },
  {
   "cell_type": "code",
   "execution_count": null,
   "metadata": {},
   "outputs": [],
   "source": [
    "T5.isnull().sum()"
   ]
  },
  {
   "cell_type": "code",
   "execution_count": null,
   "metadata": {},
   "outputs": [],
   "source": [
    "from matplotlib_venn import venn2"
   ]
  },
  {
   "cell_type": "code",
   "execution_count": null,
   "metadata": {},
   "outputs": [],
   "source": [
    "venn2([set(train.item_id.unique()), set(T5.item_id.unique())], set_labels = (\"Train items\", \"Test items\"))\n",
    "plt.show()"
   ]
  },
  {
   "cell_type": "code",
   "execution_count": null,
   "metadata": {},
   "outputs": [],
   "source": [
    "T5"
   ]
  },
  {
   "cell_type": "markdown",
   "metadata": {},
   "source": [
    "Find missing item prices:"
   ]
  },
  {
   "cell_type": "code",
   "execution_count": null,
   "metadata": {},
   "outputs": [],
   "source": [
    "item_prices = T5.groupby([\"item_id\"])[\"item_price\"].mean()\n",
    "item_prices"
   ]
  },
  {
   "cell_type": "code",
   "execution_count": null,
   "metadata": {},
   "outputs": [],
   "source": [
    "T5.loc[T5['item_price'].isnull(),'item_price'] = T5['item_id'].map(item_prices)"
   ]
  },
  {
   "cell_type": "code",
   "execution_count": null,
   "metadata": {},
   "outputs": [],
   "source": [
    "T5[\"item_price\"].isnull().sum()"
   ]
  },
  {
   "cell_type": "code",
   "execution_count": null,
   "metadata": {},
   "outputs": [],
   "source": [
    "general_price_mean = T5[\"item_price\"].mean()\n",
    "T5[\"item_price\"] = T5[\"item_price\"].fillna(general_price_mean)"
   ]
  },
  {
   "cell_type": "code",
   "execution_count": null,
   "metadata": {},
   "outputs": [],
   "source": [
    "T5[\"item_price\"].isnull().sum()"
   ]
  },
  {
   "cell_type": "markdown",
   "metadata": {},
   "source": [
    "Fill missing count:"
   ]
  },
  {
   "cell_type": "code",
   "execution_count": null,
   "metadata": {},
   "outputs": [],
   "source": [
    "T5[\"item_count_day\"].isnull().sum()"
   ]
  },
  {
   "cell_type": "code",
   "execution_count": null,
   "metadata": {},
   "outputs": [],
   "source": [
    "T5[\"item_count_day\"] = T5[\"item_count_day\"].fillna(0)"
   ]
  },
  {
   "cell_type": "code",
   "execution_count": null,
   "metadata": {},
   "outputs": [],
   "source": [
    "T5[\"item_count_day\"].isnull().sum()"
   ]
  },
  {
   "cell_type": "markdown",
   "metadata": {},
   "source": [
    "Fill missing shop names:"
   ]
  },
  {
   "cell_type": "code",
   "execution_count": null,
   "metadata": {},
   "outputs": [],
   "source": [
    "T5[\"shop_name\"].isnull().sum()"
   ]
  },
  {
   "cell_type": "code",
   "execution_count": null,
   "metadata": {},
   "outputs": [],
   "source": [
    "T5['shop_name'] = T5['shop_name'].astype('category') "
   ]
  },
  {
   "cell_type": "code",
   "execution_count": null,
   "metadata": {},
   "outputs": [],
   "source": [
    "shops_names = T5.groupby([\"shop_id\"])[\"shop_name\"].value_counts()\n",
    "shops_names = pd.DataFrame(shops_names)\n",
    "shops_names.columns = [\"a\"]\n",
    "shops_names"
   ]
  },
  {
   "cell_type": "code",
   "execution_count": null,
   "metadata": {},
   "outputs": [],
   "source": [
    "T5.loc[T5['shop_name'].isnull(),'shop_name'] = T5['shop_id'].map(shops_names[\"shop_name\"])"
   ]
  },
  {
   "cell_type": "code",
   "execution_count": null,
   "metadata": {},
   "outputs": [],
   "source": [
    "T5[T5[\"shop_name\"].isnull()]"
   ]
  },
  {
   "cell_type": "code",
   "execution_count": null,
   "metadata": {},
   "outputs": [],
   "source": [
    "T5"
   ]
  },
  {
   "cell_type": "code",
   "execution_count": null,
   "metadata": {},
   "outputs": [],
   "source": [
    "item_30_test = T5[(T5['item_id'] == 30)]\n",
    "item_30_test"
   ]
  },
  {
   "cell_type": "code",
   "execution_count": null,
   "metadata": {},
   "outputs": [],
   "source": [
    "T5[\"shop_name\"].unique()"
   ]
  }
 ],
 "metadata": {
  "kernelspec": {
   "display_name": "Python 3",
   "language": "python",
   "name": "python3"
  },
  "language_info": {
   "codemirror_mode": {
    "name": "ipython",
    "version": 3
   },
   "file_extension": ".py",
   "mimetype": "text/x-python",
   "name": "python",
   "nbconvert_exporter": "python",
   "pygments_lexer": "ipython3",
   "version": "3.8.3"
  }
 },
 "nbformat": 4,
 "nbformat_minor": 4
}
