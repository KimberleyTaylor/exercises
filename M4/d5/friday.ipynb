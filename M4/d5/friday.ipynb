{
 "cells": [
  {
   "cell_type": "code",
   "execution_count": null,
   "metadata": {
    "ExecuteTime": {
     "end_time": "2021-02-08T20:51:18.686616Z",
     "start_time": "2021-02-08T20:51:17.752252Z"
    }
   },
   "outputs": [],
   "source": [
    "import pandas as pd\n",
    "import numpy as np\n",
    "import matplotlib.pyplot as plt\n",
    "import seaborn as sns\n",
    "import matplotlib.patches as mpatches\n",
    "%matplotlib inline"
   ]
  },
  {
   "cell_type": "code",
   "execution_count": null,
   "metadata": {
    "ExecuteTime": {
     "end_time": "2021-02-08T20:51:18.810583Z",
     "start_time": "2021-02-08T20:51:18.688472Z"
    }
   },
   "outputs": [],
   "source": [
    "!ls ../d4/datasets/"
   ]
  },
  {
   "cell_type": "code",
   "execution_count": null,
   "metadata": {
    "ExecuteTime": {
     "end_time": "2021-02-08T20:51:20.118597Z",
     "start_time": "2021-02-08T20:51:18.814615Z"
    }
   },
   "outputs": [],
   "source": [
    "path = '../d4/datasets'\n",
    "shops = pd.read_csv(path + \"/shops-translated.csv\")\n",
    "items = pd.read_csv(path + \"/items-translated.csv\")\n",
    "item_categories = pd.read_csv(path + \"/item_categories-translated.csv\")\n",
    "items_russian = pd.read_csv(path + \"/items_russian.csv\")\n",
    "train = pd.read_csv(path + \"/sales_train.csv\")\n",
    "test = pd.read_csv(path + \"/test.csv\")"
   ]
  },
  {
   "cell_type": "code",
   "execution_count": null,
   "metadata": {
    "ExecuteTime": {
     "end_time": "2021-02-08T20:51:20.148181Z",
     "start_time": "2021-02-08T20:51:20.121205Z"
    }
   },
   "outputs": [],
   "source": [
    "item_categories = item_categories[\"item_category_id,item_category_name_translated\"].str.split(',', expand=True)\n",
    "item_categories.columns = [\"item_category_id\", \"item_category_name\", \"c\", \"d\"]\n",
    "item_categories = item_categories.drop([\"c\", \"d\"], axis=1)\n",
    "item_categories"
   ]
  },
  {
   "cell_type": "code",
   "execution_count": null,
   "metadata": {
    "ExecuteTime": {
     "end_time": "2021-02-08T20:51:20.156311Z",
     "start_time": "2021-02-08T20:51:20.151048Z"
    }
   },
   "outputs": [],
   "source": [
    "item_categories[\"item_type\"] = np.nan"
   ]
  },
  {
   "cell_type": "code",
   "execution_count": null,
   "metadata": {
    "ExecuteTime": {
     "end_time": "2021-02-08T20:51:20.167472Z",
     "start_time": "2021-02-08T20:51:20.159455Z"
    }
   },
   "outputs": [],
   "source": [
    "item_categories[\"item_type\"] = item_categories[\"item_category_name\"].str.partition('-')\n"
   ]
  },
  {
   "cell_type": "code",
   "execution_count": null,
   "metadata": {
    "ExecuteTime": {
     "end_time": "2021-02-08T20:51:20.184936Z",
     "start_time": "2021-02-08T20:51:20.169775Z"
    }
   },
   "outputs": [],
   "source": [
    "item_categories[\"jnn\"] = item_categories[\"item_category_name\"].str.split('-')"
   ]
  },
  {
   "cell_type": "code",
   "execution_count": null,
   "metadata": {
    "ExecuteTime": {
     "end_time": "2021-02-08T20:51:20.199449Z",
     "start_time": "2021-02-08T20:51:20.188162Z"
    }
   },
   "outputs": [],
   "source": [
    "hoo = []\n",
    "for thingy in item_categories[\"jnn\"]:\n",
    "    hoo.append(thingy[-1].strip())"
   ]
  },
  {
   "cell_type": "code",
   "execution_count": null,
   "metadata": {
    "ExecuteTime": {
     "end_time": "2021-02-08T20:51:20.214038Z",
     "start_time": "2021-02-08T20:51:20.202978Z"
    }
   },
   "outputs": [],
   "source": [
    "item_categories[\"item_specified\"] = hoo"
   ]
  },
  {
   "cell_type": "code",
   "execution_count": null,
   "metadata": {
    "ExecuteTime": {
     "end_time": "2021-02-08T20:51:20.232592Z",
     "start_time": "2021-02-08T20:51:20.217704Z"
    }
   },
   "outputs": [],
   "source": [
    "item_categories = item_categories.drop([\"item_category_name\", \"jnn\"], axis=1)"
   ]
  },
  {
   "cell_type": "code",
   "execution_count": null,
   "metadata": {
    "ExecuteTime": {
     "end_time": "2021-02-08T20:51:20.245631Z",
     "start_time": "2021-02-08T20:51:20.236390Z"
    }
   },
   "outputs": [],
   "source": [
    "item_categories['item_specified'] = np.where(item_categories.item_type == item_categories.item_specified, np.nan, item_categories.item_specified)"
   ]
  },
  {
   "cell_type": "code",
   "execution_count": null,
   "metadata": {
    "ExecuteTime": {
     "end_time": "2021-02-08T20:51:20.264175Z",
     "start_time": "2021-02-08T20:51:20.248587Z"
    }
   },
   "outputs": [],
   "source": [
    "item_categories"
   ]
  },
  {
   "cell_type": "code",
   "execution_count": null,
   "metadata": {
    "ExecuteTime": {
     "end_time": "2021-02-08T20:51:20.281610Z",
     "start_time": "2021-02-08T20:51:20.266360Z"
    }
   },
   "outputs": [],
   "source": [
    "shops"
   ]
  },
  {
   "cell_type": "code",
   "execution_count": null,
   "metadata": {
    "ExecuteTime": {
     "end_time": "2021-02-08T20:51:20.298593Z",
     "start_time": "2021-02-08T20:51:20.284575Z"
    }
   },
   "outputs": [],
   "source": [
    "shops = shops[\"shop_id,shop_name_translated\"].str.partition(',')\n",
    "shops.columns = [\"shop_id\", \"a\", \"shop_name\"]\n",
    "shops[\"shop_id\"] = shops[\"shop_id\"].astype(int)"
   ]
  },
  {
   "cell_type": "code",
   "execution_count": null,
   "metadata": {
    "ExecuteTime": {
     "end_time": "2021-02-08T20:51:20.307525Z",
     "start_time": "2021-02-08T20:51:20.300742Z"
    }
   },
   "outputs": [],
   "source": [
    "shop_name_list = shops[\"shop_name\"].tolist()\n",
    "shop_names = []\n",
    "places = []\n",
    "for word in shop_name_list:\n",
    "    places.append(word.split(' ',1)[0].strip('\"'))\n",
    "    shop_names.append(word.strip('\"'))"
   ]
  },
  {
   "cell_type": "code",
   "execution_count": null,
   "metadata": {
    "ExecuteTime": {
     "end_time": "2021-02-08T20:51:20.325796Z",
     "start_time": "2021-02-08T20:51:20.309669Z"
    }
   },
   "outputs": [],
   "source": [
    "shops[\"location\"] = places\n",
    "shops[\"shop_name\"] = shop_names"
   ]
  },
  {
   "cell_type": "code",
   "execution_count": null,
   "metadata": {
    "ExecuteTime": {
     "end_time": "2021-02-08T20:51:20.336319Z",
     "start_time": "2021-02-08T20:51:20.329522Z"
    }
   },
   "outputs": [],
   "source": [
    "shops = shops.drop(\"a\", axis=1)"
   ]
  },
  {
   "cell_type": "code",
   "execution_count": null,
   "metadata": {
    "ExecuteTime": {
     "end_time": "2021-02-08T20:51:20.364064Z",
     "start_time": "2021-02-08T20:51:20.338467Z"
    }
   },
   "outputs": [],
   "source": [
    "shops"
   ]
  },
  {
   "cell_type": "code",
   "execution_count": null,
   "metadata": {
    "ExecuteTime": {
     "end_time": "2021-02-08T20:51:20.384247Z",
     "start_time": "2021-02-08T20:51:20.366593Z"
    }
   },
   "outputs": [],
   "source": [
    "items.columns = [\"item_id\", \"item_name\"]\n",
    "items"
   ]
  },
  {
   "cell_type": "code",
   "execution_count": null,
   "metadata": {
    "ExecuteTime": {
     "end_time": "2021-02-08T20:51:20.403017Z",
     "start_time": "2021-02-08T20:51:20.387276Z"
    }
   },
   "outputs": [],
   "source": [
    "train[:10]"
   ]
  },
  {
   "cell_type": "code",
   "execution_count": null,
   "metadata": {
    "ExecuteTime": {
     "end_time": "2021-02-08T20:51:20.975917Z",
     "start_time": "2021-02-08T20:51:20.405529Z"
    }
   },
   "outputs": [],
   "source": [
    "T1 = pd.merge(train, items, on=\"item_id\", how='right')\n",
    "T1[\"shop_id\"] = T1[\"shop_id\"].fillna(999)\n",
    "T1[\"shop_id\"] = T1[\"shop_id\"].astype(int)"
   ]
  },
  {
   "cell_type": "code",
   "execution_count": null,
   "metadata": {
    "ExecuteTime": {
     "end_time": "2021-02-08T20:51:20.990815Z",
     "start_time": "2021-02-08T20:51:20.978017Z"
    }
   },
   "outputs": [],
   "source": [
    "T1[\"shop_id\"] = T1[\"shop_id\"].astype(int)"
   ]
  },
  {
   "cell_type": "code",
   "execution_count": null,
   "metadata": {
    "ExecuteTime": {
     "end_time": "2021-02-08T20:51:21.522315Z",
     "start_time": "2021-02-08T20:51:20.996342Z"
    }
   },
   "outputs": [],
   "source": [
    "train = pd.merge(T1, shops, on='shop_id', how='outer')\n",
    "train[:10]"
   ]
  },
  {
   "cell_type": "code",
   "execution_count": null,
   "metadata": {
    "ExecuteTime": {
     "end_time": "2021-02-08T20:53:28.610144Z",
     "start_time": "2021-02-08T20:53:27.719017Z"
    }
   },
   "outputs": [],
   "source": [
    "item_categories[\"item_category_id\"] = item_categories[\"item_category_id\"].astype(float)\n",
    "items_russian[\"item_category_id\"] = items_russian[\"item_category_id\"].astype(float)\n",
    "T2 = pd.merge(train, items_russian, on='item_id', how='outer')\n",
    "T3 = pd.merge(T2, item_categories, on='item_category_id', how='outer')\n",
    "train = T3.drop(\"item_name_y\", axis=1)\n",
    "train"
   ]
  },
  {
   "cell_type": "code",
   "execution_count": null,
   "metadata": {
    "ExecuteTime": {
     "end_time": "2021-02-08T20:51:23.871764Z",
     "start_time": "2021-02-08T20:51:23.350060Z"
    }
   },
   "outputs": [],
   "source": [
    "train['date'] = pd.to_datetime(train['date'])"
   ]
  },
  {
   "cell_type": "code",
   "execution_count": null,
   "metadata": {
    "ExecuteTime": {
     "end_time": "2021-02-08T20:51:24.502786Z",
     "start_time": "2021-02-08T20:51:23.874194Z"
    }
   },
   "outputs": [],
   "source": [
    "train['year'] = pd.DatetimeIndex(train['date']).year\n",
    "train['month'] = pd.DatetimeIndex(train['date']).month"
   ]
  },
  {
   "cell_type": "code",
   "execution_count": null,
   "metadata": {
    "ExecuteTime": {
     "end_time": "2021-02-08T20:51:24.612864Z",
     "start_time": "2021-02-08T20:51:24.505052Z"
    }
   },
   "outputs": [],
   "source": [
    "train.columns = [\"date\", \"date_block\", \"shop_id\", \"item_id\", \"item_price\", \"item_count_day\", \"item_name\", \"shop_name\", \"location\", \"item_category_id\", \"item_type\", \"item_specified\"]\n",
    "train = train.reindex(columns= [\"date_block\", \"date\", \"shop_id\", \"location\", \"shop_name\", \"item_category_id\", \"item_type\", \"item_specified\", \"item_id\", \"item_name\", \"item_price\", \"item_count_day\"])"
   ]
  },
  {
   "cell_type": "code",
   "execution_count": null,
   "metadata": {
    "ExecuteTime": {
     "end_time": "2021-02-08T20:51:24.615570Z",
     "start_time": "2021-02-08T20:51:17.852Z"
    }
   },
   "outputs": [],
   "source": [
    "train[:10]"
   ]
  },
  {
   "cell_type": "code",
   "execution_count": null,
   "metadata": {
    "ExecuteTime": {
     "end_time": "2021-02-08T20:51:24.617422Z",
     "start_time": "2021-02-08T20:51:17.855Z"
    }
   },
   "outputs": [],
   "source": [
    "null_rows = train[train.isna().any(axis=1)]\n",
    "print(\"total null rows: \", len(null_rows.index))\n",
    "print(\"\\ntrain rows with null:\\n\", train.isna().sum())"
   ]
  },
  {
   "cell_type": "code",
   "execution_count": null,
   "metadata": {
    "ExecuteTime": {
     "end_time": "2021-02-08T20:51:24.619370Z",
     "start_time": "2021-02-08T20:51:17.859Z"
    }
   },
   "outputs": [],
   "source": [
    "train = train.dropna(thresh=7, axis=0)"
   ]
  },
  {
   "cell_type": "code",
   "execution_count": null,
   "metadata": {
    "ExecuteTime": {
     "end_time": "2021-02-08T20:51:24.621032Z",
     "start_time": "2021-02-08T20:51:17.863Z"
    }
   },
   "outputs": [],
   "source": [
    "train.isnull().sum()"
   ]
  },
  {
   "cell_type": "code",
   "execution_count": null,
   "metadata": {},
   "outputs": [],
   "source": []
  },
  {
   "cell_type": "code",
   "execution_count": null,
   "metadata": {
    "ExecuteTime": {
     "end_time": "2021-02-08T20:51:24.622845Z",
     "start_time": "2021-02-08T20:51:17.870Z"
    }
   },
   "outputs": [],
   "source": [
    "train[\"date_block\"].unique()"
   ]
  },
  {
   "cell_type": "code",
   "execution_count": null,
   "metadata": {},
   "outputs": [],
   "source": []
  },
  {
   "cell_type": "code",
   "execution_count": null,
   "metadata": {
    "ExecuteTime": {
     "end_time": "2021-02-08T20:51:24.624525Z",
     "start_time": "2021-02-08T20:51:17.877Z"
    }
   },
   "outputs": [],
   "source": [
    "train"
   ]
  },
  {
   "cell_type": "code",
   "execution_count": null,
   "metadata": {
    "ExecuteTime": {
     "end_time": "2021-02-08T20:51:24.626275Z",
     "start_time": "2021-02-08T20:51:17.881Z"
    }
   },
   "outputs": [],
   "source": [
    "train[\"shop_name\"].unique()"
   ]
  },
  {
   "cell_type": "code",
   "execution_count": null,
   "metadata": {
    "ExecuteTime": {
     "end_time": "2021-02-08T20:51:24.628131Z",
     "start_time": "2021-02-08T20:51:17.885Z"
    }
   },
   "outputs": [],
   "source": [
    "train.dtypes"
   ]
  },
  {
   "cell_type": "code",
   "execution_count": null,
   "metadata": {
    "ExecuteTime": {
     "end_time": "2021-02-08T20:51:24.629980Z",
     "start_time": "2021-02-08T20:51:17.888Z"
    }
   },
   "outputs": [],
   "source": [
    "plt.figure(figsize=(10,5))\n",
    "plt.xlim(train.item_price.min(), train.item_price.max()*1.1)\n",
    "sns.boxplot(x=train.item_price)\n",
    "\n",
    "plt.figure(figsize=(10,5))\n",
    "plt.xlim(train.item_count_day.min(), train.item_count_day.max()*1.1)\n",
    "sns.boxplot(x=train.item_count_day)"
   ]
  },
  {
   "cell_type": "code",
   "execution_count": null,
   "metadata": {
    "ExecuteTime": {
     "end_time": "2021-02-08T20:51:24.631742Z",
     "start_time": "2021-02-08T20:51:17.892Z"
    }
   },
   "outputs": [],
   "source": [
    "train = train[train.item_price<100000]\n",
    "train = train[train.item_count_day<2000]"
   ]
  },
  {
   "cell_type": "code",
   "execution_count": null,
   "metadata": {
    "ExecuteTime": {
     "end_time": "2021-02-08T20:51:24.633504Z",
     "start_time": "2021-02-08T20:51:17.896Z"
    }
   },
   "outputs": [],
   "source": [
    "fig = plt.figure(figsize=(20,20))\n",
    "ax = fig.add_subplot(111, projection='3d')\n",
    "xs=train[\"item_category_id\"]\n",
    "zs=train[\"item_price\"]\n",
    "ys=train[\"item_count_day\"]\n",
    "train_plot = ax.scatter(xs, ys, zs, c=xs)\n",
    "ax.set_xlabel(\"item category\")\n",
    "ax.set_ylabel(\"item count\")\n",
    "ax.set_zlabel(\"item price\")\n",
    "plt.title(\"Items by category: \\n number sold and price\")\n",
    "\n",
    "purple_patch = mpatches.Patch(color='purple', label='Books - Artbook')\n",
    "darkpurple_patch = mpatches.Patch(color='rebeccapurple', label='Books - Comics')\n",
    "teal_patch = mpatches.Patch(color='teal', label='Gifts - Attributes')\n",
    "seagreen_patch = mpatches.Patch(color='lightseagreen', label='Gifts - Soft Toys')\n",
    "aquamarine_patch = mpatches.Patch(color='mediumaquamarine', label='Gifts - Board Games')\n",
    "lightgreen_patch = mpatches.Patch(color='lightgreen', label='Gifts - Souvenirs')\n",
    "yellow_patch = mpatches.Patch(color='yellow', label='Elements of a food')\n",
    "plt.legend(bbox_to_anchor=(0, 0, 0, 1), handles=[purple_patch, darkpurple_patch, teal_patch, seagreen_patch, aquamarine_patch, lightgreen_patch, yellow_patch])"
   ]
  },
  {
   "cell_type": "code",
   "execution_count": null,
   "metadata": {
    "ExecuteTime": {
     "end_time": "2021-02-08T20:51:24.642812Z",
     "start_time": "2021-02-08T20:51:17.900Z"
    }
   },
   "outputs": [],
   "source": [
    "fig = plt.figure(figsize=(20,20))\n",
    "ax = fig.add_subplot(111, projection='3d')\n",
    "xs=train[\"item_id\"]\n",
    "zs=train[\"item_price\"]\n",
    "ys=train[\"item_count_day\"]\n",
    "item_plot = ax.scatter(xs, ys, zs, c=xs)\n",
    "ax.set_xlabel(\"item category\")\n",
    "ax.set_ylabel(\"item count\")\n",
    "ax.set_zlabel(\"item price\")\n",
    "plt.title(\"Items: \\n number sold and price\")"
   ]
  },
  {
   "cell_type": "code",
   "execution_count": null,
   "metadata": {
    "ExecuteTime": {
     "end_time": "2021-02-08T20:51:24.645176Z",
     "start_time": "2021-02-08T20:51:17.904Z"
    }
   },
   "outputs": [],
   "source": [
    "train"
   ]
  },
  {
   "cell_type": "code",
   "execution_count": null,
   "metadata": {
    "ExecuteTime": {
     "end_time": "2021-02-08T20:51:24.647514Z",
     "start_time": "2021-02-08T20:51:17.908Z"
    }
   },
   "outputs": [],
   "source": [
    "T5 = pd.merge(test, train, on=[\"shop_id\", \"item_id\"], how=\"left\")"
   ]
  },
  {
   "cell_type": "code",
   "execution_count": null,
   "metadata": {
    "ExecuteTime": {
     "end_time": "2021-02-08T20:51:24.649647Z",
     "start_time": "2021-02-08T20:51:17.912Z"
    }
   },
   "outputs": [],
   "source": [
    "T5"
   ]
  },
  {
   "cell_type": "code",
   "execution_count": null,
   "metadata": {
    "ExecuteTime": {
     "end_time": "2021-02-08T20:51:24.651766Z",
     "start_time": "2021-02-08T20:51:17.916Z"
    }
   },
   "outputs": [],
   "source": [
    "T5.isnull().sum()"
   ]
  },
  {
   "cell_type": "code",
   "execution_count": null,
   "metadata": {
    "ExecuteTime": {
     "end_time": "2021-02-08T20:51:24.653845Z",
     "start_time": "2021-02-08T20:51:17.920Z"
    }
   },
   "outputs": [],
   "source": [
    "from matplotlib_venn import venn2"
   ]
  },
  {
   "cell_type": "code",
   "execution_count": null,
   "metadata": {
    "ExecuteTime": {
     "end_time": "2021-02-08T20:51:24.655876Z",
     "start_time": "2021-02-08T20:51:17.924Z"
    }
   },
   "outputs": [],
   "source": [
    "venn2([set(train.item_id.unique()), set(T5.item_id.unique())], set_labels = (\"Train items\", \"Test items\"))\n",
    "plt.show()"
   ]
  },
  {
   "cell_type": "code",
   "execution_count": null,
   "metadata": {
    "ExecuteTime": {
     "end_time": "2021-02-08T20:51:24.658899Z",
     "start_time": "2021-02-08T20:51:17.928Z"
    }
   },
   "outputs": [],
   "source": [
    "T5"
   ]
  },
  {
   "cell_type": "markdown",
   "metadata": {},
   "source": [
    "Find missing item prices:"
   ]
  },
  {
   "cell_type": "code",
   "execution_count": null,
   "metadata": {
    "ExecuteTime": {
     "end_time": "2021-02-08T20:51:24.662224Z",
     "start_time": "2021-02-08T20:51:17.933Z"
    }
   },
   "outputs": [],
   "source": [
    "item_prices = T5.groupby([\"item_id\"])[\"item_price\"].mean()\n",
    "item_prices"
   ]
  },
  {
   "cell_type": "code",
   "execution_count": null,
   "metadata": {
    "ExecuteTime": {
     "end_time": "2021-02-08T20:51:24.664351Z",
     "start_time": "2021-02-08T20:51:17.937Z"
    }
   },
   "outputs": [],
   "source": [
    "T5.loc[T5['item_price'].isnull(),'item_price'] = T5['item_id'].map(item_prices)"
   ]
  },
  {
   "cell_type": "code",
   "execution_count": null,
   "metadata": {
    "ExecuteTime": {
     "end_time": "2021-02-08T20:51:24.666402Z",
     "start_time": "2021-02-08T20:51:17.942Z"
    }
   },
   "outputs": [],
   "source": [
    "T5[\"item_price\"].isnull().sum()"
   ]
  },
  {
   "cell_type": "code",
   "execution_count": null,
   "metadata": {
    "ExecuteTime": {
     "end_time": "2021-02-08T20:51:24.668284Z",
     "start_time": "2021-02-08T20:51:17.946Z"
    }
   },
   "outputs": [],
   "source": [
    "general_price_mean = T5[\"item_price\"].mean()\n",
    "T5[\"item_price\"] = T5[\"item_price\"].fillna(general_price_mean)"
   ]
  },
  {
   "cell_type": "code",
   "execution_count": null,
   "metadata": {
    "ExecuteTime": {
     "end_time": "2021-02-08T20:51:24.670475Z",
     "start_time": "2021-02-08T20:51:17.950Z"
    }
   },
   "outputs": [],
   "source": [
    "T5[\"item_price\"].isnull().sum()"
   ]
  },
  {
   "cell_type": "markdown",
   "metadata": {},
   "source": [
    "Fill missing count:"
   ]
  },
  {
   "cell_type": "code",
   "execution_count": null,
   "metadata": {
    "ExecuteTime": {
     "end_time": "2021-02-08T20:51:24.676196Z",
     "start_time": "2021-02-08T20:51:17.954Z"
    }
   },
   "outputs": [],
   "source": [
    "T5[\"item_count_day\"].isnull().sum()"
   ]
  },
  {
   "cell_type": "code",
   "execution_count": null,
   "metadata": {
    "ExecuteTime": {
     "end_time": "2021-02-08T20:51:24.677602Z",
     "start_time": "2021-02-08T20:51:17.958Z"
    }
   },
   "outputs": [],
   "source": [
    "T5[\"item_count_day\"] = T5[\"item_count_day\"].fillna(0)"
   ]
  },
  {
   "cell_type": "code",
   "execution_count": null,
   "metadata": {
    "ExecuteTime": {
     "end_time": "2021-02-08T20:51:24.678796Z",
     "start_time": "2021-02-08T20:51:17.963Z"
    }
   },
   "outputs": [],
   "source": [
    "T5[\"item_count_day\"].isnull().sum()"
   ]
  },
  {
   "cell_type": "markdown",
   "metadata": {},
   "source": [
    "Fill missing shop names:"
   ]
  },
  {
   "cell_type": "code",
   "execution_count": null,
   "metadata": {
    "ExecuteTime": {
     "end_time": "2021-02-08T20:51:24.679893Z",
     "start_time": "2021-02-08T20:51:17.968Z"
    }
   },
   "outputs": [],
   "source": [
    "T5[\"shop_name\"].isnull().sum()"
   ]
  },
  {
   "cell_type": "code",
   "execution_count": null,
   "metadata": {
    "ExecuteTime": {
     "end_time": "2021-02-08T20:51:24.680962Z",
     "start_time": "2021-02-08T20:51:17.972Z"
    }
   },
   "outputs": [],
   "source": [
    "T5['shop_name'] = T5['shop_name'].astype('category') "
   ]
  },
  {
   "cell_type": "code",
   "execution_count": null,
   "metadata": {
    "ExecuteTime": {
     "end_time": "2021-02-08T20:51:24.682097Z",
     "start_time": "2021-02-08T20:51:17.975Z"
    }
   },
   "outputs": [],
   "source": [
    "shops_names = T5.groupby([\"shop_id\"])[\"shop_name\"].value_counts()\n",
    "shops_names = pd.DataFrame(shops_names)\n",
    "shops_names.columns = [\"a\"]\n",
    "shops_names"
   ]
  },
  {
   "cell_type": "code",
   "execution_count": null,
   "metadata": {
    "ExecuteTime": {
     "end_time": "2021-02-08T20:51:24.683336Z",
     "start_time": "2021-02-08T20:51:17.980Z"
    }
   },
   "outputs": [],
   "source": [
    "T5.loc[T5['shop_name'].isnull(),'shop_name'] = T5['shop_id'].map(shops_names[\"shop_name\"])"
   ]
  },
  {
   "cell_type": "code",
   "execution_count": null,
   "metadata": {
    "ExecuteTime": {
     "end_time": "2021-02-08T20:51:24.684935Z",
     "start_time": "2021-02-08T20:51:17.984Z"
    }
   },
   "outputs": [],
   "source": [
    "T5[T5[\"shop_name\"].isnull()]"
   ]
  },
  {
   "cell_type": "code",
   "execution_count": null,
   "metadata": {
    "ExecuteTime": {
     "end_time": "2021-02-08T20:51:24.686054Z",
     "start_time": "2021-02-08T20:51:17.987Z"
    }
   },
   "outputs": [],
   "source": [
    "T5"
   ]
  },
  {
   "cell_type": "code",
   "execution_count": null,
   "metadata": {
    "ExecuteTime": {
     "end_time": "2021-02-08T20:51:24.687242Z",
     "start_time": "2021-02-08T20:51:17.990Z"
    }
   },
   "outputs": [],
   "source": [
    "item_30_test = T5[(T5['item_id'] == 30)]\n",
    "item_30_test"
   ]
  },
  {
   "cell_type": "code",
   "execution_count": null,
   "metadata": {
    "ExecuteTime": {
     "end_time": "2021-02-08T20:51:24.688318Z",
     "start_time": "2021-02-08T20:51:17.994Z"
    }
   },
   "outputs": [],
   "source": [
    "T5[\"shop_name\"].unique()"
   ]
  }
 ],
 "metadata": {
  "kernelspec": {
   "display_name": "Python 3",
   "language": "python",
   "name": "python3"
  },
  "language_info": {
   "codemirror_mode": {
    "name": "ipython",
    "version": 3
   },
   "file_extension": ".py",
   "mimetype": "text/x-python",
   "name": "python",
   "nbconvert_exporter": "python",
   "pygments_lexer": "ipython3",
   "version": "3.8.3"
  }
 },
 "nbformat": 4,
 "nbformat_minor": 4
}
