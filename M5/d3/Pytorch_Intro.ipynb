{
 "cells": [
  {
   "cell_type": "code",
   "execution_count": 1,
   "metadata": {
    "cell_id": "00000-2f649763-a717-41af-9029-b34f902dcbc7",
    "deepnote_cell_type": "code",
    "deepnote_to_be_reexecuted": false,
    "execution_millis": 1553,
    "execution_start": 1614164049295,
    "id": "hjwSKXAO6w2j",
    "source_hash": "eaef47dd"
   },
   "outputs": [],
   "source": [
    "# Import the libraries\n",
    "import torch\n",
    "import torch.nn as nn\n",
    "import numpy as np"
   ]
  },
  {
   "cell_type": "markdown",
   "metadata": {
    "cell_id": "00001-ecde7ba8-673f-4f69-8c76-078f98962984",
    "deepnote_cell_type": "markdown",
    "id": "IQVubjP48NOr"
   },
   "source": [
    "Till now you have worked with numpy to create and manage arrays. However, Pytorch has its own way to define arrays, or tensors in general, that are more convenient for computational efficiency:\n",
    "\n",
    "The torch.tensor command has the same purpose of the np.array, but in PyTorch everything is a Tensor as opposed to a vector or matrix. We define types in PyTorch using the dtype=torch.xxx command.\n",
    "\n"
   ]
  },
  {
   "cell_type": "code",
   "execution_count": 2,
   "metadata": {
    "cell_id": "00002-8cd35a79-cb3a-4965-bf65-d1f1a059ee8f",
    "deepnote_cell_type": "code",
    "deepnote_to_be_reexecuted": false,
    "execution_millis": 1,
    "execution_start": 1614164082493,
    "id": "EbW3fZBQ8F_f",
    "source_hash": "aad84eee"
   },
   "outputs": [],
   "source": [
    "X = torch.tensor(([2, 9], [1, 5], [3, 6]), dtype=torch.float) # 3 X 2 tensor\n",
    "y = torch.tensor(([92], [100], [89]), dtype=torch.float) # 3 X 1 tensor\n",
    "test_sample = torch.tensor(([4, 8]), dtype=torch.float) # 1 X 2 tensor"
   ]
  },
  {
   "cell_type": "markdown",
   "metadata": {
    "cell_id": "00003-0cc37ecb-d263-4be0-b96c-0caf14a6d69c",
    "deepnote_cell_type": "markdown",
    "id": "ojuRtlUO9f2A"
   },
   "source": [
    "You can inspect the size of the tensors:"
   ]
  },
  {
   "cell_type": "code",
   "execution_count": 4,
   "metadata": {
    "cell_id": "00004-523c835f-5c75-4cec-af82-2f8b617b1521",
    "colab": {
     "base_uri": "https://localhost:8080/"
    },
    "deepnote_cell_type": "code",
    "deepnote_to_be_reexecuted": false,
    "execution_millis": 16,
    "execution_start": 1614164119186,
    "id": "aByDVb-U9X8e",
    "outputId": "63978641-9d14-4c8d-ccfe-9374b6a0430f",
    "source_hash": "8e524356"
   },
   "outputs": [
    {
     "name": "stdout",
     "output_type": "stream",
     "text": [
      "torch.Size([3, 2])\n",
      "torch.Size([3, 1])\n",
      "torch.Size([2])\n"
     ]
    }
   ],
   "source": [
    "print(X.size())\n",
    "print(y.size())\n",
    "print(test_sample.size())"
   ]
  },
  {
   "cell_type": "markdown",
   "metadata": {
    "cell_id": "00005-db9d72e2-dc23-4f11-9f84-82435a4ead8a",
    "deepnote_cell_type": "markdown",
    "id": "6ysRjgTe9_1w"
   },
   "source": [
    "If you already have a numpy array that you want to convert in tensor you can use:\n"
   ]
  },
  {
   "cell_type": "code",
   "execution_count": 5,
   "metadata": {
    "cell_id": "00006-ab61ca70-2e13-4931-9b5b-d2e412fd8e69",
    "colab": {
     "base_uri": "https://localhost:8080/"
    },
    "deepnote_cell_type": "code",
    "deepnote_to_be_reexecuted": false,
    "execution_millis": 4,
    "execution_start": 1614164146887,
    "id": "41-_f5mY9hMP",
    "outputId": "10e9e305-e628-4994-9e44-0a6474612d0f",
    "source_hash": "5a670183"
   },
   "outputs": [
    {
     "name": "stdout",
     "output_type": "stream",
     "text": [
      "torch.Size([1000, 10])\n"
     ]
    }
   ],
   "source": [
    "np.random.seed(42)\n",
    "numpy_array = np.array(np.random.rand(1000,10))\n",
    "pytorch_tensor = torch.from_numpy(numpy_array)\n",
    "print(pytorch_tensor.size())"
   ]
  },
  {
   "cell_type": "markdown",
   "metadata": {
    "cell_id": "00007-f708036b-55ca-4c89-afcd-172060165474",
    "deepnote_cell_type": "markdown",
    "id": "_xxuR29T-Z5r"
   },
   "source": [
    "Pytorch has the advantage to be much more customizable than Keras, but this means that you have to manually define more things. \n",
    "\n",
    "Indeed, a neural network in Pytorch is a subclass of the nn.Module parent class.\n",
    "\n"
   ]
  },
  {
   "cell_type": "code",
   "execution_count": 6,
   "metadata": {
    "cell_id": "00008-5a64da82-32c2-4034-9cde-e558b39ced23",
    "deepnote_cell_type": "code",
    "deepnote_to_be_reexecuted": false,
    "execution_millis": 0,
    "execution_start": 1614164172059,
    "id": "AkK6ULdl-Oiz",
    "source_hash": "194cae9b"
   },
   "outputs": [],
   "source": [
    "class NeuralNetwork(nn.Module):\n",
    "    def __init__(self ):\n",
    "        super(NeuralNetwork, self).__init__()\n",
    "        pass"
   ]
  },
  {
   "cell_type": "markdown",
   "metadata": {
    "cell_id": "00009-50586fa6-b602-40d9-8678-5a9b21ce0115",
    "deepnote_cell_type": "markdown",
    "id": "otF4dBqSCpFn"
   },
   "source": [
    "The code above is how you define a neural network class using Pytorch. You can add some arguments to specify the input and the output sizes, or the number of neurons in the hidden layer:"
   ]
  },
  {
   "cell_type": "code",
   "execution_count": 7,
   "metadata": {
    "cell_id": "00010-a29c3b13-9865-419f-a812-69b20fbdfe4c",
    "deepnote_cell_type": "code",
    "deepnote_to_be_reexecuted": false,
    "execution_millis": 4,
    "execution_start": 1614164191273,
    "id": "4EhGXDx-_VMD",
    "source_hash": "76b8786"
   },
   "outputs": [],
   "source": [
    "class NeuralNetwork(nn.Module):\n",
    "    def __init__(self, input_dim, output_dim, num_hidden):\n",
    "        super(NeuralNetwork, self).__init__()\n",
    "        pass\n"
   ]
  },
  {
   "cell_type": "markdown",
   "metadata": {
    "cell_id": "00011-1414f18a-160d-47f4-a4d9-e248208bed34",
    "deepnote_cell_type": "markdown",
    "id": "dKevxbyRHe52"
   },
   "source": [
    "The fully-connected layer in Pytorch (equivalent to the Dense layer in Keras) is given by the function nn.Linear() that takes as input the input shape and the number of neurons. We can define the layers as follows:"
   ]
  },
  {
   "cell_type": "code",
   "execution_count": 8,
   "metadata": {
    "cell_id": "00012-200e3944-77c7-49c4-a869-dc5b9ef962a4",
    "deepnote_cell_type": "code",
    "deepnote_to_be_reexecuted": false,
    "execution_millis": 0,
    "execution_start": 1614164229009,
    "id": "WkvYry5987U8",
    "source_hash": "184c0e3f"
   },
   "outputs": [],
   "source": [
    "class NeuralNetwork(nn.Module):\n",
    "    def __init__(self, input_dim, num_hidden):\n",
    "        super().__init__()\n",
    "        self.linear1 = nn.Linear(input_dim, num_hidden)\n",
    "        self.sigmoid = nn.Sigmoid()\n",
    "        self.linear2 = nn.Linear(num_hidden, 1)"
   ]
  },
  {
   "cell_type": "markdown",
   "metadata": {
    "cell_id": "00013-b276e8bc-897b-48c9-ba77-4ffa48eb18da",
    "deepnote_cell_type": "markdown",
    "id": "FBoLZeTJPy2A"
   },
   "source": [
    "We can instantiate a neural network as we do for a class (in the following example I will pass 10 as input_dim and 5 neurons for the hidden layer):"
   ]
  },
  {
   "cell_type": "code",
   "execution_count": 9,
   "metadata": {
    "cell_id": "00014-ba02418b-89eb-4b94-8eb9-24f3f88070f5",
    "deepnote_cell_type": "code",
    "deepnote_to_be_reexecuted": false,
    "execution_millis": 3,
    "execution_start": 1614164247066,
    "id": "YiY6s5x5-Bgp",
    "source_hash": "96e0705"
   },
   "outputs": [],
   "source": [
    "net = NeuralNetwork(10, 5)\n"
   ]
  },
  {
   "cell_type": "code",
   "execution_count": 10,
   "metadata": {
    "cell_id": "00015-ff57b2d3-ecb2-4822-bcfc-4df224e7d056",
    "deepnote_cell_type": "code",
    "deepnote_to_be_reexecuted": false,
    "execution_millis": 7,
    "execution_start": 1614164253122,
    "source_hash": "58af9d2d",
    "tags": []
   },
   "outputs": [
    {
     "data": {
      "text/plain": [
       "NeuralNetwork(\n",
       "  (linear1): Linear(in_features=10, out_features=5, bias=True)\n",
       "  (sigmoid): Sigmoid()\n",
       "  (linear2): Linear(in_features=5, out_features=1, bias=True)\n",
       ")"
      ]
     },
     "execution_count": 10,
     "metadata": {},
     "output_type": "execute_result"
    }
   ],
   "source": [
    "net"
   ]
  },
  {
   "cell_type": "markdown",
   "metadata": {
    "cell_id": "00015-7c34c44f-5950-4b70-aa70-6980e977ef07",
    "deepnote_cell_type": "markdown",
    "id": "D8hq_2sgP_9k"
   },
   "source": [
    "In class you have seen that there are two main steps that are repeated over and over during the training process: the forward pass and backward pass. The forward is just making your input going through the network, doing the weights multiplication and so on as you have seen for the perceptron. While in Keras you have the fit() method that does both the step for you, in Pytorch, you have to implement the methods yourself:"
   ]
  },
  {
   "cell_type": "code",
   "execution_count": 11,
   "metadata": {
    "cell_id": "00016-254d1419-2a64-4ae0-ae62-bfd4c5d92dc3",
    "deepnote_cell_type": "code",
    "deepnote_to_be_reexecuted": false,
    "execution_millis": 0,
    "execution_start": 1614164317727,
    "id": "kP5BLVDIQhpN",
    "source_hash": "cbe7b209"
   },
   "outputs": [],
   "source": [
    "class NeuralNetwork(nn.Module):\n",
    "    def __init__(self, input_dim, num_hidden):\n",
    "        super().__init__()\n",
    "        self.linear1 = nn.Linear(input_dim, num_hidden)\n",
    "        self.sigmoid = nn.Sigmoid()\n",
    "        self.linear2 = nn.Linear(num_hidden, 1)\n",
    "\n",
    "    def forward(self, x):\n",
    "        l1 = self.linear1(x)\n",
    "        activation = self.sigmoid(l1)\n",
    "        l2 = self.linear2(activation)\n",
    "        output = self.sigmoid(l2)\n",
    "        return output"
   ]
  },
  {
   "cell_type": "markdown",
   "metadata": {
    "cell_id": "00017-4c68c169-0922-4b23-8c9c-d6a76521a615",
    "deepnote_cell_type": "markdown",
    "id": "NeK_lJYBQ_FL"
   },
   "source": [
    "As you can see in the code, each step in the forward pass is assigned to a variable, that is then passed to next layer!\n",
    "\n",
    "- The input x is passed in a linear layer\n",
    "- the output of that is assigned to the variable l1\n",
    "- l1 is activated using the sigmoid and assigned to the activation variable\n",
    "- the activation variable is passed to the second layer...\n",
    "...till the output that is returned!\n",
    "\n",
    "Let's create a sample to play with and make a forward pass calling the forward method:"
   ]
  },
  {
   "cell_type": "code",
   "execution_count": 12,
   "metadata": {
    "cell_id": "00018-fee14d31-6571-4fc7-881e-3b553e8530f4",
    "deepnote_cell_type": "code",
    "deepnote_to_be_reexecuted": false,
    "execution_millis": 1,
    "execution_start": 1614164392755,
    "id": "P4nz_QzF-J-1",
    "source_hash": "bd65ed86"
   },
   "outputs": [],
   "source": [
    "sample = torch.from_numpy(np.array(np.random.rand(10), dtype=np.float32))"
   ]
  },
  {
   "cell_type": "code",
   "execution_count": 13,
   "metadata": {
    "cell_id": "00019-5a505776-51b6-46e2-8158-0377fa7fb24e",
    "colab": {
     "base_uri": "https://localhost:8080/"
    },
    "deepnote_cell_type": "code",
    "deepnote_to_be_reexecuted": false,
    "execution_millis": 6,
    "execution_start": 1614164394957,
    "id": "kvUBb-CH-n9_",
    "outputId": "20601a5c-7d92-4769-b383-7dc4e411c468",
    "source_hash": "92d31941"
   },
   "outputs": [
    {
     "data": {
      "text/plain": [
       "torch.Size([10])"
      ]
     },
     "execution_count": 13,
     "metadata": {},
     "output_type": "execute_result"
    }
   ],
   "source": [
    "sample.size()"
   ]
  },
  {
   "cell_type": "code",
   "execution_count": 14,
   "metadata": {
    "cell_id": "00020-fa03b71d-22b3-4a57-8810-080b3543eb6e",
    "deepnote_cell_type": "code",
    "deepnote_to_be_reexecuted": false,
    "execution_millis": 1,
    "execution_start": 1614164398376,
    "id": "tA9E26bRQ60U",
    "source_hash": "4421a92f"
   },
   "outputs": [],
   "source": [
    "net = NeuralNetwork(10, 5)"
   ]
  },
  {
   "cell_type": "code",
   "execution_count": 15,
   "metadata": {
    "cell_id": "00021-0ea56c9f-2c7c-4c35-ab5f-197fc83abafe",
    "colab": {
     "base_uri": "https://localhost:8080/"
    },
    "deepnote_cell_type": "code",
    "deepnote_to_be_reexecuted": false,
    "execution_millis": 37,
    "execution_start": 1614164401829,
    "id": "xh5l6Nmd-c_8",
    "outputId": "e054b4d0-157f-47da-f9f3-a42cc8101f08",
    "source_hash": "d70cd2dc"
   },
   "outputs": [
    {
     "data": {
      "text/plain": [
       "tensor([0.4547], grad_fn=<SigmoidBackward>)"
      ]
     },
     "execution_count": 15,
     "metadata": {},
     "output_type": "execute_result"
    }
   ],
   "source": [
    "net.forward(sample)"
   ]
  },
  {
   "cell_type": "markdown",
   "metadata": {
    "cell_id": "00022-6054ca8e-4622-4669-aa49-96199399686e",
    "deepnote_cell_type": "markdown",
    "id": "GbLWLKCkR6Co"
   },
   "source": [
    "As expected, you got a single value between 0 and 1 (the output of the sigmoid).\n",
    "Now that we have implemented the forward pass, we need to implement the backpropagation! Not from scratch, don't worry!\n",
    "\n",
    "First, we need to define both an optimizer and a loss function to use this training. I chose Adam as optimizer, since it is a common choice among the scientific community, and the Binary Cross Entropy loss since we are in the binary classification setting."
   ]
  },
  {
   "cell_type": "code",
   "execution_count": 16,
   "metadata": {
    "cell_id": "00023-0999e701-b376-42e8-b0d3-9196ddbb9122",
    "colab": {
     "base_uri": "https://localhost:8080/"
    },
    "deepnote_cell_type": "code",
    "deepnote_to_be_reexecuted": false,
    "execution_millis": 4,
    "execution_start": 1614164540411,
    "id": "agmgCwrLD15n",
    "outputId": "86478e80-fee7-4934-c9f4-d99a9e73a934",
    "source_hash": "c86638d"
   },
   "outputs": [
    {
     "name": "stdout",
     "output_type": "stream",
     "text": [
      "Initial loss: 0.69\n"
     ]
    }
   ],
   "source": [
    "class NeuralNetwork(nn.Module):\n",
    "    def __init__(self, input_dim, num_hidden):\n",
    "        super().__init__()\n",
    "        self.linear1 = nn.Linear(input_dim, num_hidden)\n",
    "        self.sigmoid = nn.Sigmoid()\n",
    "        self.linear2 = nn.Linear(num_hidden, 1)\n",
    "\n",
    "    def forward(self, x):\n",
    "        l1 = self.linear1(x)\n",
    "        activation = self.sigmoid(l1)\n",
    "        l2 = self.linear2(activation)\n",
    "        output = self.sigmoid(l2)\n",
    "        return output\n",
    "        \n",
    "\n",
    "#torch_fit(x_tensor, y_true_tensor, model=model, loss=loss, lr=0.1, num_epochs=30)\n",
    "\n",
    "loss = nn.BCELoss()\n",
    "model = NeuralNetwork(10, 5)\n",
    "optimizer = torch.optim.Adam(model.parameters(), lr=0.01)\n",
    "x = np.random.rand(1000,10)\n",
    "y = np.random.randint(0, 2, 1000)\n",
    "x_tensor = torch.tensor(x).float()\n",
    "y_true_tensor = torch.tensor(y).float()\n",
    "y_true_tensor = y_true_tensor.view(1000,1) # view function is the same as reshape in numpy\n",
    "y_pred_tensor = model(x_tensor)\n",
    "loss_value = loss(y_pred_tensor, y_true_tensor)\n",
    "print(f\"Initial loss: {loss_value.item():.2f}\")\n"
   ]
  },
  {
   "cell_type": "markdown",
   "metadata": {
    "cell_id": "00024-8ae82ac4-ba49-4d59-ba0b-a3bfa925346d",
    "deepnote_cell_type": "markdown",
    "id": "2w8riJwWHnYt"
   },
   "source": [
    "and then wrap the training process in a unique function:"
   ]
  },
  {
   "cell_type": "code",
   "execution_count": 17,
   "metadata": {
    "cell_id": "00025-20f17a06-5c73-47a7-b264-facbeb36c898",
    "colab": {
     "base_uri": "https://localhost:8080/"
    },
    "deepnote_cell_type": "code",
    "deepnote_to_be_reexecuted": false,
    "execution_millis": 91,
    "execution_start": 1614164597487,
    "id": "uSo5PiJnHsdN",
    "outputId": "dfd616cb-8172-4e44-f60a-3daa27222abd",
    "source_hash": "3dc610c5"
   },
   "outputs": [
    {
     "name": "stdout",
     "output_type": "stream",
     "text": [
      "Epoch 0, loss 0.69\n",
      "Epoch 1, loss 0.69\n",
      "Epoch 2, loss 0.69\n",
      "Epoch 3, loss 0.69\n",
      "Epoch 4, loss 0.69\n",
      "Epoch 5, loss 0.69\n",
      "Epoch 6, loss 0.69\n",
      "Epoch 7, loss 0.69\n",
      "Epoch 8, loss 0.69\n",
      "Epoch 9, loss 0.69\n",
      "Epoch 10, loss 0.69\n",
      "Epoch 11, loss 0.69\n",
      "Epoch 12, loss 0.69\n",
      "Epoch 13, loss 0.69\n",
      "Epoch 14, loss 0.69\n",
      "Epoch 15, loss 0.69\n",
      "Epoch 16, loss 0.69\n",
      "Epoch 17, loss 0.69\n",
      "Epoch 18, loss 0.69\n",
      "Epoch 19, loss 0.69\n",
      "Epoch 20, loss 0.69\n",
      "Epoch 21, loss 0.69\n",
      "Epoch 22, loss 0.69\n",
      "Epoch 23, loss 0.69\n",
      "Epoch 24, loss 0.69\n",
      "Epoch 25, loss 0.69\n",
      "Epoch 26, loss 0.69\n",
      "Epoch 27, loss 0.69\n",
      "Epoch 28, loss 0.69\n",
      "Epoch 29, loss 0.69\n",
      "Epoch 30, loss 0.69\n",
      "Epoch 31, loss 0.69\n",
      "Epoch 32, loss 0.69\n",
      "Epoch 33, loss 0.69\n",
      "Epoch 34, loss 0.69\n",
      "Epoch 35, loss 0.69\n",
      "Epoch 36, loss 0.69\n",
      "Epoch 37, loss 0.69\n",
      "Epoch 38, loss 0.69\n",
      "Epoch 39, loss 0.69\n",
      "Epoch 40, loss 0.69\n",
      "Epoch 41, loss 0.69\n",
      "Epoch 42, loss 0.69\n",
      "Epoch 43, loss 0.69\n",
      "Epoch 44, loss 0.69\n",
      "Epoch 45, loss 0.69\n",
      "Epoch 46, loss 0.69\n",
      "Epoch 47, loss 0.69\n",
      "Epoch 48, loss 0.69\n",
      "Epoch 49, loss 0.69\n",
      "Epoch 50, loss 0.69\n",
      "Epoch 51, loss 0.69\n",
      "Epoch 52, loss 0.69\n",
      "Epoch 53, loss 0.69\n",
      "Epoch 54, loss 0.69\n",
      "Epoch 55, loss 0.69\n",
      "Epoch 56, loss 0.69\n",
      "Epoch 57, loss 0.69\n",
      "Epoch 58, loss 0.68\n",
      "Epoch 59, loss 0.68\n",
      "Epoch 60, loss 0.68\n",
      "Epoch 61, loss 0.68\n",
      "Epoch 62, loss 0.68\n",
      "Epoch 63, loss 0.68\n",
      "Epoch 64, loss 0.68\n",
      "Epoch 65, loss 0.68\n",
      "Epoch 66, loss 0.68\n",
      "Epoch 67, loss 0.68\n",
      "Epoch 68, loss 0.68\n",
      "Epoch 69, loss 0.68\n",
      "Epoch 70, loss 0.68\n",
      "Epoch 71, loss 0.68\n",
      "Epoch 72, loss 0.68\n",
      "Epoch 73, loss 0.68\n",
      "Epoch 74, loss 0.68\n",
      "Epoch 75, loss 0.68\n",
      "Epoch 76, loss 0.68\n",
      "Epoch 77, loss 0.68\n",
      "Epoch 78, loss 0.68\n",
      "Epoch 79, loss 0.68\n",
      "Epoch 80, loss 0.68\n",
      "Epoch 81, loss 0.68\n",
      "Epoch 82, loss 0.68\n",
      "Epoch 83, loss 0.68\n",
      "Epoch 84, loss 0.68\n",
      "Epoch 85, loss 0.68\n",
      "Epoch 86, loss 0.68\n",
      "Epoch 87, loss 0.68\n",
      "Epoch 88, loss 0.68\n",
      "Epoch 89, loss 0.68\n",
      "Epoch 90, loss 0.68\n",
      "Epoch 91, loss 0.68\n",
      "Epoch 92, loss 0.68\n",
      "Epoch 93, loss 0.68\n",
      "Epoch 94, loss 0.68\n",
      "Epoch 95, loss 0.68\n",
      "Epoch 96, loss 0.68\n",
      "Epoch 97, loss 0.68\n",
      "Epoch 98, loss 0.68\n",
      "Epoch 99, loss 0.68\n",
      "/shared-libs/python3.7/py/lib/python3.7/site-packages/torch/autograd/__init__.py:132: UserWarning: CUDA initialization: Found no NVIDIA driver on your system. Please check that you have an NVIDIA GPU and installed a driver from http://www.nvidia.com/Download/index.aspx (Triggered internally at  /pytorch/c10/cuda/CUDAFunctions.cpp:100.)\n",
      "  allow_unreachable=True)  # allow_unreachable flag\n"
     ]
    }
   ],
   "source": [
    "def torch_fit(x, y, model, loss, lr, num_epochs):\n",
    "    optimizer = torch.optim.Adam(model.parameters(), lr=0.01)\n",
    "    for epoch in range(num_epochs):\n",
    "        optimizer.zero_grad()\n",
    "        y_pred_tensor = model(x_tensor)\n",
    "        loss_value = loss(y_pred_tensor, y_true_tensor)\n",
    "        print(f'Epoch {epoch}, loss {loss_value.item():.2f}')\n",
    "        loss_value.backward()\n",
    "        optimizer.step()\n",
    "    return model\n",
    "\n",
    "model = torch_fit(x_tensor, y_true_tensor, model=model, loss=loss, lr=0.1, num_epochs=100)\n"
   ]
  },
  {
   "cell_type": "markdown",
   "metadata": {
    "cell_id": "00026-641f34a2-a9eb-43c4-8e7f-f72f8e12a808",
    "deepnote_cell_type": "markdown",
    "id": "ijMUN-7yI5NE"
   },
   "source": [
    "Nice! You have trained your first model in Pytorch!\n",
    "\n"
   ]
  },
  {
   "cell_type": "markdown",
   "metadata": {
    "created_in_deepnote_cell": true,
    "deepnote_cell_type": "markdown",
    "tags": []
   },
   "source": [
    "<a style='text-decoration:none;line-height:16px;display:flex;color:#5B5B62;padding:10px;justify-content:end;' href='https://deepnote.com?utm_source=created-in-deepnote-cell&projectId=44def459-af0d-441f-8551-1feb101fde77' target=\"_blank\">\n",
    "<img style='display:inline;max-height:16px;margin:0px;margin-right:7.5px;' src='data:image/svg+xml;base64,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' > </img>\n",
    "Created in <span style='font-weight:600;margin-left:4px;'>Deepnote</span></a>"
   ]
  }
 ],
 "metadata": {
  "colab": {
   "name": "Pytorch Intro.ipynb",
   "provenance": []
  },
  "deepnote": {},
  "deepnote_execution_queue": [],
  "deepnote_notebook_id": "0afd0598-cfd0-4b0e-808c-a53a893b5e9f",
  "kernelspec": {
   "display_name": "Python 3",
   "language": "python",
   "name": "python3"
  },
  "language_info": {
   "codemirror_mode": {
    "name": "ipython",
    "version": 3
   },
   "file_extension": ".py",
   "mimetype": "text/x-python",
   "name": "python",
   "nbconvert_exporter": "python",
   "pygments_lexer": "ipython3",
   "version": "3.9.1"
  }
 },
 "nbformat": 4,
 "nbformat_minor": 1
}
