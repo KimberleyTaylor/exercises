{
 "cells": [
  {
   "cell_type": "markdown",
   "metadata": {},
   "source": [
    "# OpenCV Callbacks"
   ]
  },
  {
   "cell_type": "code",
   "execution_count": 1,
   "metadata": {
    "ExecuteTime": {
     "end_time": "2019-11-19T09:54:11.762369Z",
     "start_time": "2019-11-19T09:54:09.945225Z"
    }
   },
   "outputs": [],
   "source": [
    "import cv2\n",
    "import numpy as np\n",
    "import matplotlib.pyplot as plt\n",
    "%matplotlib inline"
   ]
  },
  {
   "cell_type": "code",
   "execution_count": 2,
   "metadata": {},
   "outputs": [
    {
     "data": {
      "text/plain": [
       "'4.5.1'"
      ]
     },
     "execution_count": 2,
     "metadata": {},
     "output_type": "execute_result"
    }
   ],
   "source": [
    "cv2.__version__"
   ]
  },
  {
   "cell_type": "markdown",
   "metadata": {},
   "source": [
    "## Keyboard callbacks"
   ]
  },
  {
   "cell_type": "code",
   "execution_count": 3,
   "metadata": {
    "ExecuteTime": {
     "end_time": "2019-11-19T11:10:33.575331Z",
     "start_time": "2019-11-19T11:10:32.647518Z"
    }
   },
   "outputs": [
    {
     "data": {
      "text/plain": [
       "-1"
      ]
     },
     "execution_count": 3,
     "metadata": {},
     "output_type": "execute_result"
    }
   ],
   "source": [
    "# Load an image and show it on screen with cv2.imshow\n",
    "img = cv2.imread(\"img/noisy.png\")\n",
    "cv2.imshow(\"image\", img)\n",
    "cv2.waitKey(0)\n",
    "cv2.destroyAllWindows()\n",
    "cv2.waitKey(1)"
   ]
  },
  {
   "cell_type": "code",
   "execution_count": 4,
   "metadata": {},
   "outputs": [
    {
     "data": {
      "text/plain": [
       "-1"
      ]
     },
     "execution_count": 4,
     "metadata": {},
     "output_type": "execute_result"
    }
   ],
   "source": [
    "# When the key g or G is detected then change the image to show in grayscale\n",
    "# When the key c or C is detected then change the image to show in color\n",
    "# When the key t or T is detected then change the image to show the thresholded version of the image\n",
    "# When the key esc is detected close the image\n",
    "\n",
    "window_name = \"image\"\n",
    "cv2.namedWindow(window_name, cv2.WINDOW_AUTOSIZE) #autosize thing is flag\n",
    "key = 0\n",
    "img1 = img.copy()  #is in BGR\n",
    "img2 = img1.copy()\n",
    "img2 = cv2.cvtColor(img1, cv2.COLOR_BGR2RGB)\n",
    "img3 = img1.copy()\n",
    "img3 = cv2.cvtColor(img1, cv2.COLOR_BGR2GRAY)\n",
    "\n",
    "threshold_type = cv2.THRESH_BINARY\n",
    "\n",
    "while(True):\n",
    "    if (key == ord(\"c\") or key == ord(\"C\")):\n",
    "        cv2.imshow(window_name, img1)\n",
    "    if (key == ord(\"g\") or key == ord(\"G\")):\n",
    "        img2 = cv2.cvtColor(img1, cv2.COLOR_RGB2GRAY)\n",
    "        cv2.imshow(window_name, img2)\n",
    "    if (key == ord(\"t\") or key == ord(\"T\")):\n",
    "        ret, thresh = cv2.threshold(img3, 127, maxval=255, type=threshold_type)\n",
    "        cv2.imshow(window_name, thresh)\n",
    "    if (key == 27):\n",
    "        break\n",
    "        \n",
    "    key = cv2.waitKey(0)\n",
    "        \n",
    "cv2.destroyAllWindows()\n",
    "cv2.waitKey(1)"
   ]
  },
  {
   "cell_type": "markdown",
   "metadata": {},
   "source": [
    "[Hint](# \"You will need to use cv2.waitKey and python ord functions\") "
   ]
  },
  {
   "cell_type": "code",
   "execution_count": 5,
   "metadata": {},
   "outputs": [
    {
     "data": {
      "text/plain": [
       "-1"
      ]
     },
     "execution_count": 5,
     "metadata": {},
     "output_type": "execute_result"
    }
   ],
   "source": [
    "# Do the same as above but using your webcam image \n",
    "window_name = \"webcam\"\n",
    "cv2.namedWindow(window_name, cv2.WINDOW_AUTOSIZE)\n",
    "                \n",
    "cap = cv2.VideoCapture(0)  # opens webcam and starts capturing\n",
    "key = 0\n",
    "\n",
    "while(True):  #run forever until I do a break\n",
    "    ret, frame = cap.read()\n",
    "    \n",
    "    if (key == ord(\"c\") or key == ord(\"C\")):\n",
    "        cv2.imshow(window_name, frame)\n",
    "        \n",
    "    if (key == ord(\"g\") or key == ord(\"G\")):\n",
    "        img2 = cv2.cvtColor(frame, cv2.COLOR_RGB2GRAY)\n",
    "        cv2.imshow(window_name, img2)\n",
    "        \n",
    "    if (key == ord(\"t\") or key == ord(\"T\")):\n",
    "        ret, thresh = cv2.threshold(frame, 127, maxval=255, type=threshold_type)\n",
    "        thresh = cv2.cvtColor(thresh, cv2.COLOR_BGR2GRAY)\n",
    "        cv2.imshow(window_name, thresh)\n",
    "        \n",
    "    if (key == 27):\n",
    "        break\n",
    "        \n",
    "    key = cv2.waitKey(0)\n",
    "\n",
    "\n",
    "cap.release()\n",
    "cv2.destroyAllWindows()\n",
    "cv2.waitKey(1)"
   ]
  },
  {
   "cell_type": "markdown",
   "metadata": {},
   "source": [
    "[Hint](# \"You will need to use cv2.VideoCapture function\") "
   ]
  },
  {
   "cell_type": "markdown",
   "metadata": {},
   "source": [
    "## Mouse callbacks"
   ]
  },
  {
   "cell_type": "code",
   "execution_count": 6,
   "metadata": {},
   "outputs": [
    {
     "data": {
      "text/plain": [
       "-1"
      ]
     },
     "execution_count": 6,
     "metadata": {},
     "output_type": "execute_result"
    }
   ],
   "source": [
    "garden = cv2.imread(\"img/garden.jpg\")\n",
    "cv2.imshow(\"garden\", garden)\n",
    "cv2.waitKey(0)\n",
    "cv2.destroyAllWindows()\n",
    "cv2.waitKey(1)"
   ]
  },
  {
   "cell_type": "code",
   "execution_count": 7,
   "metadata": {},
   "outputs": [
    {
     "data": {
      "text/plain": [
       "-1"
      ]
     },
     "execution_count": 7,
     "metadata": {},
     "output_type": "execute_result"
    }
   ],
   "source": [
    "# Load an image and show it on screen with cv2.imshow\n",
    "# When the user clicks on top of the image save the coordinates\n",
    "# The user will then move the cursor without releasing the mouse button to another position\n",
    "# When the user releases the button draw a rectagle around the ROI\n",
    "# When the key esc is detected close the image\n",
    "\n",
    "window_name = \"garden\"\n",
    "cv2.namedWindow(window_name, cv2.WINDOW_AUTOSIZE) #autosize thing is flag\n",
    "\n",
    "key = 0\n",
    "garden1 = garden.copy()  #is in BGR\n",
    "\n",
    "refPt = []\n",
    "rectangle = False\n",
    "\n",
    "def draw_square(action, x, y, flags, userdata):\n",
    "            \n",
    "    global refPt, cropping\n",
    "    \n",
    "    if action == cv2.EVENT_LBUTTONDOWN: #when user presses the left button\n",
    "        refPt = [(x, y)]\n",
    "        rectangle = True\n",
    "        \n",
    "    if action == cv2.EVENT_LBUTTONUP: #when user releases the left button\n",
    "        refPt.append((x, y))\n",
    "        rectangle = False\n",
    "        \n",
    "        # draw a rectangle around the region of interest\n",
    "        userdata = cv2.rectangle(userdata, refPt[0], refPt[1], (0, 255, 0), 2)\n",
    "        cv2.imshow(window_name, userdata)\n",
    "        \n",
    "\n",
    "cv2.setMouseCallback(window_name, draw_square, garden1)\n",
    "\n",
    "cv2.imshow(window_name, garden1)\n",
    "cv2.waitKey(0)        \n",
    "cv2.destroyAllWindows()\n",
    "cv2.waitKey(1)"
   ]
  },
  {
   "cell_type": "code",
   "execution_count": null,
   "metadata": {},
   "outputs": [],
   "source": [
    "# Crop and save the ROI image to disk \n",
    "cv2.imwrite('img/garden_boxes.jpg',garden1)"
   ]
  },
  {
   "cell_type": "markdown",
   "metadata": {},
   "source": [
    "[Hint](# \"cv2.setMouseCallback\") "
   ]
  },
  {
   "cell_type": "markdown",
   "metadata": {},
   "source": [
    "## Trackbars"
   ]
  },
  {
   "cell_type": "code",
   "execution_count": 8,
   "metadata": {
    "ExecuteTime": {
     "end_time": "2019-11-19T11:17:26.647991Z",
     "start_time": "2019-11-19T11:17:26.635749Z"
    }
   },
   "outputs": [
    {
     "data": {
      "text/plain": [
       "-1"
      ]
     },
     "execution_count": 8,
     "metadata": {},
     "output_type": "execute_result"
    }
   ],
   "source": [
    "# Create a named window, load and show an image in that window\n",
    "window_name = \"trackbars\"\n",
    "cv2.namedWindow(window_name, cv2.WINDOW_AUTOSIZE) #autosize thing is flag\n",
    "image = cv2.imread(\"img/neighbourhood.jpg\")\n",
    "img = image.copy()\n",
    "\n",
    "cv2.imshow(window_name, img)\n",
    "cv2.waitKey(0)        \n",
    "cv2.destroyAllWindows()\n",
    "cv2.waitKey(1)\n"
   ]
  },
  {
   "cell_type": "markdown",
   "metadata": {},
   "source": [
    "[Hint](# \"cv2.namedWindow\") "
   ]
  },
  {
   "cell_type": "code",
   "execution_count": 9,
   "metadata": {},
   "outputs": [
    {
     "data": {
      "text/plain": [
       "-1"
      ]
     },
     "execution_count": 9,
     "metadata": {},
     "output_type": "execute_result"
    }
   ],
   "source": [
    "# Add at least 3 different trackbars to the window (choose of any parameters that you want to modify with them)\n",
    "# Each trackbar will modify some parameter of the image, write a function for each trackbar\n",
    "# When the user move the trackbar around the image should be updated accordingly\n",
    "# When the key esc is detected close the image\n",
    "window_name = \"trackbars\"\n",
    "cv2.namedWindow(window_name, cv2.WINDOW_AUTOSIZE) #autosize thing is flag\n",
    "image = cv2.imread(\"img/neighbourhood.jpg\")\n",
    "img = image.copy()\n",
    "img = cv2.cvtColor(img, cv2.COLOR_RGB2GRAY)\n",
    "\n",
    "threshold_value=0\n",
    "threshold_type = cv2.THRESH_BINARY\n",
    "threshold_types = [cv2.THRESH_BINARY, cv2.THRESH_BINARY_INV, cv2.THRESH_TOZERO, cv2.THRESH_TRUNC]\n",
    "\n",
    "def change_threshold_value(val):\n",
    "    threshold_value = val\n",
    "    ret, thresh = cv2.threshold(img, threshold_value, 255, threshold_type)\n",
    "    cv2.imshow(window_name, thresh)\n",
    "\n",
    "def change_threshold_type(val):\n",
    "    \n",
    "    threshold_type = threshold_types[val]\n",
    "    ret, thresh = cv2.threshold(img, threshold_type, 170, type=threshold_type)\n",
    "    cv2.imshow(window_name, thresh)\n",
    "\n",
    "\n",
    "cv2.createTrackbar(\"Threshold Value\", window_name, 0, 200, change_threshold_value)\n",
    "cv2.createTrackbar(\"Threshold Type\", window_name, threshold_type, 4, change_threshold_type)\n",
    "\n",
    "cv2.imshow(window_name, img)\n",
    "cv2.waitKey(0)\n",
    "cv2.destroyAllWindows()\n",
    "cv2.waitKey(1)\n",
    "\n"
   ]
  },
  {
   "cell_type": "markdown",
   "metadata": {},
   "source": [
    "[Hint](# \"cv2.createTrackbar\") "
   ]
  },
  {
   "cell_type": "code",
   "execution_count": 10,
   "metadata": {
    "ExecuteTime": {
     "end_time": "2019-11-19T11:17:40.562115Z",
     "start_time": "2019-11-19T11:17:39.321415Z"
    },
    "scrolled": false
   },
   "outputs": [
    {
     "data": {
      "text/plain": [
       "-1"
      ]
     },
     "execution_count": 10,
     "metadata": {},
     "output_type": "execute_result"
    }
   ],
   "source": [
    "# Do the same as above but using your webcam image so the trackbars will apply the changes on live image\n",
    "window_name = \"webcam_track\"\n",
    "cv2.namedWindow(window_name, cv2.WINDOW_AUTOSIZE)\n",
    "                \n",
    "cap = cv2.VideoCapture(0)  # opens webcam and starts capturing\n",
    "key = 0\n",
    "\n",
    "while(True):  #run forever until I do a break\n",
    "    ret, frame = cap.read()\n",
    "    frame = cv2.cvtColor(frame, cv2.COLOR_RGB2GRAY)\n",
    "    \n",
    "    threshold_value=0\n",
    "    threshold_type = cv2.THRESH_BINARY\n",
    "    threshold_types = [cv2.THRESH_BINARY, cv2.THRESH_BINARY_INV, cv2.THRESH_TOZERO, cv2.THRESH_TOZERO_INV]\n",
    "\n",
    "    def change_threshold_value(val):\n",
    "        threshold_value = val\n",
    "        ret, thresh = cv2.threshold(frame, threshold_value, 255, threshold_type)\n",
    "        cv2.imshow(window_name, thresh)\n",
    "\n",
    "    def change_threshold_type(val):\n",
    "        threshold_type = threshold_types[val]\n",
    "        ret, thresh = cv2.threshold(frame, threshold_value, 255, type=threshold_type)\n",
    "        cv2.imshow(window_name, thresh)\n",
    "\n",
    "\n",
    "    cv2.createTrackbar(\"Threshold Value\", window_name, 0, 200, change_threshold_value)\n",
    "    cv2.createTrackbar(\"Threshold Type\", window_name, threshold_type, 4, change_threshold_type)\n",
    "\n",
    "    if (key == 27):\n",
    "        break\n",
    "        \n",
    "    key = cv2.waitKey(0)\n",
    "\n",
    "\n",
    "cap.release()\n",
    "cv2.destroyAllWindows()\n",
    "cv2.waitKey(1)"
   ]
  }
 ],
 "metadata": {
  "kernelspec": {
   "display_name": "Python 3",
   "language": "python",
   "name": "python3"
  },
  "language_info": {
   "codemirror_mode": {
    "name": "ipython",
    "version": 3
   },
   "file_extension": ".py",
   "mimetype": "text/x-python",
   "name": "python",
   "nbconvert_exporter": "python",
   "pygments_lexer": "ipython3",
   "version": "3.8.5"
  }
 },
 "nbformat": 4,
 "nbformat_minor": 2
}
