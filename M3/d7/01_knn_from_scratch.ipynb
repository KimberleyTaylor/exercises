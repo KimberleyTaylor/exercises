{
 "cells": [
  {
   "cell_type": "markdown",
   "metadata": {},
   "source": [
    "# KNN From Sratch\n",
    "\n",
    "In this workbook we will guide you through the steps to implement KNN from scratch. Once this is done you'll implement you solution in a class that is tested with the knn_class_tester notebook.\n",
    "\n",
    "1. Use the ```make_blobs``` function from SKLearn to make a dataset to test your KNN functions.\n",
    "2. Create helper functions. These will be useful when you go to implement your class.\n",
    "    - Squaring the difference of two vectors.\n",
    "    - Summing the square differences and returning the square root.\n",
    "    - Calculating the euclidian distances\n",
    "    - An evaluation function to evalaute predictions\n",
    "3. Create the KNN predcit function"
   ]
  },
  {
   "cell_type": "code",
   "execution_count": 157,
   "metadata": {
    "ExecuteTime": {
     "end_time": "2021-01-26T15:39:10.454398Z",
     "start_time": "2021-01-26T15:39:10.450125Z"
    }
   },
   "outputs": [],
   "source": [
    "#import libraries\n",
    "import numpy as np\n",
    "import pandas as pd\n",
    "from collections import Counter\n",
    "import matplotlib.pyplot as plt\n",
    "from sklearn.datasets.samples_generator import make_blobs\n",
    "from sklearn.datasets import load_iris"
   ]
  },
  {
   "cell_type": "markdown",
   "metadata": {},
   "source": [
    "### Step 1: Create a sample dataset\n",
    "1. Use ```make_blobs``` to create a sample set\n",
    "2. Start with 300 samples, 4 centres, 0.6 standard deviation, and random state 0\n",
    "3. Plot the samples"
   ]
  },
  {
   "cell_type": "code",
   "execution_count": 158,
   "metadata": {
    "ExecuteTime": {
     "end_time": "2021-01-26T15:39:11.877842Z",
     "start_time": "2021-01-26T15:39:11.720129Z"
    }
   },
   "outputs": [
    {
     "data": {
      "text/plain": [
       "<matplotlib.collections.PathCollection at 0x7f71e5240d90>"
      ]
     },
     "execution_count": 158,
     "metadata": {},
     "output_type": "execute_result"
    },
    {
     "data": {
      "image/png": "[encoded data removed]",
      "text/plain": [
       "<Figure size 432x288 with 1 Axes>"
      ]
     },
     "metadata": {
      "needs_background": "light"
     },
     "output_type": "display_data"
    }
   ],
   "source": [
    "#make the dataset with make_blobs\n",
    "#your code here\n",
    "X, Y = make_blobs(n_samples=300, centers=4, cluster_std=0.6, random_state=0)\n",
    "plt.scatter(X[:, 0], X[:, 1], s=50)\n"
   ]
  },
  {
   "cell_type": "markdown",
   "metadata": {},
   "source": [
    "### Step 2: Create the helper functions\n",
    "1. Implement ```square_diff``` that takes in two vectors ```x1``` and ```x2``` and returns their squared difference. Hint: Use ```assert``` to check their lenghts match.\n",
    "2. Implement ```root_sum_squared``` that takes in a vector of squaerd differences and returns the square root of the summed elements.\n",
    "3. Implement ```euclidean_distances``` that takes in feature and prediction vectors and computes the distances. *Hint:* ```np.linalg.norm```\n",
    "4. Implement ```evaluate``` that takes in ```y_hat``` and ```y_true``` (classifications of the blobs)and returns the accruacy of the KNN predict function."
   ]
  },
  {
   "cell_type": "code",
   "execution_count": 179,
   "metadata": {
    "ExecuteTime": {
     "end_time": "2021-01-26T15:51:07.647130Z",
     "start_time": "2021-01-26T15:51:07.639607Z"
    }
   },
   "outputs": [],
   "source": [
    "#implement the evaluate function\n",
    "#your code here\n",
    "def evaluate(y_hat, y_true):\n",
    "    return (y_true == y_hat).mean()*100"
   ]
  },
  {
   "cell_type": "markdown",
   "metadata": {},
   "source": [
    "### Step 3: Create the KNN prediction function\n",
    "The KNN prediction function as the following steps\n",
    "1. For each row in ```X``` calcuate the euclidian distance of each row to the target vector.\n",
    "2. Combine the distances array with the target classifers array y.\n",
    "3. Sort the array and select the k lowest pairs and get the categorical values of the k nearest and put in a list\n",
    "4. Count the highest votes and update the highest voted class to y_hat"
   ]
  },
  {
   "cell_type": "code",
   "execution_count": 378,
   "metadata": {
    "ExecuteTime": {
     "end_time": "2021-01-26T19:26:21.508566Z",
     "start_time": "2021-01-26T19:26:21.496461Z"
    }
   },
   "outputs": [
    {
     "name": "stdout",
     "output_type": "stream",
     "text": [
      "[0 1 2 0 0 3 0 2 3 0 3 1 0 0 2 0 1 3 3 3 1 1 2 1 3 1 1 3 0 2 2 1 3 1 3 0 2\n",
      " 0 1 1 3 2 3 2 2 2 3 2 0 1 2 2 1 2 3 3 3 3 0 2 2 1 0 0 3 0 2 1 2 1 3 1 1 1\n",
      " 0 2 2 1 0 0 0 2 1 2 0 0 2 2 0 1 1 0 2 1 1 3 1 2 2 0 0 0 0 3 2 0 1 2 0 1 0\n",
      " 0 2 2 3 3 2 1 3 2 0 1 0 2 3 3 2 3 0 3 0 3 1 1 1 3 1 3 0 0 1 2 0 0 0 3 1 0\n",
      " 3 2 1 1 3 0 3 2 2 3 3 0 1 1 2 0 2 0 2 0 3 0 1 1 1 1 3 1 2 2 1 3 0 2 0 0 1\n",
      " 2 0 3 2 3 1 1 1 3 2 1 1 1 3 3 1 3 0 3 3 2 3 3 2 3 1 2 2 3 3 0 0 3 3 0 1 1\n",
      " 3 1 2 1 3 3 0 2 0 3 1 2 1 1 2 1 1 3]\n",
      "240\n"
     ]
    }
   ],
   "source": [
    "from sklearn.model_selection import train_test_split\n",
    "X_train, X_test, y_train, y_test = train_test_split(X, Y, train_size=0.8, test_size=0.2, random_state=42)\n",
    "print(y_train)\n",
    "print(len(y_train))"
   ]
  },
  {
   "cell_type": "code",
   "execution_count": 379,
   "metadata": {
    "ExecuteTime": {
     "end_time": "2021-01-26T19:26:46.932720Z",
     "start_time": "2021-01-26T19:26:46.926962Z"
    }
   },
   "outputs": [
    {
     "name": "stdout",
     "output_type": "stream",
     "text": [
      "[2 0 3 3 1 0 2 0 1 3 2 2 1 2 2 1 0 2 3 2 1 3 3 0 0 0 1 1 2 3 1 0 3 2 2 0 0\n",
      " 0 3 2 2 2 3 3 0 2 2 0 2 3 1 0 2 3 0 3 1 3 0 0]\n",
      "60\n"
     ]
    }
   ],
   "source": [
    "print(y_test)\n",
    "print(len(y_test))"
   ]
  },
  {
   "cell_type": "code",
   "execution_count": 381,
   "metadata": {
    "ExecuteTime": {
     "end_time": "2021-01-26T19:27:06.625817Z",
     "start_time": "2021-01-26T19:27:06.621501Z"
    }
   },
   "outputs": [
    {
     "name": "stdout",
     "output_type": "stream",
     "text": [
      "[[ 0.72809869  3.85531444]\n",
      " [ 1.39263752  0.92896271]\n",
      " [-1.80822253  1.59701749]\n",
      " [ 1.43289271  4.37679234]\n",
      " [ 1.89593761  5.18540259]\n",
      " [-0.51333344  7.87437368]\n",
      " [ 0.73436391  5.03725437]\n",
      " [-0.6149071   3.94963585]\n",
      " [-0.04150177  7.80870276]\n",
      " [ 1.06269622  5.17635143]]\n",
      "240\n"
     ]
    }
   ],
   "source": [
    "print(X_train[:10])\n",
    "print(len(X_train))"
   ]
  },
  {
   "cell_type": "code",
   "execution_count": 382,
   "metadata": {
    "ExecuteTime": {
     "end_time": "2021-01-26T19:27:20.603381Z",
     "start_time": "2021-01-26T19:27:20.598207Z"
    }
   },
   "outputs": [
    {
     "name": "stdout",
     "output_type": "stream",
     "text": [
      "[[-1.80701134  2.06773859]\n",
      " [ 1.4949318   3.85848832]\n",
      " [-0.60133739  6.29994922]\n",
      " [-0.71109961  8.66043846]\n",
      " [ 0.89349964  1.01093082]\n",
      " [ 0.44359863  3.11530945]\n",
      " [-2.78366586  2.99211541]\n",
      " [ 0.98257009  5.37530962]\n",
      " [ 3.43761754  0.26165417]\n",
      " [-1.14989863  7.89325283]\n",
      " [-1.24902582  3.08533972]\n",
      " [-1.14091533  1.97550822]\n",
      " [ 2.95195825 -0.34432736]\n",
      " [-1.02192525  2.76820711]\n",
      " [-2.22131717  2.73050691]\n",
      " [ 2.5270643   0.6178122 ]\n",
      " [ 0.91719856  3.90570036]\n",
      " [-1.64129611  2.68097255]\n",
      " [-1.102985    7.30222786]\n",
      " [-2.63274574  2.63109786]\n",
      " [ 2.14043942  0.70606661]\n",
      " [-2.17851338  8.08585131]\n",
      " [-0.73069817  6.24208856]\n",
      " [ 2.40615694  4.87047502]\n",
      " [ 1.05241733  4.54498095]\n",
      " [-0.04749204  5.47425256]\n",
      " [ 2.60778282  1.08890025]\n",
      " [ 1.9736977   1.57979848]\n",
      " [-1.88609638  2.24834407]\n",
      " [-1.07768797  8.88106128]\n",
      " [ 2.56936589  0.5070483 ]\n",
      " [ 0.81546806  4.78526116]\n",
      " [-1.13121396  6.7665223 ]\n",
      " [-1.91828017  2.60516867]\n",
      " [-0.7081849   2.50421275]\n",
      " [ 0.45953467  5.4498263 ]\n",
      " [ 1.41372442  4.38117707]\n",
      " [ 0.52941719  3.8079242 ]\n",
      " [-1.37842552  8.10269597]\n",
      " [-1.60496819  2.9742542 ]\n",
      " [-1.74572014  3.01190457]\n",
      " [-1.7578319   2.97449321]\n",
      " [-1.5587672   7.2481621 ]\n",
      " [-2.2569867   7.3020772 ]\n",
      " [ 1.19008992  4.72773123]\n",
      " [-1.03819212  2.95323761]\n",
      " [-1.10782972  2.92014479]\n",
      " [ 2.13003529  5.1920962 ]\n",
      " [-1.60712495  3.56452854]\n",
      " [-1.39346767  8.74641672]\n",
      " [ 2.62492001  0.9501944 ]\n",
      " [ 1.86922139  5.44132083]\n",
      " [-1.86849125  3.07982487]\n",
      " [-0.78541221  8.45312331]\n",
      " [ 0.43899014  4.53592883]\n",
      " [-1.24307904  8.15166254]\n",
      " [ 2.60137487  1.08799459]\n",
      " [-1.95575053  8.61631686]\n",
      " [ 1.01618041  4.48527047]\n",
      " [-0.55552381  4.69595848]]\n",
      "60\n"
     ]
    }
   ],
   "source": [
    "print(X_test)\n",
    "print(len(X_test))"
   ]
  },
  {
   "cell_type": "code",
   "execution_count": 392,
   "metadata": {
    "ExecuteTime": {
     "end_time": "2021-01-26T19:33:56.481417Z",
     "start_time": "2021-01-26T19:33:56.478612Z"
    }
   },
   "outputs": [],
   "source": [
    "from sklearn.model_selection import train_test_split\n",
    "from sklearn.metrics import accuracy_score"
   ]
  },
  {
   "cell_type": "code",
   "execution_count": 415,
   "metadata": {
    "ExecuteTime": {
     "end_time": "2021-01-26T19:49:25.354558Z",
     "start_time": "2021-01-26T19:49:25.350028Z"
    }
   },
   "outputs": [],
   "source": [
    "X_train, X_test, Y_train, Y_test = train_test_split(X, Y, train_size=0.8, test_size=0.2, random_state=42)"
   ]
  },
  {
   "cell_type": "code",
   "execution_count": 434,
   "metadata": {
    "ExecuteTime": {
     "end_time": "2021-01-26T19:55:42.005390Z",
     "start_time": "2021-01-26T19:55:41.997384Z"
    }
   },
   "outputs": [],
   "source": [
    "def KNN(X_train, X_test, Y_train, k):\n",
    "    \n",
    "    list_of_distances = []\n",
    "    for index, tr in enumerate(X_train):\n",
    "        for te in X_test:\n",
    "            dist = np.linalg.norm(tr-te)\n",
    "            list_of_distances.append((dist, index))     \n",
    "    sorted_distances = sorted(list_of_distances, key=lambda x: x[0])\n",
    "    \n",
    "    k_elements = sorted_distances[:k]\n",
    "    \n",
    "    y_hats = []\n",
    "    for i in k_elements:\n",
    "        y_hats.append(y_train[i[1]])\n",
    "    print(y_hats)\n",
    "    Y_pred = mode(y_hats)\n",
    "    return Y_pred"
   ]
  },
  {
   "cell_type": "code",
   "execution_count": 435,
   "metadata": {
    "ExecuteTime": {
     "end_time": "2021-01-26T19:55:42.842559Z",
     "start_time": "2021-01-26T19:55:42.708083Z"
    }
   },
   "outputs": [
    {
     "name": "stdout",
     "output_type": "stream",
     "text": [
      "[2, 0, 0, 2, 3, 0, 2, 0, 1]\n"
     ]
    },
    {
     "data": {
      "text/plain": [
       "0"
      ]
     },
     "execution_count": 435,
     "metadata": {},
     "output_type": "execute_result"
    }
   ],
   "source": [
    "KNN(X_train, X_test, Y_train, 9)"
   ]
  },
  {
   "cell_type": "code",
   "execution_count": 436,
   "metadata": {
    "ExecuteTime": {
     "end_time": "2021-01-26T19:55:43.500812Z",
     "start_time": "2021-01-26T19:55:43.357917Z"
    }
   },
   "outputs": [
    {
     "name": "stdout",
     "output_type": "stream",
     "text": [
      "[2, 0, 0, 2, 3, 0, 2, 0, 1, 1, 2]\n"
     ]
    },
    {
     "data": {
      "text/plain": [
       "2"
      ]
     },
     "execution_count": 436,
     "metadata": {},
     "output_type": "execute_result"
    }
   ],
   "source": [
    "KNN(X_train, X_test, Y_train, 11)"
   ]
  },
  {
   "cell_type": "code",
   "execution_count": null,
   "metadata": {},
   "outputs": [],
   "source": []
  }
 ],
 "metadata": {
  "kernelspec": {
   "display_name": "Python 3",
   "language": "python",
   "name": "python3"
  },
  "language_info": {
   "codemirror_mode": {
    "name": "ipython",
    "version": 3
   },
   "file_extension": ".py",
   "mimetype": "text/x-python",
   "name": "python",
   "nbconvert_exporter": "python",
   "pygments_lexer": "ipython3",
   "version": "3.8.3"
  }
 },
 "nbformat": 4,
 "nbformat_minor": 2
}
