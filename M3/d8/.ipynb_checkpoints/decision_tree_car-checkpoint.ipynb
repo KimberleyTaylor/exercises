{
 "cells": [
  {
   "cell_type": "code",
   "execution_count": 141,
   "id": "parliamentary-fruit",
   "metadata": {
    "ExecuteTime": {
     "end_time": "2021-01-27T22:44:41.463073Z",
     "start_time": "2021-01-27T22:44:41.448771Z"
    }
   },
   "outputs": [],
   "source": [
    "#!pip install dtreeviz\n",
    "from sklearn.tree import DecisionTreeClassifier\n",
    "from sklearn.model_selection import cross_val_score\n",
    "from sklearn import tree\n",
    "from dtreeviz.trees import dtreeviz\n",
    "from sklearn.model_selection import train_test_split, cross_validate\n",
    "import pandas as pd\n",
    "import numpy as np\n",
    "import matplotlib.pyplot as plt\n",
    "from sklearn.preprocessing import StandardScaler"
   ]
  },
  {
   "cell_type": "code",
   "execution_count": 142,
   "id": "excessive-situation",
   "metadata": {
    "ExecuteTime": {
     "end_time": "2021-01-27T22:44:41.990098Z",
     "start_time": "2021-01-27T22:44:41.955995Z"
    }
   },
   "outputs": [],
   "source": [
    "df = pd.read_csv('./datasets/car.data', header=None)\n",
    "df.columns = [\"buying_price\", \"maint_price\", \"doors\", \"persons\", \"boot_size\", \"safety_level\", \"car_acceptability\"]"
   ]
  },
  {
   "cell_type": "code",
   "execution_count": 143,
   "id": "early-minutes",
   "metadata": {
    "ExecuteTime": {
     "end_time": "2021-01-27T22:44:42.445159Z",
     "start_time": "2021-01-27T22:44:42.411724Z"
    }
   },
   "outputs": [],
   "source": [
    "df_cars = df.replace(['vhigh', 'high', 'med', 'low', 'big', 'small', '5more', 'more', 'unacc', 'acc', 'good','vgood'],[4,3,2,1,3,1,5,5,1,2,3,4])"
   ]
  },
  {
   "cell_type": "code",
   "execution_count": 144,
   "id": "august-ceramic",
   "metadata": {
    "ExecuteTime": {
     "end_time": "2021-01-27T22:44:42.916787Z",
     "start_time": "2021-01-27T22:44:42.880275Z"
    }
   },
   "outputs": [
    {
     "data": {
      "text/html": [
       "<div>\n",
       "<style scoped>\n",
       "    .dataframe tbody tr th:only-of-type {\n",
       "        vertical-align: middle;\n",
       "    }\n",
       "\n",
       "    .dataframe tbody tr th {\n",
       "        vertical-align: top;\n",
       "    }\n",
       "\n",
       "    .dataframe thead th {\n",
       "        text-align: right;\n",
       "    }\n",
       "</style>\n",
       "<table border=\"1\" class=\"dataframe\">\n",
       "  <thead>\n",
       "    <tr style=\"text-align: right;\">\n",
       "      <th></th>\n",
       "      <th>buying_price</th>\n",
       "      <th>maint_price</th>\n",
       "      <th>doors</th>\n",
       "      <th>persons</th>\n",
       "      <th>boot_size</th>\n",
       "      <th>safety_level</th>\n",
       "      <th>car_acceptability</th>\n",
       "    </tr>\n",
       "  </thead>\n",
       "  <tbody>\n",
       "    <tr>\n",
       "      <th>0</th>\n",
       "      <td>4</td>\n",
       "      <td>4</td>\n",
       "      <td>2</td>\n",
       "      <td>2</td>\n",
       "      <td>1</td>\n",
       "      <td>1</td>\n",
       "      <td>1</td>\n",
       "    </tr>\n",
       "    <tr>\n",
       "      <th>1</th>\n",
       "      <td>4</td>\n",
       "      <td>4</td>\n",
       "      <td>2</td>\n",
       "      <td>2</td>\n",
       "      <td>1</td>\n",
       "      <td>2</td>\n",
       "      <td>1</td>\n",
       "    </tr>\n",
       "    <tr>\n",
       "      <th>2</th>\n",
       "      <td>4</td>\n",
       "      <td>4</td>\n",
       "      <td>2</td>\n",
       "      <td>2</td>\n",
       "      <td>1</td>\n",
       "      <td>3</td>\n",
       "      <td>1</td>\n",
       "    </tr>\n",
       "    <tr>\n",
       "      <th>3</th>\n",
       "      <td>4</td>\n",
       "      <td>4</td>\n",
       "      <td>2</td>\n",
       "      <td>2</td>\n",
       "      <td>2</td>\n",
       "      <td>1</td>\n",
       "      <td>1</td>\n",
       "    </tr>\n",
       "    <tr>\n",
       "      <th>4</th>\n",
       "      <td>4</td>\n",
       "      <td>4</td>\n",
       "      <td>2</td>\n",
       "      <td>2</td>\n",
       "      <td>2</td>\n",
       "      <td>2</td>\n",
       "      <td>1</td>\n",
       "    </tr>\n",
       "    <tr>\n",
       "      <th>...</th>\n",
       "      <td>...</td>\n",
       "      <td>...</td>\n",
       "      <td>...</td>\n",
       "      <td>...</td>\n",
       "      <td>...</td>\n",
       "      <td>...</td>\n",
       "      <td>...</td>\n",
       "    </tr>\n",
       "    <tr>\n",
       "      <th>1723</th>\n",
       "      <td>1</td>\n",
       "      <td>1</td>\n",
       "      <td>5</td>\n",
       "      <td>5</td>\n",
       "      <td>2</td>\n",
       "      <td>2</td>\n",
       "      <td>3</td>\n",
       "    </tr>\n",
       "    <tr>\n",
       "      <th>1724</th>\n",
       "      <td>1</td>\n",
       "      <td>1</td>\n",
       "      <td>5</td>\n",
       "      <td>5</td>\n",
       "      <td>2</td>\n",
       "      <td>3</td>\n",
       "      <td>4</td>\n",
       "    </tr>\n",
       "    <tr>\n",
       "      <th>1725</th>\n",
       "      <td>1</td>\n",
       "      <td>1</td>\n",
       "      <td>5</td>\n",
       "      <td>5</td>\n",
       "      <td>3</td>\n",
       "      <td>1</td>\n",
       "      <td>1</td>\n",
       "    </tr>\n",
       "    <tr>\n",
       "      <th>1726</th>\n",
       "      <td>1</td>\n",
       "      <td>1</td>\n",
       "      <td>5</td>\n",
       "      <td>5</td>\n",
       "      <td>3</td>\n",
       "      <td>2</td>\n",
       "      <td>3</td>\n",
       "    </tr>\n",
       "    <tr>\n",
       "      <th>1727</th>\n",
       "      <td>1</td>\n",
       "      <td>1</td>\n",
       "      <td>5</td>\n",
       "      <td>5</td>\n",
       "      <td>3</td>\n",
       "      <td>3</td>\n",
       "      <td>4</td>\n",
       "    </tr>\n",
       "  </tbody>\n",
       "</table>\n",
       "<p>1728 rows × 7 columns</p>\n",
       "</div>"
      ],
      "text/plain": [
       "      buying_price  maint_price doors persons  boot_size  safety_level  \\\n",
       "0                4            4     2       2          1             1   \n",
       "1                4            4     2       2          1             2   \n",
       "2                4            4     2       2          1             3   \n",
       "3                4            4     2       2          2             1   \n",
       "4                4            4     2       2          2             2   \n",
       "...            ...          ...   ...     ...        ...           ...   \n",
       "1723             1            1     5       5          2             2   \n",
       "1724             1            1     5       5          2             3   \n",
       "1725             1            1     5       5          3             1   \n",
       "1726             1            1     5       5          3             2   \n",
       "1727             1            1     5       5          3             3   \n",
       "\n",
       "      car_acceptability  \n",
       "0                     1  \n",
       "1                     1  \n",
       "2                     1  \n",
       "3                     1  \n",
       "4                     1  \n",
       "...                 ...  \n",
       "1723                  3  \n",
       "1724                  4  \n",
       "1725                  1  \n",
       "1726                  3  \n",
       "1727                  4  \n",
       "\n",
       "[1728 rows x 7 columns]"
      ]
     },
     "execution_count": 144,
     "metadata": {},
     "output_type": "execute_result"
    }
   ],
   "source": [
    "df_cars"
   ]
  },
  {
   "cell_type": "code",
   "execution_count": 145,
   "id": "rough-yesterday",
   "metadata": {
    "ExecuteTime": {
     "end_time": "2021-01-27T22:44:43.507898Z",
     "start_time": "2021-01-27T22:44:43.500256Z"
    }
   },
   "outputs": [
    {
     "name": "stdout",
     "output_type": "stream",
     "text": [
      "1. Title: Car Evaluation Database\n",
      "\n",
      "2. Sources:\n",
      "   (a) Creator: Marko Bohanec\n",
      "   (b) Donors: Marko Bohanec   (marko.bohanec@ijs.si)\n",
      "               Blaz Zupan      (blaz.zupan@ijs.si)\n",
      "   (c) Date: June, 1997\n",
      "\n",
      "3. Past Usage:\n",
      "\n",
      "   The hierarchical decision model, from which this dataset is\n",
      "   derived, was first presented in \n",
      "\n",
      "   M. Bohanec and V. Rajkovic: Knowledge acquisition and explanation for\n",
      "   multi-attribute decision making. In 8th Intl Workshop on Expert\n",
      "   Systems and their Applications, Avignon, France. pages 59-78, 1988.\n",
      "\n",
      "   Within machine-learning, this dataset was used for the evaluation\n",
      "   of HINT (Hierarchy INduction Tool), which was proved to be able to\n",
      "   completely reconstruct the original hierarchical model. This,\n",
      "   together with a comparison with C4.5, is presented in\n",
      "\n",
      "   B. Zupan, M. Bohanec, I. Bratko, J. Demsar: Machine learning by\n",
      "   function decomposition. ICML-97, Nashville, TN. 1997 (to appear)\n",
      "\n",
      "4. Relevant Information Paragraph:\n",
      "\n",
      "   Car Evaluation Database was derived from a simple hierarchical\n",
      "   decision model originally developed for the demonstration of DEX\n",
      "   (M. Bohanec, V. Rajkovic: Expert system for decision\n",
      "   making. Sistemica 1(1), pp. 145-157, 1990.). The model evaluates\n",
      "   cars according to the following concept structure:\n",
      "\n",
      "   CAR                      car acceptability\n",
      "   . PRICE                  overall price\n",
      "   . . buying               buying price\n",
      "   . . maint                price of the maintenance\n",
      "   . TECH                   technical characteristics\n",
      "   . . COMFORT              comfort\n",
      "   . . . doors              number of doors\n",
      "   . . . persons            capacity in terms of persons to carry\n",
      "   . . . lug_boot           the size of luggage boot\n",
      "   . . safety               estimated safety of the car\n",
      "\n",
      "   Input attributes are printed in lowercase. Besides the target\n",
      "   concept (CAR), the model includes three intermediate concepts:\n",
      "   PRICE, TECH, COMFORT. Every concept is in the original model\n",
      "   related to its lower level descendants by a set of examples (for\n",
      "   these examples sets see http://www-ai.ijs.si/BlazZupan/car.html).\n",
      "\n",
      "   The Car Evaluation Database contains examples with the structural\n",
      "   information removed, i.e., directly relates CAR to the six input\n",
      "   attributes: buying, maint, doors, persons, lug_boot, safety.\n",
      "\n",
      "   Because of known underlying concept structure, this database may be\n",
      "   particularly useful for testing constructive induction and\n",
      "   structure discovery methods.\n",
      "\n",
      "5. Number of Instances: 1728\n",
      "   (instances completely cover the attribute space)\n",
      "\n",
      "6. Number of Attributes: 6\n",
      "\n",
      "7. Attribute Values:\n",
      "\n",
      "   buying       v-high, high, med, low\n",
      "   maint        v-high, high, med, low\n",
      "   doors        2, 3, 4, 5-more\n",
      "   persons      2, 4, more\n",
      "   lug_boot     small, med, big\n",
      "   safety       low, med, high\n",
      "\n",
      "8. Missing Attribute Values: none\n",
      "\n",
      "9. Class Distribution (number of instances per class)\n",
      "\n",
      "   class      N          N[%]\n",
      "   -----------------------------\n",
      "   unacc     1210     (70.023 %) \n",
      "   acc        384     (22.222 %) \n",
      "   good        69     ( 3.993 %) \n",
      "   v-good      65     ( 3.762 %) \n",
      "\n"
     ]
    }
   ],
   "source": [
    "with open(\"./datasets/car.names\") as f:\n",
    "    print(f.read())"
   ]
  },
  {
   "cell_type": "code",
   "execution_count": 146,
   "id": "enhanced-thought",
   "metadata": {
    "ExecuteTime": {
     "end_time": "2021-01-27T22:44:44.082600Z",
     "start_time": "2021-01-27T22:44:44.069726Z"
    }
   },
   "outputs": [],
   "source": [
    "x = df_cars.drop(\"car_acceptability\", axis=1)\n",
    "y = df_cars[\"car_acceptability\"]"
   ]
  },
  {
   "cell_type": "code",
   "execution_count": 147,
   "id": "optical-assurance",
   "metadata": {
    "ExecuteTime": {
     "end_time": "2021-01-27T22:44:44.709532Z",
     "start_time": "2021-01-27T22:44:44.688638Z"
    }
   },
   "outputs": [
    {
     "name": "stdout",
     "output_type": "stream",
     "text": [
      "      buying_price  maint_price doors persons  boot_size  safety_level\n",
      "107              4            4     5       5          3             3\n",
      "901              2            4     3       4          1             2\n",
      "1709             1            1     5       2          3             3\n",
      "706              3            2     4       2          2             2\n",
      "678              3            2     3       2          2             1\n",
      "722              3            2     4       5          1             3\n",
      "429              4            1     5       5          3             1\n",
      "679              3            2     3       2          2             2\n",
      "917              2            4     3       5          3             3\n",
      "1230             2            1     3       4          3             1\n",
      "107     1\n",
      "901     1\n",
      "1709    1\n",
      "706     1\n",
      "678     1\n",
      "722     2\n",
      "429     1\n",
      "679     1\n",
      "917     2\n",
      "1230    1\n",
      "Name: car_acceptability, dtype: int64\n"
     ]
    }
   ],
   "source": [
    "X_train, X_test, Y_train, Y_test = train_test_split(x, y, train_size=0.8, test_size=0.2, random_state=42)\n",
    "print(X_train[:10])\n",
    "print(Y_train[:10])"
   ]
  },
  {
   "cell_type": "code",
   "execution_count": 148,
   "id": "under-large",
   "metadata": {
    "ExecuteTime": {
     "end_time": "2021-01-27T22:44:45.835638Z",
     "start_time": "2021-01-27T22:44:45.814318Z"
    }
   },
   "outputs": [],
   "source": [
    "scaler = StandardScaler()\n",
    "X_train = scaler.fit_transform(X_train)\n",
    "X_test = scaler.fit_transform(X_test)"
   ]
  },
  {
   "cell_type": "code",
   "execution_count": 149,
   "id": "breeding-biotechnology",
   "metadata": {
    "ExecuteTime": {
     "end_time": "2021-01-27T22:44:47.235924Z",
     "start_time": "2021-01-27T22:44:47.221704Z"
    }
   },
   "outputs": [
    {
     "data": {
      "text/plain": [
       "DecisionTreeClassifier(max_depth=9, random_state=77, splitter='random')"
      ]
     },
     "execution_count": 149,
     "metadata": {},
     "output_type": "execute_result"
    }
   ],
   "source": [
    "clf = DecisionTreeClassifier(splitter='random', max_depth=9, random_state=77)\n",
    "clf.fit(X_train, Y_train)"
   ]
  },
  {
   "cell_type": "code",
   "execution_count": 150,
   "id": "adverse-apparatus",
   "metadata": {
    "ExecuteTime": {
     "end_time": "2021-01-27T22:44:48.201923Z",
     "start_time": "2021-01-27T22:44:48.182540Z"
    }
   },
   "outputs": [
    {
     "data": {
      "text/plain": [
       "array([1, 3, 1, 2, 1, 2, 1, 1, 1, 1, 2, 3, 1, 1, 1, 1, 1, 1, 1, 2, 1, 2,\n",
       "       2, 1, 2, 1, 1, 1, 1, 1, 2, 1, 1, 1, 2, 3, 3, 1, 1, 1, 1, 1, 2, 2,\n",
       "       3, 2, 1, 1, 1, 1, 1, 1, 2, 1, 1, 1, 1, 1, 1, 3, 1, 1, 1, 1, 2, 4,\n",
       "       1, 2, 2, 1, 1, 1, 1, 1, 3, 3, 1, 1, 1, 1, 4, 1, 1, 2, 4, 2, 1, 2,\n",
       "       3, 4, 1, 3, 1, 1, 1, 3, 1, 1, 1, 2, 1, 1, 1, 1, 3, 3, 2, 1, 1, 2,\n",
       "       1, 1, 1, 1, 1, 2, 3, 1, 1, 1, 1, 3, 1, 2, 2, 1, 3, 1, 1, 1, 1, 1,\n",
       "       3, 1, 1, 2, 1, 4, 1, 1, 1, 2, 2, 2, 1, 2, 1, 1, 1, 1, 3, 4, 1, 1,\n",
       "       1, 1, 1, 1, 1, 1, 1, 2, 1, 1, 1, 1, 2, 1, 2, 4, 2, 1, 2, 1, 1, 2,\n",
       "       1, 1, 1, 1, 2, 1, 1, 1, 3, 2, 1, 1, 2, 1, 1, 1, 2, 1, 1, 1, 1, 2,\n",
       "       1, 1, 1, 1, 1, 3, 1, 1, 1, 3, 1, 2, 1, 1, 2, 1, 1, 3, 1, 1, 1, 3,\n",
       "       4, 1, 1, 2, 1, 1, 1, 1, 2, 1, 1, 1, 1, 1, 2, 1, 1, 1, 1, 1, 1, 1,\n",
       "       1, 1, 1, 1, 1, 1, 1, 1, 1, 1, 1, 1, 1, 1, 1, 1, 2, 1, 2, 1, 1, 1,\n",
       "       1, 1, 2, 4, 1, 1, 1, 2, 1, 1, 4, 1, 1, 3, 3, 1, 2, 1, 2, 2, 1, 1,\n",
       "       1, 3, 4, 2, 2, 1, 1, 1, 1, 4, 2, 2, 1, 1, 1, 2, 4, 1, 1, 1, 1, 2,\n",
       "       1, 1, 4, 2, 2, 1, 1, 2, 2, 2, 1, 2, 1, 1, 1, 1, 1, 1, 1, 2, 1, 1,\n",
       "       1, 1, 2, 1, 2, 1, 1, 2, 1, 1, 1, 1, 1, 1, 1, 1])"
      ]
     },
     "execution_count": 150,
     "metadata": {},
     "output_type": "execute_result"
    }
   ],
   "source": [
    "clf.predict(X_test)"
   ]
  },
  {
   "cell_type": "code",
   "execution_count": 151,
   "id": "rational-compact",
   "metadata": {
    "ExecuteTime": {
     "end_time": "2021-01-27T22:44:51.050393Z",
     "start_time": "2021-01-27T22:44:51.033070Z"
    }
   },
   "outputs": [
    {
     "name": "stdout",
     "output_type": "stream",
     "text": [
      "0.9819102749638206\n",
      "0.930635838150289\n"
     ]
    }
   ],
   "source": [
    "print(clf.score(X_train, Y_train))\n",
    "print(clf.score(X_test, Y_test))"
   ]
  },
  {
   "cell_type": "code",
   "execution_count": 152,
   "id": "oriental-staff",
   "metadata": {
    "ExecuteTime": {
     "end_time": "2021-01-27T22:44:52.346876Z",
     "start_time": "2021-01-27T22:44:52.337028Z"
    }
   },
   "outputs": [
    {
     "name": "stdout",
     "output_type": "stream",
     "text": [
      "9\n",
      "65\n"
     ]
    }
   ],
   "source": [
    "print(clf.get_depth())\n",
    "print(clf.get_n_leaves())"
   ]
  },
  {
   "cell_type": "code",
   "execution_count": 153,
   "id": "happy-request",
   "metadata": {
    "ExecuteTime": {
     "end_time": "2021-01-27T22:44:53.076704Z",
     "start_time": "2021-01-27T22:44:53.071820Z"
    }
   },
   "outputs": [],
   "source": [
    "columns = []\n",
    "for col in X.columns: \n",
    "    columns.append(col)"
   ]
  },
  {
   "cell_type": "code",
   "execution_count": 154,
   "id": "coupled-seventh",
   "metadata": {
    "ExecuteTime": {
     "end_time": "2021-01-27T22:44:54.097282Z",
     "start_time": "2021-01-27T22:44:54.057837Z"
    }
   },
   "outputs": [
    {
     "data": {
      "text/html": [
       "<div>\n",
       "<style scoped>\n",
       "    .dataframe tbody tr th:only-of-type {\n",
       "        vertical-align: middle;\n",
       "    }\n",
       "\n",
       "    .dataframe tbody tr th {\n",
       "        vertical-align: top;\n",
       "    }\n",
       "\n",
       "    .dataframe thead th {\n",
       "        text-align: right;\n",
       "    }\n",
       "</style>\n",
       "<table border=\"1\" class=\"dataframe\">\n",
       "  <thead>\n",
       "    <tr style=\"text-align: right;\">\n",
       "      <th></th>\n",
       "      <th>buying_price</th>\n",
       "      <th>maint_price</th>\n",
       "      <th>doors</th>\n",
       "      <th>persons</th>\n",
       "      <th>boot_size</th>\n",
       "      <th>safety_level</th>\n",
       "    </tr>\n",
       "  </thead>\n",
       "  <tbody>\n",
       "    <tr>\n",
       "      <th>0</th>\n",
       "      <td>0.182605</td>\n",
       "      <td>0.108543</td>\n",
       "      <td>0.049267</td>\n",
       "      <td>0.172171</td>\n",
       "      <td>0.159842</td>\n",
       "      <td>0.327571</td>\n",
       "    </tr>\n",
       "  </tbody>\n",
       "</table>\n",
       "</div>"
      ],
      "text/plain": [
       "   buying_price  maint_price     doors   persons  boot_size  safety_level\n",
       "0      0.182605     0.108543  0.049267  0.172171   0.159842      0.327571"
      ]
     },
     "execution_count": 154,
     "metadata": {},
     "output_type": "execute_result"
    }
   ],
   "source": [
    "importance = clf.feature_importances_\n",
    "importance_df = pd.DataFrame(importance)\n",
    "importance_df = importance_df.T\n",
    "importance_df.columns = columns\n",
    "importance_df"
   ]
  },
  {
   "cell_type": "code",
   "execution_count": 155,
   "id": "liberal-surge",
   "metadata": {
    "ExecuteTime": {
     "end_time": "2021-01-27T22:44:54.916598Z",
     "start_time": "2021-01-27T22:44:54.900634Z"
    }
   },
   "outputs": [
    {
     "name": "stdout",
     "output_type": "stream",
     "text": [
      "|--- feature_3 <= -0.86\n",
      "|   |--- class: 1\n",
      "|--- feature_3 >  -0.86\n",
      "|   |--- feature_5 <= -0.15\n",
      "|   |   |--- class: 1\n",
      "|   |--- feature_5 >  -0.15\n",
      "|   |   |--- feature_1 <= 0.00\n",
      "|   |   |   |--- feature_0 <= 0.85\n",
      "|   |   |   |   |--- feature_0 <= -0.14\n",
      "|   |   |   |   |   |--- feature_5 <= 0.35\n",
      "|   |   |   |   |   |   |--- feature_4 <= -0.44\n",
      "|   |   |   |   |   |   |   |--- feature_2 <= -1.07\n",
      "|   |   |   |   |   |   |   |   |--- feature_3 <= 0.38\n",
      "|   |   |   |   |   |   |   |   |   |--- class: 2\n",
      "|   |   |   |   |   |   |   |   |--- feature_3 >  0.38\n",
      "|   |   |   |   |   |   |   |   |   |--- class: 1\n",
      "|   |   |   |   |   |   |   |--- feature_2 >  -1.07\n",
      "|   |   |   |   |   |   |   |   |--- class: 2\n",
      "|   |   |   |   |   |   |--- feature_4 >  -0.44\n",
      "|   |   |   |   |   |   |   |--- feature_1 <= -0.99\n",
      "|   |   |   |   |   |   |   |   |--- feature_4 <= 1.02\n",
      "|   |   |   |   |   |   |   |   |   |--- class: 3\n",
      "|   |   |   |   |   |   |   |   |--- feature_4 >  1.02\n",
      "|   |   |   |   |   |   |   |   |   |--- class: 3\n",
      "|   |   |   |   |   |   |   |--- feature_1 >  -0.99\n",
      "|   |   |   |   |   |   |   |   |--- feature_0 <= -0.93\n",
      "|   |   |   |   |   |   |   |   |   |--- class: 3\n",
      "|   |   |   |   |   |   |   |   |--- feature_0 >  -0.93\n",
      "|   |   |   |   |   |   |   |   |   |--- class: 2\n",
      "|   |   |   |   |   |--- feature_5 >  0.35\n",
      "|   |   |   |   |   |   |--- feature_4 <= -0.39\n",
      "|   |   |   |   |   |   |   |--- feature_2 <= -0.95\n",
      "|   |   |   |   |   |   |   |   |--- feature_3 <= 0.71\n",
      "|   |   |   |   |   |   |   |   |   |--- class: 3\n",
      "|   |   |   |   |   |   |   |   |--- feature_3 >  0.71\n",
      "|   |   |   |   |   |   |   |   |   |--- class: 1\n",
      "|   |   |   |   |   |   |   |--- feature_2 >  -0.95\n",
      "|   |   |   |   |   |   |   |   |--- feature_0 <= -1.14\n",
      "|   |   |   |   |   |   |   |   |   |--- class: 3\n",
      "|   |   |   |   |   |   |   |   |--- feature_0 >  -1.14\n",
      "|   |   |   |   |   |   |   |   |   |--- class: 3\n",
      "|   |   |   |   |   |   |--- feature_4 >  -0.39\n",
      "|   |   |   |   |   |   |   |--- feature_4 <= 0.17\n",
      "|   |   |   |   |   |   |   |   |--- feature_2 <= 0.05\n",
      "|   |   |   |   |   |   |   |   |   |--- class: 3\n",
      "|   |   |   |   |   |   |   |   |--- feature_2 >  0.05\n",
      "|   |   |   |   |   |   |   |   |   |--- class: 4\n",
      "|   |   |   |   |   |   |   |--- feature_4 >  0.17\n",
      "|   |   |   |   |   |   |   |   |--- class: 4\n",
      "|   |   |   |   |--- feature_0 >  -0.14\n",
      "|   |   |   |   |   |--- feature_5 <= 0.36\n",
      "|   |   |   |   |   |   |--- feature_4 <= 0.79\n",
      "|   |   |   |   |   |   |   |--- feature_4 <= -0.73\n",
      "|   |   |   |   |   |   |   |   |--- class: 1\n",
      "|   |   |   |   |   |   |   |--- feature_4 >  -0.73\n",
      "|   |   |   |   |   |   |   |   |--- feature_2 <= 0.55\n",
      "|   |   |   |   |   |   |   |   |   |--- class: 1\n",
      "|   |   |   |   |   |   |   |   |--- feature_2 >  0.55\n",
      "|   |   |   |   |   |   |   |   |   |--- class: 2\n",
      "|   |   |   |   |   |   |--- feature_4 >  0.79\n",
      "|   |   |   |   |   |   |   |--- class: 2\n",
      "|   |   |   |   |   |--- feature_5 >  0.36\n",
      "|   |   |   |   |   |   |--- feature_2 <= -0.80\n",
      "|   |   |   |   |   |   |   |--- feature_3 <= 0.73\n",
      "|   |   |   |   |   |   |   |   |--- class: 2\n",
      "|   |   |   |   |   |   |   |--- feature_3 >  0.73\n",
      "|   |   |   |   |   |   |   |   |--- feature_4 <= 1.17\n",
      "|   |   |   |   |   |   |   |   |   |--- class: 1\n",
      "|   |   |   |   |   |   |   |   |--- feature_4 >  1.17\n",
      "|   |   |   |   |   |   |   |   |   |--- class: 2\n",
      "|   |   |   |   |   |   |--- feature_2 >  -0.80\n",
      "|   |   |   |   |   |   |   |--- class: 2\n",
      "|   |   |   |--- feature_0 >  0.85\n",
      "|   |   |   |   |--- feature_5 <= 0.02\n",
      "|   |   |   |   |   |--- feature_4 <= 0.25\n",
      "|   |   |   |   |   |   |--- feature_4 <= -0.80\n",
      "|   |   |   |   |   |   |   |--- class: 1\n",
      "|   |   |   |   |   |   |--- feature_4 >  -0.80\n",
      "|   |   |   |   |   |   |   |--- feature_2 <= 0.69\n",
      "|   |   |   |   |   |   |   |   |--- feature_2 <= -0.85\n",
      "|   |   |   |   |   |   |   |   |   |--- class: 1\n",
      "|   |   |   |   |   |   |   |   |--- feature_2 >  -0.85\n",
      "|   |   |   |   |   |   |   |   |   |--- class: 2\n",
      "|   |   |   |   |   |   |   |--- feature_2 >  0.69\n",
      "|   |   |   |   |   |   |   |   |--- class: 2\n",
      "|   |   |   |   |   |--- feature_4 >  0.25\n",
      "|   |   |   |   |   |   |--- class: 2\n",
      "|   |   |   |   |--- feature_5 >  0.02\n",
      "|   |   |   |   |   |--- feature_2 <= -0.83\n",
      "|   |   |   |   |   |   |--- feature_3 <= 0.85\n",
      "|   |   |   |   |   |   |   |--- class: 2\n",
      "|   |   |   |   |   |   |--- feature_3 >  0.85\n",
      "|   |   |   |   |   |   |   |--- feature_4 <= -0.48\n",
      "|   |   |   |   |   |   |   |   |--- class: 1\n",
      "|   |   |   |   |   |   |   |--- feature_4 >  -0.48\n",
      "|   |   |   |   |   |   |   |   |--- class: 2\n",
      "|   |   |   |   |   |--- feature_2 >  -0.83\n",
      "|   |   |   |   |   |   |--- class: 2\n",
      "|   |   |--- feature_1 >  0.00\n",
      "|   |   |   |--- feature_0 <= -0.45\n",
      "|   |   |   |   |--- feature_5 <= 0.34\n",
      "|   |   |   |   |   |--- feature_1 <= 1.14\n",
      "|   |   |   |   |   |   |--- feature_3 <= 0.36\n",
      "|   |   |   |   |   |   |   |--- class: 2\n",
      "|   |   |   |   |   |   |--- feature_3 >  0.36\n",
      "|   |   |   |   |   |   |   |--- feature_2 <= -0.46\n",
      "|   |   |   |   |   |   |   |   |--- feature_4 <= -0.06\n",
      "|   |   |   |   |   |   |   |   |   |--- class: 1\n",
      "|   |   |   |   |   |   |   |   |--- feature_4 >  -0.06\n",
      "|   |   |   |   |   |   |   |   |   |--- class: 2\n",
      "|   |   |   |   |   |   |   |--- feature_2 >  -0.46\n",
      "|   |   |   |   |   |   |   |   |--- class: 2\n",
      "|   |   |   |   |   |--- feature_1 >  1.14\n",
      "|   |   |   |   |   |   |--- feature_4 <= -0.03\n",
      "|   |   |   |   |   |   |   |--- class: 1\n",
      "|   |   |   |   |   |   |--- feature_4 >  -0.03\n",
      "|   |   |   |   |   |   |   |--- feature_4 <= 0.62\n",
      "|   |   |   |   |   |   |   |   |--- feature_2 <= -0.14\n",
      "|   |   |   |   |   |   |   |   |   |--- class: 1\n",
      "|   |   |   |   |   |   |   |   |--- feature_2 >  -0.14\n",
      "|   |   |   |   |   |   |   |   |   |--- class: 2\n",
      "|   |   |   |   |   |   |   |--- feature_4 >  0.62\n",
      "|   |   |   |   |   |   |   |   |--- class: 2\n",
      "|   |   |   |   |--- feature_5 >  0.34\n",
      "|   |   |   |   |   |--- feature_1 <= 1.23\n",
      "|   |   |   |   |   |   |--- feature_4 <= -1.01\n",
      "|   |   |   |   |   |   |   |--- feature_2 <= -0.92\n",
      "|   |   |   |   |   |   |   |   |--- feature_3 <= 0.41\n",
      "|   |   |   |   |   |   |   |   |   |--- class: 2\n",
      "|   |   |   |   |   |   |   |   |--- feature_3 >  0.41\n",
      "|   |   |   |   |   |   |   |   |   |--- class: 1\n",
      "|   |   |   |   |   |   |   |--- feature_2 >  -0.92\n",
      "|   |   |   |   |   |   |   |   |--- class: 2\n",
      "|   |   |   |   |   |   |--- feature_4 >  -1.01\n",
      "|   |   |   |   |   |   |   |--- feature_4 <= 0.91\n",
      "|   |   |   |   |   |   |   |   |--- feature_2 <= 1.28\n",
      "|   |   |   |   |   |   |   |   |   |--- class: 2\n",
      "|   |   |   |   |   |   |   |   |--- feature_2 >  1.28\n",
      "|   |   |   |   |   |   |   |   |   |--- class: 4\n",
      "|   |   |   |   |   |   |   |--- feature_4 >  0.91\n",
      "|   |   |   |   |   |   |   |   |--- class: 4\n",
      "|   |   |   |   |   |--- feature_1 >  1.23\n",
      "|   |   |   |   |   |   |--- feature_2 <= -0.04\n",
      "|   |   |   |   |   |   |   |--- feature_4 <= -1.05\n",
      "|   |   |   |   |   |   |   |   |--- feature_2 <= -0.51\n",
      "|   |   |   |   |   |   |   |   |   |--- class: 1\n",
      "|   |   |   |   |   |   |   |   |--- feature_2 >  -0.51\n",
      "|   |   |   |   |   |   |   |   |   |--- class: 2\n",
      "|   |   |   |   |   |   |   |--- feature_4 >  -1.05\n",
      "|   |   |   |   |   |   |   |   |--- class: 2\n",
      "|   |   |   |   |   |   |--- feature_2 >  -0.04\n",
      "|   |   |   |   |   |   |   |--- class: 2\n",
      "|   |   |   |--- feature_0 >  -0.45\n",
      "|   |   |   |   |--- feature_0 <= -0.34\n",
      "|   |   |   |   |   |--- feature_5 <= 0.04\n",
      "|   |   |   |   |   |   |--- feature_4 <= 0.44\n",
      "|   |   |   |   |   |   |   |--- feature_4 <= -1.00\n",
      "|   |   |   |   |   |   |   |   |--- class: 1\n",
      "|   |   |   |   |   |   |   |--- feature_4 >  -1.00\n",
      "|   |   |   |   |   |   |   |   |--- feature_2 <= 0.46\n",
      "|   |   |   |   |   |   |   |   |   |--- class: 1\n",
      "|   |   |   |   |   |   |   |   |--- feature_2 >  0.46\n",
      "|   |   |   |   |   |   |   |   |   |--- class: 2\n",
      "|   |   |   |   |   |   |--- feature_4 >  0.44\n",
      "|   |   |   |   |   |   |   |--- class: 2\n",
      "|   |   |   |   |   |--- feature_5 >  0.04\n",
      "|   |   |   |   |   |   |--- feature_2 <= -1.06\n",
      "|   |   |   |   |   |   |   |--- feature_3 <= 0.86\n",
      "|   |   |   |   |   |   |   |   |--- class: 2\n",
      "|   |   |   |   |   |   |   |--- feature_3 >  0.86\n",
      "|   |   |   |   |   |   |   |   |--- feature_4 <= -0.87\n",
      "|   |   |   |   |   |   |   |   |   |--- class: 1\n",
      "|   |   |   |   |   |   |   |   |--- feature_4 >  -0.87\n",
      "|   |   |   |   |   |   |   |   |   |--- class: 2\n",
      "|   |   |   |   |   |   |--- feature_2 >  -1.06\n",
      "|   |   |   |   |   |   |   |--- class: 2\n",
      "|   |   |   |   |--- feature_0 >  -0.34\n",
      "|   |   |   |   |   |--- feature_0 <= 1.20\n",
      "|   |   |   |   |   |   |--- feature_1 <= 0.71\n",
      "|   |   |   |   |   |   |   |--- feature_5 <= 0.03\n",
      "|   |   |   |   |   |   |   |   |--- feature_4 <= -0.78\n",
      "|   |   |   |   |   |   |   |   |   |--- class: 1\n",
      "|   |   |   |   |   |   |   |   |--- feature_4 >  -0.78\n",
      "|   |   |   |   |   |   |   |   |   |--- class: 2\n",
      "|   |   |   |   |   |   |   |--- feature_5 >  0.03\n",
      "|   |   |   |   |   |   |   |   |--- feature_2 <= 0.42\n",
      "|   |   |   |   |   |   |   |   |   |--- class: 2\n",
      "|   |   |   |   |   |   |   |   |--- feature_2 >  0.42\n",
      "|   |   |   |   |   |   |   |   |   |--- class: 2\n",
      "|   |   |   |   |   |   |--- feature_1 >  0.71\n",
      "|   |   |   |   |   |   |   |--- class: 1\n",
      "|   |   |   |   |   |--- feature_0 >  1.20\n",
      "|   |   |   |   |   |   |--- class: 1\n",
      "\n"
     ]
    }
   ],
   "source": [
    "text_representation = tree.export_text(clf)\n",
    "print(text_representation)"
   ]
  },
  {
   "cell_type": "code",
   "execution_count": null,
   "id": "flying-layer",
   "metadata": {
    "ExecuteTime": {
     "start_time": "2021-01-27T22:44:56.474Z"
    }
   },
   "outputs": [],
   "source": [
    "fig = plt.figure(figsize=(100,100))\n",
    "c = tree.plot_tree(clf, feature_names=columns, class_names=df[\"car_acceptability\"], filled=True)\n",
    "plt.savefig('tree_cars.jpg',format='jpg',bbox_inches = \"tight\")"
   ]
  },
  {
   "cell_type": "code",
   "execution_count": null,
   "id": "embedded-testing",
   "metadata": {},
   "outputs": [],
   "source": []
  }
 ],
 "metadata": {
  "kernelspec": {
   "display_name": "Python 3",
   "language": "python",
   "name": "python3"
  },
  "language_info": {
   "codemirror_mode": {
    "name": "ipython",
    "version": 3
   },
   "file_extension": ".py",
   "mimetype": "text/x-python",
   "name": "python",
   "nbconvert_exporter": "python",
   "pygments_lexer": "ipython3",
   "version": "3.8.3"
  }
 },
 "nbformat": 4,
 "nbformat_minor": 5
}
