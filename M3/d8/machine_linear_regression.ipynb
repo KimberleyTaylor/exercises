{
 "cells": [
  {
   "cell_type": "code",
   "execution_count": 1,
   "id": "qualified-assault",
   "metadata": {
    "ExecuteTime": {
     "end_time": "2021-01-27T23:37:59.284701Z",
     "start_time": "2021-01-27T23:37:57.529723Z"
    }
   },
   "outputs": [],
   "source": [
    "from sklearn.tree import DecisionTreeClassifier\n",
    "from sklearn.ensemble import RandomForestClassifier\n",
    "from sklearn.model_selection import cross_val_score\n",
    "from sklearn import tree\n",
    "from dtreeviz.trees import dtreeviz\n",
    "from sklearn.model_selection import train_test_split, cross_validate\n",
    "import pandas as pd\n",
    "import numpy as np\n",
    "import matplotlib.pyplot as plt\n",
    "from sklearn.preprocessing import StandardScaler"
   ]
  },
  {
   "cell_type": "code",
   "execution_count": 2,
   "id": "portuguese-charles",
   "metadata": {
    "ExecuteTime": {
     "end_time": "2021-01-27T23:38:00.632286Z",
     "start_time": "2021-01-27T23:38:00.604752Z"
    }
   },
   "outputs": [],
   "source": [
    "df = pd.read_csv('./datasets/machine.data', header=None)"
   ]
  },
  {
   "cell_type": "code",
   "execution_count": 3,
   "id": "surprising-grain",
   "metadata": {
    "ExecuteTime": {
     "end_time": "2021-01-27T23:38:01.633636Z",
     "start_time": "2021-01-27T23:38:01.553421Z"
    }
   },
   "outputs": [
    {
     "data": {
      "text/html": [
       "<div>\n",
       "<style scoped>\n",
       "    .dataframe tbody tr th:only-of-type {\n",
       "        vertical-align: middle;\n",
       "    }\n",
       "\n",
       "    .dataframe tbody tr th {\n",
       "        vertical-align: top;\n",
       "    }\n",
       "\n",
       "    .dataframe thead th {\n",
       "        text-align: right;\n",
       "    }\n",
       "</style>\n",
       "<table border=\"1\" class=\"dataframe\">\n",
       "  <thead>\n",
       "    <tr style=\"text-align: right;\">\n",
       "      <th></th>\n",
       "      <th>vendor_name</th>\n",
       "      <th>model_name</th>\n",
       "      <th>cycle_time</th>\n",
       "      <th>MMin</th>\n",
       "      <th>MMax</th>\n",
       "      <th>cache</th>\n",
       "      <th>ChMin</th>\n",
       "      <th>ChMax</th>\n",
       "      <th>pub_performance</th>\n",
       "      <th>est_performance</th>\n",
       "    </tr>\n",
       "  </thead>\n",
       "  <tbody>\n",
       "    <tr>\n",
       "      <th>0</th>\n",
       "      <td>adviser</td>\n",
       "      <td>32/60</td>\n",
       "      <td>125</td>\n",
       "      <td>256</td>\n",
       "      <td>6000</td>\n",
       "      <td>256</td>\n",
       "      <td>16</td>\n",
       "      <td>128</td>\n",
       "      <td>198</td>\n",
       "      <td>199</td>\n",
       "    </tr>\n",
       "    <tr>\n",
       "      <th>1</th>\n",
       "      <td>amdahl</td>\n",
       "      <td>470v/7</td>\n",
       "      <td>29</td>\n",
       "      <td>8000</td>\n",
       "      <td>32000</td>\n",
       "      <td>32</td>\n",
       "      <td>8</td>\n",
       "      <td>32</td>\n",
       "      <td>269</td>\n",
       "      <td>253</td>\n",
       "    </tr>\n",
       "    <tr>\n",
       "      <th>2</th>\n",
       "      <td>amdahl</td>\n",
       "      <td>470v/7a</td>\n",
       "      <td>29</td>\n",
       "      <td>8000</td>\n",
       "      <td>32000</td>\n",
       "      <td>32</td>\n",
       "      <td>8</td>\n",
       "      <td>32</td>\n",
       "      <td>220</td>\n",
       "      <td>253</td>\n",
       "    </tr>\n",
       "    <tr>\n",
       "      <th>3</th>\n",
       "      <td>amdahl</td>\n",
       "      <td>470v/7b</td>\n",
       "      <td>29</td>\n",
       "      <td>8000</td>\n",
       "      <td>32000</td>\n",
       "      <td>32</td>\n",
       "      <td>8</td>\n",
       "      <td>32</td>\n",
       "      <td>172</td>\n",
       "      <td>253</td>\n",
       "    </tr>\n",
       "    <tr>\n",
       "      <th>4</th>\n",
       "      <td>amdahl</td>\n",
       "      <td>470v/7c</td>\n",
       "      <td>29</td>\n",
       "      <td>8000</td>\n",
       "      <td>16000</td>\n",
       "      <td>32</td>\n",
       "      <td>8</td>\n",
       "      <td>16</td>\n",
       "      <td>132</td>\n",
       "      <td>132</td>\n",
       "    </tr>\n",
       "    <tr>\n",
       "      <th>...</th>\n",
       "      <td>...</td>\n",
       "      <td>...</td>\n",
       "      <td>...</td>\n",
       "      <td>...</td>\n",
       "      <td>...</td>\n",
       "      <td>...</td>\n",
       "      <td>...</td>\n",
       "      <td>...</td>\n",
       "      <td>...</td>\n",
       "      <td>...</td>\n",
       "    </tr>\n",
       "    <tr>\n",
       "      <th>204</th>\n",
       "      <td>sperry</td>\n",
       "      <td>80/8</td>\n",
       "      <td>124</td>\n",
       "      <td>1000</td>\n",
       "      <td>8000</td>\n",
       "      <td>0</td>\n",
       "      <td>1</td>\n",
       "      <td>8</td>\n",
       "      <td>42</td>\n",
       "      <td>37</td>\n",
       "    </tr>\n",
       "    <tr>\n",
       "      <th>205</th>\n",
       "      <td>sperry</td>\n",
       "      <td>90/80-model-3</td>\n",
       "      <td>98</td>\n",
       "      <td>1000</td>\n",
       "      <td>8000</td>\n",
       "      <td>32</td>\n",
       "      <td>2</td>\n",
       "      <td>8</td>\n",
       "      <td>46</td>\n",
       "      <td>50</td>\n",
       "    </tr>\n",
       "    <tr>\n",
       "      <th>206</th>\n",
       "      <td>sratus</td>\n",
       "      <td>32</td>\n",
       "      <td>125</td>\n",
       "      <td>2000</td>\n",
       "      <td>8000</td>\n",
       "      <td>0</td>\n",
       "      <td>2</td>\n",
       "      <td>14</td>\n",
       "      <td>52</td>\n",
       "      <td>41</td>\n",
       "    </tr>\n",
       "    <tr>\n",
       "      <th>207</th>\n",
       "      <td>wang</td>\n",
       "      <td>vs-100</td>\n",
       "      <td>480</td>\n",
       "      <td>512</td>\n",
       "      <td>8000</td>\n",
       "      <td>32</td>\n",
       "      <td>0</td>\n",
       "      <td>0</td>\n",
       "      <td>67</td>\n",
       "      <td>47</td>\n",
       "    </tr>\n",
       "    <tr>\n",
       "      <th>208</th>\n",
       "      <td>wang</td>\n",
       "      <td>vs-90</td>\n",
       "      <td>480</td>\n",
       "      <td>1000</td>\n",
       "      <td>4000</td>\n",
       "      <td>0</td>\n",
       "      <td>0</td>\n",
       "      <td>0</td>\n",
       "      <td>45</td>\n",
       "      <td>25</td>\n",
       "    </tr>\n",
       "  </tbody>\n",
       "</table>\n",
       "<p>209 rows × 10 columns</p>\n",
       "</div>"
      ],
      "text/plain": [
       "    vendor_name     model_name  cycle_time  MMin   MMax  cache  ChMin  ChMax  \\\n",
       "0       adviser          32/60         125   256   6000    256     16    128   \n",
       "1        amdahl         470v/7          29  8000  32000     32      8     32   \n",
       "2        amdahl        470v/7a          29  8000  32000     32      8     32   \n",
       "3        amdahl        470v/7b          29  8000  32000     32      8     32   \n",
       "4        amdahl        470v/7c          29  8000  16000     32      8     16   \n",
       "..          ...            ...         ...   ...    ...    ...    ...    ...   \n",
       "204      sperry           80/8         124  1000   8000      0      1      8   \n",
       "205      sperry  90/80-model-3          98  1000   8000     32      2      8   \n",
       "206      sratus             32         125  2000   8000      0      2     14   \n",
       "207        wang         vs-100         480   512   8000     32      0      0   \n",
       "208        wang          vs-90         480  1000   4000      0      0      0   \n",
       "\n",
       "     pub_performance  est_performance  \n",
       "0                198              199  \n",
       "1                269              253  \n",
       "2                220              253  \n",
       "3                172              253  \n",
       "4                132              132  \n",
       "..               ...              ...  \n",
       "204               42               37  \n",
       "205               46               50  \n",
       "206               52               41  \n",
       "207               67               47  \n",
       "208               45               25  \n",
       "\n",
       "[209 rows x 10 columns]"
      ]
     },
     "execution_count": 3,
     "metadata": {},
     "output_type": "execute_result"
    }
   ],
   "source": [
    "df.columns = [\"vendor_name\", \"model_name\", \"cycle_time\", \"MMin\", \"MMax\", \"cache\", \"ChMin\", \"ChMax\", \"pub_performance\", \"est_performance\"]\n",
    "df"
   ]
  },
  {
   "cell_type": "code",
   "execution_count": 4,
   "id": "amended-crest",
   "metadata": {
    "ExecuteTime": {
     "end_time": "2021-01-27T23:38:03.013398Z",
     "start_time": "2021-01-27T23:38:03.002018Z"
    }
   },
   "outputs": [
    {
     "name": "stdout",
     "output_type": "stream",
     "text": [
      "1. Title: Relative CPU Performance Data \n",
      "\n",
      "2. Source Information\n",
      "   -- Creators: Phillip Ein-Dor and Jacob Feldmesser\n",
      "     -- Ein-Dor: Faculty of Management; Tel Aviv University; Ramat-Aviv; \n",
      "        Tel Aviv, 69978; Israel\n",
      "   -- Donor: David W. Aha (aha@ics.uci.edu) (714) 856-8779   \n",
      "   -- Date: October, 1987\n",
      " \n",
      "3. Past Usage:\n",
      "    1. Ein-Dor and Feldmesser (CACM 4/87, pp 308-317)\n",
      "       -- Results: \n",
      "          -- linear regression prediction of relative cpu performance\n",
      "          -- Recorded 34% average deviation from actual values \n",
      "    2. Kibler,D. & Aha,D. (1988).  Instance-Based Prediction of\n",
      "       Real-Valued Attributes.  In Proceedings of the CSCSI (Canadian\n",
      "       AI) Conference.\n",
      "       -- Results:\n",
      "          -- instance-based prediction of relative cpu performance\n",
      "          -- similar results; no transformations required\n",
      "    - Predicted attribute: cpu relative performance (numeric)\n",
      "\n",
      "4. Relevant Information:\n",
      "   -- The estimated relative performance values were estimated by the authors\n",
      "      using a linear regression method.  See their article (pp 308-313) for\n",
      "      more details on how the relative performance values were set.\n",
      "\n",
      "5. Number of Instances: 209 \n",
      "\n",
      "6. Number of Attributes: 10 (6 predictive attributes, 2 non-predictive, \n",
      "                             1 goal field, and the linear regression's guess)\n",
      "\n",
      "7. Attribute Information:\n",
      "   1. vendor name: 30 \n",
      "      (adviser, amdahl,apollo, basf, bti, burroughs, c.r.d, cambex, cdc, dec, \n",
      "       dg, formation, four-phase, gould, honeywell, hp, ibm, ipl, magnuson, \n",
      "       microdata, nas, ncr, nixdorf, perkin-elmer, prime, siemens, sperry, \n",
      "       sratus, wang)\n",
      "   2. Model Name: many unique symbols\n",
      "   3. MYCT: machine cycle time in nanoseconds (integer)\n",
      "   4. MMIN: minimum main memory in kilobytes (integer)\n",
      "   5. MMAX: maximum main memory in kilobytes (integer)\n",
      "   6. CACH: cache memory in kilobytes (integer)\n",
      "   7. CHMIN: minimum channels in units (integer)\n",
      "   8. CHMAX: maximum channels in units (integer)\n",
      "   9. PRP: published relative performance (integer)\n",
      "  10. ERP: estimated relative performance from the original article (integer)\n",
      "\n",
      "8. Missing Attribute Values: None\n",
      "\n",
      "9. Class Distribution: the class value (PRP) is continuously valued.\n",
      "   PRP Value Range:   Number of Instances in Range:\n",
      "   0-20               31\n",
      "   21-100             121\n",
      "   101-200            27\n",
      "   201-300            13\n",
      "   301-400            7\n",
      "   401-500            4\n",
      "   501-600            2\n",
      "   above 600          4\n",
      "\n",
      "Summary Statistics:\n",
      "\t   Min  Max   Mean    SD      PRP Correlation\n",
      "   MCYT:   17   1500  203.8   260.3   -0.3071\n",
      "   MMIN:   64   32000 2868.0  3878.7   0.7949\n",
      "   MMAX:   64   64000 11796.1 11726.6  0.8630\n",
      "   CACH:   0    256   25.2    40.6     0.6626\n",
      "   CHMIN:  0    52    4.7     6.8      0.6089\n",
      "   CHMAX:  0    176   18.2    26.0     0.6052\n",
      "   PRP:    6    1150  105.6   160.8    1.0000\n",
      "   ERP:   15    1238  99.3    154.8    0.9665\n",
      "\n",
      "\n"
     ]
    }
   ],
   "source": [
    "with open(\"./datasets/machine.names\") as f:\n",
    "    print(f.read())"
   ]
  },
  {
   "cell_type": "code",
   "execution_count": 5,
   "id": "green-columbia",
   "metadata": {
    "ExecuteTime": {
     "end_time": "2021-01-27T23:38:03.903461Z",
     "start_time": "2021-01-27T23:38:03.884785Z"
    }
   },
   "outputs": [],
   "source": [
    "X = df.drop([\"vendor_name\", \"model_name\", \"est_performance\", \"pub_performance\"], axis=1)\n",
    "Y = df[\"pub_performance\"]"
   ]
  },
  {
   "cell_type": "code",
   "execution_count": 6,
   "id": "respective-robertson",
   "metadata": {
    "ExecuteTime": {
     "end_time": "2021-01-27T23:38:05.100641Z",
     "start_time": "2021-01-27T23:38:05.092270Z"
    }
   },
   "outputs": [],
   "source": [
    "x = X.values\n",
    "y = Y.values"
   ]
  },
  {
   "cell_type": "code",
   "execution_count": 7,
   "id": "graphic-central",
   "metadata": {
    "ExecuteTime": {
     "end_time": "2021-01-27T23:38:06.003962Z",
     "start_time": "2021-01-27T23:38:05.985754Z"
    }
   },
   "outputs": [
    {
     "name": "stdout",
     "output_type": "stream",
     "text": [
      "[[   40  8000 16000    32     8    16]\n",
      " [   26 16000 32000    64     8    24]\n",
      " [   30  8000 64000   128    12   176]\n",
      " [  105  1000  4000     0     3    24]\n",
      " [   30 16000 32000   256    16    24]\n",
      " [  140  2000  4000     0     4     8]\n",
      " [  203  1000  2000     0     1     5]\n",
      " [   50  2000  8000     8     1     5]\n",
      " [  320   128  6000     0     1    12]\n",
      " [  240   512  2000     8     1     5]]\n",
      "[ 214  465 1150   32  510   40   24   71   23   11]\n"
     ]
    }
   ],
   "source": [
    "X_train, X_test, Y_train, Y_test = train_test_split(x, y, train_size=0.8, test_size=0.2, random_state=42)\n",
    "print(X_train[:10])\n",
    "print(Y_train[:10])"
   ]
  },
  {
   "cell_type": "code",
   "execution_count": 8,
   "id": "hidden-causing",
   "metadata": {
    "ExecuteTime": {
     "end_time": "2021-01-27T23:38:06.860062Z",
     "start_time": "2021-01-27T23:38:06.830383Z"
    }
   },
   "outputs": [
    {
     "data": {
      "text/plain": [
       "array([[-0.62496685,  1.55135764,  0.41961313,  0.17612962,  0.65310303,\n",
       "        -0.05573806],\n",
       "       [-0.67735929,  3.93007968,  1.8983401 ,  0.94826802,  0.65310303,\n",
       "         0.28584934],\n",
       "       [-0.66239002,  1.55135764,  4.85579404,  2.4925448 ,  1.34891296,\n",
       "         6.77601003],\n",
       "       ...,\n",
       "       [-0.25073521, -0.23268388, -0.6894321 , -0.40297417, -0.56456434,\n",
       "         0.11505564],\n",
       "       [-0.17588888, -0.53002414, -0.31975036, -0.20993957, -0.56456434,\n",
       "        -0.14113492],\n",
       "       [ 3.34188863, -0.67512618, -0.92048319, -0.59600877, -0.56456434,\n",
       "        -0.69621445]])"
      ]
     },
     "execution_count": 8,
     "metadata": {},
     "output_type": "execute_result"
    }
   ],
   "source": [
    "scaler = StandardScaler()\n",
    "X_train = scaler.fit_transform(X_train)\n",
    "X_test = scaler.fit_transform(X_test)\n",
    "X_train"
   ]
  },
  {
   "cell_type": "code",
   "execution_count": 9,
   "id": "secret-drill",
   "metadata": {
    "ExecuteTime": {
     "end_time": "2021-01-27T23:38:10.045241Z",
     "start_time": "2021-01-27T23:38:08.279308Z"
    }
   },
   "outputs": [
    {
     "data": {
      "text/plain": [
       "RandomForestClassifier(n_estimators=1000, random_state=77)"
      ]
     },
     "execution_count": 9,
     "metadata": {},
     "output_type": "execute_result"
    }
   ],
   "source": [
    "clf = RandomForestClassifier(n_estimators=1000, random_state=77)\n",
    "clf.fit(X_train, Y_train)"
   ]
  },
  {
   "cell_type": "code",
   "execution_count": 10,
   "id": "lonely-ministry",
   "metadata": {
    "ExecuteTime": {
     "end_time": "2021-01-27T23:38:11.614143Z",
     "start_time": "2021-01-27T23:38:11.429014Z"
    }
   },
   "outputs": [
    {
     "data": {
      "text/plain": [
       "array([ 368,   24,   16, 1150,   20,  173,   72,   24,  636,  144,   54,\n",
       "        113,   42,   24,   50,   50,   32,   32,  138,   42,   50,   50,\n",
       "        138,   20,   11,   24,   16,   29,   32,   92,  133,   22,   50,\n",
       "         32,   38,   32,   71,  173,   50,   12,  212,   42])"
      ]
     },
     "execution_count": 10,
     "metadata": {},
     "output_type": "execute_result"
    }
   ],
   "source": [
    "clf.predict(X_test)"
   ]
  },
  {
   "cell_type": "code",
   "execution_count": 11,
   "id": "married-patent",
   "metadata": {
    "ExecuteTime": {
     "end_time": "2021-01-27T23:38:13.037150Z",
     "start_time": "2021-01-27T23:38:12.681177Z"
    }
   },
   "outputs": [
    {
     "name": "stdout",
     "output_type": "stream",
     "text": [
      "0.9101796407185628\n",
      "0.07142857142857142\n"
     ]
    }
   ],
   "source": [
    "print(clf.score(X_train, Y_train))\n",
    "print(clf.score(X_test, Y_test))"
   ]
  },
  {
   "cell_type": "code",
   "execution_count": null,
   "id": "educational-sydney",
   "metadata": {},
   "outputs": [],
   "source": []
  }
 ],
 "metadata": {
  "kernelspec": {
   "display_name": "Python 3",
   "language": "python",
   "name": "python3"
  },
  "language_info": {
   "codemirror_mode": {
    "name": "ipython",
    "version": 3
   },
   "file_extension": ".py",
   "mimetype": "text/x-python",
   "name": "python",
   "nbconvert_exporter": "python",
   "pygments_lexer": "ipython3",
   "version": "3.8.3"
  }
 },
 "nbformat": 4,
 "nbformat_minor": 5
}
