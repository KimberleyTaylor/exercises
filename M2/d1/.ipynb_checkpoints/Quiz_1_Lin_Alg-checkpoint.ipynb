{
 "cells": [
  {
   "cell_type": "markdown",
   "metadata": {},
   "source": [
    "## Linear Algebra Quiz #1\n",
    "\n",
    "![title](./img/1_0.jpeg)\n",
    "\n",
    "We strongly suggest working with numpy :)"
   ]
  },
  {
   "cell_type": "code",
   "execution_count": 58,
   "metadata": {
    "ExecuteTime": {
     "end_time": "2020-12-15T12:46:05.293087Z",
     "start_time": "2020-12-15T12:46:05.290084Z"
    }
   },
   "outputs": [],
   "source": [
    "import numpy as np\n",
    "from numpy import array"
   ]
  },
  {
   "cell_type": "markdown",
   "metadata": {},
   "source": [
    "![title](./img/1_1.png)"
   ]
  },
  {
   "cell_type": "code",
   "execution_count": 66,
   "metadata": {
    "ExecuteTime": {
     "end_time": "2020-12-16T14:36:18.693299Z",
     "start_time": "2020-12-16T14:36:18.686671Z"
    }
   },
   "outputs": [
    {
     "name": "stdout",
     "output_type": "stream",
     "text": [
      "3.7416573867739413\n"
     ]
    }
   ],
   "source": [
    "# type a function that given a 3_dimensional vector it is able to calculate its magnitude\n",
    "\n",
    "def magnitude_3(a,b,c):\n",
    "    x = np.array([a,b,c])\n",
    "    return np.linalg.norm(x)\n",
    "print(magnitude_3(1, 2, 3))\n",
    "\n",
    "# type a function that given a n_dimensional vector it is able to calculate its magnitude\n",
    "# if you want to try this from python (not jupyter notebook) https://docs.python.org/3/library/argparse.html would be a good addition\n",
    "# if you are doing this from a jupyter notebook only, you can try to promt the user for an input  \n",
    "\n",
    "def magnitude_complete(*args):\n",
    "    inputs = []\n",
    "    for arg in args:\n",
    "        inputs.append(arg)\n",
    "    return np.linalg.norm(inputs)"
   ]
  },
  {
   "cell_type": "markdown",
   "metadata": {},
   "source": [
    "uncomment the following line when you are ready to test"
   ]
  },
  {
   "cell_type": "code",
   "execution_count": 68,
   "metadata": {
    "ExecuteTime": {
     "end_time": "2020-12-16T14:37:01.297942Z",
     "start_time": "2020-12-16T14:37:01.285990Z"
    }
   },
   "outputs": [
    {
     "name": "stdout",
     "output_type": "stream",
     "text": [
      "True\n",
      "True\n",
      "True\n",
      "True\n",
      "True\n"
     ]
    }
   ],
   "source": [
    "print(magnitude_complete(1) == 1.0)\n",
    "print(magnitude_complete(1,2) >= 2.236)\n",
    "print(magnitude_complete(1,2,3) >= 3.741)\n",
    "print(magnitude_complete(1,2,3,4,5) >= 5.477)\n",
    "print(magnitude_complete(1,2,3,4,5) >= 7.416)"
   ]
  },
  {
   "cell_type": "markdown",
   "metadata": {},
   "source": [
    "![title](./img/1_2.png)"
   ]
  },
  {
   "cell_type": "code",
   "execution_count": 61,
   "metadata": {
    "ExecuteTime": {
     "end_time": "2020-12-15T12:46:16.880874Z",
     "start_time": "2020-12-15T12:46:16.866807Z"
    }
   },
   "outputs": [
    {
     "name": "stdout",
     "output_type": "stream",
     "text": [
      "True\n"
     ]
    },
    {
     "data": {
      "text/plain": [
       "6.557438524302"
      ]
     },
     "execution_count": 61,
     "metadata": {},
     "output_type": "execute_result"
    }
   ],
   "source": [
    "def magnitude_vectors(a, b):\n",
    "    \n",
    "    #checks that size is equal\n",
    "    \n",
    "    #returns the magnitude\n",
    "    a = np.array(a)\n",
    "    b = np.array(b)\n",
    "    print(a.shape == b.shape)\n",
    "    addition = np.add(a, b)\n",
    "    addition = np.array([a,b])\n",
    "    return np.linalg.norm(addition)\n",
    "\n",
    "    \n",
    "magnitude_vectors([5, 1], [-4, -1])"
   ]
  },
  {
   "cell_type": "markdown",
   "metadata": {},
   "source": [
    "![title](./img/1_3.png)"
   ]
  },
  {
   "cell_type": "code",
   "execution_count": 62,
   "metadata": {
    "ExecuteTime": {
     "end_time": "2020-12-15T12:46:20.615974Z",
     "start_time": "2020-12-15T12:46:20.596395Z"
    }
   },
   "outputs": [
    {
     "name": "stdout",
     "output_type": "stream",
     "text": [
      "Vector a and b are same size/shape? True\n",
      "The magnitude of a + b is:  6.557438524302  and the direction is:  1.0\n"
     ]
    }
   ],
   "source": [
    "def direction_vectors(a, b):\n",
    "    #checks that size is equal\n",
    "    print(a.shape == b.shape)\n",
    "    \n",
    "    #returns the magnitude\n",
    "    a = np.array(a)\n",
    "    b = np.array(b)\n",
    "    print(a.shape == b.shape)\n",
    "    addition = np.add(a, b)\n",
    "    addition = np.array([a,b])\n",
    "    return np.linalg.norm(addition)\n",
    "\n",
    "# or if you want to do it all in one batch:\n",
    "def magdir_vectors(a, b):\n",
    "    #checks that size is equal\n",
    "    #returns the magnitude and direction in a nicely printed format \n",
    "    #\"The magnitude of a + b is X and the direction is Y\"\n",
    "    a = np.array(a)\n",
    "    b = np.array(b)\n",
    "    print(\"Vector a and b are same size/shape?\", a.shape == b.shape)\n",
    "    addition = np.add(a, b)\n",
    "    addition = np.array([a,b])\n",
    "    mag = np.linalg.norm(addition)\n",
    "    pos_neg = np.sign(mag)\n",
    "    print(\"The magnitude of a + b is: \", mag, \" and the direction is: \", pos_neg)\n",
    "    \n",
    "magdir_vectors([5, 1], [-4, -1])"
   ]
  },
  {
   "cell_type": "markdown",
   "metadata": {},
   "source": [
    "![title](./img/1_4.png)\n",
    "- What is the magnitude of αx⃗? \n",
    "- If α>0, will the direction of the resulting vector change?\n",
    "- If α<0, will the direction of the resulting vector change?\n",
    "- If −1<α<1, will ∥αx⃗∥  increase, decrease or stay the same?"
   ]
  },
  {
   "cell_type": "code",
   "execution_count": 71,
   "metadata": {
    "ExecuteTime": {
     "end_time": "2020-12-16T14:41:01.369966Z",
     "start_time": "2020-12-16T14:41:01.359120Z"
    }
   },
   "outputs": [
    {
     "name": "stdout",
     "output_type": "stream",
     "text": [
      "Magnitude of x:  174.41330224498358\n",
      "No directional change\n",
      "Magnitude of x:  174.41330224498358\n",
      "The direction has changed 180 degrees\n",
      "Magnitude of x:  0.0\n",
      "The direction has changed 180 degrees\n"
     ]
    }
   ],
   "source": [
    "def alpha_magnitude(alpha, x):\n",
    "    \n",
    "    #returns the resulting magnitude, if the direction has changed and what has happened to the vector\n",
    "    x = np.array(x)\n",
    "    sm = alpha * x\n",
    "    print(\"Magnitude of x: \", np.linalg.norm(sm))\n",
    "    if np.sign(x[0]) == np.sign(sm[0]):\n",
    "        print(\"No directional change\")\n",
    "    else:\n",
    "        print(\"The direction has changed 180 degrees\")\n",
    "    \n",
    "alpha_magnitude(78, [2, 1])\n",
    "alpha_magnitude(-78,  [2, 1])\n",
    "alpha_magnitude(0, [2, 1])\n",
    "\n",
    "\n"
   ]
  },
  {
   "cell_type": "code",
   "execution_count": null,
   "metadata": {},
   "outputs": [],
   "source": []
  }
 ],
 "metadata": {
  "kernelspec": {
   "display_name": "Python 3",
   "language": "python",
   "name": "python3"
  },
  "language_info": {
   "codemirror_mode": {
    "name": "ipython",
    "version": 3
   },
   "file_extension": ".py",
   "mimetype": "text/x-python",
   "name": "python",
   "nbconvert_exporter": "python",
   "pygments_lexer": "ipython3",
   "version": "3.8.3"
  }
 },
 "nbformat": 4,
 "nbformat_minor": 2
}
