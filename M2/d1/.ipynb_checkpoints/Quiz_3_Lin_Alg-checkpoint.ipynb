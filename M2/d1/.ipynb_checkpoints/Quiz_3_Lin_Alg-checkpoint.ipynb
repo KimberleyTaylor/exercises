{
 "cells": [
  {
   "cell_type": "markdown",
   "metadata": {},
   "source": [
    "## Linear Algebra Quiz #3\n",
    "\n",
    "![title](./img/3_0.jpeg)\n",
    "\n",
    "We strongly suggest working with numpy :)"
   ]
  },
  {
   "cell_type": "code",
   "execution_count": 1,
   "metadata": {
    "ExecuteTime": {
     "end_time": "2020-12-15T13:42:43.125508Z",
     "start_time": "2020-12-15T13:42:43.120561Z"
    }
   },
   "outputs": [],
   "source": [
    "import numpy as np\n",
    "from numpy import array"
   ]
  },
  {
   "cell_type": "markdown",
   "metadata": {},
   "source": [
    "![title](./img/3_2.png)\n",
    "![title](./img/3_3.png)\n",
    "Create a program that can output\n",
    "\n",
    "- What is the value of element c23​ of Matrix C where C=A x B ?\n",
    "- What is the value of element c23​ of Matrix C where C=B x A ?"
   ]
  },
  {
   "cell_type": "code",
   "execution_count": 90,
   "metadata": {
    "ExecuteTime": {
     "end_time": "2020-12-16T14:48:37.871063Z",
     "start_time": "2020-12-16T14:48:37.861246Z"
    }
   },
   "outputs": [
    {
     "name": "stdout",
     "output_type": "stream",
     "text": [
      "[[ 0.2        -0.08        0.04      ]\n",
      " [ 0.22857143  0.13714286  0.07428571]\n",
      " [ 0.08571429  0.05142857 -0.09714286]]\n"
     ]
    },
    {
     "data": {
      "text/plain": [
       "'a = np.array([[3,1,2],[-5,4.1],[0,3,-8]])\\nb = np.array([[0,5,-1],[3,2,-1],[10,1,4]])\\nprint(inverse_matrix(a, b))\\nprint(inverse_matrix_np(a,b))\\n'"
      ]
     },
     "execution_count": 90,
     "metadata": {},
     "output_type": "execute_result"
    }
   ],
   "source": [
    "# okay numpy is great but... how would you inverse a matrix by hand?\n",
    "\n",
    "\"\"\"def inverse_matrix(a, b):\n",
    "    a = np.array(a)\n",
    "    b = np.array(b)\n",
    "    crossed_matrix = np.cross(a, b)\n",
    "    print(crossed_matrix)\"\"\"\n",
    "\n",
    "\n",
    "\n",
    "def inverse_matrix(A):\n",
    "    mat_inv = np.linalg.inv(A)\n",
    "    return mat_inv\n",
    "\n",
    "a = np.array([[3,1,2], [-5,4,1], [0,3,-8]])\n",
    "print(inverse_matrix(a))\n",
    "\n",
    "    \n",
    "\"\"\"a = np.array([[3,1,2],[-5,4.1],[0,3,-8]])\n",
    "b = np.array([[0,5,-1],[3,2,-1],[10,1,4]])\n",
    "print(inverse_matrix(a, b))\n",
    "print(inverse_matrix_np(a,b))\n",
    "\"\"\"\n"
   ]
  },
  {
   "cell_type": "markdown",
   "metadata": {},
   "source": [
    "![title](./img/3_1.png)\n",
    "Create a program that can output\n",
    "\n",
    "- What is the value of the ijth element if i = 2 and j=3?\n",
    "- What is the value of the ijth element if i = 3 and j=1?"
   ]
  },
  {
   "cell_type": "code",
   "execution_count": 151,
   "metadata": {
    "ExecuteTime": {
     "end_time": "2020-12-16T15:59:37.449870Z",
     "start_time": "2020-12-16T15:59:37.424196Z"
    }
   },
   "outputs": [
    {
     "name": "stdout",
     "output_type": "stream",
     "text": [
      "[[ 6.00000e+00 -1.01416e+03 -1.77849e+01 -9.30000e+01]\n",
      " [ 7.00000e-01 -3.00000e+00 -2.70000e+00  1.76700e+01]\n",
      " [ 5.70000e+00  0.00000e+00 -8.00000e+00  6.00000e-03]]\n",
      "-2.7\n",
      "None\n",
      "[[ 6.00000e+00 -1.01416e+03 -1.77849e+01 -9.30000e+01]\n",
      " [ 7.00000e-01 -3.00000e+00 -2.70000e+00  1.76700e+01]\n",
      " [ 5.70000e+00  0.00000e+00 -8.00000e+00  6.00000e-03]]\n",
      "5.7\n",
      "None\n"
     ]
    }
   ],
   "source": [
    "# Just answer using code --> easy stuff!\n",
    "\n",
    "def ij_elements(a,b,c,i,j):\n",
    "    a = np.array(a)\n",
    "    b = np.array(b)\n",
    "    c = np.array(c)\n",
    "    ab = np.add(a,b)\n",
    "    d = np.subtract(ab, c)\n",
    "    print(d)\n",
    "    print(d.item(i,j))\n",
    "    \n",
    "    \n",
    "a = [[3, 0.6, 4, -3],[-1.3, 4, 0, 8.6],[7, 0, -8, 0.006]]\n",
    "b = [[3, -5.76, 45, 0],[2,-2,1.3,9],[-9,0,0,0]]\n",
    "c=[[0,1009,66.7849,90],[0,5,4,-0.07],[-7.7,0,0,0]]\n",
    "\n",
    "\n",
    "print(ij_elements(a,b,c,1,2))\n",
    "print(ij_elements(a,b,c,2,0))\n",
    "\n",
    "\n",
    "# Harder\n",
    "# Can you build a matrix solver that can do output the result given n matrices and a sequence of operations such as [add subtract multiply transpose?]\n",
    "#Some ideas on valid operations: Multiplication Addition Subtraction Inverstion Transposed. "
   ]
  },
  {
   "cell_type": "markdown",
   "metadata": {},
   "source": [
    "![title](./img/3_3.png)\n",
    "Create a program that can output\n",
    "- How many rows will C have?\n",
    "- How many columns will C have?\n",
    "- What will be the value of c13​?"
   ]
  },
  {
   "cell_type": "code",
   "execution_count": 107,
   "metadata": {
    "ExecuteTime": {
     "end_time": "2020-12-16T15:19:56.609373Z",
     "start_time": "2020-12-16T15:19:56.599291Z"
    }
   },
   "outputs": [
    {
     "name": "stdout",
     "output_type": "stream",
     "text": [
      "[-102.8  255.2  595.6]\n",
      "Number of rows and columns in new matrix:  (3,)\n",
      "Value of c13:  595.6\n"
     ]
    }
   ],
   "source": [
    "a3 = np.array([0.6,-15,2,5,98])\n",
    "b3 = np.array([[2,2,-4],[9,-14,0],[13,-0.5,44],[1,9,4],[0,0,5]])\n",
    "\n",
    "c3 = np.dot(a3.T, b3)\n",
    "print(c3)\n",
    "print(\"Number of rows and columns in new matrix: \", c3.shape)\n",
    "print(\"Value of c13: \", c3[2])      #WHY 2?"
   ]
  },
  {
   "cell_type": "code",
   "execution_count": null,
   "metadata": {},
   "outputs": [],
   "source": []
  },
  {
   "cell_type": "code",
   "execution_count": null,
   "metadata": {},
   "outputs": [],
   "source": []
  },
  {
   "cell_type": "code",
   "execution_count": null,
   "metadata": {},
   "outputs": [],
   "source": []
  }
 ],
 "metadata": {
  "kernelspec": {
   "display_name": "Python 3",
   "language": "python",
   "name": "python3"
  },
  "language_info": {
   "codemirror_mode": {
    "name": "ipython",
    "version": 3
   },
   "file_extension": ".py",
   "mimetype": "text/x-python",
   "name": "python",
   "nbconvert_exporter": "python",
   "pygments_lexer": "ipython3",
   "version": "3.8.3"
  }
 },
 "nbformat": 4,
 "nbformat_minor": 2
}
