{
 "cells": [
  {
   "cell_type": "markdown",
   "metadata": {},
   "source": [
    "# Practice notebook for confidence intervals using NHANES data\n",
    "\n",
    "This notebook will give you the opportunity to practice working with confidence intervals using the NHANES data.\n",
    "\n",
    "You can enter your code into the cells that say \"enter your code here\", and you can type responses to the questions into the cells that say \"Type Markdown and Latex\".\n",
    "\n",
    "Note that most of the code that you will need to write below is very similar to code that appears in the case study notebook.  You will need to edit code from that notebook in small ways to adapt it to the prompts below.\n",
    "\n",
    "To get started, we will use the same module imports and read the data in the same way as we did in the case study:"
   ]
  },
  {
   "cell_type": "code",
   "execution_count": 1,
   "metadata": {
    "ExecuteTime": {
     "end_time": "2021-01-10T11:08:12.084863Z",
     "start_time": "2021-01-10T11:08:10.445548Z"
    }
   },
   "outputs": [],
   "source": [
    "%matplotlib inline\n",
    "import matplotlib.pyplot as plt\n",
    "import pandas as pd\n",
    "import numpy as np\n",
    "import seaborn as sns\n",
    "import statsmodels.api as sm\n",
    "\n",
    "da = pd.read_csv(\"nhanes_2015_2016.csv\")"
   ]
  },
  {
   "cell_type": "markdown",
   "metadata": {},
   "source": [
    "## Question 1\n",
    "\n",
    "Restrict the sample to women between 35 and 50, then use the marital status variable [DMDMARTL](https://wwwn.cdc.gov/Nchs/Nhanes/2015-2016/DEMO_I.htm#DMDMARTL) to partition this sample into two groups - women who are currently married, and women who are not currently married.  Within each of these groups, calculate the proportion of women who have completed college.  Calculate 95% confidence intervals for each of these proportions."
   ]
  },
  {
   "cell_type": "code",
   "execution_count": 15,
   "metadata": {
    "ExecuteTime": {
     "end_time": "2021-01-10T11:15:13.157380Z",
     "start_time": "2021-01-10T11:15:13.107896Z"
    }
   },
   "outputs": [
    {
     "name": "stdout",
     "output_type": "stream",
     "text": [
      "\n",
      "            College  Not College    N\n",
      "DMDMARTL                            \n",
      "Married   0.670379     0.329621  449\n",
      "Not       0.562130     0.437870  338\n",
      "\n",
      "\n",
      "\n",
      "Standard Errors:\n",
      "\n",
      "SE of college and married:\n",
      " 0.022184241991308255\n",
      "\n",
      "SE of college and not-married:\n",
      " 0.026985632877162748\n",
      "\n",
      "\n",
      "Confidence intervals:\n",
      "\n",
      "-for married college females:\n",
      "\n",
      "0.6268975048507106 0.713859733456639\n",
      "\n",
      "-for not-married college females:\n",
      "\n",
      "0.5092383370755539 0.6150220179540319\n"
     ]
    },
    {
     "name": "stderr",
     "output_type": "stream",
     "text": [
      "<ipython-input-15-018e9ab08303>:2: SettingWithCopyWarning: \n",
      "A value is trying to be set on a copy of a slice from a DataFrame.\n",
      "Try using .loc[row_indexer,col_indexer] = value instead\n",
      "\n",
      "See the caveats in the documentation: https://pandas.pydata.org/pandas-docs/stable/user_guide/indexing.html#returning-a-view-versus-a-copy\n",
      "  dx[\"RIAGENDR\"] = dx.loc[(da.RIAGENDR == 2), :]                        # Restrict to women-only\n"
     ]
    }
   ],
   "source": [
    "dx = da.loc[(da.RIDAGEYR >= 35) & (da.RIDAGEYR <= 50), :] # Restrict to people between 35 and 50 years old\n",
    "dx[\"RIAGENDR\"] = dx.loc[(da.RIAGENDR == 2), :]                        # Restrict to women-only\n",
    "dx = dx[[\"DMDMARTL\", \"RIAGENDR\", \"DMDEDUC2\"]].dropna() \n",
    "\n",
    "dx[\"DMDMARTL\"] = da.DMDMARTL.replace({1: \"Married\", 2: \"Not\", 3: \"Not\", 4: \"Not\", 5: \"Not\", 6: \"Not\", 77: np.nan, 99: np.nan})  # np.nan represents a missing value\n",
    "#print(dx)\n",
    "\n",
    "\n",
    "# Summarize the data by calculating the proportion of women who completed college responses and the sample size\n",
    "p_college = dx.groupby(\"DMDMARTL\")[\"DMDEDUC2\"].agg([lambda z: np.mean(z>=4.0), lambda z: np.mean(z<=3.0), \"size\"])\n",
    "p_college.columns = [\"College\", \"Not College\", \"N\"]\n",
    "\n",
    "print(\"\\n\", p_college)\n",
    "\n",
    "\n",
    "print(\"\\n\\n\")\n",
    "\n",
    "\n",
    "print(\"Standard Errors:\\n\")\n",
    "p1 = p_college.College.Married # Married & College proportion\n",
    "n1 = p_college.N.Married # Total number of marrried\n",
    "se_college_married = np.sqrt(p1 * (1 - p1) / n1)\n",
    "print(\"SE of college and married:\\n\", se_college_married)\n",
    "\n",
    "p2 = p_college.College.Not # Not married & College proportion\n",
    "n2 = p_college.N.Not # Total number of not married\n",
    "se_college_not_married = np.sqrt(p2 * (1 - p2) / n2)\n",
    "print(\"\\nSE of college and not-married:\\n\", se_college_not_married)\n",
    "\n",
    "print(\"\\n\\nConfidence intervals:\\n\")\n",
    "print(\"-for married college females:\\n\")\n",
    "lcb1 = p1 - 1.96 * np.sqrt(p1 * (1 - p1) / n1)  \n",
    "ucb1 = p1 + 1.96 * np.sqrt(p1 * (1 - p1) / n1)  \n",
    "print(lcb1, ucb1)\n",
    "print(\"\\n-for not-married college females:\\n\")\n",
    "lcb2 = p2 - 1.96 * np.sqrt(p2 * (1 - p2) / n2)  \n",
    "ucb2 = p2 + 1.96 * np.sqrt(p2 * (1 - p2) / n2)\n",
    "print(lcb2, ucb2)"
   ]
  },
  {
   "cell_type": "markdown",
   "metadata": {},
   "source": [
    "__Q1a.__ Identify which of the two confidence intervals is wider, and explain why this is the case. "
   ]
  },
  {
   "cell_type": "markdown",
   "metadata": {},
   "source": [
    "not-married college females has a wider confidence interval because the sample size of not-married females is much smaller than the sample size of married females."
   ]
  },
  {
   "cell_type": "markdown",
   "metadata": {},
   "source": [
    "__Q1b.__ Write 1-2 sentences summarizing these findings for an audience that does not know what a confidence interval is (the goal here is to report the substance of what you learned about how marital status and educational attainment are related, not to teach a person what a confidence interval is)."
   ]
  },
  {
   "cell_type": "markdown",
   "metadata": {},
   "source": [
    "Our sample data shows that of the women who are married, around 67% of them completed college. Whereas around 33% of them did not complete college. Of the women who are not married, 56% of them completed college, whereas around 43% of them did not complete college.\n",
    "The standard errors and confidence intervals show that the data for married women is more accurate, and this is because the sample size is much bigger. In order to get higher confidence levels for estimates of unmarried women, we must take a larger sample size, preferably closer to the sample size of married women."
   ]
  },
  {
   "cell_type": "markdown",
   "metadata": {},
   "source": [
    "## Question 2\n",
    "\n",
    "Construct 95% confidence intervals for the proportion of smokers who are female, and for the proportion of smokers who are male.  Then construct a 95% confidence interval for the difference between these proportions."
   ]
  },
  {
   "cell_type": "code",
   "execution_count": 16,
   "metadata": {
    "ExecuteTime": {
     "end_time": "2021-01-10T11:16:39.990345Z",
     "start_time": "2021-01-10T11:16:39.950590Z"
    }
   },
   "outputs": [
    {
     "name": "stdout",
     "output_type": "stream",
     "text": [
      "     RIAGENDRx SMQ020x\n",
      "0         Male     Yes\n",
      "1         Male     Yes\n",
      "2         Male     Yes\n",
      "3       Female      No\n",
      "4       Female      No\n",
      "...        ...     ...\n",
      "5730    Female     Yes\n",
      "5731      Male      No\n",
      "5732    Female     Yes\n",
      "5733      Male     Yes\n",
      "5734    Female      No\n",
      "\n",
      "[5725 rows x 2 columns]\n",
      "\n",
      "             Smokers     N\n",
      "RIAGENDRx                \n",
      "Female     0.304845  2972\n",
      "Male       0.513258  2753 \n",
      "\n",
      "Standard Errors:\n",
      "\n",
      "SE of male smokers:\n",
      " 0.009526078653689868\n",
      "SE of female smokers:\n",
      " 0.008444152146214435\n",
      "\n",
      "\n",
      "Confidence intervals:\n",
      "\n",
      "-for male smokers:\n",
      "\n",
      "0.49458714955108174 0.531929377873546\n",
      "\n",
      "-for female smokers:\n",
      "\n",
      "0.288294683866098 0.32139576027925865\n",
      "\n",
      "\n",
      "Differences between genders:\n",
      "\n",
      "SE difference between genders: 0.012729881381407434\n",
      "\n",
      "Confidence intervals for difference between genders proportions:\n",
      " -0.2338728044024504 -0.18295327887682067\n"
     ]
    }
   ],
   "source": [
    "da[\"SMQ020x\"] = da.SMQ020.replace({1: \"Yes\", 2: \"No\", 7: np.nan, 9: np.nan})  # np.nan represents a missing value\n",
    "da[\"RIAGENDRx\"] = da.RIAGENDR.replace({1: \"Male\", 2: \"Female\"})\n",
    "smokers = da[[\"RIAGENDRx\", \"SMQ020x\"]].dropna() \n",
    "#smokers.columns = [\"Gender\", \"Smoker\"]\n",
    "print(smokers) \n",
    "\n",
    "# Summarize the data by calculating the proportion of married and not-married responses and the sample size\n",
    "smokers = smokers.groupby(\"RIAGENDRx\")[\"SMQ020x\"].agg([lambda z: np.mean(z==\"Yes\"), \"size\"])\n",
    "smokers.columns = [\"Smokers\", \"N\"]\n",
    "print(\"\\n\", smokers, \"\\n\")\n",
    "\n",
    "print(\"Standard Errors:\\n\")\n",
    "p_male_smokers = smokers.Smokers.Male # Male smokers proportion\n",
    "n_male_smokers = smokers.N.Male # Total number of males\n",
    "se_male_smokers = np.sqrt(p_male_smokers * (1 - p_male_smokers) / n_male_smokers)\n",
    "print(\"SE of male smokers:\\n\", se_male_smokers)\n",
    "\n",
    "p_female_smokers = smokers.Smokers.Female # Female smokers proportion\n",
    "n_female_smokers = smokers.N.Female # Total number of females\n",
    "se_female_smokers = np.sqrt(p_female_smokers * (1 - p_female_smokers) / n_female_smokers)\n",
    "print(\"SE of female smokers:\\n\", se_female_smokers)\n",
    "\n",
    "print(\"\\n\\nConfidence intervals:\\n\")\n",
    "print(\"-for male smokers:\\n\")\n",
    "lcb_male = p_male_smokers - 1.96 * np.sqrt(p_male_smokers * (1 - p_male_smokers) / n_male_smokers)  \n",
    "ucb_male = p_male_smokers + 1.96 * np.sqrt(p_male_smokers * (1 - p_male_smokers) / n_male_smokers)  \n",
    "print(lcb_male, ucb_male)\n",
    "print(\"\\n-for female smokers:\\n\")\n",
    "lcb_female = p_female_smokers - 1.96 * np.sqrt(p_female_smokers * (1 - p_female_smokers) / n_female_smokers)  \n",
    "ucb_female = p_female_smokers + 1.96 * np.sqrt(p_female_smokers * (1 - p_female_smokers) / n_female_smokers)\n",
    "print(lcb_female, ucb_female)\n",
    "\n",
    "########\n",
    "\n",
    "print(\"\\n\\nDifferences between genders:\\n\")\n",
    "se_diff = np.sqrt(se_female_smokers**2 + se_male_smokers**2)\n",
    "print(\"SE difference between genders:\", se_diff)\n",
    "\n",
    "d = smokers.Smokers.Female - smokers.Smokers.Male\n",
    "lcb_smokers = d - 2*se_diff\n",
    "ucb_smokers = d + 2*se_diff\n",
    "print(\"\\nConfidence intervals for difference between genders proportions:\\n\", lcb_smokers, ucb_smokers)"
   ]
  },
  {
   "cell_type": "markdown",
   "metadata": {},
   "source": [
    "__Q2a.__ Discuss why it may be relevant to report the proportions of smokers who are female and male, and contrast this to reporting the proportions of males and females who smoke."
   ]
  },
  {
   "cell_type": "markdown",
   "metadata": {},
   "source": [
    "The data shows that around 30% of women sampled are smokers, in comparison to around 51% of men sampled who are smokers. It is relevant to report this comparison because it shows that from the gender perspective, men are more likely to smoke than women. In other words, looking at the genders as individual variables, we can see what is the probability that they are a smoker.\n",
    "By reporting the proportions of males and females who smoke, this would show that out of all smokers sampled, a certain percentage of them are women, and a certain percentage of them are men. In other words, by looking at smokers, what we can see is the probability that they are a woman or a man."
   ]
  },
  {
   "cell_type": "markdown",
   "metadata": {},
   "source": [
    "__Q2b.__ How does the width of the confidence interval for the difference of the two proportions compare to the widths of the confidence intervals for each proportion separately?"
   ]
  },
  {
   "cell_type": "markdown",
   "metadata": {},
   "source": [
    "The confidence intervals for each proportion separetly have less width than the confidence interval for the difference of the two proportions. This means that calculating them separetly give a higher accuracy, therefore a higher confidence level."
   ]
  },
  {
   "cell_type": "markdown",
   "metadata": {},
   "source": [
    "## Question 3\n",
    "\n",
    "Construct a 95% interval for height ([BMXHT](https://wwwn.cdc.gov/Nchs/Nhanes/2015-2016/BMX_I.htm#BMXHT)) in centimeters.  Then convert height from centimeters to inches by multiplying by 0.39, and construct a 95% confidence interval for height in inches.  Finally, convert the endpoints (the lower and upper confidence limits) of the confidence interval from inches to back to centimeters   "
   ]
  },
  {
   "cell_type": "code",
   "execution_count": 17,
   "metadata": {
    "ExecuteTime": {
     "end_time": "2021-01-10T11:16:51.479120Z",
     "start_time": "2021-01-10T11:16:51.434560Z"
    }
   },
   "outputs": [
    {
     "name": "stdout",
     "output_type": "stream",
     "text": [
      "                BMXHT                  \n",
      "                 mean       std    size\n",
      "RIAGENDRx                              \n",
      "Female     159.673184  7.193736  2946.0\n",
      "Male       173.132050  7.834110  2727.0\n",
      "\n",
      "Standard Errors:\n",
      "Female:  0.13253730166722932 \n",
      "Male:  0.15001928673477033\n",
      "\n",
      "Females:\n",
      "Lower Confidence Interval:  159.6683979543558 \n",
      "Upper Confidence Interval:  159.67797004564417\n",
      "\n",
      "Males:\n",
      "Lower Confidence Interval:  173.12641933397433 \n",
      "Upper Confidence Interval:  173.13768066602566\n"
     ]
    }
   ],
   "source": [
    "da[\"RIAGENDRx\"] = da.RIAGENDR.replace({1: \"Male\", 2: \"Female\"})\n",
    "heights = da[[\"RIAGENDRx\", \"BMXHT\"]].dropna()\n",
    "\n",
    "heights = heights.groupby(\"RIAGENDRx\").agg({\"BMXHT\": [np.mean, np.std, np.size]})\n",
    "print(heights)\n",
    "\n",
    "#####\n",
    "\n",
    "#Standard Errors:\n",
    "\n",
    "sem_female = 7.193736 / np.sqrt(2946)\n",
    "sem_male = 7.834110 / np.sqrt(2727)\n",
    "print(\"\\nStandard Errors:\\nFemale: \", sem_female, \"\\nMale: \", sem_male)\n",
    "\n",
    "\n",
    "# Confidence Intervals:\n",
    "\n",
    "lcb_female = 159.673184 - (1.96 * 0.132537) / np.sqrt(2946)\n",
    "ucb_female = 159.673184 + (1.96 * 0.132537) / np.sqrt(2946)\n",
    "print(\"\\nFemales:\\nLower Confidence Interval: \", lcb_female, \"\\nUpper Confidence Interval: \", ucb_female)\n",
    "\n",
    "lcb_male = 173.132050 - (1.96 * 0.150019) / np.sqrt(2727)\n",
    "ucb_male = 173.132050 + (1.96 * 0.150019) / np.sqrt(2727)\n",
    "print(\"\\nMales:\\nLower Confidence Interval: \", lcb_male, \"\\nUpper Confidence Interval: \", ucb_male)"
   ]
  },
  {
   "cell_type": "code",
   "execution_count": 339,
   "metadata": {},
   "outputs": [
    {
     "name": "stdout",
     "output_type": "stream",
     "text": [
      "          Heights                  \n",
      "             mean       std    size\n",
      "Gender                             \n",
      "Female  62.272542  2.805557  2946.0\n",
      "Male    67.521499  3.055303  2727.0\n",
      "\n",
      "Standard Errors:\n",
      "Female:  0.05168954691325993 \n",
      "Male:  0.058507523741510394\n",
      "\n",
      "Females:\n",
      "Lower Confidence Interval:  62.27067645772651 \n",
      "Upper Confidence Interval:  62.27440954227349\n",
      "\n",
      "Males:\n",
      "Lower Confidence Interval:  67.49953936872022 \n",
      "Upper Confidence Interval:  67.54345863127979\n",
      "\n",
      "\n",
      "Convert CI endpoints back to cm:\n",
      "\n",
      "Females:\n",
      "Lower Confidence Interval:  158.16751820262533 \n",
      "Upper Confidence Interval:  158.17700023737467\n",
      "\n",
      "Males:\n",
      "Lower Confidence Interval:  171.44882999654936 \n",
      "Upper Confidence Interval:  171.56038492345067\n"
     ]
    }
   ],
   "source": [
    "da[\"RIAGENDRx\"] = da.RIAGENDR.replace({1: \"Male\", 2: \"Female\"})\n",
    "height_array = da[\"BMXHT\"].values\n",
    "\n",
    "heights = []\n",
    "for x in height_array:\n",
    "    x = x*0.39\n",
    "    heights.append(x)\n",
    "\n",
    "df = pd.DataFrame(heights)\n",
    "heights_inch = pd.concat([da[\"RIAGENDRx\"], df], axis = 1)\n",
    "heights_inch.columns = [\"Gender\", \"Heights\"]\n",
    "heights_inch = heights_inch[[\"Gender\", \"Heights\"]].dropna()\n",
    "\n",
    "heights_average = heights_inch.groupby(\"Gender\").agg({\"Heights\": [np.mean, np.std, np.size]})\n",
    "print(heights_average)\n",
    "\n",
    "\n",
    "#Standard Errors:\n",
    "\n",
    "sem_female_inch = 2.805557 / np.sqrt(2946)\n",
    "sem_male_inch = 3.055303 / np.sqrt(2727)\n",
    "print(\"\\nStandard Errors:\\nFemale: \", sem_female_inch, \"\\nMale: \", sem_male_inch)\n",
    "\n",
    "\n",
    "# Confidence Intervals:\n",
    "\n",
    "lcb_female_inch = 62.272543 - (1.96 * 0.051689) / np.sqrt(2946)\n",
    "ucb_female_inch = 62.272543 + (1.96 * 0.051689) / np.sqrt(2946)\n",
    "print(\"\\nFemales:\\nLower Confidence Interval: \", lcb_female_inch, \"\\nUpper Confidence Interval: \", ucb_female_inch)\n",
    "\n",
    "lcb_male_inch = 67.521499 - (1.96 * 0.585075) / np.sqrt(2727)\n",
    "ucb_male_inch = 67.521499 + (1.96 * 0.585075) / np.sqrt(2727)\n",
    "print(\"\\nMales:\\nLower Confidence Interval: \", lcb_male_inch, \"\\nUpper Confidence Interval: \", ucb_male_inch)\n",
    "\n",
    "\n",
    "# Convert CI endpoints back to centimtres:\n",
    "print(\"\\n\\nConvert CI endpoints back to cm:\")\n",
    "lcb_female_cm = lcb_female_inch * 2.54\n",
    "ucb_female_cm = ucb_female_inch * 2.54\n",
    "lcb_male_cm = lcb_male_inch * 2.54\n",
    "ucb_male_cm = ucb_male_inch * 2.54\n",
    "print(\"\\nFemales:\\nLower Confidence Interval: \", lcb_female_cm, \"\\nUpper Confidence Interval: \", ucb_female_cm)\n",
    "print(\"\\nMales:\\nLower Confidence Interval: \", lcb_male_cm, \"\\nUpper Confidence Interval: \", ucb_male_cm)"
   ]
  },
  {
   "cell_type": "markdown",
   "metadata": {},
   "source": [
    "__Q3a.__ Describe how the confidence interval constructed in centimeters relates to the confidence interval constructed in inches."
   ]
  },
  {
   "cell_type": "markdown",
   "metadata": {},
   "source": [
    "There is quite a large difference between the two answers found. This is because of the values lost during rounding during the calculation processes. What would be better to do is use variables to save the values and then use those during the calculation processes. However, even then, there would be differences, because I believe a computer does not hold so many points after the decimal. So, especially during an experiment needeing very high accuracy, using different measurements would be a problem, ie space travel!"
   ]
  },
  {
   "cell_type": "markdown",
   "metadata": {},
   "source": [
    "## Question 4\n",
    "\n",
    "Partition the sample based on 10-year age bands, i.e. the resulting groups will consist of people with ages from 18-28, 29-38, etc. Construct 95% confidence intervals for the difference between the mean BMI for females and for males within each age band."
   ]
  },
  {
   "cell_type": "code",
   "execution_count": 18,
   "metadata": {
    "ExecuteTime": {
     "end_time": "2021-01-10T11:17:02.709637Z",
     "start_time": "2021-01-10T11:17:02.623157Z"
    }
   },
   "outputs": [
    {
     "name": "stderr",
     "output_type": "stream",
     "text": [
      "<ipython-input-18-4f516a3b7d76>:2: SettingWithCopyWarning: \n",
      "A value is trying to be set on a copy of a slice from a DataFrame.\n",
      "Try using .loc[row_indexer,col_indexer] = value instead\n",
      "\n",
      "See the caveats in the documentation: https://pandas.pydata.org/pandas-docs/stable/user_guide/indexing.html#returning-a-view-versus-a-copy\n",
      "  bmi_age[\"Age\"] = pd.cut(bmi_age.RIDAGEYR, [18, 30, 40, 50, 60, 70, 80])\n"
     ]
    },
    {
     "data": {
      "text/html": [
       "<div>\n",
       "<style scoped>\n",
       "    .dataframe tbody tr th:only-of-type {\n",
       "        vertical-align: middle;\n",
       "    }\n",
       "\n",
       "    .dataframe tbody tr th {\n",
       "        vertical-align: top;\n",
       "    }\n",
       "\n",
       "    .dataframe thead tr th {\n",
       "        text-align: left;\n",
       "    }\n",
       "\n",
       "    .dataframe thead tr:last-of-type th {\n",
       "        text-align: right;\n",
       "    }\n",
       "</style>\n",
       "<table border=\"1\" class=\"dataframe\">\n",
       "  <thead>\n",
       "    <tr>\n",
       "      <th></th>\n",
       "      <th colspan=\"12\" halign=\"left\">BMI</th>\n",
       "    </tr>\n",
       "    <tr>\n",
       "      <th></th>\n",
       "      <th colspan=\"2\" halign=\"left\">mean</th>\n",
       "      <th colspan=\"2\" halign=\"left\">std</th>\n",
       "      <th colspan=\"2\" halign=\"left\">size</th>\n",
       "      <th colspan=\"2\" halign=\"left\">sem</th>\n",
       "      <th>mean_diff</th>\n",
       "      <th>sem_diff</th>\n",
       "      <th>lcb_diff</th>\n",
       "      <th>ucb_diff</th>\n",
       "    </tr>\n",
       "    <tr>\n",
       "      <th>Gender</th>\n",
       "      <th>Female</th>\n",
       "      <th>Male</th>\n",
       "      <th>Female</th>\n",
       "      <th>Male</th>\n",
       "      <th>Female</th>\n",
       "      <th>Male</th>\n",
       "      <th>Female</th>\n",
       "      <th>Male</th>\n",
       "      <th></th>\n",
       "      <th></th>\n",
       "      <th></th>\n",
       "      <th></th>\n",
       "    </tr>\n",
       "    <tr>\n",
       "      <th>Age</th>\n",
       "      <th></th>\n",
       "      <th></th>\n",
       "      <th></th>\n",
       "      <th></th>\n",
       "      <th></th>\n",
       "      <th></th>\n",
       "      <th></th>\n",
       "      <th></th>\n",
       "      <th></th>\n",
       "      <th></th>\n",
       "      <th></th>\n",
       "      <th></th>\n",
       "    </tr>\n",
       "  </thead>\n",
       "  <tbody>\n",
       "    <tr>\n",
       "      <th>(18, 30]</th>\n",
       "      <td>28.123881</td>\n",
       "      <td>27.391822</td>\n",
       "      <td>7.745893</td>\n",
       "      <td>6.649440</td>\n",
       "      <td>609.0</td>\n",
       "      <td>544.0</td>\n",
       "      <td>0.313879</td>\n",
       "      <td>0.285092</td>\n",
       "      <td>0.732059</td>\n",
       "      <td>0.424026</td>\n",
       "      <td>-0.099032</td>\n",
       "      <td>1.563150</td>\n",
       "    </tr>\n",
       "    <tr>\n",
       "      <th>(30, 40]</th>\n",
       "      <td>30.325586</td>\n",
       "      <td>29.611726</td>\n",
       "      <td>8.315608</td>\n",
       "      <td>6.622412</td>\n",
       "      <td>474.0</td>\n",
       "      <td>458.0</td>\n",
       "      <td>0.381949</td>\n",
       "      <td>0.309445</td>\n",
       "      <td>0.713861</td>\n",
       "      <td>0.491570</td>\n",
       "      <td>-0.249616</td>\n",
       "      <td>1.677338</td>\n",
       "    </tr>\n",
       "    <tr>\n",
       "      <th>(40, 50]</th>\n",
       "      <td>31.160643</td>\n",
       "      <td>29.724623</td>\n",
       "      <td>8.076195</td>\n",
       "      <td>6.407076</td>\n",
       "      <td>502.0</td>\n",
       "      <td>401.0</td>\n",
       "      <td>0.360458</td>\n",
       "      <td>0.319954</td>\n",
       "      <td>1.436019</td>\n",
       "      <td>0.481976</td>\n",
       "      <td>0.491347</td>\n",
       "      <td>2.380692</td>\n",
       "    </tr>\n",
       "    <tr>\n",
       "      <th>(50, 60]</th>\n",
       "      <td>30.743777</td>\n",
       "      <td>29.231486</td>\n",
       "      <td>7.575848</td>\n",
       "      <td>5.914373</td>\n",
       "      <td>470.0</td>\n",
       "      <td>454.0</td>\n",
       "      <td>0.349448</td>\n",
       "      <td>0.277575</td>\n",
       "      <td>1.512291</td>\n",
       "      <td>0.446275</td>\n",
       "      <td>0.637591</td>\n",
       "      <td>2.386991</td>\n",
       "    </tr>\n",
       "    <tr>\n",
       "      <th>(60, 70]</th>\n",
       "      <td>31.074828</td>\n",
       "      <td>29.392488</td>\n",
       "      <td>7.604514</td>\n",
       "      <td>5.933307</td>\n",
       "      <td>441.0</td>\n",
       "      <td>437.0</td>\n",
       "      <td>0.362120</td>\n",
       "      <td>0.283829</td>\n",
       "      <td>1.682340</td>\n",
       "      <td>0.460097</td>\n",
       "      <td>0.780550</td>\n",
       "      <td>2.584130</td>\n",
       "    </tr>\n",
       "    <tr>\n",
       "      <th>(70, 80]</th>\n",
       "      <td>29.138213</td>\n",
       "      <td>27.957692</td>\n",
       "      <td>6.284968</td>\n",
       "      <td>4.974855</td>\n",
       "      <td>410.0</td>\n",
       "      <td>402.0</td>\n",
       "      <td>0.310392</td>\n",
       "      <td>0.248123</td>\n",
       "      <td>1.180521</td>\n",
       "      <td>0.397377</td>\n",
       "      <td>0.401662</td>\n",
       "      <td>1.959380</td>\n",
       "    </tr>\n",
       "  </tbody>\n",
       "</table>\n",
       "</div>"
      ],
      "text/plain": [
       "                BMI                                                         \\\n",
       "               mean                  std             size              sem   \n",
       "Gender       Female       Male    Female      Male Female   Male    Female   \n",
       "Age                                                                          \n",
       "(18, 30]  28.123881  27.391822  7.745893  6.649440  609.0  544.0  0.313879   \n",
       "(30, 40]  30.325586  29.611726  8.315608  6.622412  474.0  458.0  0.381949   \n",
       "(40, 50]  31.160643  29.724623  8.076195  6.407076  502.0  401.0  0.360458   \n",
       "(50, 60]  30.743777  29.231486  7.575848  5.914373  470.0  454.0  0.349448   \n",
       "(60, 70]  31.074828  29.392488  7.604514  5.933307  441.0  437.0  0.362120   \n",
       "(70, 80]  29.138213  27.957692  6.284968  4.974855  410.0  402.0  0.310392   \n",
       "\n",
       "                                                            \n",
       "                   mean_diff  sem_diff  lcb_diff  ucb_diff  \n",
       "Gender        Male                                          \n",
       "Age                                                         \n",
       "(18, 30]  0.285092  0.732059  0.424026 -0.099032  1.563150  \n",
       "(30, 40]  0.309445  0.713861  0.491570 -0.249616  1.677338  \n",
       "(40, 50]  0.319954  1.436019  0.481976  0.491347  2.380692  \n",
       "(50, 60]  0.277575  1.512291  0.446275  0.637591  2.386991  \n",
       "(60, 70]  0.283829  1.682340  0.460097  0.780550  2.584130  \n",
       "(70, 80]  0.248123  1.180521  0.397377  0.401662  1.959380  "
      ]
     },
     "execution_count": 18,
     "metadata": {},
     "output_type": "execute_result"
    }
   ],
   "source": [
    "bmi_age = da[[\"RIDAGEYR\", \"RIAGENDRx\", \"BMXBMI\"]]\n",
    "bmi_age[\"Age\"] = pd.cut(bmi_age.RIDAGEYR, [18, 30, 40, 50, 60, 70, 80])\n",
    "bmi_age = bmi_age.drop(['RIDAGEYR'], axis=1)\n",
    "bmi_age.columns = [\"Gender\", \"BMI\", \"Age\"]\n",
    "\n",
    "bmi_age = bmi_age.groupby([\"Age\", \"Gender\"]).agg({\"BMI\": [np.mean, np.std, np.size]}).unstack()\n",
    "\n",
    "\n",
    "# Calculate the SEM for females and for males within each age band\n",
    "bmi_age[\"BMI\", \"sem\", \"Female\"] = bmi_age[\"BMI\", \"std\", \"Female\"] / np.sqrt(bmi_age[\"BMI\", \"size\", \"Female\"]) \n",
    "bmi_age[\"BMI\", \"sem\", \"Male\"] = bmi_age[\"BMI\", \"std\", \"Male\"] / np.sqrt(bmi_age[\"BMI\", \"size\", \"Male\"]) \n",
    "\n",
    "# Calculate the mean difference of BMI between females and males within each age band, also  calculate\n",
    "# its SE and the lower and upper limits of its 95% CI.\n",
    "bmi_age[\"BMI\", \"mean_diff\", \"\"] = bmi_age[\"BMI\", \"mean\", \"Female\"] - bmi_age[\"BMI\", \"mean\", \"Male\"]\n",
    "bmi_age[\"BMI\", \"sem_diff\", \"\"] = np.sqrt(bmi_age[\"BMI\", \"sem\", \"Female\"]**2 + bmi_age[\"BMI\", \"sem\", \"Male\"]**2) \n",
    "bmi_age[\"BMI\", \"lcb_diff\", \"\"] = bmi_age[\"BMI\", \"mean_diff\", \"\"] - 1.96 * bmi_age[\"BMI\", \"sem_diff\", \"\"] \n",
    "bmi_age[\"BMI\", \"ucb_diff\", \"\"] = bmi_age[\"BMI\", \"mean_diff\", \"\"] + 1.96 * bmi_age[\"BMI\", \"sem_diff\", \"\"] \n",
    "\n",
    "bmi_age\n"
   ]
  },
  {
   "cell_type": "markdown",
   "metadata": {},
   "source": [
    "__Q4a.__ How do the widths of these confidence intervals differ?  Provide an explanation for any substantial diferences in the confidence interval widths that you see."
   ]
  },
  {
   "cell_type": "markdown",
   "metadata": {},
   "source": [
    "There is very big differences in the cofidence levels, particularly as the age becomes older. This could be because the mean differences between genders is very big, especially as age becomes older. Also, the deviation is greater for females, so there is more of a spread in BMI rates between all ages of females than there is for males. WHat also effects is the sample size, as we can see in the age groups 40-50 for example, there are 100 less males being sampled than females. This effects the confidence levels of our estimates."
   ]
  },
  {
   "cell_type": "markdown",
   "metadata": {},
   "source": [
    "## Question 5\n",
    "\n",
    "Construct a 95% confidence interval for the first and second systolic blood pressure measures, and for the difference between the first and second systolic blood pressure measurements within a subject."
   ]
  },
  {
   "cell_type": "code",
   "execution_count": null,
   "metadata": {},
   "outputs": [],
   "source": [
    "# enter code here"
   ]
  },
  {
   "cell_type": "markdown",
   "metadata": {},
   "source": [
    "__Q5a.__ Based on these confidence intervals, would you say that a difference of zero between the population mean values of the first and second systolic blood pressure measures is consistent with the data?"
   ]
  },
  {
   "cell_type": "markdown",
   "metadata": {},
   "source": []
  },
  {
   "cell_type": "markdown",
   "metadata": {},
   "source": [
    "\n",
    "__Q5b.__ Discuss how the width of the confidence interval for the within-subject difference compares to the widths of the confidence intervals for the first and second measures."
   ]
  },
  {
   "cell_type": "markdown",
   "metadata": {},
   "source": []
  },
  {
   "cell_type": "markdown",
   "metadata": {},
   "source": [
    "## Question 6\n",
    "\n",
    "Construct a 95% confidence interval for the mean difference between the average age of a smoker, and the average age of a non-smoker."
   ]
  },
  {
   "cell_type": "code",
   "execution_count": 43,
   "metadata": {
    "ExecuteTime": {
     "end_time": "2021-01-10T12:08:45.135461Z",
     "start_time": "2021-01-10T12:08:45.110785Z"
    }
   },
   "outputs": [
    {
     "name": "stdout",
     "output_type": "stream",
     "text": [
      "         Average Age         SD     N\n",
      "SMQ020x                              \n",
      "No         45.259836  18.543286  3406\n",
      "Yes        52.096593  17.461141  2319\n",
      "\n",
      "Standard Errors:\n",
      "Non-Smoker:  0.7755158067467498 \n",
      "Smoker:  1.0818298192154363\n",
      "SE difference:  0.20017972606045645\n",
      "Mean difference: 6.836756999999999\n",
      "Confidence interval for mean age difference between smokers 6.436397547879086 7.237116452120912\n"
     ]
    }
   ],
   "source": [
    "# insert your code here\n",
    "da[\"SMQ020x\"] = da.SMQ020.replace({1: \"Yes\", 2: \"No\", 7: np.nan, 9: np.nan})  # np.nan represents a missing value\n",
    "smoker_age = da[[\"RIDAGEYR\", \"SMQ020x\"]]\n",
    "\n",
    "smoker_age = smoker_age.groupby(\"SMQ020x\").agg({\"RIDAGEYR\": [np.mean, np.std, np.size]})\n",
    "smoker_age.columns = [\"Average Age\", \"SD\", \"N\"]\n",
    "print(smoker_age)\n",
    "\n",
    "\n",
    "#Standard Errors:\n",
    "\n",
    "sem_nonsmoker = 45.259836 / np.sqrt(3406)\n",
    "sem_smoker = 52.096593 / np.sqrt(2319)\n",
    "print(\"\\nStandard Errors:\\nNon-Smoker: \", sem_nonsmoker, \"\\nSmoker: \", sem_smoker)\n",
    "\n",
    "sem_diff = np.sqrt(sem_female**2 + sem_male**2)\n",
    "print(\"SE difference: \", sem_diff)\n",
    "\n",
    "\"\"\"\n",
    "lcb_nonsmoker = 45.259836 - (1.96 * 0.775515) / np.sqrt(3406)\n",
    "ucb_nonsmoker = 45.259836 + (1.96 * 0.775515) / np.sqrt(3406)\n",
    "print(\"Confidence interval for non-smoker: \", lcb_nonsmoker, ucb_nonsmoker)\n",
    "\n",
    "lcb_smoker = 52.096593 - (1.96 * 1.081829) / np.sqrt(2319)\n",
    "ucb_smoker = 52.096593 + (1.96 * 1.081829) / np.sqrt(2319)\n",
    "print(\"Confidence interval for smoker: \", lcb_smoker, ucb_smoker)\n",
    "\"\"\"\n",
    "\n",
    "mean_diff = 52.096593 - 45.259836\n",
    "print(\"Mean difference:\", mean_diff)\n",
    "lcb = mean_diff - 2*sem_diff\n",
    "ucb = mean_diff + 2*sem_diff\n",
    "print(\"Confidence interval for mean age difference between smokers\", lcb, ucb)"
   ]
  },
  {
   "cell_type": "markdown",
   "metadata": {},
   "source": [
    "__Q6a.__ Use graphical and numerical techniques to compare the variation in the ages of smokers to the variation in the ages of non-smokers.  "
   ]
  },
  {
   "cell_type": "code",
   "execution_count": 1,
   "metadata": {},
   "outputs": [],
   "source": [
    "# insert your code here"
   ]
  },
  {
   "cell_type": "markdown",
   "metadata": {},
   "source": [
    "__Q6b.__ Does it appear that uncertainty about the mean age of smokers, or uncertainty about the mean age of non-smokers contributed more to the uncertainty for the mean difference that we are focusing on here?"
   ]
  },
  {
   "cell_type": "markdown",
   "metadata": {},
   "source": []
  }
 ],
 "metadata": {
  "kernelspec": {
   "display_name": "Python 3",
   "language": "python",
   "name": "python3"
  },
  "language_info": {
   "codemirror_mode": {
    "name": "ipython",
    "version": 3
   },
   "file_extension": ".py",
   "mimetype": "text/x-python",
   "name": "python",
   "nbconvert_exporter": "python",
   "pygments_lexer": "ipython3",
   "version": "3.8.3"
  }
 },
 "nbformat": 4,
 "nbformat_minor": 2
}
