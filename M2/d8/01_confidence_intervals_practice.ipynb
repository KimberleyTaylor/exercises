{
 "cells": [
  {
   "cell_type": "markdown",
   "metadata": {},
   "source": [
    "# Practice notebook for confidence intervals using NHANES data\n",
    "\n",
    "This notebook will give you the opportunity to practice working with confidence intervals using the NHANES data.\n",
    "\n",
    "You can enter your code into the cells that say \"enter your code here\", and you can type responses to the questions into the cells that say \"Type Markdown and Latex\".\n",
    "\n",
    "Note that most of the code that you will need to write below is very similar to code that appears in the case study notebook.  You will need to edit code from that notebook in small ways to adapt it to the prompts below.\n",
    "\n",
    "To get started, we will use the same module imports and read the data in the same way as we did in the case study:"
   ]
  },
  {
   "cell_type": "code",
   "execution_count": 1,
   "metadata": {},
   "outputs": [],
   "source": [
    "%matplotlib inline\n",
    "import matplotlib.pyplot as plt\n",
    "import pandas as pd\n",
    "import numpy as np\n",
    "import seaborn as sns\n",
    "import statsmodels.api as sm\n",
    "\n",
    "da = pd.read_csv(\"nhanes_2015_2016.csv\")"
   ]
  },
  {
   "cell_type": "markdown",
   "metadata": {},
   "source": [
    "## Question 1\n",
    "\n",
    "Restrict the sample to women between 35 and 50, then use the marital status variable [DMDMARTL](https://wwwn.cdc.gov/Nchs/Nhanes/2015-2016/DEMO_I.htm#DMDMARTL) to partition this sample into two groups - women who are currently married, and women who are not currently married.  Within each of these groups, calculate the proportion of women who have completed college.  Calculate 95% confidence intervals for each of these proportions."
   ]
  },
  {
   "cell_type": "code",
   "execution_count": 132,
   "metadata": {},
   "outputs": [
    {
     "name": "stdout",
     "output_type": "stream",
     "text": [
      "\n",
      "            Not-married   Married    N\n",
      "RIAGENDRx                            \n",
      "Female        0.429479  0.570521  787 \n",
      "\n",
      "\n",
      "             College  Not College    N\n",
      "DMDMARTLx                            \n",
      "Married    0.670379     0.329621  449\n",
      "Not        0.562130     0.437870  338\n",
      "\n",
      "\n",
      "\n",
      "Standard Errors:\n",
      "\n",
      "SE of college and married:\n",
      " 0.022184241991308255\n",
      "\n",
      "SE of college and not-married:\n",
      " 0.026985632877162748\n",
      "\n",
      "\n",
      "Confidence intervals:\n",
      "\n",
      "-for married college females:\n",
      "\n",
      "0.6268975048507106 0.713859733456639\n",
      "\n",
      "-for not-married college females:\n",
      "\n",
      "0.5092383370755539 0.6150220179540319\n"
     ]
    }
   ],
   "source": [
    "dx = da.loc[(da.RIDAGEYR >= 35) & (da.RIDAGEYR <= 50), :] # Restrict to people between 35 and 50 years old\n",
    "dx = dx.loc[(da.RIAGENDR == 2), :]\n",
    "#dx = dx.loc[(da.DMDEDUC2 >= 4), :]\n",
    "dx = dx[[\"DMDMARTLx\", \"RIAGENDRx\", \"DMDEDUC2\"]].dropna() \n",
    "\n",
    "dx[\"DMDMARTLx\"] = da.DMDMARTL.replace({1: \"Married\", 2: \"Not\", 3: \"Not\", 4: \"Not\", 5: \"Not\", 6: \"Not\", 77: np.nan, 99: np.nan})  # np.nan represents a missing value\n",
    "#print(dx)\n",
    "\n",
    "# Summarize the data by calculating the proportion of married and not-married responses and the sample size\n",
    "p_not_married = dx.groupby(\"RIAGENDRx\")[\"DMDMARTLx\"].agg([lambda z: np.mean(z==\"Not\"), lambda z: np.mean(z==\"Married\"), \"size\"])\n",
    "p_not_married.columns = [\"Not-married\", \"Married\", \"N\"]\n",
    "print(\"\\n\", p_not_married, \"\\n\")\n",
    "\n",
    "# Summarize the data by calculating the proportion of women who completed college responses and the sample size\n",
    "p_college = dx.groupby(\"DMDMARTLx\")[\"DMDEDUC2\"].agg([lambda z: np.mean(z>=4.0), lambda z: np.mean(z<=3.0), \"size\"])\n",
    "p_college.columns = [\"College\", \"Not College\", \"N\"]\n",
    "\n",
    "print(\"\\n\", p_college)\n",
    "\n",
    "\n",
    "print(\"\\n\\n\")\n",
    "\n",
    "\n",
    "print(\"Standard Errors:\\n\")\n",
    "p1 = p_college.College.Married # Married & College proportion\n",
    "n1 = p_college.N.Married # Total number of marrried\n",
    "se_college_married = np.sqrt(p1 * (1 - p1) / n1)\n",
    "print(\"SE of college and married:\\n\", se_college_married)\n",
    "\n",
    "p2 = p_college.College.Not # Not married & College proportion\n",
    "n2 = p_college.N.Not # Total number of not married\n",
    "se_college_not_married = np.sqrt(p2 * (1 - p2) / n2)\n",
    "print(\"\\nSE of college and not-married:\\n\", se_college_not_married)\n",
    "\n",
    "print(\"\\n\\nConfidence intervals:\\n\")\n",
    "print(\"-for married college females:\\n\")\n",
    "lcb1 = p1 - 1.96 * np.sqrt(p1 * (1 - p1) / n1)  \n",
    "ucb1 = p1 + 1.96 * np.sqrt(p1 * (1 - p1) / n1)  \n",
    "print(lcb1, ucb1)\n",
    "print(\"\\n-for not-married college females:\\n\")\n",
    "lcb2 = p2 - 1.96 * np.sqrt(p2 * (1 - p2) / n2)  \n",
    "ucb2 = p2 + 1.96 * np.sqrt(p2 * (1 - p2) / n2)\n",
    "print(lcb2, ucb2)"
   ]
  },
  {
   "cell_type": "markdown",
   "metadata": {},
   "source": [
    "__Q1a.__ Identify which of the two confidence intervals is wider, and explain why this is the case. "
   ]
  },
  {
   "cell_type": "markdown",
   "metadata": {},
   "source": [
    "not-married college females has a wider confidence interval because the sample size of not-married females is much smaller than the sample size of married females."
   ]
  },
  {
   "cell_type": "markdown",
   "metadata": {},
   "source": [
    "__Q1b.__ Write 1-2 sentences summarizing these findings for an audience that does not know what a confidence interval is (the goal here is to report the substance of what you learned about how marital status and educational attainment are related, not to teach a person what a confidence interval is)."
   ]
  },
  {
   "cell_type": "markdown",
   "metadata": {},
   "source": [
    "Our sample data shows that of the women who are married, around 67% of them completed college. Whereas around 33% of them did not complete college. Of the women who are not married, 56% of them completed college, whereas around 43% of them did not complete college.\n",
    "The standard errors and confidence intervals show that the data for married women is more accurate, and this is because the sample size is much bigger. In order to get higher confidence levels for estimates of unmarried women, we must take a larger sample size, preferably closer to the sample size of married women."
   ]
  },
  {
   "cell_type": "markdown",
   "metadata": {},
   "source": [
    "## Question 2\n",
    "\n",
    "Construct 95% confidence intervals for the proportion of smokers who are female, and for the proportion of smokers who are male.  Then construct a 95% confidence interval for the difference between these proportions."
   ]
  },
  {
   "cell_type": "code",
   "execution_count": 156,
   "metadata": {},
   "outputs": [
    {
     "name": "stdout",
     "output_type": "stream",
     "text": [
      "     RIAGENDRx SMQ020x\n",
      "0         Male     Yes\n",
      "1         Male     Yes\n",
      "2         Male     Yes\n",
      "3       Female      No\n",
      "4       Female      No\n",
      "...        ...     ...\n",
      "5730    Female     Yes\n",
      "5731      Male      No\n",
      "5732    Female     Yes\n",
      "5733      Male     Yes\n",
      "5734    Female      No\n",
      "\n",
      "[5725 rows x 2 columns]\n",
      "\n",
      "             Smokers     N\n",
      "RIAGENDRx                \n",
      "Female     0.304845  2972\n",
      "Male       0.513258  2753 \n",
      "\n",
      "Standard Errors:\n",
      "\n",
      "SE of male smokers:\n",
      " 0.009526078653689868\n",
      "SE of female smokers:\n",
      " 0.008444152146214435\n",
      "\n",
      "\n",
      "Confidence intervals:\n",
      "\n",
      "-for male smokers:\n",
      "\n",
      "0.49458714955108174 0.531929377873546\n",
      "\n",
      "-for female smokers:\n",
      "\n",
      "0.288294683866098 0.32139576027925865\n",
      "\n",
      "\n",
      "Differences between genders:\n",
      "\n",
      "SE difference between genders: 0.012729881381407434\n",
      "\n",
      "Confidence intervals for difference between genders proportions:\n",
      " -0.2338728044024504 -0.18295327887682067\n"
     ]
    }
   ],
   "source": [
    "# enter your code here\n",
    "da[\"SMQ020x\"] = da.SMQ020.replace({1: \"Yes\", 2: \"No\", 7: np.nan, 9: np.nan})  # np.nan represents a missing value\n",
    "da[\"RIAGENDRx\"] = da.RIAGENDR.replace({1: \"Male\", 2: \"Female\"})\n",
    "smokers = da[[\"RIAGENDRx\", \"SMQ020x\"]].dropna() \n",
    "#smokers.columns = [\"Gender\", \"Smoker\"]\n",
    "print(smokers) \n",
    "\n",
    "# Summarize the data by calculating the proportion of married and not-married responses and the sample size\n",
    "smokers = smokers.groupby(\"RIAGENDRx\")[\"SMQ020x\"].agg([lambda z: np.mean(z==\"Yes\"), \"size\"])\n",
    "smokers.columns = [\"Smokers\", \"N\"]\n",
    "print(\"\\n\", smokers, \"\\n\")\n",
    "\n",
    "print(\"Standard Errors:\\n\")\n",
    "p_male_smokers = smokers.Smokers.Male # Male smokers proportion\n",
    "n_male_smokers = smokers.N.Male # Total number of males\n",
    "se_male_smokers = np.sqrt(p_male_smokers * (1 - p_male_smokers) / n_male_smokers)\n",
    "print(\"SE of male smokers:\\n\", se_male_smokers)\n",
    "\n",
    "p_female_smokers = smokers.Smokers.Female # Female smokers proportion\n",
    "n_female_smokers = smokers.N.Female # Total number of females\n",
    "se_female_smokers = np.sqrt(p_female_smokers * (1 - p_female_smokers) / n_female_smokers)\n",
    "print(\"SE of female smokers:\\n\", se_female_smokers)\n",
    "\n",
    "print(\"\\n\\nConfidence intervals:\\n\")\n",
    "print(\"-for male smokers:\\n\")\n",
    "lcb_male = p_male_smokers - 1.96 * np.sqrt(p_male_smokers * (1 - p_male_smokers) / n_male_smokers)  \n",
    "ucb_male = p_male_smokers + 1.96 * np.sqrt(p_male_smokers * (1 - p_male_smokers) / n_male_smokers)  \n",
    "print(lcb_male, ucb_male)\n",
    "print(\"\\n-for female smokers:\\n\")\n",
    "lcb_female = p_female_smokers - 1.96 * np.sqrt(p_female_smokers * (1 - p_female_smokers) / n_female_smokers)  \n",
    "ucb_female = p_female_smokers + 1.96 * np.sqrt(p_female_smokers * (1 - p_female_smokers) / n_female_smokers)\n",
    "print(lcb_female, ucb_female)\n",
    "\n",
    "########\n",
    "\n",
    "print(\"\\n\\nDifferences between genders:\\n\")\n",
    "se_diff = np.sqrt(se_female_smokers**2 + se_male_smokers**2)\n",
    "print(\"SE difference between genders:\", se_diff)\n",
    "\n",
    "d = smokers.Smokers.Female - smokers.Smokers.Male\n",
    "lcb_smokers = d - 2*se_diff\n",
    "ucb_smokers = d + 2*se_diff\n",
    "print(\"\\nConfidence intervals for difference between genders proportions:\\n\", lcb_smokers, ucb_smokers)"
   ]
  },
  {
   "cell_type": "markdown",
   "metadata": {},
   "source": [
    "__Q2a.__ Discuss why it may be relevant to report the proportions of smokers who are female and male, and contrast this to reporting the proportions of males and females who smoke."
   ]
  },
  {
   "cell_type": "markdown",
   "metadata": {},
   "source": []
  },
  {
   "cell_type": "markdown",
   "metadata": {},
   "source": [
    "__Q2b.__ How does the width of the confidence interval for the difference of the two proportions compare to the widths of the confidence intervals for each proportion separately?"
   ]
  },
  {
   "cell_type": "markdown",
   "metadata": {},
   "source": []
  },
  {
   "cell_type": "markdown",
   "metadata": {},
   "source": [
    "## Question 3\n",
    "\n",
    "Construct a 95% interval for height ([BMXHT](https://wwwn.cdc.gov/Nchs/Nhanes/2015-2016/BMX_I.htm#BMXHT)) in centimeters.  Then convert height from centimeters to inches by dividing by 2.54, and construct a 95% confidence interval for height in inches.  Finally, convert the endpoints (the lower and upper confidence limits) of the confidence interval from inches to back to centimeters   "
   ]
  },
  {
   "cell_type": "code",
   "execution_count": null,
   "metadata": {},
   "outputs": [],
   "source": [
    "# enter your code here"
   ]
  },
  {
   "cell_type": "markdown",
   "metadata": {},
   "source": [
    "__Q3a.__ Describe how the confidence interval constructed in centimeters relates to the confidence interval constructed in inches."
   ]
  },
  {
   "cell_type": "markdown",
   "metadata": {},
   "source": []
  },
  {
   "cell_type": "markdown",
   "metadata": {},
   "source": [
    "## Question 4\n",
    "\n",
    "Partition the sample based on 10-year age bands, i.e. the resulting groups will consist of people with ages from 18-28, 29-38, etc. Construct 95% confidence intervals for the difference between the mean BMI for females and for males within each age band."
   ]
  },
  {
   "cell_type": "code",
   "execution_count": null,
   "metadata": {},
   "outputs": [],
   "source": [
    "# enter your code here"
   ]
  },
  {
   "cell_type": "markdown",
   "metadata": {},
   "source": [
    "__Q4a.__ How do the widths of these confidence intervals differ?  Provide an explanation for any substantial diferences in the confidence interval widths that you see."
   ]
  },
  {
   "cell_type": "markdown",
   "metadata": {},
   "source": []
  },
  {
   "cell_type": "markdown",
   "metadata": {},
   "source": [
    "## Question 5\n",
    "\n",
    "Construct a 95% confidence interval for the first and second systolic blood pressure measures, and for the difference between the first and second systolic blood pressure measurements within a subject."
   ]
  },
  {
   "cell_type": "code",
   "execution_count": null,
   "metadata": {},
   "outputs": [],
   "source": [
    "# enter code here"
   ]
  },
  {
   "cell_type": "markdown",
   "metadata": {},
   "source": [
    "__Q5a.__ Based on these confidence intervals, would you say that a difference of zero between the population mean values of the first and second systolic blood pressure measures is consistent with the data?"
   ]
  },
  {
   "cell_type": "markdown",
   "metadata": {},
   "source": []
  },
  {
   "cell_type": "markdown",
   "metadata": {},
   "source": [
    "\n",
    "__Q5b.__ Discuss how the width of the confidence interval for the within-subject difference compares to the widths of the confidence intervals for the first and second measures."
   ]
  },
  {
   "cell_type": "markdown",
   "metadata": {},
   "source": []
  },
  {
   "cell_type": "markdown",
   "metadata": {},
   "source": [
    "## Question 6\n",
    "\n",
    "Construct a 95% confidence interval for the mean difference between the average age of a smoker, and the average age of a non-smoker."
   ]
  },
  {
   "cell_type": "code",
   "execution_count": null,
   "metadata": {},
   "outputs": [],
   "source": [
    "# insert your code here"
   ]
  },
  {
   "cell_type": "markdown",
   "metadata": {},
   "source": [
    "__Q6a.__ Use graphical and numerical techniques to compare the variation in the ages of smokers to the variation in the ages of non-smokers.  "
   ]
  },
  {
   "cell_type": "code",
   "execution_count": 1,
   "metadata": {},
   "outputs": [],
   "source": [
    "# insert your code here"
   ]
  },
  {
   "cell_type": "markdown",
   "metadata": {},
   "source": [
    "__Q6b.__ Does it appear that uncertainty about the mean age of smokers, or uncertainty about the mean age of non-smokers contributed more to the uncertainty for the mean difference that we are focusing on here?"
   ]
  },
  {
   "cell_type": "markdown",
   "metadata": {},
   "source": []
  }
 ],
 "metadata": {
  "kernelspec": {
   "display_name": "Python 3",
   "language": "python",
   "name": "python3"
  },
  "language_info": {
   "codemirror_mode": {
    "name": "ipython",
    "version": 3
   },
   "file_extension": ".py",
   "mimetype": "text/x-python",
   "name": "python",
   "nbconvert_exporter": "python",
   "pygments_lexer": "ipython3",
   "version": "3.6.10"
  }
 },
 "nbformat": 4,
 "nbformat_minor": 2
}
